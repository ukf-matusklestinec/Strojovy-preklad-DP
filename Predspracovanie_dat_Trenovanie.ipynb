{
  "cells": [
    {
      "cell_type": "markdown",
      "metadata": {
        "id": "view-in-github",
        "colab_type": "text"
      },
      "source": [
        "<a href=\"https://colab.research.google.com/github/ukf-matusklestinec/Strojovy-preklad-DP/blob/main/Predspracovanie_dat_Trenovanie.ipynb\" target=\"_parent\"><img src=\"https://colab.research.google.com/assets/colab-badge.svg\" alt=\"Open In Colab\"/></a>"
      ]
    },
    {
      "cell_type": "code",
      "execution_count": null,
      "metadata": {
        "id": "9Jqtow9eJb-O"
      },
      "outputs": [],
      "source": [
        "# KORPUSY\n",
        "# https://opus.nlpl.eu/Europarl/en&sk/v7/Europarl\n",
        "# https://opus.nlpl.eu/ParaCrawl/en&sk/v9/ParaCrawl\n",
        "\n",
        "\n",
        "# https://github.com/google/sentencepiece - SentencePiece\n",
        "# https://opennmt.net/OpenNMT-tf/configuration.html - dokumentácia pre config"
      ]
    },
    {
      "cell_type": "code",
      "execution_count": 1,
      "metadata": {
        "colab": {
          "base_uri": "https://localhost:8080/"
        },
        "id": "6fLWVqsZQs9R",
        "outputId": "51290b85-0ff4-412c-dff3-10015c4746e7"
      },
      "outputs": [
        {
          "output_type": "stream",
          "name": "stdout",
          "text": [
            "Requirement already satisfied: sentencepiece in /usr/local/lib/python3.10/dist-packages (0.1.99)\n",
            "Collecting OpenNMT-py\n",
            "  Downloading OpenNMT_py-3.5.1-py3-none-any.whl (262 kB)\n",
            "\u001b[2K     \u001b[90m━━━━━━━━━━━━━━━━━━━━━━━━━━━━━━━━━━━━━━━━\u001b[0m \u001b[32m262.8/262.8 kB\u001b[0m \u001b[31m7.2 MB/s\u001b[0m eta \u001b[36m0:00:00\u001b[0m\n",
            "\u001b[?25hRequirement already satisfied: torch<2.3,>=2.1 in /usr/local/lib/python3.10/dist-packages (from OpenNMT-py) (2.2.1+cu121)\n",
            "Collecting configargparse (from OpenNMT-py)\n",
            "  Downloading ConfigArgParse-1.7-py3-none-any.whl (25 kB)\n",
            "Collecting ctranslate2<5,>=4 (from OpenNMT-py)\n",
            "  Downloading ctranslate2-4.1.0-cp310-cp310-manylinux_2_17_x86_64.manylinux2014_x86_64.whl (36.7 MB)\n",
            "\u001b[2K     \u001b[90m━━━━━━━━━━━━━━━━━━━━━━━━━━━━━━━━━━━━━━━━\u001b[0m \u001b[32m36.7/36.7 MB\u001b[0m \u001b[31m49.1 MB/s\u001b[0m eta \u001b[36m0:00:00\u001b[0m\n",
            "\u001b[?25hRequirement already satisfied: tensorboard>=2.3 in /usr/local/lib/python3.10/dist-packages (from OpenNMT-py) (2.15.2)\n",
            "Requirement already satisfied: flask in /usr/local/lib/python3.10/dist-packages (from OpenNMT-py) (2.2.5)\n",
            "Collecting waitress (from OpenNMT-py)\n",
            "  Downloading waitress-3.0.0-py3-none-any.whl (56 kB)\n",
            "\u001b[2K     \u001b[90m━━━━━━━━━━━━━━━━━━━━━━━━━━━━━━━━━━━━━━━━\u001b[0m \u001b[32m56.7/56.7 kB\u001b[0m \u001b[31m8.3 MB/s\u001b[0m eta \u001b[36m0:00:00\u001b[0m\n",
            "\u001b[?25hCollecting pyonmttok<2,>=1.37 (from OpenNMT-py)\n",
            "  Downloading pyonmttok-1.37.1-cp310-cp310-manylinux_2_17_x86_64.manylinux2014_x86_64.whl (17.0 MB)\n",
            "\u001b[2K     \u001b[90m━━━━━━━━━━━━━━━━━━━━━━━━━━━━━━━━━━━━━━━━\u001b[0m \u001b[32m17.0/17.0 MB\u001b[0m \u001b[31m48.9 MB/s\u001b[0m eta \u001b[36m0:00:00\u001b[0m\n",
            "\u001b[?25hRequirement already satisfied: pyyaml in /usr/local/lib/python3.10/dist-packages (from OpenNMT-py) (6.0.1)\n",
            "Collecting sacrebleu (from OpenNMT-py)\n",
            "  Downloading sacrebleu-2.4.1-py3-none-any.whl (106 kB)\n",
            "\u001b[2K     \u001b[90m━━━━━━━━━━━━━━━━━━━━━━━━━━━━━━━━━━━━━━━━\u001b[0m \u001b[32m106.6/106.6 kB\u001b[0m \u001b[31m15.4 MB/s\u001b[0m eta \u001b[36m0:00:00\u001b[0m\n",
            "\u001b[?25hCollecting rapidfuzz (from OpenNMT-py)\n",
            "  Downloading rapidfuzz-3.7.0-cp310-cp310-manylinux_2_17_x86_64.manylinux2014_x86_64.whl (3.4 MB)\n",
            "\u001b[2K     \u001b[90m━━━━━━━━━━━━━━━━━━━━━━━━━━━━━━━━━━━━━━━━\u001b[0m \u001b[32m3.4/3.4 MB\u001b[0m \u001b[31m93.5 MB/s\u001b[0m eta \u001b[36m0:00:00\u001b[0m\n",
            "\u001b[?25hCollecting pyahocorasick (from OpenNMT-py)\n",
            "  Downloading pyahocorasick-2.1.0-cp310-cp310-manylinux_2_5_x86_64.manylinux1_x86_64.manylinux_2_12_x86_64.manylinux2010_x86_64.whl (110 kB)\n",
            "\u001b[2K     \u001b[90m━━━━━━━━━━━━━━━━━━━━━━━━━━━━━━━━━━━━━━━━\u001b[0m \u001b[32m110.7/110.7 kB\u001b[0m \u001b[31m14.1 MB/s\u001b[0m eta \u001b[36m0:00:00\u001b[0m\n",
            "\u001b[?25hCollecting fasttext-wheel (from OpenNMT-py)\n",
            "  Downloading fasttext_wheel-0.9.2-cp310-cp310-manylinux_2_17_x86_64.manylinux2014_x86_64.whl (4.4 MB)\n",
            "\u001b[2K     \u001b[90m━━━━━━━━━━━━━━━━━━━━━━━━━━━━━━━━━━━━━━━━\u001b[0m \u001b[32m4.4/4.4 MB\u001b[0m \u001b[31m97.1 MB/s\u001b[0m eta \u001b[36m0:00:00\u001b[0m\n",
            "\u001b[?25hRequirement already satisfied: spacy in /usr/local/lib/python3.10/dist-packages (from OpenNMT-py) (3.7.4)\n",
            "Requirement already satisfied: six in /usr/local/lib/python3.10/dist-packages (from OpenNMT-py) (1.16.0)\n",
            "Requirement already satisfied: setuptools in /usr/local/lib/python3.10/dist-packages (from ctranslate2<5,>=4->OpenNMT-py) (67.7.2)\n",
            "Requirement already satisfied: numpy in /usr/local/lib/python3.10/dist-packages (from ctranslate2<5,>=4->OpenNMT-py) (1.25.2)\n",
            "Requirement already satisfied: absl-py>=0.4 in /usr/local/lib/python3.10/dist-packages (from tensorboard>=2.3->OpenNMT-py) (1.4.0)\n",
            "Requirement already satisfied: grpcio>=1.48.2 in /usr/local/lib/python3.10/dist-packages (from tensorboard>=2.3->OpenNMT-py) (1.62.1)\n",
            "Requirement already satisfied: google-auth<3,>=1.6.3 in /usr/local/lib/python3.10/dist-packages (from tensorboard>=2.3->OpenNMT-py) (2.27.0)\n",
            "Requirement already satisfied: google-auth-oauthlib<2,>=0.5 in /usr/local/lib/python3.10/dist-packages (from tensorboard>=2.3->OpenNMT-py) (1.2.0)\n",
            "Requirement already satisfied: markdown>=2.6.8 in /usr/local/lib/python3.10/dist-packages (from tensorboard>=2.3->OpenNMT-py) (3.6)\n",
            "Requirement already satisfied: protobuf!=4.24.0,>=3.19.6 in /usr/local/lib/python3.10/dist-packages (from tensorboard>=2.3->OpenNMT-py) (3.20.3)\n",
            "Requirement already satisfied: requests<3,>=2.21.0 in /usr/local/lib/python3.10/dist-packages (from tensorboard>=2.3->OpenNMT-py) (2.31.0)\n",
            "Requirement already satisfied: tensorboard-data-server<0.8.0,>=0.7.0 in /usr/local/lib/python3.10/dist-packages (from tensorboard>=2.3->OpenNMT-py) (0.7.2)\n",
            "Requirement already satisfied: werkzeug>=1.0.1 in /usr/local/lib/python3.10/dist-packages (from tensorboard>=2.3->OpenNMT-py) (3.0.1)\n",
            "Requirement already satisfied: filelock in /usr/local/lib/python3.10/dist-packages (from torch<2.3,>=2.1->OpenNMT-py) (3.13.1)\n",
            "Requirement already satisfied: typing-extensions>=4.8.0 in /usr/local/lib/python3.10/dist-packages (from torch<2.3,>=2.1->OpenNMT-py) (4.10.0)\n",
            "Requirement already satisfied: sympy in /usr/local/lib/python3.10/dist-packages (from torch<2.3,>=2.1->OpenNMT-py) (1.12)\n",
            "Requirement already satisfied: networkx in /usr/local/lib/python3.10/dist-packages (from torch<2.3,>=2.1->OpenNMT-py) (3.2.1)\n",
            "Requirement already satisfied: jinja2 in /usr/local/lib/python3.10/dist-packages (from torch<2.3,>=2.1->OpenNMT-py) (3.1.3)\n",
            "Requirement already satisfied: fsspec in /usr/local/lib/python3.10/dist-packages (from torch<2.3,>=2.1->OpenNMT-py) (2023.6.0)\n",
            "Collecting nvidia-cuda-nvrtc-cu12==12.1.105 (from torch<2.3,>=2.1->OpenNMT-py)\n",
            "  Downloading nvidia_cuda_nvrtc_cu12-12.1.105-py3-none-manylinux1_x86_64.whl (23.7 MB)\n",
            "\u001b[2K     \u001b[90m━━━━━━━━━━━━━━━━━━━━━━━━━━━━━━━━━━━━━━━━\u001b[0m \u001b[32m23.7/23.7 MB\u001b[0m \u001b[31m68.6 MB/s\u001b[0m eta \u001b[36m0:00:00\u001b[0m\n",
            "\u001b[?25hCollecting nvidia-cuda-runtime-cu12==12.1.105 (from torch<2.3,>=2.1->OpenNMT-py)\n",
            "  Downloading nvidia_cuda_runtime_cu12-12.1.105-py3-none-manylinux1_x86_64.whl (823 kB)\n",
            "\u001b[2K     \u001b[90m━━━━━━━━━━━━━━━━━━━━━━━━━━━━━━━━━━━━━━━━\u001b[0m \u001b[32m823.6/823.6 kB\u001b[0m \u001b[31m73.3 MB/s\u001b[0m eta \u001b[36m0:00:00\u001b[0m\n",
            "\u001b[?25hCollecting nvidia-cuda-cupti-cu12==12.1.105 (from torch<2.3,>=2.1->OpenNMT-py)\n",
            "  Downloading nvidia_cuda_cupti_cu12-12.1.105-py3-none-manylinux1_x86_64.whl (14.1 MB)\n",
            "\u001b[2K     \u001b[90m━━━━━━━━━━━━━━━━━━━━━━━━━━━━━━━━━━━━━━━━\u001b[0m \u001b[32m14.1/14.1 MB\u001b[0m \u001b[31m108.1 MB/s\u001b[0m eta \u001b[36m0:00:00\u001b[0m\n",
            "\u001b[?25hCollecting nvidia-cudnn-cu12==8.9.2.26 (from torch<2.3,>=2.1->OpenNMT-py)\n",
            "  Downloading nvidia_cudnn_cu12-8.9.2.26-py3-none-manylinux1_x86_64.whl (731.7 MB)\n",
            "\u001b[2K     \u001b[90m━━━━━━━━━━━━━━━━━━━━━━━━━━━━━━━━━━━━━━━━\u001b[0m \u001b[32m731.7/731.7 MB\u001b[0m \u001b[31m2.3 MB/s\u001b[0m eta \u001b[36m0:00:00\u001b[0m\n",
            "\u001b[?25hCollecting nvidia-cublas-cu12==12.1.3.1 (from torch<2.3,>=2.1->OpenNMT-py)\n",
            "  Downloading nvidia_cublas_cu12-12.1.3.1-py3-none-manylinux1_x86_64.whl (410.6 MB)\n",
            "\u001b[2K     \u001b[90m━━━━━━━━━━━━━━━━━━━━━━━━━━━━━━━━━━━━━━━━\u001b[0m \u001b[32m410.6/410.6 MB\u001b[0m \u001b[31m3.1 MB/s\u001b[0m eta \u001b[36m0:00:00\u001b[0m\n",
            "\u001b[?25hCollecting nvidia-cufft-cu12==11.0.2.54 (from torch<2.3,>=2.1->OpenNMT-py)\n",
            "  Downloading nvidia_cufft_cu12-11.0.2.54-py3-none-manylinux1_x86_64.whl (121.6 MB)\n",
            "\u001b[2K     \u001b[90m━━━━━━━━━━━━━━━━━━━━━━━━━━━━━━━━━━━━━━━━\u001b[0m \u001b[32m121.6/121.6 MB\u001b[0m \u001b[31m13.9 MB/s\u001b[0m eta \u001b[36m0:00:00\u001b[0m\n",
            "\u001b[?25hCollecting nvidia-curand-cu12==10.3.2.106 (from torch<2.3,>=2.1->OpenNMT-py)\n",
            "  Downloading nvidia_curand_cu12-10.3.2.106-py3-none-manylinux1_x86_64.whl (56.5 MB)\n",
            "\u001b[2K     \u001b[90m━━━━━━━━━━━━━━━━━━━━━━━━━━━━━━━━━━━━━━━━\u001b[0m \u001b[32m56.5/56.5 MB\u001b[0m \u001b[31m30.5 MB/s\u001b[0m eta \u001b[36m0:00:00\u001b[0m\n",
            "\u001b[?25hCollecting nvidia-cusolver-cu12==11.4.5.107 (from torch<2.3,>=2.1->OpenNMT-py)\n",
            "  Downloading nvidia_cusolver_cu12-11.4.5.107-py3-none-manylinux1_x86_64.whl (124.2 MB)\n",
            "\u001b[2K     \u001b[90m━━━━━━━━━━━━━━━━━━━━━━━━━━━━━━━━━━━━━━━━\u001b[0m \u001b[32m124.2/124.2 MB\u001b[0m \u001b[31m7.2 MB/s\u001b[0m eta \u001b[36m0:00:00\u001b[0m\n",
            "\u001b[?25hCollecting nvidia-cusparse-cu12==12.1.0.106 (from torch<2.3,>=2.1->OpenNMT-py)\n",
            "  Downloading nvidia_cusparse_cu12-12.1.0.106-py3-none-manylinux1_x86_64.whl (196.0 MB)\n",
            "\u001b[2K     \u001b[90m━━━━━━━━━━━━━━━━━━━━━━━━━━━━━━━━━━━━━━━━\u001b[0m \u001b[32m196.0/196.0 MB\u001b[0m \u001b[31m4.0 MB/s\u001b[0m eta \u001b[36m0:00:00\u001b[0m\n",
            "\u001b[?25hCollecting nvidia-nccl-cu12==2.19.3 (from torch<2.3,>=2.1->OpenNMT-py)\n",
            "  Downloading nvidia_nccl_cu12-2.19.3-py3-none-manylinux1_x86_64.whl (166.0 MB)\n",
            "\u001b[2K     \u001b[90m━━━━━━━━━━━━━━━━━━━━━━━━━━━━━━━━━━━━━━━━\u001b[0m \u001b[32m166.0/166.0 MB\u001b[0m \u001b[31m10.5 MB/s\u001b[0m eta \u001b[36m0:00:00\u001b[0m\n",
            "\u001b[?25hCollecting nvidia-nvtx-cu12==12.1.105 (from torch<2.3,>=2.1->OpenNMT-py)\n",
            "  Downloading nvidia_nvtx_cu12-12.1.105-py3-none-manylinux1_x86_64.whl (99 kB)\n",
            "\u001b[2K     \u001b[90m━━━━━━━━━━━━━━━━━━━━━━━━━━━━━━━━━━━━━━━━\u001b[0m \u001b[32m99.1/99.1 kB\u001b[0m \u001b[31m14.8 MB/s\u001b[0m eta \u001b[36m0:00:00\u001b[0m\n",
            "\u001b[?25hRequirement already satisfied: triton==2.2.0 in /usr/local/lib/python3.10/dist-packages (from torch<2.3,>=2.1->OpenNMT-py) (2.2.0)\n",
            "Collecting nvidia-nvjitlink-cu12 (from nvidia-cusolver-cu12==11.4.5.107->torch<2.3,>=2.1->OpenNMT-py)\n",
            "  Downloading nvidia_nvjitlink_cu12-12.4.99-py3-none-manylinux2014_x86_64.whl (21.1 MB)\n",
            "\u001b[2K     \u001b[90m━━━━━━━━━━━━━━━━━━━━━━━━━━━━━━━━━━━━━━━━\u001b[0m \u001b[32m21.1/21.1 MB\u001b[0m \u001b[31m91.7 MB/s\u001b[0m eta \u001b[36m0:00:00\u001b[0m\n",
            "\u001b[?25hCollecting pybind11>=2.2 (from fasttext-wheel->OpenNMT-py)\n",
            "  Downloading pybind11-2.11.1-py3-none-any.whl (227 kB)\n",
            "\u001b[2K     \u001b[90m━━━━━━━━━━━━━━━━━━━━━━━━━━━━━━━━━━━━━━━━\u001b[0m \u001b[32m227.7/227.7 kB\u001b[0m \u001b[31m31.0 MB/s\u001b[0m eta \u001b[36m0:00:00\u001b[0m\n",
            "\u001b[?25hRequirement already satisfied: itsdangerous>=2.0 in /usr/local/lib/python3.10/dist-packages (from flask->OpenNMT-py) (2.1.2)\n",
            "Requirement already satisfied: click>=8.0 in /usr/local/lib/python3.10/dist-packages (from flask->OpenNMT-py) (8.1.7)\n",
            "Collecting portalocker (from sacrebleu->OpenNMT-py)\n",
            "  Downloading portalocker-2.8.2-py3-none-any.whl (17 kB)\n",
            "Requirement already satisfied: regex in /usr/local/lib/python3.10/dist-packages (from sacrebleu->OpenNMT-py) (2023.12.25)\n",
            "Requirement already satisfied: tabulate>=0.8.9 in /usr/local/lib/python3.10/dist-packages (from sacrebleu->OpenNMT-py) (0.9.0)\n",
            "Collecting colorama (from sacrebleu->OpenNMT-py)\n",
            "  Downloading colorama-0.4.6-py2.py3-none-any.whl (25 kB)\n",
            "Requirement already satisfied: lxml in /usr/local/lib/python3.10/dist-packages (from sacrebleu->OpenNMT-py) (4.9.4)\n",
            "Requirement already satisfied: spacy-legacy<3.1.0,>=3.0.11 in /usr/local/lib/python3.10/dist-packages (from spacy->OpenNMT-py) (3.0.12)\n",
            "Requirement already satisfied: spacy-loggers<2.0.0,>=1.0.0 in /usr/local/lib/python3.10/dist-packages (from spacy->OpenNMT-py) (1.0.5)\n",
            "Requirement already satisfied: murmurhash<1.1.0,>=0.28.0 in /usr/local/lib/python3.10/dist-packages (from spacy->OpenNMT-py) (1.0.10)\n",
            "Requirement already satisfied: cymem<2.1.0,>=2.0.2 in /usr/local/lib/python3.10/dist-packages (from spacy->OpenNMT-py) (2.0.8)\n",
            "Requirement already satisfied: preshed<3.1.0,>=3.0.2 in /usr/local/lib/python3.10/dist-packages (from spacy->OpenNMT-py) (3.0.9)\n",
            "Requirement already satisfied: thinc<8.3.0,>=8.2.2 in /usr/local/lib/python3.10/dist-packages (from spacy->OpenNMT-py) (8.2.3)\n",
            "Requirement already satisfied: wasabi<1.2.0,>=0.9.1 in /usr/local/lib/python3.10/dist-packages (from spacy->OpenNMT-py) (1.1.2)\n",
            "Requirement already satisfied: srsly<3.0.0,>=2.4.3 in /usr/local/lib/python3.10/dist-packages (from spacy->OpenNMT-py) (2.4.8)\n",
            "Requirement already satisfied: catalogue<2.1.0,>=2.0.6 in /usr/local/lib/python3.10/dist-packages (from spacy->OpenNMT-py) (2.0.10)\n",
            "Requirement already satisfied: weasel<0.4.0,>=0.1.0 in /usr/local/lib/python3.10/dist-packages (from spacy->OpenNMT-py) (0.3.4)\n",
            "Requirement already satisfied: typer<0.10.0,>=0.3.0 in /usr/local/lib/python3.10/dist-packages (from spacy->OpenNMT-py) (0.9.0)\n",
            "Requirement already satisfied: smart-open<7.0.0,>=5.2.1 in /usr/local/lib/python3.10/dist-packages (from spacy->OpenNMT-py) (6.4.0)\n",
            "Requirement already satisfied: tqdm<5.0.0,>=4.38.0 in /usr/local/lib/python3.10/dist-packages (from spacy->OpenNMT-py) (4.66.2)\n",
            "Requirement already satisfied: pydantic!=1.8,!=1.8.1,<3.0.0,>=1.7.4 in /usr/local/lib/python3.10/dist-packages (from spacy->OpenNMT-py) (2.6.4)\n",
            "Requirement already satisfied: packaging>=20.0 in /usr/local/lib/python3.10/dist-packages (from spacy->OpenNMT-py) (24.0)\n",
            "Requirement already satisfied: langcodes<4.0.0,>=3.2.0 in /usr/local/lib/python3.10/dist-packages (from spacy->OpenNMT-py) (3.3.0)\n",
            "Requirement already satisfied: cachetools<6.0,>=2.0.0 in /usr/local/lib/python3.10/dist-packages (from google-auth<3,>=1.6.3->tensorboard>=2.3->OpenNMT-py) (5.3.3)\n",
            "Requirement already satisfied: pyasn1-modules>=0.2.1 in /usr/local/lib/python3.10/dist-packages (from google-auth<3,>=1.6.3->tensorboard>=2.3->OpenNMT-py) (0.3.0)\n",
            "Requirement already satisfied: rsa<5,>=3.1.4 in /usr/local/lib/python3.10/dist-packages (from google-auth<3,>=1.6.3->tensorboard>=2.3->OpenNMT-py) (4.9)\n",
            "Requirement already satisfied: requests-oauthlib>=0.7.0 in /usr/local/lib/python3.10/dist-packages (from google-auth-oauthlib<2,>=0.5->tensorboard>=2.3->OpenNMT-py) (1.4.0)\n",
            "Requirement already satisfied: MarkupSafe>=2.0 in /usr/local/lib/python3.10/dist-packages (from jinja2->torch<2.3,>=2.1->OpenNMT-py) (2.1.5)\n",
            "Requirement already satisfied: annotated-types>=0.4.0 in /usr/local/lib/python3.10/dist-packages (from pydantic!=1.8,!=1.8.1,<3.0.0,>=1.7.4->spacy->OpenNMT-py) (0.6.0)\n",
            "Requirement already satisfied: pydantic-core==2.16.3 in /usr/local/lib/python3.10/dist-packages (from pydantic!=1.8,!=1.8.1,<3.0.0,>=1.7.4->spacy->OpenNMT-py) (2.16.3)\n",
            "Requirement already satisfied: charset-normalizer<4,>=2 in /usr/local/lib/python3.10/dist-packages (from requests<3,>=2.21.0->tensorboard>=2.3->OpenNMT-py) (3.3.2)\n",
            "Requirement already satisfied: idna<4,>=2.5 in /usr/local/lib/python3.10/dist-packages (from requests<3,>=2.21.0->tensorboard>=2.3->OpenNMT-py) (3.6)\n",
            "Requirement already satisfied: urllib3<3,>=1.21.1 in /usr/local/lib/python3.10/dist-packages (from requests<3,>=2.21.0->tensorboard>=2.3->OpenNMT-py) (2.0.7)\n",
            "Requirement already satisfied: certifi>=2017.4.17 in /usr/local/lib/python3.10/dist-packages (from requests<3,>=2.21.0->tensorboard>=2.3->OpenNMT-py) (2024.2.2)\n",
            "Requirement already satisfied: blis<0.8.0,>=0.7.8 in /usr/local/lib/python3.10/dist-packages (from thinc<8.3.0,>=8.2.2->spacy->OpenNMT-py) (0.7.11)\n",
            "Requirement already satisfied: confection<1.0.0,>=0.0.1 in /usr/local/lib/python3.10/dist-packages (from thinc<8.3.0,>=8.2.2->spacy->OpenNMT-py) (0.1.4)\n",
            "Requirement already satisfied: cloudpathlib<0.17.0,>=0.7.0 in /usr/local/lib/python3.10/dist-packages (from weasel<0.4.0,>=0.1.0->spacy->OpenNMT-py) (0.16.0)\n",
            "Requirement already satisfied: mpmath>=0.19 in /usr/local/lib/python3.10/dist-packages (from sympy->torch<2.3,>=2.1->OpenNMT-py) (1.3.0)\n",
            "Requirement already satisfied: pyasn1<0.6.0,>=0.4.6 in /usr/local/lib/python3.10/dist-packages (from pyasn1-modules>=0.2.1->google-auth<3,>=1.6.3->tensorboard>=2.3->OpenNMT-py) (0.5.1)\n",
            "Requirement already satisfied: oauthlib>=3.0.0 in /usr/local/lib/python3.10/dist-packages (from requests-oauthlib>=0.7.0->google-auth-oauthlib<2,>=0.5->tensorboard>=2.3->OpenNMT-py) (3.2.2)\n",
            "Installing collected packages: waitress, rapidfuzz, pyonmttok, pybind11, pyahocorasick, portalocker, nvidia-nvtx-cu12, nvidia-nvjitlink-cu12, nvidia-nccl-cu12, nvidia-curand-cu12, nvidia-cufft-cu12, nvidia-cuda-runtime-cu12, nvidia-cuda-nvrtc-cu12, nvidia-cuda-cupti-cu12, nvidia-cublas-cu12, ctranslate2, configargparse, colorama, sacrebleu, nvidia-cusparse-cu12, nvidia-cudnn-cu12, fasttext-wheel, nvidia-cusolver-cu12, OpenNMT-py\n",
            "Successfully installed OpenNMT-py-3.5.1 colorama-0.4.6 configargparse-1.7 ctranslate2-4.1.0 fasttext-wheel-0.9.2 nvidia-cublas-cu12-12.1.3.1 nvidia-cuda-cupti-cu12-12.1.105 nvidia-cuda-nvrtc-cu12-12.1.105 nvidia-cuda-runtime-cu12-12.1.105 nvidia-cudnn-cu12-8.9.2.26 nvidia-cufft-cu12-11.0.2.54 nvidia-curand-cu12-10.3.2.106 nvidia-cusolver-cu12-11.4.5.107 nvidia-cusparse-cu12-12.1.0.106 nvidia-nccl-cu12-2.19.3 nvidia-nvjitlink-cu12-12.4.99 nvidia-nvtx-cu12-12.1.105 portalocker-2.8.2 pyahocorasick-2.1.0 pybind11-2.11.1 pyonmttok-1.37.1 rapidfuzz-3.7.0 sacrebleu-2.4.1 waitress-3.0.0\n",
            "Collecting langdetect\n",
            "  Downloading langdetect-1.0.9.tar.gz (981 kB)\n",
            "\u001b[2K     \u001b[90m━━━━━━━━━━━━━━━━━━━━━━━━━━━━━━━━━━━━━━━━\u001b[0m \u001b[32m981.5/981.5 kB\u001b[0m \u001b[31m15.7 MB/s\u001b[0m eta \u001b[36m0:00:00\u001b[0m\n",
            "\u001b[?25h  Preparing metadata (setup.py) ... \u001b[?25l\u001b[?25hdone\n",
            "Requirement already satisfied: six in /usr/local/lib/python3.10/dist-packages (from langdetect) (1.16.0)\n",
            "Building wheels for collected packages: langdetect\n",
            "  Building wheel for langdetect (setup.py) ... \u001b[?25l\u001b[?25hdone\n",
            "  Created wheel for langdetect: filename=langdetect-1.0.9-py3-none-any.whl size=993227 sha256=70c1dc223d60f3bfd1a1a0f97a91ae493287ccf3772b4be751cc2abd04c9198e\n",
            "  Stored in directory: /root/.cache/pip/wheels/95/03/7d/59ea870c70ce4e5a370638b5462a7711ab78fba2f655d05106\n",
            "Successfully built langdetect\n",
            "Installing collected packages: langdetect\n",
            "Successfully installed langdetect-1.0.9\n"
          ]
        }
      ],
      "source": [
        "!pip install sentencepiece\n",
        "!pip3 install OpenNMT-py\n",
        "!pip install langdetect"
      ]
    },
    {
      "cell_type": "code",
      "execution_count": 2,
      "metadata": {
        "id": "HMvnB4x9L4ji"
      },
      "outputs": [],
      "source": [
        "import pandas as pd\n",
        "import numpy as np\n",
        "import csv\n",
        "import sentencepiece as spm\n",
        "import time\n",
        "from langdetect import detect, LangDetectException, DetectorFactory  # pre identifikáciu jazykov\n",
        "import unicodedata  # pre normalizáciu unicode\n",
        "\n",
        "import seaborn as sns\n",
        "import matplotlib.pyplot as plt\n",
        "\n",
        "import torch\n",
        "import sacrebleu"
      ]
    },
    {
      "cell_type": "code",
      "execution_count": null,
      "metadata": {
        "id": "Kvc1X3N6Qy-I"
      },
      "outputs": [],
      "source": [
        "#en_parl = \"/content/drive/MyDrive/Colab_Notebooks/Diplomovka/Dáta/europarl/europarl.sk-en.en\"\n",
        "#sk_parl = \"/content/drive/MyDrive/Colab_Notebooks/Diplomovka/Dáta/europarl/europarl.sk-en.sk\"\n",
        "\n",
        "en_parl = \"/content/drive/MyDrive/Colab_Notebooks/Diplomovka/Dáta/ParaCrawl/ParaCrawl.en\"\n",
        "sk_parl = \"/content/drive/MyDrive/Colab_Notebooks/Diplomovka/Dáta/ParaCrawl/ParaCrawl.sk\"\n",
        "\n",
        "#en_parl = \"/content/drive/MyDrive/Colab_Notebooks/Diplomovka/Dáta/ParaCrawl_10/ParaCrawl.en\"\n",
        "#sk_parl = \"/content/drive/MyDrive/Colab_Notebooks/Diplomovka/Dáta/ParaCrawl_10/ParaCrawl.sk\""
      ]
    },
    {
      "cell_type": "markdown",
      "metadata": {
        "id": "Ua4lYSqcRE0A"
      },
      "source": [
        "# Filtrovanie/Čistenie korpusu"
      ]
    },
    {
      "cell_type": "code",
      "execution_count": null,
      "metadata": {
        "id": "nZ21lGfLvbTs"
      },
      "outputs": [],
      "source": [
        "# funkcia na výpis hodnôt ako čas, počet zmenených riadkov atď.\n",
        "def print_status(operacia, pocet_riadkov, pocet_odst_riadkov, prejdeny_cas):\n",
        "    print(f\"{operacia} Riadky: {pocet_riadkov} | Odstránené riadky: {pocet_odst_riadkov} | Čas: {prejdeny_cas:.2f} sekúnd\")"
      ]
    },
    {
      "cell_type": "markdown",
      "metadata": {
        "id": "Oahi_FdYv9BY"
      },
      "source": [
        "## Unicode normalizáca pre zistenie, aké znaky sa nachádzajú v našom korpuse"
      ]
    },
    {
      "cell_type": "markdown",
      "metadata": {
        "id": "s6DQxXN_wETp"
      },
      "source": [
        "V prvotných pokusoch sa nachádzal v hlavnej časti predspracovania, ale v dôsledku neskorších zistení slúži skôr ako nástroj na zistenie špecifických znakov. Podľa zistení následne vieme vytvoriť pravidlá, ktoré upravia tieto znaky."
      ]
    },
    {
      "cell_type": "code",
      "execution_count": null,
      "metadata": {
        "colab": {
          "base_uri": "https://localhost:8080/"
        },
        "id": "FggIuqGfve6j",
        "outputId": "0cdd3375-4ae6-42fe-c5b0-fdb2cad74935"
      },
      "outputs": [
        {
          "name": "stdout",
          "output_type": "stream",
          "text": [
            "Rozmery datasetu (riadky, stĺpce): (640715, 2)\n",
            "Príklady zmenených riadkov pre 'Source':\n",
            "Pred: (The order of business was adopted¹) | Po: (The order of business was adopted1)\n",
            "Pred: Dr Sean Barrett, a senior lecturer in economics at Trinity College Dublin, has today described the reduction of the corporation tax rate in Ireland from 50% in the 1980s to 12½% a decade later as 'the most important policy measure that achieved the transformation of Ireland'. | Po: Dr Sean Barrett, a senior lecturer in economics at Trinity College Dublin, has today described the reduction of the corporation tax rate in Ireland from 50% in the 1980s to 121⁄2% a decade later as 'the most important policy measure that achieved the transformation of Ireland'.\n",
            "Pred: I agree that it is absolutely essential to avoid an increase of more than 2ºC in the global temperature, so as to avoid the most catastrophic scenarios, suggesting that the ambitious EU targets for the reduction of greenhouse gas emissions should be maintained. | Po: I agree that it is absolutely essential to avoid an increase of more than 2oC in the global temperature, so as to avoid the most catastrophic scenarios, suggesting that the ambitious EU targets for the reduction of greenhouse gas emissions should be maintained.\n",
            "Pred: The report considers the 2˚C ceiling on global warming to be a 'strategic objective' of the EU, while accepting that 'such a level of warming would already heavily impact on our society and individual lifestyles'. | Po: The report considers the 2 ̊C ceiling on global warming to be a 'strategic objective' of the EU, while accepting that 'such a level of warming would already heavily impact on our society and individual lifestyles'.\n",
            "Pred: Let me point out the following: according to the formal data, every 4½ seconds an employee has an accident and every 3½ minutes an employee loses his life. | Po: Let me point out the following: according to the formal data, every 41⁄2 seconds an employee has an accident and every 31⁄2 minutes an employee loses his life.\n",
            "Pred: This commitment is not in itself sufficient to stop the warming at the magic limit of 2ºC, as research tells us is required. | Po: This commitment is not in itself sufficient to stop the warming at the magic limit of 2oC, as research tells us is required.\n",
            "Pred: But I am pleased to learn that the 30% target will remain a priority objective in order to avoid the average temperature rising by more than 2 ºC, as was specified at the European Council meeting held in March 2007. | Po: But I am pleased to learn that the 30% target will remain a priority objective in order to avoid the average temperature rising by more than 2 oC, as was specified at the European Council meeting held in March 2007.\n",
            "Pred: According to calculations, Europe uses 500 billion m³ of gas per year, and this demand may grow, according to certain analyses, by as much as 30% in the next 20 years. | Po: According to calculations, Europe uses 500 billion m3 of gas per year, and this demand may grow, according to certain analyses, by as much as 30% in the next 20 years.\n",
            "Pred: This report calls on the Commission to monitor closely and analyse the very latest scientific research findings in order to assess in particular whether the EU's 2ºC target would really achieve the aim of preventing dangerous climate change effects. | Po: This report calls on the Commission to monitor closely and analyse the very latest scientific research findings in order to assess in particular whether the EU's 2oC target would really achieve the aim of preventing dangerous climate change effects.\n",
            "Pred: At the same time, it emphasises the importance of the EU and other industrialised nations setting, as a group, a medium-term target for cutting greenhouse gas emissions by 25-40% by 2020, as well as a long-term target for cutting emissions by at least 80% by 2050, compared to 1990, while continuing to focus on the target of limiting the rise in the average global temperature to 2ºC above pre-industrial levels, thereby giving a 50% probability of achieving this objective. | Po: At the same time, it emphasises the importance of the EU and other industrialised nations setting, as a group, a medium-term target for cutting greenhouse gas emissions by 25-40% by 2020, as well as a long-term target for cutting emissions by at least 80% by 2050, compared to 1990, while continuing to focus on the target of limiting the rise in the average global temperature to 2oC above pre-industrial levels, thereby giving a 50% probability of achieving this objective.\n",
            "Pred: The more than 150 recommendations included in this report cover most of the areas where improvements can be made to achieve the European objective of reducing the rise in temperature to 2ºC. | Po: The more than 150 recommendations included in this report cover most of the areas where improvements can be made to achieve the European objective of reducing the rise in temperature to 2oC.\n",
            "Pred: I believe that the reduction in pollution originating from various industrial sources will help the European Union achieve its aim of maintaining the rise in global temperature below 2 ºC. | Po: I believe that the reduction in pollution originating from various industrial sources will help the European Union achieve its aim of maintaining the rise in global temperature below 2 oC.\n",
            "Pred: This directive also covers small buildings with a useable area of less than 1 000 m² as well as minor energy-relevant renovation work, and also the replacement of boilers and windows. | Po: This directive also covers small buildings with a useable area of less than 1 000 m2 as well as minor energy-relevant renovation work, and also the replacement of boilers and windows.\n",
            "Pred: The 2ºC objective, or even the 1.5ºC objective, is mentioned in the Copenhagen Accord and, if we wish to achieve it, we must now really get down to business with reducing our own emissions - by more than 20% - and also with providing the funds for the first three years. | Po: The 2oC objective, or even the 1.5oC objective, is mentioned in the Copenhagen Accord and, if we wish to achieve it, we must now really get down to business with reducing our own emissions - by more than 20% - and also with providing the funds for the first three years.\n",
            "Pred: I voted for the European Parliament resolution of 25 November 2010 on the UN climate change conference in Cancún with a view to meeting the overall objective of limiting the annual mean surface temperature increase to 2 ºC ('the 2 ºC objective'). | Po: I voted for the European Parliament resolution of 25 November 2010 on the UN climate change conference in Cancún with a view to meeting the overall objective of limiting the annual mean surface temperature increase to 2 oC ('the 2 oC objective').\n",
            "Pred: It emphasises that substantive steps need to be agreed in Cancún to pave the way for the conclusion of a comprehensive international post-2012 agreement in South Africa in 2011, which should be in line with the latest developments in science and consistent with at least achieving the 2 ºC objective, without prejudice to moving to a 1.5 ºC temperature increase limit in order to safeguard the survival of all nations, peoples and ecosystems. | Po: It emphasises that substantive steps need to be agreed in Cancún to pave the way for the conclusion of a comprehensive international post-2012 agreement in South Africa in 2011, which should be in line with the latest developments in science and consistent with at least achieving the 2 oC objective, without prejudice to moving to a 1.5 oC temperature increase limit in order to safeguard the survival of all nations, peoples and ecosystems.\n",
            "Pred: in writing. - The ENVI resolution was fairly narrowly adopted (final vote 292/274/38) with the following changes/remarks: the reference to 'without prejudice to moving to a 1.5 ºC limit' was deleted with a narrow majority (RCV Amendment 14 and Amendment 18: 307/304/xx); the explicit mention that LULUCF and AAU loopholes could nullify all Annex I targets was deleted (Amendment 16: 316/301/xx), but other paragraphs requiring robust rules that are designed to deliver emissions reductions from Annex I remained. | Po: in writing. - The ENVI resolution was fairly narrowly adopted (final vote 292/274/38) with the following changes/remarks: the reference to 'without prejudice to moving to a 1.5 oC limit' was deleted with a narrow majority (RCV Amendment 14 and Amendment 18: 307/304/xx); the explicit mention that LULUCF and AAU loopholes could nullify all Annex I targets was deleted (Amendment 16: 316/301/xx), but other paragraphs requiring robust rules that are designed to deliver emissions reductions from Annex I remained.\n",
            "Pred: Our common goal is to limit global warming to the celebrated 2 ºC. | Po: Our common goal is to limit global warming to the celebrated 2 oC.\n",
            "Pred: This is why it is important to remember, for example, that the proposed regulation, through the amendment of Article 7.º-A, does not require a State to recognise as a marriage - even if only to ensure its dissolution - an act that is not considered as such by its national legislation, or which would be contrary to the principle of subsidiarity. | Po: This is why it is important to remember, for example, that the proposed regulation, through the amendment of Article 7.o-A, does not require a State to recognise as a marriage - even if only to ensure its dissolution - an act that is not considered as such by its national legislation, or which would be contrary to the principle of subsidiarity.\n",
            "Pred: Satellite pictures show that around 25 000 km² of African forests and other vegetation have been lost in the last 30 years. | Po: Satellite pictures show that around 25 000 km2 of African forests and other vegetation have been lost in the last 30 years.\n",
            "\n",
            "Príklady zmenených riadkov pre 'Target':\n",
            "Pred: (Program práce bol prijatý¹) | Po: (Program práce bol prijatý1)\n",
            "Pred: Súhlasím, že je bezpodmienečne nevyhnutné zabrániť zvýšeniu globálnej teploty o viac ako 2 ºC, a vyhnúť sa tak najkatastrofickejšiemu scenáru tým, že budeme poukazovať na to, aby sa podporovali odvážne ciele EÚ týkajúce sa zníženia emisií skleníkových plynov. | Po: Súhlasím, že je bezpodmienečne nevyhnutné zabrániť zvýšeniu globálnej teploty o viac ako 2 oC, a vyhnúť sa tak najkatastrofickejšiemu scenáru tým, že budeme poukazovať na to, aby sa podporovali odvážne ciele EÚ týkajúce sa zníženia emisií skleníkových plynov.\n",
            "Pred: Správa usudzuje, že strop globálneho otepľovania 2 ˚C je \"strategickým cieľom\" EÚ, a zároveň pripúšťa, že \"takáto úroveň otepľovania by mala zásadný vplyv na našu spoločnosť a životný štýl jednotlivcov\". | Po: Správa usudzuje, že strop globálneho otepľovania 2  ̊C je \"strategickým cieľom\" EÚ, a zároveň pripúšťa, že \"takáto úroveň otepľovania by mala zásadný vplyv na našu spoločnosť a životný štýl jednotlivcov\".\n",
            "Pred: Tento záväzok sám osebe nestačí na zastavenie otepľovania na magickej hranici 2 ºC, ktorú je podľa výskumníkov potrebné dosiahnuť. | Po: Tento záväzok sám osebe nestačí na zastavenie otepľovania na magickej hranici 2 oC, ktorú je podľa výskumníkov potrebné dosiahnuť.\n",
            "Pred: Podľa výpočtov Európa ročne spotrebuje 500 miliárd m³ plynu a dopyt po ňom môže podľa istých analýz v priebehu budúcich 20 rokov vzrásť až o 30 %. | Po: Podľa výpočtov Európa ročne spotrebuje 500 miliárd m3 plynu a dopyt po ňom môže podľa istých analýz v priebehu budúcich 20 rokov vzrásť až o 30 %.\n",
            "Pred: Táto správa vyzýva Komisiu, aby podrobne monitorovala a analyzovala najnovšie vedecké zistenia s cieľom vyhodnotiť najmä to, či sa pomocou plánu EÚ udržať limity 2 ºC skutočne podarí zabrániť nebezpečným vplyvom zmeny klímy. | Po: Táto správa vyzýva Komisiu, aby podrobne monitorovala a analyzovala najnovšie vedecké zistenia s cieľom vyhodnotiť najmä to, či sa pomocou plánu EÚ udržať limity 2 oC skutočne podarí zabrániť nebezpečným vplyvom zmeny klímy.\n",
            "Pred: Zároveň zdôrazňuje význam určenia EÚ a ostatných priemyselne rozvinutých krajín ako skupiny strednodobého cieľa zníženia emisií skleníkových plynov o 25 - 40 % do roku 2020, ako aj dlhodobého cieľa na zníženie emisií aspoň o 80 % do roku 2050 v porovnaní s rokom 1990, zatiaľ čo sa ďalej zameriava na cieľ obmedziť zvýšenie priemernej globálnej teploty o najviac 2 ºC v porovnaní s úrovňou predindustriálneho obdobia, čo bude znamenať 50 % pravdepodobnosť dosiahnutia tohto cieľa. | Po: Zároveň zdôrazňuje význam určenia EÚ a ostatných priemyselne rozvinutých krajín ako skupiny strednodobého cieľa zníženia emisií skleníkových plynov o 25 - 40 % do roku 2020, ako aj dlhodobého cieľa na zníženie emisií aspoň o 80 % do roku 2050 v porovnaní s rokom 1990, zatiaľ čo sa ďalej zameriava na cieľ obmedziť zvýšenie priemernej globálnej teploty o najviac 2 oC v porovnaní s úrovňou predindustriálneho obdobia, čo bude znamenať 50 % pravdepodobnosť dosiahnutia tohto cieľa.\n",
            "Pred: Viac ako 150 odporúčaní obsiahnutých v tejto správe pokrýva väčšinu oblastí, v ktorých je možné urobiť zlepšenia na dosiahnutie európskeho cieľa, ktorým je zníženie nárastu teploty na najviac 2 ºC. | Po: Viac ako 150 odporúčaní obsiahnutých v tejto správe pokrýva väčšinu oblastí, v ktorých je možné urobiť zlepšenia na dosiahnutie európskeho cieľa, ktorým je zníženie nárastu teploty na najviac 2 oC.\n",
            "Pred: Myslím si, že zníženie znečisťovania životného prostredia, ktoré spôsobujú viaceré priemyselné zdroje, pomôže dosiahnuť cieľ Európskej únie, udržať zvyšovanie globálnej teploty do 2 ºC. | Po: Myslím si, že zníženie znečisťovania životného prostredia, ktoré spôsobujú viaceré priemyselné zdroje, pomôže dosiahnuť cieľ Európskej únie, udržať zvyšovanie globálnej teploty do 2 oC.\n",
            "Pred: (RO) Názov Roºia Montanã musí čoraz známejšie znieť európskym inštitúciám i občanom. | Po: (RO) Názov Rooia Montanã musí čoraz známejšie znieť európskym inštitúciám i občanom.\n",
            "Pred: Táto smernica pokrýva aj malé budovy s využiteľnou plochou do 1 000 m², ako aj malé energetické obnovy a výmenu bojlerov a okien. | Po: Táto smernica pokrýva aj malé budovy s využiteľnou plochou do 1 000 m2, ako aj malé energetické obnovy a výmenu bojlerov a okien.\n",
            "Pred: V kodanskej dohode sa spomína cieľ 2 ºC, alebo dokonca cieľ 1,5 ºC. Ak ho chceme dosiahnuť, musíme sa teraz naozaj pustiť do práce a znížiť vlastné emisie - o vyše 20 % - a zároveň poskytnúť finančné prostriedky na prvé tri roky. | Po: V kodanskej dohode sa spomína cieľ 2 oC, alebo dokonca cieľ 1,5 oC. Ak ho chceme dosiahnuť, musíme sa teraz naozaj pustiť do práce a znížiť vlastné emisie - o vyše 20 % - a zároveň poskytnúť finančné prostriedky na prvé tri roky.\n",
            "Pred: Hlasovala som za uznesenie Európskeho parlamentu z 25. novembra 2010 o konferencii OSN o zmene klímy v Cancúne v záujme dosiahnutia celkového cieľa, ktorým je obmedzenie nárastu priemernej globálnej ročnej teploty zemského povrchu na 2 ºC (tzv. cieľ 2 ºC). | Po: Hlasovala som za uznesenie Európskeho parlamentu z 25. novembra 2010 o konferencii OSN o zmene klímy v Cancúne v záujme dosiahnutia celkového cieľa, ktorým je obmedzenie nárastu priemernej globálnej ročnej teploty zemského povrchu na 2 oC (tzv. cieľ 2 oC).\n",
            "Pred: Zdôrazňuje, že v Cancúne sa treba dohodnúť na zásadných krokoch, ktoré pripravia pôdu na uzatvorenie komplexnej medzinárodnej dohody po roku 2012 v Južnej Afrike v roku 2011, ktorá by mala byť v súlade s najnovším vedeckým vývojom a s dosahovaním minimálne cieľa 2 ºC s možnosťou prijať limit 1,5 ºC zvýšenia teploty s cieľom zaručiť prežitie všetkých národov, ľudí a ekosystémov. | Po: Zdôrazňuje, že v Cancúne sa treba dohodnúť na zásadných krokoch, ktoré pripravia pôdu na uzatvorenie komplexnej medzinárodnej dohody po roku 2012 v Južnej Afrike v roku 2011, ktorá by mala byť v súlade s najnovším vedeckým vývojom a s dosahovaním minimálne cieľa 2 oC s možnosťou prijať limit 1,5 oC zvýšenia teploty s cieľom zaručiť prežitie všetkých národov, ľudí a ekosystémov.\n",
            "Pred: Naším spoločným cieľom je obmedziť globálne otepľovanie na známe 2 ºC. | Po: Naším spoločným cieľom je obmedziť globálne otepľovanie na známe 2 oC.\n",
            "Pred: Satelitné snímky dokazujú, že za posledných 30 rokov bolo zničených približne 25 000 km² afrických lesov a inej vegetácie. | Po: Satelitné snímky dokazujú, že za posledných 30 rokov bolo zničených približne 25 000 km2 afrických lesov a inej vegetácie.\n",
            "Pred: Lichtenštajnsko je mikroštát nachádzajúci sa medzi Švajčiarskom a Rakúskom, ktorý má rozlohu 160 km² a 35 000 obyvateľov. | Po: Lichtenštajnsko je mikroštát nachádzajúci sa medzi Švajčiarskom a Rakúskom, ktorý má rozlohu 160 km2 a 35 000 obyvateľov.\n",
            "Pred: písomne. - Európska únia produkuje každý rok viac ako 40 000 m³ rádioaktívneho odpadu, z ktorého približne 80 % tvorí nízko rádioaktívny odpad s krátkym polčasom rozpadu a asi 5 % nízko rádioaktívny odpad s dlhým polčasom rozpadu. | Po: písomne. - Európska únia produkuje každý rok viac ako 40 000 m3 rádioaktívneho odpadu, z ktorého približne 80 % tvorí nízko rádioaktívny odpad s krátkym polčasom rozpadu a asi 5 % nízko rádioaktívny odpad s dlhým polčasom rozpadu.\n",
            "Pred: Na Seychelách bola vytvorená výhradná hospodárska zóna s rozlohou 1 374 000 km², patriaca k pevnine s rozlohou 453 km². | Po: Na Seychelách bola vytvorená výhradná hospodárska zóna s rozlohou 1 374 000 km2, patriaca k pevnine s rozlohou 453 km2.\n",
            "\n",
            "Normalizácia na základe UNICODE znakov\t\t\t         Riadky: 640715 | Počet zmenených riadkov v source (ANG): 22 | Počet zmenených riadkov v target (SK): 19 | Čas: 5.65 sekúnd\n"
          ]
        }
      ],
      "source": [
        "start_time = time.time()\n",
        "\n",
        "df_source = pd.read_csv(en_parl, names=['Source'], sep=\"\\0\", quoting=csv.QUOTE_NONE, skip_blank_lines=False) # dataset pre anglický text (source)\n",
        "df_target = pd.read_csv(sk_parl, names=['Target'], sep=\"\\0\", quoting=csv.QUOTE_NONE, skip_blank_lines=False) # dataset pre slovenský text (target)\n",
        "df = pd.concat([df_source, df_target], axis=1)\n",
        "print(\"Rozmery datasetu (riadky, stĺpce):\", df.shape)\n",
        "\n",
        "# Konverzia na string a uloženie pôvodných hodnôt pred normalizáciou\n",
        "original_source = df['Source'].astype(str)\n",
        "original_target = df['Target'].astype(str)\n",
        "\n",
        "# Unicode normalizácia\n",
        "df['Source'] = df['Source'].astype(str).apply(lambda x: unicodedata.normalize('NFKC', x))\n",
        "df['Target'] = df['Target'].astype(str).apply(lambda x: unicodedata.normalize('NFKC', x))\n",
        "\n",
        "# Porovnanie pôvodných a normalizovaných hodnôt ako reťazcov a spočítanie zmenených riadkov\n",
        "source_sum = (original_source != df['Source']).sum()\n",
        "target_sum = (original_target != df['Target']).sum()\n",
        "\n",
        "# Identifikácia riadkov, ktoré sa zmenili\n",
        "source_zmena = original_source != df['Source']\n",
        "target_zmena = original_target != df['Target']\n",
        "\n",
        "\n",
        "riadky = 20 # aby nevypísalo veľmi veľké množsto textu\n",
        "\n",
        "# Výpis zmenených viet pre Source (Anglické texty)\n",
        "print(\"Príklady zmenených riadkov pre 'Source':\")\n",
        "for pred, po in zip(original_source[source_zmena][:riadky], df['Source'][source_zmena][:riadky]):\n",
        "    print(f\"Pred: {pred} | Po: {po}\")\n",
        "\n",
        "# Výpis zmenených viet pre Target (Slovenské texty)\n",
        "print(\"\\nPríklady zmenených riadkov pre 'Target':\")\n",
        "for pred, po in zip(original_target[target_zmena][:riadky], df['Target'][target_zmena][:riadky]):\n",
        "    print(f\"Pred: {pred} | Po: {po}\")\n",
        "\n",
        "prejdeny_cas = time.time() - start_time\n",
        "print(f\"\\nNormalizácia na základe UNICODE znakov\\t\\t\\t         Riadky: {df.shape[0]} | Počet zmenených riadkov v source (ANG): {source_sum} | Počet zmenených riadkov v target (SK): {target_sum} | Čas: {prejdeny_cas:.2f} sekúnd\")"
      ]
    },
    {
      "cell_type": "code",
      "execution_count": null,
      "metadata": {
        "colab": {
          "base_uri": "https://localhost:8080/"
        },
        "id": "4f9r5XwnrfeJ",
        "outputId": "f749c797-3bbc-480b-881a-ed23114c3410"
      },
      "outputs": [
        {
          "name": "stdout",
          "output_type": "stream",
          "text": [
            "Rozmery datasetu (riadky, stĺpce): (640715, 2)\n",
            "Priemerný počet slov vo vete (anglický text): 24.12922803826525\n",
            "Priemerný počet slov vo vete (slovenský text): 20.212435581307407\n",
            "Maximálny počet slov vo vete (anglický text): 254\n",
            "Maximálny počet slov vo vete (slovenský text): 219\n",
            "Priemerná dĺžka slova vo vete (anglický text): 5.041560076423107\n",
            "Priemerná dĺžka slova vo vete (slovenský text): 5.907997331197968\n",
            "Maximálna dĺžka slova vo vete (anglický text): 21.0\n",
            "Maximálnay dĺžka slova vo vete (slovenský text): 21.0\n"
          ]
        }
      ],
      "source": [
        "## Výpočet priemernej dĺžky vety a priemerného počtu slov\n",
        "\n",
        "df_source = pd.read_csv(en_parl, names=['Source'], sep=\"\\0\", quoting=csv.QUOTE_NONE, skip_blank_lines=False) # dataset pre anglický text (source)\n",
        "df_target = pd.read_csv(sk_parl, names=['Target'], sep=\"\\0\", quoting=csv.QUOTE_NONE, skip_blank_lines=False) # dataset pre slovenský text (target)\n",
        "df = pd.concat([df_source, df_target], axis=1)\n",
        "print(\"Rozmery datasetu (riadky, stĺpce):\", df.shape)\n",
        "\n",
        "df = df.dropna() # nutné odstránenie NaN hodnôt, aby fungoval zvyšný kód\n",
        "\n",
        "df['Source_pocet_slov'] = df['Source'].apply(lambda x: len(x.split()))\n",
        "df['Target_pocet_slov'] = df['Target'].apply(lambda x: len(x.split()))\n",
        "\n",
        "# Vypočítanie priemerného množstva slov vo vetách\n",
        "priem_pocet_slov_source = df['Source_pocet_slov'].mean()\n",
        "priem_pocet_slov_target = df['Target_pocet_slov'].mean()\n",
        "\n",
        "# Vypočítanie maximálneho množstva slov vo vetách\n",
        "max_pocet_slov_source = df['Source_pocet_slov'].max()\n",
        "max_pocet_slov_target = df['Target_pocet_slov'].max()\n",
        "\n",
        "\n",
        "print(\"Priemerný počet slov vo vete (anglický text):\", priem_pocet_slov_source)\n",
        "print(\"Priemerný počet slov vo vete (slovenský text):\", priem_pocet_slov_target)\n",
        "\n",
        "print(\"Maximálny počet slov vo vete (anglický text):\", max_pocet_slov_source)\n",
        "print(\"Maximálny počet slov vo vete (slovenský text):\", max_pocet_slov_target)\n",
        "\n",
        "df['Source_dlzka_slova'] = df['Source'].apply(lambda x: sum(len(word) for word in x.split()) / len(x.split()))\n",
        "df['Target_dlzka_slova'] = df['Target'].apply(lambda x: sum(len(word) for word in x.split()) / len(x.split()))\n",
        "\n",
        "# Vypočínie priemernej dĺžky slov vo vetách\n",
        "priem_dlzka_slov_source = df['Source_dlzka_slova'].mean()\n",
        "priem_dlzka_slov_target = df['Target_dlzka_slova'].mean()\n",
        "\n",
        "# Vypočítanie maximálnej dĺžky slova vo vetách\n",
        "max_dlzka_slov_source = df['Source_dlzka_slova'].max()\n",
        "max_dlzka_slov_target = df['Target_dlzka_slova'].max()\n",
        "\n",
        "print(\"Priemerná dĺžka slova vo vete (anglický text):\", priem_dlzka_slov_source)\n",
        "print(\"Priemerná dĺžka slova vo vete (slovenský text):\", priem_dlzka_slov_target)\n",
        "\n",
        "print(\"Maximálna dĺžka slova vo vete (anglický text):\", max_dlzka_slov_source)\n",
        "print(\"Maximálnay dĺžka slova vo vete (slovenský text):\", max_dlzka_slov_target)"
      ]
    },
    {
      "cell_type": "markdown",
      "metadata": {
        "id": "oNe8ipDVtgMT"
      },
      "source": [
        "### Vytvorenie grafov"
      ]
    },
    {
      "cell_type": "code",
      "execution_count": null,
      "metadata": {
        "colab": {
          "base_uri": "https://localhost:8080/",
          "height": 582
        },
        "id": "4HIFvg3ytQAx",
        "outputId": "6c4a7cf0-2c92-4d86-d916-ec1837b23e96"
      },
      "outputs": [
        {
          "data": {
            "text/plain": [
              "<matplotlib.legend.Legend at 0x7a1509f61030>"
            ]
          },
          "execution_count": 452,
          "metadata": {},
          "output_type": "execute_result"
        },
        {
          "data": {
            "image/png": "[encoded data removed]",
            "text/plain": [
              "<Figure size 1200x600 with 1 Axes>"
            ]
          },
          "metadata": {},
          "output_type": "display_data"
        }
      ],
      "source": [
        "# Graf normálneho rozdelenia počtu slov viet anglického a slovenského textu\n",
        "fig, ax = plt.subplots(figsize=(12, 6))\n",
        "\n",
        "sns.kdeplot(df['Source_pocet_slov'], ax=ax, label=\"Anglické vety\")\n",
        "sns.kdeplot(df['Target_pocet_slov'], ax=ax, label=\"Slovenské vety\")\n",
        "\n",
        "ax.set_xlim(0, 250)\n",
        "ax.set_xticks(range(0, 261, 10))\n",
        "\n",
        "ax.set_title(\"Normálne rozdelenie počtu slov vo vetách\")\n",
        "ax.set_xlabel(\"Počet slov\")\n",
        "ax.set_ylabel(\"Hustota\")\n",
        "ax.legend()"
      ]
    },
    {
      "cell_type": "code",
      "execution_count": null,
      "metadata": {
        "colab": {
          "base_uri": "https://localhost:8080/",
          "height": 584
        },
        "id": "eEjXtODfIOFi",
        "outputId": "2f4fbee6-f08b-4562-b8a4-000cc89ac254"
      },
      "outputs": [
        {
          "data": {
            "text/plain": [
              "<matplotlib.legend.Legend at 0x7a1509ff0850>"
            ]
          },
          "execution_count": 453,
          "metadata": {},
          "output_type": "execute_result"
        },
        {
          "data": {
            "image/png": "[encoded data removed]",
            "text/plain": [
              "<Figure size 1200x600 with 1 Axes>"
            ]
          },
          "metadata": {},
          "output_type": "display_data"
        }
      ],
      "source": [
        "# Graf normálneho rozdelenia dĺžky viet slov  anglického a slovenského textu\n",
        "fig, ax = plt.subplots(figsize=(12, 6))\n",
        "\n",
        "sns.kdeplot(df['Source_dlzka_slova'], ax=ax, label=\"Anglické slová\")\n",
        "sns.kdeplot(df['Target_dlzka_slova'], ax=ax, label=\"Slovenské slová\")\n",
        "\n",
        "ax.set_title(\"Normálne rozdelenie dĺžky slov vo vetách\")\n",
        "ax.set_xlabel(\"Dĺžka slova\")\n",
        "ax.set_ylabel(\"Hustota\")\n",
        "ax.legend()"
      ]
    },
    {
      "cell_type": "markdown",
      "metadata": {
        "id": "X59ue6Zjxw_j"
      },
      "source": [
        "## Hlavné čistenie a úprava korpusu"
      ]
    },
    {
      "cell_type": "code",
      "execution_count": null,
      "metadata": {
        "colab": {
          "base_uri": "https://localhost:8080/"
        },
        "id": "UxhHTU8SRJA4",
        "outputId": "53a24cae-053d-4c8d-ee13-6106bf74d09f"
      },
      "outputs": [
        {
          "output_type": "stream",
          "name": "stdout",
          "text": [
            "Rozmery datasetu (riadky, stĺpce): (640715, 2)\n",
            "Riadky bez NaN hodnôt\t\t\t\t\t         Riadky: 640703 | Odstránené riadky: 12 | Čas: 2.78 sekúnd\n",
            "Normalizácia na základe UNICODE znakov\t\t\t         Riadky: 640703 | Počet zmenených riadkov v source (ANG): 109 | Počet zmenených riadkov v target (SK): 116 | Čas: 12.87 sekúnd\n",
            "Odstránenie riadkov, kde sa riadok source rovná riadku target\t Riadky: 640703 | Odstránené riadky: 0 | Čas: 13.10 sekúnd\n",
            "Odstránenie duplicitných/rovnakých riadkov\t\t\t Riadky: 640703 | Odstránené riadky: 0 | Čas: 13.86 sekúnd\n",
            "Odstránenie príliš dlhých viet source/target\t\t         Riadky: 640703 | Odstránené riadky: 0 | Čas: 15.78 sekúnd\n",
            "Konverzia HTML znakov\t\t\t\t        \t Riadky: 640703 | Odstránené riadky: 0 | Čas: 19.70 sekúnd\n",
            "Odstránenie znakov, ktoré nie sú písmená/čísla\t\t\t Riadky: 640703 | Odstránené riadky: 0 | Čas: 23.00 sekúnd\n",
            "Riadky sú konvertované na malé písmená (lowercase)\t\t Riadky: 640703 | Odstránené riadky: 0 | Čas: 23.74 sekúnd\n",
            "Riadky bez NaN hodnôt\t\t\t\t\t         Riadky: 640703 | Odstránené riadky: 0 | Čas: 26.25 sekúnd\n"
          ]
        },
        {
          "output_type": "stream",
          "name": "stderr",
          "text": [
            "<ipython-input-7-57ea072be3e4>:135: SettingWithCopyWarning: \n",
            "A value is trying to be set on a copy of a slice from a DataFrame\n",
            "\n",
            "See the caveats in the documentation: https://pandas.pydata.org/pandas-docs/stable/user_guide/indexing.html#returning-a-view-versus-a-copy\n",
            "  df.drop(columns=['source_jazyk', 'target_jazyk'], inplace=True)\n"
          ]
        },
        {
          "output_type": "stream",
          "name": "stdout",
          "text": [
            "Kontrola jazykov\t\t\t\t\t         Riadky: 512176 | Odstránené riadky: 128527 | Čas: 8442.16 sekúnd\n",
            "Prehodenie poradia riadkov\t\t\t\t\t Riadky: 512176\n",
            "Celkový prejdený čas: 8442.36 sekúnd\n",
            "Source súbor uložený: /content/drive/MyDrive/Colab_Notebooks/Diplomovka/Dáta/ParaCrawl/ParaCrawl.en-filtered.en\n",
            "Target súbor uložený: /content/drive/MyDrive/Colab_Notebooks/Diplomovka/Dáta/ParaCrawl/ParaCrawl.sk-filtered.sk\n"
          ]
        }
      ],
      "source": [
        "start_time = time.time()\n",
        "\n",
        "df_source = pd.read_csv(en_parl, names=['Source'], sep=\"\\0\", quoting=csv.QUOTE_NONE, skip_blank_lines=False) # dataset pre anglický text (source)\n",
        "df_target = pd.read_csv(sk_parl, names=['Target'], sep=\"\\0\", quoting=csv.QUOTE_NONE, skip_blank_lines=False) # dataset pre slovenský text (target)\n",
        "df = pd.concat([df_source, df_target], axis=1)\n",
        "\n",
        "#df = df.iloc[:int(df.shape[0]/2),:] # rozdelenie na polku\n",
        "\n",
        "print(\"Rozmery datasetu (riadky, stĺpce):\", df.shape)\n",
        "\n",
        "\n",
        "# Odstránenie NaN hodnôt\n",
        "pocet_riadkov = df.shape[0]\n",
        "df = df.dropna()\n",
        "odstranene_riadky = pocet_riadkov - df.shape[0]\n",
        "print_status(\"Riadky bez NaN hodnôt\\t\\t\\t\\t\\t        \", df.shape[0], odstranene_riadky, time.time() - start_time)\n",
        "\n",
        "\n",
        "# Zmeny niektorých znakov, na základe zistení pomocou unicode normalizácie NFKC\n",
        "pocet_riadkov = df.shape[0]\n",
        "\n",
        "original_source = df['Source'] # budúca referencia ako počet zmenených znakov\n",
        "original_target = df[\"Target\"] # budúca referencia ako počet zmenených znakov\n",
        "\n",
        "# Odstránenie exponentov, ktoré nie sú veďla čísel (väčšinou sa jedná o exponenty, ktoré referujú na zdroj, čo nie je žiadúce v našom modely) a zároveň sú dané slová dlhšie ako 3, aby sme omylom nevymazali znak pre miery ako napríklad km, m atď.\n",
        "df['Source'] = df['Source'].str.replace(r'(\\b\\w{4,})\\s*([¹²³⁴⁵⁶⁷⁸⁹⁰]+)', r'\\1', regex=True)\n",
        "df['Target'] = df['Target'].str.replace(r'(\\b\\w{4,})\\s*([¹²³⁴⁵⁶⁷⁸⁹⁰]+)', r'\\1', regex=True)\n",
        "\n",
        "# Transformácia º (U+00BA) a ˚ (U+02DA) na  ̊ (U+030A) pre zjednotenie znaku stupňa\n",
        "df['Source'] = df['Source'].str.replace('\\u00BA', '\\u030A')\n",
        "df['Target'] = df['Target'].str.replace('\\u00BA', '\\u030A')\n",
        "df['Source'] = df['Source'].str.replace('\\u02DA', '\\u030A')\n",
        "df['Target'] = df['Target'].str.replace('\\u02DA', '\\u030A')\n",
        "\n",
        "# Transformácia ½ (U+00BD) na ,5\n",
        "df['Source'] = df['Source'].str.replace('\\u00BD', ',5')\n",
        "df['Target'] = df['Target'].str.replace('\\u00BD', ',5')\n",
        "\n",
        "# Porovnanie pôvodných a normalizovaných hodnôt ako reťazcov a spočítanie zmenených riadkov\n",
        "source_sum = (original_source != df['Source']).sum()\n",
        "target_sum = (original_target != df['Target']).sum()\n",
        "\n",
        "prejdeny_cas = time.time() - start_time\n",
        "print(f\"Normalizácia na základe UNICODE znakov\\t\\t\\t         Riadky: {df.shape[0]} | Počet zmenených riadkov v source (ANG): {source_sum} | Počet zmenených riadkov v target (SK): {target_sum} | Čas: {prejdeny_cas:.2f} sekúnd\")\n",
        "\n",
        "\n",
        "# Odstránenie riadkov kde sa riadok source rovná riadku target\n",
        "pocet_riadkov = df.shape[0]\n",
        "df = df[df['Source'] != df['Target']]\n",
        "odstranene_riadky = pocet_riadkov - df.shape[0]\n",
        "print_status(\"Odstránenie riadkov, kde sa riadok source rovná riadku target\\t\", df.shape[0], odstranene_riadky, time.time() - start_time)\n",
        "\n",
        "\n",
        "# Odstránenie duplikátov\n",
        "pocet_riadkov = df.shape[0]\n",
        "df = df.drop_duplicates()\n",
        "odstranene_riadky = pocet_riadkov - df.shape[0]\n",
        "print_status(\"Odstránenie duplicitných/rovnakých riadkov\\t\\t\\t\", df.shape[0], odstranene_riadky, time.time() - start_time)\n",
        "\n",
        "\n",
        "# Odstránenie v dôsledku príliš dlhých viet source/target\n",
        "# Dĺžka, ktorá sa považuje za \"príliš dlhú\" záleží od jazyka\n",
        "pocet_riadkov = df.shape[0]\n",
        "max_sentence_length = 175\n",
        "df = df[~((df['Source'].str.count(' ') > max_sentence_length) | (df['Target'].str.count(' ') > max_sentence_length))]\n",
        "odstranene_riadky = pocet_riadkov - df.shape[0]\n",
        "print_status(\"Odstránenie príliš dlhých viet source/target\\t\\t        \", df.shape[0], odstranene_riadky, time.time() - start_time)\n",
        "\n",
        "\n",
        "# konverzia špeciálnych (HTML) znakov\n",
        "pocet_riadkov = df.shape[0]\n",
        "\n",
        "df['Source'] = df['Source'].str.replace(r'&amp;', '&', regex=True)\n",
        "df['Source'] = df['Source'].str.replace(r'&quot;', '\"', regex=True)\n",
        "df['Source'] = df['Source'].str.replace(r'&apos;', '\\'', regex=True)\n",
        "df['Source'] = df['Source'].str.replace(r'&lt;', '<', regex=True)\n",
        "df['Source'] = df['Source'].str.replace(r'&gt;', '>', regex=True)\n",
        "\n",
        "df['Target'] = df['Target'].str.replace(r'&amp;', '&', regex=True)\n",
        "df['Target'] = df['Target'].str.replace(r'&quot;', '\"', regex=True)\n",
        "df['Target'] = df['Target'].str.replace(r'&apos;', '\\'', regex=True)\n",
        "df['Target'] = df['Target'].str.replace(r'&lt;', '<', regex=True)\n",
        "df['Target'] = df['Target'].str.replace(r'&gt;', '>', regex=True)\n",
        "\n",
        "odstranene_riadky = pocet_riadkov - df.shape[0]\n",
        "print_status(\"Konverzia HTML znakov\\t\\t\\t\\t        \t\", df.shape[0], odstranene_riadky, time.time() - start_time)\n",
        "\n",
        "# Odstránenie znakov, ktoré nie sú písmená/čísla\n",
        "#df['Source'] = df['Source'].str.replace(r'(?<![,\\d])[^,\\w\\s¹²³⁴⁵⁶⁷⁸⁹⁰\\u030A-]+', '', regex=True) # kód ponecháva čiarky pred číslami, exponenty čísel, znak stupňa a pomlčky a samozrejme písmená a čísla.\n",
        "#df['Target'] = df['Target'].str.replace(r'(?<![,\\d])[^,\\w\\s¹²³⁴⁵⁶⁷⁸⁹⁰\\u030A-]+', '', regex=True)\n",
        "\n",
        "df['Source'] = df['Source'].str.replace('[^\\w\\s]', '', regex=True)\n",
        "df['Target'] = df['Target'].str.replace('[^\\w\\s]', '', regex=True)\n",
        "\n",
        "odstranene_riadky = pocet_riadkov - df.shape[0]\n",
        "print_status(\"Odstránenie znakov, ktoré nie sú písmená/čísla\\t\\t\\t\", df.shape[0], odstranene_riadky, time.time() - start_time)\n",
        "\n",
        "# konverzia na malé písmená\n",
        "pocet_riadkov = df.shape[0]\n",
        "#df['Source'] = df['Source'].apply(lambda x: x[:1].lower() + x[1:])\n",
        "#df['Target'] = df['Target'].apply(lambda x: x[:1].lower() + x[1:])\n",
        "\n",
        "df['Source'] = df['Source'].str.lower()\n",
        "df['Target'] = df['Target'].str.lower()\n",
        "\n",
        "\n",
        "prejdeny_cas = time.time() - start_time\n",
        "odstranene_riadky = pocet_riadkov - df.shape[0] # tu je to len, aby to pasovalo pre funkciu print_status\n",
        "print_status(\"Riadky sú konvertované na malé písmená (lowercase)\\t\\t\", df.shape[0], odstranene_riadky, time.time() - start_time)\n",
        "\n",
        "\n",
        "# Nahradenie prázdnych riadkov NaN\n",
        "df = df.replace(r'^\\s*$', np.nan, regex=True)\n",
        "\n",
        "# Dodatočné odstránenie riadkov, kde je NaN, ktoré mohli vzniknúť v dôsledku minulých krokov\n",
        "pocet_riadkov = df.shape[0]\n",
        "df = df.dropna()\n",
        "odstranene_riadky = pocet_riadkov - df.shape[0]\n",
        "print_status(\"Riadky bez NaN hodnôt\\t\\t\\t\\t\\t        \", df.shape[0], odstranene_riadky, time.time() - start_time)\n",
        "\n",
        "# kontrola jazyka - tento proces trvá najdlhšie\n",
        "def kontrola(text):\n",
        "    try:\n",
        "        return detect(text)\n",
        "    except LangDetectException:\n",
        "        return None\n",
        "\n",
        "pocet_riadkov = df.shape[0]\n",
        "DetectorFactory.seed = 0 # pridanie seed, aby sme vždy dostali rovnaký výsledok, keďže langdetect algoritmus je nedeterministický, čiže v niektorých prípadoch môže rozhodnúť odlišne\n",
        "\n",
        "df['source_jazyk'] = df['Source'].apply(lambda x: kontrola(x) if x and len(x.split()) > 1 else None) # ak obsahuje veta len jedno slovo, nevykoná sa nič\n",
        "df['target_jazyk'] = df['Target'].apply(lambda x: kontrola(x) if x and len(x.split()) > 1 else None)\n",
        "\n",
        "df = df[(df['source_jazyk'] == \"en\") & (df['target_jazyk'] == \"sk\")]\n",
        "df.drop(columns=['source_jazyk', 'target_jazyk'], inplace=True)\n",
        "odstranene_riadky = pocet_riadkov - df.shape[0]\n",
        "print_status(\"Kontrola jazykov\\t\\t\\t\\t\\t        \", df.shape[0], odstranene_riadky, time.time() - start_time)\n",
        "\n",
        "\n",
        "# Zmenenie poradia riadkov\n",
        "df = df.sample(frac=1, random_state=42).reset_index(drop=True) # pridanie random_state, aby sme dostali vždy rovnako zamiešaný dataset\n",
        "print(\"Prehodenie poradia riadkov\\t\\t\\t\\t\\t Riadky:\", df.shape[0])\n",
        "\n",
        "prejdeny_cas = time.time() - start_time\n",
        "print(f\"Celkový prejdený čas: {prejdeny_cas:.2f} sekúnd\")\n",
        "\n",
        "source_subor = en_parl+'-filtered.'+ \"en\"\n",
        "target_subor = sk_parl+'-filtered.'+ \"sk\"\n",
        "\n",
        "df_source_en = df[\"Source\"]\n",
        "df_target_sk = df[\"Target\"]\n",
        "\n",
        "df_source_en.to_csv(source_subor, header=False, index=False, quoting=csv.QUOTE_NONE, sep=\"\\n\")\n",
        "print(\"Source súbor uložený:\", source_subor)\n",
        "df_target_sk.to_csv(target_subor, header=False, index=False, quoting=csv.QUOTE_NONE, sep=\"\\n\")\n",
        "print(\"Target súbor uložený:\", target_subor)"
      ]
    },
    {
      "cell_type": "code",
      "execution_count": null,
      "metadata": {
        "id": "pD3Dh9_3IFLP"
      },
      "outputs": [],
      "source": []
    },
    {
      "cell_type": "markdown",
      "metadata": {
        "id": "N4PQ8Sr03KY9"
      },
      "source": [
        "# Tokenizácia na subwordy"
      ]
    },
    {
      "cell_type": "code",
      "execution_count": 183,
      "metadata": {
        "id": "O15cQXs34F58"
      },
      "outputs": [],
      "source": [
        "#en_filt = r\"/content/drive/MyDrive/Colab_Notebooks/Diplomovka/Dáta/europarl/europarl.sk-en.en-filtered.en\"\n",
        "#sk_filt = r\"/content/drive/MyDrive/Colab_Notebooks/Diplomovka/Dáta/europarl/europarl.sk-en.sk-filtered.sk\"\n",
        "\n",
        "en_filt = \"/content/drive/MyDrive/Colab_Notebooks/Diplomovka/Dáta/ParaCrawl/ParaCrawl.en-filtered.en\"\n",
        "sk_filt = \"/content/drive/MyDrive/Colab_Notebooks/Diplomovka/Dáta/ParaCrawl/ParaCrawl.sk-filtered.sk\""
      ]
    },
    {
      "cell_type": "code",
      "execution_count": 184,
      "metadata": {
        "colab": {
          "base_uri": "https://localhost:8080/"
        },
        "id": "c_Lvxmw13O6G",
        "outputId": "0223c822-6f08-456a-fcc2-2665afa73262"
      },
      "outputs": [
        {
          "output_type": "stream",
          "name": "stdout",
          "text": [
            "Trénovanie SentencePiece modelu bolo pre source súbor dokončené\n",
            "Trénovanie SentencePiece modelu bolo pre target súbor dokončené\n"
          ]
        }
      ],
      "source": [
        "#https://github.com/google/sentencepiece\n",
        "\n",
        "\n",
        "#Parametre\n",
        "vocab_size = 8000\n",
        "character_coverage = 0.9995\n",
        "\n",
        "# pre prípad veľkých korpusov -> --train_extremely_large_corpus=false\n",
        "\n",
        "# Model pre tokenizáciu anglického textu (source) na subword\n",
        "source = f'--input={en_filt} --model_prefix=source --vocab_size={vocab_size} --hard_vocab_limit=false --character_coverage={character_coverage} --split_digits=true --model_type=bpe'\n",
        "spm.SentencePieceTrainer.train(source)\n",
        "print(\"Trénovanie SentencePiece modelu bolo pre source súbor dokončené\")\n",
        "\n",
        "\n",
        "# Model pre tokenizáciu slovenského textu (target) na subword\n",
        "target = f'--input={sk_filt} --model_prefix=target --vocab_size={vocab_size} --hard_vocab_limit=false --character_coverage={character_coverage} --split_digits=true --model_type=bpe'\n",
        "spm.SentencePieceTrainer.train(target)\n",
        "print(\"Trénovanie SentencePiece modelu bolo pre target súbor dokončené\")"
      ]
    },
    {
      "cell_type": "code",
      "execution_count": 185,
      "metadata": {
        "id": "XPIyMvNVGxTm"
      },
      "outputs": [],
      "source": [
        "source_model = r\"/content/source.model\"\n",
        "target_model = r\"/content/target.model\"\n",
        "#source_subworded = \"/content/drive/MyDrive/Colab_Notebooks/Diplomovka/Dáta/europarl/source_subworded\"\n",
        "#target_subworded = \"/content/drive/MyDrive/Colab_Notebooks/Diplomovka/Dáta/europarl/target_subworded\"\n",
        "\n",
        "source_subworded = \"/content/drive/MyDrive/Colab_Notebooks/Diplomovka/Dáta/ParaCrawl/source_subworded\"\n",
        "target_subworded = \"/content/drive/MyDrive/Colab_Notebooks/Diplomovka/Dáta/ParaCrawl/target_subworded\""
      ]
    },
    {
      "cell_type": "code",
      "execution_count": 186,
      "metadata": {
        "colab": {
          "base_uri": "https://localhost:8080/"
        },
        "id": "oyAlHd07Hc0v",
        "outputId": "43d77d14-c302-49ac-cd5f-90c8f740f0af"
      },
      "outputs": [
        {
          "output_type": "stream",
          "name": "stdout",
          "text": [
            "Spracovaných 100000 riadkov v <_io.TextIOWrapper name='/content/drive/MyDrive/Colab_Notebooks/Diplomovka/Dáta/ParaCrawl/ParaCrawl.en-filtered.en' mode='r' encoding='utf-8'>\n",
            "Spracovaných 200000 riadkov v <_io.TextIOWrapper name='/content/drive/MyDrive/Colab_Notebooks/Diplomovka/Dáta/ParaCrawl/ParaCrawl.en-filtered.en' mode='r' encoding='utf-8'>\n",
            "Spracovaných 300000 riadkov v <_io.TextIOWrapper name='/content/drive/MyDrive/Colab_Notebooks/Diplomovka/Dáta/ParaCrawl/ParaCrawl.en-filtered.en' mode='r' encoding='utf-8'>\n",
            "Spracovaných 400000 riadkov v <_io.TextIOWrapper name='/content/drive/MyDrive/Colab_Notebooks/Diplomovka/Dáta/ParaCrawl/ParaCrawl.en-filtered.en' mode='r' encoding='utf-8'>\n",
            "Spracovaných 500000 riadkov v <_io.TextIOWrapper name='/content/drive/MyDrive/Colab_Notebooks/Diplomovka/Dáta/ParaCrawl/ParaCrawl.en-filtered.en' mode='r' encoding='utf-8'>\n",
            "Subwordovanie Source súboru bolo dokončené: /content/drive/MyDrive/Colab_Notebooks/Diplomovka/Dáta/ParaCrawl/source_subworded\n",
            "Spracovaných 100000 riadkov v <_io.TextIOWrapper name='/content/drive/MyDrive/Colab_Notebooks/Diplomovka/Dáta/ParaCrawl/ParaCrawl.sk-filtered.sk' mode='r' encoding='utf-8'>\n",
            "Spracovaných 200000 riadkov v <_io.TextIOWrapper name='/content/drive/MyDrive/Colab_Notebooks/Diplomovka/Dáta/ParaCrawl/ParaCrawl.sk-filtered.sk' mode='r' encoding='utf-8'>\n",
            "Spracovaných 300000 riadkov v <_io.TextIOWrapper name='/content/drive/MyDrive/Colab_Notebooks/Diplomovka/Dáta/ParaCrawl/ParaCrawl.sk-filtered.sk' mode='r' encoding='utf-8'>\n",
            "Spracovaných 400000 riadkov v <_io.TextIOWrapper name='/content/drive/MyDrive/Colab_Notebooks/Diplomovka/Dáta/ParaCrawl/ParaCrawl.sk-filtered.sk' mode='r' encoding='utf-8'>\n",
            "Spracovaných 500000 riadkov v <_io.TextIOWrapper name='/content/drive/MyDrive/Colab_Notebooks/Diplomovka/Dáta/ParaCrawl/ParaCrawl.sk-filtered.sk' mode='r' encoding='utf-8'>\n",
            "Subwordovanie Target súboru bolo dokončené: /content/drive/MyDrive/Colab_Notebooks/Diplomovka/Dáta/ParaCrawl/target_subworded\n"
          ]
        }
      ],
      "source": [
        "def subwordovanie(sp, vstup, vystup, interval=100000):\n",
        "    try:\n",
        "        with open(vstup, encoding=\"utf-8\") as vstup, open(vystup, \"w+\", encoding=\"utf-8\") as vystup:\n",
        "            for i, rad in enumerate(vstup):\n",
        "                rad = rad.strip()\n",
        "                token = sp.encode_as_pieces(rad)\n",
        "                vystup.write(\" \".join(token) + \"\\n\")\n",
        "\n",
        "                if (i + 1) % interval == 0:\n",
        "                    print(f\"Spracovaných {i + 1} riadkov v {vstup}\")\n",
        "    except Exception as e:\n",
        "        print(f\"Nastala chyba v procese {vstup}: {e}\")\n",
        "\n",
        "sp = spm.SentencePieceProcessor()\n",
        "\n",
        "sp.load(source_model)\n",
        "subwordovanie(sp, en_filt, source_subworded)\n",
        "print(f\"Subwordovanie Source súboru bolo dokončené: {source_subworded}\")\n",
        "\n",
        "sp.load(target_model)\n",
        "subwordovanie(sp, sk_filt, target_subworded)\n",
        "print(f\"Subwordovanie Target súboru bolo dokončené: {target_subworded}\")"
      ]
    },
    {
      "cell_type": "markdown",
      "metadata": {
        "id": "WNRR4aZWmkGW"
      },
      "source": [
        "# Tokenizácia na slová"
      ]
    },
    {
      "cell_type": "code",
      "execution_count": null,
      "metadata": {
        "id": "P76QunoxrBN9"
      },
      "outputs": [],
      "source": [
        "import pyonmttok\n",
        "import pickle"
      ]
    },
    {
      "cell_type": "code",
      "execution_count": null,
      "metadata": {
        "id": "NSv5LQDPF9kC"
      },
      "outputs": [],
      "source": [
        "en_filt = r\"/content/drive/MyDrive/Colab_Notebooks/Diplomovka/Dáta/europarl/europarl.sk-en.en-filtered.en\"\n",
        "sk_filt = r\"/content/drive/MyDrive/Colab_Notebooks/Diplomovka/Dáta/europarl/europarl.sk-en.sk-filtered.sk\""
      ]
    },
    {
      "cell_type": "code",
      "execution_count": null,
      "metadata": {
        "colab": {
          "base_uri": "https://localhost:8080/"
        },
        "id": "15hu2UMuHYBd",
        "outputId": "e5ec3c79-32b3-4971-d17b-ad452d50437f"
      },
      "outputs": [
        {
          "name": "stdout",
          "output_type": "stream",
          "text": [
            "Tokenizácia na slová bola dokončená pre oba jazyky.\n"
          ]
        }
      ],
      "source": [
        "en_tokenizer = pyonmttok.Tokenizer(\"conservative\")\n",
        "sk_tokenizer = pyonmttok.Tokenizer(\"conservative\")\n",
        "\n",
        "# tokenizácia anglického textu\n",
        "with open(en_filt, \"r\", encoding=\"utf-8\") as en_file:\n",
        "    en_content = en_file.read()\n",
        "    en_tokens, _ = en_tokenizer.tokenize(en_content)\n",
        "\n",
        "# tokenizácia slovenského textu\n",
        "with open(sk_filt, \"r\", encoding=\"utf-8\") as sk_file:\n",
        "    sk_content = sk_file.read()\n",
        "    sk_tokens, _ = sk_tokenizer.tokenize(sk_content)\n",
        "\n",
        "# uloženie súborov\n",
        "en_token_slov = \"/content/en_token_slova.csv\"\n",
        "sk_token_slov = \"/content/sk_token_slova.csv\"\n",
        "\n",
        "with open(en_token_slov, \"w\", newline=\"\", encoding=\"utf-8\") as en_csv:\n",
        "    writer = csv.writer(en_csv)\n",
        "    writer.writerow(en_tokens)\n",
        "\n",
        "with open(sk_token_slov, \"w\", newline=\"\", encoding=\"utf-8\") as sk_csv:\n",
        "    writer = csv.writer(sk_csv)\n",
        "    writer.writerow(sk_tokens)\n",
        "\n",
        "print(\"Tokenizácia na slová bola dokončená pre oba jazyky.\")"
      ]
    },
    {
      "cell_type": "code",
      "execution_count": null,
      "metadata": {
        "id": "eAnervqXI7VS"
      },
      "outputs": [],
      "source": [
        "source_subor = r\"/content/en_token_slova.csv\"\n",
        "target_subor = r\"/content/sk_token_slova.csv\""
      ]
    },
    {
      "cell_type": "code",
      "execution_count": null,
      "metadata": {
        "colab": {
          "base_uri": "https://localhost:8080/"
        },
        "id": "EZAan-OsRCvM",
        "outputId": "82b40d93-0808-41c3-c98e-02f75d22b51e"
      },
      "outputs": [
        {
          "name": "stderr",
          "output_type": "stream",
          "text": [
            "IOPub data rate exceeded.\n",
            "The notebook server will temporarily stop sending output\n",
            "to the client in order to avoid crashing it.\n",
            "To change this limit, set the config variable\n",
            "`--NotebookApp.iopub_data_rate_limit`.\n",
            "\n",
            "Current values:\n",
            "NotebookApp.iopub_data_rate_limit=1000000.0 (bytes/sec)\n",
            "NotebookApp.rate_limit_window=3.0 (secs)\n",
            "\n"
          ]
        }
      ],
      "source": [
        "with open(source_subor, \"r\", encoding=\"utf-8\") as file:\n",
        "    for i, line in enumerate(file):\n",
        "        print(line.strip())\n",
        "        if i >= 5:\n",
        "            break\n",
        "\n",
        "print()\n",
        "\n",
        "with open(target_subor, \"r\", encoding=\"utf-8\") as file:\n",
        "    for i, line in enumerate(file):\n",
        "        print(line.strip())\n",
        "        if i >= 5:\n",
        "            break"
      ]
    },
    {
      "cell_type": "markdown",
      "metadata": {
        "id": "z2unc3y_OBsW"
      },
      "source": [
        "# Výpis riadkov súboru"
      ]
    },
    {
      "cell_type": "code",
      "execution_count": 187,
      "metadata": {
        "colab": {
          "base_uri": "https://localhost:8080/"
        },
        "id": "HJE75HqLOJK3",
        "outputId": "a78559a5-bb12-4e33-8d81-ce9cc4bb617d"
      },
      "outputs": [
        {
          "output_type": "stream",
          "name": "stdout",
          "text": [
            "▁get ▁snow ▁reports ▁and ▁powder ▁al arms ▁from ▁al ten berg ▁straight ▁to ▁your ▁in box\n",
            "▁customers ▁who ▁bought ▁black berry ▁for ▁k im bo ▁k aps ula ▁class ica ▁bought ▁too ▁int ensity\n",
            "▁a ▁welcoming ▁city ▁for ▁all ▁sit k ó w k an ow iny ▁offers ▁a ▁variety ▁of ▁hotels ▁and ▁other ▁lodging ▁choices\n",
            "▁winds or ▁cop a ▁hotel ▁ 3 star ▁hotel ▁this ▁property ▁has ▁agreed ▁to ▁be ▁part ▁of ▁our ▁preferred ▁property ▁program ▁which ▁groups ▁together ▁properties ▁that ▁stand ▁out ▁because ▁of ▁their ▁excellent ▁service ▁and ▁qualityprice ▁ratio ▁with ▁competitive ▁prices\n",
            "▁recently ▁our ▁guests ▁were ▁rel atives ▁from ▁abroad ▁and ▁knowing ▁about ▁my ▁ho bby ▁for ▁aqu ar ists ▁we ▁wanted ▁to ▁make ▁a ▁small ▁gift ▁to ▁buy ▁any ▁fish ▁in ▁the ▁pet ▁store ▁at ▁my ▁dis cret ion\n",
            "▁t is ovec ▁here ▁the ▁iron ▁production ▁developed ▁in ▁the ▁end ▁of ▁the ▁ 1 8 th ▁century\n",
            "\n",
            "▁snehové ▁správy ▁a ▁po w der ▁a lar my ▁zo ▁strediska ▁sk iz ent rum ▁si m me ls berg ▁rovno ▁do ▁tvojho ▁mailu\n",
            "▁zákazníci ▁ktorí ▁si ▁zakúpili ▁noc ci o la ▁od ▁k im bo ▁kap su la ▁clas si ca ▁si ▁taktiež ▁zakúpili ▁inten zi ta\n",
            "▁prívet ivé ▁mesto ▁pre ▁každého ▁destinácia ▁si t k ó w k ano w iny ▁ponúka ▁množstvo ▁hotelov ▁a ▁ďalších ▁ubytovacích ▁zariadení\n",
            "▁popis ▁hodnotenie ▁ti ju ca ▁ 5 hviezdičkový ▁hotel ▁toto ▁ubytovanie ▁súhlasilo ▁s ▁účasťou ▁v ▁našom ▁programe ▁preferovaných ▁služieb ▁ktorý ▁zoskupuje ▁ubytovania ▁ktoré ▁ponúkajú ▁vynikajúce ▁služby ▁a ▁skvelý ▁pomer ▁cien ▁a ▁kvality ▁za ▁konkurenčné ▁ceny\n",
            "▁v ▁poslednej ▁dobe ▁boli ▁naši ▁hostia ▁prí bu z ní ▁zo ▁zahrani čia ▁a ▁vede li ▁o ▁mo jom ▁kon í čke ▁pre ▁ak var ist ov ▁chceli ▁sme ▁urobiť ▁malý ▁dar ▁kúpiť ▁akúkoľvek ▁ry bu ▁v ▁obcho de ▁s ▁domácimi ▁zvieratami ▁podľa ▁môjho ▁u váž enia\n",
            "▁tis ove c ▁výroba ▁žele za ▁zača la ▁sa ▁tu ▁rozvíja ť ▁kon com ▁ 1 8 ▁s tor ▁v ▁r\n"
          ]
        }
      ],
      "source": [
        "with open(source_subworded, \"r\", encoding=\"utf-8\") as file:\n",
        "    for i, line in enumerate(file):\n",
        "        print(line.strip())\n",
        "        if i >= 5:\n",
        "            break\n",
        "\n",
        "print()\n",
        "\n",
        "with open(target_subworded, \"r\", encoding=\"utf-8\") as file:\n",
        "    for i, line in enumerate(file):\n",
        "        print(line.strip())\n",
        "        if i >= 5:\n",
        "            break"
      ]
    },
    {
      "cell_type": "markdown",
      "metadata": {
        "id": "KaZHsKCBONyA"
      },
      "source": [
        "# Rozdelenie dát na množiny"
      ]
    },
    {
      "cell_type": "markdown",
      "metadata": {
        "id": "3quZI0QiOR02"
      },
      "source": [
        "Dáta rozdelujeme do 3 častí:\n",
        "\n",
        "    trénovací dataset - používa sa na trénovanie modelu;\n",
        "    development (validačný) dataset - používa sa na validáciu modelu počas trénovania, aby sa mohli vylepšiť parametre modelu\n",
        "    testovací dataset - používa sa na konečné vyhodotenie (evaluáciu) modelu na modelom nevidených dátach"
      ]
    },
    {
      "cell_type": "code",
      "execution_count": 188,
      "metadata": {
        "id": "nu2oO6BoPGp3"
      },
      "outputs": [],
      "source": [
        "#source_subor = r\"/content/drive/MyDrive/Colab_Notebooks/Diplomovka/Dáta/europarl/source_subworded\"\n",
        "#target_subor = r\"/content/drive/MyDrive/Colab_Notebooks/Diplomovka/Dáta/europarl/target_subworded\"\n",
        "\n",
        "\n",
        "source_subor = r\"/content/drive/MyDrive/Colab_Notebooks/Diplomovka/Dáta/ParaCrawl/source_subworded\"\n",
        "target_subor = r\"/content/drive/MyDrive/Colab_Notebooks/Diplomovka/Dáta/ParaCrawl/target_subworded\""
      ]
    },
    {
      "cell_type": "code",
      "execution_count": 189,
      "metadata": {
        "id": "9-kr-n2_OVdo"
      },
      "outputs": [],
      "source": [
        "# Veľkosť súborov pre dev a test text\n",
        "dataset_velkost = 4000\n",
        "\n",
        "development = dataset_velkost\n",
        "test = dataset_velkost\n",
        "\n",
        "\n",
        "def train_test_dev(development, test, source_subor, target_subor):\n",
        "    df_source = pd.read_csv(source_subor, names=['Source'], sep=\"\\0\", quoting=csv.QUOTE_NONE, skip_blank_lines=False, encoding=\"utf-8\")\n",
        "    df_target = pd.read_csv(target_subor, names=['Target'], sep=\"\\0\", quoting=csv.QUOTE_NONE, skip_blank_lines=False, encoding=\"utf-8\")\n",
        "    df = pd.concat([df_source, df_target], axis=1)\n",
        "\n",
        "    # Odstránenie prázdnych riadkov\n",
        "    df.dropna(inplace=True)\n",
        "\n",
        "    # Zamiešanie datasetu\n",
        "    df = df.sample(frac=1, random_state=42).reset_index(drop=True) # pridanie random_state, aby sme dostali vždy rovnako zamiešaný dataset\n",
        "\n",
        "    # Rozdelenie datasetu\n",
        "    df_dev = df[:development]\n",
        "    df_test = df[development:development + test]\n",
        "    df_train = df[development + test:]\n",
        "\n",
        "    def vytvorenie_suboru(df, source_subor, target_subor):\n",
        "        df['Source'].to_csv(source_subor, index=False, header=False, quoting=csv.QUOTE_NONE, sep='\\n')\n",
        "        df['Target'].to_csv(target_subor, index=False, header=False, quoting=csv.QUOTE_NONE, sep='\\n')\n",
        "\n",
        "\n",
        "    vytvorenie_suboru(df_train, source_subor + '.train', target_subor + '.train')\n",
        "    vytvorenie_suboru(df_dev, source_subor + '.dev', target_subor + '.dev')\n",
        "    vytvorenie_suboru(df_test, source_subor + '.test', target_subor + '.test')\n",
        "\n",
        "\n",
        "train_test_dev(development, test, source_subor, target_subor)"
      ]
    },
    {
      "cell_type": "code",
      "execution_count": 190,
      "metadata": {
        "id": "bKTRESdMD1NB"
      },
      "outputs": [],
      "source": [
        "#source_test = r\"/content/drive/MyDrive/Colab_Notebooks/Diplomovka/Dáta/europarl/source_subworded.test\"\n",
        "#target_test = r\"/content/drive/MyDrive/Colab_Notebooks/Diplomovka/Dáta/europarl/target_subworded.test\"\n",
        "\n",
        "#source_test = r\"/content/en_token_slova.csv.test\"\n",
        "#target_test = r\"/content/sk_token_slova.csv.test\"\n",
        "\n",
        "source_test = r\"/content/drive/MyDrive/Colab_Notebooks/Diplomovka/Dáta/ParaCrawl/source_subworded.test\"\n",
        "target_test = r\"/content/drive/MyDrive/Colab_Notebooks/Diplomovka/Dáta/ParaCrawl/target_subworded.test\""
      ]
    },
    {
      "cell_type": "code",
      "execution_count": 191,
      "metadata": {
        "colab": {
          "base_uri": "https://localhost:8080/"
        },
        "id": "Ex43E6oqDmiM",
        "outputId": "0fb63b30-587e-40f1-e8eb-7a11a6f46e4d"
      },
      "outputs": [
        {
          "output_type": "stream",
          "name": "stdout",
          "text": [
            "▁bo is ▁march and ▁hourly ▁weather ▁forecast\n",
            "▁weather ▁station ▁har ri et ▁alex ander ▁f ▁at ▁ 5 6 7 km ▁of ▁sunset ▁city\n",
            "▁that ▁was ▁bl own ▁up ▁in ▁november ▁ 1 9 9 0 ▁following ▁the ▁change ▁of ▁reg ime\n",
            "▁translation ▁project ▁for ▁y ast install ation ▁into ▁sin h ala ▁currently ▁contains ▁ 3 4 0 ▁str ings ▁for ▁translation ▁and ▁is ▁ 0 0 ▁complete\n",
            "▁nd oun g ou ▁the ▁temperature ▁tomorrow\n",
            "▁i ▁was ▁doing ▁business ▁in ▁medicine\n",
            "\n",
            "▁bel le ▁ma re ▁predpoveď ▁počasia ▁na ▁víkend\n",
            "▁meteorologická ▁stanica ▁har rie t ▁alex an der ▁f ▁vo ▁vzdialenosti ▁ 5 6 7 km ▁od ▁sun set ▁city\n",
            "▁to ▁bolo ▁po ▁zmene ▁reži mu ▁v ▁nove mbri ▁ 1 9 9 0 ▁py ro tech ni cky ▁od p ál ené ▁do ▁vzduchu\n",
            "▁preklad ▁projektu ▁ya stin stal la tion ▁do ▁sloven činy ▁v ▁súčasnosti ▁obsahuje ▁ 3 4 0 ▁reťazcov ▁na ▁preklad ▁a ▁je ▁dokon čený ▁na ▁ 1 0 0 0\n",
            "▁n dou ng ou ▁hodinová ▁predpoveď ▁počasia\n",
            "▁ro bil ▁som ▁prácu ▁v ▁oblasti ▁medicí ny\n"
          ]
        }
      ],
      "source": [
        "with open(source_test, \"r\", encoding=\"utf-8\") as file:\n",
        "    for i, line in enumerate(file):\n",
        "        print(line.strip())\n",
        "        if i >= 5:\n",
        "            break\n",
        "\n",
        "print()\n",
        "\n",
        "with open(target_test, \"r\", encoding=\"utf-8\") as file:\n",
        "    for i, line in enumerate(file):\n",
        "        print(line.strip())\n",
        "        if i >= 5:\n",
        "            break"
      ]
    },
    {
      "cell_type": "markdown",
      "metadata": {
        "id": "I2_hUU9Yx8nj"
      },
      "source": [
        "# Vytvorenie konfigurácie a trénovanie modelu"
      ]
    },
    {
      "cell_type": "code",
      "execution_count": null,
      "metadata": {
        "id": "Hnqodi2iQ2CX"
      },
      "outputs": [],
      "source": [
        "config = '''\n",
        "\n",
        "seed: 42 # aby sme dosiahli rovnakých výsledkov a pre lepšie porovnávanie medzi modelmi\n",
        "\n",
        "save_data: vocab  # zložka, kde sa uloží slovná zásoba vygenerovaná pomocou onmt_build_vocab\n",
        "\n",
        "data:\n",
        "    corpus:\n",
        "        # súbory určené na trénovanie\n",
        "        path_src: /content/drive/MyDrive/Colab_Notebooks/Diplomovka/Dáta/europarl/source_subworded.train\n",
        "        path_tgt: /content/drive/MyDrive/Colab_Notebooks/Diplomovka/Dáta/europarl/target_subworded.train\n",
        "\n",
        "        #path_src: /content/drive/MyDrive/Colab_Notebooks/Diplomovka/Dáta/ParaCrawl/source_subworded.train\n",
        "        #path_tgt: /content/drive/MyDrive/Colab_Notebooks/Diplomovka/Dáta/ParaCrawl/target_subworded.train\n",
        "        transforms: [filtertoolong]\n",
        "        weight: 1\n",
        "    valid:\n",
        "        # súbory určené na validáciu\n",
        "        path_src: /content/drive/MyDrive/Colab_Notebooks/Diplomovka/Dáta/europarl/source_subworded.dev\n",
        "        path_tgt: /content/drive/MyDrive/Colab_Notebooks/Diplomovka/Dáta/europarl/target_subworded.dev\n",
        "\n",
        "        #path_src: /content/drive/MyDrive/Colab_Notebooks/Diplomovka/Dáta/ParaCrawl/source_subworded.dev\n",
        "        #path_tgt: /content/drive/MyDrive/Colab_Notebooks/Diplomovka/Dáta/ParaCrawl/target_subworded.dev\n",
        "        transforms: [filtertoolong]\n",
        "\n",
        "# súbory, v ktorých je uložená slovná zásoba pre source (anglický jazyk) a target (slovenský jazyk) onmt_build_vocab\n",
        "src_vocab: vocab/source.vocab\n",
        "tgt_vocab: vocab/target.vocab\n",
        "\n",
        "# veľkosť slovnej zásoby - hodnoty by mali byť rovnaké ako v sentencepiece\n",
        "src_vocab_size: 8000\n",
        "tgt_vocab_size: 8000\n",
        "\n",
        "src_subword_model: /content/source.model\n",
        "tgt_subword_model: /content/target.model\n",
        "\n",
        "# Miesto uloženia súborov\n",
        "#log_file:   /content/drive/MyDrive/Colab_Notebooks/Diplomovka/Dáta/europarl/train.log\n",
        "save_model: /content/drive/MyDrive/Colab_Notebooks/Diplomovka/Dáta/europarl/complete_model\n",
        "\n",
        "#save_model: /content/drive/MyDrive/Colab_Notebooks/Diplomovka/Dáta/ParaCrawl/complete_model\n",
        "\n",
        "train_steps: 100000 # počet krokov trénovania\n",
        "valid_steps: 2500  # po n krokoch vykonať validáciu pomocou dev setu\n",
        "warmup_steps: 8000 # počet by mal byť priamoúmerný počtu krokov trénovania\n",
        "early_stopping: 4 # ak sa model nezlepší po n validáciach, trénovanie zastaví\n",
        "save_checkpoint_steps: 2500   # uloženie modelu po n krokoch\n",
        "keep_checkpoint: 15  # počet posledných n uložených modelov\n",
        "report_every: 500 # výpis informácií o trénovaní po n-krokoch\n",
        "\n",
        "decoder_type: transformer\n",
        "encoder_type: transformer\n",
        "word_vec_size: 512   # dimenzionálnosť word embeddingu\n",
        "hidden_size: 512     # dimenzionálnosť skrytých stavov v enkódery a dekódery\n",
        "layers: 6         # počet vrstiev v enkódery a dekódery   - alternatíva je enc_layers a dec_layers\n",
        "transformer_ff: 2048  # dimenzionálnosť doprednej vrstvy v transformery\n",
        "heads: 8              # počet attention head v multi-head-attention\n",
        "\n",
        "accum_count: 2 # počet n krokov, po ktorých sa aktualizujú parametre\n",
        "optim: adam\n",
        "adam_beta1: 0.9\n",
        "adam_beta2: 0.998\n",
        "decay_method: noam\n",
        "learning_rate: 2.0  # miera učenia\n",
        "max_grad_norm: 1.0    # gradient clipping, pomáha, aby v modely nenastal explodujúci gradient (nemožnosť modelu sa učiť v dôsledku vysokej miery učenia), emôže pomôcť pre lepšiu stabilitu modelu\n",
        "\n",
        "param_init: 0.0\n",
        "param_init_glorot: 'true'\n",
        "position_encoding: 'true'\n",
        "\n",
        "batch_size: 1024\n",
        "valid_batch_size: 1024\n",
        "batch_type: tokens\n",
        "normalization: tokens\n",
        "max_generator_batches: 2\n",
        "\n",
        "dropout: 0.1         # regularizácia, ktorá vytvára šancu (0.1 = 10%) na \"vypnutie\" nodu vo vrstve behom trénovania, pomáha proti overfittingu\n",
        "label_smoothing: 0.1\n",
        "\n",
        "world_size: 1\n",
        "gpu_ranks: 0\n",
        "\n",
        "# INFO\n",
        "log_file: train.log\n",
        "log_level: INFO\n",
        "\n",
        "'''\n",
        "\n",
        "with open(\"config.yaml\", \"w+\", encoding=\"utf-8\") as config_yaml:\n",
        "  config_yaml.write(config)"
      ]
    },
    {
      "cell_type": "code",
      "execution_count": null,
      "metadata": {
        "colab": {
          "base_uri": "https://localhost:8080/"
        },
        "id": "sQvEi-oUaTp5",
        "outputId": "c7ca0bff-4b84-4c59-9a70-3cbe632103fb"
      },
      "outputs": [
        {
          "name": "stdout",
          "output_type": "stream",
          "text": [
            "GPU 0: Tesla T4 (UUID: GPU-e28c12a8-d468-9c0d-db81-f55bb7da1397)\n"
          ]
        }
      ],
      "source": [
        "!nvidia-smi -L"
      ]
    },
    {
      "cell_type": "markdown",
      "metadata": {
        "id": "UATW2mh1SYHe"
      },
      "source": [
        "Použíjeme Framework OpenNMT"
      ]
    },
    {
      "cell_type": "code",
      "execution_count": null,
      "metadata": {
        "colab": {
          "base_uri": "https://localhost:8080/"
        },
        "id": "noLMeIygRw8W",
        "outputId": "cb2ca9e0-5b88-4d81-e66f-5c920a903a83"
      },
      "outputs": [
        {
          "name": "stdout",
          "output_type": "stream",
          "text": [
            "[2024-03-20 18:21:38,595 INFO] Counter vocab from -1 samples.\n",
            "[2024-03-20 18:21:38,595 INFO] n_sample=-1: Build vocab on full datasets.\n",
            "[2024-03-20 18:22:10,695 INFO] * Transform statistics for corpus(100.00%):\n",
            "\t\t\t* FilterTooLongStats(filtered=46)\n",
            "\n",
            "[2024-03-20 18:22:10,718 INFO] Counters src: 8135\n",
            "[2024-03-20 18:22:10,718 INFO] Counters tgt: 8117\n"
          ]
        }
      ],
      "source": [
        "# Vytvorenie vocabulary\n",
        "!onmt_build_vocab -config config.yaml -n_sample -1"
      ]
    },
    {
      "cell_type": "code",
      "execution_count": null,
      "metadata": {
        "colab": {
          "base_uri": "https://localhost:8080/"
        },
        "id": "XCIZCKtkUH83",
        "outputId": "65a2521e-571c-4852-c318-dfb93df8ad1f"
      },
      "outputs": [
        {
          "name": "stdout",
          "output_type": "stream",
          "text": [
            "[2024-03-20 18:22:15,044 INFO] Parsed 2 corpora from -data.\n",
            "[2024-03-20 18:22:15,044 INFO] Get special vocabs from Transforms: {'src': [], 'tgt': []}.\n",
            "[2024-03-20 18:22:15,076 INFO] The first 10 tokens of the vocabs are:['<unk>', '<blank>', '<s>', '</s>', '▁the', ',', '▁of', '▁to', '▁and', '▁in']\n",
            "[2024-03-20 18:22:15,076 INFO] The decoder start token is: <s>\n",
            "[2024-03-20 18:22:15,076 INFO] Building model...\n",
            "[2024-03-20 18:22:16,766 INFO] Switching model to float32 for amp/apex_amp\n",
            "[2024-03-20 18:22:16,766 INFO] Non quantized layer compute is fp32\n",
            "[2024-03-20 18:22:17,197 INFO] NMTModel(\n",
            "  (encoder): TransformerEncoder(\n",
            "    (embeddings): Embeddings(\n",
            "      (make_embedding): Sequential(\n",
            "        (emb_luts): Elementwise(\n",
            "          (0): Embedding(8000, 768, padding_idx=1)\n",
            "        )\n",
            "        (pe): PositionalEncoding()\n",
            "      )\n",
            "      (dropout): Dropout(p=0.2, inplace=False)\n",
            "    )\n",
            "    (transformer): ModuleList(\n",
            "      (0-7): 8 x TransformerEncoderLayer(\n",
            "        (self_attn): MultiHeadedAttention(\n",
            "          (linear_keys): Linear(in_features=768, out_features=768, bias=False)\n",
            "          (linear_values): Linear(in_features=768, out_features=768, bias=False)\n",
            "          (linear_query): Linear(in_features=768, out_features=768, bias=False)\n",
            "          (softmax): Softmax(dim=-1)\n",
            "          (dropout): Dropout(p=0.1, inplace=False)\n",
            "          (final_linear): Linear(in_features=768, out_features=768, bias=False)\n",
            "        )\n",
            "        (feed_forward): PositionwiseFeedForward(\n",
            "          (w_1): Linear(in_features=768, out_features=4096, bias=False)\n",
            "          (w_2): Linear(in_features=4096, out_features=768, bias=False)\n",
            "          (layer_norm): LayerNorm((768,), eps=1e-06, elementwise_affine=True)\n",
            "          (dropout_1): Dropout(p=0.2, inplace=False)\n",
            "          (dropout_2): Dropout(p=0.2, inplace=False)\n",
            "        )\n",
            "        (layer_norm): LayerNorm((768,), eps=1e-06, elementwise_affine=True)\n",
            "        (dropout): Dropout(p=0.2, inplace=False)\n",
            "      )\n",
            "    )\n",
            "    (layer_norm): LayerNorm((768,), eps=1e-06, elementwise_affine=True)\n",
            "  )\n",
            "  (decoder): TransformerDecoder(\n",
            "    (embeddings): Embeddings(\n",
            "      (make_embedding): Sequential(\n",
            "        (emb_luts): Elementwise(\n",
            "          (0): Embedding(8000, 768, padding_idx=1)\n",
            "        )\n",
            "        (pe): PositionalEncoding()\n",
            "      )\n",
            "      (dropout): Dropout(p=0.2, inplace=False)\n",
            "    )\n",
            "    (layer_norm): LayerNorm((768,), eps=1e-06, elementwise_affine=True)\n",
            "    (transformer_layers): ModuleList(\n",
            "      (0-7): 8 x TransformerDecoderLayer(\n",
            "        (self_attn): MultiHeadedAttention(\n",
            "          (linear_keys): Linear(in_features=768, out_features=768, bias=False)\n",
            "          (linear_values): Linear(in_features=768, out_features=768, bias=False)\n",
            "          (linear_query): Linear(in_features=768, out_features=768, bias=False)\n",
            "          (softmax): Softmax(dim=-1)\n",
            "          (dropout): Dropout(p=0.1, inplace=False)\n",
            "          (final_linear): Linear(in_features=768, out_features=768, bias=False)\n",
            "        )\n",
            "        (feed_forward): PositionwiseFeedForward(\n",
            "          (w_1): Linear(in_features=768, out_features=4096, bias=False)\n",
            "          (w_2): Linear(in_features=4096, out_features=768, bias=False)\n",
            "          (layer_norm): LayerNorm((768,), eps=1e-06, elementwise_affine=True)\n",
            "          (dropout_1): Dropout(p=0.2, inplace=False)\n",
            "          (dropout_2): Dropout(p=0.2, inplace=False)\n",
            "        )\n",
            "        (layer_norm_1): LayerNorm((768,), eps=1e-06, elementwise_affine=True)\n",
            "        (dropout): Dropout(p=0.2, inplace=False)\n",
            "        (context_attn): MultiHeadedAttention(\n",
            "          (linear_keys): Linear(in_features=768, out_features=768, bias=False)\n",
            "          (linear_values): Linear(in_features=768, out_features=768, bias=False)\n",
            "          (linear_query): Linear(in_features=768, out_features=768, bias=False)\n",
            "          (softmax): Softmax(dim=-1)\n",
            "          (dropout): Dropout(p=0.1, inplace=False)\n",
            "          (final_linear): Linear(in_features=768, out_features=768, bias=False)\n",
            "        )\n",
            "        (layer_norm_2): LayerNorm((768,), eps=1e-06, elementwise_affine=True)\n",
            "      )\n",
            "    )\n",
            "  )\n",
            "  (generator): Linear(in_features=768, out_features=8000, bias=True)\n",
            ")\n",
            "[2024-03-20 18:22:17,201 INFO] encoder: 75376128\n",
            "[2024-03-20 18:22:17,201 INFO] decoder: 100414784\n",
            "[2024-03-20 18:22:17,201 INFO] * number of parameters: 175790912\n",
            "[2024-03-20 18:22:17,202 INFO] Trainable parameters = {'torch.float32': 175790912, 'torch.float16': 0, 'torch.uint8': 0, 'torch.int8': 0}\n",
            "[2024-03-20 18:22:17,202 INFO] Non trainable parameters = {'torch.float32': 0, 'torch.float16': 0, 'torch.uint8': 0, 'torch.int8': 0}\n",
            "[2024-03-20 18:22:17,202 INFO]  * src vocab size = 8000\n",
            "[2024-03-20 18:22:17,202 INFO]  * tgt vocab size = 8000\n",
            "[2024-03-20 18:22:17,610 INFO] Starting training on GPU: [0]\n",
            "[2024-03-20 18:22:17,610 INFO] Start training loop and validate every 2500 steps...\n",
            "[2024-03-20 18:22:17,610 INFO] Scoring with: ['filtertoolong']\n",
            "[2024-03-20 18:22:21,046 INFO] Weighted corpora loaded so far:\n",
            "\t\t\t* corpus: 1\n",
            "[2024-03-20 18:22:24,508 INFO] Weighted corpora loaded so far:\n",
            "\t\t\t* corpus: 1\n",
            "[2024-03-20 19:01:23,279 INFO] Step 500/100000; acc: 7.3; ppl: 2615.8; xent: 7.9; lr: 0.00003; sents:  244160; bsz: 3523/3726/122; 3004/3177 tok/s;   2346 sec;\n",
            "[2024-03-20 19:39:20,825 INFO] * Transform statistics for corpus(50.00%):\n",
            "\t\t\t* FilterTooLongStats(filtered=21)\n",
            "\n",
            "[2024-03-20 19:39:20,825 INFO] Weighted corpora loaded so far:\n",
            "\t\t\t* corpus: 2\n",
            "[2024-03-20 19:39:29,988 INFO] * Transform statistics for corpus(50.00%):\n",
            "\t\t\t* FilterTooLongStats(filtered=20)\n",
            "\n",
            "[2024-03-20 19:39:29,988 INFO] Weighted corpora loaded so far:\n",
            "\t\t\t* corpus: 2\n",
            "[2024-03-20 19:40:04,851 INFO] Step 1000/100000; acc: 13.7; ppl: 848.3; xent: 6.7; lr: 0.00005; sents:  234753; bsz: 3514/3746/117; 3028/3227 tok/s;   4667 sec;\n",
            "[2024-03-20 20:18:53,550 INFO] Step 1500/100000; acc: 21.0; ppl: 323.9; xent: 5.8; lr: 0.00008; sents:  236644; bsz: 3549/3746/118; 3048/3217 tok/s;   6996 sec;\n",
            "[2024-03-20 20:57:22,328 INFO] Step 2000/100000; acc: 30.8; ppl: 137.3; xent: 4.9; lr: 0.00010; sents:  244345; bsz: 3493/3717/122; 3026/3220 tok/s;   9305 sec;\n",
            "[2024-03-20 21:03:47,888 INFO] * Transform statistics for corpus(50.00%):\n",
            "\t\t\t* FilterTooLongStats(filtered=19)\n",
            "\n",
            "[2024-03-20 21:03:47,889 INFO] Weighted corpora loaded so far:\n",
            "\t\t\t* corpus: 3\n",
            "[2024-03-20 21:03:53,147 INFO] * Transform statistics for corpus(50.00%):\n",
            "\t\t\t* FilterTooLongStats(filtered=21)\n",
            "\n",
            "[2024-03-20 21:03:53,148 INFO] Weighted corpora loaded so far:\n",
            "\t\t\t* corpus: 3\n",
            "[2024-03-20 21:36:01,472 INFO] Step 2500/100000; acc: 40.9; ppl:  66.8; xent: 4.2; lr: 0.00013; sents:  239635; bsz: 3542/3734/120; 3055/3220 tok/s;  11624 sec;\n",
            "[2024-03-20 21:36:25,881 INFO] valid stats calculation\n",
            "                           took: 24.40772533416748 s.\n",
            "[2024-03-20 21:36:25,883 INFO] Train perplexity: 366.483\n",
            "[2024-03-20 21:36:25,883 INFO] Train accuracy: 22.7193\n",
            "[2024-03-20 21:36:25,883 INFO] Sentences processed: 1.19954e+06\n",
            "[2024-03-20 21:36:25,883 INFO] Average bsz: 3524/3734/120\n",
            "[2024-03-20 21:36:25,883 INFO] Validation perplexity: 40.6704\n",
            "[2024-03-20 21:36:25,883 INFO] Validation accuracy: 49.4989\n",
            "[2024-03-20 21:36:25,883 INFO] Model is improving ppl: inf --> 40.6704.\n",
            "[2024-03-20 21:36:25,883 INFO] Model is improving acc: -inf --> 49.4989.\n",
            "[2024-03-20 22:14:55,457 INFO] Step 3000/100000; acc: 49.6; ppl:  39.3; xent: 3.7; lr: 0.00015; sents:  237200; bsz: 3510/3729/119; 3007/3196 tok/s;  13958 sec;\n",
            "[2024-03-20 22:28:21,780 INFO] * Transform statistics for corpus(50.00%):\n",
            "\t\t\t* FilterTooLongStats(filtered=19)\n",
            "\n",
            "[2024-03-20 22:28:21,780 INFO] Weighted corpora loaded so far:\n",
            "\t\t\t* corpus: 4\n",
            "[2024-03-20 22:28:32,109 INFO] * Transform statistics for corpus(50.00%):\n",
            "\t\t\t* FilterTooLongStats(filtered=18)\n",
            "\n",
            "[2024-03-20 22:28:32,109 INFO] Weighted corpora loaded so far:\n",
            "\t\t\t* corpus: 4\n",
            "[2024-03-20 22:53:34,006 INFO] Step 3500/100000; acc: 55.8; ppl:  27.4; xent: 3.3; lr: 0.00018; sents:  240617; bsz: 3532/3760/120; 3046/3243 tok/s;  16276 sec;\n",
            "[2024-03-20 23:31:48,943 INFO] Step 4000/100000; acc: 59.7; ppl:  22.1; xent: 3.1; lr: 0.00020; sents:  244336; bsz: 3492/3713/122; 3043/3236 tok/s;  18571 sec;\n",
            "[2024-03-20 23:52:11,293 INFO] * Transform statistics for corpus(50.00%):\n",
            "\t\t\t* FilterTooLongStats(filtered=19)\n",
            "\n",
            "[2024-03-20 23:52:11,293 INFO] Weighted corpora loaded so far:\n",
            "\t\t\t* corpus: 5\n",
            "[2024-03-20 23:52:29,604 INFO] * Transform statistics for corpus(50.00%):\n",
            "\t\t\t* FilterTooLongStats(filtered=21)\n",
            "\n",
            "[2024-03-20 23:52:29,605 INFO] Weighted corpora loaded so far:\n",
            "\t\t\t* corpus: 5\n",
            "[2024-03-21 00:10:20,317 INFO] Step 4500/100000; acc: 62.8; ppl:  18.6; xent: 2.9; lr: 0.00023; sents:  237413; bsz: 3566/3743/119; 3086/3239 tok/s;  20883 sec;\n",
            "[2024-03-21 00:48:36,739 INFO] Step 5000/100000; acc: 65.1; ppl:  16.4; xent: 2.8; lr: 0.00025; sents:  244055; bsz: 3515/3739/122; 3062/3256 tok/s;  23179 sec;\n",
            "[2024-03-21 00:49:02,080 INFO] valid stats calculation\n",
            "                           took: 25.33945393562317 s.\n",
            "[2024-03-21 00:49:02,082 INFO] Train perplexity: 92.886\n",
            "[2024-03-21 00:49:02,082 INFO] Train accuracy: 40.6607\n",
            "[2024-03-21 00:49:02,082 INFO] Sentences processed: 2.40316e+06\n",
            "[2024-03-21 00:49:02,083 INFO] Average bsz: 3524/3735/120\n",
            "[2024-03-21 00:49:02,083 INFO] Validation perplexity: 14.4241\n",
            "[2024-03-21 00:49:02,083 INFO] Validation accuracy: 68.4901\n",
            "[2024-03-21 00:49:02,083 INFO] Model is improving ppl: 40.6704 --> 14.4241.\n",
            "[2024-03-21 00:49:02,083 INFO] Model is improving acc: 49.4989 --> 68.4901.\n",
            "[2024-03-21 00:49:02,088 INFO] Saving checkpoint /content/drive/MyDrive/Colab_Notebooks/Diplomovka/Dáta/europarl/complete_model_step_5000.pt\n",
            "[2024-03-21 01:16:29,514 INFO] * Transform statistics for corpus(50.00%):\n",
            "\t\t\t* FilterTooLongStats(filtered=21)\n",
            "\n",
            "[2024-03-21 01:16:29,514 INFO] Weighted corpora loaded so far:\n",
            "\t\t\t* corpus: 6\n",
            "[2024-03-21 01:16:38,771 INFO] * Transform statistics for corpus(50.00%):\n",
            "\t\t\t* FilterTooLongStats(filtered=21)\n",
            "\n",
            "[2024-03-21 01:16:38,771 INFO] Weighted corpora loaded so far:\n",
            "\t\t\t* corpus: 6\n",
            "[2024-03-21 01:27:19,546 INFO] Step 5500/100000; acc: 66.6; ppl:  15.1; xent: 2.7; lr: 0.00028; sents:  239321; bsz: 3507/3719/120; 3020/3202 tok/s;  25502 sec;\n",
            "[2024-03-21 02:05:35,236 INFO] Step 6000/100000; acc: 68.2; ppl:  13.8; xent: 2.6; lr: 0.00030; sents:  234976; bsz: 3524/3725/117; 3070/3245 tok/s;  27798 sec;\n",
            "[2024-03-21 02:40:03,578 INFO] * Transform statistics for corpus(50.00%):\n",
            "\t\t\t* FilterTooLongStats(filtered=21)\n",
            "\n",
            "[2024-03-21 02:40:03,579 INFO] Weighted corpora loaded so far:\n",
            "\t\t\t* corpus: 7\n",
            "[2024-03-21 02:40:04,217 INFO] * Transform statistics for corpus(50.00%):\n",
            "\t\t\t* FilterTooLongStats(filtered=18)\n",
            "\n",
            "[2024-03-21 02:40:04,218 INFO] Weighted corpora loaded so far:\n",
            "\t\t\t* corpus: 7\n",
            "[2024-03-21 02:43:48,014 INFO] Step 6500/100000; acc: 69.0; ppl:  13.2; xent: 2.6; lr: 0.00033; sents:  244774; bsz: 3524/3744/122; 3074/3266 tok/s;  30090 sec;\n",
            "[2024-03-21 03:21:57,551 INFO] Step 7000/100000; acc: 70.2; ppl:  12.3; xent: 2.5; lr: 0.00035; sents:  246045; bsz: 3525/3728/123; 3079/3257 tok/s;  32380 sec;\n",
            "[2024-03-21 04:00:06,388 INFO] Step 7500/100000; acc: 70.5; ppl:  12.1; xent: 2.5; lr: 0.00038; sents:  235594; bsz: 3516/3738/118; 3072/3266 tok/s;  34669 sec;\n",
            "[2024-03-21 04:00:31,508 INFO] valid stats calculation\n",
            "                           took: 25.11836290359497 s.\n",
            "[2024-03-21 04:00:31,510 INFO] Train perplexity: 48.5525\n",
            "[2024-03-21 04:00:31,510 INFO] Train accuracy: 50.074\n",
            "[2024-03-21 04:00:31,510 INFO] Sentences processed: 3.60387e+06\n",
            "[2024-03-21 04:00:31,510 INFO] Average bsz: 3522/3734/120\n",
            "[2024-03-21 04:00:31,510 INFO] Validation perplexity: 11.1093\n",
            "[2024-03-21 04:00:31,510 INFO] Validation accuracy: 72.8497\n",
            "[2024-03-21 04:00:31,510 INFO] Model is improving ppl: 14.4241 --> 11.1093.\n",
            "[2024-03-21 04:00:31,510 INFO] Model is improving acc: 68.4901 --> 72.8497.\n",
            "[2024-03-21 04:38:40,770 INFO] Step 8000/100000; acc: 71.8; ppl:  11.3; xent: 2.4; lr: 0.00040; sents:  235266; bsz: 3539/3754/118; 3059/3244 tok/s;  36983 sec;\n",
            "[2024-03-21 05:16:43,060 INFO] Step 8500/100000; acc: 72.1; ppl:  11.1; xent: 2.4; lr: 0.00039; sents:  236471; bsz: 3509/3726/118; 3075/3265 tok/s;  39265 sec;\n",
            "[2024-03-21 05:26:38,416 INFO] * Transform statistics for corpus(50.00%):\n",
            "\t\t\t* FilterTooLongStats(filtered=41)\n",
            "\n",
            "[2024-03-21 05:26:38,417 INFO] Weighted corpora loaded so far:\n",
            "\t\t\t* corpus: 8\n",
            "[2024-03-21 05:26:38,948 INFO] * Transform statistics for corpus(50.00%):\n",
            "\t\t\t* FilterTooLongStats(filtered=40)\n",
            "\n",
            "[2024-03-21 05:26:38,948 INFO] Weighted corpora loaded so far:\n",
            "\t\t\t* corpus: 8\n",
            "[2024-03-21 05:54:54,099 INFO] Step 9000/100000; acc: 73.2; ppl:  10.4; xent: 2.3; lr: 0.00038; sents:  245828; bsz: 3540/3731/123; 3091/3257 tok/s;  41556 sec;\n",
            "[2024-03-21 06:32:52,017 INFO] Step 9500/100000; acc: 73.7; ppl:  10.1; xent: 2.3; lr: 0.00037; sents:  242910; bsz: 3507/3722/121; 3079/3268 tok/s;  43834 sec;\n",
            "[2024-03-21 06:49:41,168 INFO] * Transform statistics for corpus(50.00%):\n",
            "\t\t\t* FilterTooLongStats(filtered=20)\n",
            "\n",
            "[2024-03-21 06:49:41,168 INFO] Weighted corpora loaded so far:\n",
            "\t\t\t* corpus: 9\n",
            "[2024-03-21 06:49:49,921 INFO] * Transform statistics for corpus(50.00%):\n",
            "\t\t\t* FilterTooLongStats(filtered=19)\n",
            "\n",
            "[2024-03-21 06:49:49,922 INFO] Weighted corpora loaded so far:\n",
            "\t\t\t* corpus: 9\n",
            "[2024-03-21 07:10:54,316 INFO] Step 10000/100000; acc: 74.3; ppl:   9.8; xent: 2.3; lr: 0.00036; sents:  237432; bsz: 3512/3739/119; 3078/3276 tok/s;  46117 sec;\n",
            "[2024-03-21 07:11:19,362 INFO] valid stats calculation\n",
            "                           took: 25.044062614440918 s.\n",
            "[2024-03-21 07:11:19,363 INFO] Train perplexity: 33.1309\n",
            "[2024-03-21 07:11:19,363 INFO] Train accuracy: 55.812\n",
            "[2024-03-21 07:11:19,363 INFO] Sentences processed: 4.80178e+06\n",
            "[2024-03-21 07:11:19,363 INFO] Average bsz: 3522/3734/120\n",
            "[2024-03-21 07:11:19,364 INFO] Validation perplexity: 9.72583\n",
            "[2024-03-21 07:11:19,364 INFO] Validation accuracy: 75.2405\n",
            "[2024-03-21 07:11:19,364 INFO] Model is improving ppl: 11.1093 --> 9.72583.\n",
            "[2024-03-21 07:11:19,364 INFO] Model is improving acc: 72.8497 --> 75.2405.\n",
            "[2024-03-21 07:11:19,369 INFO] Saving checkpoint /content/drive/MyDrive/Colab_Notebooks/Diplomovka/Dáta/europarl/complete_model_step_10000.pt\n",
            "[2024-03-21 07:49:27,865 INFO] Step 10500/100000; acc: 75.0; ppl:   9.5; xent: 2.2; lr: 0.00035; sents:  243488; bsz: 3525/3736/122; 3047/3230 tok/s;  48430 sec;\n",
            "[2024-03-21 08:13:13,189 INFO] * Transform statistics for corpus(50.00%):\n",
            "\t\t\t* FilterTooLongStats(filtered=21)\n",
            "\n",
            "[2024-03-21 08:13:13,189 INFO] Weighted corpora loaded so far:\n",
            "\t\t\t* corpus: 10\n",
            "[2024-03-21 08:13:27,122 INFO] * Transform statistics for corpus(50.00%):\n",
            "\t\t\t* FilterTooLongStats(filtered=20)\n",
            "\n",
            "[2024-03-21 08:13:27,123 INFO] Weighted corpora loaded so far:\n",
            "\t\t\t* corpus: 10\n",
            "[2024-03-21 08:27:37,549 INFO] Step 11000/100000; acc: 75.2; ppl:   9.4; xent: 2.2; lr: 0.00034; sents:  235409; bsz: 3545/3743/118; 3096/3269 tok/s;  50720 sec;\n",
            "[2024-03-21 09:05:45,827 INFO] Step 11500/100000; acc: 76.0; ppl:   9.0; xent: 2.2; lr: 0.00034; sents:  239326; bsz: 3529/3738/120; 3084/3267 tok/s;  53008 sec;\n",
            "[2024-03-21 09:36:22,500 INFO] * Transform statistics for corpus(50.00%):\n",
            "\t\t\t* FilterTooLongStats(filtered=20)\n",
            "\n",
            "[2024-03-21 09:36:22,500 INFO] Weighted corpora loaded so far:\n",
            "\t\t\t* corpus: 11\n",
            "[2024-03-21 09:36:27,181 INFO] * Transform statistics for corpus(50.00%):\n",
            "\t\t\t* FilterTooLongStats(filtered=20)\n",
            "\n",
            "[2024-03-21 09:36:27,181 INFO] Weighted corpora loaded so far:\n",
            "\t\t\t* corpus: 11\n",
            "[2024-03-21 09:43:42,854 INFO] Step 12000/100000; acc: 75.8; ppl:   9.0; xent: 2.2; lr: 0.00033; sents:  241307; bsz: 3512/3729/121; 3085/3276 tok/s;  55285 sec;\n",
            "[2024-03-21 10:21:43,383 INFO] Step 12500/100000; acc: 77.0; ppl:   8.5; xent: 2.1; lr: 0.00032; sents:  240967; bsz: 3527/3727/120; 3093/3269 tok/s;  57566 sec;\n",
            "[2024-03-21 10:22:08,311 INFO] valid stats calculation\n",
            "                           took: 24.92669939994812 s.\n",
            "[2024-03-21 10:22:08,313 INFO] Train perplexity: 25.5659\n",
            "[2024-03-21 10:22:08,313 INFO] Train accuracy: 59.8052\n",
            "[2024-03-21 10:22:08,314 INFO] Sentences processed: 6.00227e+06\n",
            "[2024-03-21 10:22:08,314 INFO] Average bsz: 3523/3734/120\n",
            "[2024-03-21 10:22:08,314 INFO] Validation perplexity: 9.045\n",
            "[2024-03-21 10:22:08,314 INFO] Validation accuracy: 76.431\n",
            "[2024-03-21 10:22:08,314 INFO] Model is improving ppl: 9.72583 --> 9.045.\n",
            "[2024-03-21 10:22:08,314 INFO] Model is improving acc: 75.2405 --> 76.431.\n"
          ]
        }
      ],
      "source": [
        "# Trénovanie the NMT model\n",
        "!onmt_train -config config.yaml -gpu_ranks 0"
      ]
    },
    {
      "cell_type": "markdown",
      "metadata": {
        "id": "9R8EYgvfvDMy"
      },
      "source": [
        "# Preklad"
      ]
    },
    {
      "cell_type": "code",
      "execution_count": 192,
      "metadata": {
        "id": "b4FKodPwvIWx"
      },
      "outputs": [],
      "source": [
        "config_translate = '''\n",
        "\n",
        "#model: /content/drive/MyDrive/Colab_Notebooks/Diplomovka/Dáta/europarl/complete_model_step_100000.pt     # sem vložiť najlepší model trénovania\n",
        "#src: /content/drive/MyDrive/Colab_Notebooks/Diplomovka/Dáta/europarl/source_subworded.test\n",
        "#output: /content/drive/MyDrive/Colab_Notebooks/Diplomovka/Dáta/europarl/translated\n",
        "\n",
        "model: /content/drive/MyDrive/Colab_Notebooks/Diplomovka/Dáta/ParaCrawl/complete_model_step_100000.pt     # sem vložiť najlepší model trénovania\n",
        "src: /content/drive/MyDrive/Colab_Notebooks/Diplomovka/Dáta/ParaCrawl/source_subworded.test\n",
        "output: /content/drive/MyDrive/Colab_Notebooks/Diplomovka/Dáta/ParaCrawl/translated\n",
        "\n",
        "log_file: translate.log\n",
        "\n",
        "seed: 42\n",
        "\n",
        "beam_size: 4\n",
        "min_length: 1\n",
        "length_penalty: avg\n",
        "\n",
        "batch_size: 32\n",
        "batch_type: sents # default hodnota\n",
        "\n",
        "gpu: 0\n",
        "\n",
        "coverage_penalty: summary\n",
        "beta: 0.5\n",
        "alpha: 1.0 # default hodnota\n",
        "\n",
        "'''\n",
        "\n",
        "with open(\"config_translated.yaml\", \"w+\", encoding=\"utf-8\") as config_yaml:\n",
        "  config_yaml.write(config_translate)"
      ]
    },
    {
      "cell_type": "code",
      "execution_count": 193,
      "metadata": {
        "colab": {
          "base_uri": "https://localhost:8080/"
        },
        "id": "hQ0AMr65aU2x",
        "outputId": "65850e9f-dbff-4923-9162-1c13f4f170ce"
      },
      "outputs": [
        {
          "output_type": "stream",
          "name": "stdout",
          "text": [
            "[2024-03-27 15:17:45,645 INFO] Loading checkpoint from /content/drive/MyDrive/Colab_Notebooks/Diplomovka/Dáta/ParaCrawl/complete_model_step_100000.pt\n",
            "[2024-03-27 15:18:04,677 INFO] Loading data into the model\n",
            "[2024-03-27 15:18:38,542 INFO] PRED SCORE: -5.1565, PRED PPL: 173.55 NB SENTENCES: 4000\n",
            "Time w/o python interpreter load/terminate:  53.544762134552\n"
          ]
        }
      ],
      "source": [
        "# Preklad\n",
        "!onmt_translate -config config_translated.yaml"
      ]
    },
    {
      "cell_type": "code",
      "execution_count": 199,
      "metadata": {
        "colab": {
          "base_uri": "https://localhost:8080/"
        },
        "id": "ZgmIvlbOaXv7",
        "outputId": "5a19b7ee-1a61-417a-d3a1-aea81e917bbf"
      },
      "outputs": [
        {
          "output_type": "stream",
          "name": "stdout",
          "text": [
            "▁bo is ▁mar ch and ▁hodinová ▁predpoveď ▁počasia\n",
            "▁meteorologická ▁stanica ▁har rie t ▁alex an der ▁f ▁vo ▁vzdialenosti ▁ 5 6 7 km ▁od ▁sun set\n",
            "▁to ▁bolo ▁v ▁nove mbri ▁ 1 9 9 0 ▁po ▁zmene ▁reži mu\n",
            "▁preklad ▁projektu ▁ya stin g ▁do ▁sloven činy ▁v ▁súčasnosti ▁obsahuje ▁ 3 4 0 ▁reťazcov ▁na ▁preklad ▁a ▁je ▁dokon čený ▁na ▁ 1 0 0 0\n",
            "▁n dou ng ou ▁teplota ▁zajtra\n",
            "▁ko nal ▁som ▁v ▁medicí ne\n",
            "\n"
          ]
        }
      ],
      "source": [
        "#translated = r\"/content/drive/MyDrive/Colab_Notebooks/Diplomovka/Dáta/europarl/translated\"\n",
        "translated = r\"/content/drive/MyDrive/Colab_Notebooks/Diplomovka/Dáta/ParaCrawl/translated\"\n",
        "with open(translated, \"r\", encoding=\"utf-8\") as file:\n",
        "    for i, line in enumerate(file):\n",
        "        print(line.strip())\n",
        "        if i >= 5:\n",
        "            break\n",
        "\n",
        "print()"
      ]
    },
    {
      "cell_type": "code",
      "execution_count": 194,
      "metadata": {
        "colab": {
          "base_uri": "https://localhost:8080/"
        },
        "id": "6flpTjHkaY-g",
        "outputId": "580cf50a-35fc-4b70-8b40-d389099ac47d"
      },
      "outputs": [
        {
          "output_type": "stream",
          "name": "stdout",
          "text": [
            "Dekódovanie bolo dokončené! Výstupný súbor: /content/drive/MyDrive/Colab_Notebooks/Diplomovka/Dáta/ParaCrawl/translated.desubword\n",
            "Dekódovanie bolo dokončené! Výstupný súbor: /content/drive/MyDrive/Colab_Notebooks/Diplomovka/Dáta/ParaCrawl/target_subworded.test.desubword\n",
            "Dekódovanie bolo dokončené! Výstupný súbor: /content/drive/MyDrive/Colab_Notebooks/Diplomovka/Dáta/ParaCrawl/source_subworded.test.desubword\n"
          ]
        }
      ],
      "source": [
        "target_model = r\"/content/target.model\"\n",
        "#translation = r\"/content/drive/MyDrive/Colab_Notebooks/Diplomovka/Dáta/europarl/translated\"\n",
        "translation = r\"/content/drive/MyDrive/Colab_Notebooks/Diplomovka/Dáta/ParaCrawl/translated\"\n",
        "translation_desubword = translation + \".desubword\"\n",
        "\n",
        "sp = spm.SentencePieceProcessor()\n",
        "sp.load(target_model)\n",
        "\n",
        "# Desubword prekladový súbor\n",
        "with open(translation, encoding='utf-8') as vstup, open(translation_desubword, \"w\", encoding='utf-8') as vystup:\n",
        "    for rad in vstup:\n",
        "        desub = sp.decode_pieces(rad.strip().split(\" \"))\n",
        "        vystup.write(desub + \"\\n\")\n",
        "\n",
        "print(f\"Dekódovanie bolo dokončené! Výstupný súbor: {translation_desubword}\")\n",
        "\n",
        "#target_test = r\"/content/drive/MyDrive/Colab_Notebooks/Diplomovka/Dáta/europarl/target_subworded.test\"\n",
        "target_test = r\"/content/drive/MyDrive/Colab_Notebooks/Diplomovka/Dáta/ParaCrawl/target_subworded.test\"\n",
        "target_test_desubword = target_test + \".desubword\"\n",
        "\n",
        "with open(target_test, encoding='utf-8') as vstup, open(target_test_desubword, \"w\", encoding='utf-8') as vystup:\n",
        "    for rad in vstup:\n",
        "        desub = sp.decode_pieces(rad.strip().split(\" \"))\n",
        "        vystup.write(desub + \"\\n\")\n",
        "\n",
        "print(f\"Dekódovanie bolo dokončené! Výstupný súbor: {target_test_desubword}\")\n",
        "\n",
        "#source_test = r\"/content/drive/MyDrive/Colab_Notebooks/Diplomovka/Dáta/europarl/source_subworded.test\"\n",
        "source_test = r\"/content/drive/MyDrive/Colab_Notebooks/Diplomovka/Dáta/ParaCrawl/source_subworded.test\"\n",
        "source_test_desubword = source_test + \".desubword\"\n",
        "\n",
        "with open(source_test, encoding='utf-8') as vstup, open(source_test_desubword, \"w\", encoding='utf-8') as vystup:\n",
        "    for rad in vstup:\n",
        "        desub = sp.decode_pieces(rad.strip().split(\" \"))\n",
        "        vystup.write(desub + \"\\n\")\n",
        "\n",
        "print(f\"Dekódovanie bolo dokončené! Výstupný súbor: {source_test_desubword}\")"
      ]
    },
    {
      "cell_type": "code",
      "execution_count": 195,
      "metadata": {
        "id": "ibTSQf5HbPfw"
      },
      "outputs": [],
      "source": [
        "#reference = r\"/content/drive/MyDrive/Colab_Notebooks/Diplomovka/Dáta/europarl/target_subworded.test.desubword\"\n",
        "#preklad = r\"/content/drive/MyDrive/Colab_Notebooks/Diplomovka/Dáta/europarl/translated.desubword\"\n",
        "#zdroj = r\"/content/drive/MyDrive/Colab_Notebooks/Diplomovka/Dáta/europarl/source_subworded.test.desubword\"\n",
        "\n",
        "reference = r\"/content/drive/MyDrive/Colab_Notebooks/Diplomovka/Dáta/ParaCrawl/target_subworded.test.desubword\"\n",
        "preklad = r\"/content/drive/MyDrive/Colab_Notebooks/Diplomovka/Dáta/ParaCrawl/translated.desubword\"\n",
        "zdroj = r\"/content/drive/MyDrive/Colab_Notebooks/Diplomovka/Dáta/ParaCrawl/source_subworded.test.desubword\""
      ]
    },
    {
      "cell_type": "code",
      "execution_count": 196,
      "metadata": {
        "colab": {
          "base_uri": "https://localhost:8080/"
        },
        "id": "4EVAw1ioMaur",
        "outputId": "48a6cb20-afc5-4ffe-bac2-11577927dc20"
      },
      "outputs": [
        {
          "output_type": "stream",
          "name": "stdout",
          "text": [
            "belle mare predpoveď počasia na víkend\n",
            "meteorologická stanica harriet alexander f vo vzdialenosti 567km od sunset city\n",
            "to bolo po zmene režimu v novembri 1990 pyrotechnicky odpálené do vzduchu\n",
            "preklad projektu yastinstallation do slovenčiny v súčasnosti obsahuje 340 reťazcov na preklad a je dokončený na 1000\n",
            "ndoungou hodinová predpoveď počasia\n",
            "robil som prácu v oblasti medicíny\n",
            "\n"
          ]
        }
      ],
      "source": [
        "with open(reference, \"r\", encoding=\"utf-8\") as file:\n",
        "    for i, line in enumerate(file):\n",
        "        print(line.strip())\n",
        "        if i >= 5:\n",
        "            break\n",
        "\n",
        "print()"
      ]
    },
    {
      "cell_type": "code",
      "execution_count": 197,
      "metadata": {
        "colab": {
          "base_uri": "https://localhost:8080/"
        },
        "id": "_3MFttHDbWmr",
        "outputId": "18e6e4a8-acbd-4d0f-c78b-fecf5655d9f9"
      },
      "outputs": [
        {
          "output_type": "stream",
          "name": "stdout",
          "text": [
            "bois marchand hodinová predpoveď počasia\n",
            "meteorologická stanica harriet alexander f vo vzdialenosti 567km od sunset\n",
            "to bolo v novembri 1990 po zmene režimu\n",
            "preklad projektu yasting do slovenčiny v súčasnosti obsahuje 340 reťazcov na preklad a je dokončený na 1000\n",
            "ndoungou teplota zajtra\n",
            "konal som v medicíne\n",
            "\n"
          ]
        }
      ],
      "source": [
        "with open(preklad, \"r\", encoding=\"utf-8\") as file:\n",
        "    for i, line in enumerate(file):\n",
        "        print(line.strip())\n",
        "        if i >= 5:\n",
        "            break\n",
        "\n",
        "print()"
      ]
    },
    {
      "cell_type": "code",
      "source": [
        "with open(zdroj, \"r\", encoding=\"utf-8\") as file:\n",
        "    for i, line in enumerate(file):\n",
        "        print(line.strip())\n",
        "        if i >= 5:\n",
        "            break\n",
        "\n",
        "print()"
      ],
      "metadata": {
        "colab": {
          "base_uri": "https://localhost:8080/"
        },
        "id": "uIS78myAhzYc",
        "outputId": "93e54fae-6af7-4b6d-c23d-7f1e7546dd4c"
      },
      "execution_count": 198,
      "outputs": [
        {
          "output_type": "stream",
          "name": "stdout",
          "text": [
            "bois▁marchand▁hourly▁weather▁forecast\n",
            "▁weather station harriet alexander f at 567km of▁sunset city\n",
            "▁that▁was▁blown up in▁november 1990▁following the▁change of regime\n",
            "▁translation▁project for yastinstallation▁into▁sinhala▁currently▁contains 340▁strings for▁translation and is 00▁complete\n",
            "▁ndoungou the▁temperature▁tomorrow\n",
            "i▁was▁doing business in▁medicine\n",
            "\n"
          ]
        }
      ]
    },
    {
      "cell_type": "markdown",
      "metadata": {
        "id": "KhB_vCb1yGnk"
      },
      "source": [
        "# Evalvácia"
      ]
    },
    {
      "cell_type": "code",
      "execution_count": 175,
      "metadata": {
        "id": "4cXohf183C1P"
      },
      "outputs": [],
      "source": [
        "\n",
        "#!python -m spacy download xx_ent_wiki_sm\n",
        "\n",
        "#!pip install --upgrade pip\n",
        "#!pip install unbabel-comet\n",
        "\n",
        "#!pip install spacy"
      ]
    },
    {
      "cell_type": "code",
      "execution_count": 176,
      "metadata": {
        "colab": {
          "base_uri": "https://localhost:8080/"
        },
        "id": "0TXq81Lq2sjn",
        "outputId": "027d6fb0-6471-4788-d5fc-b58862f77327"
      },
      "outputs": [
        {
          "output_type": "stream",
          "name": "stderr",
          "text": [
            "[nltk_data] Downloading package wordnet to /root/nltk_data...\n",
            "[nltk_data]   Package wordnet is already up-to-date!\n"
          ]
        }
      ],
      "source": [
        "import spacy\n",
        "import sacrebleu\n",
        "from nltk.translate import meteor_score as ms\n",
        "import nltk\n",
        "import warnings\n",
        "from comet import download_model, load_from_checkpoint\n",
        "nltk.download('wordnet')\n",
        "\n",
        "nlp = spacy.load(\"xx_ent_wiki_sm\") #https://github.com/explosion/spacy-models/releases/tag/xx_ent_wiki_sm-3.7.0"
      ]
    },
    {
      "cell_type": "code",
      "execution_count": 200,
      "metadata": {
        "id": "diNDH7rPzl_9"
      },
      "outputs": [],
      "source": [
        "#reference = r\"/content/drive/MyDrive/Colab_Notebooks/Diplomovka/Dáta/europarl/target_subworded.test.desubword\"\n",
        "#preklad = r\"/content/drive/MyDrive/Colab_Notebooks/Diplomovka/Dáta/europarl/translated.desubword\"\n",
        "#zdroj = r\"/content/drive/MyDrive/Colab_Notebooks/Diplomovka/Dáta/europarl/source_subworded.test.desubword\"\n",
        "\n",
        "reference = r\"/content/drive/MyDrive/Colab_Notebooks/Diplomovka/Dáta/ParaCrawl/target_subworded.test.desubword\"\n",
        "preklad = r\"/content/drive/MyDrive/Colab_Notebooks/Diplomovka/Dáta/ParaCrawl/translated.desubword\"\n",
        "zdroj = r\"/content/drive/MyDrive/Colab_Notebooks/Diplomovka/Dáta/ParaCrawl/source_subworded.test.desubword\""
      ]
    },
    {
      "cell_type": "code",
      "execution_count": 201,
      "metadata": {
        "colab": {
          "base_uri": "https://localhost:8080/"
        },
        "id": "Y_Mm6k99ba9I",
        "outputId": "25e05989-d095-4369-b5a3-12e3cdf777b8"
      },
      "outputs": [
        {
          "output_type": "stream",
          "name": "stdout",
          "text": [
            "Referenčná veta v SK jazyku: belle mare predpoveď počasia na víkend\n",
            "Preložená veta:\t\t     bois marchand hodinová predpoveď počasia\n",
            "BLEU:   38.99843958028101\n",
            "METEOR:  0.3177966101694915\n"
          ]
        }
      ],
      "source": [
        "# referenčné hodnoty\n",
        "refer = []\n",
        "\n",
        "with open(reference, encoding='utf-8') as reference:\n",
        "    for rad in reference:\n",
        "        rad = rad.strip()\n",
        "        refer.append(rad)\n",
        "\n",
        "print(\"Referenčná veta v SK jazyku:\", refer[0]) # výpis prvej referenčenj vety, pomocou ktorej budeme porovnávať vety\n",
        "\n",
        "refer = [refer]  # list listov, teda forma, ktorú si vyžaduje SacreBLEU\n",
        "\n",
        "# hodnoty, ktoré sme preložili\n",
        "prek = []\n",
        "\n",
        "with open(preklad, encoding='utf-8') as preklad:\n",
        "    for rad in preklad:\n",
        "        rad = rad.strip()\n",
        "        prek.append(rad)\n",
        "\n",
        "print(\"Preložená veta:\\t\\t    \", prek[0]) # výpis prvého preloženého riadka\n",
        "\n",
        "# BLEU skóre - výpočet BLEU na základe porovnania referenčných viet s preloženými vetami\n",
        "bleu = sacrebleu.corpus_bleu(prek, refer)\n",
        "print(\"BLEU:  \", bleu.score)\n",
        "\n",
        "# tokenizácia je potrebná pre rozdelenie viet do menších častí (tokenov), aby Meteor dokázal porovnávať slová a ich význam\n",
        "def tokenizacia(text):\n",
        "    doc = nlp(text)\n",
        "    return [token.text for token in doc]\n",
        "\n",
        "meteor_scores = []\n",
        "for refer_segment, prek in zip(refer, prek):\n",
        "    ref = refer_segment[0]\n",
        "    token_ref = tokenizacia(ref) # tokenizácia referenčných viet\n",
        "    token_prek = tokenizacia(prek) # tokenizáci preložených viet\n",
        "\n",
        "    # Výpočet METEOR skóre - meteor skóre narozdiel od bleu zohľadnuje sémantiku do istej miery\n",
        "    score = ms.meteor_score([token_ref], token_prek) # výpočet meteor skóre pre jednu vetu\n",
        "    meteor_scores.append(score)\n",
        "\n",
        "average_meteor_score = sum(meteor_scores) / len(meteor_scores) # výpočet priemeru Meteor skóre, pre celú množinu preložených viet\n",
        "print(\"METEOR: \", average_meteor_score)"
      ]
    },
    {
      "cell_type": "code",
      "source": [
        "# Výpočet COMET\n",
        "\n",
        "model_comet = download_model(\"Unbabel/wmt22-comet-da\")\n",
        "model = load_from_checkpoint(model_comet)\n",
        "\n",
        "\n",
        "def nacitanie(subor):\n",
        "    with open(subor, \"r\", encoding=\"utf-8\") as subor:\n",
        "        text = subor.read()\n",
        "    return text\n",
        "\n",
        "#zdroj = r\"/content/drive/MyDrive/Colab_Notebooks/Diplomovka/Dáta/europarl/source_subworded.test.desubword\"\n",
        "#preklad = r\"/content/drive/MyDrive/Colab_Notebooks/Diplomovka/Dáta/europarl/translated.desubword\"\n",
        "#reference = r\"/content/drive/MyDrive/Colab_Notebooks/Diplomovka/Dáta/europarl/target_subworded.test.desubword\"\n",
        "\n",
        "reference = r\"/content/drive/MyDrive/Colab_Notebooks/Diplomovka/Dáta/ParaCrawl/target_subworded.test.desubword\"\n",
        "preklad = r\"/content/drive/MyDrive/Colab_Notebooks/Diplomovka/Dáta/ParaCrawl/translated.desubword\"\n",
        "zdroj = r\"/content/drive/MyDrive/Colab_Notebooks/Diplomovka/Dáta/ParaCrawl/source_subworded.test.desubword\"\n",
        "\n",
        "# Načítanie textov zo súborov\n",
        "zdroj_text = nacitanie(zdroj)\n",
        "preklad_text = nacitanie(preklad)\n",
        "reference_text = nacitanie(reference)\n",
        "\n",
        "# Rozdelenie textov na vety\n",
        "zdroj_vety = zdroj_text.split(\"\\n\")\n",
        "preklad_vety = preklad_text.split(\"\\n\")\n",
        "reference_vety = reference_text.split(\"\\n\")\n",
        "\n",
        "# Predspracovanie dát do vhodnej podoby\n",
        "data = [{\"src\": zdroj, \"mt\": preklad, \"ref\": reference} for zdroj, preklad, reference in zip(zdroj_vety, preklad_vety, reference_vety)]\n",
        "\n",
        "# Výpočet COMET skóre\n",
        "comet_skore = model.predict(data, batch_size=8, gpus=1)\n",
        "print(comet_skore)\n",
        "\n"
      ],
      "metadata": {
        "colab": {
          "base_uri": "https://localhost:8080/",
          "height": 231,
          "referenced_widgets": [
            "f6f6ce2cf0ba42d5ab09f75fddfc8df6",
            "7e41ed3162ba43e88ad9f21cf809942a",
            "010f5adb51324948b6c6a00fd59afc84",
            "919d541cd72d439fb825bc56bed8a007",
            "0b2e07016745466f93598dfc0c583dd3",
            "74c02d5b93ac45bfaddb8bdaa958eeba",
            "f901abdbf25a48ae8d42516b1e1bfc30",
            "46b4fcb73b7048b0896694eaeb29f46b",
            "9210a779a6fb4dc4908decbb89ea66e9",
            "7ab57e80defb485ea79b3ca54a364893",
            "f7acae8bbda34f9eabbeacd85cb000b2"
          ]
        },
        "id": "qKC1taP9fPoW",
        "outputId": "54683c37-e037-4c4f-f94c-7fe1b4e00078"
      },
      "execution_count": 202,
      "outputs": [
        {
          "output_type": "display_data",
          "data": {
            "text/plain": [
              "Fetching 5 files:   0%|          | 0/5 [00:00<?, ?it/s]"
            ],
            "application/vnd.jupyter.widget-view+json": {
              "version_major": 2,
              "version_minor": 0,
              "model_id": "f6f6ce2cf0ba42d5ab09f75fddfc8df6"
            }
          },
          "metadata": {}
        },
        {
          "output_type": "stream",
          "name": "stderr",
          "text": [
            "INFO:pytorch_lightning.utilities.migration.utils:Lightning automatically upgraded your loaded checkpoint from v1.8.3.post1 to v2.2.1. To apply the upgrade to your files permanently, run `python -m pytorch_lightning.utilities.upgrade_checkpoint ../root/.cache/huggingface/hub/models--Unbabel--wmt22-comet-da/snapshots/371e9839ca4e213dde891b066cf3080f75ec7e72/checkpoints/model.ckpt`\n",
            "/usr/local/lib/python3.10/dist-packages/pytorch_lightning/core/saving.py:188: Found keys that are not in the model state dict but in the checkpoint: ['encoder.model.embeddings.position_ids']\n",
            "INFO:pytorch_lightning.utilities.rank_zero:GPU available: True (cuda), used: True\n",
            "INFO:pytorch_lightning.utilities.rank_zero:TPU available: False, using: 0 TPU cores\n",
            "INFO:pytorch_lightning.utilities.rank_zero:IPU available: False, using: 0 IPUs\n",
            "INFO:pytorch_lightning.utilities.rank_zero:HPU available: False, using: 0 HPUs\n",
            "INFO:pytorch_lightning.accelerators.cuda:LOCAL_RANK: 0 - CUDA_VISIBLE_DEVICES: [0]\n",
            "Predicting DataLoader 0: 100%|██████████| 501/501 [01:13<00:00,  6.78it/s]\n"
          ]
        },
        {
          "output_type": "stream",
          "name": "stdout",
          "text": [
            "Prediction([('scores', [0.8252907991409302, 0.9016987681388855, 0.790501594543457, 0.9089173674583435, 0.5641867518424988, 0.43907180428504944, 0.864329993724823, 0.978790819644928, 0.9567053914070129, 0.9889668226242065, 0.9618277549743652, 0.9195384383201599, 0.87381911277771, 0.987395167350769, 0.5917217135429382, 0.8856672644615173, 0.9831722378730774, 0.9942702651023865, 0.9580300450325012, 0.8447815775871277, 0.7564474940299988, 0.8902409076690674, 0.7695773243904114, 0.6341375112533569, 0.8429808020591736, 0.7670337557792664, 0.8748043775558472, 0.9817317128181458, 0.6405115723609924, 0.9389815330505371, 0.9625228047370911, 0.580163300037384, 0.9558382630348206, 0.8892841935157776, 0.7693253755569458, 0.9902013540267944, 0.7582029700279236, 0.9552078247070312, 0.9129635691642761, 0.8881673216819763, 0.6201022267341614, 0.9320631623268127, 0.9451920390129089, 0.8841105103492737, 0.8409052491188049, 0.8259703516960144, 0.986458957195282, 0.8532696962356567, 0.9530295729637146, 0.666233479976654, 0.7701557278633118, 0.6121631264686584, 0.6613112688064575, 0.9668802618980408, 0.9492126703262329, 0.877604067325592, 0.9853711128234863, 0.9377071261405945, 0.806779682636261, 0.8664277791976929, 0.9408535361289978, 0.5381115674972534, 0.9413090348243713, 0.5275294184684753, 0.8580275774002075, 0.9511048793792725, 0.957157552242279, 0.6763114333152771, 0.9616981148719788, 0.980061948299408, 0.5754616856575012, 0.9808523654937744, 0.8217710852622986, 0.93745356798172, 0.7859585285186768, 0.9162123799324036, 0.988690197467804, 0.6462883353233337, 0.9378212690353394, 0.9931108355522156, 0.9891850352287292, 0.8959541916847229, 0.794782817363739, 0.5401342511177063, 0.8905278444290161, 0.9860438704490662, 0.7820692658424377, 0.8389599919319153, 0.9654732346534729, 0.7880681753158569, 0.6048856377601624, 0.6470996737480164, 0.621218204498291, 0.5589489936828613, 0.9346442222595215, 0.8718089461326599, 0.5964344143867493, 0.7037740349769592, 0.6247205138206482, 0.9861032366752625, 0.9831536412239075, 0.7516977190971375, 0.9726642966270447, 0.8225265145301819, 0.823643147945404, 0.9179866909980774, 0.9341456890106201, 0.6625675559043884, 0.8556927442550659, 0.6959475874900818, 0.871787428855896, 0.8504655957221985, 0.6658692359924316, 0.6379631161689758, 0.8622546195983887, 0.9507988095283508, 0.494733601808548, 0.6765856146812439, 0.9382715821266174, 0.8887985944747925, 0.8651147484779358, 0.8693280816078186, 0.5803515315055847, 0.4971475899219513, 0.6975916028022766, 0.8552965521812439, 0.8213263750076294, 0.7235297560691833, 0.6918129324913025, 0.8226204514503479, 0.8875837922096252, 0.9456303715705872, 0.8847644329071045, 0.5973688960075378, 0.8191801905632019, 0.9336420893669128, 0.990912139415741, 0.8734270930290222, 0.8283107280731201, 0.9450874924659729, 0.9035769104957581, 0.95805424451828, 0.6094950437545776, 0.9106550216674805, 0.9637607932090759, 0.9379789233207703, 0.9785746335983276, 0.4547140896320343, 0.8841991424560547, 0.987010657787323, 0.9791332483291626, 0.8735499978065491, 0.9401399493217468, 0.9814394116401672, 0.939504086971283, 0.8622559309005737, 0.6180174946784973, 0.927457869052887, 0.8262598514556885, 0.6116657853126526, 0.6891903281211853, 0.9339097142219543, 0.9415811896324158, 0.6435099840164185, 0.8997908234596252, 0.9198081493377686, 0.942521870136261, 0.8439783453941345, 0.9773954749107361, 0.9758103489875793, 0.9051068425178528, 0.8044623732566833, 0.8911960124969482, 0.9648460149765015, 0.5790172219276428, 0.9320623278617859, 0.9065964818000793, 0.9825369715690613, 0.8831793665885925, 0.8792993426322937, 0.9906588196754456, 0.8845136165618896, 0.9749196767807007, 0.8342077136039734, 0.9908713102340698, 0.8760309815406799, 0.8672036528587341, 0.9382824301719666, 0.8706395626068115, 0.5785752534866333, 0.9415619373321533, 0.8208197355270386, 0.9540074467658997, 0.8510197997093201, 0.6164847016334534, 0.9901124835014343, 0.9812203049659729, 0.956103503704071, 0.8103062510490417, 0.9798755049705505, 0.43646475672721863, 0.5566844940185547, 0.8095940947532654, 0.9028343558311462, 0.8647463917732239, 0.6556056141853333, 0.7679094076156616, 0.8766944408416748, 0.9875422716140747, 0.8793693780899048, 0.9460980892181396, 0.8744502663612366, 0.667304515838623, 0.9776084423065186, 0.9880635738372803, 0.8155267238616943, 0.8935964107513428, 0.5989212393760681, 0.8922855257987976, 0.9119221568107605, 0.9811866283416748, 0.9865471720695496, 0.9466790556907654, 0.75023353099823, 0.5586004853248596, 0.8764844536781311, 0.8152399659156799, 0.8298141956329346, 0.8365221619606018, 0.6316909193992615, 0.3918943405151367, 0.8900079727172852, 0.8538739085197449, 0.731834352016449, 0.9571763277053833, 0.7198185920715332, 0.9499216079711914, 0.9505146145820618, 0.6042055487632751, 0.8735663890838623, 0.8119432330131531, 0.9620557427406311, 0.964664101600647, 0.5445969700813293, 0.8929968476295471, 0.973032534122467, 0.9009084105491638, 0.5254016518592834, 0.6465638279914856, 0.7906940579414368, 0.7164907455444336, 0.8657597899436951, 0.7019982933998108, 0.6827748417854309, 0.9271231293678284, 0.5682139992713928, 0.9926060438156128, 0.4371788799762726, 0.7107773423194885, 0.8384013772010803, 0.7197601795196533, 0.7510659098625183, 0.7328869700431824, 0.6718298196792603, 0.9835444688796997, 0.9824860095977783, 0.9555301070213318, 0.8692275881767273, 0.8802977204322815, 0.664387583732605, 0.914104700088501, 0.7203046083450317, 0.7229998111724854, 0.9227030873298645, 0.787078320980072, 0.8972036242485046, 0.8949727416038513, 0.6497244834899902, 0.7828896641731262, 0.873706042766571, 0.6603704690933228, 0.8937327265739441, 0.9540808796882629, 0.9537099599838257, 0.9129388928413391, 0.6400842666625977, 0.4881564676761627, 0.6735284328460693, 0.8753103017807007, 0.9527221918106079, 0.7268221974372864, 0.9798914194107056, 0.9499098062515259, 0.9041897654533386, 0.8837365508079529, 0.8091911673545837, 0.9867162108421326, 0.9871152639389038, 0.6020351648330688, 0.7229005694389343, 0.7031136155128479, 0.9535751938819885, 0.869623601436615, 0.9683486819267273, 0.8152444958686829, 0.8680259585380554, 0.9455848336219788, 0.942387044429779, 0.893615186214447, 0.9533195495605469, 0.8317899703979492, 0.6673752665519714, 0.869422972202301, 0.9344337582588196, 0.9447274208068848, 0.8649942278862, 0.9493599534034729, 0.9522383809089661, 0.8497244715690613, 0.9509298205375671, 0.8228923082351685, 0.4810093343257904, 0.6999498009681702, 0.7251634001731873, 0.554253876209259, 0.8446193337440491, 0.9028775691986084, 0.8800210952758789, 0.82880038022995, 0.8626962304115295, 0.9270929098129272, 0.576114296913147, 0.6406444907188416, 0.8144145607948303, 0.9468047022819519, 0.7013251185417175, 0.9762023091316223, 0.8962153792381287, 0.9417164921760559, 0.8074089884757996, 0.9800521731376648, 0.6040860414505005, 0.7242870926856995, 0.9314442276954651, 0.9313498139381409, 0.9493445754051208, 0.9039681553840637, 0.9756448864936829, 0.7220231890678406, 0.9436010718345642, 0.9493053555488586, 0.9633259177207947, 0.8936269879341125, 0.9035581946372986, 0.8700737953186035, 0.9367845058441162, 0.49170371890068054, 0.7667105197906494, 0.8318865299224854, 0.8598116636276245, 0.7211431860923767, 0.9194214344024658, 0.909251868724823, 0.689098596572876, 0.7037362456321716, 0.9738684892654419, 0.9788711667060852, 0.9084647297859192, 0.9831692576408386, 0.8875433206558228, 0.7201516032218933, 0.9643805623054504, 0.9740853309631348, 0.5985397696495056, 0.990170955657959, 0.852942168712616, 0.9759398102760315, 0.7109947800636292, 0.8875306844711304, 0.8429450988769531, 0.8979830741882324, 0.6050896644592285, 0.9379945993423462, 0.9915277361869812, 0.942116916179657, 0.9914140105247498, 0.9695513844490051, 0.787115752696991, 0.761164665222168, 0.7179976105690002, 0.6723213791847229, 0.8874890208244324, 0.7570235133171082, 0.6298785209655762, 0.6588498950004578, 0.9329110383987427, 0.8479183912277222, 0.6610881090164185, 0.9664627313613892, 0.6964389681816101, 0.9578818678855896, 0.7514021992683411, 0.9663168787956238, 0.926522433757782, 0.6568104028701782, 0.7686223387718201, 0.7059895396232605, 0.7674842476844788, 0.5059530138969421, 0.9543432593345642, 0.9078531861305237, 0.8986750841140747, 0.5587388277053833, 0.9209021925926208, 0.5520620942115784, 0.915540874004364, 0.985382616519928, 0.7238052487373352, 0.7643482089042664, 0.4188545048236847, 0.673185408115387, 0.9359065294265747, 0.9667724967002869, 0.3698297142982483, 0.7101127505302429, 0.6338292956352234, 0.8449223041534424, 0.9006145596504211, 0.975044310092926, 0.8560108542442322, 0.5427648425102234, 0.8071629405021667, 0.981651246547699, 0.9257009029388428, 0.7901777029037476, 0.836188793182373, 0.8004197478294373, 0.9661330580711365, 0.4851711094379425, 0.7964885830879211, 0.8444309234619141, 0.9165578484535217, 0.9029402136802673, 0.9904414415359497, 0.7812308073043823, 0.7775573134422302, 0.756282389163971, 0.8314895033836365, 0.9664867520332336, 0.8727342486381531, 0.613494873046875, 0.8945662975311279, 0.6234529614448547, 0.9574331641197205, 0.9709640145301819, 0.9081276059150696, 0.9490524530410767, 0.9728224277496338, 0.8642141819000244, 0.8927918076515198, 0.8573846220970154, 0.5684366822242737, 0.46472322940826416, 0.9789521098136902, 0.6056446433067322, 0.9885528683662415, 0.8371235132217407, 0.79722660779953, 0.932122528553009, 0.9715353846549988, 0.9693811535835266, 0.9783459901809692, 0.9871043562889099, 0.6948140859603882, 0.9457884430885315, 0.98431795835495, 0.9525695443153381, 0.9739561676979065, 0.799266517162323, 0.9412232041358948, 0.7615564465522766, 0.4322085678577423, 0.6116712093353271, 0.9827885031700134, 0.8043556809425354, 0.9618807435035706, 0.9929541945457458, 0.9313086867332458, 0.7312005162239075, 0.8776618242263794, 0.8714116811752319, 0.7831659317016602, 0.8673867583274841, 0.7563855051994324, 0.638217568397522, 0.46055421233177185, 0.43278467655181885, 0.651217520236969, 0.667587161064148, 0.677374541759491, 0.713879406452179, 0.8675558567047119, 0.6455850005149841, 0.8322544693946838, 0.4925222396850586, 0.9730409979820251, 0.9155495762825012, 0.6242967247962952, 0.9454954266548157, 0.4655054211616516, 0.7560147643089294, 0.7705464959144592, 0.9582554697990417, 0.9850499033927917, 0.9860427975654602, 0.8599962592124939, 0.8747400641441345, 0.7842997908592224, 0.8945302963256836, 0.862862229347229, 0.9633473753929138, 0.7983729839324951, 0.9711617827415466, 0.642788827419281, 0.7680419087409973, 0.9777997136116028, 0.6285998225212097, 0.7525063157081604, 0.816495954990387, 0.9737738966941833, 0.4490557610988617, 0.8613778948783875, 0.5799559354782104, 0.9860871434211731, 0.9902768135070801, 0.8751704096794128, 0.7380203604698181, 0.8280572891235352, 0.5642037987709045, 0.6470028758049011, 0.7503760457038879, 0.7763819098472595, 0.7454739809036255, 0.9028388857841492, 0.8385710716247559, 0.950014054775238, 0.924719512462616, 0.9212188124656677, 0.9900941252708435, 0.8131062388420105, 0.6671975255012512, 0.9153106808662415, 0.968135416507721, 0.8827059864997864, 0.9749657511711121, 0.6884762644767761, 0.988586962223053, 0.7621151804924011, 0.9610782265663147, 0.8581668734550476, 0.8466278314590454, 0.8911250829696655, 0.6899331212043762, 0.9276641607284546, 0.8305022120475769, 0.4677359163761139, 0.9791963696479797, 0.847707211971283, 0.6607272624969482, 0.7297214269638062, 0.890075147151947, 0.8653411865234375, 0.8368372321128845, 0.9852978587150574, 0.7312783002853394, 0.9460467100143433, 0.7438633441925049, 0.9547324776649475, 0.9685532450675964, 0.9212051033973694, 0.9883806109428406, 0.9638770222663879, 0.7786766886711121, 0.420680969953537, 0.7284758687019348, 0.3154335916042328, 0.838284969329834, 0.9840954542160034, 0.9308816194534302, 0.8680245280265808, 0.9635865688323975, 0.951542854309082, 0.9154268503189087, 0.8368387818336487, 0.8133146166801453, 0.6160383820533752, 0.8881053328514099, 0.7317359447479248, 0.8904151916503906, 0.8132309913635254, 0.7898741364479065, 0.5861213803291321, 0.9637046456336975, 0.6286165118217468, 0.8523987531661987, 0.9370322823524475, 0.920426070690155, 0.9458237290382385, 0.9036936163902283, 0.6113521456718445, 0.7489234209060669, 0.9585949778556824, 0.49622634053230286, 0.5875951051712036, 0.9753300547599792, 0.6940271854400635, 0.7312843203544617, 0.9452171921730042, 0.9006689190864563, 0.9420400857925415, 0.5251722931861877, 0.8298967480659485, 0.8550516366958618, 0.9653317928314209, 0.9115216135978699, 0.9267511367797852, 0.8967280983924866, 0.48900869488716125, 0.9601579308509827, 0.8626995086669922, 0.844269335269928, 0.5279797911643982, 0.9150997996330261, 0.8175951838493347, 0.7663105130195618, 0.8155282139778137, 0.9539548754692078, 0.8373258709907532, 0.8386736512184143, 0.7357199192047119, 0.6677855849266052, 0.5880990624427795, 0.9008545279502869, 0.9002289175987244, 0.8338556289672852, 0.7824260592460632, 0.7898586392402649, 0.8703330159187317, 0.8227030634880066, 0.7865092158317566, 0.937262237071991, 0.6537496447563171, 0.9388722777366638, 0.9679210782051086, 0.8330322504043579, 0.991005003452301, 0.9864445328712463, 0.8990559577941895, 0.9663806557655334, 0.8233833312988281, 0.9594141840934753, 0.7649693489074707, 0.8838244080543518, 0.6282455325126648, 0.705767035484314, 0.9468993544578552, 0.6187557578086853, 0.9586822390556335, 0.8669289946556091, 0.9883912205696106, 0.8294780850410461, 0.6274747252464294, 0.889775276184082, 0.8438101410865784, 0.9858333468437195, 0.5167726874351501, 0.8943553566932678, 0.9288740158081055, 0.9305910468101501, 0.8764164447784424, 0.9749364256858826, 0.46356797218322754, 0.8158703446388245, 0.9539974927902222, 0.6158344745635986, 0.9489671587944031, 0.5460865497589111, 0.431497722864151, 0.7272859215736389, 0.9846567511558533, 0.9729775786399841, 0.5418815612792969, 0.770079493522644, 0.9080703854560852, 0.9419280886650085, 0.8769041895866394, 0.9220166206359863, 0.9906818270683289, 0.8853499293327332, 0.7777733206748962, 0.9900428056716919, 0.6532298922538757, 0.811247706413269, 0.9783128499984741, 0.9549770951271057, 0.6311755180358887, 0.9345590472221375, 0.6936822533607483, 0.7677194476127625, 0.9469454884529114, 0.7310406565666199, 0.9459231495857239, 0.9590187072753906, 0.7606123089790344, 0.6691132187843323, 0.657791793346405, 0.6534749865531921, 0.8368022441864014, 0.7747190594673157, 0.7988572120666504, 0.9438961744308472, 0.9123047590255737, 0.6130140423774719, 0.790201723575592, 0.7496597170829773, 0.6787968277931213, 0.762240469455719, 0.8777691125869751, 0.8937441110610962, 0.9171306490898132, 0.8976896405220032, 0.9499655961990356, 0.40746936202049255, 0.8225381970405579, 0.8660182952880859, 0.9953653216362, 0.7885860800743103, 0.9495287537574768, 0.8365769982337952, 0.9146451950073242, 0.8007952570915222, 0.9288410544395447, 0.9915012121200562, 0.9356032609939575, 0.9160503149032593, 0.8048543334007263, 0.9054548740386963, 0.8576049208641052, 0.9411245584487915, 0.7848748564720154, 0.6865621209144592, 0.639199435710907, 0.7554388642311096, 0.5597034096717834, 0.9550444483757019, 0.9620792865753174, 0.7451785206794739, 0.9669649004936218, 0.711738646030426, 0.824321448802948, 0.860226571559906, 0.9621341824531555, 0.9013640880584717, 0.7654698491096497, 0.9683023691177368, 0.988025963306427, 0.9264505505561829, 0.5747690796852112, 0.5744507908821106, 0.6343667507171631, 0.9425116181373596, 0.7050203084945679, 0.8229047656059265, 0.6468812227249146, 0.9757025837898254, 0.850832998752594, 0.9882307648658752, 0.9521430134773254, 0.9811604619026184, 0.5717424154281616, 0.9837596416473389, 0.9397396445274353, 0.9606269001960754, 0.7046000957489014, 0.8027681112289429, 0.960658609867096, 0.9375793933868408, 0.966763436794281, 0.9791745543479919, 0.7150694727897644, 0.956046462059021, 0.9295052289962769, 0.8503429293632507, 0.9572632908821106, 0.3907357156276703, 0.8512268662452698, 0.5154114961624146, 0.9501162767410278, 0.8206669688224792, 0.7771989107131958, 0.7802714705467224, 0.6648568511009216, 0.84171062707901, 0.8721201419830322, 0.9637637138366699, 0.9830561876296997, 0.8773865103721619, 0.9604374766349792, 0.9248316884040833, 0.9805993437767029, 0.9089024662971497, 0.8310964107513428, 0.8210870623588562, 0.8469785451889038, 0.9748274683952332, 0.7759442329406738, 0.9827269911766052, 0.5656903386116028, 0.904210090637207, 0.9864484667778015, 0.9406386613845825, 0.634026288986206, 0.9935503602027893, 0.8899762034416199, 0.7970919013023376, 0.6221444606781006, 0.7973107695579529, 0.6358888149261475, 0.9826424717903137, 0.4397379457950592, 0.9329399466514587, 0.5321260094642639, 0.9176364541053772, 0.9670893549919128, 0.8801223039627075, 0.5442880988121033, 0.9934316277503967, 0.6952291131019592, 0.7646508812904358, 0.8046393394470215, 0.8890925049781799, 0.8434726595878601, 0.9726775288581848, 0.9642682671546936, 0.9449650645256042, 0.7903282642364502, 0.8145624995231628, 0.8187471628189087, 0.9243202805519104, 0.7940115928649902, 0.8574236035346985, 0.9673612713813782, 0.7751557230949402, 0.61844402551651, 0.8541622757911682, 0.7348763346672058, 0.713271975517273, 0.9287739396095276, 0.9570581912994385, 0.7580307126045227, 0.8105840086936951, 0.9800930619239807, 0.9867950677871704, 0.8696531653404236, 0.9724660515785217, 0.9703767895698547, 0.9626638293266296, 0.6370328068733215, 0.9215323328971863, 0.8532785773277283, 0.8396456837654114, 0.5385559797286987, 0.8670721650123596, 0.8144594430923462, 0.9820508360862732, 0.8360444903373718, 0.5630005598068237, 0.8582828640937805, 0.9074006676673889, 0.8703290820121765, 0.9500913619995117, 0.7748860716819763, 0.919064462184906, 0.8857594132423401, 0.7056645750999451, 0.6158415675163269, 0.9862258434295654, 0.6555246710777283, 0.5960400104522705, 0.5741571187973022, 0.8077229857444763, 0.9358139634132385, 0.9480483531951904, 0.8199670910835266, 0.8235495090484619, 0.7759479284286499, 0.5406418442726135, 0.9287333488464355, 0.8004592657089233, 0.792279839515686, 0.7659720778465271, 0.9129329323768616, 0.7722532153129578, 0.9271069169044495, 0.7757149338722229, 0.9890668988227844, 0.3143797516822815, 0.9139538407325745, 0.5313509702682495, 0.7633329629898071, 0.8257624506950378, 0.8420262336730957, 0.901962399482727, 0.5708630084991455, 0.9601244330406189, 0.8025027513504028, 0.9686753153800964, 0.8020954728126526, 0.9127311110496521, 0.7647752165794373, 0.9412779211997986, 0.9823859930038452, 0.48319676518440247, 0.9085436463356018, 0.8834847807884216, 0.7117063999176025, 0.6215113401412964, 0.6980375051498413, 0.7554981112480164, 0.5924538969993591, 0.6968721151351929, 0.9444742798805237, 0.9185217022895813, 0.5087929368019104, 0.9555315375328064, 0.667365312576294, 0.855827271938324, 0.874818742275238, 0.9277313351631165, 0.6202785968780518, 0.8355401158332825, 0.7727013230323792, 0.7971414923667908, 0.9864562749862671, 0.32359185814857483, 0.7761862874031067, 0.4593481719493866, 0.7052504420280457, 0.8843948245048523, 0.7400411367416382, 0.909180223941803, 0.8736383318901062, 0.8657393455505371, 0.9071771502494812, 0.9189416766166687, 0.7627338767051697, 0.6333887577056885, 0.8884469270706177, 0.8564417958259583, 0.9201424717903137, 0.9071453213691711, 0.8021864295005798, 0.9693964123725891, 0.8952205181121826, 0.9446736574172974, 0.7461631894111633, 0.8656075596809387, 0.8695770502090454, 0.5372247099876404, 0.8853699564933777, 0.8022593259811401, 0.8219007253646851, 0.7060496211051941, 0.4851260185241699, 0.6977049112319946, 0.89654940366745, 0.8312206268310547, 0.9871349930763245, 0.960171103477478, 0.9210516214370728, 0.9710263013839722, 0.6703938245773315, 0.9687090516090393, 0.7047087550163269, 0.5621731877326965, 0.5125817060470581, 0.9072899222373962, 0.6771077513694763, 0.8621742129325867, 0.9926005005836487, 0.8077544569969177, 0.8198871612548828, 0.9648207426071167, 0.9875983595848083, 0.991184413433075, 0.9288708567619324, 0.7221177220344543, 0.8137542605400085, 0.9463943839073181, 0.6274948716163635, 0.8235971927642822, 0.9152594208717346, 0.8354379534721375, 0.9246646165847778, 0.6695688366889954, 0.9744605422019958, 0.8223727345466614, 0.8406000733375549, 0.940133810043335, 0.8983736634254456, 0.8276490569114685, 0.7786282300949097, 0.8851214051246643, 0.9280938506126404, 0.9258549809455872, 0.5946725010871887, 0.7069551348686218, 0.7227652668952942, 0.8721509575843811, 0.9387765526771545, 0.943558931350708, 0.7831779718399048, 0.8763304352760315, 0.6778182983398438, 0.8956614136695862, 0.5223954319953918, 0.9508882164955139, 0.5116478800773621, 0.5693954825401306, 0.8947914242744446, 0.7834430932998657, 0.6463971734046936, 0.9409523010253906, 0.9358240962028503, 0.979162871837616, 0.9413728713989258, 0.9524667859077454, 0.8247531056404114, 0.6514560580253601, 0.5005194544792175, 0.8540410995483398, 0.6681069731712341, 0.8757234215736389, 0.976044237613678, 0.7367777228355408, 0.7853510975837708, 0.983237624168396, 0.6934157013893127, 0.7998395562171936, 0.8945292234420776, 0.5615274310112, 0.801234245300293, 0.9618645310401917, 0.9343022704124451, 0.9383657574653625, 0.9321367144584656, 0.7399170994758606, 0.7029598951339722, 0.8942198753356934, 0.627371609210968, 0.5129668116569519, 0.8524076342582703, 0.907158613204956, 0.4870017170906067, 0.9894796013832092, 0.6565160155296326, 0.41443371772766113, 0.5595057606697083, 0.978041410446167, 0.8627718091011047, 0.8992576599121094, 0.7488552927970886, 0.9545020461082458, 0.9302720427513123, 0.9503509998321533, 0.8410307765007019, 0.6960816979408264, 0.9681683778762817, 0.9771354794502258, 0.9795544147491455, 0.8013603091239929, 0.9604740738868713, 0.9781019687652588, 0.745371401309967, 0.942771852016449, 0.5553918480873108, 0.9166013598442078, 0.9134882688522339, 0.9150514602661133, 0.7427300214767456, 0.8518096208572388, 0.8534151315689087, 0.5056162476539612, 0.7726306915283203, 0.9763190150260925, 0.354032963514328, 0.827957272529602, 0.6787537932395935, 0.7289316058158875, 0.5337474942207336, 0.9655696749687195, 0.9923404455184937, 0.9673768877983093, 0.9391301274299622, 0.9158198833465576, 0.8920005559921265, 0.8311508297920227, 0.75765460729599, 0.9458386898040771, 0.6282024383544922, 0.6785332560539246, 0.7916370034217834, 0.9281577467918396, 0.9346309304237366, 0.8492527008056641, 0.932605504989624, 0.9431200623512268, 0.8841773271560669, 0.9262869358062744, 0.9748257994651794, 0.966122031211853, 0.9260402917861938, 0.9138379096984863, 0.9759668111801147, 0.987292468547821, 0.7258797287940979, 0.9098181128501892, 0.9151082634925842, 0.6693649291992188, 0.7282817363739014, 0.4020209312438965, 0.6370331645011902, 0.9194831848144531, 0.5633196234703064, 0.876520574092865, 0.617634117603302, 0.8455151319503784, 0.9499046206474304, 0.9445539116859436, 0.9549174904823303, 0.8323861956596375, 0.7760797142982483, 0.7657906413078308, 0.5734897255897522, 0.7058524489402771, 0.793116569519043, 0.9359342455863953, 0.6766118407249451, 0.6026574969291687, 0.614858090877533, 0.8017163276672363, 0.5939986109733582, 0.7173720002174377, 0.7432996034622192, 0.9516280889511108, 0.8470535278320312, 0.9263390898704529, 0.9680899977684021, 0.9297928214073181, 0.9238829016685486, 0.945085346698761, 0.5956041812896729, 0.7761479020118713, 0.8838623762130737, 0.9455457329750061, 0.9229838252067566, 0.8699092268943787, 0.9491479992866516, 0.8321272134780884, 0.9709163308143616, 0.7177910208702087, 0.6419731974601746, 0.6990240216255188, 0.9689207077026367, 0.8945332169532776, 0.8104972839355469, 0.9610953330993652, 0.9191152453422546, 0.7120887637138367, 0.9043688178062439, 0.7522717714309692, 0.7359660267829895, 0.677274227142334, 0.6349549889564514, 0.7257763743400574, 0.8852736949920654, 0.8795470595359802, 0.9583219885826111, 0.7041478157043457, 0.6677787899971008, 0.9827536940574646, 0.9219273328781128, 0.9130156636238098, 0.845480740070343, 0.9659472107887268, 0.9083042740821838, 0.8299652934074402, 0.9173025488853455, 0.7902035117149353, 0.853128969669342, 0.7141254544258118, 0.9707247614860535, 0.9614837765693665, 0.977764904499054, 0.9382757544517517, 0.7493577599525452, 0.8455223441123962, 0.9430355429649353, 0.9244405031204224, 0.9121285080909729, 0.8077937960624695, 0.9813114404678345, 0.937422513961792, 0.6244447231292725, 0.4383592903614044, 0.5583319067955017, 0.6764525175094604, 0.7301207184791565, 0.9644402861595154, 0.9594942331314087, 0.9691004157066345, 0.8292704224586487, 0.9410005807876587, 0.9590862393379211, 0.6091247200965881, 0.8897152543067932, 0.853983461856842, 0.9080106616020203, 0.9657071232795715, 0.9342377781867981, 0.9717540144920349, 0.9909954071044922, 0.8641431927680969, 0.7979463934898376, 0.69549161195755, 0.8124146461486816, 0.6958001255989075, 0.8829705119132996, 0.97286456823349, 0.9391651749610901, 0.8999846577644348, 0.922419548034668, 0.8023882508277893, 0.96891850233078, 0.7464645504951477, 0.9267116785049438, 0.9609493613243103, 0.9454033970832825, 0.952052891254425, 0.5998289585113525, 0.9300522804260254, 0.5872880816459656, 0.8928552269935608, 0.9014060497283936, 0.5939516425132751, 0.9645815491676331, 0.9909867644309998, 0.7808547616004944, 0.9109556674957275, 0.9130373001098633, 0.9806273579597473, 0.9862317442893982, 0.9045839309692383, 0.7064833045005798, 0.8686042428016663, 0.8356643319129944, 0.9283406138420105, 0.9663002490997314, 0.8150255084037781, 0.5863738656044006, 0.5512169599533081, 0.9617566466331482, 0.9020158052444458, 0.5272898077964783, 0.7048364281654358, 0.5810710787773132, 0.9931206107139587, 0.8979769945144653, 0.9512025713920593, 0.9537351727485657, 0.8769563436508179, 0.8594660758972168, 0.6460612416267395, 0.8087131977081299, 0.9662426710128784, 0.8306532502174377, 0.8844284415245056, 0.9719160795211792, 0.8536421656608582, 0.8900744915008545, 0.8360407948493958, 0.8856293559074402, 0.530236542224884, 0.9218035936355591, 0.9456532597541809, 0.9894430041313171, 0.8808721899986267, 0.8423448801040649, 0.5975596308708191, 0.7368363738059998, 0.8370308876037598, 0.9185046553611755, 0.9056325554847717, 0.97285395860672, 0.9729823470115662, 0.7862342000007629, 0.7277730107307434, 0.6648408770561218, 0.8514387011528015, 0.8945098519325256, 0.7272253632545471, 0.7281321287155151, 0.7914794087409973, 0.925213098526001, 0.6003299355506897, 0.9235264658927917, 0.7467217445373535, 0.9062159657478333, 0.5911650061607361, 0.5946322083473206, 0.9868454933166504, 0.8749579191207886, 0.9314234256744385, 0.683565080165863, 0.9313243627548218, 0.6418803930282593, 0.8988901376724243, 0.638486921787262, 0.7380545735359192, 0.9702662825584412, 0.8388685584068298, 0.8797219395637512, 0.8299186825752258, 0.8193973302841187, 0.8889806866645813, 0.7422794699668884, 0.9689175486564636, 0.8219208121299744, 0.9419956803321838, 0.9001018404960632, 0.3804473876953125, 0.882541835308075, 0.9712026715278625, 0.717481255531311, 0.7426522970199585, 0.7529032230377197, 0.9913944602012634, 0.9925468564033508, 0.8947761654853821, 0.984602153301239, 0.9017228484153748, 0.9558321833610535, 0.9197714924812317, 0.9286121726036072, 0.6093286275863647, 0.7954840064048767, 0.7130275368690491, 0.630565345287323, 0.8200805187225342, 0.626052975654602, 0.7769754528999329, 0.7994000911712646, 0.9720436334609985, 0.9761316180229187, 0.5519118905067444, 0.653026282787323, 0.9492678046226501, 0.9267019629478455, 0.7278834581375122, 0.47915926575660706, 0.7428256869316101, 0.8149626851081848, 0.6774747371673584, 0.8460242748260498, 0.9874685406684875, 0.733121931552887, 0.8380512595176697, 0.9697631001472473, 0.8666663765907288, 0.9873790740966797, 0.9191158413887024, 0.7146071791648865, 0.8470237255096436, 0.915031373500824, 0.9234136939048767, 0.8747913837432861, 0.6968293786048889, 0.6477319598197937, 0.8885884881019592, 0.7570677399635315, 0.6755756735801697, 0.9849770665168762, 0.824157178401947, 0.8455725312232971, 0.9343166947364807, 0.8207370638847351, 0.912312388420105, 0.786354124546051, 0.9849138855934143, 0.956155002117157, 0.9704416990280151, 0.988976776599884, 0.8859471678733826, 0.6236786246299744, 0.8313818573951721, 0.5820140242576599, 0.7925361394882202, 0.8812623620033264, 0.6955415606498718, 0.9685341715812683, 0.9615599513053894, 0.7305067181587219, 0.7072180509567261, 0.5643041729927063, 0.8371796011924744, 0.9393690228462219, 0.9188002943992615, 0.8302731513977051, 0.5511912703514099, 0.8055177330970764, 0.6683772802352905, 0.8145653009414673, 0.9730710387229919, 0.6114963293075562, 0.9146259427070618, 0.9942614436149597, 0.8602932691574097, 0.5220980048179626, 0.9548638463020325, 0.7406516075134277, 0.8607338070869446, 0.7679235935211182, 0.723538875579834, 0.9471402168273926, 0.64268559217453, 0.653523862361908, 0.9344666600227356, 0.7495642304420471, 0.8017048239707947, 0.7217126488685608, 0.5303603410720825, 0.7922589778900146, 0.9181018471717834, 0.9488697648048401, 0.8608036041259766, 0.9803513884544373, 0.990818977355957, 0.9010504484176636, 0.793954610824585, 0.4333136975765228, 0.5943425297737122, 0.6975730657577515, 0.8778667449951172, 0.977278470993042, 0.8902893662452698, 0.952302098274231, 0.9824851155281067, 0.9084193110466003, 0.9368390440940857, 0.7485482096672058, 0.9876207709312439, 0.9793732166290283, 0.6711487174034119, 0.9713004231452942, 0.974147617816925, 0.9124940037727356, 0.9624596834182739, 0.9122505784034729, 0.7825420498847961, 0.8633756041526794, 0.8566109538078308, 0.6635543704032898, 0.8747785687446594, 0.9906530976295471, 0.5809429287910461, 0.9140704274177551, 0.8937237858772278, 0.8803952932357788, 0.6815056800842285, 0.9689862132072449, 0.7433105707168579, 0.6350682973861694, 0.8565881848335266, 0.9479108452796936, 0.9858471155166626, 0.4536469280719757, 0.9932077527046204, 0.9792289733886719, 0.9287886023521423, 0.7218813896179199, 0.9228870868682861, 0.9463822245597839, 0.9332203269004822, 0.6566992998123169, 0.6693604588508606, 0.684531569480896, 0.975554347038269, 0.8590807914733887, 0.9483966827392578, 0.922631561756134, 0.9857872128486633, 0.884667158126831, 0.6034284234046936, 0.9421011209487915, 0.7617757320404053, 0.949577271938324, 0.6904060244560242, 0.6538885235786438, 0.9423410296440125, 0.8463006615638733, 0.568062961101532, 0.989284336566925, 0.9480293393135071, 0.9365653991699219, 0.9337048530578613, 0.9478440880775452, 0.673204243183136, 0.8528195023536682, 0.9767215251922607, 0.7814490795135498, 0.6366438269615173, 0.8128113150596619, 0.6536434292793274, 0.7056015133857727, 0.9558115601539612, 0.9427570700645447, 0.9213152527809143, 0.905934751033783, 0.9073695540428162, 0.9889174103736877, 0.9593955278396606, 0.8228957653045654, 0.6768584251403809, 0.9482399225234985, 0.7875059843063354, 0.8779381513595581, 0.83067387342453, 0.7152950167655945, 0.847628653049469, 0.8004297614097595, 0.9738472700119019, 0.9780610799789429, 0.9131979942321777, 0.9110738635063171, 0.8637662529945374, 0.9501625895500183, 0.795924186706543, 0.9835969805717468, 0.9370467662811279, 0.8745990991592407, 0.7850331664085388, 0.9253451228141785, 0.9330848455429077, 0.8722056150436401, 0.9853439927101135, 0.72325199842453, 0.7131546139717102, 0.5804358720779419, 0.6398382782936096, 0.9328736662864685, 0.9862610697746277, 0.8270897269248962, 0.6158044934272766, 0.9453622698783875, 0.931077778339386, 0.891793966293335, 0.9657052159309387, 0.8622927665710449, 0.9676051735877991, 0.7852964997291565, 0.8973901867866516, 0.9796913266181946, 0.876820981502533, 0.9056914448738098, 0.6385363936424255, 0.6740736365318298, 0.7158491015434265, 0.8076265454292297, 0.6216527819633484, 0.9833253026008606, 0.8571321368217468, 0.9780954718589783, 0.8006647229194641, 0.9222474098205566, 0.9364028573036194, 0.912309467792511, 0.9011130928993225, 0.7703583836555481, 0.7427783608436584, 0.7581798434257507, 0.6665935516357422, 0.5221651196479797, 0.9524653553962708, 0.7757709622383118, 0.6989656090736389, 0.9850473999977112, 0.8562706708908081, 0.8861169219017029, 0.9611150622367859, 0.9110179543495178, 0.8331792950630188, 0.97376948595047, 0.9331569075584412, 0.8140851259231567, 0.878161609172821, 0.9405140280723572, 0.6862159967422485, 0.6300292015075684, 0.9405048489570618, 0.76314377784729, 0.9711297154426575, 0.9200771450996399, 0.6369044184684753, 0.6153870224952698, 0.8727494478225708, 0.9463459849357605, 0.699459969997406, 0.9416069388389587, 0.9512127637863159, 0.9652878642082214, 0.7596916556358337, 0.9940211176872253, 0.9379581809043884, 0.852189302444458, 0.8260243535041809, 0.9320363402366638, 0.9615667462348938, 0.7709738612174988, 0.9216287732124329, 0.8056884407997131, 0.6932379603385925, 0.4886561334133148, 0.8080990314483643, 0.922404408454895, 0.8638028502464294, 0.6509039402008057, 0.6976944208145142, 0.5610451102256775, 0.9817405343055725, 0.8347959518432617, 0.8644118905067444, 0.8178625106811523, 0.9956989884376526, 0.7827487587928772, 0.46788454055786133, 0.9810897707939148, 0.9883298277854919, 0.9532953500747681, 0.8624303340911865, 0.9240214824676514, 0.9391714930534363, 0.8257595896720886, 0.5763975977897644, 0.9145550727844238, 0.6548559069633484, 0.8044141530990601, 0.41460809111595154, 0.9173228144645691, 0.8663939833641052, 0.8218867182731628, 0.8695651888847351, 0.7324238419532776, 0.883087694644928, 0.9557919502258301, 0.9417422413825989, 0.7633633017539978, 0.9853896498680115, 0.9861512780189514, 0.9644628167152405, 0.6853458285331726, 0.6725513339042664, 0.9906297922134399, 0.9776198267936707, 0.7750198841094971, 0.8105328679084778, 0.97642582654953, 0.735492467880249, 0.957751989364624, 0.7641540169715881, 0.9394698739051819, 0.7685948014259338, 0.9894506335258484, 0.3990735113620758, 0.5449315905570984, 0.8010167479515076, 0.9157919883728027, 0.8578623533248901, 0.8190712332725525, 0.9129326939582825, 0.6759969592094421, 0.9775704145431519, 0.8788391947746277, 0.6556053757667542, 0.971152663230896, 0.9423494338989258, 0.8129394054412842, 0.775518000125885, 0.9334984421730042, 0.8585116267204285, 0.8578429818153381, 0.6368772983551025, 0.5807300209999084, 0.5770515203475952, 0.6365242004394531, 0.950567901134491, 0.6320806741714478, 0.9335981011390686, 0.9283722043037415, 0.9841956496238708, 0.7307056784629822, 0.5009116530418396, 0.9493221640586853, 0.9255892634391785, 0.49570438265800476, 0.7971926331520081, 0.9396105408668518, 0.9745991826057434, 0.8757275938987732, 0.8091409206390381, 0.9428046345710754, 0.9417728781700134, 0.7803637981414795, 0.9541019797325134, 0.8861238360404968, 0.9561693072319031, 0.8360725045204163, 0.8165929913520813, 0.7937113642692566, 0.8494688272476196, 0.7812076210975647, 0.7611532807350159, 0.9289541840553284, 0.9021117687225342, 0.39957135915756226, 0.9151622653007507, 0.9244627356529236, 0.969440758228302, 0.3803485929965973, 0.8653098940849304, 0.8724175095558167, 0.9684118032455444, 0.8417776226997375, 0.8850054144859314, 0.8956733345985413, 0.7080572843551636, 0.9696895480155945, 0.9702054858207703, 0.9322999119758606, 0.9486760497093201, 0.8264178037643433, 0.8736989498138428, 0.7135947942733765, 0.9084634184837341, 0.5532956719398499, 0.8556545376777649, 0.9905457496643066, 0.9898499250411987, 0.8963038325309753, 0.9230827689170837, 0.9259302020072937, 0.9825233221054077, 0.8578338027000427, 0.8040210008621216, 0.6314921975135803, 0.7397194504737854, 0.8705112338066101, 0.616136908531189, 0.8870317935943604, 0.7054093480110168, 0.9597342610359192, 0.564174234867096, 0.980832576751709, 0.9526150226593018, 0.9039437770843506, 0.9891155958175659, 0.9718879461288452, 0.9581210017204285, 0.7058572173118591, 0.9929322600364685, 0.9942370057106018, 0.8505856394767761, 0.8452643156051636, 0.44313740730285645, 0.9928019642829895, 0.7201991081237793, 0.944537341594696, 0.6903308033943176, 0.513809859752655, 0.5824966430664062, 0.7875655293464661, 0.9330158829689026, 0.9433056712150574, 0.7031859755516052, 0.5916445255279541, 0.699006974697113, 0.8423189520835876, 0.9242304563522339, 0.6252193450927734, 0.9365797638893127, 0.8753640055656433, 0.9714826941490173, 0.6508265733718872, 0.9322295784950256, 0.8276975750923157, 0.9316543340682983, 0.7663269639015198, 0.9368565678596497, 0.5708181858062744, 0.822198748588562, 0.8614886403083801, 0.9822186231613159, 0.8827069997787476, 0.938879132270813, 0.980938732624054, 0.9787542223930359, 0.8870152831077576, 0.7593396902084351, 0.62008136510849, 0.6683921217918396, 0.5837990641593933, 0.7329145669937134, 0.9545495510101318, 0.8231084942817688, 0.8531212210655212, 0.6928436756134033, 0.8593172430992126, 0.8778247237205505, 0.8471806645393372, 0.6246556639671326, 0.9777248501777649, 0.6105731725692749, 0.4906790852546692, 0.8993489742279053, 0.9953110814094543, 0.8018686771392822, 0.776885449886322, 0.7009149193763733, 0.9128220081329346, 0.95453280210495, 0.9961506724357605, 0.5286973714828491, 0.40075570344924927, 0.886763334274292, 0.9287684559822083, 0.9919358491897583, 0.7360886931419373, 0.9523216485977173, 0.8718922734260559, 0.9893278479576111, 0.723246157169342, 0.864778459072113, 0.9740446209907532, 0.9680039882659912, 0.9878431558609009, 0.956153392791748, 0.955967128276825, 0.7544633150100708, 0.770104706287384, 0.9119455218315125, 0.4358668625354767, 0.5927466154098511, 0.8644070029258728, 0.5384811162948608, 0.9129670262336731, 0.7341851592063904, 0.7883132100105286, 0.9353764653205872, 0.8784533739089966, 0.6488741040229797, 0.9264749884605408, 0.809881865978241, 0.8837803602218628, 0.8939874172210693, 0.6520847678184509, 0.6321080327033997, 0.8629050850868225, 0.7192327380180359, 0.9776433110237122, 0.5599463582038879, 0.9731917977333069, 0.9400919079780579, 0.9122746586799622, 0.6633732914924622, 0.5096301436424255, 0.5750756859779358, 0.7833222150802612, 0.9385233521461487, 0.7370207905769348, 0.5233241319656372, 0.9154354333877563, 0.9176021218299866, 0.8751126527786255, 0.9754305481910706, 0.7568455934524536, 0.9238675236701965, 0.9911597371101379, 0.8668265342712402, 0.6545164585113525, 0.7205151915550232, 0.918368935585022, 0.9236726760864258, 0.964114248752594, 0.8628641963005066, 0.977354109287262, 0.9142667055130005, 0.8055968880653381, 0.7034698128700256, 0.9737932682037354, 0.7499518394470215, 0.7849199175834656, 0.666200578212738, 0.5152840614318848, 0.8135684132575989, 0.9873211979866028, 0.9434791207313538, 0.5919315814971924, 0.9863675236701965, 0.930806577205658, 0.8802044987678528, 0.7992036938667297, 0.6221986413002014, 0.9731912016868591, 0.9130536913871765, 0.9323188662528992, 0.7867622971534729, 0.5930892825126648, 0.6505797505378723, 0.6292250156402588, 0.9892120957374573, 0.9382681250572205, 0.9060252904891968, 0.8147932291030884, 0.5214691758155823, 0.5920410752296448, 0.8693495392799377, 0.9547263383865356, 0.7990490794181824, 0.6820492148399353, 0.9183074831962585, 0.7905242443084717, 0.7338516116142273, 0.8548699021339417, 0.9531022906303406, 0.9470139145851135, 0.45950642228126526, 0.8559457063674927, 0.6753824353218079, 0.5983806848526001, 0.9554914832115173, 0.9232665300369263, 0.9136999249458313, 0.6541368365287781, 0.8998294472694397, 0.921707808971405, 0.6591757535934448, 0.7443822622299194, 0.9573094248771667, 0.9251891374588013, 0.7494353652000427, 0.8992030620574951, 0.7623168230056763, 0.9664081931114197, 0.8624378442764282, 0.9322040677070618, 0.920454204082489, 0.9789040684700012, 0.9477465748786926, 0.9307675361633301, 0.8051427006721497, 0.7980167269706726, 0.8966303467750549, 0.5307072997093201, 0.7931962013244629, 0.7831827998161316, 0.9807358384132385, 0.5893966555595398, 0.5727947354316711, 0.9401600956916809, 0.6022972464561462, 0.879760205745697, 0.7588179111480713, 0.9752156734466553, 0.9444630742073059, 0.9803587198257446, 0.764376163482666, 0.833406388759613, 0.9504590630531311, 0.9914501905441284, 0.7515060901641846, 0.5439049005508423, 0.9883973002433777, 0.9713897705078125, 0.6837456822395325, 0.8068991303443909, 0.8942766785621643, 0.9413356184959412, 0.9541245102882385, 0.8457449078559875, 0.8193420171737671, 0.7400798797607422, 0.9504266381263733, 0.880035936832428, 0.9524185657501221, 0.9723061919212341, 0.9705708622932434, 0.9396409392356873, 0.8479318618774414, 0.7839089632034302, 0.9378005862236023, 0.9266051650047302, 0.9713156819343567, 0.6845298409461975, 0.8695476651191711, 0.8778243064880371, 0.9535594582557678, 0.651241660118103, 0.5936537981033325, 0.851621687412262, 0.6950895190238953, 0.9038909077644348, 0.9868924021720886, 0.9650545716285706, 0.9533103108406067, 0.6348750591278076, 0.9852510094642639, 0.774074375629425, 0.9938091039657593, 0.8421095609664917, 0.8814627528190613, 0.9195267558097839, 0.690919041633606, 0.9381420016288757, 0.7579085230827332, 0.9885181188583374, 0.9307311773300171, 0.6216416954994202, 0.8702569007873535, 0.8386843800544739, 0.6017358303070068, 0.9289633631706238, 0.9828839302062988, 0.9428234696388245, 0.8482691049575806, 0.8224714398384094, 0.9343906044960022, 0.7289795875549316, 0.8284568190574646, 0.8220798373222351, 0.9387037754058838, 0.9276654124259949, 0.7914506793022156, 0.8349859118461609, 0.6313354969024658, 0.9411436915397644, 0.9822670817375183, 0.9039408564567566, 0.6380037665367126, 0.6827415823936462, 0.8184638619422913, 0.8862594962120056, 0.861685037612915, 0.8835830092430115, 0.9449918866157532, 0.8331385254859924, 0.9768223166465759, 0.581757664680481, 0.7440246939659119, 0.9472933411598206, 0.9949074387550354, 0.7885189056396484, 0.8197885155677795, 0.9822477102279663, 0.9863610863685608, 0.9913833737373352, 0.9393517971038818, 0.8794774413108826, 0.6694645285606384, 0.9245882034301758, 0.9266600012779236, 0.7700581550598145, 0.9785767793655396, 0.7652307152748108, 0.9252488017082214, 0.5476661324501038, 0.8769437670707703, 0.896183431148529, 0.8616999983787537, 0.9913471341133118, 0.9328433871269226, 0.9835368990898132, 0.8619287610054016, 0.9152906537055969, 0.7515159249305725, 0.96722811460495, 0.8765281438827515, 0.49034249782562256, 0.9180087447166443, 0.9520424604415894, 0.8965763449668884, 0.8255807757377625, 0.8548335433006287, 0.7473863959312439, 0.9520424008369446, 0.46035662293434143, 0.7888047695159912, 0.8615974187850952, 0.6321374773979187, 0.9047148823738098, 0.6028502583503723, 0.75889652967453, 0.5532703995704651, 0.966761589050293, 0.7657961845397949, 0.7787172198295593, 0.7937180399894714, 0.6159185767173767, 0.6960616707801819, 0.9744017720222473, 0.8435570597648621, 0.9820063710212708, 0.9659380912780762, 0.4412373900413513, 0.9371364712715149, 0.7959702610969543, 0.8199039101600647, 0.8356833457946777, 0.9084414839744568, 0.9566422700881958, 0.9966666102409363, 0.5886924266815186, 0.6883065700531006, 0.7619785070419312, 0.9509058594703674, 0.8825732469558716, 0.91073077917099, 0.920859158039093, 0.7084766626358032, 0.9606836438179016, 0.7143869996070862, 0.7113869786262512, 0.9099442362785339, 0.795285165309906, 0.45780375599861145, 0.8022667765617371, 0.925254225730896, 0.9611000418663025, 0.6006345748901367, 0.973990797996521, 0.5644222497940063, 0.9851852655410767, 0.7528267502784729, 0.9961956143379211, 0.960238516330719, 0.8011289834976196, 0.9123455882072449, 0.9646815657615662, 0.5820202827453613, 0.8081879019737244, 0.8673757314682007, 0.7734408378601074, 0.6021577715873718, 0.906852126121521, 0.8368359208106995, 0.8453036546707153, 0.7128496766090393, 0.6900270581245422, 0.8534418940544128, 0.48618221282958984, 0.9610646367073059, 0.6563407778739929, 0.9371146559715271, 0.9100311398506165, 0.9858443140983582, 0.540554940700531, 0.8721222281455994, 0.9406798481941223, 0.8678514361381531, 0.8473358750343323, 0.8937580585479736, 0.8046364188194275, 0.8684121370315552, 0.8560347557067871, 0.6377540826797485, 0.6027461290359497, 0.8937080502510071, 0.9520833492279053, 0.9454793930053711, 0.9138941764831543, 0.7964652180671692, 0.8696874976158142, 0.5981526374816895, 0.3785500228404999, 0.7872294783592224, 0.9755764603614807, 0.8527482151985168, 0.94627845287323, 0.9951949715614319, 0.8875989317893982, 0.8899851441383362, 0.9929769039154053, 0.8997547030448914, 0.9493091702461243, 0.5352293848991394, 0.63774174451828, 0.9572222828865051, 0.9781225323677063, 0.9335925579071045, 0.9019094109535217, 0.9673487544059753, 0.8689740300178528, 0.9054296016693115, 0.8387308716773987, 0.9020277857780457, 0.8650442361831665, 0.8249660134315491, 0.963458776473999, 0.772555410861969, 0.9713069796562195, 0.9788460731506348, 0.8394736051559448, 0.9742691516876221, 0.82392817735672, 0.975182831287384, 0.5423728227615356, 0.9093554615974426, 0.9858117699623108, 0.6621401906013489, 0.9467366933822632, 0.9360537528991699, 0.7081009745597839, 0.9715532660484314, 0.8784695267677307, 0.9728699922561646, 0.7114662528038025, 0.9901967644691467, 0.9350815415382385, 0.7019179463386536, 0.9043373465538025, 0.8569653034210205, 0.4409051835536957, 0.8022021651268005, 0.6374073624610901, 0.8446903824806213, 0.53141188621521, 0.8588988184928894, 0.9825628995895386, 0.9532153606414795, 0.9614788889884949, 0.864436149597168, 0.7900670170783997, 0.9360105395317078, 0.914205014705658, 0.6904870271682739, 0.670211136341095, 0.8565983176231384, 0.9708295464515686, 0.9446406364440918, 0.8753383755683899, 0.7660693526268005, 0.5365982055664062, 0.8717904686927795, 0.9755009412765503, 0.9707192778587341, 0.9682823419570923, 0.8164308667182922, 0.7053884267807007, 0.9321863651275635, 0.816814124584198, 0.9961398243904114, 0.9436141848564148, 0.9697141051292419, 0.8953766226768494, 0.4884032607078552, 0.7597574591636658, 0.8500199913978577, 0.9480602741241455, 0.8568189740180969, 0.5778953433036804, 0.9282177090644836, 0.7535375356674194, 0.43192678689956665, 0.9723548293113708, 0.6867905259132385, 0.9530900120735168, 0.8242940306663513, 0.9552373886108398, 0.8259089589118958, 0.9613329172134399, 0.5332611203193665, 0.9789079427719116, 0.9504760503768921, 0.8966227769851685, 0.44202396273612976, 0.775550365447998, 0.9701036810874939, 0.5736110806465149, 0.9163386225700378, 0.9383370280265808, 0.9541007876396179, 0.8032640814781189, 0.7041413187980652, 0.7039679884910583, 0.992095947265625, 0.8602092862129211, 0.5899576544761658, 0.911159336566925, 0.9504216313362122, 0.9741868376731873, 0.8561329245567322, 0.9942241311073303, 0.8861576318740845, 0.7908329367637634, 0.788061261177063, 0.8778702020645142, 0.964573085308075, 0.9640141725540161, 0.8824321627616882, 0.9118523001670837, 0.612415611743927, 0.8485832214355469, 0.9073869585990906, 0.8159636855125427, 0.9288141131401062, 0.8678521513938904, 0.8197236061096191, 0.9202814698219299, 0.9608636498451233, 0.4856944978237152, 0.8628215789794922, 0.7783858180046082, 0.7491708397865295, 0.6157922148704529, 0.9542717337608337, 0.8414434790611267, 0.9735005497932434, 0.9822390675544739, 0.9347686767578125, 0.7637242674827576, 0.8075512051582336, 0.8299235701560974, 0.9769814610481262, 0.6770551800727844, 0.9335656762123108, 0.8757578134536743, 0.7002734541893005, 0.7414372563362122, 0.7586455941200256, 0.862664520740509, 0.6151289343833923, 0.9559952020645142, 0.7973459959030151, 0.7793684005737305, 0.5060369372367859, 0.9434295296669006, 0.5382159352302551, 0.913580060005188, 0.9532802700996399, 0.9340057969093323, 0.6072824597358704, 0.9333953857421875, 0.9444368481636047, 0.9732822775840759, 0.7029284834861755, 0.9147384762763977, 0.9758181571960449, 0.8086175322532654, 0.9548007845878601, 0.8636634945869446, 0.6970762610435486, 0.9950150847434998, 0.5366836190223694, 0.9546367526054382, 0.8494954705238342, 0.8893193006515503, 0.7048713564872742, 0.7567853927612305, 0.8352442979812622, 0.9241991639137268, 0.9201687574386597, 0.9671534895896912, 0.9882500767707825, 0.9933965802192688, 0.6179465651512146, 0.7153457999229431, 0.7032115459442139, 0.8777125477790833, 0.9274139404296875, 0.7222549319267273, 0.9832538366317749, 0.93243807554245, 0.7507200241088867, 0.9492009878158569, 0.9082603454589844, 0.9694436192512512, 0.6814073920249939, 0.6492407917976379, 0.6992694139480591, 0.6707144379615784, 0.8705235123634338, 0.9149550199508667, 0.8496960401535034, 0.8730641603469849, 0.9144564270973206, 0.8651357889175415, 0.911890983581543, 0.7319639325141907, 0.8667238354682922, 0.6494385004043579, 0.9832685589790344, 0.9347493648529053, 0.9282092452049255, 0.39042097330093384, 0.7966961860656738, 0.7892404198646545, 0.9731032252311707, 0.9821284413337708, 0.8062663674354553, 0.9634767174720764, 0.9207552671432495, 0.7357656955718994, 0.8231227993965149, 0.4249015748500824, 0.9767163395881653, 0.6053333878517151, 0.8794650435447693, 0.9328199028968811, 0.9550716280937195, 0.9787955284118652, 0.6662416458129883, 0.8504840731620789, 0.8339906930923462, 0.8204466700553894, 0.8226507902145386, 0.957436203956604, 0.8353748917579651, 0.807130753993988, 0.750899612903595, 0.477390855550766, 0.6885276436805725, 0.9582391381263733, 0.9448750019073486, 0.9270387887954712, 0.6426087617874146, 0.9758442044258118, 0.9588498473167419, 0.9585825800895691, 0.9729548692703247, 0.9532366991043091, 0.9618255496025085, 0.851036787033081, 0.8887662887573242, 0.8882570862770081, 0.9902650117874146, 0.8270068168640137, 0.835191547870636, 0.7149873375892639, 0.827625572681427, 0.9877761006355286, 0.9450066685676575, 0.6947526931762695, 0.877705991268158, 0.8619406819343567, 0.9798318147659302, 0.9621477127075195, 0.7516160607337952, 0.9298351407051086, 0.7116765379905701, 0.9074282050132751, 0.6611756682395935, 0.46908482909202576, 0.9146343469619751, 0.7284318208694458, 0.955474853515625, 0.9890050888061523, 0.7426931858062744, 0.9509209394454956, 0.6890798211097717, 0.7686763405799866, 0.9333893060684204, 0.8482815623283386, 0.8276528120040894, 0.7054812908172607, 0.9239707589149475, 0.7248164415359497, 0.9673058390617371, 0.9032020568847656, 0.9644002318382263, 0.8875160813331604, 0.8636706471443176, 0.9419959783554077, 0.8723909258842468, 0.7718332409858704, 0.7226954102516174, 0.9426280856132507, 0.7310089468955994, 0.6486895680427551, 0.9771772623062134, 0.8304979205131531, 0.7869829535484314, 0.8598456382751465, 0.6892275214195251, 0.9088208079338074, 0.9350857138633728, 0.727516770362854, 0.7275646924972534, 0.666809618473053, 0.9515700340270996, 0.8010002374649048, 0.9479719996452332, 0.600903332233429, 0.9842693209648132, 0.9885422587394714, 0.6800198554992676, 0.8498199582099915, 0.8242842555046082, 0.7925282120704651, 0.8078368902206421, 0.6752001643180847, 0.8561565279960632, 0.6418663263320923, 0.7229385375976562, 0.9888699650764465, 0.7060640454292297, 0.9238145351409912, 0.8211446404457092, 0.6105347275733948, 0.7856946587562561, 0.8189809918403625, 0.8931122422218323, 0.910313069820404, 0.9362753033638, 0.7281747460365295, 0.8898715376853943, 0.8721586465835571, 0.8869081139564514, 0.8443220257759094, 0.9684550166130066, 0.6433185935020447, 0.5674346089363098, 0.9143657684326172, 0.5093079209327698, 0.7137571573257446, 0.9241466522216797, 0.9663940668106079, 0.7502391338348389, 0.9430986046791077, 0.961731493473053, 0.5500125885009766, 0.7804760336875916, 0.7248062491416931, 0.5600641369819641, 0.9092937111854553, 0.8755954504013062, 0.6920613646507263, 0.879986584186554, 0.5797155499458313, 0.9720957279205322, 0.9623595476150513, 0.8752004504203796, 0.9530320167541504, 0.8366646766662598, 0.6814255118370056, 0.981432318687439, 0.9396286606788635, 0.6625649333000183, 0.711480975151062, 0.9930450916290283, 0.7800673246383667, 0.8630186915397644, 0.9334169030189514, 0.9173518419265747, 0.5795182585716248, 0.8149294853210449, 0.6736555695533752, 0.9447658061981201, 0.7163419723510742, 0.5004055500030518, 0.6736233234405518, 0.7491852641105652, 0.7601603865623474, 0.9068564176559448, 0.4170280992984772, 0.9843257665634155, 0.4958498775959015, 0.9075062870979309, 0.6347789168357849, 0.81281578540802, 0.8683041334152222, 0.9171500205993652, 0.6156326532363892, 0.7861438989639282, 0.9744787812232971, 0.9878332614898682, 0.9002335071563721, 0.8487069606781006, 0.8769009709358215, 0.8597611784934998, 0.9894427061080933, 0.8229686617851257, 0.890884280204773, 0.9140335917472839, 0.8699653744697571, 0.5134252905845642, 0.9304201602935791, 0.9766545295715332, 0.9528135657310486, 0.6945311427116394, 0.8889445662498474, 0.845725417137146, 0.8832409381866455, 0.8766767978668213, 0.9549264311790466, 0.9791424870491028, 0.8909559845924377, 0.8631489276885986, 0.7094224095344543, 0.719162106513977, 0.9767845273017883, 0.979095995426178, 0.8700125813484192, 0.5518304109573364, 0.8605960011482239, 0.940294086933136, 0.9872305393218994, 0.8076017498970032, 0.8745193481445312, 0.9894455075263977, 0.5631517171859741, 0.8517060875892639, 0.8123157024383545, 0.8648938536643982, 0.8243443369865417, 0.9681521058082581, 0.9529246687889099, 0.8999500870704651, 0.9049250483512878, 0.9912179112434387, 0.919931948184967, 0.9223585724830627, 0.5927076935768127, 0.789452314376831, 0.8962124586105347, 0.9769671559333801, 0.8846562504768372, 0.6744954586029053, 0.967078447341919, 0.7708989381790161, 0.9885983467102051, 0.8801713585853577, 0.7363584637641907, 0.8114610314369202, 0.8076632618904114, 0.8561737537384033, 0.7682202458381653, 0.9044445157051086, 0.7889527082443237, 0.9082460999488831, 0.9388629794120789, 0.767623245716095, 0.9216050505638123, 0.9538448452949524, 0.9355009198188782, 0.8132436871528625, 0.8997894525527954, 0.47952064871788025, 0.9962422251701355, 0.8981660008430481, 0.8886069655418396, 0.9124098420143127, 0.5763331055641174, 0.7646491527557373, 0.6847636103630066, 0.7795811295509338, 0.9421488046646118, 0.8650864958763123, 0.7480958700180054, 0.9464796185493469, 0.8635082840919495, 0.7446916103363037, 0.9924070239067078, 0.975057065486908, 0.9557809233665466, 0.7742366194725037, 0.7541006803512573, 0.7271762490272522, 0.9818194508552551, 0.9407383799552917, 0.3906056582927704, 0.9802952408790588, 0.7219063639640808, 0.861001193523407, 0.8219950795173645, 0.9395700097084045, 0.7121490240097046, 0.8098613023757935, 0.9397884607315063, 0.8825940489768982, 0.7441859841346741, 0.9125345349311829, 0.659504771232605, 0.6834418773651123, 0.7431638836860657, 0.9220971465110779, 0.9393082857131958, 0.9559463858604431, 0.9518178105354309, 0.9249288439750671, 0.9849429726600647, 0.8726299405097961, 0.7868305444717407, 0.9507244825363159, 0.9522919654846191, 0.904154360294342, 0.9420902132987976, 0.7093176245689392, 0.5427473187446594, 0.9964272379875183, 0.7817270755767822, 0.8968552947044373, 0.8194803595542908, 0.6891060471534729, 0.628650963306427, 0.8634119033813477, 0.6796292662620544, 0.7852324843406677, 0.7959465384483337, 0.8014362454414368, 0.7068063020706177, 0.9287996292114258, 0.952134907245636, 0.9140308499336243, 0.7935296893119812, 0.9318820834159851, 0.9945076107978821, 0.5629794597625732, 0.6243923306465149, 0.8104934096336365, 0.9899930357933044, 0.9246419072151184, 0.7341839671134949, 0.9018217921257019, 0.9416016340255737, 0.7623382210731506, 0.7562856078147888, 0.9811456799507141, 0.7571682929992676, 0.9404910802841187, 0.7786344289779663, 0.9415878057479858, 0.5880645513534546, 0.8592845797538757, 0.9151082038879395, 0.8300824761390686, 0.8607637882232666, 0.8665972352027893, 0.8044186234474182, 0.6119377017021179, 0.9472395181655884, 0.9791483283042908, 0.8832128643989563, 0.951259434223175, 0.772899329662323, 0.9530263543128967, 0.8495404124259949, 0.9131640195846558, 0.9161080718040466, 0.9376075863838196, 0.905835747718811, 0.9830071330070496, 0.9843741655349731, 0.9365654587745667, 0.7318589091300964, 0.9510401487350464, 0.7834356427192688, 0.6766927242279053, 0.8921492099761963, 0.9130355715751648, 0.7948706150054932, 0.9900177121162415, 0.7303764224052429, 0.970302164554596, 0.9871624112129211, 0.8529149293899536, 0.9492542147636414, 0.6659852862358093, 0.6151241660118103, 0.9739404320716858, 0.9672241806983948, 0.9812464714050293, 0.5958467125892639, 0.8863280415534973, 0.8314749598503113, 0.8685572743415833, 0.9285219311714172, 0.6097325086593628, 0.8926295638084412, 0.891187846660614, 0.8579908013343811, 0.32496097683906555, 0.6789949536323547, 0.9532997012138367, 0.9266248345375061, 0.9359511137008667, 0.9305749535560608, 0.7012683749198914, 0.9661306738853455, 0.9948003888130188, 0.9402924180030823, 0.9819746017456055, 0.7485656142234802, 0.9763974547386169, 0.9784733653068542, 0.6568920612335205, 0.8342887759208679, 0.9041871428489685, 0.9632987380027771, 0.6148474812507629, 0.9871180653572083, 0.9250332117080688, 0.8503968119621277, 0.5918038487434387, 0.7310100793838501, 0.8958296775817871, 0.5321070551872253, 0.7419629693031311, 0.5708408951759338, 0.6049402356147766, 0.8562386631965637, 0.6955750584602356, 0.7917284369468689, 0.8910738825798035, 0.9936850666999817, 0.6142478585243225, 0.8227896094322205, 0.6612897515296936, 0.6213772892951965, 0.8956969976425171, 0.7772819399833679, 0.6030524373054504, 0.9595004320144653, 0.9847099184989929, 0.8165063261985779, 0.6411783695220947, 0.833223283290863, 0.7996233105659485, 0.9928168654441833, 0.7979134321212769, 0.9100878834724426, 0.9176331162452698, 0.5333529114723206, 0.6622264981269836, 0.9594427943229675, 0.8369913697242737, 0.8791876435279846, 0.9681220054626465, 0.901267409324646, 0.7849802374839783, 0.9951664805412292, 0.8817828297615051, 0.9220353960990906, 0.5812151432037354, 0.9838418364524841, 0.7326011061668396, 0.6834765076637268, 0.9159192442893982, 0.7608110308647156, 0.9235005974769592, 0.7015562057495117, 0.9428330063819885, 0.9438715577125549, 0.8342681527137756, 0.983448326587677, 0.7473410964012146, 0.6869121789932251, 0.9171567559242249, 0.9890020489692688, 0.9281284809112549, 0.9947904944419861, 0.9485226273536682, 0.7890589237213135, 0.9417287111282349, 0.8433266878128052, 0.797235906124115, 0.9269814491271973, 0.9776437282562256, 0.9657984375953674, 0.8411799073219299, 0.6745480895042419, 0.5977076888084412, 0.9704012274742126, 0.9863232970237732, 0.8897610902786255, 0.9103890061378479, 0.7112720012664795, 0.967589795589447, 0.9249534010887146, 0.9196422696113586, 0.7886622548103333, 0.8669742941856384, 0.9303668737411499, 0.9868625402450562, 0.7872470617294312, 0.7649598717689514, 0.9696947932243347, 0.8297343850135803, 0.9042941927909851, 0.45087501406669617, 0.5695748329162598, 0.958221971988678, 0.9216966032981873, 0.8387000560760498, 0.7160464525222778, 0.9361572265625, 0.7615075707435608, 0.9774472117424011, 0.983398973941803, 0.9546107649803162, 0.9942209124565125, 0.9617267847061157, 0.5062535405158997, 0.8951661586761475, 0.8442988991737366, 0.9838185906410217, 0.7233540415763855, 0.9616038203239441, 0.7423341870307922, 0.7701393961906433, 0.4556919038295746, 0.9128361344337463, 0.9137051701545715, 0.7707263231277466, 0.9602840542793274, 0.9554800391197205, 0.9276464581489563, 0.7683318257331848, 0.7517929673194885, 0.9534974098205566, 0.7015682458877563, 0.9622082114219666, 0.9513336420059204, 0.4923866391181946, 0.9602857232093811, 0.8791625499725342, 0.9877906441688538, 0.7092587351799011, 0.9418944120407104, 0.383729487657547, 0.8335960507392883, 0.8862796425819397, 0.9832162261009216, 0.9187052845954895, 0.7497490644454956, 0.9562190771102905, 0.834649384021759, 0.9643829464912415, 0.9498931169509888, 0.8582140803337097, 0.4756262004375458, 0.46646320819854736, 0.9656231999397278, 0.6655074954032898, 0.8613726496696472, 0.9714073538780212, 0.9544883966445923, 0.7961789965629578, 0.8409931063652039, 0.8071552515029907, 0.9127601385116577, 0.7073727250099182, 0.9662822484970093, 0.7374994158744812, 0.5234104990959167, 0.6322447657585144, 0.9774597883224487, 0.7193301320075989, 0.7556243538856506, 0.9140815734863281, 0.769615888595581, 0.941113293170929, 0.4906047284603119, 0.8255943059921265, 0.5899778008460999, 0.9438012838363647, 0.7639930248260498, 0.851306140422821, 0.8438200950622559, 0.9798054099082947, 0.866757869720459, 0.8890897631645203, 0.8181189298629761, 0.8639709949493408, 0.5427315831184387, 0.6158612966537476, 0.989408016204834, 0.8027214407920837, 0.9510014057159424, 0.6141965985298157, 0.8234161138534546, 0.6744830012321472, 0.6868094801902771, 0.8954052329063416, 0.7647696733474731, 0.8816636800765991, 0.603668749332428, 0.5670641660690308, 0.5335187315940857, 0.7427846789360046, 0.9346324801445007, 0.7283660173416138, 0.8630215525627136, 0.9627925753593445, 0.7930672764778137, 0.5769916772842407, 0.930520236492157, 0.9450774788856506, 0.8044890761375427, 0.5780231356620789, 0.9213616251945496, 0.7558447122573853, 0.6718519330024719, 0.8263483643531799, 0.9771731495857239, 0.8631716370582581, 0.9260494112968445, 0.8289609551429749, 0.986580491065979, 0.7485953569412231, 0.5894038081169128, 0.786827027797699, 0.803036093711853, 0.9210523366928101, 0.9548906683921814, 0.8772521615028381, 0.8934441208839417, 0.9587255120277405, 0.8364007472991943, 0.9382436871528625, 0.8970510363578796, 0.9530252814292908, 0.7642638087272644, 0.9430076479911804, 0.974328339099884, 0.7678343653678894, 0.8342579007148743, 0.9533537030220032, 0.6047375202178955, 0.6566172242164612, 0.939186155796051, 0.8055654168128967, 0.8777151703834534, 0.8785050511360168, 0.9740617871284485, 0.9820330739021301, 0.8982135653495789, 0.966253936290741, 0.6437885761260986, 0.8489983677864075, 0.6582308411598206, 0.7374517917633057, 0.9805444478988647, 0.677450954914093, 0.6168683171272278, 0.8157676458358765, 0.8747036457061768, 0.7336710691452026, 0.5755293965339661, 0.7470375895500183, 0.9749058485031128, 0.9786151051521301, 0.8577614426612854, 0.8849217295646667, 0.9101753830909729, 0.9634117484092712, 0.9867860078811646, 0.9413950443267822, 0.8813263773918152, 0.8554825782775879, 0.8776120543479919, 0.690147340297699, 0.5747054219245911, 0.891613781452179, 0.8332148790359497, 0.8260855078697205, 0.9001451730728149, 0.7427690625190735, 0.6330540776252747, 0.9347729086875916, 0.5895352363586426, 0.699329674243927, 0.9008614420890808, 0.749272882938385, 0.7151383757591248, 0.9056042432785034, 0.9870724081993103, 0.44369956851005554, 0.9164513945579529, 0.9200133085250854, 0.7651143670082092, 0.9124863743782043, 0.5193052887916565, 0.788047194480896, 0.6554557681083679, 0.6371919512748718, 0.8038564324378967, 0.7915523648262024, 0.8017392754554749, 0.6125398278236389, 0.9792446494102478, 0.8384183049201965, 0.7871749401092529, 0.9933108687400818, 0.9528995156288147, 0.45575132966041565, 0.7130346894264221, 0.795975923538208, 0.9322214722633362, 0.8587183952331543, 0.9385052919387817, 0.6713598966598511, 0.8589580655097961, 0.9429218769073486, 0.5825678706169128, 0.9037008881568909, 0.9367603659629822, 0.9729878306388855, 0.9724841713905334, 0.4137789011001587, 0.6998434662818909, 0.9200314283370972, 0.7491891384124756, 0.5051635503768921, 0.9416438341140747, 0.9204047918319702, 0.741367518901825, 0.6712125539779663, 0.7302821278572083, 0.5734541416168213, 0.8316658139228821, 0.9334650635719299, 0.78653883934021, 0.4368174970149994, 0.9827197790145874, 0.9203218817710876, 0.7087641358375549, 0.7876741290092468, 0.8599570393562317, 0.9575151801109314, 0.9809589385986328, 0.9846615195274353, 0.9187704920768738, 0.8601056933403015, 0.985233724117279, 0.9288659691810608, 0.9953892827033997, 0.9775024056434631, 0.5328257083892822, 0.6159565448760986, 0.9229307770729065, 0.927629292011261, 0.8551151156425476, 0.9041152596473694, 0.7620605826377869, 0.9460216164588928, 0.8118108510971069, 0.963392972946167, 0.6281571984291077, 0.9688258767127991, 0.9500449299812317, 0.8032060861587524, 0.5573921799659729, 0.7965171933174133, 0.8093331456184387, 0.6304822564125061, 0.8210518956184387, 0.7036192417144775, 0.6630790829658508, 0.836370050907135, 0.9950562119483948, 0.7574769258499146, 0.9340364336967468, 0.8649532198905945, 0.9399833679199219, 0.8420314788818359, 0.6428308486938477, 0.6092817783355713, 0.9519796967506409, 0.6255791783332825, 0.9753853678703308, 0.8943844437599182, 0.5727537870407104, 0.8480356931686401, 0.9590359926223755, 0.9192238450050354, 0.7515912055969238, 0.9345945715904236, 0.8749523758888245, 0.9078883528709412, 0.9915033578872681, 0.6925180554389954, 0.5618316531181335, 0.7175332307815552, 0.937576949596405, 0.9308317303657532, 0.9776573181152344, 0.9853301048278809, 0.8830549120903015, 0.821889340877533, 0.9807341694831848, 0.863170862197876, 0.9798518419265747, 0.8512888550758362, 0.9038578867912292, 0.6473096013069153, 0.9121327996253967, 0.8752025365829468, 0.8859462141990662, 0.9083222150802612, 0.891017735004425, 0.8701078295707703, 0.9229025840759277, 0.7370686531066895, 0.8942052125930786, 0.7613623142242432, 0.6578677892684937, 0.950774610042572, 0.8703230023384094, 0.9918592572212219, 0.6721495985984802, 0.7896901369094849, 0.9431338906288147, 0.8362131714820862, 0.9801920652389526, 0.9596439599990845, 0.9698824286460876, 0.9747997522354126, 0.9250943660736084, 0.6017510294914246, 0.8753880262374878, 0.8787594437599182, 0.5109279751777649, 0.9926555752754211, 0.5448252558708191, 0.9056405425071716, 0.9298349022865295, 0.9032644629478455, 0.44211170077323914, 0.7052162289619446, 0.9107821583747864, 0.7928727865219116, 0.8519086241722107, 0.5912627577781677, 0.9007073044776917, 0.6194280385971069, 0.9258868098258972, 0.9891089200973511, 0.9139384627342224, 0.9909379482269287, 0.9947944283485413, 0.881040632724762, 0.972723662853241, 0.9802992343902588, 0.9426446557044983, 0.9339738488197327, 0.6829658150672913, 0.4967986047267914, 0.9292052388191223, 0.8436183929443359, 0.7348868250846863, 0.9330092668533325, 0.6431024670600891, 0.8852358460426331, 0.9442819952964783, 0.8298090100288391, 0.9958598017692566, 0.9552000164985657, 0.8779708743095398, 0.6130759716033936, 0.8029609322547913, 0.9682320952415466, 0.8355176448822021, 0.7010177373886108, 0.9598643183708191, 0.7467772960662842, 0.7010584473609924, 0.45738670229911804, 0.9396615624427795, 0.5100389719009399, 0.9196308255195618, 0.8262695074081421, 0.7044500708580017, 0.756820023059845, 0.9563739895820618, 0.9411177039146423, 0.7137421369552612, 0.8759931325912476, 0.7587816119194031, 0.4208555519580841, 0.9298067092895508, 0.9715723395347595, 0.9782481789588928, 0.8816607594490051, 0.9529075622558594, 0.8815571665763855, 0.821234405040741, 0.8320328593254089, 0.5712942481040955, 0.9539622068405151, 0.9689518809318542, 0.9623140692710876, 0.9116900563240051, 0.9568979144096375, 0.8790899515151978, 0.931953489780426, 0.6771366000175476, 0.977410614490509, 0.9922915101051331, 0.9130784273147583, 0.930600106716156, 0.5797463655471802, 0.8156033158302307, 0.7155245542526245, 0.9622783064842224, 0.8815608024597168, 0.7018810510635376, 0.9780744910240173, 0.7212351560592651, 0.9805966019630432, 0.9793416261672974, 0.6883845329284668, 0.9147539138793945, 0.7507414221763611, 0.9406753182411194, 0.9863820672035217, 0.7191099524497986, 0.9415033459663391, 0.9603479504585266, 0.8828254342079163, 0.7086904048919678, 0.6657103896141052, 0.7815265655517578, 0.789627730846405, 0.9315831065177917, 0.9122612476348877, 0.9297739863395691, 0.5486922264099121, 0.877476155757904, 0.7818249464035034, 0.5007664561271667, 0.8892626166343689, 0.9686994552612305, 0.8008894324302673, 0.6532208919525146, 0.9882119297981262, 0.9659664034843445, 0.6278091669082642, 0.9339712262153625, 0.9327520728111267, 0.94951993227005, 0.9426626563072205, 0.6786514520645142, 0.9726790189743042, 0.8332549333572388, 0.7553709149360657, 0.937519371509552, 0.9076191186904907, 0.8102867603302002, 0.9350292086601257, 0.9755606055259705, 0.817071259021759, 0.8934648036956787, 0.8448743224143982, 0.8898137211799622, 0.9344834089279175, 0.4944162666797638, 0.9881373047828674, 0.996170699596405, 0.9033057689666748, 0.9834107756614685, 0.9114642143249512, 0.9832614660263062, 0.9843632578849792, 0.5225483775138855, 0.5712801814079285, 0.7072312235832214, 0.9941096901893616, 0.887464165687561, 0.7519257664680481, 0.8148430585861206, 0.9816409945487976, 0.7711673378944397, 0.7209551334381104, 0.9405112862586975, 0.7347247004508972, 0.8367487788200378, 0.3912133276462555, 0.8955846428871155, 0.9827612042427063, 0.9575748443603516, 0.9828698635101318, 0.5793043971061707, 0.8458818197250366, 0.8450935482978821, 0.7904048562049866, 0.4228566586971283, 0.7811870574951172, 0.8496944308280945, 0.9227160811424255, 0.9447246193885803, 0.7242969870567322, 0.9932625889778137, 0.6139059066772461, 0.9942317605018616, 0.9191738963127136, 0.7161476016044617, 0.9516773819923401, 0.46431711316108704, 0.7761170268058777, 0.8176899552345276, 0.742894172668457, 0.9480178356170654, 0.7874616384506226, 0.816822350025177, 0.9755152463912964, 0.8694010972976685, 0.8052793145179749, 0.868709146976471, 0.8397852182388306, 0.7483009696006775, 0.9637393951416016, 0.9600790143013, 0.6410919427871704, 0.8829165101051331, 0.9220676422119141, 0.9441928267478943, 0.9304376244544983, 0.40451663732528687, 0.4128080904483795, 0.9827059507369995, 0.8958530426025391, 0.8894864916801453, 0.9436821341514587, 0.876289427280426, 0.8437826037406921, 0.5423672199249268, 0.6326494216918945, 0.8355787396430969, 0.9766401648521423, 0.6267722845077515, 0.9611541628837585, 0.9231469035148621, 0.9584553837776184, 0.678116500377655, 0.6104145050048828, 0.8898527026176453, 0.9396371841430664, 0.8969852328300476, 0.7057947516441345, 0.6719348430633545, 0.9534203410148621, 0.5070239901542664, 0.9655492305755615, 0.8988379240036011, 0.9824404120445251, 0.9152430295944214, 0.9737049341201782, 0.30497148633003235, 0.6288254857063293, 0.9075469374656677, 0.6694217324256897, 0.9451870322227478, 0.8575565814971924, 0.9685697555541992, 0.7172458171844482, 0.8790960907936096, 0.9476177096366882, 0.9733901619911194, 0.5912936329841614, 0.7576848864555359, 0.9621461629867554, 0.9241363406181335, 0.9131423234939575, 0.9050091505050659, 0.612532913684845, 0.9678755402565002, 0.5414428114891052, 0.9600677490234375, 0.5213558673858643, 0.8465782999992371, 0.5554711818695068, 0.7344498038291931, 0.7927504181861877, 0.8099513649940491, 0.9155450463294983, 0.4828757643699646, 0.7220767736434937, 0.638922393321991, 0.8693829774856567, 0.9277744293212891, 0.8272106647491455, 0.706693172454834, 0.8985299468040466, 0.8486483693122864, 0.8930850625038147, 0.8439419269561768, 0.9087281227111816, 0.9084833264350891, 0.7413026690483093, 0.9906063675880432, 0.7783457636833191, 0.8548275232315063, 0.5483648180961609, 0.9889741539955139, 0.8674414753913879, 0.9893955588340759, 0.8683387041091919, 0.9205958247184753, 0.8660328984260559, 0.8781957030296326, 0.9396728873252869, 0.6658631563186646, 0.7098290920257568, 0.506172239780426, 0.8107912540435791, 0.7787557244300842, 0.9495325684547424, 0.6483182907104492, 0.9678635001182556, 0.9348277449607849, 0.9654133319854736, 0.8782211542129517, 0.8264335989952087, 0.8211104869842529, 0.7977563738822937, 0.9412347078323364, 0.8594934344291687, 0.9875591397285461, 0.9739723801612854, 0.9390071630477905, 0.8324097990989685, 0.9317108392715454, 0.44422104954719543, 0.43410053849220276, 0.9844398498535156, 0.7391953468322754, 0.48138731718063354, 0.9320454597473145, 0.9332233667373657, 0.940004825592041, 0.8657181262969971, 0.6193611025810242, 0.8785566687583923, 0.8871714472770691, 0.8135526776313782, 0.9815266728401184, 0.6135042905807495, 0.6478353142738342, 0.9616747498512268, 0.8550702333450317, 0.8152998089790344, 0.7787129282951355, 0.9634920358657837, 0.9870513081550598, 0.9611126184463501, 0.970110297203064, 0.7594126462936401, 0.8514459133148193, 0.8856130838394165, 0.9178614616394043, 0.6862155795097351, 0.9824945330619812, 0.9456505179405212, 0.9519833326339722, 0.8972579836845398, 0.8485715985298157, 0.41734060645103455, 0.9202694892883301, 0.7860851287841797, 0.7158812284469604, 0.7212436199188232, 0.9645673632621765, 0.5837054252624512, 0.47123152017593384, 0.9303068518638611, 0.9611971378326416, 0.5811731219291687, 0.788416862487793, 0.5604496598243713, 0.7978962659835815, 0.7027884125709534, 0.8729467988014221, 0.9765704274177551, 0.9363188147544861, 0.9508832097053528, 0.6089661121368408, 0.9726929664611816, 0.8466403484344482, 0.9024985432624817, 0.7636962532997131, 0.6867990493774414, 0.7397947907447815, 0.9048258662223816, 0.9867183566093445, 0.8330457806587219, 0.8271296620368958, 0.8563658595085144, 0.7729714512825012, 0.7982622385025024, 0.762453019618988, 0.7358126044273376, 0.7153752446174622, 0.9449546337127686, 0.6312962770462036, 0.8957449793815613, 0.8630712628364563, 0.7643594145774841, 0.6185718178749084, 0.7512363791465759, 0.7305052876472473, 0.9593380093574524, 0.8496715426445007, 0.8961154222488403, 0.9675751328468323, 0.8810686469078064, 0.9116379618644714, 0.9797300696372986, 0.9422764778137207, 0.9456169009208679, 0.9922899007797241, 0.9633588194847107, 0.9173218011856079, 0.9259019494056702, 0.9797484278678894, 0.5522952079772949, 0.5932930111885071, 0.9947965741157532, 0.9534804821014404, 0.6844349503517151, 0.6175002455711365, 0.9704329371452332, 0.7629939913749695, 0.9209485054016113, 0.8354269862174988, 0.6538437008857727, 0.9824024438858032, 0.6995768547058105, 0.9515730142593384, 0.8222379088401794, 0.5657116770744324, 0.7800979018211365, 0.8976598381996155, 0.9674805998802185, 0.7153054475784302, 0.5569295287132263, 0.911550760269165, 0.6048489212989807, 0.7872428894042969, 0.6204627156257629, 0.8837400078773499, 0.8058409094810486, 0.9848276376724243, 0.6947845220565796, 0.6940168738365173, 0.7874337434768677, 0.9377842545509338, 0.8921366333961487, 0.8114678859710693, 0.7851069569587708, 0.8519495725631714, 0.8220051527023315, 0.682129442691803, 0.9521246552467346, 0.9831804633140564, 0.6716476678848267, 0.920542299747467, 0.6848800778388977, 0.702836275100708, 0.8265350461006165, 0.9238921403884888, 0.9111433625221252, 0.5803598761558533, 0.47330138087272644, 0.5312937498092651, 0.6535186171531677, 0.8388205170631409, 0.9317341446876526, 0.9645132422447205, 0.9772247672080994, 0.7498011589050293, 0.6510856747627258, 0.9417482018470764, 0.9239866733551025, 0.710781455039978, 0.954642117023468, 0.7046034336090088, 0.709073007106781, 0.8259981870651245, 0.9106329083442688, 0.8773371577262878, 0.9809168577194214, 0.5152085423469543, 0.7696290612220764, 0.8844308257102966, 0.4451773762702942, 0.8423861861228943, 0.928890585899353, 0.7691522240638733, 0.8553499579429626, 0.8012338280677795, 0.8195220828056335, 0.9371228814125061, 0.8619001507759094, 0.912050187587738, 0.9563809037208557, 0.9876242280006409, 0.7750279307365417, 0.8078803420066833, 0.848455011844635, 0.8098518252372742, 0.938404381275177, 0.7173454165458679, 0.6016373038291931, 0.9807838797569275, 0.6170285940170288, 0.7115687131881714, 0.5136055946350098, 0.9285190105438232, 0.7912663817405701, 0.5047052502632141, 0.8722606897354126, 0.6415331363677979, 0.856410801410675, 0.9260613918304443, 0.93589848279953, 0.886570155620575, 0.918442964553833, 0.8903623223304749, 0.6468771696090698, 0.7339639067649841, 0.6979173421859741, 0.920605480670929, 0.8026828169822693, 0.9189481735229492, 0.615602433681488, 0.6163498163223267, 0.48645535111427307, 0.7024133801460266, 0.7555620074272156, 0.9873744249343872, 0.784255862236023, 0.9722246527671814, 0.6531414985656738, 0.7109985947608948, 0.7418062090873718, 0.7747310996055603, 0.8877443671226501, 0.746086835861206, 0.9913082718849182, 0.9638524651527405, 0.7597582340240479, 0.7851037979125977, 0.9647073745727539, 0.7723009586334229, 0.7104936242103577, 0.9752815365791321, 0.8336876630783081, 0.9844414591789246, 0.7723649144172668, 0.9309735298156738, 0.7206865549087524, 0.9666012525558472, 0.8958843350410461, 0.7270448803901672, 0.974071204662323, 0.9743872284889221, 0.9568341374397278, 0.9806786775588989, 0.8328623175621033, 0.8876684308052063, 0.9316607713699341, 0.8989816308021545, 0.7969109416007996, 0.9773278832435608, 0.9355825781822205, 0.931328296661377, 0.981587827205658, 0.9402967691421509, 0.635750412940979, 0.9674654603004456, 0.4028019607067108, 0.91104656457901, 0.8349043726921082, 0.9504662156105042, 0.8140835762023926, 0.970724880695343, 0.9162259101867676, 0.9738499522209167, 0.7671743631362915, 0.7679837346076965, 0.8386180996894836, 0.7955933213233948, 0.9224379062652588, 0.9116126894950867, 0.9439060688018799, 0.9814784526824951, 0.9326492547988892, 0.9686927795410156, 0.9240052103996277, 0.8422427773475647, 0.9059087038040161, 0.978029191493988, 0.7988247275352478, 0.9571546316146851, 0.9346832036972046, 0.8488960862159729, 0.5770763754844666, 0.9474683403968811, 0.9953177571296692, 0.8417527675628662, 0.9767512083053589, 0.828267514705658, 0.940710723400116, 0.9240863919258118, 0.7798210978507996, 0.9745681881904602, 0.6383248567581177, 0.9659011960029602, 0.995112955570221, 0.8429118990898132, 0.5939927101135254, 0.9664931893348694, 0.852626383304596, 0.849083662033081, 0.9916313290596008, 0.95243901014328, 0.9862989783287048, 0.9597603678703308, 0.9060268998146057, 0.9551352858543396, 0.8916495442390442, 0.759746789932251, 0.9674805998802185, 0.8275923728942871, 0.9408396482467651, 0.8978193402290344, 0.9016065001487732, 0.8206286430358887, 0.7369965314865112, 0.7751492857933044, 0.7366378903388977, 0.9692279696464539, 0.8587179780006409, 0.6134127974510193, 0.9706847071647644, 0.8547700643539429, 0.9826810956001282, 0.8702573776245117, 0.8788130879402161, 0.639221727848053, 0.47099801898002625, 0.9912889003753662, 0.8458569049835205, 0.8147973418235779, 0.8986800312995911, 0.73056960105896, 0.5952444672584534, 0.8501063585281372, 0.9830202460289001, 0.9140653014183044, 0.8986983895301819, 0.9749289155006409, 0.9774098992347717, 0.9703525900840759, 0.9152945876121521, 0.7437719702720642, 0.962302029132843, 0.8793179392814636, 0.815101683139801, 0.9553695321083069, 0.9666761159896851, 0.9664672613143921, 0.9305986166000366, 0.9599275588989258, 0.9598388671875, 0.8674042820930481, 0.7544621229171753, 0.8888894319534302, 0.8914971947669983, 0.9871026873588562, 0.6462295651435852, 0.8629728555679321, 0.7685154676437378, 0.9723629951477051, 0.9697152376174927, 0.8833580017089844, 0.8065104484558105, 0.9826275706291199, 0.6970980167388916, 0.9904424548149109, 0.8638280034065247, 0.9044312834739685, 0.7061888575553894, 0.9019526243209839, 0.9712152481079102, 0.8417236804962158, 0.8138284683227539, 0.7805700302124023, 0.7275965213775635, 0.581257700920105, 0.4794580042362213, 0.9218132495880127, 0.7236462235450745, 0.6418830752372742, 0.9084486365318298, 0.9192624688148499, 0.7487671375274658, 0.9328802227973938, 0.8294910788536072, 0.5507920980453491, 0.8838545680046082, 0.8093653321266174, 0.666025698184967, 0.8952810764312744, 0.9307168126106262, 0.8291969299316406, 0.5371333360671997, 0.9752093553543091, 0.8260576128959656, 0.5668094158172607, 0.9892208576202393, 0.7152276635169983, 0.8785778880119324, 0.6993817090988159, 0.6851747632026672, 0.8580772280693054, 0.45860520005226135, 0.5395539999008179, 0.9403566718101501, 0.6793829798698425, 0.9120352864265442, 0.6183770895004272, 0.8701243996620178, 0.9422494769096375, 0.9876614212989807, 0.889704704284668, 0.8602368831634521, 0.8715117573738098, 0.9285707473754883, 0.8732869029045105, 0.9604188799858093, 0.8333204388618469, 0.8751747012138367, 0.8798903226852417, 0.942943274974823, 0.9921191334724426, 0.8074899315834045, 0.9006126523017883, 0.9317576885223389, 0.895541250705719, 0.5212375521659851, 0.6920149922370911, 0.5004965662956238, 0.9619516134262085, 0.8732145428657532, 0.8335419297218323, 0.729063868522644, 0.8126686215400696, 0.8157140612602234, 0.9077485203742981, 0.8375254273414612, 0.9804587960243225, 0.6894186735153198, 0.36234042048454285, 0.6598101258277893, 0.43254005908966064, 0.9324427247047424, 0.9204791188240051, 0.874466598033905, 0.6843859553337097, 0.9565741419792175, 0.5670873522758484, 0.9388957619667053, 0.45833292603492737, 0.7809755206108093, 0.6075260043144226, 0.9709381461143494, 0.4104926288127899, 0.765359103679657, 0.8251115083694458, 0.8971638083457947, 0.951129138469696, 0.958313524723053, 0.9355452656745911, 0.8357626795768738, 0.5334318280220032, 0.8638299107551575, 0.9620193243026733, 0.5266205072402954, 0.8761044144630432, 0.8602467775344849, 0.7720562815666199, 0.9764830470085144]), ('system_score', 0.8282716549119185)])\n"
          ]
        }
      ]
    },
    {
      "cell_type": "code",
      "execution_count": 180,
      "metadata": {
        "colab": {
          "base_uri": "https://localhost:8080/"
        },
        "id": "0zqE2czPyCSH",
        "outputId": "3270070f-1d42-44ae-d215-1d533516dff1"
      },
      "outputs": [
        {
          "output_type": "execute_result",
          "data": {
            "text/plain": [
              "['nepožadujú',\n",
              " 'len',\n",
              " 'aby',\n",
              " 'bolo',\n",
              " 'nariadenie',\n",
              " 'anulované',\n",
              " 'ale',\n",
              " 'aj',\n",
              " 'aby',\n",
              " 'bol',\n",
              " 'vymenovaný',\n",
              " 'osobitný',\n",
              " 'nezávislý',\n",
              " 'výbor',\n",
              " 'pod',\n",
              " 'záštitou',\n",
              " 'európskeho',\n",
              " 'parlamentu',\n",
              " 'ktorého',\n",
              " 'úlohou',\n",
              " 'by',\n",
              " 'bolo',\n",
              " 'prešetrenie',\n",
              " 'a',\n",
              " 'vysvetlenie',\n",
              " 'zásad',\n",
              " 'a',\n",
              " 'metód',\n",
              " 'kalkulácie',\n",
              " 'počtu',\n",
              " 'rýb',\n",
              " 'v',\n",
              " 'baltickom',\n",
              " 'mori',\n",
              " 'po',\n",
              " 'rozšírení',\n",
              " 'únie',\n",
              " 'v',\n",
              " 'roku',\n",
              " '2004',\n",
              " 'a',\n",
              " 'na',\n",
              " 'vysvetlenie',\n",
              " 'rozsahu',\n",
              " 'nezrovnalostí']"
            ]
          },
          "metadata": {},
          "execution_count": 180
        }
      ],
      "source": [
        "token_ref"
      ]
    },
    {
      "cell_type": "code",
      "execution_count": 181,
      "metadata": {
        "colab": {
          "base_uri": "https://localhost:8080/"
        },
        "id": "gTJvW8pz1q4I",
        "outputId": "ace61b69-d7b0-4b34-8395-221c9e4e54c5"
      },
      "outputs": [
        {
          "output_type": "execute_result",
          "data": {
            "text/plain": [
              "['nežiadajú',\n",
              " 'len',\n",
              " 'to',\n",
              " 'aby',\n",
              " 'sa',\n",
              " 'toto',\n",
              " 'nariadenie',\n",
              " 'zrušilo',\n",
              " 'ale',\n",
              " 'aby',\n",
              " 'bola',\n",
              " 'vymenovaná',\n",
              " 'špeciálna',\n",
              " 'nezávislá',\n",
              " 'komisia',\n",
              " 'pod',\n",
              " 'záštitou',\n",
              " 'európskeho',\n",
              " 'parlamentu',\n",
              " 'ktorá',\n",
              " 'by',\n",
              " 'prešetrila',\n",
              " 'a',\n",
              " 'vysvetlila',\n",
              " 'zásady',\n",
              " 'a',\n",
              " 'metódy',\n",
              " 'počtov',\n",
              " 'rýb',\n",
              " 'v',\n",
              " 'baltskom',\n",
              " 'mori',\n",
              " 'po',\n",
              " 'rozšírení',\n",
              " 'únie',\n",
              " 'v',\n",
              " 'roku',\n",
              " '2004',\n",
              " 'a',\n",
              " 'pochopila',\n",
              " 'rozsah',\n",
              " 'nezrovnalostí']"
            ]
          },
          "metadata": {},
          "execution_count": 181
        }
      ],
      "source": [
        "token_prek"
      ]
    },
    {
      "cell_type": "code",
      "execution_count": 182,
      "metadata": {
        "id": "s91Kg0emqsx8"
      },
      "outputs": [],
      "source": [
        "#from google.colab import runtime\n",
        "#runtime.unassign()"
      ]
    }
  ],
  "metadata": {
    "accelerator": "GPU",
    "colab": {
      "collapsed_sections": [
        "X59ue6Zjxw_j",
        "WNRR4aZWmkGW",
        "I2_hUU9Yx8nj"
      ],
      "gpuType": "T4",
      "machine_shape": "hm",
      "provenance": [],
      "mount_file_id": "1cAbr53bSx53865fbKZe58vxyASVtO7ub",
      "authorship_tag": "ABX9TyOer/xgwx2DKDjvj58vZ1pc",
      "include_colab_link": true
    },
    "kernelspec": {
      "display_name": "Python 3",
      "name": "python3"
    },
    "language_info": {
      "name": "python"
    },
    "widgets": {
      "application/vnd.jupyter.widget-state+json": {
        "f6f6ce2cf0ba42d5ab09f75fddfc8df6": {
          "model_module": "@jupyter-widgets/controls",
          "model_name": "HBoxModel",
          "model_module_version": "1.5.0",
          "state": {
            "_dom_classes": [],
            "_model_module": "@jupyter-widgets/controls",
            "_model_module_version": "1.5.0",
            "_model_name": "HBoxModel",
            "_view_count": null,
            "_view_module": "@jupyter-widgets/controls",
            "_view_module_version": "1.5.0",
            "_view_name": "HBoxView",
            "box_style": "",
            "children": [
              "IPY_MODEL_7e41ed3162ba43e88ad9f21cf809942a",
              "IPY_MODEL_010f5adb51324948b6c6a00fd59afc84",
              "IPY_MODEL_919d541cd72d439fb825bc56bed8a007"
            ],
            "layout": "IPY_MODEL_0b2e07016745466f93598dfc0c583dd3"
          }
        },
        "7e41ed3162ba43e88ad9f21cf809942a": {
          "model_module": "@jupyter-widgets/controls",
          "model_name": "HTMLModel",
          "model_module_version": "1.5.0",
          "state": {
            "_dom_classes": [],
            "_model_module": "@jupyter-widgets/controls",
            "_model_module_version": "1.5.0",
            "_model_name": "HTMLModel",
            "_view_count": null,
            "_view_module": "@jupyter-widgets/controls",
            "_view_module_version": "1.5.0",
            "_view_name": "HTMLView",
            "description": "",
            "description_tooltip": null,
            "layout": "IPY_MODEL_74c02d5b93ac45bfaddb8bdaa958eeba",
            "placeholder": "​",
            "style": "IPY_MODEL_f901abdbf25a48ae8d42516b1e1bfc30",
            "value": "Fetching 5 files: 100%"
          }
        },
        "010f5adb51324948b6c6a00fd59afc84": {
          "model_module": "@jupyter-widgets/controls",
          "model_name": "FloatProgressModel",
          "model_module_version": "1.5.0",
          "state": {
            "_dom_classes": [],
            "_model_module": "@jupyter-widgets/controls",
            "_model_module_version": "1.5.0",
            "_model_name": "FloatProgressModel",
            "_view_count": null,
            "_view_module": "@jupyter-widgets/controls",
            "_view_module_version": "1.5.0",
            "_view_name": "ProgressView",
            "bar_style": "success",
            "description": "",
            "description_tooltip": null,
            "layout": "IPY_MODEL_46b4fcb73b7048b0896694eaeb29f46b",
            "max": 5,
            "min": 0,
            "orientation": "horizontal",
            "style": "IPY_MODEL_9210a779a6fb4dc4908decbb89ea66e9",
            "value": 5
          }
        },
        "919d541cd72d439fb825bc56bed8a007": {
          "model_module": "@jupyter-widgets/controls",
          "model_name": "HTMLModel",
          "model_module_version": "1.5.0",
          "state": {
            "_dom_classes": [],
            "_model_module": "@jupyter-widgets/controls",
            "_model_module_version": "1.5.0",
            "_model_name": "HTMLModel",
            "_view_count": null,
            "_view_module": "@jupyter-widgets/controls",
            "_view_module_version": "1.5.0",
            "_view_name": "HTMLView",
            "description": "",
            "description_tooltip": null,
            "layout": "IPY_MODEL_7ab57e80defb485ea79b3ca54a364893",
            "placeholder": "​",
            "style": "IPY_MODEL_f7acae8bbda34f9eabbeacd85cb000b2",
            "value": " 5/5 [00:00&lt;00:00, 382.46it/s]"
          }
        },
        "0b2e07016745466f93598dfc0c583dd3": {
          "model_module": "@jupyter-widgets/base",
          "model_name": "LayoutModel",
          "model_module_version": "1.2.0",
          "state": {
            "_model_module": "@jupyter-widgets/base",
            "_model_module_version": "1.2.0",
            "_model_name": "LayoutModel",
            "_view_count": null,
            "_view_module": "@jupyter-widgets/base",
            "_view_module_version": "1.2.0",
            "_view_name": "LayoutView",
            "align_content": null,
            "align_items": null,
            "align_self": null,
            "border": null,
            "bottom": null,
            "display": null,
            "flex": null,
            "flex_flow": null,
            "grid_area": null,
            "grid_auto_columns": null,
            "grid_auto_flow": null,
            "grid_auto_rows": null,
            "grid_column": null,
            "grid_gap": null,
            "grid_row": null,
            "grid_template_areas": null,
            "grid_template_columns": null,
            "grid_template_rows": null,
            "height": null,
            "justify_content": null,
            "justify_items": null,
            "left": null,
            "margin": null,
            "max_height": null,
            "max_width": null,
            "min_height": null,
            "min_width": null,
            "object_fit": null,
            "object_position": null,
            "order": null,
            "overflow": null,
            "overflow_x": null,
            "overflow_y": null,
            "padding": null,
            "right": null,
            "top": null,
            "visibility": null,
            "width": null
          }
        },
        "74c02d5b93ac45bfaddb8bdaa958eeba": {
          "model_module": "@jupyter-widgets/base",
          "model_name": "LayoutModel",
          "model_module_version": "1.2.0",
          "state": {
            "_model_module": "@jupyter-widgets/base",
            "_model_module_version": "1.2.0",
            "_model_name": "LayoutModel",
            "_view_count": null,
            "_view_module": "@jupyter-widgets/base",
            "_view_module_version": "1.2.0",
            "_view_name": "LayoutView",
            "align_content": null,
            "align_items": null,
            "align_self": null,
            "border": null,
            "bottom": null,
            "display": null,
            "flex": null,
            "flex_flow": null,
            "grid_area": null,
            "grid_auto_columns": null,
            "grid_auto_flow": null,
            "grid_auto_rows": null,
            "grid_column": null,
            "grid_gap": null,
            "grid_row": null,
            "grid_template_areas": null,
            "grid_template_columns": null,
            "grid_template_rows": null,
            "height": null,
            "justify_content": null,
            "justify_items": null,
            "left": null,
            "margin": null,
            "max_height": null,
            "max_width": null,
            "min_height": null,
            "min_width": null,
            "object_fit": null,
            "object_position": null,
            "order": null,
            "overflow": null,
            "overflow_x": null,
            "overflow_y": null,
            "padding": null,
            "right": null,
            "top": null,
            "visibility": null,
            "width": null
          }
        },
        "f901abdbf25a48ae8d42516b1e1bfc30": {
          "model_module": "@jupyter-widgets/controls",
          "model_name": "DescriptionStyleModel",
          "model_module_version": "1.5.0",
          "state": {
            "_model_module": "@jupyter-widgets/controls",
            "_model_module_version": "1.5.0",
            "_model_name": "DescriptionStyleModel",
            "_view_count": null,
            "_view_module": "@jupyter-widgets/base",
            "_view_module_version": "1.2.0",
            "_view_name": "StyleView",
            "description_width": ""
          }
        },
        "46b4fcb73b7048b0896694eaeb29f46b": {
          "model_module": "@jupyter-widgets/base",
          "model_name": "LayoutModel",
          "model_module_version": "1.2.0",
          "state": {
            "_model_module": "@jupyter-widgets/base",
            "_model_module_version": "1.2.0",
            "_model_name": "LayoutModel",
            "_view_count": null,
            "_view_module": "@jupyter-widgets/base",
            "_view_module_version": "1.2.0",
            "_view_name": "LayoutView",
            "align_content": null,
            "align_items": null,
            "align_self": null,
            "border": null,
            "bottom": null,
            "display": null,
            "flex": null,
            "flex_flow": null,
            "grid_area": null,
            "grid_auto_columns": null,
            "grid_auto_flow": null,
            "grid_auto_rows": null,
            "grid_column": null,
            "grid_gap": null,
            "grid_row": null,
            "grid_template_areas": null,
            "grid_template_columns": null,
            "grid_template_rows": null,
            "height": null,
            "justify_content": null,
            "justify_items": null,
            "left": null,
            "margin": null,
            "max_height": null,
            "max_width": null,
            "min_height": null,
            "min_width": null,
            "object_fit": null,
            "object_position": null,
            "order": null,
            "overflow": null,
            "overflow_x": null,
            "overflow_y": null,
            "padding": null,
            "right": null,
            "top": null,
            "visibility": null,
            "width": null
          }
        },
        "9210a779a6fb4dc4908decbb89ea66e9": {
          "model_module": "@jupyter-widgets/controls",
          "model_name": "ProgressStyleModel",
          "model_module_version": "1.5.0",
          "state": {
            "_model_module": "@jupyter-widgets/controls",
            "_model_module_version": "1.5.0",
            "_model_name": "ProgressStyleModel",
            "_view_count": null,
            "_view_module": "@jupyter-widgets/base",
            "_view_module_version": "1.2.0",
            "_view_name": "StyleView",
            "bar_color": null,
            "description_width": ""
          }
        },
        "7ab57e80defb485ea79b3ca54a364893": {
          "model_module": "@jupyter-widgets/base",
          "model_name": "LayoutModel",
          "model_module_version": "1.2.0",
          "state": {
            "_model_module": "@jupyter-widgets/base",
            "_model_module_version": "1.2.0",
            "_model_name": "LayoutModel",
            "_view_count": null,
            "_view_module": "@jupyter-widgets/base",
            "_view_module_version": "1.2.0",
            "_view_name": "LayoutView",
            "align_content": null,
            "align_items": null,
            "align_self": null,
            "border": null,
            "bottom": null,
            "display": null,
            "flex": null,
            "flex_flow": null,
            "grid_area": null,
            "grid_auto_columns": null,
            "grid_auto_flow": null,
            "grid_auto_rows": null,
            "grid_column": null,
            "grid_gap": null,
            "grid_row": null,
            "grid_template_areas": null,
            "grid_template_columns": null,
            "grid_template_rows": null,
            "height": null,
            "justify_content": null,
            "justify_items": null,
            "left": null,
            "margin": null,
            "max_height": null,
            "max_width": null,
            "min_height": null,
            "min_width": null,
            "object_fit": null,
            "object_position": null,
            "order": null,
            "overflow": null,
            "overflow_x": null,
            "overflow_y": null,
            "padding": null,
            "right": null,
            "top": null,
            "visibility": null,
            "width": null
          }
        },
        "f7acae8bbda34f9eabbeacd85cb000b2": {
          "model_module": "@jupyter-widgets/controls",
          "model_name": "DescriptionStyleModel",
          "model_module_version": "1.5.0",
          "state": {
            "_model_module": "@jupyter-widgets/controls",
            "_model_module_version": "1.5.0",
            "_model_name": "DescriptionStyleModel",
            "_view_count": null,
            "_view_module": "@jupyter-widgets/base",
            "_view_module_version": "1.2.0",
            "_view_name": "StyleView",
            "description_width": ""
          }
        }
      }
    }
  },
  "nbformat": 4,
  "nbformat_minor": 0
}