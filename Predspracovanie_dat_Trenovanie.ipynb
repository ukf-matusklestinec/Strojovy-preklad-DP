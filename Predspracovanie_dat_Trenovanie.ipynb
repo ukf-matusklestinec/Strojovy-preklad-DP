{
  "cells": [
    {
      "cell_type": "markdown",
      "metadata": {
        "id": "view-in-github",
        "colab_type": "text"
      },
      "source": [
        "<a href=\"https://colab.research.google.com/github/ukf-matusklestinec/Strojovy-preklad-DP/blob/main/Predspracovanie_dat_Trenovanie.ipynb\" target=\"_parent\"><img src=\"https://colab.research.google.com/assets/colab-badge.svg\" alt=\"Open In Colab\"/></a>"
      ]
    },
    {
      "cell_type": "code",
      "execution_count": null,
      "metadata": {
        "id": "9Jqtow9eJb-O"
      },
      "outputs": [],
      "source": [
        "# KORPUSY\n",
        "# https://opus.nlpl.eu/Europarl/en&sk/v7/Europarl\n",
        "\n",
        "\n",
        "\n",
        "# https://github.com/google/sentencepiece - SentencePiece\n",
        "# https://opennmt.net/OpenNMT-tf/configuration.html - dokumentácia pre config"
      ]
    },
    {
      "cell_type": "code",
      "execution_count": 2,
      "metadata": {
        "colab": {
          "base_uri": "https://localhost:8080/"
        },
        "id": "6fLWVqsZQs9R",
        "outputId": "c110cbb1-73b9-41c5-82fe-a187c270e1c6"
      },
      "outputs": [
        {
          "output_type": "stream",
          "name": "stdout",
          "text": [
            "Requirement already satisfied: sentencepiece in /usr/local/lib/python3.10/dist-packages (0.1.99)\n",
            "Collecting OpenNMT-py\n",
            "  Downloading OpenNMT_py-3.5.0-py3-none-any.whl (262 kB)\n",
            "\u001b[2K     \u001b[90m━━━━━━━━━━━━━━━━━━━━━━━━━━━━━━━━━━━━━━━━\u001b[0m \u001b[32m262.8/262.8 kB\u001b[0m \u001b[31m6.5 MB/s\u001b[0m eta \u001b[36m0:00:00\u001b[0m\n",
            "\u001b[?25hRequirement already satisfied: torch<2.3,>=2.0.1 in /usr/local/lib/python3.10/dist-packages (from OpenNMT-py) (2.1.0+cu121)\n",
            "Collecting configargparse (from OpenNMT-py)\n",
            "  Downloading ConfigArgParse-1.7-py3-none-any.whl (25 kB)\n",
            "Collecting ctranslate2<5,>=3.24 (from OpenNMT-py)\n",
            "  Downloading ctranslate2-4.0.0-cp310-cp310-manylinux_2_17_x86_64.manylinux2014_x86_64.whl (35.9 MB)\n",
            "\u001b[2K     \u001b[90m━━━━━━━━━━━━━━━━━━━━━━━━━━━━━━━━━━━━━━━━\u001b[0m \u001b[32m35.9/35.9 MB\u001b[0m \u001b[31m47.0 MB/s\u001b[0m eta \u001b[36m0:00:00\u001b[0m\n",
            "\u001b[?25hRequirement already satisfied: tensorboard>=2.3 in /usr/local/lib/python3.10/dist-packages (from OpenNMT-py) (2.15.2)\n",
            "Requirement already satisfied: flask in /usr/local/lib/python3.10/dist-packages (from OpenNMT-py) (2.2.5)\n",
            "Collecting waitress (from OpenNMT-py)\n",
            "  Downloading waitress-3.0.0-py3-none-any.whl (56 kB)\n",
            "\u001b[2K     \u001b[90m━━━━━━━━━━━━━━━━━━━━━━━━━━━━━━━━━━━━━━━━\u001b[0m \u001b[32m56.7/56.7 kB\u001b[0m \u001b[31m8.1 MB/s\u001b[0m eta \u001b[36m0:00:00\u001b[0m\n",
            "\u001b[?25hCollecting pyonmttok<2,>=1.35 (from OpenNMT-py)\n",
            "  Downloading pyonmttok-1.37.1-cp310-cp310-manylinux_2_17_x86_64.manylinux2014_x86_64.whl (17.0 MB)\n",
            "\u001b[2K     \u001b[90m━━━━━━━━━━━━━━━━━━━━━━━━━━━━━━━━━━━━━━━━\u001b[0m \u001b[32m17.0/17.0 MB\u001b[0m \u001b[31m56.2 MB/s\u001b[0m eta \u001b[36m0:00:00\u001b[0m\n",
            "\u001b[?25hRequirement already satisfied: pyyaml in /usr/local/lib/python3.10/dist-packages (from OpenNMT-py) (6.0.1)\n",
            "Collecting sacrebleu (from OpenNMT-py)\n",
            "  Downloading sacrebleu-2.4.0-py3-none-any.whl (106 kB)\n",
            "\u001b[2K     \u001b[90m━━━━━━━━━━━━━━━━━━━━━━━━━━━━━━━━━━━━━━━━\u001b[0m \u001b[32m106.3/106.3 kB\u001b[0m \u001b[31m12.5 MB/s\u001b[0m eta \u001b[36m0:00:00\u001b[0m\n",
            "\u001b[?25hCollecting rapidfuzz (from OpenNMT-py)\n",
            "  Downloading rapidfuzz-3.6.1-cp310-cp310-manylinux_2_17_x86_64.manylinux2014_x86_64.whl (3.4 MB)\n",
            "\u001b[2K     \u001b[90m━━━━━━━━━━━━━━━━━━━━━━━━━━━━━━━━━━━━━━━━\u001b[0m \u001b[32m3.4/3.4 MB\u001b[0m \u001b[31m95.2 MB/s\u001b[0m eta \u001b[36m0:00:00\u001b[0m\n",
            "\u001b[?25hCollecting pyahocorasick (from OpenNMT-py)\n",
            "  Downloading pyahocorasick-2.0.0-cp310-cp310-manylinux_2_5_x86_64.manylinux1_x86_64.manylinux_2_12_x86_64.manylinux2010_x86_64.whl (110 kB)\n",
            "\u001b[2K     \u001b[90m━━━━━━━━━━━━━━━━━━━━━━━━━━━━━━━━━━━━━━━━\u001b[0m \u001b[32m110.8/110.8 kB\u001b[0m \u001b[31m17.6 MB/s\u001b[0m eta \u001b[36m0:00:00\u001b[0m\n",
            "\u001b[?25hCollecting fasttext-wheel (from OpenNMT-py)\n",
            "  Downloading fasttext_wheel-0.9.2-cp310-cp310-manylinux_2_17_x86_64.manylinux2014_x86_64.whl (4.4 MB)\n",
            "\u001b[2K     \u001b[90m━━━━━━━━━━━━━━━━━━━━━━━━━━━━━━━━━━━━━━━━\u001b[0m \u001b[32m4.4/4.4 MB\u001b[0m \u001b[31m89.0 MB/s\u001b[0m eta \u001b[36m0:00:00\u001b[0m\n",
            "\u001b[?25hRequirement already satisfied: spacy in /usr/local/lib/python3.10/dist-packages (from OpenNMT-py) (3.7.4)\n",
            "Requirement already satisfied: six in /usr/local/lib/python3.10/dist-packages (from OpenNMT-py) (1.16.0)\n",
            "Requirement already satisfied: setuptools in /usr/local/lib/python3.10/dist-packages (from ctranslate2<5,>=3.24->OpenNMT-py) (67.7.2)\n",
            "Requirement already satisfied: numpy in /usr/local/lib/python3.10/dist-packages (from ctranslate2<5,>=3.24->OpenNMT-py) (1.25.2)\n",
            "Requirement already satisfied: absl-py>=0.4 in /usr/local/lib/python3.10/dist-packages (from tensorboard>=2.3->OpenNMT-py) (1.4.0)\n",
            "Requirement already satisfied: grpcio>=1.48.2 in /usr/local/lib/python3.10/dist-packages (from tensorboard>=2.3->OpenNMT-py) (1.60.1)\n",
            "Requirement already satisfied: google-auth<3,>=1.6.3 in /usr/local/lib/python3.10/dist-packages (from tensorboard>=2.3->OpenNMT-py) (2.27.0)\n",
            "Requirement already satisfied: google-auth-oauthlib<2,>=0.5 in /usr/local/lib/python3.10/dist-packages (from tensorboard>=2.3->OpenNMT-py) (1.2.0)\n",
            "Requirement already satisfied: markdown>=2.6.8 in /usr/local/lib/python3.10/dist-packages (from tensorboard>=2.3->OpenNMT-py) (3.5.2)\n",
            "Requirement already satisfied: protobuf!=4.24.0,>=3.19.6 in /usr/local/lib/python3.10/dist-packages (from tensorboard>=2.3->OpenNMT-py) (3.20.3)\n",
            "Requirement already satisfied: requests<3,>=2.21.0 in /usr/local/lib/python3.10/dist-packages (from tensorboard>=2.3->OpenNMT-py) (2.31.0)\n",
            "Requirement already satisfied: tensorboard-data-server<0.8.0,>=0.7.0 in /usr/local/lib/python3.10/dist-packages (from tensorboard>=2.3->OpenNMT-py) (0.7.2)\n",
            "Requirement already satisfied: werkzeug>=1.0.1 in /usr/local/lib/python3.10/dist-packages (from tensorboard>=2.3->OpenNMT-py) (3.0.1)\n",
            "Requirement already satisfied: filelock in /usr/local/lib/python3.10/dist-packages (from torch<2.3,>=2.0.1->OpenNMT-py) (3.13.1)\n",
            "Requirement already satisfied: typing-extensions in /usr/local/lib/python3.10/dist-packages (from torch<2.3,>=2.0.1->OpenNMT-py) (4.9.0)\n",
            "Requirement already satisfied: sympy in /usr/local/lib/python3.10/dist-packages (from torch<2.3,>=2.0.1->OpenNMT-py) (1.12)\n",
            "Requirement already satisfied: networkx in /usr/local/lib/python3.10/dist-packages (from torch<2.3,>=2.0.1->OpenNMT-py) (3.2.1)\n",
            "Requirement already satisfied: jinja2 in /usr/local/lib/python3.10/dist-packages (from torch<2.3,>=2.0.1->OpenNMT-py) (3.1.3)\n",
            "Requirement already satisfied: fsspec in /usr/local/lib/python3.10/dist-packages (from torch<2.3,>=2.0.1->OpenNMT-py) (2023.6.0)\n",
            "Requirement already satisfied: triton==2.1.0 in /usr/local/lib/python3.10/dist-packages (from torch<2.3,>=2.0.1->OpenNMT-py) (2.1.0)\n",
            "Collecting pybind11>=2.2 (from fasttext-wheel->OpenNMT-py)\n",
            "  Downloading pybind11-2.11.1-py3-none-any.whl (227 kB)\n",
            "\u001b[2K     \u001b[90m━━━━━━━━━━━━━━━━━━━━━━━━━━━━━━━━━━━━━━━━\u001b[0m \u001b[32m227.7/227.7 kB\u001b[0m \u001b[31m29.7 MB/s\u001b[0m eta \u001b[36m0:00:00\u001b[0m\n",
            "\u001b[?25hRequirement already satisfied: itsdangerous>=2.0 in /usr/local/lib/python3.10/dist-packages (from flask->OpenNMT-py) (2.1.2)\n",
            "Requirement already satisfied: click>=8.0 in /usr/local/lib/python3.10/dist-packages (from flask->OpenNMT-py) (8.1.7)\n",
            "Collecting portalocker (from sacrebleu->OpenNMT-py)\n",
            "  Downloading portalocker-2.8.2-py3-none-any.whl (17 kB)\n",
            "Requirement already satisfied: regex in /usr/local/lib/python3.10/dist-packages (from sacrebleu->OpenNMT-py) (2023.12.25)\n",
            "Requirement already satisfied: tabulate>=0.8.9 in /usr/local/lib/python3.10/dist-packages (from sacrebleu->OpenNMT-py) (0.9.0)\n",
            "Collecting colorama (from sacrebleu->OpenNMT-py)\n",
            "  Downloading colorama-0.4.6-py2.py3-none-any.whl (25 kB)\n",
            "Requirement already satisfied: lxml in /usr/local/lib/python3.10/dist-packages (from sacrebleu->OpenNMT-py) (4.9.4)\n",
            "Requirement already satisfied: spacy-legacy<3.1.0,>=3.0.11 in /usr/local/lib/python3.10/dist-packages (from spacy->OpenNMT-py) (3.0.12)\n",
            "Requirement already satisfied: spacy-loggers<2.0.0,>=1.0.0 in /usr/local/lib/python3.10/dist-packages (from spacy->OpenNMT-py) (1.0.5)\n",
            "Requirement already satisfied: murmurhash<1.1.0,>=0.28.0 in /usr/local/lib/python3.10/dist-packages (from spacy->OpenNMT-py) (1.0.10)\n",
            "Requirement already satisfied: cymem<2.1.0,>=2.0.2 in /usr/local/lib/python3.10/dist-packages (from spacy->OpenNMT-py) (2.0.8)\n",
            "Requirement already satisfied: preshed<3.1.0,>=3.0.2 in /usr/local/lib/python3.10/dist-packages (from spacy->OpenNMT-py) (3.0.9)\n",
            "Requirement already satisfied: thinc<8.3.0,>=8.2.2 in /usr/local/lib/python3.10/dist-packages (from spacy->OpenNMT-py) (8.2.3)\n",
            "Requirement already satisfied: wasabi<1.2.0,>=0.9.1 in /usr/local/lib/python3.10/dist-packages (from spacy->OpenNMT-py) (1.1.2)\n",
            "Requirement already satisfied: srsly<3.0.0,>=2.4.3 in /usr/local/lib/python3.10/dist-packages (from spacy->OpenNMT-py) (2.4.8)\n",
            "Requirement already satisfied: catalogue<2.1.0,>=2.0.6 in /usr/local/lib/python3.10/dist-packages (from spacy->OpenNMT-py) (2.0.10)\n",
            "Requirement already satisfied: weasel<0.4.0,>=0.1.0 in /usr/local/lib/python3.10/dist-packages (from spacy->OpenNMT-py) (0.3.4)\n",
            "Requirement already satisfied: typer<0.10.0,>=0.3.0 in /usr/local/lib/python3.10/dist-packages (from spacy->OpenNMT-py) (0.9.0)\n",
            "Requirement already satisfied: smart-open<7.0.0,>=5.2.1 in /usr/local/lib/python3.10/dist-packages (from spacy->OpenNMT-py) (6.4.0)\n",
            "Requirement already satisfied: tqdm<5.0.0,>=4.38.0 in /usr/local/lib/python3.10/dist-packages (from spacy->OpenNMT-py) (4.66.2)\n",
            "Requirement already satisfied: pydantic!=1.8,!=1.8.1,<3.0.0,>=1.7.4 in /usr/local/lib/python3.10/dist-packages (from spacy->OpenNMT-py) (2.6.1)\n",
            "Requirement already satisfied: packaging>=20.0 in /usr/local/lib/python3.10/dist-packages (from spacy->OpenNMT-py) (23.2)\n",
            "Requirement already satisfied: langcodes<4.0.0,>=3.2.0 in /usr/local/lib/python3.10/dist-packages (from spacy->OpenNMT-py) (3.3.0)\n",
            "Requirement already satisfied: cachetools<6.0,>=2.0.0 in /usr/local/lib/python3.10/dist-packages (from google-auth<3,>=1.6.3->tensorboard>=2.3->OpenNMT-py) (5.3.2)\n",
            "Requirement already satisfied: pyasn1-modules>=0.2.1 in /usr/local/lib/python3.10/dist-packages (from google-auth<3,>=1.6.3->tensorboard>=2.3->OpenNMT-py) (0.3.0)\n",
            "Requirement already satisfied: rsa<5,>=3.1.4 in /usr/local/lib/python3.10/dist-packages (from google-auth<3,>=1.6.3->tensorboard>=2.3->OpenNMT-py) (4.9)\n",
            "Requirement already satisfied: requests-oauthlib>=0.7.0 in /usr/local/lib/python3.10/dist-packages (from google-auth-oauthlib<2,>=0.5->tensorboard>=2.3->OpenNMT-py) (1.3.1)\n",
            "Requirement already satisfied: MarkupSafe>=2.0 in /usr/local/lib/python3.10/dist-packages (from jinja2->torch<2.3,>=2.0.1->OpenNMT-py) (2.1.5)\n",
            "Requirement already satisfied: annotated-types>=0.4.0 in /usr/local/lib/python3.10/dist-packages (from pydantic!=1.8,!=1.8.1,<3.0.0,>=1.7.4->spacy->OpenNMT-py) (0.6.0)\n",
            "Requirement already satisfied: pydantic-core==2.16.2 in /usr/local/lib/python3.10/dist-packages (from pydantic!=1.8,!=1.8.1,<3.0.0,>=1.7.4->spacy->OpenNMT-py) (2.16.2)\n",
            "Requirement already satisfied: charset-normalizer<4,>=2 in /usr/local/lib/python3.10/dist-packages (from requests<3,>=2.21.0->tensorboard>=2.3->OpenNMT-py) (3.3.2)\n",
            "Requirement already satisfied: idna<4,>=2.5 in /usr/local/lib/python3.10/dist-packages (from requests<3,>=2.21.0->tensorboard>=2.3->OpenNMT-py) (3.6)\n",
            "Requirement already satisfied: urllib3<3,>=1.21.1 in /usr/local/lib/python3.10/dist-packages (from requests<3,>=2.21.0->tensorboard>=2.3->OpenNMT-py) (2.0.7)\n",
            "Requirement already satisfied: certifi>=2017.4.17 in /usr/local/lib/python3.10/dist-packages (from requests<3,>=2.21.0->tensorboard>=2.3->OpenNMT-py) (2024.2.2)\n",
            "Requirement already satisfied: blis<0.8.0,>=0.7.8 in /usr/local/lib/python3.10/dist-packages (from thinc<8.3.0,>=8.2.2->spacy->OpenNMT-py) (0.7.11)\n",
            "Requirement already satisfied: confection<1.0.0,>=0.0.1 in /usr/local/lib/python3.10/dist-packages (from thinc<8.3.0,>=8.2.2->spacy->OpenNMT-py) (0.1.4)\n",
            "Requirement already satisfied: cloudpathlib<0.17.0,>=0.7.0 in /usr/local/lib/python3.10/dist-packages (from weasel<0.4.0,>=0.1.0->spacy->OpenNMT-py) (0.16.0)\n",
            "Requirement already satisfied: mpmath>=0.19 in /usr/local/lib/python3.10/dist-packages (from sympy->torch<2.3,>=2.0.1->OpenNMT-py) (1.3.0)\n",
            "Requirement already satisfied: pyasn1<0.6.0,>=0.4.6 in /usr/local/lib/python3.10/dist-packages (from pyasn1-modules>=0.2.1->google-auth<3,>=1.6.3->tensorboard>=2.3->OpenNMT-py) (0.5.1)\n",
            "Requirement already satisfied: oauthlib>=3.0.0 in /usr/local/lib/python3.10/dist-packages (from requests-oauthlib>=0.7.0->google-auth-oauthlib<2,>=0.5->tensorboard>=2.3->OpenNMT-py) (3.2.2)\n",
            "Installing collected packages: waitress, rapidfuzz, pyonmttok, pybind11, pyahocorasick, portalocker, ctranslate2, configargparse, colorama, sacrebleu, fasttext-wheel, OpenNMT-py\n",
            "Successfully installed OpenNMT-py-3.5.0 colorama-0.4.6 configargparse-1.7 ctranslate2-4.0.0 fasttext-wheel-0.9.2 portalocker-2.8.2 pyahocorasick-2.0.0 pybind11-2.11.1 pyonmttok-1.37.1 rapidfuzz-3.6.1 sacrebleu-2.4.0 waitress-3.0.0\n",
            "Collecting langdetect\n",
            "  Downloading langdetect-1.0.9.tar.gz (981 kB)\n",
            "\u001b[2K     \u001b[90m━━━━━━━━━━━━━━━━━━━━━━━━━━━━━━━━━━━━━━━━\u001b[0m \u001b[32m981.5/981.5 kB\u001b[0m \u001b[31m16.6 MB/s\u001b[0m eta \u001b[36m0:00:00\u001b[0m\n",
            "\u001b[?25h  Preparing metadata (setup.py) ... \u001b[?25l\u001b[?25hdone\n",
            "Requirement already satisfied: six in /usr/local/lib/python3.10/dist-packages (from langdetect) (1.16.0)\n",
            "Building wheels for collected packages: langdetect\n",
            "  Building wheel for langdetect (setup.py) ... \u001b[?25l\u001b[?25hdone\n",
            "  Created wheel for langdetect: filename=langdetect-1.0.9-py3-none-any.whl size=993225 sha256=671d467bd6b42552d3b389dcafc38dc066e80e4d9290726096c335b3aa26565b\n",
            "  Stored in directory: /root/.cache/pip/wheels/95/03/7d/59ea870c70ce4e5a370638b5462a7711ab78fba2f655d05106\n",
            "Successfully built langdetect\n",
            "Installing collected packages: langdetect\n",
            "Successfully installed langdetect-1.0.9\n"
          ]
        }
      ],
      "source": [
        "!pip install sentencepiece\n",
        "!pip3 install OpenNMT-py\n",
        "!pip install langdetect"
      ]
    },
    {
      "cell_type": "code",
      "execution_count": 3,
      "metadata": {
        "id": "HMvnB4x9L4ji"
      },
      "outputs": [],
      "source": [
        "import pandas as pd\n",
        "import numpy as np\n",
        "import csv\n",
        "import sentencepiece as spm\n",
        "import time\n",
        "from langdetect import detect, LangDetectException  # pre identifikáciu jazykov\n",
        "import unicodedata  # pre normalizáciu unicode\n",
        "import torch\n",
        "import sacrebleu"
      ]
    },
    {
      "cell_type": "code",
      "execution_count": 4,
      "metadata": {
        "id": "Kvc1X3N6Qy-I"
      },
      "outputs": [],
      "source": [
        "en_parl = \"/content/drive/MyDrive/Colab_Notebooks/Diplomovka/Dáta/europarl/europarl.sk-en.en\"\n",
        "sk_parl = \"/content/drive/MyDrive/Colab_Notebooks/Diplomovka/Dáta/europarl/europarl.sk-en.sk\""
      ]
    },
    {
      "cell_type": "markdown",
      "metadata": {
        "id": "Ua4lYSqcRE0A"
      },
      "source": [
        "## Filtrovanie/Čistenie korpusu"
      ]
    },
    {
      "cell_type": "code",
      "execution_count": null,
      "metadata": {
        "colab": {
          "base_uri": "https://localhost:8080/"
        },
        "id": "UxhHTU8SRJA4",
        "outputId": "127a3cf5-7b2a-4b7d-a17d-06905d75463c"
      },
      "outputs": [
        {
          "output_type": "stream",
          "name": "stdout",
          "text": [
            "Rozmery datasetu (riadky, stĺpce): (640715, 2)\n",
            "Normalizácia na základe UNICODE znakov\t\t\t         Riadky: 640715 | Odstránené riadky: 0, Čas: 6.29 sekúnd\n",
            "Riadky bez NaN hodnôt\t\t\t\t\t         Riadky: 640715 | Odstránené riadky: 0, Čas: 6.74 sekúnd\n",
            "Odstránenie riadkov, kde sa riadok source rovná riadku target\t Riadky: 637465 | Odstránené riadky: 3250, Čas: 7.00 sekúnd\n",
            "Odstránenie duplicitných/rovnakých riadkov\t\t\t Riadky: 621617 | Odstránené riadky: 15848, Čas: 8.33 sekúnd\n",
            "Odstránenie príliš dlhých viet source/target\t\t         Riadky: 621601 | Odstránené riadky: 16, Čas: 11.44 sekúnd\n",
            "Konverzia špeciálnych znakov\t\t\t        \t Riadky: 621601 | Odstránené riadky: 16, Čas: 16.41 sekúnd\n",
            "Odstránenie znakov, ktoré nie sú písmená/čísla\t\t\t Riadky: 621601 | Odstránené riadky: 0, Čas: 21.50 sekúnd\n",
            "Riadky sú konvertované na malé písmená (lowercase)\t\t Riadky: 621601 | Odstránené riadky: 0, Čas: 22.85 sekúnd\n",
            "Riadky bez NaN hodnôt\t\t\t\t\t         Riadky: 621597 | Odstránené riadky: 4, Čas: 26.51 sekúnd\n",
            "Kontrola jazykov\t\t\t\t\t\t         Riadky: 611479 | Odstránené riadky: 10118, Čas: 6309.47 sekúnd\n",
            "Prehodenie poradia riadkov\t\t\t\t\t\t Riadky: 611479\n",
            "Celkový prejdený čas: 6309.93 sekúnd\n",
            "Source súbor uložený: /content/drive/MyDrive/Colab_Notebooks/Diplomovka/Dáta/europarl/europarl.sk-en.en-filtered.en\n",
            "Target súbor uložený: /content/drive/MyDrive/Colab_Notebooks/Diplomovka/Dáta/europarl/europarl.sk-en.sk-filtered.sk\n"
          ]
        }
      ],
      "source": [
        "def print_status(operacia, pocet_riadkov, pocet_odst_riadkov, prejdeny_cas):\n",
        "    print(f\"{operacia} Riadky: {pocet_riadkov} | Odstránené riadky: {pocet_odst_riadkov}, Čas: {prejdeny_cas:.2f} sekúnd\")\n",
        "\n",
        "start_time = time.time()\n",
        "\n",
        "df_source = pd.read_csv(en_parl, names=['Source'], sep=\"\\0\", quoting=csv.QUOTE_NONE, skip_blank_lines=False) # dataset pre anglický text (source)\n",
        "df_target = pd.read_csv(sk_parl, names=['Target'], sep=\"\\0\", quoting=csv.QUOTE_NONE, skip_blank_lines=False) # dataset pre slovenský text (target)\n",
        "df = pd.concat([df_source, df_target], axis=1)\n",
        "print(\"Rozmery datasetu (riadky, stĺpce):\", df.shape)\n",
        "\n",
        "# aby fungovala normalizácia\n",
        "df['Source'] = df['Source'].astype(str)\n",
        "df['Target'] = df['Target'].astype(str)\n",
        "\n",
        "# Unicode normalizácia\n",
        "df['Source'] = df['Source'].apply(lambda x: unicodedata.normalize('NFKC', x))\n",
        "df['Target'] = df['Target'].apply(lambda x: unicodedata.normalize('NFKC', x))\n",
        "print_status(\"Normalizácia na základe UNICODE znakov\\t\\t\\t        \", df.shape[0], 0, time.time() - start_time)\n",
        "\n",
        "\n",
        "# Odstránenie NaN hodnôt\n",
        "pocet_riadkov = df.shape[0]\n",
        "df = df.dropna()\n",
        "odstranene_riadky = pocet_riadkov - df.shape[0]\n",
        "print_status(\"Riadky bez NaN hodnôt\\t\\t\\t\\t\\t        \", df.shape[0], odstranene_riadky, time.time() - start_time)\n",
        "\n",
        "\n",
        "# Odstránenie riadkov kde sa riadok source rovná riadku target\n",
        "pocet_riadkov = df.shape[0]\n",
        "df = df[df['Source'] != df['Target']]\n",
        "odstranene_riadky = pocet_riadkov - df.shape[0]\n",
        "print_status(\"Odstránenie riadkov, kde sa riadok source rovná riadku target\\t\", df.shape[0], odstranene_riadky, time.time() - start_time)\n",
        "\n",
        "\n",
        "# Odstránenie duplikátov\n",
        "pocet_riadkov = df.shape[0]\n",
        "df = df.drop_duplicates()\n",
        "odstranene_riadky = pocet_riadkov - df.shape[0]\n",
        "print_status(\"Odstránenie duplicitných/rovnakých riadkov\\t\\t\\t\", df.shape[0], odstranene_riadky, time.time() - start_time)\n",
        "\n",
        "\n",
        "# Odstránenie v dôsledku príliš dlhých viet source/target\n",
        "# Dĺžka, ktorá sa považuje za \"príliš dlhú\" záleží od jazyka\n",
        "pocet_riadkov = df.shape[0]\n",
        "max_sentence_length = 175\n",
        "df = df[~((df['Source'].str.count(' ') > max_sentence_length) | (df['Target'].str.count(' ') > max_sentence_length))]\n",
        "odstranene_riadky = pocet_riadkov - df.shape[0]\n",
        "print_status(\"Odstránenie príliš dlhých viet source/target\\t\\t        \", df.shape[0], odstranene_riadky, time.time() - start_time)\n",
        "\n",
        "# Odstránenie stopwords\n",
        "#stop_words_en = STOP_WORDS_EN\n",
        "#stop_words_sk = STOP_WORDS_SK\n",
        "#df['Source'] = df['Source'].apply(lambda x: ' '.join([w for w in x.split() if w not in stop_words_en]))\n",
        "#df['Target'] = df['Target'].apply(lambda x: ' '.join([w for w in x.split() if w not in stop_words_sk]))\n",
        "#odstranene_riadky = 0\n",
        "#print_status(\"Odstránenie stopwords\\t\\t\\t\\t\\t        \", df.shape[0], odstranene_riadky, time.time() - start_time)\n",
        "\n",
        "# Stemming\n",
        "#stemmer = PorterStemmer()\n",
        "#df['Source'] = df['Source'].apply(lambda x: ' '.join([stemmer.stem(w) for w in x.split()]))\n",
        "#df['Target'] = df['Target'].apply(lambda x: ' '.join([stemmer.stem(w) for w in x.split()]))\n",
        "#print_status(\"Stemming\\t\\t\\t\\t\\t\\t\\t        \", df.shape[0], odstranene_riadky, time.time() - start_time)\n",
        "\n",
        "# konverzia špeciálnych znakov\n",
        "pocet_riadkov = df.shape[0]\n",
        "\n",
        "df['Source'] = df['Source'].str.replace(r'&amp;', '&', regex=True)\n",
        "df['Source'] = df['Source'].str.replace(r'&quot;', '\"', regex=True)\n",
        "df['Source'] = df['Source'].str.replace(r'&apos;', '\\'', regex=True)\n",
        "df['Source'] = df['Source'].str.replace(r'&lt;', '<', regex=True)\n",
        "df['Source'] = df['Source'].str.replace(r'&gt;', '>', regex=True)\n",
        "\n",
        "df['Target'] = df['Target'].str.replace(r'&amp;', '&', regex=True)\n",
        "df['Target'] = df['Target'].str.replace(r'&quot;', '\"', regex=True)\n",
        "df['Target'] = df['Target'].str.replace(r'&apos;', '\\'', regex=True)\n",
        "df['Target'] = df['Target'].str.replace(r'&lt;', '<', regex=True)\n",
        "df['Target'] = df['Target'].str.replace(r'&gt;', '>', regex=True)\n",
        "print_status(\"Konverzia špeciálnych znakov\\t\\t\\t        \t\", df.shape[0], odstranene_riadky, time.time() - start_time)\n",
        "\n",
        "# Odstránenie znakov, ktoré nie sú písmená/čísla\n",
        "df['Source'] = df['Source'].str.replace('[^\\w\\s]', '', regex=True)\n",
        "df['Target'] = df['Target'].str.replace('[^\\w\\s]', '', regex=True)\n",
        "odstranene_riadky = pocet_riadkov - df.shape[0]\n",
        "print_status(\"Odstránenie znakov, ktoré nie sú písmená/čísla\\t\\t\\t\", df.shape[0], odstranene_riadky, time.time() - start_time)\n",
        "\n",
        "\n",
        "# konverzia na malé písmená\n",
        "pocet_riadkov = df.shape[0]\n",
        "df['Source'] = df['Source'].str.lower()\n",
        "df['Target'] = df['Target'].str.lower()\n",
        "prejdeny_cas = time.time() - start_time\n",
        "odstranene_riadky = pocet_riadkov - df.shape[0] # tu je to len, aby to pasovalo pre funkciu print_status\n",
        "print_status(\"Riadky sú konvertované na malé písmená (lowercase)\\t\\t\", df.shape[0], odstranene_riadky, time.time() - start_time)\n",
        "\n",
        "\n",
        "# Nahradenie prázdnych riadkov NaN\n",
        "df = df.replace(r'^\\s*$', np.nan, regex=True)\n",
        "\n",
        "# Dodatočné odstránenie riadkov, kde je NaN, ktoré mohli vzniknúť v dôsledku minulých krokov\n",
        "pocet_riadkov = df.shape[0]\n",
        "df = df.dropna()\n",
        "odstranene_riadky = pocet_riadkov - df.shape[0]\n",
        "print_status(\"Riadky bez NaN hodnôt\\t\\t\\t\\t\\t        \", df.shape[0], odstranene_riadky, time.time() - start_time)\n",
        "\n",
        "# kontrola jazyka - tento proces trvá najdlhšie\n",
        "def safe_detect(text):\n",
        "    try:\n",
        "        return detect(text)\n",
        "    except LangDetectException:\n",
        "        return None\n",
        "\n",
        "pocet_riadkov = df.shape[0]\n",
        "df['source_jazyk'] = df['Source'].apply(lambda x: safe_detect(x) if x and len(x.split()) > 1 else None)\n",
        "df['target_jazyk'] = df['Target'].apply(lambda x: safe_detect(x) if x and len(x.split()) > 1 else None)\n",
        "\n",
        "df = df[(df['source_jazyk'] == \"en\") & (df['target_jazyk'] == \"sk\")]\n",
        "df.drop(columns=['source_jazyk', 'target_jazyk'], inplace=True)\n",
        "odstranene_riadky = pocet_riadkov - df.shape[0]\n",
        "print_status(\"Kontrola jazykov\\t\\t\\t\\t\\t\\t        \", df.shape[0], odstranene_riadky, time.time() - start_time)\n",
        "\n",
        "\n",
        "# Zmenenie poradia riadkov\n",
        "df = df.sample(frac=1, random_state=42).reset_index(drop=True) # pridanie random_state, aby sme dostali vždy rovnako zamiešaný dataset\n",
        "print(\"Prehodenie poradia riadkov\\t\\t\\t\\t\\t Riadky:\", df.shape[0])\n",
        "\n",
        "prejdeny_cas = time.time() - start_time\n",
        "print(f\"Celkový prejdený čas: {prejdeny_cas:.2f} sekúnd\")\n",
        "\n",
        "source_subor = en_parl+'-filtered.'+ \"en\"\n",
        "target_subor = sk_parl+'-filtered.'+ \"sk\"\n",
        "\n",
        "df_source_en = df[\"Source\"]\n",
        "df_target_sk = df[\"Target\"]\n",
        "\n",
        "df_source_en.to_csv(source_subor, header=False, index=False, quoting=csv.QUOTE_NONE, sep=\"\\n\")\n",
        "print(\"Source súbor uložený:\", source_subor)\n",
        "df_target_sk.to_csv(target_subor, header=False, index=False, quoting=csv.QUOTE_NONE, sep=\"\\n\")\n",
        "print(\"Target súbor uložený:\", target_subor)"
      ]
    },
    {
      "cell_type": "markdown",
      "metadata": {
        "id": "N4PQ8Sr03KY9"
      },
      "source": [
        "## Subwording"
      ]
    },
    {
      "cell_type": "code",
      "execution_count": 11,
      "metadata": {
        "id": "O15cQXs34F58"
      },
      "outputs": [],
      "source": [
        "en_filt = r\"/content/drive/MyDrive/Colab_Notebooks/Diplomovka/Dáta/europarl/europarl.sk-en.en-filtered.en\"\n",
        "sk_filt = r\"/content/drive/MyDrive/Colab_Notebooks/Diplomovka/Dáta/europarl/europarl.sk-en.sk-filtered.sk\""
      ]
    },
    {
      "cell_type": "code",
      "execution_count": 12,
      "metadata": {
        "colab": {
          "base_uri": "https://localhost:8080/"
        },
        "id": "c_Lvxmw13O6G",
        "outputId": "6f280ab3-6cf4-431f-da32-c5353f455fdc"
      },
      "outputs": [
        {
          "output_type": "stream",
          "name": "stdout",
          "text": [
            "Trénovanie SentencePiece modelu bolo pre source súbor dokončené\n",
            "Trénovanie SentencePiece modelu bolo pre target súbor dokončené\n"
          ]
        }
      ],
      "source": [
        "#https://github.com/google/sentencepiece\n",
        "\n",
        "\n",
        "#Parametre\n",
        "vocab_size = 8000\n",
        "character_coverage = 0.9995\n",
        "\n",
        "# pre prípad veľkých korpusov -> --train_extremely_large_corpus=false\n",
        "\n",
        "# Model pre subwordovanie anglického textu (source)\n",
        "source = f'--input={en_filt} --model_prefix=source --vocab_size={vocab_size} --hard_vocab_limit=false --character_coverage={character_coverage} --split_digits=true --model_type=unigram'\n",
        "spm.SentencePieceTrainer.train(source)\n",
        "print(\"Trénovanie SentencePiece modelu bolo pre source súbor dokončené\")\n",
        "\n",
        "\n",
        "# Model pre subwordovanie slovenského textu (target)\n",
        "target = f'--input={sk_filt} --model_prefix=target --vocab_size={vocab_size} --hard_vocab_limit=false --character_coverage={character_coverage} --split_digits=true --model_type=unigram'\n",
        "spm.SentencePieceTrainer.train(target)\n",
        "print(\"Trénovanie SentencePiece modelu bolo pre target súbor dokončené\")"
      ]
    },
    {
      "cell_type": "code",
      "execution_count": 13,
      "metadata": {
        "id": "XPIyMvNVGxTm"
      },
      "outputs": [],
      "source": [
        "source_model = r\"/content/source.model\"\n",
        "target_model = r\"/content/target.model\"\n",
        "source_subworded = \"/content/drive/MyDrive/Colab_Notebooks/Diplomovka/Dáta/europarl/source_subworded\"\n",
        "target_subworded = \"/content/drive/MyDrive/Colab_Notebooks/Diplomovka/Dáta/europarl/target_subworded\""
      ]
    },
    {
      "cell_type": "code",
      "execution_count": 26,
      "metadata": {
        "colab": {
          "base_uri": "https://localhost:8080/"
        },
        "id": "oyAlHd07Hc0v",
        "outputId": "0697203d-dc98-46fc-cbb2-0845081b6625"
      },
      "outputs": [
        {
          "output_type": "stream",
          "name": "stdout",
          "text": [
            "Spracovaných 100000 riadkov v <_io.TextIOWrapper name='/content/drive/MyDrive/Colab_Notebooks/Diplomovka/Dáta/europarl/europarl.sk-en.en-filtered.en' mode='r' encoding='utf-8'>\n",
            "Spracovaných 200000 riadkov v <_io.TextIOWrapper name='/content/drive/MyDrive/Colab_Notebooks/Diplomovka/Dáta/europarl/europarl.sk-en.en-filtered.en' mode='r' encoding='utf-8'>\n",
            "Spracovaných 300000 riadkov v <_io.TextIOWrapper name='/content/drive/MyDrive/Colab_Notebooks/Diplomovka/Dáta/europarl/europarl.sk-en.en-filtered.en' mode='r' encoding='utf-8'>\n",
            "Spracovaných 400000 riadkov v <_io.TextIOWrapper name='/content/drive/MyDrive/Colab_Notebooks/Diplomovka/Dáta/europarl/europarl.sk-en.en-filtered.en' mode='r' encoding='utf-8'>\n",
            "Spracovaných 500000 riadkov v <_io.TextIOWrapper name='/content/drive/MyDrive/Colab_Notebooks/Diplomovka/Dáta/europarl/europarl.sk-en.en-filtered.en' mode='r' encoding='utf-8'>\n",
            "Spracovaných 600000 riadkov v <_io.TextIOWrapper name='/content/drive/MyDrive/Colab_Notebooks/Diplomovka/Dáta/europarl/europarl.sk-en.en-filtered.en' mode='r' encoding='utf-8'>\n",
            "Subwordovanie Source súboru bolo dokončené: /content/drive/MyDrive/Colab_Notebooks/Diplomovka/Dáta/europarl/source_subworded\n",
            "Spracovaných 100000 riadkov v <_io.TextIOWrapper name='/content/drive/MyDrive/Colab_Notebooks/Diplomovka/Dáta/europarl/europarl.sk-en.sk-filtered.sk' mode='r' encoding='utf-8'>\n",
            "Spracovaných 200000 riadkov v <_io.TextIOWrapper name='/content/drive/MyDrive/Colab_Notebooks/Diplomovka/Dáta/europarl/europarl.sk-en.sk-filtered.sk' mode='r' encoding='utf-8'>\n",
            "Spracovaných 300000 riadkov v <_io.TextIOWrapper name='/content/drive/MyDrive/Colab_Notebooks/Diplomovka/Dáta/europarl/europarl.sk-en.sk-filtered.sk' mode='r' encoding='utf-8'>\n",
            "Spracovaných 400000 riadkov v <_io.TextIOWrapper name='/content/drive/MyDrive/Colab_Notebooks/Diplomovka/Dáta/europarl/europarl.sk-en.sk-filtered.sk' mode='r' encoding='utf-8'>\n",
            "Spracovaných 500000 riadkov v <_io.TextIOWrapper name='/content/drive/MyDrive/Colab_Notebooks/Diplomovka/Dáta/europarl/europarl.sk-en.sk-filtered.sk' mode='r' encoding='utf-8'>\n",
            "Spracovaných 600000 riadkov v <_io.TextIOWrapper name='/content/drive/MyDrive/Colab_Notebooks/Diplomovka/Dáta/europarl/europarl.sk-en.sk-filtered.sk' mode='r' encoding='utf-8'>\n",
            "Subwordovanie Target súboru bolo dokončené: /content/drive/MyDrive/Colab_Notebooks/Diplomovka/Dáta/europarl/target_subworded\n"
          ]
        }
      ],
      "source": [
        "def subwordovanie(sp, vstup, vystup, interval=100000):\n",
        "    try:\n",
        "        with open(vstup, encoding=\"utf-8\") as vstup, open(vystup, \"w+\", encoding=\"utf-8\") as vystup:\n",
        "            for i, line in enumerate(vstup):\n",
        "                line = line.strip()\n",
        "                tokens = sp.encode_as_pieces(line)\n",
        "                vystup.write(\" \".join(tokens) + \"\\n\")\n",
        "\n",
        "                if (i + 1) % interval == 0:\n",
        "                    print(f\"Spracovaných {i + 1} riadkov v {vstup}\")\n",
        "    except Exception as e:\n",
        "        print(f\"Nastala chyba v procese {vstup}: {e}\")\n",
        "\n",
        "sp = spm.SentencePieceProcessor()\n",
        "\n",
        "sp.load(source_model)\n",
        "subwordovanie(sp, en_filt, source_subworded)\n",
        "print(f\"Subwordovanie Source súboru bolo dokončené: {source_subworded}\")\n",
        "\n",
        "sp.load(target_model)\n",
        "subwordovanie(sp, sk_filt, target_subworded)\n",
        "print(f\"Subwordovanie Target súboru bolo dokončené: {target_subworded}\")"
      ]
    },
    {
      "cell_type": "markdown",
      "metadata": {
        "id": "z2unc3y_OBsW"
      },
      "source": [
        "## Výpis riadkov súboru"
      ]
    },
    {
      "cell_type": "code",
      "execution_count": 27,
      "metadata": {
        "colab": {
          "base_uri": "https://localhost:8080/"
        },
        "id": "HJE75HqLOJK3",
        "outputId": "e49f8b3f-9588-4397-cc41-eef8eefe2572"
      },
      "outputs": [
        {
          "output_type": "stream",
          "name": "stdout",
          "text": [
            "▁i ▁would ▁refer ▁in ▁particular ▁to ▁green ▁public ▁procurement s ▁which ▁will ▁allow ▁public ▁sector ▁agencies ▁to ▁play ▁a ▁leading ▁role ▁in ▁saving ▁energy ▁by ▁making ▁use ▁of ▁the ▁new ▁technological ▁applications ▁of ▁ict\n",
            "▁the ▁presence ▁of ▁origin ▁marking ▁would ▁surely ▁have ▁provided ▁a ▁guarantee ▁of ▁product ▁quality ▁and ▁protection\n",
            "▁the ▁open ▁scope ▁of ▁the ▁legislation ▁as ▁recommended ▁by ▁the ▁environment ▁committee ▁is ▁a ▁much ▁better ▁approach ▁than ▁that ▁proposed ▁by ▁the ▁commission\n",
            "▁of ▁course ▁this ▁means ▁that ▁if ▁one ▁million ▁european ▁citizens ▁wish ▁to ▁dispens e ▁with ▁the ▁strasbourg ▁site ▁that ▁desire ▁too ▁must ▁be ▁he ed ed\n",
            "▁indeed ▁the ▁eu ▁often ▁does ▁not ▁appear ▁to ▁know ▁who ▁it ▁is ▁actually ▁funding ▁and ▁who ▁is ▁pull ing ▁its ▁ str ing s\n",
            "▁women ▁are ▁the ▁favour it e ▁victims ▁of ▁the ▁recession ▁due ▁to ▁redundancies ▁primari ly ▁affect ing ▁precarious ▁jobs\n",
            "\n",
            "▁rád ▁by ▁som ▁spomenul ▁najmä ▁ekologické ▁verejné ▁obstarávanie ▁ktoré ▁agentúra m ▁verejné ho ▁sektora ▁umožní ▁zohrávať ▁vedúcu ▁úlohu ▁pri ▁úspor e ▁energií ▁prostredníctvom ▁používania ▁nových ▁technologický ch ▁aplikáci í ▁i kt\n",
            "▁označovanie ▁pôvodu ▁by ▁určite ▁poskytlo ▁záruk u ▁kvality ▁výrobkov ▁a ▁ochrany\n",
            "▁otvorený ▁rozsah ▁pôsobnosti ▁tohto ▁právne ho ▁predpis u ▁v ▁zmysle ▁odporúčania ▁výboru ▁pre ▁životné ▁prostredie ▁je ▁o veľa ▁lepší m ▁prístup om ▁ako ▁návrh ▁ktorý ▁predložila ▁komisia\n",
            "▁samozrejme ▁to ▁znamená ▁že ▁ak ▁sa ▁chce ▁jeden ▁milión ▁európskych ▁občanov ▁vzdať ▁s í dla ▁v ▁štrasburgu ▁musíme ▁tomu ▁venovať ▁pozornosť\n",
            "▁naozaj ▁často ▁sa ▁zdá ▁že ▁eú ▁nev ie ▁k o ho ▁v ▁skutočnosti ▁financuje ▁a ▁kto ▁ťa h á ▁za ▁jej ▁ nit ky\n",
            "▁ženy ▁sú ▁hlavným i ▁obeťami ▁recesie ▁v ▁dôsledku ▁pre púšťa nia ▁týkajúce ho ▁sa ▁hlavne ▁neist ých ▁pracovný ch ▁miest\n"
          ]
        }
      ],
      "source": [
        "with open(source_subworded, \"r\", encoding=\"utf-8\") as file:\n",
        "    for i, line in enumerate(file):\n",
        "        print(line.strip())\n",
        "        if i >= 5:\n",
        "            break\n",
        "\n",
        "print()\n",
        "\n",
        "with open(target_subworded, \"r\", encoding=\"utf-8\") as file:\n",
        "    for i, line in enumerate(file):\n",
        "        print(line.strip())\n",
        "        if i >= 5:\n",
        "            break"
      ]
    },
    {
      "cell_type": "markdown",
      "metadata": {
        "id": "KaZHsKCBONyA"
      },
      "source": [
        "##Rozdelenie dát na množiny"
      ]
    },
    {
      "cell_type": "markdown",
      "metadata": {
        "id": "3quZI0QiOR02"
      },
      "source": [
        "Dáta rozdelujeme do 3 častí:\n",
        "\n",
        "    trénovací dataset - používa sa na trénovanie modelu;\n",
        "    development dataset - používa sa na validáciu modelu počas trénovania, aby sa mohli vylepšiť parametre modelu\n",
        "    testovací dataset - používa sa na konečné vyhodotenie (evaluáciu) modelu na modelom nevidených dátach"
      ]
    },
    {
      "cell_type": "code",
      "execution_count": 28,
      "metadata": {
        "id": "nu2oO6BoPGp3"
      },
      "outputs": [],
      "source": [
        "source_subor = r\"/content/drive/MyDrive/Colab_Notebooks/Diplomovka/Dáta/europarl/source_subworded\"\n",
        "target_subor = r\"/content/drive/MyDrive/Colab_Notebooks/Diplomovka/Dáta/europarl/target_subworded\""
      ]
    },
    {
      "cell_type": "code",
      "execution_count": 29,
      "metadata": {
        "id": "9-kr-n2_OVdo"
      },
      "outputs": [],
      "source": [
        "np.random.seed(42)\n",
        "\n",
        "\n",
        "# Veľkosť súborov pre dev a test text\n",
        "data_size = 4000\n",
        "\n",
        "development = data_size\n",
        "test = data_size\n",
        "\n",
        "\n",
        "def train_test_dev(development, test, source_subor, target_subor):\n",
        "    df_source = pd.read_csv(source_subor, names=['Source'], sep=\"\\0\", quoting=csv.QUOTE_NONE, skip_blank_lines=False, encoding=\"utf-8\")\n",
        "    df_target = pd.read_csv(target_subor, names=['Target'], sep=\"\\0\", quoting=csv.QUOTE_NONE, skip_blank_lines=False, encoding=\"utf-8\")\n",
        "    df = pd.concat([df_source, df_target], axis=1)\n",
        "\n",
        "    # Odstránenie prázdnych riadkov\n",
        "    df.dropna(inplace=True)\n",
        "\n",
        "    # Zamiešanie datasetu\n",
        "    df = df.sample(frac=1, random_state=42).reset_index(drop=True) # pridanie random_state, aby sme dostali vždy rovnako zamiešaný dataset\n",
        "\n",
        "    # Rozdelenie datasetu\n",
        "    df_dev = df[:development]\n",
        "    df_test = df[development:development + test]\n",
        "    df_train = df[development + test:]\n",
        "\n",
        "    def vytvorenie_suboru(df, source_subor, target_subor):\n",
        "        df['Source'].to_csv(source_subor, index=False, header=False, quoting=csv.QUOTE_NONE, sep=',')\n",
        "        df['Target'].to_csv(target_subor, index=False, header=False, quoting=csv.QUOTE_NONE, sep=',')\n",
        "\n",
        "\n",
        "    vytvorenie_suboru(df_train, source_subor + '.train', target_subor + '.train')\n",
        "    vytvorenie_suboru(df_dev, source_subor + '.dev', target_subor + '.dev')\n",
        "    vytvorenie_suboru(df_test, source_subor + '.test', target_subor + '.test')\n",
        "\n",
        "\n",
        "train_test_dev(development, test, source_subor, target_subor)\n"
      ]
    },
    {
      "cell_type": "code",
      "execution_count": 11,
      "metadata": {
        "id": "bKTRESdMD1NB"
      },
      "outputs": [],
      "source": [
        "source_test = r\"/content/drive/MyDrive/Colab_Notebooks/Diplomovka/Dáta/europarl/source_subworded.test\"\n",
        "target_test = r\"/content/drive/MyDrive/Colab_Notebooks/Diplomovka/Dáta/europarl/target_subworded.test\""
      ]
    },
    {
      "cell_type": "code",
      "execution_count": 12,
      "metadata": {
        "colab": {
          "base_uri": "https://localhost:8080/"
        },
        "id": "Ex43E6oqDmiM",
        "outputId": "e5fcc190-c6cf-478a-df48-6529fb03564e"
      },
      "outputs": [
        {
          "output_type": "stream",
          "name": "stdout",
          "text": [
            "▁firstly ▁there ▁are ▁insufficient ▁organs ▁available ▁in ▁the ▁eu\n",
            "▁there ▁is ▁poverty ▁in ▁the ▁world\n",
            "▁the ▁european ▁union ▁does ▁indeed ▁require ▁ambition ▁to ▁defeat ▁the ▁challenges ▁presented ▁by ▁the ▁crisis ▁but ▁that ▁ambition ▁must ▁not ▁cause ▁problems ▁for ▁the ▁effort ▁at ▁budget ary ▁consolidation ▁which ▁is ▁being ▁demanded ▁of ▁member ▁states ▁in ▁view ▁of ▁the ▁weakness ▁of ▁their ▁public ▁accounts ▁and ▁their ▁excessive ▁deficits\n",
            "▁however ▁the ▁different ▁implementation ▁methods ▁of ▁member ▁states ▁have ▁made ▁it ▁difficult ▁for ▁the ▁service ▁sector ▁to ▁take ▁full ▁advantage ▁of ▁the ▁directive\n",
            "▁i ▁voted ▁for ▁the ▁report ▁on ▁the ▁demographic ▁challenge ▁and ▁solidarity ▁between ▁generations ▁because ▁under ▁the ▁current ▁circumstances ▁of ▁the ▁unprecedented ▁demographic ▁problems ▁posed ▁by ▁increased ▁life ▁expectancy ▁and ▁falling ▁birth ▁rates ▁they ▁constitute ▁one ▁of ▁the ▁most ▁urgent ▁social ▁policy ▁challenges ▁of ▁coming ▁years\n",
            "▁with ▁a ▁fixed ▁national ▁exchange ▁rate ▁the ▁civil ▁liability ▁of ▁borrow ers ▁towards ▁lend ers ▁was ▁ very ▁high ▁all ▁the ▁currency ▁risk ▁in ▁the ▁value ▁of ▁an ▁over pr ic ed ▁pledge ▁was ▁borne ▁by ▁borrow ers\n",
            "\n",
            "▁po ▁prvé ▁v ▁eú ▁je ▁nedostatok ▁orgánov\n",
            "▁vo ▁svete ▁je ▁chudoba\n",
            "▁európska ▁únia ▁skutočne ▁vyžaduje ▁a m b íci u ▁riešiť ▁problémy ▁spôsobené ▁krízou ▁ale ▁táto ▁a m b íci a ▁nesmie ▁ skom pl ik ovať ▁úsilie ▁v ▁oblasti ▁rozpočtov ej ▁konsolidáci e ▁ktorá ▁sa ▁od ▁členských ▁štátov ▁vyžaduje ▁v ▁dôsledku ▁osla b enia ▁verejných ▁financií ▁a ▁ich ▁nadmern ého ▁deficit u\n",
            "▁rozdielne ▁metódy ▁vykonávania ▁v ▁členských ▁štátoch ▁však ▁odvetviu ▁služieb ▁sťaž ili ▁optimáln e ▁z u ži tk ovanie ▁výhod ▁smernice\n",
            "▁hlasoval ▁som ▁za ▁správu ▁o ▁demografick ých ▁výzva ch ▁a ▁solidarite ▁medzi ▁generácia mi ▁pretože ▁v ▁súčasnej ▁situácii ▁ne b ý val ých ▁demografick ých ▁problémov ▁ktoré ▁sú ▁spôsobené ▁pred l ž ovaním ▁očakáva nej ▁d ĺ ž ky ▁života ▁a ▁pokles om ▁miery ▁pôrod nosti ▁predstavujú ▁jednu ▁z ▁naj nal ie ha v ejších ▁výziev ▁sociálnej ▁politiky ▁nasledujúcich ▁rokov\n",
            "▁vďaka ▁pevn ému ▁národné mu ▁v ý men né mu ▁kurz u ▁bola ▁občiansk o práv na ▁zodpovednosť ▁ dl ž níkov ▁v oči ▁veriteľ om ▁veľmi ▁vysoká ▁celé ▁menové ▁riziko ▁v ▁hodnote ▁pred ra že nej ▁záruky ▁z ná š ali ▁ dl ž níci\n"
          ]
        }
      ],
      "source": [
        "with open(source_test, \"r\", encoding=\"utf-8\") as file:\n",
        "    for i, line in enumerate(file):\n",
        "        print(line.strip())\n",
        "        if i >= 5:\n",
        "            break\n",
        "\n",
        "print()\n",
        "\n",
        "with open(target_test, \"r\", encoding=\"utf-8\") as file:\n",
        "    for i, line in enumerate(file):\n",
        "        print(line.strip())\n",
        "        if i >= 5:\n",
        "            break"
      ]
    },
    {
      "cell_type": "code",
      "execution_count": 13,
      "metadata": {
        "id": "Hnqodi2iQ2CX"
      },
      "outputs": [],
      "source": [
        "config = '''\n",
        "\n",
        "seed: 42 # aby sme dosiahli rovnakých výsledkov a pre lepšie porovnávanie medzi modelmi\n",
        "\n",
        "save_data: vocab  # zložka, kde sa uloží slovná zásoba vygenerovaná pomocou onmt_build_vocab\n",
        "\n",
        "data:\n",
        "    corpus:\n",
        "        # súbory určené na trénovanie\n",
        "        path_src: /content/drive/MyDrive/Colab_Notebooks/Diplomovka/Dáta/europarl/source_subworded.train\n",
        "        path_tgt: /content/drive/MyDrive/Colab_Notebooks/Diplomovka/Dáta/europarl/target_subworded.train\n",
        "        transforms: [filtertoolong]\n",
        "        weight: 1\n",
        "    valid:\n",
        "        # súbory určené na validáciu\n",
        "        path_src: /content/drive/MyDrive/Colab_Notebooks/Diplomovka/Dáta/europarl/source_subworded.dev\n",
        "        path_tgt: /content/drive/MyDrive/Colab_Notebooks/Diplomovka/Dáta/europarl/target_subworded.dev\n",
        "        transforms: [filtertoolong]\n",
        "\n",
        "# súbory, v ktorých je uložená slovná zásoba pre source (anglický jazyk) a target (slovenský jazyk) onmt_build_vocab\n",
        "src_vocab: vocab/source.vocab\n",
        "tgt_vocab: vocab/target.vocab\n",
        "\n",
        "# veľkosť slovnej zásoby - hodnoty by mali byť rovnaké ako v sentencepiece\n",
        "src_vocab_size: 8000\n",
        "tgt_vocab_size: 8000\n",
        "\n",
        "src_subword_model: /content/source.model\n",
        "tgt_subword_model: /content/target.model\n",
        "\n",
        "# Miesto uloženia súborov\n",
        "log_file:   /content/drive/MyDrive/Colab_Notebooks/Diplomovka/Dáta/europarl/train.log\n",
        "save_model: /content/drive/MyDrive/Colab_Notebooks/Diplomovka/Dáta/europarl/complete_model\n",
        "\n",
        "train_steps: 100000 # počet krokov trénovania\n",
        "valid_steps: 10000  # po n krokoch vykonať validáciu pomocou dev setu\n",
        "warmup_steps: 8000 # počet by mal byť priamoúmerný počtu krokov trénovania\n",
        "early_stopping: 4 # ak sa model nezlepší po n validáciach, trénovanie zastaví\n",
        "save_checkpoint_steps: 5000   # uloženie modelu po n krokoch\n",
        "keep_checkpoint: 10  # počet posledných n uložených modelov\n",
        "report_every: 500 # výpis informácií o trénovaní po n-krokoch\n",
        "\n",
        "decoder_type: transformer\n",
        "encoder_type: transformer\n",
        "word_vec_size: 512   # dimenzionálnosť word embeddingu\n",
        "hidden_size: 512     # dimenzionálnosť skrytých stavov v enkódery a dekódery\n",
        "layers: 6             # počet vrstiev v enkódery a dekódery   - alternatíva je enc_layers a dec_layers\n",
        "transformer_ff: 2048  # dimenzionálnosť doprednej vrstvy v transformery\n",
        "heads: 8              # počet attention head v multi-head-attention\n",
        "\n",
        "accum_count: 2 # počet n krokov, po ktorých sa aktualizujú parametre\n",
        "optim: adam\n",
        "adam_beta1: 0.9\n",
        "adam_beta2: 0.998\n",
        "decay_method: noam\n",
        "learning_rate: 2.0    # miera učenia\n",
        "max_grad_norm: 0.0    # gradient clipping, pomáha, aby v modely nenastal explodujúci gradient (nemožnosť modelu sa učiť v dôsledku vysokej miery učenia), emôže pomôcť pre lepšiu stabilitu modelu\n",
        "\n",
        "param_init: 0.0\n",
        "param_init_glorot: 'true'\n",
        "position_encoding: 'true'\n",
        "\n",
        "batch_size: 1024\n",
        "valid_batch_size: 1024\n",
        "batch_type: tokens\n",
        "normalization: tokens\n",
        "max_generator_batches: 2\n",
        "\n",
        "dropout: 0.1           # regularizácia, ktorá vytvára šancu (0.1 = 10%) na \"vypnutie\" nodu vo vrstve behom trénovania, pomáha proti overfittingu\n",
        "label_smoothing: 0.1\n",
        "\n",
        "world_size: 1\n",
        "gpu_ranks: 0\n",
        "\n",
        "# INFO\n",
        "log_file: train.log\n",
        "log_level: INFO\n",
        "\n",
        "'''\n",
        "\n",
        "with open(\"config.yaml\", \"w+\", encoding=\"utf-8\") as config_yaml:\n",
        "  config_yaml.write(config)"
      ]
    },
    {
      "cell_type": "code",
      "execution_count": 14,
      "metadata": {
        "id": "sQvEi-oUaTp5",
        "colab": {
          "base_uri": "https://localhost:8080/"
        },
        "outputId": "b1fb94d1-c7a0-4993-8d51-a7337cbbf2f6"
      },
      "outputs": [
        {
          "output_type": "stream",
          "name": "stdout",
          "text": [
            "GPU 0: Tesla T4 (UUID: GPU-2ad78e68-7908-2501-57d8-2e092505cd05)\n"
          ]
        }
      ],
      "source": [
        "!nvidia-smi -L"
      ]
    },
    {
      "cell_type": "markdown",
      "metadata": {
        "id": "UATW2mh1SYHe"
      },
      "source": [
        "Použíjeme Framework OpenNMT"
      ]
    },
    {
      "cell_type": "code",
      "execution_count": 15,
      "metadata": {
        "id": "noLMeIygRw8W",
        "colab": {
          "base_uri": "https://localhost:8080/"
        },
        "outputId": "6e3a7eb8-cc04-4f80-e005-1810336b971f"
      },
      "outputs": [
        {
          "output_type": "stream",
          "name": "stdout",
          "text": [
            "[2024-02-27 06:57:27,537 INFO] Counter vocab from -1 samples.\n",
            "[2024-02-27 06:57:27,537 INFO] n_sample=-1: Build vocab on full datasets.\n",
            "[2024-02-27 06:57:56,047 INFO] * Transform statistics for corpus(100.00%):\n",
            "\t\t\t* FilterTooLongStats(filtered=29)\n",
            "\n",
            "[2024-02-27 06:57:56,069 INFO] Counters src: 8156\n",
            "[2024-02-27 06:57:56,069 INFO] Counters tgt: 8107\n"
          ]
        }
      ],
      "source": [
        "# Vytvorenie vocabulary\n",
        "!onmt_build_vocab -config config.yaml -n_sample -1"
      ]
    },
    {
      "cell_type": "code",
      "execution_count": 16,
      "metadata": {
        "id": "XCIZCKtkUH83",
        "colab": {
          "base_uri": "https://localhost:8080/"
        },
        "outputId": "5f0a0e9b-8631-488c-d12f-9e5494c2b61c"
      },
      "outputs": [
        {
          "output_type": "stream",
          "name": "stdout",
          "text": [
            "[2024-02-27 06:58:03,284 INFO] Parsed 2 corpora from -data.\n",
            "[2024-02-27 06:58:03,284 INFO] Get special vocabs from Transforms: {'src': [], 'tgt': []}.\n",
            "[2024-02-27 06:58:03,316 INFO] The first 10 tokens of the vocabs are:['<unk>', '<blank>', '<s>', '</s>', '▁the', '▁of', '▁to', '▁and', '▁in', '▁a']\n",
            "[2024-02-27 06:58:03,316 INFO] The decoder start token is: <s>\n",
            "[2024-02-27 06:58:03,316 INFO] Building model...\n",
            "[2024-02-27 06:58:03,927 INFO] Switching model to float32 for amp/apex_amp\n",
            "[2024-02-27 06:58:03,928 INFO] Non quantized layer compute is fp32\n",
            "[2024-02-27 06:58:04,267 INFO] NMTModel(\n",
            "  (encoder): TransformerEncoder(\n",
            "    (embeddings): Embeddings(\n",
            "      (make_embedding): Sequential(\n",
            "        (emb_luts): Elementwise(\n",
            "          (0): Embedding(8000, 512, padding_idx=1)\n",
            "        )\n",
            "        (pe): PositionalEncoding()\n",
            "      )\n",
            "      (dropout): Dropout(p=0.1, inplace=False)\n",
            "    )\n",
            "    (transformer): ModuleList(\n",
            "      (0-5): 6 x TransformerEncoderLayer(\n",
            "        (self_attn): MultiHeadedAttention(\n",
            "          (linear_keys): Linear(in_features=512, out_features=512, bias=False)\n",
            "          (linear_values): Linear(in_features=512, out_features=512, bias=False)\n",
            "          (linear_query): Linear(in_features=512, out_features=512, bias=False)\n",
            "          (softmax): Softmax(dim=-1)\n",
            "          (dropout): Dropout(p=0.1, inplace=False)\n",
            "          (final_linear): Linear(in_features=512, out_features=512, bias=False)\n",
            "        )\n",
            "        (feed_forward): PositionwiseFeedForward(\n",
            "          (w_1): Linear(in_features=512, out_features=2048, bias=False)\n",
            "          (w_2): Linear(in_features=2048, out_features=512, bias=False)\n",
            "          (layer_norm): LayerNorm((512,), eps=1e-06, elementwise_affine=True)\n",
            "          (dropout_1): Dropout(p=0.1, inplace=False)\n",
            "          (dropout_2): Dropout(p=0.1, inplace=False)\n",
            "        )\n",
            "        (layer_norm): LayerNorm((512,), eps=1e-06, elementwise_affine=True)\n",
            "        (dropout): Dropout(p=0.1, inplace=False)\n",
            "      )\n",
            "    )\n",
            "    (layer_norm): LayerNorm((512,), eps=1e-06, elementwise_affine=True)\n",
            "  )\n",
            "  (decoder): TransformerDecoder(\n",
            "    (embeddings): Embeddings(\n",
            "      (make_embedding): Sequential(\n",
            "        (emb_luts): Elementwise(\n",
            "          (0): Embedding(8000, 512, padding_idx=1)\n",
            "        )\n",
            "        (pe): PositionalEncoding()\n",
            "      )\n",
            "      (dropout): Dropout(p=0.1, inplace=False)\n",
            "    )\n",
            "    (layer_norm): LayerNorm((512,), eps=1e-06, elementwise_affine=True)\n",
            "    (transformer_layers): ModuleList(\n",
            "      (0-5): 6 x TransformerDecoderLayer(\n",
            "        (self_attn): MultiHeadedAttention(\n",
            "          (linear_keys): Linear(in_features=512, out_features=512, bias=False)\n",
            "          (linear_values): Linear(in_features=512, out_features=512, bias=False)\n",
            "          (linear_query): Linear(in_features=512, out_features=512, bias=False)\n",
            "          (softmax): Softmax(dim=-1)\n",
            "          (dropout): Dropout(p=0.1, inplace=False)\n",
            "          (final_linear): Linear(in_features=512, out_features=512, bias=False)\n",
            "        )\n",
            "        (feed_forward): PositionwiseFeedForward(\n",
            "          (w_1): Linear(in_features=512, out_features=2048, bias=False)\n",
            "          (w_2): Linear(in_features=2048, out_features=512, bias=False)\n",
            "          (layer_norm): LayerNorm((512,), eps=1e-06, elementwise_affine=True)\n",
            "          (dropout_1): Dropout(p=0.1, inplace=False)\n",
            "          (dropout_2): Dropout(p=0.1, inplace=False)\n",
            "        )\n",
            "        (layer_norm_1): LayerNorm((512,), eps=1e-06, elementwise_affine=True)\n",
            "        (dropout): Dropout(p=0.1, inplace=False)\n",
            "        (context_attn): MultiHeadedAttention(\n",
            "          (linear_keys): Linear(in_features=512, out_features=512, bias=False)\n",
            "          (linear_values): Linear(in_features=512, out_features=512, bias=False)\n",
            "          (linear_query): Linear(in_features=512, out_features=512, bias=False)\n",
            "          (softmax): Softmax(dim=-1)\n",
            "          (dropout): Dropout(p=0.1, inplace=False)\n",
            "          (final_linear): Linear(in_features=512, out_features=512, bias=False)\n",
            "        )\n",
            "        (layer_norm_2): LayerNorm((512,), eps=1e-06, elementwise_affine=True)\n",
            "      )\n",
            "    )\n",
            "  )\n",
            "  (generator): Linear(in_features=512, out_features=8000, bias=True)\n",
            ")\n",
            "[2024-02-27 06:58:04,270 INFO] encoder: 22983680\n",
            "[2024-02-27 06:58:04,270 INFO] decoder: 33385280\n",
            "[2024-02-27 06:58:04,270 INFO] * number of parameters: 56368960\n",
            "[2024-02-27 06:58:04,271 INFO] Trainable parameters = {'torch.float32': 56368960, 'torch.float16': 0, 'torch.uint8': 0, 'torch.int8': 0}\n",
            "[2024-02-27 06:58:04,271 INFO] Non trainable parameters = {'torch.float32': 0, 'torch.float16': 0, 'torch.uint8': 0, 'torch.int8': 0}\n",
            "[2024-02-27 06:58:04,271 INFO]  * src vocab size = 8000\n",
            "[2024-02-27 06:58:04,271 INFO]  * tgt vocab size = 8000\n",
            "[2024-02-27 06:58:04,628 INFO] Starting training on GPU: [0]\n",
            "[2024-02-27 06:58:04,628 INFO] Start training loop and validate every 10000 steps...\n",
            "[2024-02-27 06:58:04,629 INFO] Scoring with: TransformPipe(FilterTooLongTransform(src_seq_length=192, tgt_seq_length=192))\n",
            "[2024-02-27 06:58:08,078 INFO] Weighted corpora loaded so far:\n",
            "\t\t\t* corpus: 1\n",
            "[2024-02-27 06:58:11,415 INFO] Weighted corpora loaded so far:\n",
            "\t\t\t* corpus: 1\n",
            "[2024-02-27 07:00:17,298 INFO] Step 500/100000; acc: 4.4; ppl: 2738.2; xent: 7.9; lr: 0.00006; sents:   33054; bsz:  869/ 937/33; 6551/7063 tok/s;    133 sec;\n",
            "[2024-02-27 07:02:00,419 INFO] Step 1000/100000; acc: 10.1; ppl: 1047.6; xent: 7.0; lr: 0.00012; sents:   31497; bsz:  866/ 936/31; 8394/9078 tok/s;    236 sec;\n",
            "[2024-02-27 07:03:43,533 INFO] Step 1500/100000; acc: 17.7; ppl: 436.1; xent: 6.1; lr: 0.00019; sents:   31352; bsz:  871/ 941/31; 8449/9127 tok/s;    339 sec;\n",
            "[2024-02-27 07:05:26,784 INFO] Step 2000/100000; acc: 24.6; ppl: 228.7; xent: 5.4; lr: 0.00025; sents:   32157; bsz:  869/ 943/32; 8418/9134 tok/s;    442 sec;\n",
            "[2024-02-27 07:07:09,699 INFO] Step 2500/100000; acc: 30.9; ppl: 136.7; xent: 4.9; lr: 0.00031; sents:   31976; bsz:  870/ 942/32; 8455/9149 tok/s;    545 sec;\n",
            "[2024-02-27 07:08:53,065 INFO] Step 3000/100000; acc: 36.2; ppl:  92.1; xent: 4.5; lr: 0.00037; sents:   30527; bsz:  879/ 939/31; 8504/9086 tok/s;    648 sec;\n",
            "[2024-02-27 07:10:35,374 INFO] Step 3500/100000; acc: 40.7; ppl:  67.1; xent: 4.2; lr: 0.00043; sents:   32329; bsz:  857/ 945/32; 8377/9234 tok/s;    751 sec;\n",
            "[2024-02-27 07:12:17,803 INFO] Step 4000/100000; acc: 43.8; ppl:  54.3; xent: 4.0; lr: 0.00049; sents:   31878; bsz:  866/ 941/32; 8451/9185 tok/s;    853 sec;\n",
            "[2024-02-27 07:14:00,633 INFO] Step 4500/100000; acc: 46.6; ppl:  46.0; xent: 3.8; lr: 0.00056; sents:   32567; bsz:  870/ 941/33; 8460/9154 tok/s;    956 sec;\n",
            "[2024-02-27 07:15:43,569 INFO] Step 5000/100000; acc: 48.8; ppl:  40.3; xent: 3.7; lr: 0.00062; sents:   32271; bsz:  877/ 939/32; 8525/9124 tok/s;   1059 sec;\n",
            "[2024-02-27 07:15:43,576 INFO] Saving checkpoint /content/drive/MyDrive/Colab_Notebooks/Diplomovka/Dáta/europarl/complete_model_step_5000.pt\n",
            "[2024-02-27 07:17:27,992 INFO] Step 5500/100000; acc: 49.9; ppl:  37.6; xent: 3.6; lr: 0.00068; sents:   32374; bsz:  860/ 936/32; 8233/8967 tok/s;   1163 sec;\n",
            "[2024-02-27 07:19:10,303 INFO] Step 6000/100000; acc: 51.0; ppl:  35.0; xent: 3.6; lr: 0.00074; sents:   30492; bsz:  871/ 938/30; 8518/9171 tok/s;   1266 sec;\n",
            "[2024-02-27 07:20:52,290 INFO] Step 6500/100000; acc: 52.0; ppl:  32.9; xent: 3.5; lr: 0.00080; sents:   32471; bsz:  863/ 937/32; 8461/9192 tok/s;   1368 sec;\n",
            "[2024-02-27 07:22:34,548 INFO] Step 7000/100000; acc: 53.4; ppl:  30.5; xent: 3.4; lr: 0.00086; sents:   33027; bsz:  865/ 940/33; 8457/9194 tok/s;   1470 sec;\n",
            "[2024-02-27 07:24:17,110 INFO] Step 7500/100000; acc: 54.1; ppl:  29.2; xent: 3.4; lr: 0.00093; sents:   34635; bsz:  871/ 936/35; 8494/9131 tok/s;   1572 sec;\n",
            "[2024-02-27 07:25:52,557 INFO] * Transform statistics for corpus(50.00%):\n",
            "\t\t\t* FilterTooLongStats(filtered=13)\n",
            "\n",
            "[2024-02-27 07:25:52,557 INFO] Weighted corpora loaded so far:\n",
            "\t\t\t* corpus: 2\n",
            "[2024-02-27 07:25:56,820 INFO] * Transform statistics for corpus(50.00%):\n",
            "\t\t\t* FilterTooLongStats(filtered=12)\n",
            "\n",
            "[2024-02-27 07:25:56,820 INFO] Weighted corpora loaded so far:\n",
            "\t\t\t* corpus: 2\n",
            "[2024-02-27 07:25:59,336 INFO] Step 8000/100000; acc: 54.5; ppl:  28.5; xent: 3.3; lr: 0.00099; sents:   31522; bsz:  868/ 935/32; 8490/9149 tok/s;   1675 sec;\n",
            "[2024-02-27 07:27:41,337 INFO] Step 8500/100000; acc: 56.2; ppl:  25.8; xent: 3.3; lr: 0.00096; sents:   31630; bsz:  867/ 941/32; 8502/9229 tok/s;   1777 sec;\n",
            "[2024-02-27 07:29:23,051 INFO] Step 9000/100000; acc: 57.2; ppl:  24.2; xent: 3.2; lr: 0.00093; sents:   32612; bsz:  869/ 935/33; 8543/9194 tok/s;   1878 sec;\n",
            "[2024-02-27 07:31:04,975 INFO] Step 9500/100000; acc: 58.3; ppl:  22.9; xent: 3.1; lr: 0.00091; sents:   31611; bsz:  872/ 940/32; 8560/9226 tok/s;   1980 sec;\n",
            "[2024-02-27 07:32:46,717 INFO] Step 10000/100000; acc: 59.0; ppl:  21.9; xent: 3.1; lr: 0.00088; sents:   31735; bsz:  870/ 940/32; 8547/9241 tok/s;   2082 sec;\n",
            "[2024-02-27 07:32:59,446 INFO] valid stats calculation\n",
            "                           took: 12.727656364440918 s.\n",
            "[2024-02-27 07:32:59,447 INFO] Train perplexity: 70.1778\n",
            "[2024-02-27 07:32:59,447 INFO] Train accuracy: 42.4575\n",
            "[2024-02-27 07:32:59,447 INFO] Sentences processed: 641717\n",
            "[2024-02-27 07:32:59,447 INFO] Average bsz:  869/ 939/32\n",
            "[2024-02-27 07:32:59,448 INFO] Validation perplexity: 19.649\n",
            "[2024-02-27 07:32:59,448 INFO] Validation accuracy: 61.3155\n",
            "[2024-02-27 07:32:59,448 INFO] Model is improving ppl: inf --> 19.649.\n",
            "[2024-02-27 07:32:59,448 INFO] Model is improving acc: -inf --> 61.3155.\n",
            "[2024-02-27 07:32:59,452 INFO] Saving checkpoint /content/drive/MyDrive/Colab_Notebooks/Diplomovka/Dáta/europarl/complete_model_step_10000.pt\n",
            "[2024-02-27 07:34:43,794 INFO] Step 10500/100000; acc: 59.9; ppl:  20.9; xent: 3.0; lr: 0.00086; sents:   31415; bsz:  880/ 940/31; 7514/8033 tok/s;   2199 sec;\n",
            "[2024-02-27 07:36:25,412 INFO] Step 11000/100000; acc: 60.5; ppl:  20.2; xent: 3.0; lr: 0.00084; sents:   32457; bsz:  864/ 936/32; 8506/9213 tok/s;   2301 sec;\n",
            "[2024-02-27 07:38:07,174 INFO] Step 11500/100000; acc: 61.2; ppl:  19.5; xent: 3.0; lr: 0.00082; sents:   32395; bsz:  857/ 940/32; 8426/9234 tok/s;   2403 sec;\n",
            "[2024-02-27 07:39:48,916 INFO] Step 12000/100000; acc: 61.9; ppl:  18.7; xent: 2.9; lr: 0.00081; sents:   32323; bsz:  868/ 938/32; 8531/9219 tok/s;   2504 sec;\n",
            "[2024-02-27 07:41:30,722 INFO] Step 12500/100000; acc: 62.4; ppl:  18.3; xent: 2.9; lr: 0.00079; sents:   32374; bsz:  865/ 943/32; 8496/9261 tok/s;   2606 sec;\n",
            "[2024-02-27 07:43:12,852 INFO] Step 13000/100000; acc: 63.1; ppl:  17.5; xent: 2.9; lr: 0.00078; sents:   33469; bsz:  873/ 942/33; 8551/9222 tok/s;   2708 sec;\n",
            "[2024-02-27 07:44:54,601 INFO] Step 13500/100000; acc: 63.5; ppl:  17.2; xent: 2.8; lr: 0.00076; sents:   33174; bsz:  873/ 938/33; 8580/9219 tok/s;   2810 sec;\n",
            "[2024-02-27 07:46:35,978 INFO] Step 14000/100000; acc: 63.7; ppl:  16.9; xent: 2.8; lr: 0.00075; sents:   31921; bsz:  862/ 941/32; 8506/9286 tok/s;   2911 sec;\n",
            "[2024-02-27 07:48:17,588 INFO] Step 14500/100000; acc: 64.4; ppl:  16.3; xent: 2.8; lr: 0.00073; sents:   32781; bsz:  869/ 939/33; 8555/9244 tok/s;   3013 sec;\n",
            "[2024-02-27 07:49:59,364 INFO] Step 15000/100000; acc: 64.4; ppl:  16.4; xent: 2.8; lr: 0.00072; sents:   30094; bsz:  871/ 939/30; 8556/9226 tok/s;   3115 sec;\n",
            "[2024-02-27 07:49:59,368 INFO] Saving checkpoint /content/drive/MyDrive/Colab_Notebooks/Diplomovka/Dáta/europarl/complete_model_step_15000.pt\n",
            "[2024-02-27 07:51:43,160 INFO] Step 15500/100000; acc: 64.7; ppl:  16.1; xent: 2.8; lr: 0.00071; sents:   31788; bsz:  870/ 938/32; 8381/9039 tok/s;   3219 sec;\n",
            "[2024-02-27 07:53:24,825 INFO] Step 16000/100000; acc: 65.4; ppl:  15.4; xent: 2.7; lr: 0.00070; sents:   32318; bsz:  866/ 941/32; 8519/9251 tok/s;   3320 sec;\n",
            "[2024-02-27 07:53:46,716 INFO] * Transform statistics for corpus(50.00%):\n",
            "\t\t\t* FilterTooLongStats(filtered=16)\n",
            "\n",
            "[2024-02-27 07:53:46,717 INFO] Weighted corpora loaded so far:\n",
            "\t\t\t* corpus: 3\n",
            "[2024-02-27 07:53:52,660 INFO] * Transform statistics for corpus(50.00%):\n",
            "\t\t\t* FilterTooLongStats(filtered=10)\n",
            "\n",
            "[2024-02-27 07:53:52,661 INFO] Weighted corpora loaded so far:\n",
            "\t\t\t* corpus: 3\n",
            "[2024-02-27 07:55:06,881 INFO] Step 16500/100000; acc: 66.0; ppl:  14.9; xent: 2.7; lr: 0.00069; sents:   31984; bsz:  868/ 943/32; 8500/9237 tok/s;   3422 sec;\n",
            "[2024-02-27 07:56:48,210 INFO] Step 17000/100000; acc: 66.8; ppl:  14.3; xent: 2.7; lr: 0.00068; sents:   31242; bsz:  861/ 938/31; 8496/9254 tok/s;   3524 sec;\n",
            "[2024-02-27 07:58:30,679 INFO] Step 17500/100000; acc: 66.9; ppl:  14.2; xent: 2.7; lr: 0.00067; sents:   31574; bsz:  876/ 940/32; 8546/9177 tok/s;   3626 sec;\n",
            "[2024-02-27 08:00:12,696 INFO] Step 18000/100000; acc: 67.0; ppl:  14.1; xent: 2.6; lr: 0.00066; sents:   31845; bsz:  871/ 942/32; 8536/9230 tok/s;   3728 sec;\n",
            "[2024-02-27 08:01:54,174 INFO] Step 18500/100000; acc: 67.2; ppl:  13.9; xent: 2.6; lr: 0.00065; sents:   31650; bsz:  862/ 936/32; 8492/9226 tok/s;   3830 sec;\n",
            "[2024-02-27 08:03:35,905 INFO] Step 19000/100000; acc: 67.7; ppl:  13.7; xent: 2.6; lr: 0.00064; sents:   33413; bsz:  869/ 940/33; 8544/9239 tok/s;   3931 sec;\n",
            "[2024-02-27 08:05:17,578 INFO] Step 19500/100000; acc: 67.5; ppl:  13.7; xent: 2.6; lr: 0.00063; sents:   32528; bsz:  862/ 940/33; 8475/9247 tok/s;   4033 sec;\n",
            "[2024-02-27 08:06:59,188 INFO] Step 20000/100000; acc: 67.8; ppl:  13.6; xent: 2.6; lr: 0.00062; sents:   30887; bsz:  870/ 943/31; 8562/9280 tok/s;   4135 sec;\n",
            "[2024-02-27 08:07:11,623 INFO] valid stats calculation\n",
            "                           took: 12.433035373687744 s.\n",
            "[2024-02-27 08:07:11,625 INFO] Train perplexity: 33.6421\n",
            "[2024-02-27 08:07:11,625 INFO] Train accuracy: 53.5389\n",
            "[2024-02-27 08:07:11,625 INFO] Sentences processed: 1.28335e+06\n",
            "[2024-02-27 08:07:11,625 INFO] Average bsz:  868/ 940/32\n",
            "[2024-02-27 08:07:11,625 INFO] Validation perplexity: 12.9791\n",
            "[2024-02-27 08:07:11,625 INFO] Validation accuracy: 68.8878\n",
            "[2024-02-27 08:07:11,625 INFO] Model is improving ppl: 19.649 --> 12.9791.\n",
            "[2024-02-27 08:07:11,626 INFO] Model is improving acc: 61.3155 --> 68.8878.\n",
            "[2024-02-27 08:07:11,630 INFO] Saving checkpoint /content/drive/MyDrive/Colab_Notebooks/Diplomovka/Dáta/europarl/complete_model_step_20000.pt\n",
            "[2024-02-27 08:08:55,342 INFO] Step 20500/100000; acc: 67.7; ppl:  13.6; xent: 2.6; lr: 0.00062; sents:   31474; bsz:  862/ 939/31; 7417/8082 tok/s;   4251 sec;\n",
            "[2024-02-27 08:10:36,949 INFO] Step 21000/100000; acc: 68.3; ppl:  13.2; xent: 2.6; lr: 0.00061; sents:   34123; bsz:  867/ 940/34; 8530/9256 tok/s;   4352 sec;\n",
            "[2024-02-27 08:12:18,637 INFO] Step 21500/100000; acc: 68.2; ppl:  13.3; xent: 2.6; lr: 0.00060; sents:   32276; bsz:  872/ 934/32; 8577/9181 tok/s;   4454 sec;\n",
            "[2024-02-27 08:14:00,266 INFO] Step 22000/100000; acc: 68.3; ppl:  13.2; xent: 2.6; lr: 0.00060; sents:   32094; bsz:  875/ 938/32; 8614/9229 tok/s;   4556 sec;\n",
            "[2024-02-27 08:15:41,818 INFO] Step 22500/100000; acc: 68.4; ppl:  13.1; xent: 2.6; lr: 0.00059; sents:   31974; bsz:  870/ 938/32; 8572/9236 tok/s;   4657 sec;\n",
            "[2024-02-27 08:17:23,465 INFO] Step 23000/100000; acc: 68.7; ppl:  12.9; xent: 2.6; lr: 0.00058; sents:   32468; bsz:  867/ 942/32; 8533/9272 tok/s;   4759 sec;\n",
            "[2024-02-27 08:19:05,275 INFO] Step 23500/100000; acc: 68.6; ppl:  13.0; xent: 2.6; lr: 0.00058; sents:   31924; bsz:  870/ 942/32; 8544/9257 tok/s;   4861 sec;\n",
            "[2024-02-27 08:20:46,766 INFO] Step 24000/100000; acc: 68.8; ppl:  12.9; xent: 2.6; lr: 0.00057; sents:   32518; bsz:  866/ 936/33; 8529/9221 tok/s;   4962 sec;\n",
            "[2024-02-27 08:21:43,273 INFO] * Transform statistics for corpus(50.00%):\n",
            "\t\t\t* FilterTooLongStats(filtered=14)\n",
            "\n",
            "[2024-02-27 08:21:43,273 INFO] Weighted corpora loaded so far:\n",
            "\t\t\t* corpus: 4\n",
            "[2024-02-27 08:21:52,952 INFO] * Transform statistics for corpus(50.00%):\n",
            "\t\t\t* FilterTooLongStats(filtered=8)\n",
            "\n",
            "[2024-02-27 08:21:52,952 INFO] Weighted corpora loaded so far:\n",
            "\t\t\t* corpus: 4\n",
            "[2024-02-27 08:22:28,513 INFO] Step 24500/100000; acc: 69.0; ppl:  12.7; xent: 2.5; lr: 0.00056; sents:   32116; bsz:  872/ 936/32; 8571/9202 tok/s;   5064 sec;\n",
            "[2024-02-27 08:24:10,117 INFO] Step 25000/100000; acc: 70.5; ppl:  11.7; xent: 2.5; lr: 0.00056; sents:   34060; bsz:  861/ 939/34; 8474/9244 tok/s;   5165 sec;\n",
            "[2024-02-27 08:24:10,121 INFO] Saving checkpoint /content/drive/MyDrive/Colab_Notebooks/Diplomovka/Dáta/europarl/complete_model_step_25000.pt\n",
            "[2024-02-27 08:25:53,692 INFO] Step 25500/100000; acc: 70.4; ppl:  11.8; xent: 2.5; lr: 0.00055; sents:   31670; bsz:  869/ 941/32; 8387/9083 tok/s;   5269 sec;\n",
            "[2024-02-27 08:27:35,168 INFO] Step 26000/100000; acc: 70.2; ppl:  11.9; xent: 2.5; lr: 0.00055; sents:   31481; bsz:  872/ 939/31; 8592/9253 tok/s;   5371 sec;\n",
            "[2024-02-27 08:29:16,581 INFO] Step 26500/100000; acc: 70.3; ppl:  11.9; xent: 2.5; lr: 0.00054; sents:   31560; bsz:  866/ 938/32; 8535/9249 tok/s;   5472 sec;\n",
            "[2024-02-27 08:30:58,183 INFO] Step 27000/100000; acc: 70.4; ppl:  11.8; xent: 2.5; lr: 0.00054; sents:   32729; bsz:  865/ 944/33; 8513/9291 tok/s;   5574 sec;\n",
            "[2024-02-27 08:32:39,720 INFO] Step 27500/100000; acc: 70.5; ppl:  11.8; xent: 2.5; lr: 0.00053; sents:   31319; bsz:  871/ 943/31; 8574/9284 tok/s;   5675 sec;\n",
            "[2024-02-27 08:34:21,468 INFO] Step 28000/100000; acc: 70.4; ppl:  11.8; xent: 2.5; lr: 0.00053; sents:   33105; bsz:  869/ 939/33; 8544/9229 tok/s;   5777 sec;\n",
            "[2024-02-27 08:36:02,677 INFO] Step 28500/100000; acc: 70.4; ppl:  11.8; xent: 2.5; lr: 0.00052; sents:   33095; bsz:  860/ 937/33; 8498/9256 tok/s;   5878 sec;\n",
            "[2024-02-27 08:37:44,684 INFO] Step 29000/100000; acc: 70.8; ppl:  11.6; xent: 2.5; lr: 0.00052; sents:   32689; bsz:  875/ 941/33; 8576/9225 tok/s;   5980 sec;\n",
            "[2024-02-27 08:39:26,179 INFO] Step 29500/100000; acc: 70.5; ppl:  11.7; xent: 2.5; lr: 0.00051; sents:   32403; bsz:  864/ 942/32; 8512/9285 tok/s;   6082 sec;\n",
            "[2024-02-27 08:41:07,492 INFO] Step 30000/100000; acc: 70.5; ppl:  11.7; xent: 2.5; lr: 0.00051; sents:   31399; bsz:  868/ 935/31; 8565/9229 tok/s;   6183 sec;\n",
            "[2024-02-27 08:41:19,868 INFO] valid stats calculation\n",
            "                           took: 12.374778032302856 s.\n",
            "[2024-02-27 08:41:19,870 INFO] Train perplexity: 24.0975\n",
            "[2024-02-27 08:41:19,870 INFO] Train accuracy: 58.8696\n",
            "[2024-02-27 08:41:19,871 INFO] Sentences processed: 1.92983e+06\n",
            "[2024-02-27 08:41:19,871 INFO] Average bsz:  868/ 939/32\n",
            "[2024-02-27 08:41:19,871 INFO] Validation perplexity: 11.4412\n",
            "[2024-02-27 08:41:19,871 INFO] Validation accuracy: 71.4762\n",
            "[2024-02-27 08:41:19,871 INFO] Model is improving ppl: 12.9791 --> 11.4412.\n",
            "[2024-02-27 08:41:19,871 INFO] Model is improving acc: 68.8878 --> 71.4762.\n",
            "[2024-02-27 08:41:19,875 INFO] Saving checkpoint /content/drive/MyDrive/Colab_Notebooks/Diplomovka/Dáta/europarl/complete_model_step_30000.pt\n",
            "[2024-02-27 08:43:03,554 INFO] Step 30500/100000; acc: 70.8; ppl:  11.6; xent: 2.4; lr: 0.00051; sents:   31560; bsz:  868/ 941/32; 7478/8105 tok/s;   6299 sec;\n",
            "[2024-02-27 08:44:45,284 INFO] Step 31000/100000; acc: 70.9; ppl:  11.5; xent: 2.4; lr: 0.00050; sents:   32898; bsz:  869/ 937/33; 8543/9210 tok/s;   6401 sec;\n",
            "[2024-02-27 08:46:26,672 INFO] Step 31500/100000; acc: 70.7; ppl:  11.6; xent: 2.5; lr: 0.00050; sents:   31375; bsz:  874/ 934/31; 8617/9213 tok/s;   6502 sec;\n",
            "[2024-02-27 08:48:08,351 INFO] Step 32000/100000; acc: 70.7; ppl:  11.6; xent: 2.5; lr: 0.00049; sents:   31812; bsz:  870/ 942/32; 8558/9266 tok/s;   6604 sec;\n",
            "[2024-02-27 08:49:36,700 INFO] * Transform statistics for corpus(50.00%):\n",
            "\t\t\t* FilterTooLongStats(filtered=15)\n",
            "\n",
            "[2024-02-27 08:49:36,700 INFO] Weighted corpora loaded so far:\n",
            "\t\t\t* corpus: 5\n",
            "[2024-02-27 08:49:48,360 INFO] * Transform statistics for corpus(50.00%):\n",
            "\t\t\t* FilterTooLongStats(filtered=9)\n",
            "\n",
            "[2024-02-27 08:49:48,361 INFO] Weighted corpora loaded so far:\n",
            "\t\t\t* corpus: 5\n",
            "[2024-02-27 08:49:49,975 INFO] Step 32500/100000; acc: 71.0; ppl:  11.4; xent: 2.4; lr: 0.00049; sents:   31491; bsz:  871/ 939/31; 8569/9243 tok/s;   6705 sec;\n",
            "[2024-02-27 08:51:31,416 INFO] Step 33000/100000; acc: 72.0; ppl:  10.9; xent: 2.4; lr: 0.00049; sents:   33163; bsz:  865/ 940/33; 8530/9269 tok/s;   6807 sec;\n",
            "[2024-02-27 08:53:12,890 INFO] Step 33500/100000; acc: 72.3; ppl:  10.6; xent: 2.4; lr: 0.00048; sents:   32675; bsz:  862/ 942/33; 8500/9284 tok/s;   6908 sec;\n",
            "[2024-02-27 08:54:54,306 INFO] Step 34000/100000; acc: 72.1; ppl:  10.7; xent: 2.4; lr: 0.00048; sents:   32211; bsz:  869/ 941/32; 8566/9281 tok/s;   7010 sec;\n",
            "[2024-02-27 08:56:35,753 INFO] Step 34500/100000; acc: 72.0; ppl:  10.9; xent: 2.4; lr: 0.00048; sents:   31713; bsz:  870/ 939/32; 8577/9260 tok/s;   7111 sec;\n",
            "[2024-02-27 08:58:17,316 INFO] Step 35000/100000; acc: 72.0; ppl:  10.8; xent: 2.4; lr: 0.00047; sents:   30928; bsz:  869/ 940/31; 8561/9251 tok/s;   7213 sec;\n",
            "[2024-02-27 08:58:17,320 INFO] Saving checkpoint /content/drive/MyDrive/Colab_Notebooks/Diplomovka/Dáta/europarl/complete_model_step_35000.pt\n",
            "[2024-02-27 09:00:00,831 INFO] Step 35500/100000; acc: 72.0; ppl:  10.8; xent: 2.4; lr: 0.00047; sents:   32136; bsz:  872/ 935/32; 8421/9033 tok/s;   7316 sec;\n",
            "[2024-02-27 09:01:42,136 INFO] Step 36000/100000; acc: 71.9; ppl:  10.9; xent: 2.4; lr: 0.00047; sents:   30728; bsz:  866/ 938/31; 8549/9258 tok/s;   7418 sec;\n",
            "[2024-02-27 09:03:23,682 INFO] Step 36500/100000; acc: 72.0; ppl:  10.8; xent: 2.4; lr: 0.00046; sents:   30970; bsz:  872/ 940/31; 8590/9255 tok/s;   7519 sec;\n",
            "[2024-02-27 09:05:05,649 INFO] Step 37000/100000; acc: 72.0; ppl:  10.8; xent: 2.4; lr: 0.00046; sents:   31169; bsz:  871/ 941/31; 8542/9225 tok/s;   7621 sec;\n",
            "[2024-02-27 09:06:47,531 INFO] Step 37500/100000; acc: 72.1; ppl:  10.8; xent: 2.4; lr: 0.00046; sents:   31988; bsz:  861/ 941/32; 8452/9235 tok/s;   7723 sec;\n",
            "[2024-02-27 09:08:29,623 INFO] Step 38000/100000; acc: 72.3; ppl:  10.7; xent: 2.4; lr: 0.00045; sents:   34234; bsz:  871/ 936/34; 8527/9167 tok/s;   7825 sec;\n",
            "[2024-02-27 09:10:11,784 INFO] Step 38500/100000; acc: 72.1; ppl:  10.8; xent: 2.4; lr: 0.00045; sents:   31498; bsz:  868/ 941/31; 8492/9209 tok/s;   7927 sec;\n",
            "[2024-02-27 09:11:53,982 INFO] Step 39000/100000; acc: 72.3; ppl:  10.7; xent: 2.4; lr: 0.00045; sents:   33167; bsz:  874/ 941/33; 8552/9203 tok/s;   8029 sec;\n",
            "[2024-02-27 09:13:36,015 INFO] Step 39500/100000; acc: 72.5; ppl:  10.6; xent: 2.4; lr: 0.00044; sents:   33217; bsz:  867/ 939/33; 8501/9202 tok/s;   8131 sec;\n",
            "[2024-02-27 09:15:18,190 INFO] Step 40000/100000; acc: 72.3; ppl:  10.7; xent: 2.4; lr: 0.00044; sents:   31389; bsz:  874/ 941/31; 8559/9205 tok/s;   8234 sec;\n",
            "[2024-02-27 09:15:30,658 INFO] valid stats calculation\n",
            "                           took: 12.466839790344238 s.\n",
            "[2024-02-27 09:15:30,660 INFO] Train perplexity: 19.7861\n",
            "[2024-02-27 09:15:30,660 INFO] Train accuracy: 62.1017\n",
            "[2024-02-27 09:15:30,660 INFO] Sentences processed: 2.57015e+06\n",
            "[2024-02-27 09:15:30,660 INFO] Average bsz:  868/ 939/32\n",
            "[2024-02-27 09:15:30,660 INFO] Validation perplexity: 10.6485\n",
            "[2024-02-27 09:15:30,660 INFO] Validation accuracy: 72.6548\n",
            "[2024-02-27 09:15:30,661 INFO] Model is improving ppl: 11.4412 --> 10.6485.\n",
            "[2024-02-27 09:15:30,661 INFO] Model is improving acc: 71.4762 --> 72.6548.\n",
            "[2024-02-27 09:15:30,664 INFO] Saving checkpoint /content/drive/MyDrive/Colab_Notebooks/Diplomovka/Dáta/europarl/complete_model_step_40000.pt\n",
            "[2024-02-27 09:17:14,027 INFO] Step 40500/100000; acc: 72.3; ppl:  10.6; xent: 2.4; lr: 0.00044; sents:   32511; bsz:  864/ 940/33; 7459/8111 tok/s;   8349 sec;\n",
            "[2024-02-27 09:17:36,582 INFO] * Transform statistics for corpus(50.00%):\n",
            "\t\t\t* FilterTooLongStats(filtered=16)\n",
            "\n",
            "[2024-02-27 09:17:36,582 INFO] Weighted corpora loaded so far:\n",
            "\t\t\t* corpus: 6\n",
            "[2024-02-27 09:17:50,622 INFO] * Transform statistics for corpus(50.00%):\n",
            "\t\t\t* FilterTooLongStats(filtered=11)\n",
            "\n",
            "[2024-02-27 09:17:50,623 INFO] Weighted corpora loaded so far:\n",
            "\t\t\t* corpus: 6\n",
            "[2024-02-27 09:18:55,674 INFO] Step 41000/100000; acc: 72.8; ppl:  10.4; xent: 2.3; lr: 0.00044; sents:   31617; bsz:  866/ 940/32; 8521/9252 tok/s;   8451 sec;\n",
            "[2024-02-27 09:20:37,245 INFO] Step 41500/100000; acc: 73.6; ppl:  10.0; xent: 2.3; lr: 0.00043; sents:   30793; bsz:  866/ 945/31; 8522/9299 tok/s;   8553 sec;\n",
            "[2024-02-27 09:22:19,465 INFO] Step 42000/100000; acc: 73.4; ppl:  10.0; xent: 2.3; lr: 0.00043; sents:   32506; bsz:  876/ 942/33; 8566/9216 tok/s;   8655 sec;\n",
            "[2024-02-27 09:24:01,427 INFO] Step 42500/100000; acc: 73.5; ppl:  10.0; xent: 2.3; lr: 0.00043; sents:   32790; bsz:  877/ 934/33; 8601/9164 tok/s;   8757 sec;\n",
            "[2024-02-27 09:25:43,471 INFO] Step 43000/100000; acc: 73.4; ppl:  10.1; xent: 2.3; lr: 0.00043; sents:   31801; bsz:  875/ 938/32; 8574/9190 tok/s;   8859 sec;\n",
            "[2024-02-27 09:27:25,270 INFO] Step 43500/100000; acc: 73.4; ppl:  10.1; xent: 2.3; lr: 0.00042; sents:   33414; bsz:  864/ 937/33; 8490/9208 tok/s;   8961 sec;\n",
            "[2024-02-27 09:29:07,141 INFO] Step 44000/100000; acc: 73.3; ppl:  10.2; xent: 2.3; lr: 0.00042; sents:   32753; bsz:  869/ 934/33; 8531/9173 tok/s;   9063 sec;\n",
            "[2024-02-27 09:30:48,779 INFO] Step 44500/100000; acc: 73.1; ppl:  10.2; xent: 2.3; lr: 0.00042; sents:   31234; bsz:  863/ 935/31; 8494/9203 tok/s;   9164 sec;\n",
            "[2024-02-27 09:32:30,193 INFO] Step 45000/100000; acc: 73.2; ppl:  10.2; xent: 2.3; lr: 0.00042; sents:   30831; bsz:  866/ 940/31; 8538/9265 tok/s;   9266 sec;\n",
            "[2024-02-27 09:32:30,197 INFO] Saving checkpoint /content/drive/MyDrive/Colab_Notebooks/Diplomovka/Dáta/europarl/complete_model_step_45000.pt\n",
            "[2024-02-27 09:34:13,270 INFO] Step 45500/100000; acc: 73.2; ppl:  10.2; xent: 2.3; lr: 0.00041; sents:   33114; bsz:  856/ 942/33; 8303/9138 tok/s;   9369 sec;\n",
            "[2024-02-27 09:35:54,842 INFO] Step 46000/100000; acc: 73.3; ppl:  10.1; xent: 2.3; lr: 0.00041; sents:   31722; bsz:  871/ 942/32; 8576/9275 tok/s;   9470 sec;\n",
            "[2024-02-27 09:37:36,375 INFO] Step 46500/100000; acc: 73.0; ppl:  10.2; xent: 2.3; lr: 0.00041; sents:   31187; bsz:  867/ 942/31; 8537/9273 tok/s;   9572 sec;\n",
            "[2024-02-27 09:39:17,767 INFO] Step 47000/100000; acc: 73.3; ppl:  10.1; xent: 2.3; lr: 0.00041; sents:   31499; bsz:  862/ 941/31; 8501/9282 tok/s;   9673 sec;\n",
            "[2024-02-27 09:40:59,764 INFO] Step 47500/100000; acc: 73.3; ppl:  10.1; xent: 2.3; lr: 0.00041; sents:   33127; bsz:  872/ 938/33; 8553/9195 tok/s;   9775 sec;\n",
            "[2024-02-27 09:42:41,472 INFO] Step 48000/100000; acc: 73.4; ppl:  10.1; xent: 2.3; lr: 0.00040; sents:   32718; bsz:  868/ 939/33; 8535/9229 tok/s;   9877 sec;\n",
            "[2024-02-27 09:44:23,303 INFO] Step 48500/100000; acc: 73.4; ppl:  10.1; xent: 2.3; lr: 0.00040; sents:   32147; bsz:  869/ 938/32; 8534/9210 tok/s;   9979 sec;\n",
            "[2024-02-27 09:45:13,720 INFO] * Transform statistics for corpus(50.00%):\n",
            "\t\t\t* FilterTooLongStats(filtered=14)\n",
            "\n",
            "[2024-02-27 09:45:13,720 INFO] Weighted corpora loaded so far:\n",
            "\t\t\t* corpus: 7\n",
            "[2024-02-27 09:45:30,693 INFO] * Transform statistics for corpus(50.00%):\n",
            "\t\t\t* FilterTooLongStats(filtered=12)\n",
            "\n",
            "[2024-02-27 09:45:30,694 INFO] Weighted corpora loaded so far:\n",
            "\t\t\t* corpus: 7\n",
            "[2024-02-27 09:46:05,080 INFO] Step 49000/100000; acc: 73.6; ppl:   9.9; xent: 2.3; lr: 0.00040; sents:   32720; bsz:  871/ 939/33; 8554/9227 tok/s;  10080 sec;\n",
            "[2024-02-27 09:47:46,724 INFO] Step 49500/100000; acc: 74.6; ppl:   9.5; xent: 2.2; lr: 0.00040; sents:   32628; bsz:  870/ 939/33; 8563/9239 tok/s;  10182 sec;\n",
            "[2024-02-27 09:49:28,072 INFO] Step 50000/100000; acc: 74.3; ppl:   9.7; xent: 2.3; lr: 0.00040; sents:   31166; bsz:  858/ 941/31; 8461/9285 tok/s;  10283 sec;\n",
            "[2024-02-27 09:49:40,536 INFO] valid stats calculation\n",
            "                           took: 12.46314525604248 s.\n",
            "[2024-02-27 09:49:40,538 INFO] Train perplexity: 17.2935\n",
            "[2024-02-27 09:49:40,538 INFO] Train accuracy: 64.3537\n",
            "[2024-02-27 09:49:40,538 INFO] Sentences processed: 3.21243e+06\n",
            "[2024-02-27 09:49:40,538 INFO] Average bsz:  868/ 939/32\n",
            "[2024-02-27 09:49:40,538 INFO] Validation perplexity: 10.2836\n",
            "[2024-02-27 09:49:40,538 INFO] Validation accuracy: 73.5697\n",
            "[2024-02-27 09:49:40,538 INFO] Model is improving ppl: 10.6485 --> 10.2836.\n",
            "[2024-02-27 09:49:40,538 INFO] Model is improving acc: 72.6548 --> 73.5697.\n",
            "[2024-02-27 09:49:40,542 INFO] Saving checkpoint /content/drive/MyDrive/Colab_Notebooks/Diplomovka/Dáta/europarl/complete_model_step_50000.pt\n",
            "[2024-02-27 09:51:24,478 INFO] Step 50500/100000; acc: 74.4; ppl:   9.6; xent: 2.3; lr: 0.00039; sents:   32400; bsz:  877/ 937/32; 7535/8050 tok/s;  10400 sec;\n",
            "[2024-02-27 09:53:06,006 INFO] Step 51000/100000; acc: 74.2; ppl:   9.7; xent: 2.3; lr: 0.00039; sents:   31440; bsz:  867/ 939/31; 8540/9244 tok/s;  10501 sec;\n",
            "[2024-02-27 09:54:47,524 INFO] Step 51500/100000; acc: 74.2; ppl:   9.7; xent: 2.3; lr: 0.00039; sents:   32148; bsz:  868/ 938/32; 8549/9241 tok/s;  10603 sec;\n",
            "[2024-02-27 09:56:28,906 INFO] Step 52000/100000; acc: 74.2; ppl:   9.7; xent: 2.3; lr: 0.00039; sents:   32012; bsz:  860/ 939/32; 8482/9264 tok/s;  10704 sec;\n",
            "[2024-02-27 09:58:10,870 INFO] Step 52500/100000; acc: 74.2; ppl:   9.6; xent: 2.3; lr: 0.00039; sents:   32439; bsz:  880/ 939/32; 8628/9212 tok/s;  10806 sec;\n",
            "[2024-02-27 09:59:52,314 INFO] Step 53000/100000; acc: 74.1; ppl:   9.7; xent: 2.3; lr: 0.00038; sents:   31030; bsz:  865/ 942/31; 8527/9288 tok/s;  10908 sec;\n",
            "[2024-02-27 10:01:33,487 INFO] Step 53500/100000; acc: 74.2; ppl:   9.7; xent: 2.3; lr: 0.00038; sents:   32421; bsz:  865/ 934/32; 8551/9232 tok/s;  11009 sec;\n",
            "[2024-02-27 10:03:15,172 INFO] Step 54000/100000; acc: 74.2; ppl:   9.6; xent: 2.3; lr: 0.00038; sents:   31888; bsz:  872/ 940/32; 8575/9248 tok/s;  11111 sec;\n",
            "[2024-02-27 10:04:56,704 INFO] Step 54500/100000; acc: 74.0; ppl:   9.7; xent: 2.3; lr: 0.00038; sents:   33432; bsz:  861/ 941/33; 8477/9270 tok/s;  11212 sec;\n",
            "[2024-02-27 10:06:38,535 INFO] Step 55000/100000; acc: 74.3; ppl:   9.6; xent: 2.3; lr: 0.00038; sents:   33148; bsz:  875/ 941/33; 8596/9244 tok/s;  11314 sec;\n",
            "[2024-02-27 10:06:38,539 INFO] Saving checkpoint /content/drive/MyDrive/Colab_Notebooks/Diplomovka/Dáta/europarl/complete_model_step_55000.pt\n",
            "[2024-02-27 10:08:21,646 INFO] Step 55500/100000; acc: 74.1; ppl:   9.7; xent: 2.3; lr: 0.00038; sents:   32368; bsz:  863/ 938/32; 8374/9096 tok/s;  11417 sec;\n",
            "[2024-02-27 10:10:02,918 INFO] Step 56000/100000; acc: 73.9; ppl:   9.8; xent: 2.3; lr: 0.00037; sents:   31796; bsz:  865/ 937/32; 8539/9253 tok/s;  11518 sec;\n",
            "[2024-02-27 10:11:44,290 INFO] Step 56500/100000; acc: 74.2; ppl:   9.7; xent: 2.3; lr: 0.00037; sents:   32254; bsz:  863/ 941/32; 8517/9281 tok/s;  11620 sec;\n",
            "[2024-02-27 10:13:26,258 INFO] Step 57000/100000; acc: 74.1; ppl:   9.7; xent: 2.3; lr: 0.00037; sents:   31360; bsz:  876/ 942/31; 8586/9233 tok/s;  11722 sec;\n",
            "[2024-02-27 10:15:08,399 INFO] Step 57500/100000; acc: 75.3; ppl:   9.1; xent: 2.2; lr: 0.00037; sents:   31978; bsz:  887/ 939/32; 8681/9195 tok/s;  11824 sec;\n",
            "[2024-02-27 10:16:49,773 INFO] Step 58000/100000; acc: 75.3; ppl:   9.1; xent: 2.2; lr: 0.00037; sents:   31657; bsz:  864/ 937/32; 8524/9245 tok/s;  11925 sec;\n",
            "[2024-02-27 10:18:31,367 INFO] Step 58500/100000; acc: 75.0; ppl:   9.3; xent: 2.2; lr: 0.00037; sents:   30751; bsz:  867/ 936/31; 8529/9209 tok/s;  12027 sec;\n",
            "[2024-02-27 10:20:12,712 INFO] Step 59000/100000; acc: 75.2; ppl:   9.2; xent: 2.2; lr: 0.00036; sents:   33801; bsz:  863/ 932/34; 8517/9199 tok/s;  12128 sec;\n",
            "[2024-02-27 10:21:54,268 INFO] Step 59500/100000; acc: 74.9; ppl:   9.3; xent: 2.2; lr: 0.00036; sents:   32833; bsz:  866/ 935/33; 8526/9209 tok/s;  12230 sec;\n",
            "[2024-02-27 10:23:35,973 INFO] Step 60000/100000; acc: 75.0; ppl:   9.3; xent: 2.2; lr: 0.00036; sents:   32185; bsz:  872/ 941/32; 8575/9250 tok/s;  12331 sec;\n",
            "[2024-02-27 10:23:48,216 INFO] valid stats calculation\n",
            "                           took: 12.241884231567383 s.\n",
            "[2024-02-27 10:23:48,218 INFO] Train perplexity: 15.6633\n",
            "[2024-02-27 10:23:48,218 INFO] Train accuracy: 66.0346\n",
            "[2024-02-27 10:23:48,218 INFO] Sentences processed: 3.85577e+06\n",
            "[2024-02-27 10:23:48,218 INFO] Average bsz:  868/ 939/32\n",
            "[2024-02-27 10:23:48,218 INFO] Validation perplexity: 10.0208\n",
            "[2024-02-27 10:23:48,218 INFO] Validation accuracy: 74.0041\n",
            "[2024-02-27 10:23:48,218 INFO] Model is improving ppl: 10.2836 --> 10.0208.\n",
            "[2024-02-27 10:23:48,218 INFO] Model is improving acc: 73.5697 --> 74.0041.\n",
            "[2024-02-27 10:23:48,222 INFO] Saving checkpoint /content/drive/MyDrive/Colab_Notebooks/Diplomovka/Dáta/europarl/complete_model_step_60000.pt\n",
            "[2024-02-27 10:25:31,755 INFO] Step 60500/100000; acc: 74.8; ppl:   9.3; xent: 2.2; lr: 0.00036; sents:   31316; bsz:  863/ 943/31; 7457/8146 tok/s;  12447 sec;\n",
            "[2024-02-27 10:27:13,046 INFO] Step 61000/100000; acc: 74.8; ppl:   9.4; xent: 2.2; lr: 0.00036; sents:   32093; bsz:  862/ 943/32; 8506/9309 tok/s;  12548 sec;\n",
            "[2024-02-27 10:28:54,469 INFO] Step 61500/100000; acc: 74.9; ppl:   9.3; xent: 2.2; lr: 0.00036; sents:   31859; bsz:  866/ 939/32; 8539/9259 tok/s;  12650 sec;\n",
            "[2024-02-27 10:30:35,867 INFO] Step 62000/100000; acc: 74.9; ppl:   9.3; xent: 2.2; lr: 0.00035; sents:   32898; bsz:  865/ 941/33; 8532/9277 tok/s;  12751 sec;\n",
            "[2024-02-27 10:32:17,314 INFO] Step 62500/100000; acc: 74.8; ppl:   9.3; xent: 2.2; lr: 0.00035; sents:   32437; bsz:  867/ 940/32; 8550/9261 tok/s;  12853 sec;\n",
            "[2024-02-27 10:33:58,739 INFO] Step 63000/100000; acc: 74.8; ppl:   9.4; xent: 2.2; lr: 0.00035; sents:   31957; bsz:  867/ 938/32; 8553/9246 tok/s;  12954 sec;\n",
            "[2024-02-27 10:35:40,164 INFO] Step 63500/100000; acc: 74.8; ppl:   9.3; xent: 2.2; lr: 0.00035; sents:   31469; bsz:  870/ 942/31; 8576/9293 tok/s;  13056 sec;\n",
            "[2024-02-27 10:37:21,798 INFO] Step 64000/100000; acc: 74.7; ppl:   9.4; xent: 2.2; lr: 0.00035; sents:   31814; bsz:  872/ 938/32; 8579/9233 tok/s;  13157 sec;\n",
            "[2024-02-27 10:39:03,533 INFO] Step 64500/100000; acc: 74.8; ppl:   9.4; xent: 2.2; lr: 0.00035; sents:   32684; bsz:  874/ 941/33; 8587/9248 tok/s;  13259 sec;\n",
            "[2024-02-27 10:40:45,100 INFO] Step 65000/100000; acc: 74.8; ppl:   9.4; xent: 2.2; lr: 0.00035; sents:   33007; bsz:  871/ 939/33; 8574/9246 tok/s;  13360 sec;\n",
            "[2024-02-27 10:40:45,104 INFO] Saving checkpoint /content/drive/MyDrive/Colab_Notebooks/Diplomovka/Dáta/europarl/complete_model_step_65000.pt\n",
            "[2024-02-27 10:40:48,284 INFO] * Transform statistics for corpus(50.00%):\n",
            "\t\t\t* FilterTooLongStats(filtered=29)\n",
            "\n",
            "[2024-02-27 10:40:48,284 INFO] Weighted corpora loaded so far:\n",
            "\t\t\t* corpus: 8\n",
            "[2024-02-27 10:41:06,253 INFO] * Transform statistics for corpus(50.00%):\n",
            "\t\t\t* FilterTooLongStats(filtered=22)\n",
            "\n",
            "[2024-02-27 10:41:06,253 INFO] Weighted corpora loaded so far:\n",
            "\t\t\t* corpus: 8\n",
            "[2024-02-27 10:42:28,682 INFO] Step 65500/100000; acc: 75.4; ppl:   9.1; xent: 2.2; lr: 0.00035; sents:   30808; bsz:  863/ 940/31; 8331/9077 tok/s;  13464 sec;\n",
            "[2024-02-27 10:44:09,977 INFO] Step 66000/100000; acc: 75.8; ppl:   8.9; xent: 2.2; lr: 0.00034; sents:   30857; bsz:  866/ 938/31; 8548/9262 tok/s;  13565 sec;\n",
            "[2024-02-27 10:45:51,087 INFO] Step 66500/100000; acc: 75.8; ppl:   8.9; xent: 2.2; lr: 0.00034; sents:   32557; bsz:  861/ 937/33; 8512/9265 tok/s;  13666 sec;\n",
            "[2024-02-27 10:47:32,671 INFO] Step 67000/100000; acc: 75.9; ppl:   8.9; xent: 2.2; lr: 0.00034; sents:   32190; bsz:  875/ 935/32; 8618/9201 tok/s;  13768 sec;\n",
            "[2024-02-27 10:49:14,132 INFO] Step 67500/100000; acc: 75.6; ppl:   9.0; xent: 2.2; lr: 0.00034; sents:   32076; bsz:  864/ 941/32; 8513/9272 tok/s;  13870 sec;\n",
            "[2024-02-27 10:50:55,841 INFO] Step 68000/100000; acc: 75.7; ppl:   9.0; xent: 2.2; lr: 0.00034; sents:   32479; bsz:  868/ 943/32; 8537/9269 tok/s;  13971 sec;\n",
            "[2024-02-27 10:52:37,472 INFO] Step 68500/100000; acc: 75.5; ppl:   9.0; xent: 2.2; lr: 0.00034; sents:   31326; bsz:  867/ 940/31; 8531/9249 tok/s;  14073 sec;\n",
            "[2024-02-27 10:54:19,266 INFO] Step 69000/100000; acc: 75.6; ppl:   9.0; xent: 2.2; lr: 0.00034; sents:   32196; bsz:  875/ 940/32; 8600/9234 tok/s;  14175 sec;\n",
            "[2024-02-27 10:56:00,741 INFO] Step 69500/100000; acc: 75.4; ppl:   9.1; xent: 2.2; lr: 0.00034; sents:   33714; bsz:  870/ 934/34; 8577/9203 tok/s;  14276 sec;\n",
            "[2024-02-27 10:57:42,363 INFO] Step 70000/100000; acc: 75.6; ppl:   9.0; xent: 2.2; lr: 0.00033; sents:   32237; bsz:  876/ 941/32; 8623/9258 tok/s;  14378 sec;\n",
            "[2024-02-27 10:57:54,671 INFO] valid stats calculation\n",
            "                           took: 12.307284593582153 s.\n",
            "[2024-02-27 10:57:54,673 INFO] Train perplexity: 14.5105\n",
            "[2024-02-27 10:57:54,674 INFO] Train accuracy: 67.3461\n",
            "[2024-02-27 10:57:54,674 INFO] Sentences processed: 4.49774e+06\n",
            "[2024-02-27 10:57:54,674 INFO] Average bsz:  868/ 939/32\n",
            "[2024-02-27 10:57:54,674 INFO] Validation perplexity: 9.78086\n",
            "[2024-02-27 10:57:54,674 INFO] Validation accuracy: 74.5059\n",
            "[2024-02-27 10:57:54,674 INFO] Model is improving ppl: 10.0208 --> 9.78086.\n",
            "[2024-02-27 10:57:54,674 INFO] Model is improving acc: 74.0041 --> 74.5059.\n",
            "[2024-02-27 10:57:54,678 INFO] Saving checkpoint /content/drive/MyDrive/Colab_Notebooks/Diplomovka/Dáta/europarl/complete_model_step_70000.pt\n",
            "[2024-02-27 10:59:38,083 INFO] Step 70500/100000; acc: 75.5; ppl:   9.1; xent: 2.2; lr: 0.00033; sents:   32977; bsz:  869/ 940/33; 7507/8125 tok/s;  14493 sec;\n",
            "[2024-02-27 11:01:19,404 INFO] Step 71000/100000; acc: 75.2; ppl:   9.2; xent: 2.2; lr: 0.00033; sents:   31049; bsz:  864/ 939/31; 8531/9269 tok/s;  14595 sec;\n",
            "[2024-02-27 11:03:00,820 INFO] Step 71500/100000; acc: 75.3; ppl:   9.1; xent: 2.2; lr: 0.00033; sents:   31846; bsz:  870/ 939/32; 8578/9255 tok/s;  14696 sec;\n",
            "[2024-02-27 11:04:42,598 INFO] Step 72000/100000; acc: 75.3; ppl:   9.1; xent: 2.2; lr: 0.00033; sents:   31649; bsz:  872/ 941/32; 8573/9243 tok/s;  14798 sec;\n",
            "[2024-02-27 11:06:24,398 INFO] Step 72500/100000; acc: 75.3; ppl:   9.1; xent: 2.2; lr: 0.00033; sents:   32355; bsz:  868/ 938/32; 8524/9211 tok/s;  14900 sec;\n",
            "[2024-02-27 11:08:05,548 INFO] Step 73000/100000; acc: 75.3; ppl:   9.1; xent: 2.2; lr: 0.00033; sents:   32580; bsz:  855/ 943/33; 8448/9326 tok/s;  15001 sec;\n",
            "[2024-02-27 11:08:38,355 INFO] * Transform statistics for corpus(50.00%):\n",
            "\t\t\t* FilterTooLongStats(filtered=14)\n",
            "\n",
            "[2024-02-27 11:08:38,355 INFO] Weighted corpora loaded so far:\n",
            "\t\t\t* corpus: 9\n",
            "[2024-02-27 11:08:59,675 INFO] * Transform statistics for corpus(50.00%):\n",
            "\t\t\t* FilterTooLongStats(filtered=10)\n",
            "\n",
            "[2024-02-27 11:08:59,676 INFO] Weighted corpora loaded so far:\n",
            "\t\t\t* corpus: 9\n",
            "[2024-02-27 11:09:47,161 INFO] Step 73500/100000; acc: 75.6; ppl:   9.0; xent: 2.2; lr: 0.00033; sents:   32363; bsz:  869/ 940/32; 8548/9248 tok/s;  15103 sec;\n",
            "[2024-02-27 11:11:28,387 INFO] Step 74000/100000; acc: 76.6; ppl:   8.6; xent: 2.1; lr: 0.00032; sents:   33174; bsz:  869/ 935/33; 8584/9233 tok/s;  15204 sec;\n",
            "[2024-02-27 11:13:09,909 INFO] Step 74500/100000; acc: 76.4; ppl:   8.6; xent: 2.2; lr: 0.00032; sents:   32699; bsz:  871/ 942/33; 8584/9276 tok/s;  15305 sec;\n",
            "[2024-02-27 11:14:51,404 INFO] Step 75000/100000; acc: 76.2; ppl:   8.7; xent: 2.2; lr: 0.00032; sents:   32085; bsz:  870/ 940/32; 8568/9265 tok/s;  15407 sec;\n",
            "[2024-02-27 11:14:51,409 INFO] Saving checkpoint /content/drive/MyDrive/Colab_Notebooks/Diplomovka/Dáta/europarl/complete_model_step_75000.pt\n",
            "[2024-02-27 11:16:34,538 INFO] Step 75500/100000; acc: 76.2; ppl:   8.8; xent: 2.2; lr: 0.00032; sents:   32533; bsz:  860/ 938/33; 8339/9093 tok/s;  15510 sec;\n",
            "[2024-02-27 11:18:15,923 INFO] Step 76000/100000; acc: 76.1; ppl:   8.7; xent: 2.2; lr: 0.00032; sents:   31673; bsz:  871/ 941/32; 8589/9285 tok/s;  15611 sec;\n",
            "[2024-02-27 11:19:57,002 INFO] Step 76500/100000; acc: 76.0; ppl:   8.8; xent: 2.2; lr: 0.00032; sents:   30266; bsz:  866/ 939/30; 8566/9294 tok/s;  15712 sec;\n",
            "[2024-02-27 11:21:38,707 INFO] Step 77000/100000; acc: 76.0; ppl:   8.8; xent: 2.2; lr: 0.00032; sents:   30974; bsz:  868/ 940/31; 8531/9245 tok/s;  15814 sec;\n",
            "[2024-02-27 11:23:20,183 INFO] Step 77500/100000; acc: 76.1; ppl:   8.8; xent: 2.2; lr: 0.00032; sents:   31875; bsz:  864/ 940/32; 8514/9260 tok/s;  15916 sec;\n",
            "[2024-02-27 11:25:02,001 INFO] Step 78000/100000; acc: 76.1; ppl:   8.8; xent: 2.2; lr: 0.00032; sents:   32185; bsz:  874/ 941/32; 8588/9240 tok/s;  16017 sec;\n",
            "[2024-02-27 11:26:43,554 INFO] Step 78500/100000; acc: 75.9; ppl:   8.9; xent: 2.2; lr: 0.00032; sents:   31321; bsz:  870/ 941/31; 8562/9262 tok/s;  16119 sec;\n",
            "[2024-02-27 11:28:24,784 INFO] Step 79000/100000; acc: 75.9; ppl:   8.9; xent: 2.2; lr: 0.00031; sents:   33083; bsz:  865/ 939/33; 8544/9273 tok/s;  16220 sec;\n",
            "[2024-02-27 11:30:06,231 INFO] Step 79500/100000; acc: 75.8; ppl:   8.9; xent: 2.2; lr: 0.00031; sents:   32827; bsz:  866/ 938/33; 8534/9249 tok/s;  16322 sec;\n",
            "[2024-02-27 11:31:47,968 INFO] Step 80000/100000; acc: 75.9; ppl:   8.9; xent: 2.2; lr: 0.00031; sents:   32043; bsz:  869/ 942/32; 8545/9255 tok/s;  16423 sec;\n",
            "[2024-02-27 11:32:00,374 INFO] valid stats calculation\n",
            "                           took: 12.404982328414917 s.\n",
            "[2024-02-27 11:32:00,376 INFO] Train perplexity: 13.6487\n",
            "[2024-02-27 11:32:00,376 INFO] Train accuracy: 68.4069\n",
            "[2024-02-27 11:32:00,376 INFO] Sentences processed: 5.1393e+06\n",
            "[2024-02-27 11:32:00,376 INFO] Average bsz:  868/ 939/32\n",
            "[2024-02-27 11:32:00,377 INFO] Validation perplexity: 9.66234\n",
            "[2024-02-27 11:32:00,377 INFO] Validation accuracy: 74.7039\n",
            "[2024-02-27 11:32:00,377 INFO] Model is improving ppl: 9.78086 --> 9.66234.\n",
            "[2024-02-27 11:32:00,377 INFO] Model is improving acc: 74.5059 --> 74.7039.\n",
            "[2024-02-27 11:32:00,381 INFO] Saving checkpoint /content/drive/MyDrive/Colab_Notebooks/Diplomovka/Dáta/europarl/complete_model_step_80000.pt\n",
            "[2024-02-27 11:33:46,172 INFO] Step 80500/100000; acc: 75.9; ppl:   8.8; xent: 2.2; lr: 0.00031; sents:   33179; bsz:  876/ 938/33; 7414/7932 tok/s;  16542 sec;\n",
            "[2024-02-27 11:35:27,682 INFO] Step 81000/100000; acc: 75.8; ppl:   8.9; xent: 2.2; lr: 0.00031; sents:   32506; bsz:  870/ 939/33; 8567/9249 tok/s;  16643 sec;\n",
            "[2024-02-27 11:36:33,824 INFO] * Transform statistics for corpus(50.00%):\n",
            "\t\t\t* FilterTooLongStats(filtered=14)\n",
            "\n",
            "[2024-02-27 11:36:33,824 INFO] Weighted corpora loaded so far:\n",
            "\t\t\t* corpus: 10\n",
            "[2024-02-27 11:36:54,973 INFO] * Transform statistics for corpus(50.00%):\n",
            "\t\t\t* FilterTooLongStats(filtered=11)\n",
            "\n",
            "[2024-02-27 11:36:54,973 INFO] Weighted corpora loaded so far:\n",
            "\t\t\t* corpus: 10\n",
            "[2024-02-27 11:37:09,127 INFO] Step 81500/100000; acc: 75.8; ppl:   8.9; xent: 2.2; lr: 0.00031; sents:   32185; bsz:  870/ 942/32; 8574/9282 tok/s;  16744 sec;\n",
            "[2024-02-27 11:38:50,480 INFO] Step 82000/100000; acc: 76.7; ppl:   8.5; xent: 2.1; lr: 0.00031; sents:   32215; bsz:  868/ 937/32; 8565/9244 tok/s;  16846 sec;\n",
            "[2024-02-27 11:40:31,894 INFO] Step 82500/100000; acc: 77.1; ppl:   8.4; xent: 2.1; lr: 0.00031; sents:   33240; bsz:  867/ 941/33; 8553/9276 tok/s;  16947 sec;\n",
            "[2024-02-27 11:42:12,987 INFO] Step 83000/100000; acc: 76.7; ppl:   8.5; xent: 2.1; lr: 0.00031; sents:   31762; bsz:  863/ 936/32; 8540/9257 tok/s;  17048 sec;\n",
            "[2024-02-27 11:43:54,228 INFO] Step 83500/100000; acc: 76.6; ppl:   8.5; xent: 2.1; lr: 0.00031; sents:   32413; bsz:  867/ 936/32; 8565/9246 tok/s;  17150 sec;\n",
            "[2024-02-27 11:45:35,405 INFO] Step 84000/100000; acc: 76.4; ppl:   8.6; xent: 2.2; lr: 0.00030; sents:   31785; bsz:  867/ 938/32; 8571/9273 tok/s;  17251 sec;\n",
            "[2024-02-27 11:47:16,737 INFO] Step 84500/100000; acc: 76.6; ppl:   8.6; xent: 2.1; lr: 0.00030; sents:   30792; bsz:  871/ 938/31; 8595/9256 tok/s;  17352 sec;\n",
            "[2024-02-27 11:48:58,152 INFO] Step 85000/100000; acc: 76.5; ppl:   8.6; xent: 2.1; lr: 0.00030; sents:   32513; bsz:  871/ 944/33; 8587/9304 tok/s;  17454 sec;\n",
            "[2024-02-27 11:48:58,156 INFO] Saving checkpoint /content/drive/MyDrive/Colab_Notebooks/Diplomovka/Dáta/europarl/complete_model_step_85000.pt\n",
            "[2024-02-27 11:50:41,914 INFO] Step 85500/100000; acc: 76.5; ppl:   8.6; xent: 2.1; lr: 0.00030; sents:   32300; bsz:  876/ 944/32; 8443/9094 tok/s;  17557 sec;\n",
            "[2024-02-27 11:52:23,668 INFO] Step 86000/100000; acc: 76.5; ppl:   8.6; xent: 2.2; lr: 0.00030; sents:   32112; bsz:  872/ 942/32; 8567/9258 tok/s;  17659 sec;\n",
            "[2024-02-27 11:54:05,374 INFO] Step 86500/100000; acc: 76.4; ppl:   8.6; xent: 2.2; lr: 0.00030; sents:   31223; bsz:  869/ 938/31; 8540/9224 tok/s;  17761 sec;\n",
            "[2024-02-27 11:55:47,318 INFO] Step 87000/100000; acc: 76.3; ppl:   8.7; xent: 2.2; lr: 0.00030; sents:   32356; bsz:  869/ 935/32; 8528/9174 tok/s;  17863 sec;\n",
            "[2024-02-27 11:57:29,094 INFO] Step 87500/100000; acc: 76.3; ppl:   8.7; xent: 2.2; lr: 0.00030; sents:   31596; bsz:  860/ 942/32; 8454/9253 tok/s;  17964 sec;\n",
            "[2024-02-27 11:59:10,908 INFO] Step 88000/100000; acc: 76.3; ppl:   8.7; xent: 2.2; lr: 0.00030; sents:   32073; bsz:  870/ 937/32; 8543/9203 tok/s;  18066 sec;\n",
            "[2024-02-27 12:00:52,686 INFO] Step 88500/100000; acc: 76.2; ppl:   8.7; xent: 2.2; lr: 0.00030; sents:   31652; bsz:  869/ 940/32; 8541/9233 tok/s;  18168 sec;\n",
            "[2024-02-27 12:02:34,805 INFO] Step 89000/100000; acc: 76.4; ppl:   8.6; xent: 2.2; lr: 0.00030; sents:   33131; bsz:  872/ 943/33; 8543/9233 tok/s;  18270 sec;\n",
            "[2024-02-27 12:04:14,103 INFO] * Transform statistics for corpus(50.00%):\n",
            "\t\t\t* FilterTooLongStats(filtered=17)\n",
            "\n",
            "[2024-02-27 12:04:14,103 INFO] Weighted corpora loaded so far:\n",
            "\t\t\t* corpus: 11\n",
            "[2024-02-27 12:04:16,460 INFO] Step 89500/100000; acc: 76.2; ppl:   8.7; xent: 2.2; lr: 0.00030; sents:   32292; bsz:  864/ 941/32; 8495/9256 tok/s;  18372 sec;\n",
            "[2024-02-27 12:04:40,916 INFO] * Transform statistics for corpus(50.00%):\n",
            "\t\t\t* FilterTooLongStats(filtered=8)\n",
            "\n",
            "[2024-02-27 12:04:40,916 INFO] Weighted corpora loaded so far:\n",
            "\t\t\t* corpus: 11\n",
            "[2024-02-27 12:05:58,270 INFO] Step 90000/100000; acc: 76.9; ppl:   8.5; xent: 2.1; lr: 0.00029; sents:   33074; bsz:  864/ 941/33; 8484/9241 tok/s;  18474 sec;\n",
            "[2024-02-27 12:06:11,114 INFO] valid stats calculation\n",
            "                           took: 12.842532634735107 s.\n",
            "[2024-02-27 12:06:11,116 INFO] Train perplexity: 12.9717\n",
            "[2024-02-27 12:06:11,116 INFO] Train accuracy: 69.296\n",
            "[2024-02-27 12:06:11,116 INFO] Sentences processed: 5.7837e+06\n",
            "[2024-02-27 12:06:11,116 INFO] Average bsz:  868/ 939/32\n",
            "[2024-02-27 12:06:11,116 INFO] Validation perplexity: 9.6091\n",
            "[2024-02-27 12:06:11,116 INFO] Validation accuracy: 74.9556\n",
            "[2024-02-27 12:06:11,116 INFO] Model is improving ppl: 9.66234 --> 9.6091.\n",
            "[2024-02-27 12:06:11,117 INFO] Model is improving acc: 74.7039 --> 74.9556.\n",
            "[2024-02-27 12:06:11,121 INFO] Saving checkpoint /content/drive/MyDrive/Colab_Notebooks/Diplomovka/Dáta/europarl/complete_model_step_90000.pt\n",
            "[2024-02-27 12:07:54,813 INFO] Step 90500/100000; acc: 77.3; ppl:   8.3; xent: 2.1; lr: 0.00029; sents:   31679; bsz:  861/ 939/32; 7388/8056 tok/s;  18590 sec;\n",
            "[2024-02-27 12:09:36,694 INFO] Step 91000/100000; acc: 77.1; ppl:   8.3; xent: 2.1; lr: 0.00029; sents:   31965; bsz:  865/ 939/32; 8491/9217 tok/s;  18692 sec;\n",
            "[2024-02-27 12:11:18,461 INFO] Step 91500/100000; acc: 77.2; ppl:   8.3; xent: 2.1; lr: 0.00029; sents:   31703; bsz:  866/ 942/32; 8513/9254 tok/s;  18794 sec;\n",
            "[2024-02-27 12:13:00,176 INFO] Step 92000/100000; acc: 77.0; ppl:   8.4; xent: 2.1; lr: 0.00029; sents:   32548; bsz:  870/ 936/33; 8551/9206 tok/s;  18896 sec;\n",
            "[2024-02-27 12:14:42,363 INFO] Step 92500/100000; acc: 77.1; ppl:   8.4; xent: 2.1; lr: 0.00029; sents:   32499; bsz:  877/ 935/32; 8583/9151 tok/s;  18998 sec;\n",
            "[2024-02-27 12:16:24,219 INFO] Step 93000/100000; acc: 76.9; ppl:   8.4; xent: 2.1; lr: 0.00029; sents:   33467; bsz:  866/ 938/33; 8503/9205 tok/s;  19100 sec;\n",
            "[2024-02-27 12:18:06,618 INFO] Step 93500/100000; acc: 76.9; ppl:   8.4; xent: 2.1; lr: 0.00029; sents:   31926; bsz:  878/ 942/32; 8572/9200 tok/s;  19202 sec;\n",
            "[2024-02-27 12:19:48,476 INFO] Step 94000/100000; acc: 77.1; ppl:   8.4; xent: 2.1; lr: 0.00029; sents:   33337; bsz:  871/ 938/33; 8555/9209 tok/s;  19304 sec;\n",
            "[2024-02-27 12:21:30,246 INFO] Step 94500/100000; acc: 76.7; ppl:   8.5; xent: 2.1; lr: 0.00029; sents:   31040; bsz:  863/ 943/31; 8479/9268 tok/s;  19406 sec;\n",
            "[2024-02-27 12:23:12,248 INFO] Step 95000/100000; acc: 76.8; ppl:   8.5; xent: 2.1; lr: 0.00029; sents:   32523; bsz:  863/ 940/33; 8463/9211 tok/s;  19508 sec;\n",
            "[2024-02-27 12:23:12,252 INFO] Saving checkpoint /content/drive/MyDrive/Colab_Notebooks/Diplomovka/Dáta/europarl/complete_model_step_95000.pt\n",
            "[2024-02-27 12:24:56,220 INFO] Step 95500/100000; acc: 76.8; ppl:   8.5; xent: 2.1; lr: 0.00029; sents:   31292; bsz:  868/ 938/31; 8346/9018 tok/s;  19612 sec;\n",
            "[2024-02-27 12:26:38,158 INFO] Step 96000/100000; acc: 76.7; ppl:   8.5; xent: 2.1; lr: 0.00029; sents:   32305; bsz:  874/ 940/32; 8572/9225 tok/s;  19714 sec;\n",
            "[2024-02-27 12:28:19,856 INFO] Step 96500/100000; acc: 76.7; ppl:   8.5; xent: 2.1; lr: 0.00028; sents:   32081; bsz:  865/ 938/32; 8503/9227 tok/s;  19815 sec;\n",
            "[2024-02-27 12:30:02,042 INFO] Step 97000/100000; acc: 76.7; ppl:   8.5; xent: 2.1; lr: 0.00028; sents:   32259; bsz:  875/ 939/32; 8562/9193 tok/s;  19917 sec;\n",
            "[2024-02-27 12:31:43,982 INFO] Step 97500/100000; acc: 76.7; ppl:   8.5; xent: 2.1; lr: 0.00028; sents:   31661; bsz:  868/ 942/32; 8514/9243 tok/s;  20019 sec;\n",
            "[2024-02-27 12:32:17,649 INFO] * Transform statistics for corpus(50.00%):\n",
            "\t\t\t* FilterTooLongStats(filtered=15)\n",
            "\n",
            "[2024-02-27 12:32:17,649 INFO] Weighted corpora loaded so far:\n",
            "\t\t\t* corpus: 12\n",
            "[2024-02-27 12:32:43,416 INFO] * Transform statistics for corpus(50.00%):\n",
            "\t\t\t* FilterTooLongStats(filtered=9)\n",
            "\n",
            "[2024-02-27 12:32:43,416 INFO] Weighted corpora loaded so far:\n",
            "\t\t\t* corpus: 12\n",
            "[2024-02-27 12:33:28,620 INFO] Step 98000/100000; acc: 76.8; ppl:   8.5; xent: 2.1; lr: 0.00028; sents:   31221; bsz:  861/ 941/31; 8229/8991 tok/s;  20124 sec;\n",
            "[2024-02-27 12:35:10,449 INFO] Step 98500/100000; acc: 77.6; ppl:   8.1; xent: 2.1; lr: 0.00028; sents:   33263; bsz:  868/ 936/33; 8523/9194 tok/s;  20226 sec;\n",
            "[2024-02-27 12:36:52,672 INFO] Step 99000/100000; acc: 77.7; ppl:   8.1; xent: 2.1; lr: 0.00028; sents:   31726; bsz:  868/ 940/32; 8491/9196 tok/s;  20328 sec;\n",
            "[2024-02-27 12:38:34,705 INFO] Step 99500/100000; acc: 77.5; ppl:   8.2; xent: 2.1; lr: 0.00028; sents:   31871; bsz:  870/ 943/32; 8531/9243 tok/s;  20430 sec;\n",
            "[2024-02-27 12:40:16,487 INFO] Step 100000/100000; acc: 77.4; ppl:   8.2; xent: 2.1; lr: 0.00028; sents:   33292; bsz:  863/ 935/33; 8481/9186 tok/s;  20532 sec;\n",
            "[2024-02-27 12:40:29,612 INFO] valid stats calculation\n",
            "                           took: 13.124122142791748 s.\n",
            "[2024-02-27 12:40:29,614 INFO] Train perplexity: 12.4174\n",
            "[2024-02-27 12:40:29,614 INFO] Train accuracy: 70.069\n",
            "[2024-02-27 12:40:29,614 INFO] Sentences processed: 6.42736e+06\n",
            "[2024-02-27 12:40:29,614 INFO] Average bsz:  868/ 939/32\n",
            "[2024-02-27 12:40:29,614 INFO] Validation perplexity: 9.51993\n",
            "[2024-02-27 12:40:29,614 INFO] Validation accuracy: 75.1237\n",
            "[2024-02-27 12:40:29,614 INFO] Model is improving ppl: 9.6091 --> 9.51993.\n",
            "[2024-02-27 12:40:29,614 INFO] Model is improving acc: 74.9556 --> 75.1237.\n",
            "[2024-02-27 12:40:29,618 INFO] Saving checkpoint /content/drive/MyDrive/Colab_Notebooks/Diplomovka/Dáta/europarl/complete_model_step_100000.pt\n"
          ]
        }
      ],
      "source": [
        "# Trénovanie the NMT model\n",
        "!onmt_train -config config.yaml -gpu_ranks 0"
      ]
    },
    {
      "cell_type": "markdown",
      "metadata": {
        "id": "9R8EYgvfvDMy"
      },
      "source": [
        "## Preklad"
      ]
    },
    {
      "cell_type": "code",
      "execution_count": 18,
      "metadata": {
        "id": "b4FKodPwvIWx"
      },
      "outputs": [],
      "source": [
        "config_translate = '''\n",
        "\n",
        "model: /content/drive/MyDrive/Colab_Notebooks/Diplomovka/Dáta/europarl/complete_model_step_100000.pt     # sem vložiť najlepší model trénovania\n",
        "src: /content/drive/MyDrive/Colab_Notebooks/Diplomovka/Dáta/europarl/source_subworded.test\n",
        "output: /content/drive/MyDrive/Colab_Notebooks/Diplomovka/Dáta/europarl/translated\n",
        "\n",
        "log_file: translate.log\n",
        "\n",
        "seed: 42\n",
        "\n",
        "beam_size: 4\n",
        "min_length: 1\n",
        "length_penalty: avg\n",
        "\n",
        "batch_size: 32\n",
        "gpu: 0\n",
        "\n",
        "coverage_penalty: summary\n",
        "beta: 0.5\n",
        "\n",
        "'''\n",
        "\n",
        "with open(\"config_translated.yaml\", \"w+\", encoding=\"utf-8\") as config_yaml:\n",
        "  config_yaml.write(config_translate)"
      ]
    },
    {
      "cell_type": "code",
      "execution_count": 19,
      "metadata": {
        "id": "hQ0AMr65aU2x",
        "colab": {
          "base_uri": "https://localhost:8080/"
        },
        "outputId": "eec862cd-5889-40c9-ffb4-728b8aa07e77"
      },
      "outputs": [
        {
          "output_type": "stream",
          "name": "stdout",
          "text": [
            "[2024-02-27 17:14:37,678 INFO] Loading checkpoint from /content/drive/MyDrive/Colab_Notebooks/Diplomovka/Dáta/europarl/complete_model_step_100000.pt\n",
            "[2024-02-27 17:14:38,531 INFO] Loading data into the model\n",
            "[2024-02-27 17:15:22,384 INFO] PRED SCORE: -6.1959, PRED PPL: 490.76 NB SENTENCES: 4000\n",
            "Time w/o python interpreter load/terminate:  44.73706245422363\n"
          ]
        }
      ],
      "source": [
        "# Preklad\n",
        "!onmt_translate -config config_translated.yaml"
      ]
    },
    {
      "cell_type": "code",
      "execution_count": 21,
      "metadata": {
        "id": "ZgmIvlbOaXv7",
        "colab": {
          "base_uri": "https://localhost:8080/"
        },
        "outputId": "1643e170-a43d-4784-92b8-01f4117addf8"
      },
      "outputs": [
        {
          "output_type": "stream",
          "name": "stdout",
          "text": [
            "▁po ▁prvé ▁v ▁eú ▁sú ▁k ▁dispozícii ▁nedostatočné ▁orgány\n",
            "▁vo ▁svete ▁je ▁chudoba\n",
            "▁európska ▁únia ▁si ▁skutočne ▁vyžaduje ▁a m b íci u ▁po raz iť ▁problémy ▁ktoré ▁predstavuje ▁kríza ▁ale ▁táto ▁a m b íci a ▁nesmie ▁spôsob ovať ▁problémy ▁s ▁úsilí m ▁o ▁konsolidáci u ▁rozpočtu ▁ktoré ▁sa ▁od ▁členských ▁štátov ▁požaduje ▁vzhľad om ▁na ▁slab osť ▁verejných ▁účt ov ▁a ▁ich ▁nadmern é ▁deficit y\n",
            "▁rôzne ▁vykonáva cie ▁metódy ▁členských ▁štátov ▁však ▁sťaž ili ▁odvetviu ▁služieb ▁aby ▁túto ▁smernicu ▁plne ▁využili\n",
            "▁hlasovala ▁som ▁za ▁správu ▁o ▁demografick ých ▁výzva ch ▁a ▁solidarite ▁medzi ▁generácia mi ▁pretože ▁za ▁súčasných ▁okolností ▁ne b ý val ých ▁demografick ých ▁problémov ▁spôsobený ch ▁zvýšen ou ▁priemern ou ▁d ĺ ž kou ▁života ▁a ▁klesajú cou ▁pôrod nosť ou ▁predstavujú ▁jeden ▁z ▁naj nal ie ha v ejších ▁problémov ▁sociálnej ▁politiky ▁v ▁nasledujúcich ▁rokoch\n",
            "▁s ▁pevný m ▁vnútroštátn ym ▁výmenný m ▁kurz om ▁bola ▁občiansk a ▁zodpovednosť ▁ dl ž níkov ▁v oči ▁veriteľ om ▁veľmi ▁vysoká ▁všetky ▁menové ▁riziko ▁v ▁hodnote ▁prehnan ého ▁záväzku ▁ niesli ▁ dl ž níci\n",
            "\n"
          ]
        }
      ],
      "source": [
        "translated = r\"/content/drive/MyDrive/Colab_Notebooks/Diplomovka/Dáta/europarl/translated\"\n",
        "with open(translated, \"r\", encoding=\"utf-8\") as file:\n",
        "    for i, line in enumerate(file):\n",
        "        print(line.strip())\n",
        "        if i >= 5:\n",
        "            break\n",
        "\n",
        "print()"
      ]
    },
    {
      "cell_type": "code",
      "execution_count": 31,
      "metadata": {
        "id": "6flpTjHkaY-g",
        "colab": {
          "base_uri": "https://localhost:8080/"
        },
        "outputId": "885ae1d5-2df5-4f36-f460-d43ff84847ae"
      },
      "outputs": [
        {
          "output_type": "stream",
          "name": "stdout",
          "text": [
            "Dekódovanie bolo dokončené! Výstupný súbor: /content/drive/MyDrive/Colab_Notebooks/Diplomovka/Dáta/europarl/translated.desubword\n",
            "Dekódovanie bolo dokončené! Výstupný súbor: /content/drive/MyDrive/Colab_Notebooks/Diplomovka/Dáta/europarl/target_subworded.test.desubword\n"
          ]
        }
      ],
      "source": [
        "target_model = r\"/content/target.model\"\n",
        "translation = r\"/content/drive/MyDrive/Colab_Notebooks/Diplomovka/Dáta/europarl/translated\"\n",
        "translation_desubword = translation + \".desubword\"\n",
        "\n",
        "sp = spm.SentencePieceProcessor()\n",
        "sp.load(target_model)\n",
        "\n",
        "# Desubword prekladový súbor\n",
        "with open(translation, encoding='utf-8') as vstup, open(translation_desubword, \"w\", encoding='utf-8') as vystup:\n",
        "    for line in vstup:\n",
        "        desub = sp.decode_pieces(line.strip().split(\" \"))\n",
        "        vystup.write(desub + \"\\n\")\n",
        "\n",
        "print(f\"Dekódovanie bolo dokončené! Výstupný súbor: {translation_desubword}\")\n",
        "\n",
        "target_test = r\"/content/drive/MyDrive/Colab_Notebooks/Diplomovka/Dáta/europarl/target_subworded.test\"\n",
        "target_test_desubword = target_test + \".desubword\"\n",
        "\n",
        "with open(target_test, encoding='utf-8') as vstup, open(target_test_desubword, \"w\", encoding='utf-8') as vystup:\n",
        "    for line in vstup:\n",
        "        desub = sp.decode_pieces(line.strip().split(\" \"))\n",
        "        vystup.write(desub + \"\\n\")\n",
        "\n",
        "print(f\"Dekódovanie bolo dokončené! Výstupný súbor: {target_test_desubword}\")"
      ]
    },
    {
      "cell_type": "code",
      "execution_count": 32,
      "metadata": {
        "id": "ibTSQf5HbPfw"
      },
      "outputs": [],
      "source": [
        "reference = r\"/content/drive/MyDrive/Colab_Notebooks/Diplomovka/Dáta/europarl/target_subworded.test.desubword\"\n",
        "preklad = r\"/content/drive/MyDrive/Colab_Notebooks/Diplomovka/Dáta/europarl/translated.desubword\""
      ]
    },
    {
      "cell_type": "code",
      "source": [
        "with open(reference, \"r\", encoding=\"utf-8\") as file:\n",
        "    for i, line in enumerate(file):\n",
        "        print(line.strip())\n",
        "        if i >= 5:\n",
        "            break\n",
        "\n",
        "print()"
      ],
      "metadata": {
        "colab": {
          "base_uri": "https://localhost:8080/"
        },
        "id": "4EVAw1ioMaur",
        "outputId": "f696aaa6-f109-46db-ee6b-e0c539f47ea7"
      },
      "execution_count": 33,
      "outputs": [
        {
          "output_type": "stream",
          "name": "stdout",
          "text": [
            "po prvé v eú je nedostatok orgánov\n",
            "vo svete je chudoba\n",
            "európska únia skutočne vyžaduje ambíciu riešiť problémy spôsobené krízou ale táto ambícia nesmie skomplikovať úsilie v oblasti rozpočtovej konsolidácie ktorá sa od členských štátov vyžaduje v dôsledku oslabenia verejných financií a ich nadmerného deficitu\n",
            "rozdielne metódy vykonávania v členských štátoch však odvetviu služieb sťažili optimálne zužitkovanie výhod smernice\n",
            "hlasoval som za správu o demografických výzvach a solidarite medzi generáciami pretože v súčasnej situácii nebývalých demografických problémov ktoré sú spôsobené predlžovaním očakávanej dĺžky života a poklesom miery pôrodnosti predstavujú jednu z najnaliehavejších výziev sociálnej politiky nasledujúcich rokov\n",
            "vďaka pevnému národnému výmennému kurzu bola občianskoprávna zodpovednosť dlžníkov voči veriteľom veľmi vysoká celé menové riziko v hodnote predraženej záruky znášali dlžníci\n",
            "\n"
          ]
        }
      ]
    },
    {
      "cell_type": "code",
      "execution_count": 34,
      "metadata": {
        "id": "_3MFttHDbWmr",
        "colab": {
          "base_uri": "https://localhost:8080/"
        },
        "outputId": "f4f01fa4-076a-4d18-ad2d-a3bbc522c01c"
      },
      "outputs": [
        {
          "output_type": "stream",
          "name": "stdout",
          "text": [
            "po prvé v eú sú k dispozícii nedostatočné orgány\n",
            "vo svete je chudoba\n",
            "európska únia si skutočne vyžaduje ambíciu poraziť problémy ktoré predstavuje kríza ale táto ambícia nesmie spôsobovať problémy s úsilím o konsolidáciu rozpočtu ktoré sa od členských štátov požaduje vzhľadom na slabosť verejných účtov a ich nadmerné deficity\n",
            "rôzne vykonávacie metódy členských štátov však sťažili odvetviu služieb aby túto smernicu plne využili\n",
            "hlasovala som za správu o demografických výzvach a solidarite medzi generáciami pretože za súčasných okolností nebývalých demografických problémov spôsobených zvýšenou priemernou dĺžkou života a klesajúcou pôrodnosťou predstavujú jeden z najnaliehavejších problémov sociálnej politiky v nasledujúcich rokoch\n",
            "s pevným vnútroštátnym výmenným kurzom bola občianska zodpovednosť dlžníkov voči veriteľom veľmi vysoká všetky menové riziko v hodnote prehnaného záväzku niesli dlžníci\n",
            "\n"
          ]
        }
      ],
      "source": [
        "with open(preklad, \"r\", encoding=\"utf-8\") as file:\n",
        "    for i, line in enumerate(file):\n",
        "        print(line.strip())\n",
        "        if i >= 5:\n",
        "            break\n",
        "\n",
        "print()"
      ]
    },
    {
      "cell_type": "code",
      "source": [
        "#!pip install spacy"
      ],
      "metadata": {
        "id": "WODrM4Wo3H6L"
      },
      "execution_count": null,
      "outputs": []
    },
    {
      "cell_type": "code",
      "source": [
        "#!python -m spacy download en_core_web_sm\n",
        "!python -m spacy download xx_ent_wiki_sm"
      ],
      "metadata": {
        "id": "4cXohf183C1P",
        "colab": {
          "base_uri": "https://localhost:8080/"
        },
        "outputId": "28e38e4d-0f72-4823-de54-b41c13e0575e"
      },
      "execution_count": 35,
      "outputs": [
        {
          "output_type": "stream",
          "name": "stdout",
          "text": [
            "Collecting xx-ent-wiki-sm==3.7.0\n",
            "  Downloading https://github.com/explosion/spacy-models/releases/download/xx_ent_wiki_sm-3.7.0/xx_ent_wiki_sm-3.7.0-py3-none-any.whl (11.1 MB)\n",
            "\u001b[2K     \u001b[90m━━━━━━━━━━━━━━━━━━━━━━━━━━━━━━━━━━━━━━━━\u001b[0m \u001b[32m11.1/11.1 MB\u001b[0m \u001b[31m87.7 MB/s\u001b[0m eta \u001b[36m0:00:00\u001b[0m\n",
            "\u001b[?25hRequirement already satisfied: spacy<3.8.0,>=3.7.0 in /usr/local/lib/python3.10/dist-packages (from xx-ent-wiki-sm==3.7.0) (3.7.4)\n",
            "Requirement already satisfied: spacy-legacy<3.1.0,>=3.0.11 in /usr/local/lib/python3.10/dist-packages (from spacy<3.8.0,>=3.7.0->xx-ent-wiki-sm==3.7.0) (3.0.12)\n",
            "Requirement already satisfied: spacy-loggers<2.0.0,>=1.0.0 in /usr/local/lib/python3.10/dist-packages (from spacy<3.8.0,>=3.7.0->xx-ent-wiki-sm==3.7.0) (1.0.5)\n",
            "Requirement already satisfied: murmurhash<1.1.0,>=0.28.0 in /usr/local/lib/python3.10/dist-packages (from spacy<3.8.0,>=3.7.0->xx-ent-wiki-sm==3.7.0) (1.0.10)\n",
            "Requirement already satisfied: cymem<2.1.0,>=2.0.2 in /usr/local/lib/python3.10/dist-packages (from spacy<3.8.0,>=3.7.0->xx-ent-wiki-sm==3.7.0) (2.0.8)\n",
            "Requirement already satisfied: preshed<3.1.0,>=3.0.2 in /usr/local/lib/python3.10/dist-packages (from spacy<3.8.0,>=3.7.0->xx-ent-wiki-sm==3.7.0) (3.0.9)\n",
            "Requirement already satisfied: thinc<8.3.0,>=8.2.2 in /usr/local/lib/python3.10/dist-packages (from spacy<3.8.0,>=3.7.0->xx-ent-wiki-sm==3.7.0) (8.2.3)\n",
            "Requirement already satisfied: wasabi<1.2.0,>=0.9.1 in /usr/local/lib/python3.10/dist-packages (from spacy<3.8.0,>=3.7.0->xx-ent-wiki-sm==3.7.0) (1.1.2)\n",
            "Requirement already satisfied: srsly<3.0.0,>=2.4.3 in /usr/local/lib/python3.10/dist-packages (from spacy<3.8.0,>=3.7.0->xx-ent-wiki-sm==3.7.0) (2.4.8)\n",
            "Requirement already satisfied: catalogue<2.1.0,>=2.0.6 in /usr/local/lib/python3.10/dist-packages (from spacy<3.8.0,>=3.7.0->xx-ent-wiki-sm==3.7.0) (2.0.10)\n",
            "Requirement already satisfied: weasel<0.4.0,>=0.1.0 in /usr/local/lib/python3.10/dist-packages (from spacy<3.8.0,>=3.7.0->xx-ent-wiki-sm==3.7.0) (0.3.4)\n",
            "Requirement already satisfied: typer<0.10.0,>=0.3.0 in /usr/local/lib/python3.10/dist-packages (from spacy<3.8.0,>=3.7.0->xx-ent-wiki-sm==3.7.0) (0.9.0)\n",
            "Requirement already satisfied: smart-open<7.0.0,>=5.2.1 in /usr/local/lib/python3.10/dist-packages (from spacy<3.8.0,>=3.7.0->xx-ent-wiki-sm==3.7.0) (6.4.0)\n",
            "Requirement already satisfied: tqdm<5.0.0,>=4.38.0 in /usr/local/lib/python3.10/dist-packages (from spacy<3.8.0,>=3.7.0->xx-ent-wiki-sm==3.7.0) (4.66.2)\n",
            "Requirement already satisfied: requests<3.0.0,>=2.13.0 in /usr/local/lib/python3.10/dist-packages (from spacy<3.8.0,>=3.7.0->xx-ent-wiki-sm==3.7.0) (2.31.0)\n",
            "Requirement already satisfied: pydantic!=1.8,!=1.8.1,<3.0.0,>=1.7.4 in /usr/local/lib/python3.10/dist-packages (from spacy<3.8.0,>=3.7.0->xx-ent-wiki-sm==3.7.0) (2.6.1)\n",
            "Requirement already satisfied: jinja2 in /usr/local/lib/python3.10/dist-packages (from spacy<3.8.0,>=3.7.0->xx-ent-wiki-sm==3.7.0) (3.1.3)\n",
            "Requirement already satisfied: setuptools in /usr/local/lib/python3.10/dist-packages (from spacy<3.8.0,>=3.7.0->xx-ent-wiki-sm==3.7.0) (67.7.2)\n",
            "Requirement already satisfied: packaging>=20.0 in /usr/local/lib/python3.10/dist-packages (from spacy<3.8.0,>=3.7.0->xx-ent-wiki-sm==3.7.0) (23.2)\n",
            "Requirement already satisfied: langcodes<4.0.0,>=3.2.0 in /usr/local/lib/python3.10/dist-packages (from spacy<3.8.0,>=3.7.0->xx-ent-wiki-sm==3.7.0) (3.3.0)\n",
            "Requirement already satisfied: numpy>=1.19.0 in /usr/local/lib/python3.10/dist-packages (from spacy<3.8.0,>=3.7.0->xx-ent-wiki-sm==3.7.0) (1.25.2)\n",
            "Requirement already satisfied: annotated-types>=0.4.0 in /usr/local/lib/python3.10/dist-packages (from pydantic!=1.8,!=1.8.1,<3.0.0,>=1.7.4->spacy<3.8.0,>=3.7.0->xx-ent-wiki-sm==3.7.0) (0.6.0)\n",
            "Requirement already satisfied: pydantic-core==2.16.2 in /usr/local/lib/python3.10/dist-packages (from pydantic!=1.8,!=1.8.1,<3.0.0,>=1.7.4->spacy<3.8.0,>=3.7.0->xx-ent-wiki-sm==3.7.0) (2.16.2)\n",
            "Requirement already satisfied: typing-extensions>=4.6.1 in /usr/local/lib/python3.10/dist-packages (from pydantic!=1.8,!=1.8.1,<3.0.0,>=1.7.4->spacy<3.8.0,>=3.7.0->xx-ent-wiki-sm==3.7.0) (4.9.0)\n",
            "Requirement already satisfied: charset-normalizer<4,>=2 in /usr/local/lib/python3.10/dist-packages (from requests<3.0.0,>=2.13.0->spacy<3.8.0,>=3.7.0->xx-ent-wiki-sm==3.7.0) (3.3.2)\n",
            "Requirement already satisfied: idna<4,>=2.5 in /usr/local/lib/python3.10/dist-packages (from requests<3.0.0,>=2.13.0->spacy<3.8.0,>=3.7.0->xx-ent-wiki-sm==3.7.0) (3.6)\n",
            "Requirement already satisfied: urllib3<3,>=1.21.1 in /usr/local/lib/python3.10/dist-packages (from requests<3.0.0,>=2.13.0->spacy<3.8.0,>=3.7.0->xx-ent-wiki-sm==3.7.0) (2.0.7)\n",
            "Requirement already satisfied: certifi>=2017.4.17 in /usr/local/lib/python3.10/dist-packages (from requests<3.0.0,>=2.13.0->spacy<3.8.0,>=3.7.0->xx-ent-wiki-sm==3.7.0) (2024.2.2)\n",
            "Requirement already satisfied: blis<0.8.0,>=0.7.8 in /usr/local/lib/python3.10/dist-packages (from thinc<8.3.0,>=8.2.2->spacy<3.8.0,>=3.7.0->xx-ent-wiki-sm==3.7.0) (0.7.11)\n",
            "Requirement already satisfied: confection<1.0.0,>=0.0.1 in /usr/local/lib/python3.10/dist-packages (from thinc<8.3.0,>=8.2.2->spacy<3.8.0,>=3.7.0->xx-ent-wiki-sm==3.7.0) (0.1.4)\n",
            "Requirement already satisfied: click<9.0.0,>=7.1.1 in /usr/local/lib/python3.10/dist-packages (from typer<0.10.0,>=0.3.0->spacy<3.8.0,>=3.7.0->xx-ent-wiki-sm==3.7.0) (8.1.7)\n",
            "Requirement already satisfied: cloudpathlib<0.17.0,>=0.7.0 in /usr/local/lib/python3.10/dist-packages (from weasel<0.4.0,>=0.1.0->spacy<3.8.0,>=3.7.0->xx-ent-wiki-sm==3.7.0) (0.16.0)\n",
            "Requirement already satisfied: MarkupSafe>=2.0 in /usr/local/lib/python3.10/dist-packages (from jinja2->spacy<3.8.0,>=3.7.0->xx-ent-wiki-sm==3.7.0) (2.1.5)\n",
            "Installing collected packages: xx-ent-wiki-sm\n",
            "Successfully installed xx-ent-wiki-sm-3.7.0\n",
            "\u001b[38;5;2m✔ Download and installation successful\u001b[0m\n",
            "You can now load the package via spacy.load('xx_ent_wiki_sm')\n",
            "\u001b[38;5;3m⚠ Restart to reload dependencies\u001b[0m\n",
            "If you are in a Jupyter or Colab notebook, you may need to restart Python in\n",
            "order to load all the package's dependencies. You can do this by selecting the\n",
            "'Restart kernel' or 'Restart runtime' option.\n"
          ]
        }
      ]
    },
    {
      "cell_type": "code",
      "source": [
        "import spacy\n",
        "import sacrebleu\n",
        "from nltk.translate import meteor_score as ms\n",
        "import nltk\n",
        "nltk.download('wordnet')\n",
        "\n",
        "nlp = spacy.load(\"xx_ent_wiki_sm\") #https://github.com/explosion/spacy-models/releases/tag/xx_ent_wiki_sm-3.7.0"
      ],
      "metadata": {
        "colab": {
          "base_uri": "https://localhost:8080/"
        },
        "id": "0TXq81Lq2sjn",
        "outputId": "512f522a-6d5e-4bb3-e217-3efa891bbdba"
      },
      "execution_count": 36,
      "outputs": [
        {
          "output_type": "stream",
          "name": "stderr",
          "text": [
            "[nltk_data] Downloading package wordnet to /root/nltk_data...\n"
          ]
        }
      ]
    },
    {
      "cell_type": "code",
      "source": [
        "reference = r\"/content/drive/MyDrive/Colab_Notebooks/Diplomovka/Dáta/europarl/target_subworded.test.desubword\"\n",
        "preklad = r\"/content/drive/MyDrive/Colab_Notebooks/Diplomovka/Dáta/europarl/translated.desubword\""
      ],
      "metadata": {
        "id": "diNDH7rPzl_9"
      },
      "execution_count": 37,
      "outputs": []
    },
    {
      "cell_type": "code",
      "execution_count": 38,
      "metadata": {
        "id": "Y_Mm6k99ba9I",
        "colab": {
          "base_uri": "https://localhost:8080/"
        },
        "outputId": "e4855554-6449-485e-f9a1-c94a9eea4430"
      },
      "outputs": [
        {
          "output_type": "stream",
          "name": "stdout",
          "text": [
            "Referenčná veta v SK jazyku: po prvé v eú je nedostatok orgánov\n",
            "Preložená veta:\t\t     po prvé v eú sú k dispozícii nedostatočné orgány\n",
            "BLEU:   34.73860895633573\n",
            "METEOR:  0.5512152777777778\n"
          ]
        }
      ],
      "source": [
        "# referenčné hodnoty\n",
        "refs = []\n",
        "\n",
        "with open(reference, encoding='utf-8') as reference:\n",
        "    for line in reference:\n",
        "        line = line.strip()\n",
        "        refs.append(line)\n",
        "\n",
        "print(\"Referenčná veta v SK jazyku:\", refs[0]) # výpis prvej referenčenj vety, pomocou ktorej budeme porovnávať vety\n",
        "\n",
        "refs = [refs]  # list listov, teda forma, ktorú si vyžaduje SacreBLEU\n",
        "\n",
        "# hodnoty, ktoré sme preložili\n",
        "preds = []\n",
        "\n",
        "with open(preklad, encoding='utf-8') as prek:\n",
        "    for line in prek:\n",
        "        line = line.strip()\n",
        "        preds.append(line)\n",
        "\n",
        "print(\"Preložená veta:\\t\\t    \", preds[0]) # výpis prvého preloženého riadka\n",
        "\n",
        "# BLEU skóre - výpočet BLEU na základe porovnania referenčných viet s preloženými vetami\n",
        "bleu = sacrebleu.corpus_bleu(preds, refs)\n",
        "print(\"BLEU:  \", bleu.score)\n",
        "\n",
        "# tokenizácia je potrebná pre rozdelenie viet do menších častí (tokenov), aby Meteor dokázal porovnávať slová a ich význam\n",
        "def tokenizacia(text):\n",
        "    doc = nlp(text)\n",
        "    return [token.text for token in doc]\n",
        "\n",
        "meteor_scores = []\n",
        "for refs_segment, pred in zip(refs, preds):\n",
        "    ref = refs_segment[0]\n",
        "    token_ref = tokenizacia(ref) # tokenizácia referenčných viet\n",
        "    token_pred = tokenizacia(pred) # tokenizáci preložených viet\n",
        "\n",
        "    # Výpočet METEOR skóre - meteor skóre narozdiel od bleu zohľadnuje sémantiku do istej miery\n",
        "    score = ms.meteor_score([token_ref], token_pred) # výpočet meteor skóre pre jednu vetu\n",
        "    meteor_scores.append(score)\n",
        "\n",
        "average_meteor_score = sum(meteor_scores) / len(meteor_scores) # výpočet priemeru Meteor skóre, pre celú množinu preložených viet\n",
        "print(\"METEOR: \", average_meteor_score)"
      ]
    },
    {
      "cell_type": "code",
      "source": [
        "token_ref"
      ],
      "metadata": {
        "colab": {
          "base_uri": "https://localhost:8080/"
        },
        "id": "0zqE2czPyCSH",
        "outputId": "ba865181-689d-46ab-f9dd-3c7f28494bd4"
      },
      "execution_count": 39,
      "outputs": [
        {
          "output_type": "execute_result",
          "data": {
            "text/plain": [
              "['po', 'prvé', 'v', 'eú', 'je', 'nedostatok', 'orgánov']"
            ]
          },
          "metadata": {},
          "execution_count": 39
        }
      ]
    },
    {
      "cell_type": "code",
      "source": [
        "token_pred"
      ],
      "metadata": {
        "colab": {
          "base_uri": "https://localhost:8080/"
        },
        "id": "gTJvW8pz1q4I",
        "outputId": "69e7b3de-3ec4-4f24-91e7-ade4c22d533a"
      },
      "execution_count": 40,
      "outputs": [
        {
          "output_type": "execute_result",
          "data": {
            "text/plain": [
              "['po', 'prvé', 'v', 'eú', 'sú', 'k', 'dispozícii', 'nedostatočné', 'orgány']"
            ]
          },
          "metadata": {},
          "execution_count": 40
        }
      ]
    },
    {
      "cell_type": "code",
      "source": [
        "from google.colab import runtime\n",
        "runtime.unassign()"
      ],
      "metadata": {
        "id": "s91Kg0emqsx8"
      },
      "execution_count": null,
      "outputs": []
    }
  ],
  "metadata": {
    "colab": {
      "machine_shape": "hm",
      "provenance": [],
      "gpuType": "T4",
      "mount_file_id": "1cAbr53bSx53865fbKZe58vxyASVtO7ub",
      "authorship_tag": "ABX9TyNCX2+HhHCPwSq/oloi+6KO",
      "include_colab_link": true
    },
    "kernelspec": {
      "display_name": "Python 3",
      "name": "python3"
    },
    "language_info": {
      "name": "python"
    },
    "accelerator": "GPU"
  },
  "nbformat": 4,
  "nbformat_minor": 0
}