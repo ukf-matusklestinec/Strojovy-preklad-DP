{
  "cells": [
    {
      "cell_type": "markdown",
      "metadata": {
        "id": "view-in-github",
        "colab_type": "text"
      },
      "source": [
        "<a href=\"https://colab.research.google.com/github/ukf-matusklestinec/Strojovy-preklad-DP/blob/main/Predspracovanie_dat_Trenovanie.ipynb\" target=\"_parent\"><img src=\"https://colab.research.google.com/assets/colab-badge.svg\" alt=\"Open In Colab\"/></a>"
      ]
    },
    {
      "cell_type": "code",
      "execution_count": null,
      "metadata": {
        "id": "9Jqtow9eJb-O"
      },
      "outputs": [],
      "source": [
        "# KORPUSY\n",
        "# https://opus.nlpl.eu/Europarl/en&sk/v7/Europarl\n",
        "# https://opus.nlpl.eu/ParaCrawl/en&sk/v9/ParaCrawl\n",
        "\n",
        "\n",
        "# https://github.com/google/sentencepiece - SentencePiece\n",
        "# https://opennmt.net/OpenNMT-tf/configuration.html - dokumentácia pre config"
      ]
    },
    {
      "cell_type": "code",
      "execution_count": 1,
      "metadata": {
        "colab": {
          "base_uri": "https://localhost:8080/"
        },
        "id": "6fLWVqsZQs9R",
        "outputId": "0653f4ea-dfa5-4b5b-ac34-3c118340926e"
      },
      "outputs": [
        {
          "output_type": "stream",
          "name": "stdout",
          "text": [
            "Requirement already satisfied: sentencepiece in /usr/local/lib/python3.10/dist-packages (0.1.99)\n",
            "Collecting OpenNMT-py\n",
            "  Downloading OpenNMT_py-3.5.1-py3-none-any.whl (262 kB)\n",
            "\u001b[2K     \u001b[90m━━━━━━━━━━━━━━━━━━━━━━━━━━━━━━━━━━━━━━━━\u001b[0m \u001b[32m262.8/262.8 kB\u001b[0m \u001b[31m5.3 MB/s\u001b[0m eta \u001b[36m0:00:00\u001b[0m\n",
            "\u001b[?25hRequirement already satisfied: torch<2.3,>=2.1 in /usr/local/lib/python3.10/dist-packages (from OpenNMT-py) (2.2.1+cu121)\n",
            "Collecting configargparse (from OpenNMT-py)\n",
            "  Downloading ConfigArgParse-1.7-py3-none-any.whl (25 kB)\n",
            "Collecting ctranslate2<5,>=4 (from OpenNMT-py)\n",
            "  Downloading ctranslate2-4.1.0-cp310-cp310-manylinux_2_17_x86_64.manylinux2014_x86_64.whl (36.7 MB)\n",
            "\u001b[2K     \u001b[90m━━━━━━━━━━━━━━━━━━━━━━━━━━━━━━━━━━━━━━━━\u001b[0m \u001b[32m36.7/36.7 MB\u001b[0m \u001b[31m44.4 MB/s\u001b[0m eta \u001b[36m0:00:00\u001b[0m\n",
            "\u001b[?25hRequirement already satisfied: tensorboard>=2.3 in /usr/local/lib/python3.10/dist-packages (from OpenNMT-py) (2.15.2)\n",
            "Requirement already satisfied: flask in /usr/local/lib/python3.10/dist-packages (from OpenNMT-py) (2.2.5)\n",
            "Collecting waitress (from OpenNMT-py)\n",
            "  Downloading waitress-3.0.0-py3-none-any.whl (56 kB)\n",
            "\u001b[2K     \u001b[90m━━━━━━━━━━━━━━━━━━━━━━━━━━━━━━━━━━━━━━━━\u001b[0m \u001b[32m56.7/56.7 kB\u001b[0m \u001b[31m7.1 MB/s\u001b[0m eta \u001b[36m0:00:00\u001b[0m\n",
            "\u001b[?25hCollecting pyonmttok<2,>=1.37 (from OpenNMT-py)\n",
            "  Downloading pyonmttok-1.37.1-cp310-cp310-manylinux_2_17_x86_64.manylinux2014_x86_64.whl (17.0 MB)\n",
            "\u001b[2K     \u001b[90m━━━━━━━━━━━━━━━━━━━━━━━━━━━━━━━━━━━━━━━━\u001b[0m \u001b[32m17.0/17.0 MB\u001b[0m \u001b[31m73.4 MB/s\u001b[0m eta \u001b[36m0:00:00\u001b[0m\n",
            "\u001b[?25hRequirement already satisfied: pyyaml in /usr/local/lib/python3.10/dist-packages (from OpenNMT-py) (6.0.1)\n",
            "Collecting sacrebleu (from OpenNMT-py)\n",
            "  Downloading sacrebleu-2.4.1-py3-none-any.whl (106 kB)\n",
            "\u001b[2K     \u001b[90m━━━━━━━━━━━━━━━━━━━━━━━━━━━━━━━━━━━━━━━━\u001b[0m \u001b[32m106.6/106.6 kB\u001b[0m \u001b[31m14.5 MB/s\u001b[0m eta \u001b[36m0:00:00\u001b[0m\n",
            "\u001b[?25hCollecting rapidfuzz (from OpenNMT-py)\n",
            "  Downloading rapidfuzz-3.6.2-cp310-cp310-manylinux_2_17_x86_64.manylinux2014_x86_64.whl (3.4 MB)\n",
            "\u001b[2K     \u001b[90m━━━━━━━━━━━━━━━━━━━━━━━━━━━━━━━━━━━━━━━━\u001b[0m \u001b[32m3.4/3.4 MB\u001b[0m \u001b[31m107.0 MB/s\u001b[0m eta \u001b[36m0:00:00\u001b[0m\n",
            "\u001b[?25hCollecting pyahocorasick (from OpenNMT-py)\n",
            "  Downloading pyahocorasick-2.0.0-cp310-cp310-manylinux_2_5_x86_64.manylinux1_x86_64.manylinux_2_12_x86_64.manylinux2010_x86_64.whl (110 kB)\n",
            "\u001b[2K     \u001b[90m━━━━━━━━━━━━━━━━━━━━━━━━━━━━━━━━━━━━━━━━\u001b[0m \u001b[32m110.8/110.8 kB\u001b[0m \u001b[31m14.9 MB/s\u001b[0m eta \u001b[36m0:00:00\u001b[0m\n",
            "\u001b[?25hCollecting fasttext-wheel (from OpenNMT-py)\n",
            "  Downloading fasttext_wheel-0.9.2-cp310-cp310-manylinux_2_17_x86_64.manylinux2014_x86_64.whl (4.4 MB)\n",
            "\u001b[2K     \u001b[90m━━━━━━━━━━━━━━━━━━━━━━━━━━━━━━━━━━━━━━━━\u001b[0m \u001b[32m4.4/4.4 MB\u001b[0m \u001b[31m70.2 MB/s\u001b[0m eta \u001b[36m0:00:00\u001b[0m\n",
            "\u001b[?25hRequirement already satisfied: spacy in /usr/local/lib/python3.10/dist-packages (from OpenNMT-py) (3.7.4)\n",
            "Requirement already satisfied: six in /usr/local/lib/python3.10/dist-packages (from OpenNMT-py) (1.16.0)\n",
            "Requirement already satisfied: setuptools in /usr/local/lib/python3.10/dist-packages (from ctranslate2<5,>=4->OpenNMT-py) (67.7.2)\n",
            "Requirement already satisfied: numpy in /usr/local/lib/python3.10/dist-packages (from ctranslate2<5,>=4->OpenNMT-py) (1.25.2)\n",
            "Requirement already satisfied: absl-py>=0.4 in /usr/local/lib/python3.10/dist-packages (from tensorboard>=2.3->OpenNMT-py) (1.4.0)\n",
            "Requirement already satisfied: grpcio>=1.48.2 in /usr/local/lib/python3.10/dist-packages (from tensorboard>=2.3->OpenNMT-py) (1.62.1)\n",
            "Requirement already satisfied: google-auth<3,>=1.6.3 in /usr/local/lib/python3.10/dist-packages (from tensorboard>=2.3->OpenNMT-py) (2.27.0)\n",
            "Requirement already satisfied: google-auth-oauthlib<2,>=0.5 in /usr/local/lib/python3.10/dist-packages (from tensorboard>=2.3->OpenNMT-py) (1.2.0)\n",
            "Requirement already satisfied: markdown>=2.6.8 in /usr/local/lib/python3.10/dist-packages (from tensorboard>=2.3->OpenNMT-py) (3.6)\n",
            "Requirement already satisfied: protobuf!=4.24.0,>=3.19.6 in /usr/local/lib/python3.10/dist-packages (from tensorboard>=2.3->OpenNMT-py) (3.20.3)\n",
            "Requirement already satisfied: requests<3,>=2.21.0 in /usr/local/lib/python3.10/dist-packages (from tensorboard>=2.3->OpenNMT-py) (2.31.0)\n",
            "Requirement already satisfied: tensorboard-data-server<0.8.0,>=0.7.0 in /usr/local/lib/python3.10/dist-packages (from tensorboard>=2.3->OpenNMT-py) (0.7.2)\n",
            "Requirement already satisfied: werkzeug>=1.0.1 in /usr/local/lib/python3.10/dist-packages (from tensorboard>=2.3->OpenNMT-py) (3.0.1)\n",
            "Requirement already satisfied: filelock in /usr/local/lib/python3.10/dist-packages (from torch<2.3,>=2.1->OpenNMT-py) (3.13.1)\n",
            "Requirement already satisfied: typing-extensions>=4.8.0 in /usr/local/lib/python3.10/dist-packages (from torch<2.3,>=2.1->OpenNMT-py) (4.10.0)\n",
            "Requirement already satisfied: sympy in /usr/local/lib/python3.10/dist-packages (from torch<2.3,>=2.1->OpenNMT-py) (1.12)\n",
            "Requirement already satisfied: networkx in /usr/local/lib/python3.10/dist-packages (from torch<2.3,>=2.1->OpenNMT-py) (3.2.1)\n",
            "Requirement already satisfied: jinja2 in /usr/local/lib/python3.10/dist-packages (from torch<2.3,>=2.1->OpenNMT-py) (3.1.3)\n",
            "Requirement already satisfied: fsspec in /usr/local/lib/python3.10/dist-packages (from torch<2.3,>=2.1->OpenNMT-py) (2023.6.0)\n",
            "Collecting nvidia-cuda-nvrtc-cu12==12.1.105 (from torch<2.3,>=2.1->OpenNMT-py)\n",
            "  Downloading nvidia_cuda_nvrtc_cu12-12.1.105-py3-none-manylinux1_x86_64.whl (23.7 MB)\n",
            "\u001b[2K     \u001b[90m━━━━━━━━━━━━━━━━━━━━━━━━━━━━━━━━━━━━━━━━\u001b[0m \u001b[32m23.7/23.7 MB\u001b[0m \u001b[31m66.6 MB/s\u001b[0m eta \u001b[36m0:00:00\u001b[0m\n",
            "\u001b[?25hCollecting nvidia-cuda-runtime-cu12==12.1.105 (from torch<2.3,>=2.1->OpenNMT-py)\n",
            "  Downloading nvidia_cuda_runtime_cu12-12.1.105-py3-none-manylinux1_x86_64.whl (823 kB)\n",
            "\u001b[2K     \u001b[90m━━━━━━━━━━━━━━━━━━━━━━━━━━━━━━━━━━━━━━━━\u001b[0m \u001b[32m823.6/823.6 kB\u001b[0m \u001b[31m59.8 MB/s\u001b[0m eta \u001b[36m0:00:00\u001b[0m\n",
            "\u001b[?25hCollecting nvidia-cuda-cupti-cu12==12.1.105 (from torch<2.3,>=2.1->OpenNMT-py)\n",
            "  Downloading nvidia_cuda_cupti_cu12-12.1.105-py3-none-manylinux1_x86_64.whl (14.1 MB)\n",
            "\u001b[2K     \u001b[90m━━━━━━━━━━━━━━━━━━━━━━━━━━━━━━━━━━━━━━━━\u001b[0m \u001b[32m14.1/14.1 MB\u001b[0m \u001b[31m89.9 MB/s\u001b[0m eta \u001b[36m0:00:00\u001b[0m\n",
            "\u001b[?25hCollecting nvidia-cudnn-cu12==8.9.2.26 (from torch<2.3,>=2.1->OpenNMT-py)\n",
            "  Downloading nvidia_cudnn_cu12-8.9.2.26-py3-none-manylinux1_x86_64.whl (731.7 MB)\n",
            "\u001b[2K     \u001b[90m━━━━━━━━━━━━━━━━━━━━━━━━━━━━━━━━━━━━━━━━\u001b[0m \u001b[32m731.7/731.7 MB\u001b[0m \u001b[31m2.4 MB/s\u001b[0m eta \u001b[36m0:00:00\u001b[0m\n",
            "\u001b[?25hCollecting nvidia-cublas-cu12==12.1.3.1 (from torch<2.3,>=2.1->OpenNMT-py)\n",
            "  Downloading nvidia_cublas_cu12-12.1.3.1-py3-none-manylinux1_x86_64.whl (410.6 MB)\n",
            "\u001b[2K     \u001b[90m━━━━━━━━━━━━━━━━━━━━━━━━━━━━━━━━━━━━━━━━\u001b[0m \u001b[32m410.6/410.6 MB\u001b[0m \u001b[31m3.1 MB/s\u001b[0m eta \u001b[36m0:00:00\u001b[0m\n",
            "\u001b[?25hCollecting nvidia-cufft-cu12==11.0.2.54 (from torch<2.3,>=2.1->OpenNMT-py)\n",
            "  Downloading nvidia_cufft_cu12-11.0.2.54-py3-none-manylinux1_x86_64.whl (121.6 MB)\n",
            "\u001b[2K     \u001b[90m━━━━━━━━━━━━━━━━━━━━━━━━━━━━━━━━━━━━━━━━\u001b[0m \u001b[32m121.6/121.6 MB\u001b[0m \u001b[31m13.7 MB/s\u001b[0m eta \u001b[36m0:00:00\u001b[0m\n",
            "\u001b[?25hCollecting nvidia-curand-cu12==10.3.2.106 (from torch<2.3,>=2.1->OpenNMT-py)\n",
            "  Downloading nvidia_curand_cu12-10.3.2.106-py3-none-manylinux1_x86_64.whl (56.5 MB)\n",
            "\u001b[2K     \u001b[90m━━━━━━━━━━━━━━━━━━━━━━━━━━━━━━━━━━━━━━━━\u001b[0m \u001b[32m56.5/56.5 MB\u001b[0m \u001b[31m29.5 MB/s\u001b[0m eta \u001b[36m0:00:00\u001b[0m\n",
            "\u001b[?25hCollecting nvidia-cusolver-cu12==11.4.5.107 (from torch<2.3,>=2.1->OpenNMT-py)\n",
            "  Downloading nvidia_cusolver_cu12-11.4.5.107-py3-none-manylinux1_x86_64.whl (124.2 MB)\n",
            "\u001b[2K     \u001b[90m━━━━━━━━━━━━━━━━━━━━━━━━━━━━━━━━━━━━━━━━\u001b[0m \u001b[32m124.2/124.2 MB\u001b[0m \u001b[31m5.7 MB/s\u001b[0m eta \u001b[36m0:00:00\u001b[0m\n",
            "\u001b[?25hCollecting nvidia-cusparse-cu12==12.1.0.106 (from torch<2.3,>=2.1->OpenNMT-py)\n",
            "  Downloading nvidia_cusparse_cu12-12.1.0.106-py3-none-manylinux1_x86_64.whl (196.0 MB)\n",
            "\u001b[2K     \u001b[90m━━━━━━━━━━━━━━━━━━━━━━━━━━━━━━━━━━━━━━━━\u001b[0m \u001b[32m196.0/196.0 MB\u001b[0m \u001b[31m5.3 MB/s\u001b[0m eta \u001b[36m0:00:00\u001b[0m\n",
            "\u001b[?25hCollecting nvidia-nccl-cu12==2.19.3 (from torch<2.3,>=2.1->OpenNMT-py)\n",
            "  Downloading nvidia_nccl_cu12-2.19.3-py3-none-manylinux1_x86_64.whl (166.0 MB)\n",
            "\u001b[2K     \u001b[90m━━━━━━━━━━━━━━━━━━━━━━━━━━━━━━━━━━━━━━━━\u001b[0m \u001b[32m166.0/166.0 MB\u001b[0m \u001b[31m6.1 MB/s\u001b[0m eta \u001b[36m0:00:00\u001b[0m\n",
            "\u001b[?25hCollecting nvidia-nvtx-cu12==12.1.105 (from torch<2.3,>=2.1->OpenNMT-py)\n",
            "  Downloading nvidia_nvtx_cu12-12.1.105-py3-none-manylinux1_x86_64.whl (99 kB)\n",
            "\u001b[2K     \u001b[90m━━━━━━━━━━━━━━━━━━━━━━━━━━━━━━━━━━━━━━━━\u001b[0m \u001b[32m99.1/99.1 kB\u001b[0m \u001b[31m12.1 MB/s\u001b[0m eta \u001b[36m0:00:00\u001b[0m\n",
            "\u001b[?25hRequirement already satisfied: triton==2.2.0 in /usr/local/lib/python3.10/dist-packages (from torch<2.3,>=2.1->OpenNMT-py) (2.2.0)\n",
            "Collecting nvidia-nvjitlink-cu12 (from nvidia-cusolver-cu12==11.4.5.107->torch<2.3,>=2.1->OpenNMT-py)\n",
            "  Downloading nvidia_nvjitlink_cu12-12.4.99-py3-none-manylinux2014_x86_64.whl (21.1 MB)\n",
            "\u001b[2K     \u001b[90m━━━━━━━━━━━━━━━━━━━━━━━━━━━━━━━━━━━━━━━━\u001b[0m \u001b[32m21.1/21.1 MB\u001b[0m \u001b[31m79.6 MB/s\u001b[0m eta \u001b[36m0:00:00\u001b[0m\n",
            "\u001b[?25hCollecting pybind11>=2.2 (from fasttext-wheel->OpenNMT-py)\n",
            "  Downloading pybind11-2.11.1-py3-none-any.whl (227 kB)\n",
            "\u001b[2K     \u001b[90m━━━━━━━━━━━━━━━━━━━━━━━━━━━━━━━━━━━━━━━━\u001b[0m \u001b[32m227.7/227.7 kB\u001b[0m \u001b[31m27.7 MB/s\u001b[0m eta \u001b[36m0:00:00\u001b[0m\n",
            "\u001b[?25hRequirement already satisfied: itsdangerous>=2.0 in /usr/local/lib/python3.10/dist-packages (from flask->OpenNMT-py) (2.1.2)\n",
            "Requirement already satisfied: click>=8.0 in /usr/local/lib/python3.10/dist-packages (from flask->OpenNMT-py) (8.1.7)\n",
            "Collecting portalocker (from sacrebleu->OpenNMT-py)\n",
            "  Downloading portalocker-2.8.2-py3-none-any.whl (17 kB)\n",
            "Requirement already satisfied: regex in /usr/local/lib/python3.10/dist-packages (from sacrebleu->OpenNMT-py) (2023.12.25)\n",
            "Requirement already satisfied: tabulate>=0.8.9 in /usr/local/lib/python3.10/dist-packages (from sacrebleu->OpenNMT-py) (0.9.0)\n",
            "Collecting colorama (from sacrebleu->OpenNMT-py)\n",
            "  Downloading colorama-0.4.6-py2.py3-none-any.whl (25 kB)\n",
            "Requirement already satisfied: lxml in /usr/local/lib/python3.10/dist-packages (from sacrebleu->OpenNMT-py) (4.9.4)\n",
            "Requirement already satisfied: spacy-legacy<3.1.0,>=3.0.11 in /usr/local/lib/python3.10/dist-packages (from spacy->OpenNMT-py) (3.0.12)\n",
            "Requirement already satisfied: spacy-loggers<2.0.0,>=1.0.0 in /usr/local/lib/python3.10/dist-packages (from spacy->OpenNMT-py) (1.0.5)\n",
            "Requirement already satisfied: murmurhash<1.1.0,>=0.28.0 in /usr/local/lib/python3.10/dist-packages (from spacy->OpenNMT-py) (1.0.10)\n",
            "Requirement already satisfied: cymem<2.1.0,>=2.0.2 in /usr/local/lib/python3.10/dist-packages (from spacy->OpenNMT-py) (2.0.8)\n",
            "Requirement already satisfied: preshed<3.1.0,>=3.0.2 in /usr/local/lib/python3.10/dist-packages (from spacy->OpenNMT-py) (3.0.9)\n",
            "Requirement already satisfied: thinc<8.3.0,>=8.2.2 in /usr/local/lib/python3.10/dist-packages (from spacy->OpenNMT-py) (8.2.3)\n",
            "Requirement already satisfied: wasabi<1.2.0,>=0.9.1 in /usr/local/lib/python3.10/dist-packages (from spacy->OpenNMT-py) (1.1.2)\n",
            "Requirement already satisfied: srsly<3.0.0,>=2.4.3 in /usr/local/lib/python3.10/dist-packages (from spacy->OpenNMT-py) (2.4.8)\n",
            "Requirement already satisfied: catalogue<2.1.0,>=2.0.6 in /usr/local/lib/python3.10/dist-packages (from spacy->OpenNMT-py) (2.0.10)\n",
            "Requirement already satisfied: weasel<0.4.0,>=0.1.0 in /usr/local/lib/python3.10/dist-packages (from spacy->OpenNMT-py) (0.3.4)\n",
            "Requirement already satisfied: typer<0.10.0,>=0.3.0 in /usr/local/lib/python3.10/dist-packages (from spacy->OpenNMT-py) (0.9.0)\n",
            "Requirement already satisfied: smart-open<7.0.0,>=5.2.1 in /usr/local/lib/python3.10/dist-packages (from spacy->OpenNMT-py) (6.4.0)\n",
            "Requirement already satisfied: tqdm<5.0.0,>=4.38.0 in /usr/local/lib/python3.10/dist-packages (from spacy->OpenNMT-py) (4.66.2)\n",
            "Requirement already satisfied: pydantic!=1.8,!=1.8.1,<3.0.0,>=1.7.4 in /usr/local/lib/python3.10/dist-packages (from spacy->OpenNMT-py) (2.6.4)\n",
            "Requirement already satisfied: packaging>=20.0 in /usr/local/lib/python3.10/dist-packages (from spacy->OpenNMT-py) (24.0)\n",
            "Requirement already satisfied: langcodes<4.0.0,>=3.2.0 in /usr/local/lib/python3.10/dist-packages (from spacy->OpenNMT-py) (3.3.0)\n",
            "Requirement already satisfied: cachetools<6.0,>=2.0.0 in /usr/local/lib/python3.10/dist-packages (from google-auth<3,>=1.6.3->tensorboard>=2.3->OpenNMT-py) (5.3.3)\n",
            "Requirement already satisfied: pyasn1-modules>=0.2.1 in /usr/local/lib/python3.10/dist-packages (from google-auth<3,>=1.6.3->tensorboard>=2.3->OpenNMT-py) (0.3.0)\n",
            "Requirement already satisfied: rsa<5,>=3.1.4 in /usr/local/lib/python3.10/dist-packages (from google-auth<3,>=1.6.3->tensorboard>=2.3->OpenNMT-py) (4.9)\n",
            "Requirement already satisfied: requests-oauthlib>=0.7.0 in /usr/local/lib/python3.10/dist-packages (from google-auth-oauthlib<2,>=0.5->tensorboard>=2.3->OpenNMT-py) (1.4.0)\n",
            "Requirement already satisfied: MarkupSafe>=2.0 in /usr/local/lib/python3.10/dist-packages (from jinja2->torch<2.3,>=2.1->OpenNMT-py) (2.1.5)\n",
            "Requirement already satisfied: annotated-types>=0.4.0 in /usr/local/lib/python3.10/dist-packages (from pydantic!=1.8,!=1.8.1,<3.0.0,>=1.7.4->spacy->OpenNMT-py) (0.6.0)\n",
            "Requirement already satisfied: pydantic-core==2.16.3 in /usr/local/lib/python3.10/dist-packages (from pydantic!=1.8,!=1.8.1,<3.0.0,>=1.7.4->spacy->OpenNMT-py) (2.16.3)\n",
            "Requirement already satisfied: charset-normalizer<4,>=2 in /usr/local/lib/python3.10/dist-packages (from requests<3,>=2.21.0->tensorboard>=2.3->OpenNMT-py) (3.3.2)\n",
            "Requirement already satisfied: idna<4,>=2.5 in /usr/local/lib/python3.10/dist-packages (from requests<3,>=2.21.0->tensorboard>=2.3->OpenNMT-py) (3.6)\n",
            "Requirement already satisfied: urllib3<3,>=1.21.1 in /usr/local/lib/python3.10/dist-packages (from requests<3,>=2.21.0->tensorboard>=2.3->OpenNMT-py) (2.0.7)\n",
            "Requirement already satisfied: certifi>=2017.4.17 in /usr/local/lib/python3.10/dist-packages (from requests<3,>=2.21.0->tensorboard>=2.3->OpenNMT-py) (2024.2.2)\n",
            "Requirement already satisfied: blis<0.8.0,>=0.7.8 in /usr/local/lib/python3.10/dist-packages (from thinc<8.3.0,>=8.2.2->spacy->OpenNMT-py) (0.7.11)\n",
            "Requirement already satisfied: confection<1.0.0,>=0.0.1 in /usr/local/lib/python3.10/dist-packages (from thinc<8.3.0,>=8.2.2->spacy->OpenNMT-py) (0.1.4)\n",
            "Requirement already satisfied: cloudpathlib<0.17.0,>=0.7.0 in /usr/local/lib/python3.10/dist-packages (from weasel<0.4.0,>=0.1.0->spacy->OpenNMT-py) (0.16.0)\n",
            "Requirement already satisfied: mpmath>=0.19 in /usr/local/lib/python3.10/dist-packages (from sympy->torch<2.3,>=2.1->OpenNMT-py) (1.3.0)\n",
            "Requirement already satisfied: pyasn1<0.6.0,>=0.4.6 in /usr/local/lib/python3.10/dist-packages (from pyasn1-modules>=0.2.1->google-auth<3,>=1.6.3->tensorboard>=2.3->OpenNMT-py) (0.5.1)\n",
            "Requirement already satisfied: oauthlib>=3.0.0 in /usr/local/lib/python3.10/dist-packages (from requests-oauthlib>=0.7.0->google-auth-oauthlib<2,>=0.5->tensorboard>=2.3->OpenNMT-py) (3.2.2)\n",
            "Installing collected packages: waitress, rapidfuzz, pyonmttok, pybind11, pyahocorasick, portalocker, nvidia-nvtx-cu12, nvidia-nvjitlink-cu12, nvidia-nccl-cu12, nvidia-curand-cu12, nvidia-cufft-cu12, nvidia-cuda-runtime-cu12, nvidia-cuda-nvrtc-cu12, nvidia-cuda-cupti-cu12, nvidia-cublas-cu12, ctranslate2, configargparse, colorama, sacrebleu, nvidia-cusparse-cu12, nvidia-cudnn-cu12, fasttext-wheel, nvidia-cusolver-cu12, OpenNMT-py\n",
            "Successfully installed OpenNMT-py-3.5.1 colorama-0.4.6 configargparse-1.7 ctranslate2-4.1.0 fasttext-wheel-0.9.2 nvidia-cublas-cu12-12.1.3.1 nvidia-cuda-cupti-cu12-12.1.105 nvidia-cuda-nvrtc-cu12-12.1.105 nvidia-cuda-runtime-cu12-12.1.105 nvidia-cudnn-cu12-8.9.2.26 nvidia-cufft-cu12-11.0.2.54 nvidia-curand-cu12-10.3.2.106 nvidia-cusolver-cu12-11.4.5.107 nvidia-cusparse-cu12-12.1.0.106 nvidia-nccl-cu12-2.19.3 nvidia-nvjitlink-cu12-12.4.99 nvidia-nvtx-cu12-12.1.105 portalocker-2.8.2 pyahocorasick-2.0.0 pybind11-2.11.1 pyonmttok-1.37.1 rapidfuzz-3.6.2 sacrebleu-2.4.1 waitress-3.0.0\n",
            "Collecting langdetect\n",
            "  Downloading langdetect-1.0.9.tar.gz (981 kB)\n",
            "\u001b[2K     \u001b[90m━━━━━━━━━━━━━━━━━━━━━━━━━━━━━━━━━━━━━━━━\u001b[0m \u001b[32m981.5/981.5 kB\u001b[0m \u001b[31m13.5 MB/s\u001b[0m eta \u001b[36m0:00:00\u001b[0m\n",
            "\u001b[?25h  Preparing metadata (setup.py) ... \u001b[?25l\u001b[?25hdone\n",
            "Requirement already satisfied: six in /usr/local/lib/python3.10/dist-packages (from langdetect) (1.16.0)\n",
            "Building wheels for collected packages: langdetect\n",
            "  Building wheel for langdetect (setup.py) ... \u001b[?25l\u001b[?25hdone\n",
            "  Created wheel for langdetect: filename=langdetect-1.0.9-py3-none-any.whl size=993227 sha256=f17801ba92feaacd9a08d7abd12a08d0e23f5eed3d55f8b8abf62617137b77da\n",
            "  Stored in directory: /root/.cache/pip/wheels/95/03/7d/59ea870c70ce4e5a370638b5462a7711ab78fba2f655d05106\n",
            "Successfully built langdetect\n",
            "Installing collected packages: langdetect\n",
            "Successfully installed langdetect-1.0.9\n"
          ]
        }
      ],
      "source": [
        "!pip install sentencepiece\n",
        "!pip3 install OpenNMT-py\n",
        "!pip install langdetect"
      ]
    },
    {
      "cell_type": "code",
      "execution_count": 2,
      "metadata": {
        "id": "HMvnB4x9L4ji"
      },
      "outputs": [],
      "source": [
        "import pandas as pd\n",
        "import numpy as np\n",
        "import csv\n",
        "import sentencepiece as spm\n",
        "import time\n",
        "from langdetect import detect, LangDetectException, DetectorFactory  # pre identifikáciu jazykov\n",
        "import unicodedata  # pre normalizáciu unicode\n",
        "\n",
        "import seaborn as sns\n",
        "import matplotlib.pyplot as plt\n",
        "\n",
        "import torch\n",
        "import sacrebleu"
      ]
    },
    {
      "cell_type": "code",
      "execution_count": 3,
      "metadata": {
        "id": "Kvc1X3N6Qy-I"
      },
      "outputs": [],
      "source": [
        "en_parl = \"/content/drive/MyDrive/Colab_Notebooks/Diplomovka/Dáta/europarl/europarl.sk-en.en\"\n",
        "sk_parl = \"/content/drive/MyDrive/Colab_Notebooks/Diplomovka/Dáta/europarl/europarl.sk-en.sk\"\n",
        "\n",
        "#en_parl = \"/content/drive/MyDrive/Colab_Notebooks/Diplomovka/Dáta/ParaCrawl/ParaCrawl.en\"\n",
        "#sk_parl = \"/content/drive/MyDrive/Colab_Notebooks/Diplomovka/Dáta/ParaCrawl/ParaCrawl.sk\"\n",
        "\n",
        "#en_parl = \"/content/drive/MyDrive/Colab_Notebooks/Diplomovka/Dáta/ParaCrawl_10/ParaCrawl.en\"\n",
        "#sk_parl = \"/content/drive/MyDrive/Colab_Notebooks/Diplomovka/Dáta/ParaCrawl_10/ParaCrawl.sk\""
      ]
    },
    {
      "cell_type": "markdown",
      "metadata": {
        "id": "Ua4lYSqcRE0A"
      },
      "source": [
        "# Filtrovanie/Čistenie korpusu"
      ]
    },
    {
      "cell_type": "code",
      "source": [
        "# funkcia na výpis hodnôt ako čas, počet zmenených riadkov atď.\n",
        "def print_status(operacia, pocet_riadkov, pocet_odst_riadkov, prejdeny_cas):\n",
        "    print(f\"{operacia} Riadky: {pocet_riadkov} | Odstránené riadky: {pocet_odst_riadkov} | Čas: {prejdeny_cas:.2f} sekúnd\")"
      ],
      "metadata": {
        "id": "nZ21lGfLvbTs"
      },
      "execution_count": 12,
      "outputs": []
    },
    {
      "cell_type": "markdown",
      "source": [
        "## Unicode normalizáca pre zistenie, aké znaky sa nachádzajú v našom korpuse"
      ],
      "metadata": {
        "id": "Oahi_FdYv9BY"
      }
    },
    {
      "cell_type": "markdown",
      "source": [
        "V prvotných pokusoch sa nachádzal v hlavnej časti predspracovania, ale v dôsledku neskorších zistení slúži skôr ako nástroj na zistenie špecifických znakov. Podľa zistení následne vieme vytvoriť pravidlá, ktoré upravia tieto znaky."
      ],
      "metadata": {
        "id": "s6DQxXN_wETp"
      }
    },
    {
      "cell_type": "code",
      "source": [
        "start_time = time.time()\n",
        "\n",
        "df_source = pd.read_csv(en_parl, names=['Source'], sep=\"\\0\", quoting=csv.QUOTE_NONE, skip_blank_lines=False) # dataset pre anglický text (source)\n",
        "df_target = pd.read_csv(sk_parl, names=['Target'], sep=\"\\0\", quoting=csv.QUOTE_NONE, skip_blank_lines=False) # dataset pre slovenský text (target)\n",
        "df = pd.concat([df_source, df_target], axis=1)\n",
        "print(\"Rozmery datasetu (riadky, stĺpce):\", df.shape)\n",
        "\n",
        "# Konverzia na string a uloženie pôvodných hodnôt pred normalizáciou\n",
        "original_source = df['Source'].astype(str)\n",
        "original_target = df['Target'].astype(str)\n",
        "\n",
        "# Unicode normalizácia\n",
        "df['Source'] = df['Source'].astype(str).apply(lambda x: unicodedata.normalize('NFKC', x))\n",
        "df['Target'] = df['Target'].astype(str).apply(lambda x: unicodedata.normalize('NFKC', x))\n",
        "\n",
        "# Porovnanie pôvodných a normalizovaných hodnôt ako reťazcov a spočítanie zmenených riadkov\n",
        "source_sum = (original_source != df['Source']).sum()\n",
        "target_sum = (original_target != df['Target']).sum()\n",
        "\n",
        "# Identifikácia riadkov, ktoré sa zmenili\n",
        "source_zmena = original_source != df['Source']\n",
        "target_zmena = original_target != df['Target']\n",
        "\n",
        "\n",
        "riadky = 20 # aby nevypísalo veľmi veľké množsto textu\n",
        "\n",
        "# Výpis zmenených viet pre Source (Anglické texty)\n",
        "print(\"Príklady zmenených riadkov pre 'Source':\")\n",
        "for pred, po in zip(original_source[source_zmena][:riadky], df['Source'][source_zmena][:riadky]):\n",
        "    print(f\"Pred: {pred} | Po: {po}\")\n",
        "\n",
        "# Výpis zmenených viet pre Target (Slovenské texty)\n",
        "print(\"\\nPríklady zmenených riadkov pre 'Target':\")\n",
        "for pred, po in zip(original_target[target_zmena][:riadky], df['Target'][target_zmena][:riadky]):\n",
        "    print(f\"Pred: {pred} | Po: {po}\")\n",
        "\n",
        "prejdeny_cas = time.time() - start_time\n",
        "print(f\"\\nNormalizácia na základe UNICODE znakov\\t\\t\\t         Riadky: {df.shape[0]} | Počet zmenených riadkov v source (ANG): {source_sum} | Počet zmenených riadkov v target (SK): {target_sum} | Čas: {prejdeny_cas:.2f} sekúnd\")"
      ],
      "metadata": {
        "colab": {
          "base_uri": "https://localhost:8080/"
        },
        "id": "FggIuqGfve6j",
        "outputId": "2a985e67-904c-40f7-c8ad-eb3fbeddcefb"
      },
      "execution_count": 5,
      "outputs": [
        {
          "output_type": "stream",
          "name": "stdout",
          "text": [
            "Rozmery datasetu (riadky, stĺpce): (640715, 2)\n",
            "Príklady zmenených riadkov pre 'Source':\n",
            "Pred: (The order of business was adopted¹) | Po: (The order of business was adopted1)\n",
            "Pred: Dr Sean Barrett, a senior lecturer in economics at Trinity College Dublin, has today described the reduction of the corporation tax rate in Ireland from 50% in the 1980s to 12½% a decade later as 'the most important policy measure that achieved the transformation of Ireland'. | Po: Dr Sean Barrett, a senior lecturer in economics at Trinity College Dublin, has today described the reduction of the corporation tax rate in Ireland from 50% in the 1980s to 121⁄2% a decade later as 'the most important policy measure that achieved the transformation of Ireland'.\n",
            "Pred: I agree that it is absolutely essential to avoid an increase of more than 2ºC in the global temperature, so as to avoid the most catastrophic scenarios, suggesting that the ambitious EU targets for the reduction of greenhouse gas emissions should be maintained. | Po: I agree that it is absolutely essential to avoid an increase of more than 2oC in the global temperature, so as to avoid the most catastrophic scenarios, suggesting that the ambitious EU targets for the reduction of greenhouse gas emissions should be maintained.\n",
            "Pred: The report considers the 2˚C ceiling on global warming to be a 'strategic objective' of the EU, while accepting that 'such a level of warming would already heavily impact on our society and individual lifestyles'. | Po: The report considers the 2 ̊C ceiling on global warming to be a 'strategic objective' of the EU, while accepting that 'such a level of warming would already heavily impact on our society and individual lifestyles'.\n",
            "Pred: Let me point out the following: according to the formal data, every 4½ seconds an employee has an accident and every 3½ minutes an employee loses his life. | Po: Let me point out the following: according to the formal data, every 41⁄2 seconds an employee has an accident and every 31⁄2 minutes an employee loses his life.\n",
            "Pred: This commitment is not in itself sufficient to stop the warming at the magic limit of 2ºC, as research tells us is required. | Po: This commitment is not in itself sufficient to stop the warming at the magic limit of 2oC, as research tells us is required.\n",
            "Pred: But I am pleased to learn that the 30% target will remain a priority objective in order to avoid the average temperature rising by more than 2 ºC, as was specified at the European Council meeting held in March 2007. | Po: But I am pleased to learn that the 30% target will remain a priority objective in order to avoid the average temperature rising by more than 2 oC, as was specified at the European Council meeting held in March 2007.\n",
            "Pred: According to calculations, Europe uses 500 billion m³ of gas per year, and this demand may grow, according to certain analyses, by as much as 30% in the next 20 years. | Po: According to calculations, Europe uses 500 billion m3 of gas per year, and this demand may grow, according to certain analyses, by as much as 30% in the next 20 years.\n",
            "Pred: This report calls on the Commission to monitor closely and analyse the very latest scientific research findings in order to assess in particular whether the EU's 2ºC target would really achieve the aim of preventing dangerous climate change effects. | Po: This report calls on the Commission to monitor closely and analyse the very latest scientific research findings in order to assess in particular whether the EU's 2oC target would really achieve the aim of preventing dangerous climate change effects.\n",
            "Pred: At the same time, it emphasises the importance of the EU and other industrialised nations setting, as a group, a medium-term target for cutting greenhouse gas emissions by 25-40% by 2020, as well as a long-term target for cutting emissions by at least 80% by 2050, compared to 1990, while continuing to focus on the target of limiting the rise in the average global temperature to 2ºC above pre-industrial levels, thereby giving a 50% probability of achieving this objective. | Po: At the same time, it emphasises the importance of the EU and other industrialised nations setting, as a group, a medium-term target for cutting greenhouse gas emissions by 25-40% by 2020, as well as a long-term target for cutting emissions by at least 80% by 2050, compared to 1990, while continuing to focus on the target of limiting the rise in the average global temperature to 2oC above pre-industrial levels, thereby giving a 50% probability of achieving this objective.\n",
            "Pred: The more than 150 recommendations included in this report cover most of the areas where improvements can be made to achieve the European objective of reducing the rise in temperature to 2ºC. | Po: The more than 150 recommendations included in this report cover most of the areas where improvements can be made to achieve the European objective of reducing the rise in temperature to 2oC.\n",
            "Pred: I believe that the reduction in pollution originating from various industrial sources will help the European Union achieve its aim of maintaining the rise in global temperature below 2 ºC. | Po: I believe that the reduction in pollution originating from various industrial sources will help the European Union achieve its aim of maintaining the rise in global temperature below 2 oC.\n",
            "Pred: This directive also covers small buildings with a useable area of less than 1 000 m² as well as minor energy-relevant renovation work, and also the replacement of boilers and windows. | Po: This directive also covers small buildings with a useable area of less than 1 000 m2 as well as minor energy-relevant renovation work, and also the replacement of boilers and windows.\n",
            "Pred: The 2ºC objective, or even the 1.5ºC objective, is mentioned in the Copenhagen Accord and, if we wish to achieve it, we must now really get down to business with reducing our own emissions - by more than 20% - and also with providing the funds for the first three years. | Po: The 2oC objective, or even the 1.5oC objective, is mentioned in the Copenhagen Accord and, if we wish to achieve it, we must now really get down to business with reducing our own emissions - by more than 20% - and also with providing the funds for the first three years.\n",
            "Pred: I voted for the European Parliament resolution of 25 November 2010 on the UN climate change conference in Cancún with a view to meeting the overall objective of limiting the annual mean surface temperature increase to 2 ºC ('the 2 ºC objective'). | Po: I voted for the European Parliament resolution of 25 November 2010 on the UN climate change conference in Cancún with a view to meeting the overall objective of limiting the annual mean surface temperature increase to 2 oC ('the 2 oC objective').\n",
            "Pred: It emphasises that substantive steps need to be agreed in Cancún to pave the way for the conclusion of a comprehensive international post-2012 agreement in South Africa in 2011, which should be in line with the latest developments in science and consistent with at least achieving the 2 ºC objective, without prejudice to moving to a 1.5 ºC temperature increase limit in order to safeguard the survival of all nations, peoples and ecosystems. | Po: It emphasises that substantive steps need to be agreed in Cancún to pave the way for the conclusion of a comprehensive international post-2012 agreement in South Africa in 2011, which should be in line with the latest developments in science and consistent with at least achieving the 2 oC objective, without prejudice to moving to a 1.5 oC temperature increase limit in order to safeguard the survival of all nations, peoples and ecosystems.\n",
            "Pred: in writing. - The ENVI resolution was fairly narrowly adopted (final vote 292/274/38) with the following changes/remarks: the reference to 'without prejudice to moving to a 1.5 ºC limit' was deleted with a narrow majority (RCV Amendment 14 and Amendment 18: 307/304/xx); the explicit mention that LULUCF and AAU loopholes could nullify all Annex I targets was deleted (Amendment 16: 316/301/xx), but other paragraphs requiring robust rules that are designed to deliver emissions reductions from Annex I remained. | Po: in writing. - The ENVI resolution was fairly narrowly adopted (final vote 292/274/38) with the following changes/remarks: the reference to 'without prejudice to moving to a 1.5 oC limit' was deleted with a narrow majority (RCV Amendment 14 and Amendment 18: 307/304/xx); the explicit mention that LULUCF and AAU loopholes could nullify all Annex I targets was deleted (Amendment 16: 316/301/xx), but other paragraphs requiring robust rules that are designed to deliver emissions reductions from Annex I remained.\n",
            "Pred: Our common goal is to limit global warming to the celebrated 2 ºC. | Po: Our common goal is to limit global warming to the celebrated 2 oC.\n",
            "Pred: This is why it is important to remember, for example, that the proposed regulation, through the amendment of Article 7.º-A, does not require a State to recognise as a marriage - even if only to ensure its dissolution - an act that is not considered as such by its national legislation, or which would be contrary to the principle of subsidiarity. | Po: This is why it is important to remember, for example, that the proposed regulation, through the amendment of Article 7.o-A, does not require a State to recognise as a marriage - even if only to ensure its dissolution - an act that is not considered as such by its national legislation, or which would be contrary to the principle of subsidiarity.\n",
            "Pred: Satellite pictures show that around 25 000 km² of African forests and other vegetation have been lost in the last 30 years. | Po: Satellite pictures show that around 25 000 km2 of African forests and other vegetation have been lost in the last 30 years.\n",
            "\n",
            "Príklady zmenených riadkov pre 'Target':\n",
            "Pred: (Program práce bol prijatý¹) | Po: (Program práce bol prijatý1)\n",
            "Pred: Súhlasím, že je bezpodmienečne nevyhnutné zabrániť zvýšeniu globálnej teploty o viac ako 2 ºC, a vyhnúť sa tak najkatastrofickejšiemu scenáru tým, že budeme poukazovať na to, aby sa podporovali odvážne ciele EÚ týkajúce sa zníženia emisií skleníkových plynov. | Po: Súhlasím, že je bezpodmienečne nevyhnutné zabrániť zvýšeniu globálnej teploty o viac ako 2 oC, a vyhnúť sa tak najkatastrofickejšiemu scenáru tým, že budeme poukazovať na to, aby sa podporovali odvážne ciele EÚ týkajúce sa zníženia emisií skleníkových plynov.\n",
            "Pred: Správa usudzuje, že strop globálneho otepľovania 2 ˚C je \"strategickým cieľom\" EÚ, a zároveň pripúšťa, že \"takáto úroveň otepľovania by mala zásadný vplyv na našu spoločnosť a životný štýl jednotlivcov\". | Po: Správa usudzuje, že strop globálneho otepľovania 2  ̊C je \"strategickým cieľom\" EÚ, a zároveň pripúšťa, že \"takáto úroveň otepľovania by mala zásadný vplyv na našu spoločnosť a životný štýl jednotlivcov\".\n",
            "Pred: Tento záväzok sám osebe nestačí na zastavenie otepľovania na magickej hranici 2 ºC, ktorú je podľa výskumníkov potrebné dosiahnuť. | Po: Tento záväzok sám osebe nestačí na zastavenie otepľovania na magickej hranici 2 oC, ktorú je podľa výskumníkov potrebné dosiahnuť.\n",
            "Pred: Podľa výpočtov Európa ročne spotrebuje 500 miliárd m³ plynu a dopyt po ňom môže podľa istých analýz v priebehu budúcich 20 rokov vzrásť až o 30 %. | Po: Podľa výpočtov Európa ročne spotrebuje 500 miliárd m3 plynu a dopyt po ňom môže podľa istých analýz v priebehu budúcich 20 rokov vzrásť až o 30 %.\n",
            "Pred: Táto správa vyzýva Komisiu, aby podrobne monitorovala a analyzovala najnovšie vedecké zistenia s cieľom vyhodnotiť najmä to, či sa pomocou plánu EÚ udržať limity 2 ºC skutočne podarí zabrániť nebezpečným vplyvom zmeny klímy. | Po: Táto správa vyzýva Komisiu, aby podrobne monitorovala a analyzovala najnovšie vedecké zistenia s cieľom vyhodnotiť najmä to, či sa pomocou plánu EÚ udržať limity 2 oC skutočne podarí zabrániť nebezpečným vplyvom zmeny klímy.\n",
            "Pred: Zároveň zdôrazňuje význam určenia EÚ a ostatných priemyselne rozvinutých krajín ako skupiny strednodobého cieľa zníženia emisií skleníkových plynov o 25 - 40 % do roku 2020, ako aj dlhodobého cieľa na zníženie emisií aspoň o 80 % do roku 2050 v porovnaní s rokom 1990, zatiaľ čo sa ďalej zameriava na cieľ obmedziť zvýšenie priemernej globálnej teploty o najviac 2 ºC v porovnaní s úrovňou predindustriálneho obdobia, čo bude znamenať 50 % pravdepodobnosť dosiahnutia tohto cieľa. | Po: Zároveň zdôrazňuje význam určenia EÚ a ostatných priemyselne rozvinutých krajín ako skupiny strednodobého cieľa zníženia emisií skleníkových plynov o 25 - 40 % do roku 2020, ako aj dlhodobého cieľa na zníženie emisií aspoň o 80 % do roku 2050 v porovnaní s rokom 1990, zatiaľ čo sa ďalej zameriava na cieľ obmedziť zvýšenie priemernej globálnej teploty o najviac 2 oC v porovnaní s úrovňou predindustriálneho obdobia, čo bude znamenať 50 % pravdepodobnosť dosiahnutia tohto cieľa.\n",
            "Pred: Viac ako 150 odporúčaní obsiahnutých v tejto správe pokrýva väčšinu oblastí, v ktorých je možné urobiť zlepšenia na dosiahnutie európskeho cieľa, ktorým je zníženie nárastu teploty na najviac 2 ºC. | Po: Viac ako 150 odporúčaní obsiahnutých v tejto správe pokrýva väčšinu oblastí, v ktorých je možné urobiť zlepšenia na dosiahnutie európskeho cieľa, ktorým je zníženie nárastu teploty na najviac 2 oC.\n",
            "Pred: Myslím si, že zníženie znečisťovania životného prostredia, ktoré spôsobujú viaceré priemyselné zdroje, pomôže dosiahnuť cieľ Európskej únie, udržať zvyšovanie globálnej teploty do 2 ºC. | Po: Myslím si, že zníženie znečisťovania životného prostredia, ktoré spôsobujú viaceré priemyselné zdroje, pomôže dosiahnuť cieľ Európskej únie, udržať zvyšovanie globálnej teploty do 2 oC.\n",
            "Pred: (RO) Názov Roºia Montanã musí čoraz známejšie znieť európskym inštitúciám i občanom. | Po: (RO) Názov Rooia Montanã musí čoraz známejšie znieť európskym inštitúciám i občanom.\n",
            "Pred: Táto smernica pokrýva aj malé budovy s využiteľnou plochou do 1 000 m², ako aj malé energetické obnovy a výmenu bojlerov a okien. | Po: Táto smernica pokrýva aj malé budovy s využiteľnou plochou do 1 000 m2, ako aj malé energetické obnovy a výmenu bojlerov a okien.\n",
            "Pred: V kodanskej dohode sa spomína cieľ 2 ºC, alebo dokonca cieľ 1,5 ºC. Ak ho chceme dosiahnuť, musíme sa teraz naozaj pustiť do práce a znížiť vlastné emisie - o vyše 20 % - a zároveň poskytnúť finančné prostriedky na prvé tri roky. | Po: V kodanskej dohode sa spomína cieľ 2 oC, alebo dokonca cieľ 1,5 oC. Ak ho chceme dosiahnuť, musíme sa teraz naozaj pustiť do práce a znížiť vlastné emisie - o vyše 20 % - a zároveň poskytnúť finančné prostriedky na prvé tri roky.\n",
            "Pred: Hlasovala som za uznesenie Európskeho parlamentu z 25. novembra 2010 o konferencii OSN o zmene klímy v Cancúne v záujme dosiahnutia celkového cieľa, ktorým je obmedzenie nárastu priemernej globálnej ročnej teploty zemského povrchu na 2 ºC (tzv. cieľ 2 ºC). | Po: Hlasovala som za uznesenie Európskeho parlamentu z 25. novembra 2010 o konferencii OSN o zmene klímy v Cancúne v záujme dosiahnutia celkového cieľa, ktorým je obmedzenie nárastu priemernej globálnej ročnej teploty zemského povrchu na 2 oC (tzv. cieľ 2 oC).\n",
            "Pred: Zdôrazňuje, že v Cancúne sa treba dohodnúť na zásadných krokoch, ktoré pripravia pôdu na uzatvorenie komplexnej medzinárodnej dohody po roku 2012 v Južnej Afrike v roku 2011, ktorá by mala byť v súlade s najnovším vedeckým vývojom a s dosahovaním minimálne cieľa 2 ºC s možnosťou prijať limit 1,5 ºC zvýšenia teploty s cieľom zaručiť prežitie všetkých národov, ľudí a ekosystémov. | Po: Zdôrazňuje, že v Cancúne sa treba dohodnúť na zásadných krokoch, ktoré pripravia pôdu na uzatvorenie komplexnej medzinárodnej dohody po roku 2012 v Južnej Afrike v roku 2011, ktorá by mala byť v súlade s najnovším vedeckým vývojom a s dosahovaním minimálne cieľa 2 oC s možnosťou prijať limit 1,5 oC zvýšenia teploty s cieľom zaručiť prežitie všetkých národov, ľudí a ekosystémov.\n",
            "Pred: Naším spoločným cieľom je obmedziť globálne otepľovanie na známe 2 ºC. | Po: Naším spoločným cieľom je obmedziť globálne otepľovanie na známe 2 oC.\n",
            "Pred: Satelitné snímky dokazujú, že za posledných 30 rokov bolo zničených približne 25 000 km² afrických lesov a inej vegetácie. | Po: Satelitné snímky dokazujú, že za posledných 30 rokov bolo zničených približne 25 000 km2 afrických lesov a inej vegetácie.\n",
            "Pred: Lichtenštajnsko je mikroštát nachádzajúci sa medzi Švajčiarskom a Rakúskom, ktorý má rozlohu 160 km² a 35 000 obyvateľov. | Po: Lichtenštajnsko je mikroštát nachádzajúci sa medzi Švajčiarskom a Rakúskom, ktorý má rozlohu 160 km2 a 35 000 obyvateľov.\n",
            "Pred: písomne. - Európska únia produkuje každý rok viac ako 40 000 m³ rádioaktívneho odpadu, z ktorého približne 80 % tvorí nízko rádioaktívny odpad s krátkym polčasom rozpadu a asi 5 % nízko rádioaktívny odpad s dlhým polčasom rozpadu. | Po: písomne. - Európska únia produkuje každý rok viac ako 40 000 m3 rádioaktívneho odpadu, z ktorého približne 80 % tvorí nízko rádioaktívny odpad s krátkym polčasom rozpadu a asi 5 % nízko rádioaktívny odpad s dlhým polčasom rozpadu.\n",
            "Pred: Na Seychelách bola vytvorená výhradná hospodárska zóna s rozlohou 1 374 000 km², patriaca k pevnine s rozlohou 453 km². | Po: Na Seychelách bola vytvorená výhradná hospodárska zóna s rozlohou 1 374 000 km2, patriaca k pevnine s rozlohou 453 km2.\n",
            "\n",
            "Normalizácia na základe UNICODE znakov\t\t\t         Riadky: 640715 | Počet zmenených riadkov v source (ANG): 22 | Počet zmenených riadkov v target (SK): 19 | Čas: 16.34 sekúnd\n"
          ]
        }
      ]
    },
    {
      "cell_type": "code",
      "source": [
        "## Výpočet priemernej dĺžky vety a priemerného počtu slov\n",
        "\n",
        "df_source = pd.read_csv(en_parl, names=['Source'], sep=\"\\0\", quoting=csv.QUOTE_NONE, skip_blank_lines=False) # dataset pre anglický text (source)\n",
        "df_target = pd.read_csv(sk_parl, names=['Target'], sep=\"\\0\", quoting=csv.QUOTE_NONE, skip_blank_lines=False) # dataset pre slovenský text (target)\n",
        "df = pd.concat([df_source, df_target], axis=1)\n",
        "print(\"Rozmery datasetu (riadky, stĺpce):\", df.shape)\n",
        "\n",
        "df = df.dropna() # nutné odstránenie NaN hodnôt, aby fungoval zvyšný kód\n",
        "\n",
        "df['Source_pocet_slov'] = df['Source'].apply(lambda x: len(x.split()))\n",
        "df['Target_pocet_slov'] = df['Target'].apply(lambda x: len(x.split()))\n",
        "\n",
        "# Vypočítanie priemerného množstva slov vo vetách\n",
        "priem_pocet_slov_source = df['Source_pocet_slov'].mean()\n",
        "priem_pocet_slov_target = df['Target_pocet_slov'].mean()\n",
        "\n",
        "# Vypočítanie maximálneho množstva slov vo vetách\n",
        "max_pocet_slov_source = df['Source_pocet_slov'].max()\n",
        "max_pocet_slov_target = df['Target_pocet_slov'].max()\n",
        "\n",
        "\n",
        "print(\"Priemerný počet slov vo vete (anglický text):\", priem_pocet_slov_source)\n",
        "print(\"Priemerný počet slov vo vete (slovenský text):\", priem_pocet_slov_target)\n",
        "\n",
        "print(\"Maximálny počet slov vo vete (anglický text):\", max_pocet_slov_source)\n",
        "print(\"Maximálny počet slov vo vete (slovenský text):\", max_pocet_slov_target)\n",
        "\n",
        "df['Source_dlzka_slova'] = df['Source'].apply(lambda x: sum(len(word) for word in x.split()) / len(x.split()))\n",
        "df['Target_dlzka_slova'] = df['Target'].apply(lambda x: sum(len(word) for word in x.split()) / len(x.split()))\n",
        "\n",
        "# Vypočínie priemernej dĺžky slov vo vetách\n",
        "priem_dlzka_slov_source = df['Source_dlzka_slova'].mean()\n",
        "priem_dlzka_slov_target = df['Target_dlzka_slova'].mean()\n",
        "\n",
        "# Vypočítanie maximálnej dĺžky slova vo vetách\n",
        "max_dlzka_slov_source = df['Source_dlzka_slova'].max()\n",
        "max_dlzka_slov_target = df['Target_dlzka_slova'].max()\n",
        "\n",
        "print(\"Priemerná dĺžka slova vo vete (anglický text):\", priem_dlzka_slov_source)\n",
        "print(\"Priemerná dĺžka slova vo vete (slovenský text):\", priem_dlzka_slov_target)\n",
        "\n",
        "print(\"Maximálna dĺžka slova vo vete (anglický text):\", max_dlzka_slov_source)\n",
        "print(\"Maximálnay dĺžka slova vo vete (slovenský text):\", max_dlzka_slov_target)"
      ],
      "metadata": {
        "colab": {
          "base_uri": "https://localhost:8080/"
        },
        "id": "4f9r5XwnrfeJ",
        "outputId": "25e9e951-fbd6-4a36-d9c3-38bb27ff8bb6"
      },
      "execution_count": 6,
      "outputs": [
        {
          "output_type": "stream",
          "name": "stdout",
          "text": [
            "Rozmery datasetu (riadky, stĺpce): (640715, 2)\n",
            "Priemerný počet slov vo vete (anglický text): 24.12922803826525\n",
            "Priemerný počet slov vo vete (slovenský text): 20.212435581307407\n",
            "Maximálny počet slov vo vete (anglický text): 254\n",
            "Maximálny počet slov vo vete (slovenský text): 219\n",
            "Priemerná dĺžka slova vo vete (anglický text): 5.041560076423107\n",
            "Priemerná dĺžka slova vo vete (slovenský text): 5.907997331197968\n",
            "Maximálna dĺžka slova vo vete (anglický text): 21.0\n",
            "Maximálnay dĺžka slova vo vete (slovenský text): 21.0\n"
          ]
        }
      ]
    },
    {
      "cell_type": "markdown",
      "source": [
        "### Vytvorenie grafov"
      ],
      "metadata": {
        "id": "oNe8ipDVtgMT"
      }
    },
    {
      "cell_type": "code",
      "source": [
        "# Graf normálneho rozdelenia počtu slov viet anglického a slovenského textu\n",
        "fig, ax = plt.subplots(figsize=(12, 6))\n",
        "\n",
        "sns.kdeplot(df['Source_pocet_slov'], ax=ax, label=\"Anglické vety\")\n",
        "sns.kdeplot(df['Target_pocet_slov'], ax=ax, label=\"Slovenské vety\")\n",
        "\n",
        "ax.set_xlim(0, 250)\n",
        "ax.set_xticks(range(0, 261, 10))\n",
        "\n",
        "ax.set_title(\"Normálne rozdelenie počtu slov vo vetách\")\n",
        "ax.set_xlabel(\"Počet slov\")\n",
        "ax.set_ylabel(\"Hustota\")\n",
        "ax.legend()"
      ],
      "metadata": {
        "colab": {
          "base_uri": "https://localhost:8080/",
          "height": 583
        },
        "id": "4HIFvg3ytQAx",
        "outputId": "bfdc0586-019f-4dc7-b6ea-05be5a723152"
      },
      "execution_count": 7,
      "outputs": [
        {
          "output_type": "execute_result",
          "data": {
            "text/plain": [
              "<matplotlib.legend.Legend at 0x7d283a9657e0>"
            ]
          },
          "metadata": {},
          "execution_count": 7
        },
        {
          "output_type": "display_data",
          "data": {
            "text/plain": [
              "<Figure size 1200x600 with 1 Axes>"
            ],
            "image/png": "[encoded data removed]"
          },
          "metadata": {}
        }
      ]
    },
    {
      "cell_type": "code",
      "source": [
        "# Graf normálneho rozdelenia dĺžky viet slov  anglického a slovenského textu\n",
        "fig, ax = plt.subplots(figsize=(12, 6))\n",
        "\n",
        "sns.kdeplot(df['Source_dlzka_slova'], ax=ax, label=\"Anglické slová\")\n",
        "sns.kdeplot(df['Target_dlzka_slova'], ax=ax, label=\"Slovenské slová\")\n",
        "\n",
        "ax.set_title(\"Normálne rozdelenie dĺžky slov vo vetách\")\n",
        "ax.set_xlabel(\"Dĺžka slova\")\n",
        "ax.set_ylabel(\"Hustota\")\n",
        "ax.legend()"
      ],
      "metadata": {
        "colab": {
          "base_uri": "https://localhost:8080/",
          "height": 585
        },
        "id": "eEjXtODfIOFi",
        "outputId": "aa274670-1bcc-42fd-b253-4225cca60132"
      },
      "execution_count": 8,
      "outputs": [
        {
          "output_type": "execute_result",
          "data": {
            "text/plain": [
              "<matplotlib.legend.Legend at 0x7d284ffe1ba0>"
            ]
          },
          "metadata": {},
          "execution_count": 8
        },
        {
          "output_type": "display_data",
          "data": {
            "text/plain": [
              "<Figure size 1200x600 with 1 Axes>"
            ],
            "image/png": "[encoded data removed]"
          },
          "metadata": {}
        }
      ]
    },
    {
      "cell_type": "markdown",
      "source": [
        "## Hlavné čistenie a úprava korpusu"
      ],
      "metadata": {
        "id": "X59ue6Zjxw_j"
      }
    },
    {
      "cell_type": "code",
      "execution_count": 13,
      "metadata": {
        "colab": {
          "base_uri": "https://localhost:8080/"
        },
        "id": "UxhHTU8SRJA4",
        "outputId": "b63d3f17-ea22-4e55-afbd-a20be4aa35a7"
      },
      "outputs": [
        {
          "output_type": "stream",
          "name": "stdout",
          "text": [
            "Rozmery datasetu (riadky, stĺpce): (320357, 2)\n",
            "Riadky bez NaN hodnôt\t\t\t\t\t         Riadky: 319943 | Odstránené riadky: 414 | Čas: 4.00 sekúnd\n",
            "Normalizácia na základe UNICODE znakov\t\t\t         Riadky: 319943 | Počet zmenených riadkov v source (ANG): 11 | Počet zmenených riadkov v target (SK): 8 | Čas: 11.27 sekúnd\n",
            "Odstránenie riadkov, kde sa riadok source rovná riadku target\t Riadky: 317987 | Odstránené riadky: 1956 | Čas: 11.38 sekúnd\n",
            "Odstránenie duplicitných/rovnakých riadkov\t\t\t Riadky: 310566 | Odstránené riadky: 7421 | Čas: 11.85 sekúnd\n",
            "Odstránenie príliš dlhých viet source/target\t\t         Riadky: 310563 | Odstránené riadky: 3 | Čas: 13.13 sekúnd\n",
            "Konverzia HTML znakov\t\t\t\t        \t Riadky: 310563 | Odstránené riadky: 0 | Čas: 14.98 sekúnd\n",
            "Odstránenie znakov, ktoré nie sú písmená/čísla\t\t\t Riadky: 310563 | Odstránené riadky: 0 | Čas: 19.64 sekúnd\n",
            "Riadky sú konvertované na malé písmená (lowercase)\t\t Riadky: 310563 | Odstránené riadky: 0 | Čas: 20.11 sekúnd\n",
            "Riadky bez NaN hodnôt\t\t\t\t\t         Riadky: 310559 | Odstránené riadky: 4 | Čas: 21.66 sekúnd\n"
          ]
        },
        {
          "output_type": "stream",
          "name": "stderr",
          "text": [
            "<ipython-input-13-8a646ff8cc8f>:127: SettingWithCopyWarning: \n",
            "A value is trying to be set on a copy of a slice from a DataFrame\n",
            "\n",
            "See the caveats in the documentation: https://pandas.pydata.org/pandas-docs/stable/user_guide/indexing.html#returning-a-view-versus-a-copy\n",
            "  df.drop(columns=['source_jazyk', 'target_jazyk'], inplace=True)\n"
          ]
        },
        {
          "output_type": "stream",
          "name": "stdout",
          "text": [
            "Kontrola jazykov\t\t\t\t\t         Riadky: 305807 | Odstránené riadky: 4752 | Čas: 2469.82 sekúnd\n",
            "Prehodenie poradia riadkov\t\t\t\t\t Riadky: 305807\n",
            "Celkový prejdený čas: 2469.89 sekúnd\n",
            "Source súbor uložený: /content/drive/MyDrive/Colab_Notebooks/Diplomovka/Dáta/europarl/europarl.sk-en.en-filtered.en\n",
            "Target súbor uložený: /content/drive/MyDrive/Colab_Notebooks/Diplomovka/Dáta/europarl/europarl.sk-en.sk-filtered.sk\n"
          ]
        }
      ],
      "source": [
        "start_time = time.time()\n",
        "\n",
        "df_source = pd.read_csv(en_parl, names=['Source'], sep=\"\\0\", quoting=csv.QUOTE_NONE, skip_blank_lines=False) # dataset pre anglický text (source)\n",
        "df_target = pd.read_csv(sk_parl, names=['Target'], sep=\"\\0\", quoting=csv.QUOTE_NONE, skip_blank_lines=False) # dataset pre slovenský text (target)\n",
        "df = pd.concat([df_source, df_target], axis=1)\n",
        "\n",
        "df = df.iloc[:int(df.shape[0]/2),:] # rozdelenie na polku\n",
        "\n",
        "print(\"Rozmery datasetu (riadky, stĺpce):\", df.shape)\n",
        "\n",
        "\n",
        "# Odstránenie NaN hodnôt\n",
        "pocet_riadkov = df.shape[0]\n",
        "df = df.dropna()\n",
        "odstranene_riadky = pocet_riadkov - df.shape[0]\n",
        "print_status(\"Riadky bez NaN hodnôt\\t\\t\\t\\t\\t        \", df.shape[0], odstranene_riadky, time.time() - start_time)\n",
        "\n",
        "\n",
        "# Zmeny niektorých znakov, na základe zistení pomocou unicode normalizácie NFKC\n",
        "pocet_riadkov = df.shape[0]\n",
        "\n",
        "original_source = df['Source'] # budúca referencia ako počet zmenených znakov\n",
        "original_target = df[\"Target\"] # budúca referencia ako počet zmenených znakov\n",
        "\n",
        "# Odstránenie exponentov, ktoré nie sú veďla čísel (väčšinou sa jedná o exponenty, ktoré referujú na zdroj, čo nie je žiadúce v našom modely) a zároveň sú dané slová dlhšie ako 3, aby sme omylom nevymazali znak pre miery ako napríklad km, m atď.\n",
        "df['Source'] = df['Source'].str.replace(r'(\\b\\w{4,})\\s*([¹²³⁴⁵⁶⁷⁸⁹⁰]+)', r'\\1', regex=True)\n",
        "df['Target'] = df['Target'].str.replace(r'(\\b\\w{4,})\\s*([¹²³⁴⁵⁶⁷⁸⁹⁰]+)', r'\\1', regex=True)\n",
        "\n",
        "# Transformácia º (U+00BA) a ˚ (U+02DA) na  ̊ (U+030A) pre zjednotenie znaku stupňa\n",
        "df['Source'] = df['Source'].str.replace('\\u00BA', '\\u030A')\n",
        "df['Target'] = df['Target'].str.replace('\\u00BA', '\\u030A')\n",
        "df['Source'] = df['Source'].str.replace('\\u02DA', '\\u030A')\n",
        "df['Target'] = df['Target'].str.replace('\\u02DA', '\\u030A')\n",
        "\n",
        "# Transformácia ½ (U+00BD) na ,5\n",
        "df['Source'] = df['Source'].str.replace('\\u00BD', ',5')\n",
        "df['Target'] = df['Target'].str.replace('\\u00BD', ',5')\n",
        "\n",
        "# Porovnanie pôvodných a normalizovaných hodnôt ako reťazcov a spočítanie zmenených riadkov\n",
        "source_sum = (original_source != df['Source']).sum()\n",
        "target_sum = (original_target != df['Target']).sum()\n",
        "\n",
        "prejdeny_cas = time.time() - start_time\n",
        "print(f\"Normalizácia na základe UNICODE znakov\\t\\t\\t         Riadky: {df.shape[0]} | Počet zmenených riadkov v source (ANG): {source_sum} | Počet zmenených riadkov v target (SK): {target_sum} | Čas: {prejdeny_cas:.2f} sekúnd\")\n",
        "\n",
        "\n",
        "# Odstránenie riadkov kde sa riadok source rovná riadku target\n",
        "pocet_riadkov = df.shape[0]\n",
        "df = df[df['Source'] != df['Target']]\n",
        "odstranene_riadky = pocet_riadkov - df.shape[0]\n",
        "print_status(\"Odstránenie riadkov, kde sa riadok source rovná riadku target\\t\", df.shape[0], odstranene_riadky, time.time() - start_time)\n",
        "\n",
        "\n",
        "# Odstránenie duplikátov\n",
        "pocet_riadkov = df.shape[0]\n",
        "df = df.drop_duplicates()\n",
        "odstranene_riadky = pocet_riadkov - df.shape[0]\n",
        "print_status(\"Odstránenie duplicitných/rovnakých riadkov\\t\\t\\t\", df.shape[0], odstranene_riadky, time.time() - start_time)\n",
        "\n",
        "\n",
        "# Odstránenie v dôsledku príliš dlhých viet source/target\n",
        "# Dĺžka, ktorá sa považuje za \"príliš dlhú\" záleží od jazyka\n",
        "pocet_riadkov = df.shape[0]\n",
        "max_sentence_length = 175\n",
        "df = df[~((df['Source'].str.count(' ') > max_sentence_length) | (df['Target'].str.count(' ') > max_sentence_length))]\n",
        "odstranene_riadky = pocet_riadkov - df.shape[0]\n",
        "print_status(\"Odstránenie príliš dlhých viet source/target\\t\\t        \", df.shape[0], odstranene_riadky, time.time() - start_time)\n",
        "\n",
        "\n",
        "# konverzia špeciálnych (HTML) znakov\n",
        "pocet_riadkov = df.shape[0]\n",
        "\n",
        "df['Source'] = df['Source'].str.replace(r'&amp;', '&', regex=True)\n",
        "df['Source'] = df['Source'].str.replace(r'&quot;', '\"', regex=True)\n",
        "df['Source'] = df['Source'].str.replace(r'&apos;', '\\'', regex=True)\n",
        "df['Source'] = df['Source'].str.replace(r'&lt;', '<', regex=True)\n",
        "df['Source'] = df['Source'].str.replace(r'&gt;', '>', regex=True)\n",
        "\n",
        "df['Target'] = df['Target'].str.replace(r'&amp;', '&', regex=True)\n",
        "df['Target'] = df['Target'].str.replace(r'&quot;', '\"', regex=True)\n",
        "df['Target'] = df['Target'].str.replace(r'&apos;', '\\'', regex=True)\n",
        "df['Target'] = df['Target'].str.replace(r'&lt;', '<', regex=True)\n",
        "df['Target'] = df['Target'].str.replace(r'&gt;', '>', regex=True)\n",
        "\n",
        "odstranene_riadky = pocet_riadkov - df.shape[0]\n",
        "print_status(\"Konverzia HTML znakov\\t\\t\\t\\t        \t\", df.shape[0], odstranene_riadky, time.time() - start_time)\n",
        "\n",
        "# Odstránenie znakov, ktoré nie sú písmená/čísla\n",
        "df['Source'] = df['Source'].str.replace(r'(?<![,\\d])[^,\\w\\s¹²³⁴⁵⁶⁷⁸⁹⁰\\u030A-]+', '', regex=True) # kód ponecháva čiarky pred číslami, exponenty čísel, znak stupňa a pomlčky a samozrejme písmená a čísla.\n",
        "df['Target'] = df['Target'].str.replace(r'(?<![,\\d])[^,\\w\\s¹²³⁴⁵⁶⁷⁸⁹⁰\\u030A-]+', '', regex=True)\n",
        "\n",
        "odstranene_riadky = pocet_riadkov - df.shape[0]\n",
        "print_status(\"Odstránenie znakov, ktoré nie sú písmená/čísla\\t\\t\\t\", df.shape[0], odstranene_riadky, time.time() - start_time)\n",
        "\n",
        "# konverzia na malé písmená\n",
        "pocet_riadkov = df.shape[0]\n",
        "df['Source'] = df['Source'].apply(lambda x: x[:1].lower() + x[1:])\n",
        "df['Target'] = df['Target'].apply(lambda x: x[:1].lower() + x[1:])\n",
        "prejdeny_cas = time.time() - start_time\n",
        "odstranene_riadky = pocet_riadkov - df.shape[0] # tu je to len, aby to pasovalo pre funkciu print_status\n",
        "print_status(\"Riadky sú konvertované na malé písmená (lowercase)\\t\\t\", df.shape[0], odstranene_riadky, time.time() - start_time)\n",
        "\n",
        "\n",
        "# Nahradenie prázdnych riadkov NaN\n",
        "df = df.replace(r'^\\s*$', np.nan, regex=True)\n",
        "\n",
        "# Dodatočné odstránenie riadkov, kde je NaN, ktoré mohli vzniknúť v dôsledku minulých krokov\n",
        "pocet_riadkov = df.shape[0]\n",
        "df = df.dropna()\n",
        "odstranene_riadky = pocet_riadkov - df.shape[0]\n",
        "print_status(\"Riadky bez NaN hodnôt\\t\\t\\t\\t\\t        \", df.shape[0], odstranene_riadky, time.time() - start_time)\n",
        "\n",
        "# kontrola jazyka - tento proces trvá najdlhšie\n",
        "def kontrola(text):\n",
        "    try:\n",
        "        return detect(text)\n",
        "    except LangDetectException:\n",
        "        return None\n",
        "\n",
        "pocet_riadkov = df.shape[0]\n",
        "DetectorFactory.seed = 0 # pridanie seed, aby sme vždy dostali rovnaký výsledok, keďže langdetect algoritmus je nedeterministický, čiže v niektorých prípadoch môže rozhodnúť odlišne\n",
        "\n",
        "df['source_jazyk'] = df['Source'].apply(lambda x: kontrola(x) if x and len(x.split()) > 1 else None) # ak obsahuje veta len jedno slovo, nevykoná sa nič\n",
        "df['target_jazyk'] = df['Target'].apply(lambda x: kontrola(x) if x and len(x.split()) > 1 else None)\n",
        "\n",
        "df = df[(df['source_jazyk'] == \"en\") & (df['target_jazyk'] == \"sk\")]\n",
        "df.drop(columns=['source_jazyk', 'target_jazyk'], inplace=True)\n",
        "odstranene_riadky = pocet_riadkov - df.shape[0]\n",
        "print_status(\"Kontrola jazykov\\t\\t\\t\\t\\t        \", df.shape[0], odstranene_riadky, time.time() - start_time)\n",
        "\n",
        "\n",
        "# Zmenenie poradia riadkov\n",
        "df = df.sample(frac=1, random_state=42).reset_index(drop=True) # pridanie random_state, aby sme dostali vždy rovnako zamiešaný dataset\n",
        "print(\"Prehodenie poradia riadkov\\t\\t\\t\\t\\t Riadky:\", df.shape[0])\n",
        "\n",
        "prejdeny_cas = time.time() - start_time\n",
        "print(f\"Celkový prejdený čas: {prejdeny_cas:.2f} sekúnd\")\n",
        "\n",
        "source_subor = en_parl+'-filtered.'+ \"en\"\n",
        "target_subor = sk_parl+'-filtered.'+ \"sk\"\n",
        "\n",
        "df_source_en = df[\"Source\"]\n",
        "df_target_sk = df[\"Target\"]\n",
        "\n",
        "df_source_en.to_csv(source_subor, header=False, index=False, quoting=csv.QUOTE_NONE, sep=\"\\n\")\n",
        "print(\"Source súbor uložený:\", source_subor)\n",
        "df_target_sk.to_csv(target_subor, header=False, index=False, quoting=csv.QUOTE_NONE, sep=\"\\n\")\n",
        "print(\"Target súbor uložený:\", target_subor)"
      ]
    },
    {
      "cell_type": "markdown",
      "metadata": {
        "id": "N4PQ8Sr03KY9"
      },
      "source": [
        "# Tokenizácia na subwordy"
      ]
    },
    {
      "cell_type": "code",
      "execution_count": 14,
      "metadata": {
        "id": "O15cQXs34F58"
      },
      "outputs": [],
      "source": [
        "en_filt = r\"/content/drive/MyDrive/Colab_Notebooks/Diplomovka/Dáta/europarl/europarl.sk-en.en-filtered.en\"\n",
        "sk_filt = r\"/content/drive/MyDrive/Colab_Notebooks/Diplomovka/Dáta/europarl/europarl.sk-en.sk-filtered.sk\"\n",
        "\n",
        "#en_filt = \"/content/drive/MyDrive/Colab_Notebooks/Diplomovka/Dáta/ParaCrawl/ParaCrawl.en-filtered.en\"\n",
        "#sk_filt = \"/content/drive/MyDrive/Colab_Notebooks/Diplomovka/Dáta/ParaCrawl/ParaCrawl.sk-filtered.sk\""
      ]
    },
    {
      "cell_type": "code",
      "execution_count": 15,
      "metadata": {
        "id": "c_Lvxmw13O6G",
        "colab": {
          "base_uri": "https://localhost:8080/"
        },
        "outputId": "ff8771a0-7591-4db5-ae0e-1e24bac010a9"
      },
      "outputs": [
        {
          "output_type": "stream",
          "name": "stdout",
          "text": [
            "Trénovanie SentencePiece modelu bolo pre source súbor dokončené\n",
            "Trénovanie SentencePiece modelu bolo pre target súbor dokončené\n"
          ]
        }
      ],
      "source": [
        "#https://github.com/google/sentencepiece\n",
        "\n",
        "\n",
        "#Parametre\n",
        "vocab_size = 8000\n",
        "character_coverage = 0.9995\n",
        "\n",
        "# pre prípad veľkých korpusov -> --train_extremely_large_corpus=false\n",
        "\n",
        "# Model pre tokenizáciu anglického textu (source) na subword\n",
        "source = f'--input={en_filt} --model_prefix=source --vocab_size={vocab_size} --hard_vocab_limit=false --character_coverage={character_coverage} --split_digits=true --model_type=bpe'\n",
        "spm.SentencePieceTrainer.train(source)\n",
        "print(\"Trénovanie SentencePiece modelu bolo pre source súbor dokončené\")\n",
        "\n",
        "\n",
        "# Model pre tokenizáciu slovenského textu (target) na subword\n",
        "target = f'--input={sk_filt} --model_prefix=target --vocab_size={vocab_size} --hard_vocab_limit=false --character_coverage={character_coverage} --split_digits=true --model_type=bpe'\n",
        "spm.SentencePieceTrainer.train(target)\n",
        "print(\"Trénovanie SentencePiece modelu bolo pre target súbor dokončené\")"
      ]
    },
    {
      "cell_type": "code",
      "execution_count": 17,
      "metadata": {
        "id": "XPIyMvNVGxTm"
      },
      "outputs": [],
      "source": [
        "source_model = r\"/content/source.model\"\n",
        "target_model = r\"/content/target.model\"\n",
        "source_subworded = \"/content/drive/MyDrive/Colab_Notebooks/Diplomovka/Dáta/europarl/source_subworded\"\n",
        "target_subworded = \"/content/drive/MyDrive/Colab_Notebooks/Diplomovka/Dáta/europarl/target_subworded\"\n",
        "\n",
        "#source_subworded = \"/content/drive/MyDrive/Colab_Notebooks/Diplomovka/Dáta/ParaCrawl/source_subworded\"\n",
        "#target_subworded = \"/content/drive/MyDrive/Colab_Notebooks/Diplomovka/Dáta/ParaCrawl/target_subworded\""
      ]
    },
    {
      "cell_type": "code",
      "execution_count": 18,
      "metadata": {
        "id": "oyAlHd07Hc0v",
        "colab": {
          "base_uri": "https://localhost:8080/"
        },
        "outputId": "c1df9bbd-51eb-419a-f678-71c3f1b49271"
      },
      "outputs": [
        {
          "output_type": "stream",
          "name": "stdout",
          "text": [
            "Spracovaných 100000 riadkov v <_io.TextIOWrapper name='/content/drive/MyDrive/Colab_Notebooks/Diplomovka/Dáta/europarl/europarl.sk-en.en-filtered.en' mode='r' encoding='utf-8'>\n",
            "Spracovaných 200000 riadkov v <_io.TextIOWrapper name='/content/drive/MyDrive/Colab_Notebooks/Diplomovka/Dáta/europarl/europarl.sk-en.en-filtered.en' mode='r' encoding='utf-8'>\n",
            "Spracovaných 300000 riadkov v <_io.TextIOWrapper name='/content/drive/MyDrive/Colab_Notebooks/Diplomovka/Dáta/europarl/europarl.sk-en.en-filtered.en' mode='r' encoding='utf-8'>\n",
            "Subwordovanie Source súboru bolo dokončené: /content/drive/MyDrive/Colab_Notebooks/Diplomovka/Dáta/europarl/source_subworded\n",
            "Spracovaných 100000 riadkov v <_io.TextIOWrapper name='/content/drive/MyDrive/Colab_Notebooks/Diplomovka/Dáta/europarl/europarl.sk-en.sk-filtered.sk' mode='r' encoding='utf-8'>\n",
            "Spracovaných 200000 riadkov v <_io.TextIOWrapper name='/content/drive/MyDrive/Colab_Notebooks/Diplomovka/Dáta/europarl/europarl.sk-en.sk-filtered.sk' mode='r' encoding='utf-8'>\n",
            "Spracovaných 300000 riadkov v <_io.TextIOWrapper name='/content/drive/MyDrive/Colab_Notebooks/Diplomovka/Dáta/europarl/europarl.sk-en.sk-filtered.sk' mode='r' encoding='utf-8'>\n",
            "Subwordovanie Target súboru bolo dokončené: /content/drive/MyDrive/Colab_Notebooks/Diplomovka/Dáta/europarl/target_subworded\n"
          ]
        }
      ],
      "source": [
        "def subwordovanie(sp, vstup, vystup, interval=100000):\n",
        "    try:\n",
        "        with open(vstup, encoding=\"utf-8\") as vstup, open(vystup, \"w+\", encoding=\"utf-8\") as vystup:\n",
        "            for i, rad in enumerate(vstup):\n",
        "                rad = rad.strip()\n",
        "                token = sp.encode_as_pieces(rad)\n",
        "                vystup.write(\" \".join(token) + \"\\n\")\n",
        "\n",
        "                if (i + 1) % interval == 0:\n",
        "                    print(f\"Spracovaných {i + 1} riadkov v {vstup}\")\n",
        "    except Exception as e:\n",
        "        print(f\"Nastala chyba v procese {vstup}: {e}\")\n",
        "\n",
        "sp = spm.SentencePieceProcessor()\n",
        "\n",
        "sp.load(source_model)\n",
        "subwordovanie(sp, en_filt, source_subworded)\n",
        "print(f\"Subwordovanie Source súboru bolo dokončené: {source_subworded}\")\n",
        "\n",
        "sp.load(target_model)\n",
        "subwordovanie(sp, sk_filt, target_subworded)\n",
        "print(f\"Subwordovanie Target súboru bolo dokončené: {target_subworded}\")"
      ]
    },
    {
      "cell_type": "markdown",
      "metadata": {
        "id": "z2unc3y_OBsW"
      },
      "source": [
        "## Výpis riadkov súboru"
      ]
    },
    {
      "cell_type": "code",
      "execution_count": 19,
      "metadata": {
        "id": "HJE75HqLOJK3",
        "colab": {
          "base_uri": "https://localhost:8080/"
        },
        "outputId": "d2502aeb-d722-44ca-efba-b5c7cf2a280d"
      },
      "outputs": [
        {
          "output_type": "stream",
          "name": "stdout",
          "text": [
            "▁we ▁share ▁your ▁view ▁on ▁that ▁point\n",
            "▁this ▁is ▁a ▁reference ▁to ▁the ▁ Y am al - Europe ▁natural ▁gas ▁pipeline ▁and ▁the ▁F ri ends hip ▁oil ▁pipeline\n",
            "▁we ▁in ▁Europe ▁realise ▁that ▁rest oring ▁the ▁financial ▁markets ▁to ▁normal ▁conditions ▁of ▁operation ▁depends ▁largely ▁on ▁the ▁American ▁financial ▁market ▁returning ▁to ▁normal\n",
            "▁i ▁am ▁really ▁more ▁than ▁glad ▁to ▁see ▁that ▁Mr ▁M lad en ov s ▁report ▁is ▁doing ▁this ▁through ▁the ▁good ▁set - up ▁of ▁the ▁pie ces ▁of ▁his ▁work ▁and ▁also ▁has ▁such ▁n ice ▁and ▁meaning ful ▁support ▁from ▁his ▁colleagues\n",
            "▁author ▁- ▁ES ▁Mr ▁President , ▁the ▁human ▁rights ▁situation ▁in ▁Iran ▁has ▁deterior ated ▁dram atically ▁since ▁ 2 0 0 5 .\n",
            "▁the ▁Council ▁will ▁consider ▁the ▁EUs ▁negotiating ▁stance ▁for ▁the ▁Copenhagen ▁climate ▁conference\n",
            "\n",
            "▁na ▁tento ▁bod ▁máme ▁rovnaký ▁názor ▁ako ▁vy\n",
            "▁toto ▁je ▁odkaz ▁na ▁plynovod ▁J am al ▁- ▁Európa ▁a ▁ro pov od u ▁D ru ž ba\n",
            "▁v ▁Európe ▁si ▁uvedomujeme , ▁že ▁obnov a ▁finančných ▁trhov ▁späť ▁k ▁norm álnym ▁podmien kam ▁fungovania ▁závisí ▁do ▁zna čnej ▁miery ▁od ▁amerických ▁finančných ▁trhov ▁vra c ajúcich ▁sa ▁do ▁norm álu\n",
            "▁som ▁viac ▁než ▁rada , ▁že ▁správa ▁pána ▁M lad en ova ▁to ▁dosah uje ▁prostredníctvom ▁dobrej ▁prípravy ▁jednot livo stí ▁jeho ▁d iela ▁a ▁teší ▁sa ▁aj ▁pek nej ▁a ▁z myslu pl nej ▁podpore ▁jeho ▁kolegov\n",
            "▁autor ▁- ▁ES ▁Vážený ▁pán ▁predsedajúci , ▁situácia ▁v ▁oblasti ▁ľudských ▁práv ▁sa ▁od ▁roku ▁ 2 0 0 5 ▁v ▁I rá ne ▁dra maticky ▁zhorš ila\n",
            "▁európska ▁rada ▁o c ení ▁postoj ▁EÚ ▁počas ▁rokovaní ▁na ▁konferencii ▁o ▁zmene ▁klímy ▁v ▁Kodani\n"
          ]
        }
      ],
      "source": [
        "with open(source_subworded, \"r\", encoding=\"utf-8\") as file:\n",
        "    for i, line in enumerate(file):\n",
        "        print(line.strip())\n",
        "        if i >= 5:\n",
        "            break\n",
        "\n",
        "print()\n",
        "\n",
        "with open(target_subworded, \"r\", encoding=\"utf-8\") as file:\n",
        "    for i, line in enumerate(file):\n",
        "        print(line.strip())\n",
        "        if i >= 5:\n",
        "            break"
      ]
    },
    {
      "cell_type": "markdown",
      "metadata": {
        "id": "KaZHsKCBONyA"
      },
      "source": [
        "# Rozdelenie dát na množiny"
      ]
    },
    {
      "cell_type": "markdown",
      "metadata": {
        "id": "3quZI0QiOR02"
      },
      "source": [
        "Dáta rozdelujeme do 3 častí:\n",
        "\n",
        "    trénovací dataset - používa sa na trénovanie modelu;\n",
        "    development (validačný) dataset - používa sa na validáciu modelu počas trénovania, aby sa mohli vylepšiť parametre modelu\n",
        "    testovací dataset - používa sa na konečné vyhodotenie (evaluáciu) modelu na modelom nevidených dátach"
      ]
    },
    {
      "cell_type": "code",
      "execution_count": 28,
      "metadata": {
        "id": "nu2oO6BoPGp3"
      },
      "outputs": [],
      "source": [
        "source_subor = r\"/content/drive/MyDrive/Colab_Notebooks/Diplomovka/Dáta/europarl/source_subworded\"\n",
        "target_subor = r\"/content/drive/MyDrive/Colab_Notebooks/Diplomovka/Dáta/europarl/target_subworded\"\n",
        "\n",
        "\n",
        "#source_subor = r\"/content/drive/MyDrive/Colab_Notebooks/Diplomovka/Dáta/ParaCrawl/source_subworded\"\n",
        "#target_subor = r\"/content/drive/MyDrive/Colab_Notebooks/Diplomovka/Dáta/ParaCrawl/target_subworded\""
      ]
    },
    {
      "cell_type": "code",
      "execution_count": 30,
      "metadata": {
        "id": "9-kr-n2_OVdo"
      },
      "outputs": [],
      "source": [
        "# Veľkosť súborov pre dev a test text\n",
        "dataset_velkost = 2000\n",
        "\n",
        "development = dataset_velkost\n",
        "test = dataset_velkost\n",
        "\n",
        "\n",
        "def train_test_dev(development, test, source_subor, target_subor):\n",
        "    df_source = pd.read_csv(source_subor, names=['Source'], sep=\"\\0\", quoting=csv.QUOTE_NONE, skip_blank_lines=False, encoding=\"utf-8\")\n",
        "    df_target = pd.read_csv(target_subor, names=['Target'], sep=\"\\0\", quoting=csv.QUOTE_NONE, skip_blank_lines=False, encoding=\"utf-8\")\n",
        "    df = pd.concat([df_source, df_target], axis=1)\n",
        "\n",
        "    # Odstránenie prázdnych riadkov\n",
        "    df.dropna(inplace=True)\n",
        "\n",
        "    # Zamiešanie datasetu\n",
        "    df = df.sample(frac=1, random_state=42).reset_index(drop=True) # pridanie random_state, aby sme dostali vždy rovnako zamiešaný dataset\n",
        "\n",
        "    # Rozdelenie datasetu\n",
        "    df_dev = df[:development]\n",
        "    df_test = df[development:development + test]\n",
        "    df_train = df[development + test:]\n",
        "\n",
        "    def vytvorenie_suboru(df, source_subor, target_subor):\n",
        "        df['Source'].to_csv(source_subor, index=False, header=False, quoting=csv.QUOTE_NONE, sep='\\n')\n",
        "        df['Target'].to_csv(target_subor, index=False, header=False, quoting=csv.QUOTE_NONE, sep='\\n')\n",
        "\n",
        "\n",
        "    vytvorenie_suboru(df_train, source_subor + '.train', target_subor + '.train')\n",
        "    vytvorenie_suboru(df_dev, source_subor + '.dev', target_subor + '.dev')\n",
        "    vytvorenie_suboru(df_test, source_subor + '.test', target_subor + '.test')\n",
        "\n",
        "\n",
        "train_test_dev(development, test, source_subor, target_subor)"
      ]
    },
    {
      "cell_type": "code",
      "execution_count": 31,
      "metadata": {
        "id": "bKTRESdMD1NB"
      },
      "outputs": [],
      "source": [
        "source_test = r\"/content/drive/MyDrive/Colab_Notebooks/Diplomovka/Dáta/europarl/source_subworded.test\"\n",
        "target_test = r\"/content/drive/MyDrive/Colab_Notebooks/Diplomovka/Dáta/europarl/target_subworded.test\"\n",
        "\n",
        "#source_test = r\"/content/drive/MyDrive/Colab_Notebooks/Diplomovka/Dáta/ParaCrawl/source_subworded.test\"\n",
        "#target_test = r\"/content/drive/MyDrive/Colab_Notebooks/Diplomovka/Dáta/ParaCrawl/target_subworded.test\""
      ]
    },
    {
      "cell_type": "code",
      "execution_count": 32,
      "metadata": {
        "id": "Ex43E6oqDmiM",
        "colab": {
          "base_uri": "https://localhost:8080/"
        },
        "outputId": "4c9c6f31-8ca9-4189-a12a-95b139f4a2c3"
      },
      "outputs": [
        {
          "output_type": "stream",
          "name": "stdout",
          "text": [
            "▁i ▁have ▁caused ▁some ▁en quir ies ▁to ▁be ▁made ▁and ▁my ▁first ▁point ▁would ▁be ▁that ▁we ▁are ▁dealing ▁with ▁ Q uestion ▁Time ▁to ▁the ▁Commission , ▁not ▁to ▁a ▁particular ▁Commissioner\n",
            "▁he ▁served ▁as ▁President ▁of ▁the ▁European ▁Commission ▁from ▁ 1 9 8 1 ▁until ▁ 1 9 8 5 .\n",
            "▁in ▁writing ▁- ▁IT ▁Madam ▁President , ▁ladies ▁and ▁gentlemen , ▁I ▁voted ▁in ▁favour ▁of ▁Mrs ▁T o ias ▁report ▁on ▁the ▁social ▁economy\n",
            "▁we ▁want ▁a ▁judicial ▁res ervation , ▁a ▁judicial ▁decision ▁on ▁fundamental ▁rights\n",
            "▁for ▁example , ▁desertification ▁may ▁inten sify ▁an ▁existing ▁general ▁cl im atic ▁tend ency ▁towards ▁greater ▁d ry ness , ▁or ▁it ▁may ▁initially ▁arise ▁from ▁a ▁change ▁in ▁the ▁local ▁climate\n",
            "▁i ▁would ▁like ▁to ▁remind ▁the ▁Commissioner ▁and ▁the ▁President ▁that ▁the ▁European ▁Parliament ▁has ▁already ▁expressed ▁its ▁support , ▁by ▁a ▁large ▁majority , ▁on ▁this ▁issue\n",
            "\n",
            "▁dala ▁som ▁zistiť ▁niekoľko ▁informácií ▁a ▁moja ▁prvá ▁pripomien ka ▁je , ▁že ▁v ▁otázky ▁vo ▁vyh rad enom ▁čase ▁sú ▁pre ▁Komisiu ▁a ▁nie ▁pre ▁konkrétne ho ▁komisára\n",
            "▁od ▁roku ▁ 1 9 8 1 ▁až ▁do ▁roku ▁ 1 9 8 5 ▁vykonáv al ▁funk ciu ▁predsedu ▁Európskej ▁komisie\n",
            "▁vážená ▁pani ▁predsedajúca , ▁dámy ▁a ▁páni , ▁hlasoval ▁som ▁za ▁správu ▁pani ▁To ia ovej ▁o ▁sociál nom ▁hospodárstve\n",
            "▁chceme ▁súd nu ▁vý hra du , ▁súd ne ▁rozhodnutie ▁o ▁základných ▁právach\n",
            "▁napríklad ▁rozšir ovanie ▁p ú šte ▁môže ▁zintenzív niť ▁exist ujúci ▁klimatick ý ▁trend ▁k ▁väčšie mu ▁su chu ▁alebo ▁sa ▁tento ▁proces ▁môže ▁spu stiť ▁z ▁dôvodu ▁zmeny ▁miestnej ▁klímy\n",
            "▁chcel ▁by ▁som ▁pripomenúť ▁pani ▁komisárke ▁a ▁úrad ujúce mu ▁predsedovi , ▁že ▁Európsky ▁parlament ▁už ▁vyjadril ▁svoju ▁podporu ▁tejto ▁otázke ▁veľkou ▁väčšinou\n"
          ]
        }
      ],
      "source": [
        "with open(source_test, \"r\", encoding=\"utf-8\") as file:\n",
        "    for i, line in enumerate(file):\n",
        "        print(line.strip())\n",
        "        if i >= 5:\n",
        "            break\n",
        "\n",
        "print()\n",
        "\n",
        "with open(target_test, \"r\", encoding=\"utf-8\") as file:\n",
        "    for i, line in enumerate(file):\n",
        "        print(line.strip())\n",
        "        if i >= 5:\n",
        "            break"
      ]
    },
    {
      "cell_type": "markdown",
      "source": [
        "# Vytvorenie konfigurácie a trénovanie modelu"
      ],
      "metadata": {
        "id": "I2_hUU9Yx8nj"
      }
    },
    {
      "cell_type": "code",
      "execution_count": 37,
      "metadata": {
        "id": "Hnqodi2iQ2CX"
      },
      "outputs": [],
      "source": [
        "config = '''\n",
        "\n",
        "seed: 42 # aby sme dosiahli rovnakých výsledkov a pre lepšie porovnávanie medzi modelmi\n",
        "\n",
        "save_data: vocab  # zložka, kde sa uloží slovná zásoba vygenerovaná pomocou onmt_build_vocab\n",
        "\n",
        "data:\n",
        "    corpus:\n",
        "        # súbory určené na trénovanie\n",
        "        path_src: /content/drive/MyDrive/Colab_Notebooks/Diplomovka/Dáta/europarl/source_subworded.train\n",
        "        path_tgt: /content/drive/MyDrive/Colab_Notebooks/Diplomovka/Dáta/europarl/target_subworded.train\n",
        "\n",
        "        #path_src: /content/drive/MyDrive/Colab_Notebooks/Diplomovka/Dáta/ParaCrawl/source_subworded.train\n",
        "        #path_tgt: /content/drive/MyDrive/Colab_Notebooks/Diplomovka/Dáta/ParaCrawl/target_subworded.train\n",
        "        transforms: [filtertoolong]\n",
        "        weight: 1\n",
        "    valid:\n",
        "        # súbory určené na validáciu\n",
        "        path_src: /content/drive/MyDrive/Colab_Notebooks/Diplomovka/Dáta/europarl/source_subworded.dev\n",
        "        path_tgt: /content/drive/MyDrive/Colab_Notebooks/Diplomovka/Dáta/europarl/target_subworded.dev\n",
        "\n",
        "        #path_src: /content/drive/MyDrive/Colab_Notebooks/Diplomovka/Dáta/ParaCrawl/source_subworded.dev\n",
        "        #path_tgt: /content/drive/MyDrive/Colab_Notebooks/Diplomovka/Dáta/ParaCrawl/target_subworded.dev\n",
        "        transforms: [filtertoolong]\n",
        "\n",
        "# súbory, v ktorých je uložená slovná zásoba pre source (anglický jazyk) a target (slovenský jazyk) onmt_build_vocab\n",
        "src_vocab: vocab/source.vocab\n",
        "tgt_vocab: vocab/target.vocab\n",
        "\n",
        "# veľkosť slovnej zásoby - hodnoty by mali byť rovnaké ako v sentencepiece\n",
        "src_vocab_size: 8000\n",
        "tgt_vocab_size: 8000\n",
        "\n",
        "src_subword_model: /content/source.model\n",
        "tgt_subword_model: /content/target.model\n",
        "\n",
        "# Miesto uloženia súborov\n",
        "#log_file:   /content/drive/MyDrive/Colab_Notebooks/Diplomovka/Dáta/europarl/train.log\n",
        "save_model: /content/drive/MyDrive/Colab_Notebooks/Diplomovka/Dáta/europarl/complete_model\n",
        "\n",
        "#save_model: /content/drive/MyDrive/Colab_Notebooks/Diplomovka/Dáta/ParaCrawl/complete_model\n",
        "\n",
        "train_steps: 100000 # počet krokov trénovania\n",
        "valid_steps: 5000  # po n krokoch vykonať validáciu pomocou dev setu\n",
        "warmup_steps: 8000 # počet by mal byť priamoúmerný počtu krokov trénovania\n",
        "early_stopping: 4 # ak sa model nezlepší po n validáciach, trénovanie zastaví\n",
        "save_checkpoint_steps: 5000   # uloženie modelu po n krokoch\n",
        "keep_checkpoint: 10  # počet posledných n uložených modelov\n",
        "report_every: 500 # výpis informácií o trénovaní po n-krokoch\n",
        "\n",
        "decoder_type: transformer\n",
        "encoder_type: transformer\n",
        "word_vec_size: 512   # dimenzionálnosť word embeddingu\n",
        "hidden_size: 512     # dimenzionálnosť skrytých stavov v enkódery a dekódery\n",
        "layers: 6             # počet vrstiev v enkódery a dekódery   - alternatíva je enc_layers a dec_layers\n",
        "transformer_ff: 2048  # dimenzionálnosť doprednej vrstvy v transformery\n",
        "heads: 8              # počet attention head v multi-head-attention\n",
        "\n",
        "accum_count: 2 # počet n krokov, po ktorých sa aktualizujú parametre\n",
        "optim: adam\n",
        "adam_beta1: 0.9\n",
        "adam_beta2: 0.998\n",
        "decay_method: noam\n",
        "learning_rate: 2.0    # miera učenia\n",
        "max_grad_norm: 0.0    # gradient clipping, pomáha, aby v modely nenastal explodujúci gradient (nemožnosť modelu sa učiť v dôsledku vysokej miery učenia), emôže pomôcť pre lepšiu stabilitu modelu\n",
        "\n",
        "param_init: 0.0\n",
        "param_init_glorot: 'true'\n",
        "position_encoding: 'true'\n",
        "\n",
        "batch_size: 1024\n",
        "valid_batch_size: 1024\n",
        "batch_type: tokens\n",
        "normalization: tokens\n",
        "max_generator_batches: 2\n",
        "\n",
        "dropout: 0.1           # regularizácia, ktorá vytvára šancu (0.1 = 10%) na \"vypnutie\" nodu vo vrstve behom trénovania, pomáha proti overfittingu\n",
        "label_smoothing: 0.1\n",
        "\n",
        "world_size: 1\n",
        "gpu_ranks: 0\n",
        "\n",
        "# INFO\n",
        "log_file: train.log\n",
        "log_level: INFO\n",
        "\n",
        "'''\n",
        "\n",
        "with open(\"config.yaml\", \"w+\", encoding=\"utf-8\") as config_yaml:\n",
        "  config_yaml.write(config)"
      ]
    },
    {
      "cell_type": "code",
      "execution_count": null,
      "metadata": {
        "id": "sQvEi-oUaTp5",
        "colab": {
          "base_uri": "https://localhost:8080/"
        },
        "outputId": "b1fb94d1-c7a0-4993-8d51-a7337cbbf2f6"
      },
      "outputs": [
        {
          "output_type": "stream",
          "name": "stdout",
          "text": [
            "GPU 0: Tesla T4 (UUID: GPU-2ad78e68-7908-2501-57d8-2e092505cd05)\n"
          ]
        }
      ],
      "source": [
        "!nvidia-smi -L"
      ]
    },
    {
      "cell_type": "markdown",
      "metadata": {
        "id": "UATW2mh1SYHe"
      },
      "source": [
        "Použíjeme Framework OpenNMT"
      ]
    },
    {
      "cell_type": "code",
      "execution_count": 40,
      "metadata": {
        "id": "noLMeIygRw8W",
        "colab": {
          "base_uri": "https://localhost:8080/"
        },
        "outputId": "e3e7e0f0-7f88-452c-db1c-d408de0bd1f3"
      },
      "outputs": [
        {
          "output_type": "stream",
          "name": "stdout",
          "text": [
            "[2024-03-19 08:57:57,669 INFO] Counter vocab from -1 samples.\n",
            "[2024-03-19 08:57:57,670 INFO] n_sample=-1: Build vocab on full datasets.\n",
            "[2024-03-19 08:58:12,938 INFO] * Transform statistics for corpus(100.00%):\n",
            "\t\t\t* FilterTooLongStats(filtered=17)\n",
            "\n",
            "[2024-03-19 08:58:12,959 INFO] Counters src: 8060\n",
            "[2024-03-19 08:58:12,960 INFO] Counters tgt: 8069\n"
          ]
        }
      ],
      "source": [
        "# Vytvorenie vocabulary\n",
        "!onmt_build_vocab -config config.yaml -n_sample -1"
      ]
    },
    {
      "cell_type": "code",
      "execution_count": 41,
      "metadata": {
        "id": "XCIZCKtkUH83",
        "colab": {
          "base_uri": "https://localhost:8080/"
        },
        "outputId": "0d1387f5-8779-4a85-b52b-7bb034937f81"
      },
      "outputs": [
        {
          "output_type": "stream",
          "name": "stdout",
          "text": [
            "[2024-03-19 08:58:16,787 INFO] Parsed 2 corpora from -data.\n",
            "[2024-03-19 08:58:16,787 INFO] Get special vocabs from Transforms: {'src': [], 'tgt': []}.\n",
            "[2024-03-19 08:58:16,819 INFO] The first 10 tokens of the vocabs are:['<unk>', '<blank>', '<s>', '</s>', '▁the', ',', '▁of', '▁to', '▁and', '▁in']\n",
            "[2024-03-19 08:58:16,819 INFO] The decoder start token is: <s>\n",
            "[2024-03-19 08:58:16,819 INFO] Building model...\n",
            "[2024-03-19 08:58:17,532 INFO] Switching model to float32 for amp/apex_amp\n",
            "[2024-03-19 08:58:17,532 INFO] Non quantized layer compute is fp32\n",
            "[2024-03-19 08:58:17,808 INFO] NMTModel(\n",
            "  (encoder): TransformerEncoder(\n",
            "    (embeddings): Embeddings(\n",
            "      (make_embedding): Sequential(\n",
            "        (emb_luts): Elementwise(\n",
            "          (0): Embedding(8000, 512, padding_idx=1)\n",
            "        )\n",
            "        (pe): PositionalEncoding()\n",
            "      )\n",
            "      (dropout): Dropout(p=0.1, inplace=False)\n",
            "    )\n",
            "    (transformer): ModuleList(\n",
            "      (0-5): 6 x TransformerEncoderLayer(\n",
            "        (self_attn): MultiHeadedAttention(\n",
            "          (linear_keys): Linear(in_features=512, out_features=512, bias=False)\n",
            "          (linear_values): Linear(in_features=512, out_features=512, bias=False)\n",
            "          (linear_query): Linear(in_features=512, out_features=512, bias=False)\n",
            "          (softmax): Softmax(dim=-1)\n",
            "          (dropout): Dropout(p=0.1, inplace=False)\n",
            "          (final_linear): Linear(in_features=512, out_features=512, bias=False)\n",
            "        )\n",
            "        (feed_forward): PositionwiseFeedForward(\n",
            "          (w_1): Linear(in_features=512, out_features=2048, bias=False)\n",
            "          (w_2): Linear(in_features=2048, out_features=512, bias=False)\n",
            "          (layer_norm): LayerNorm((512,), eps=1e-06, elementwise_affine=True)\n",
            "          (dropout_1): Dropout(p=0.1, inplace=False)\n",
            "          (dropout_2): Dropout(p=0.1, inplace=False)\n",
            "        )\n",
            "        (layer_norm): LayerNorm((512,), eps=1e-06, elementwise_affine=True)\n",
            "        (dropout): Dropout(p=0.1, inplace=False)\n",
            "      )\n",
            "    )\n",
            "    (layer_norm): LayerNorm((512,), eps=1e-06, elementwise_affine=True)\n",
            "  )\n",
            "  (decoder): TransformerDecoder(\n",
            "    (embeddings): Embeddings(\n",
            "      (make_embedding): Sequential(\n",
            "        (emb_luts): Elementwise(\n",
            "          (0): Embedding(8000, 512, padding_idx=1)\n",
            "        )\n",
            "        (pe): PositionalEncoding()\n",
            "      )\n",
            "      (dropout): Dropout(p=0.1, inplace=False)\n",
            "    )\n",
            "    (layer_norm): LayerNorm((512,), eps=1e-06, elementwise_affine=True)\n",
            "    (transformer_layers): ModuleList(\n",
            "      (0-5): 6 x TransformerDecoderLayer(\n",
            "        (self_attn): MultiHeadedAttention(\n",
            "          (linear_keys): Linear(in_features=512, out_features=512, bias=False)\n",
            "          (linear_values): Linear(in_features=512, out_features=512, bias=False)\n",
            "          (linear_query): Linear(in_features=512, out_features=512, bias=False)\n",
            "          (softmax): Softmax(dim=-1)\n",
            "          (dropout): Dropout(p=0.1, inplace=False)\n",
            "          (final_linear): Linear(in_features=512, out_features=512, bias=False)\n",
            "        )\n",
            "        (feed_forward): PositionwiseFeedForward(\n",
            "          (w_1): Linear(in_features=512, out_features=2048, bias=False)\n",
            "          (w_2): Linear(in_features=2048, out_features=512, bias=False)\n",
            "          (layer_norm): LayerNorm((512,), eps=1e-06, elementwise_affine=True)\n",
            "          (dropout_1): Dropout(p=0.1, inplace=False)\n",
            "          (dropout_2): Dropout(p=0.1, inplace=False)\n",
            "        )\n",
            "        (layer_norm_1): LayerNorm((512,), eps=1e-06, elementwise_affine=True)\n",
            "        (dropout): Dropout(p=0.1, inplace=False)\n",
            "        (context_attn): MultiHeadedAttention(\n",
            "          (linear_keys): Linear(in_features=512, out_features=512, bias=False)\n",
            "          (linear_values): Linear(in_features=512, out_features=512, bias=False)\n",
            "          (linear_query): Linear(in_features=512, out_features=512, bias=False)\n",
            "          (softmax): Softmax(dim=-1)\n",
            "          (dropout): Dropout(p=0.1, inplace=False)\n",
            "          (final_linear): Linear(in_features=512, out_features=512, bias=False)\n",
            "        )\n",
            "        (layer_norm_2): LayerNorm((512,), eps=1e-06, elementwise_affine=True)\n",
            "      )\n",
            "    )\n",
            "  )\n",
            "  (generator): Linear(in_features=512, out_features=8000, bias=True)\n",
            ")\n",
            "[2024-03-19 08:58:17,811 INFO] encoder: 22983680\n",
            "[2024-03-19 08:58:17,811 INFO] decoder: 33385280\n",
            "[2024-03-19 08:58:17,811 INFO] * number of parameters: 56368960\n",
            "[2024-03-19 08:58:17,812 INFO] Trainable parameters = {'torch.float32': 56368960, 'torch.float16': 0, 'torch.uint8': 0, 'torch.int8': 0}\n",
            "[2024-03-19 08:58:17,812 INFO] Non trainable parameters = {'torch.float32': 0, 'torch.float16': 0, 'torch.uint8': 0, 'torch.int8': 0}\n",
            "[2024-03-19 08:58:17,812 INFO]  * src vocab size = 8000\n",
            "[2024-03-19 08:58:17,812 INFO]  * tgt vocab size = 8000\n",
            "[2024-03-19 08:58:18,090 INFO] Starting training on GPU: [0]\n",
            "[2024-03-19 08:58:18,091 INFO] Start training loop and validate every 5000 steps...\n",
            "[2024-03-19 08:58:18,091 INFO] Scoring with: ['filtertoolong']\n",
            "[2024-03-19 08:58:21,268 INFO] Weighted corpora loaded so far:\n",
            "\t\t\t* corpus: 1\n",
            "[2024-03-19 08:58:24,397 INFO] Weighted corpora loaded so far:\n",
            "\t\t\t* corpus: 1\n",
            "[2024-03-19 08:58:32,481 INFO] Weighted corpora loaded so far:\n",
            "\t\t\t* corpus: 2\n",
            "[2024-03-19 08:58:32,489 INFO] Weighted corpora loaded so far:\n",
            "\t\t\t* corpus: 2\n",
            "[2024-03-19 09:00:34,388 INFO] Step 500/100000; acc: 6.6; ppl: 2843.4; xent: 8.0; lr: 0.00006; sents:   31651; bsz:  883/ 944/32; 6481/6925 tok/s;    136 sec;\n",
            "[2024-03-19 09:02:15,673 INFO] Step 1000/100000; acc: 11.9; ppl: 1067.0; xent: 7.0; lr: 0.00012; sents:   29870; bsz:  879/ 943/30; 8681/9312 tok/s;    238 sec;\n",
            "[2024-03-19 09:03:57,089 INFO] Step 1500/100000; acc: 17.3; ppl: 483.5; xent: 6.2; lr: 0.00019; sents:   30175; bsz:  883/ 942/30; 8703/9293 tok/s;    339 sec;\n",
            "[2024-03-19 09:05:38,669 INFO] Step 2000/100000; acc: 24.2; ppl: 240.5; xent: 5.5; lr: 0.00025; sents:   30485; bsz:  879/ 943/30; 8658/9284 tok/s;    441 sec;\n",
            "[2024-03-19 09:07:20,040 INFO] Step 2500/100000; acc: 31.1; ppl: 134.5; xent: 4.9; lr: 0.00031; sents:   30679; bsz:  883/ 949/31; 8711/9357 tok/s;    542 sec;\n",
            "[2024-03-19 09:09:01,229 INFO] Step 3000/100000; acc: 36.7; ppl:  87.9; xent: 4.5; lr: 0.00037; sents:   29056; bsz:  884/ 944/29; 8732/9330 tok/s;    643 sec;\n",
            "[2024-03-19 09:10:42,416 INFO] Step 3500/100000; acc: 42.3; ppl:  61.0; xent: 4.1; lr: 0.00043; sents:   31862; bsz:  879/ 943/32; 8683/9319 tok/s;    744 sec;\n",
            "[2024-03-19 09:12:23,388 INFO] Step 4000/100000; acc: 45.6; ppl:  49.4; xent: 3.9; lr: 0.00049; sents:   30606; bsz:  876/ 946/31; 8671/9370 tok/s;    845 sec;\n",
            "[2024-03-19 09:14:04,528 INFO] Step 4500/100000; acc: 48.6; ppl:  41.3; xent: 3.7; lr: 0.00056; sents:   31059; bsz:  885/ 944/31; 8745/9335 tok/s;    946 sec;\n",
            "[2024-03-19 09:15:45,725 INFO] Step 5000/100000; acc: 50.2; ppl:  37.3; xent: 3.6; lr: 0.00062; sents:   30552; bsz:  882/ 947/31; 8717/9360 tok/s;   1048 sec;\n",
            "[2024-03-19 09:15:55,937 INFO] valid stats calculation\n",
            "                           took: 10.210628271102905 s.\n",
            "[2024-03-19 09:15:55,938 INFO] Train perplexity: 169.1\n",
            "[2024-03-19 09:15:55,938 INFO] Train accuracy: 31.4674\n",
            "[2024-03-19 09:15:55,939 INFO] Sentences processed: 305995\n",
            "[2024-03-19 09:15:55,939 INFO] Average bsz:  881/ 945/31\n",
            "[2024-03-19 09:15:55,939 INFO] Validation perplexity: 32.5941\n",
            "[2024-03-19 09:15:55,939 INFO] Validation accuracy: 53.2034\n",
            "[2024-03-19 09:15:55,939 INFO] Model is improving ppl: inf --> 32.5941.\n",
            "[2024-03-19 09:15:55,939 INFO] Model is improving acc: -inf --> 53.2034.\n",
            "[2024-03-19 09:15:55,943 INFO] Saving checkpoint /content/drive/MyDrive/Colab_Notebooks/Diplomovka/Dáta/europarl/complete_model_step_5000.pt\n",
            "[2024-03-19 09:17:38,871 INFO] Step 5500/100000; acc: 51.9; ppl:  33.8; xent: 3.5; lr: 0.00068; sents:   31210; bsz:  879/ 943/31; 7765/8338 tok/s;   1161 sec;\n",
            "[2024-03-19 09:19:19,574 INFO] Step 6000/100000; acc: 52.5; ppl:  32.7; xent: 3.5; lr: 0.00074; sents:   29003; bsz:  878/ 940/29; 8719/9338 tok/s;   1261 sec;\n",
            "[2024-03-19 09:20:59,930 INFO] Step 6500/100000; acc: 53.6; ppl:  30.4; xent: 3.4; lr: 0.00080; sents:   31500; bsz:  868/ 942/32; 8647/9389 tok/s;   1362 sec;\n",
            "[2024-03-19 09:22:40,853 INFO] Step 7000/100000; acc: 54.9; ppl:  28.3; xent: 3.3; lr: 0.00086; sents:   31484; bsz:  879/ 940/31; 8710/9318 tok/s;   1463 sec;\n",
            "[2024-03-19 09:24:22,006 INFO] Step 7500/100000; acc: 55.8; ppl:  26.8; xent: 3.3; lr: 0.00093; sents:   31546; bsz:  888/ 946/32; 8775/9357 tok/s;   1564 sec;\n",
            "[2024-03-19 09:26:02,807 INFO] Step 8000/100000; acc: 56.3; ppl:  25.9; xent: 3.3; lr: 0.00099; sents:   31741; bsz:  885/ 939/32; 8784/9319 tok/s;   1665 sec;\n",
            "[2024-03-19 09:26:21,082 INFO] * Transform statistics for corpus(50.00%):\n",
            "\t\t\t* FilterTooLongStats(filtered=16)\n",
            "\n",
            "[2024-03-19 09:26:21,082 INFO] Weighted corpora loaded so far:\n",
            "\t\t\t* corpus: 3\n",
            "[2024-03-19 09:26:27,544 INFO] * Transform statistics for corpus(50.00%):\n",
            "\t\t\t* FilterTooLongStats(filtered=12)\n",
            "\n",
            "[2024-03-19 09:26:27,544 INFO] Weighted corpora loaded so far:\n",
            "\t\t\t* corpus: 3\n",
            "[2024-03-19 09:26:30,531 INFO] Weighted corpora loaded so far:\n",
            "\t\t\t* corpus: 4\n",
            "[2024-03-19 09:26:37,181 INFO] Weighted corpora loaded so far:\n",
            "\t\t\t* corpus: 4\n",
            "[2024-03-19 09:27:43,743 INFO] Step 8500/100000; acc: 57.4; ppl:  24.3; xent: 3.2; lr: 0.00096; sents:   30760; bsz:  880/ 940/31; 8719/9314 tok/s;   1766 sec;\n",
            "[2024-03-19 09:29:24,230 INFO] Step 9000/100000; acc: 58.8; ppl:  22.4; xent: 3.1; lr: 0.00093; sents:   31220; bsz:  878/ 940/31; 8742/9354 tok/s;   1866 sec;\n",
            "[2024-03-19 09:31:04,895 INFO] Step 9500/100000; acc: 60.0; ppl:  21.1; xent: 3.0; lr: 0.00091; sents:   30137; bsz:  880/ 947/30; 8742/9406 tok/s;   1967 sec;\n",
            "[2024-03-19 09:32:45,649 INFO] Step 10000/100000; acc: 60.7; ppl:  20.2; xent: 3.0; lr: 0.00088; sents:   30405; bsz:  886/ 944/30; 8794/9365 tok/s;   2068 sec;\n",
            "[2024-03-19 09:32:55,731 INFO] valid stats calculation\n",
            "                           took: 10.080559015274048 s.\n",
            "[2024-03-19 09:32:55,732 INFO] Train perplexity: 66.6239\n",
            "[2024-03-19 09:32:55,732 INFO] Train accuracy: 43.8158\n",
            "[2024-03-19 09:32:55,732 INFO] Sentences processed: 615001\n",
            "[2024-03-19 09:32:55,732 INFO] Average bsz:  881/ 943/31\n",
            "[2024-03-19 09:32:55,732 INFO] Validation perplexity: 19.3395\n",
            "[2024-03-19 09:32:55,732 INFO] Validation accuracy: 62.0127\n",
            "[2024-03-19 09:32:55,732 INFO] Model is improving ppl: 32.5941 --> 19.3395.\n",
            "[2024-03-19 09:32:55,732 INFO] Model is improving acc: 53.2034 --> 62.0127.\n",
            "[2024-03-19 09:32:55,737 INFO] Saving checkpoint /content/drive/MyDrive/Colab_Notebooks/Diplomovka/Dáta/europarl/complete_model_step_10000.pt\n",
            "[2024-03-19 09:34:38,509 INFO] Step 10500/100000; acc: 61.4; ppl:  19.5; xent: 3.0; lr: 0.00086; sents:   29733; bsz:  881/ 944/30; 7809/8368 tok/s;   2180 sec;\n",
            "[2024-03-19 09:36:19,365 INFO] Step 11000/100000; acc: 62.2; ppl:  18.6; xent: 2.9; lr: 0.00084; sents:   30859; bsz:  882/ 948/31; 8742/9396 tok/s;   2281 sec;\n",
            "[2024-03-19 09:37:59,858 INFO] Step 11500/100000; acc: 63.1; ppl:  17.8; xent: 2.9; lr: 0.00082; sents:   32166; bsz:  881/ 944/32; 8768/9395 tok/s;   2382 sec;\n",
            "[2024-03-19 09:39:40,447 INFO] Step 12000/100000; acc: 63.2; ppl:  17.6; xent: 2.9; lr: 0.00081; sents:   31026; bsz:  878/ 945/31; 8728/9393 tok/s;   2482 sec;\n",
            "[2024-03-19 09:41:20,614 INFO] Step 12500/100000; acc: 63.9; ppl:  17.0; xent: 2.8; lr: 0.00079; sents:   30383; bsz:  873/ 940/30; 8717/9386 tok/s;   2583 sec;\n",
            "[2024-03-19 09:43:01,155 INFO] Step 13000/100000; acc: 64.2; ppl:  16.8; xent: 2.8; lr: 0.00078; sents:   31083; bsz:  873/ 940/31; 8685/9351 tok/s;   2683 sec;\n",
            "[2024-03-19 09:44:41,914 INFO] Step 13500/100000; acc: 65.0; ppl:  16.0; xent: 2.8; lr: 0.00076; sents:   30962; bsz:  884/ 943/31; 8776/9358 tok/s;   2784 sec;\n",
            "[2024-03-19 09:46:22,481 INFO] Step 14000/100000; acc: 65.3; ppl:  15.8; xent: 2.8; lr: 0.00075; sents:   31246; bsz:  881/ 944/31; 8757/9388 tok/s;   2884 sec;\n",
            "[2024-03-19 09:48:02,871 INFO] Step 14500/100000; acc: 65.9; ppl:  15.2; xent: 2.7; lr: 0.00073; sents:   31273; bsz:  884/ 942/31; 8803/9384 tok/s;   2985 sec;\n",
            "[2024-03-19 09:49:43,249 INFO] Step 15000/100000; acc: 65.9; ppl:  15.3; xent: 2.7; lr: 0.00072; sents:   29618; bsz:  876/ 942/30; 8724/9387 tok/s;   3085 sec;\n",
            "[2024-03-19 09:49:53,305 INFO] valid stats calculation\n",
            "                           took: 10.054636001586914 s.\n",
            "[2024-03-19 09:49:53,307 INFO] Train perplexity: 42.1799\n",
            "[2024-03-19 09:49:53,307 INFO] Train accuracy: 50.5399\n",
            "[2024-03-19 09:49:53,307 INFO] Sentences processed: 923350\n",
            "[2024-03-19 09:49:53,307 INFO] Average bsz:  880/ 943/31\n",
            "[2024-03-19 09:49:53,307 INFO] Validation perplexity: 14.6763\n",
            "[2024-03-19 09:49:53,307 INFO] Validation accuracy: 67.0452\n",
            "[2024-03-19 09:49:53,307 INFO] Model is improving ppl: 19.3395 --> 14.6763.\n",
            "[2024-03-19 09:49:53,307 INFO] Model is improving acc: 62.0127 --> 67.0452.\n",
            "[2024-03-19 09:49:53,312 INFO] Saving checkpoint /content/drive/MyDrive/Colab_Notebooks/Diplomovka/Dáta/europarl/complete_model_step_15000.pt\n",
            "[2024-03-19 09:51:36,353 INFO] Step 15500/100000; acc: 66.7; ppl:  14.6; xent: 2.7; lr: 0.00071; sents:   31008; bsz:  893/ 945/31; 7894/8356 tok/s;   3198 sec;\n",
            "[2024-03-19 09:53:16,909 INFO] Step 16000/100000; acc: 66.9; ppl:  14.4; xent: 2.7; lr: 0.00070; sents:   30888; bsz:  880/ 943/31; 8756/9377 tok/s;   3299 sec;\n",
            "[2024-03-19 09:54:36,133 INFO] * Transform statistics for corpus(50.00%):\n",
            "\t\t\t* FilterTooLongStats(filtered=15)\n",
            "\n",
            "[2024-03-19 09:54:36,133 INFO] Weighted corpora loaded so far:\n",
            "\t\t\t* corpus: 5\n",
            "[2024-03-19 09:54:45,675 INFO] Weighted corpora loaded so far:\n",
            "\t\t\t* corpus: 6\n",
            "[2024-03-19 09:54:46,316 INFO] * Transform statistics for corpus(50.00%):\n",
            "\t\t\t* FilterTooLongStats(filtered=12)\n",
            "\n",
            "[2024-03-19 09:54:46,317 INFO] Weighted corpora loaded so far:\n",
            "\t\t\t* corpus: 5\n",
            "[2024-03-19 09:54:56,200 INFO] Weighted corpora loaded so far:\n",
            "\t\t\t* corpus: 6\n",
            "[2024-03-19 09:54:57,676 INFO] Step 16500/100000; acc: 67.4; ppl:  14.1; xent: 2.6; lr: 0.00069; sents:   31410; bsz:  884/ 947/31; 8768/9394 tok/s;   3400 sec;\n",
            "[2024-03-19 09:56:37,997 INFO] Step 17000/100000; acc: 68.1; ppl:  13.5; xent: 2.6; lr: 0.00068; sents:   30391; bsz:  877/ 943/30; 8741/9401 tok/s;   3500 sec;\n",
            "[2024-03-19 09:58:18,222 INFO] Step 17500/100000; acc: 68.5; ppl:  13.2; xent: 2.6; lr: 0.00067; sents:   29063; bsz:  876/ 944/29; 8742/9416 tok/s;   3600 sec;\n",
            "[2024-03-19 09:59:58,920 INFO] Step 18000/100000; acc: 69.0; ppl:  12.9; xent: 2.6; lr: 0.00066; sents:   30605; bsz:  882/ 948/31; 8755/9416 tok/s;   3701 sec;\n",
            "[2024-03-19 10:01:39,272 INFO] Step 18500/100000; acc: 68.9; ppl:  12.9; xent: 2.6; lr: 0.00065; sents:   31070; bsz:  876/ 947/31; 8727/9436 tok/s;   3801 sec;\n",
            "[2024-03-19 10:03:19,464 INFO] Step 19000/100000; acc: 69.0; ppl:  12.9; xent: 2.6; lr: 0.00064; sents:   31467; bsz:  873/ 942/31; 8710/9403 tok/s;   3901 sec;\n",
            "[2024-03-19 10:04:59,885 INFO] Step 19500/100000; acc: 69.1; ppl:  12.8; xent: 2.5; lr: 0.00063; sents:   31905; bsz:  881/ 940/32; 8769/9359 tok/s;   4002 sec;\n",
            "[2024-03-19 10:06:40,589 INFO] Step 20000/100000; acc: 69.5; ppl:  12.5; xent: 2.5; lr: 0.00062; sents:   29948; bsz:  892/ 945/30; 8854/9387 tok/s;   4102 sec;\n",
            "[2024-03-19 10:06:50,594 INFO] valid stats calculation\n",
            "                           took: 10.00363802909851 s.\n",
            "[2024-03-19 10:06:50,596 INFO] Train perplexity: 31.638\n",
            "[2024-03-19 10:06:50,596 INFO] Train accuracy: 54.9867\n",
            "[2024-03-19 10:06:50,596 INFO] Sentences processed: 1.2311e+06\n",
            "[2024-03-19 10:06:50,596 INFO] Average bsz:  880/ 944/31\n",
            "[2024-03-19 10:06:50,596 INFO] Validation perplexity: 13.0878\n",
            "[2024-03-19 10:06:50,596 INFO] Validation accuracy: 69.121\n",
            "[2024-03-19 10:06:50,596 INFO] Model is improving ppl: 14.6763 --> 13.0878.\n",
            "[2024-03-19 10:06:50,596 INFO] Model is improving acc: 67.0452 --> 69.121.\n",
            "[2024-03-19 10:06:50,600 INFO] Saving checkpoint /content/drive/MyDrive/Colab_Notebooks/Diplomovka/Dáta/europarl/complete_model_step_20000.pt\n",
            "[2024-03-19 10:08:33,387 INFO] Step 20500/100000; acc: 69.6; ppl:  12.5; xent: 2.5; lr: 0.00062; sents:   31199; bsz:  892/ 942/31; 7911/8354 tok/s;   4215 sec;\n",
            "[2024-03-19 10:10:13,909 INFO] Step 21000/100000; acc: 69.6; ppl:  12.4; xent: 2.5; lr: 0.00061; sents:   31905; bsz:  879/ 943/32; 8746/9382 tok/s;   4316 sec;\n",
            "[2024-03-19 10:11:54,515 INFO] Step 21500/100000; acc: 69.5; ppl:  12.5; xent: 2.5; lr: 0.00060; sents:   30025; bsz:  881/ 939/30; 8756/9332 tok/s;   4416 sec;\n",
            "[2024-03-19 10:13:35,039 INFO] Step 22000/100000; acc: 70.0; ppl:  12.2; xent: 2.5; lr: 0.00060; sents:   30846; bsz:  882/ 944/31; 8777/9390 tok/s;   4517 sec;\n",
            "[2024-03-19 10:15:15,460 INFO] Step 22500/100000; acc: 70.0; ppl:  12.2; xent: 2.5; lr: 0.00059; sents:   30193; bsz:  876/ 945/30; 8722/9414 tok/s;   4617 sec;\n",
            "[2024-03-19 10:16:56,072 INFO] Step 23000/100000; acc: 70.3; ppl:  12.0; xent: 2.5; lr: 0.00058; sents:   30700; bsz:  884/ 944/31; 8787/9387 tok/s;   4718 sec;\n",
            "[2024-03-19 10:18:36,242 INFO] Step 23500/100000; acc: 70.5; ppl:  11.9; xent: 2.5; lr: 0.00058; sents:   30831; bsz:  877/ 942/31; 8758/9400 tok/s;   4818 sec;\n",
            "[2024-03-19 10:20:16,734 INFO] Step 24000/100000; acc: 70.6; ppl:  11.8; xent: 2.5; lr: 0.00057; sents:   31371; bsz:  880/ 944/31; 8754/9392 tok/s;   4919 sec;\n",
            "[2024-03-19 10:21:57,184 INFO] Step 24500/100000; acc: 70.7; ppl:  11.7; xent: 2.5; lr: 0.00056; sents:   29998; bsz:  880/ 946/30; 8759/9415 tok/s;   5019 sec;\n",
            "[2024-03-19 10:22:35,635 INFO] * Transform statistics for corpus(50.00%):\n",
            "\t\t\t* FilterTooLongStats(filtered=20)\n",
            "\n",
            "[2024-03-19 10:22:35,635 INFO] Weighted corpora loaded so far:\n",
            "\t\t\t* corpus: 7\n",
            "[2024-03-19 10:22:49,956 INFO] * Transform statistics for corpus(50.00%):\n",
            "\t\t\t* FilterTooLongStats(filtered=13)\n",
            "\n",
            "[2024-03-19 10:22:49,956 INFO] Weighted corpora loaded so far:\n",
            "\t\t\t* corpus: 7\n",
            "[2024-03-19 10:23:37,877 INFO] Step 25000/100000; acc: 71.0; ppl:  11.6; xent: 2.4; lr: 0.00056; sents:   31093; bsz:  885/ 943/31; 8792/9362 tok/s;   5120 sec;\n",
            "[2024-03-19 10:23:47,823 INFO] valid stats calculation\n",
            "                           took: 9.945167541503906 s.\n",
            "[2024-03-19 10:23:47,824 INFO] Train perplexity: 26.1006\n",
            "[2024-03-19 10:23:47,824 INFO] Train accuracy: 58.0216\n",
            "[2024-03-19 10:23:47,824 INFO] Sentences processed: 1.53927e+06\n",
            "[2024-03-19 10:23:47,824 INFO] Average bsz:  881/ 944/31\n",
            "[2024-03-19 10:23:47,824 INFO] Validation perplexity: 12.2386\n",
            "[2024-03-19 10:23:47,824 INFO] Validation accuracy: 70.4984\n",
            "[2024-03-19 10:23:47,824 INFO] Model is improving ppl: 13.0878 --> 12.2386.\n",
            "[2024-03-19 10:23:47,824 INFO] Model is improving acc: 69.121 --> 70.4984.\n",
            "[2024-03-19 10:23:47,828 INFO] Saving checkpoint /content/drive/MyDrive/Colab_Notebooks/Diplomovka/Dáta/europarl/complete_model_step_25000.pt\n",
            "[2024-03-19 10:25:29,986 INFO] Step 25500/100000; acc: 72.2; ppl:  10.9; xent: 2.4; lr: 0.00055; sents:   30354; bsz:  877/ 942/30; 7821/8406 tok/s;   5232 sec;\n",
            "[2024-03-19 10:27:10,553 INFO] Step 26000/100000; acc: 72.3; ppl:  10.8; xent: 2.4; lr: 0.00055; sents:   30945; bsz:  885/ 940/31; 8803/9342 tok/s;   5332 sec;\n",
            "[2024-03-19 10:28:51,032 INFO] Step 26500/100000; acc: 72.1; ppl:  10.9; xent: 2.4; lr: 0.00054; sents:   30891; bsz:  878/ 943/31; 8739/9381 tok/s;   5433 sec;\n",
            "[2024-03-19 10:30:31,330 INFO] Step 27000/100000; acc: 72.0; ppl:  11.0; xent: 2.4; lr: 0.00054; sents:   30617; bsz:  875/ 946/31; 8724/9432 tok/s;   5533 sec;\n",
            "[2024-03-19 10:32:11,432 INFO] Step 27500/100000; acc: 72.1; ppl:  11.0; xent: 2.4; lr: 0.00053; sents:   30244; bsz:  875/ 943/30; 8745/9423 tok/s;   5633 sec;\n",
            "[2024-03-19 10:33:51,899 INFO] Step 28000/100000; acc: 72.3; ppl:  10.8; xent: 2.4; lr: 0.00053; sents:   32102; bsz:  884/ 941/32; 8801/9363 tok/s;   5734 sec;\n",
            "[2024-03-19 10:35:32,517 INFO] Step 28500/100000; acc: 72.5; ppl:  10.7; xent: 2.4; lr: 0.00052; sents:   31862; bsz:  884/ 943/32; 8786/9375 tok/s;   5834 sec;\n",
            "[2024-03-19 10:37:13,035 INFO] Step 29000/100000; acc: 72.4; ppl:  10.8; xent: 2.4; lr: 0.00052; sents:   31278; bsz:  878/ 940/31; 8739/9354 tok/s;   5935 sec;\n",
            "[2024-03-19 10:38:53,446 INFO] Step 29500/100000; acc: 72.6; ppl:  10.7; xent: 2.4; lr: 0.00051; sents:   31799; bsz:  879/ 941/32; 8756/9372 tok/s;   6035 sec;\n",
            "[2024-03-19 10:40:33,811 INFO] Step 30000/100000; acc: 72.5; ppl:  10.7; xent: 2.4; lr: 0.00051; sents:   30326; bsz:  876/ 943/30; 8729/9397 tok/s;   6136 sec;\n",
            "[2024-03-19 10:40:43,815 INFO] valid stats calculation\n",
            "                           took: 10.003036975860596 s.\n",
            "[2024-03-19 10:40:43,817 INFO] Train perplexity: 22.5388\n",
            "[2024-03-19 10:40:43,817 INFO] Train accuracy: 60.3961\n",
            "[2024-03-19 10:40:43,817 INFO] Sentences processed: 1.84968e+06\n",
            "[2024-03-19 10:40:43,817 INFO] Average bsz:  880/ 943/31\n",
            "[2024-03-19 10:40:43,817 INFO] Validation perplexity: 11.6786\n",
            "[2024-03-19 10:40:43,817 INFO] Validation accuracy: 71.2849\n",
            "[2024-03-19 10:40:43,817 INFO] Model is improving ppl: 12.2386 --> 11.6786.\n",
            "[2024-03-19 10:40:43,817 INFO] Model is improving acc: 70.4984 --> 71.2849.\n",
            "[2024-03-19 10:40:43,821 INFO] Saving checkpoint /content/drive/MyDrive/Colab_Notebooks/Diplomovka/Dáta/europarl/complete_model_step_30000.pt\n",
            "[2024-03-19 10:42:26,467 INFO] Step 30500/100000; acc: 72.5; ppl:  10.6; xent: 2.4; lr: 0.00051; sents:   30564; bsz:  891/ 945/31; 7908/8389 tok/s;   6248 sec;\n",
            "[2024-03-19 10:44:06,820 INFO] Step 31000/100000; acc: 72.3; ppl:  10.8; xent: 2.4; lr: 0.00050; sents:   30265; bsz:  879/ 942/30; 8754/9390 tok/s;   6349 sec;\n",
            "[2024-03-19 10:45:47,458 INFO] Step 31500/100000; acc: 72.7; ppl:  10.6; xent: 2.4; lr: 0.00050; sents:   30105; bsz:  883/ 945/30; 8774/9389 tok/s;   6449 sec;\n",
            "[2024-03-19 10:47:28,191 INFO] Step 32000/100000; acc: 72.7; ppl:  10.6; xent: 2.4; lr: 0.00049; sents:   30698; bsz:  885/ 947/31; 8781/9401 tok/s;   6550 sec;\n",
            "[2024-03-19 10:49:08,803 INFO] Step 32500/100000; acc: 72.8; ppl:  10.5; xent: 2.4; lr: 0.00049; sents:   30880; bsz:  876/ 947/31; 8708/9417 tok/s;   6651 sec;\n",
            "[2024-03-19 10:50:40,360 INFO] * Transform statistics for corpus(50.00%):\n",
            "\t\t\t* FilterTooLongStats(filtered=18)\n",
            "\n",
            "[2024-03-19 10:50:40,360 INFO] Weighted corpora loaded so far:\n",
            "\t\t\t* corpus: 8\n",
            "[2024-03-19 10:50:49,450 INFO] Step 33000/100000; acc: 72.9; ppl:  10.4; xent: 2.3; lr: 0.00049; sents:   30614; bsz:  882/ 946/31; 8766/9397 tok/s;   6751 sec;\n",
            "[2024-03-19 10:50:50,374 INFO] Weighted corpora loaded so far:\n",
            "\t\t\t* corpus: 9\n",
            "[2024-03-19 10:51:00,278 INFO] * Transform statistics for corpus(50.00%):\n",
            "\t\t\t* FilterTooLongStats(filtered=10)\n",
            "\n",
            "[2024-03-19 10:51:00,278 INFO] Weighted corpora loaded so far:\n",
            "\t\t\t* corpus: 8\n",
            "[2024-03-19 10:51:10,305 INFO] Weighted corpora loaded so far:\n",
            "\t\t\t* corpus: 9\n",
            "[2024-03-19 10:52:30,111 INFO] Step 33500/100000; acc: 73.6; ppl:  10.1; xent: 2.3; lr: 0.00048; sents:   29905; bsz:  881/ 943/30; 8755/9367 tok/s;   6852 sec;\n",
            "[2024-03-19 10:54:10,675 INFO] Step 34000/100000; acc: 74.3; ppl:   9.7; xent: 2.3; lr: 0.00048; sents:   30396; bsz:  884/ 944/30; 8788/9384 tok/s;   6953 sec;\n",
            "[2024-03-19 10:55:51,371 INFO] Step 34500/100000; acc: 74.1; ppl:   9.8; xent: 2.3; lr: 0.00048; sents:   30879; bsz:  883/ 942/31; 8768/9356 tok/s;   7053 sec;\n",
            "[2024-03-19 10:57:31,891 INFO] Step 35000/100000; acc: 74.2; ppl:   9.8; xent: 2.3; lr: 0.00047; sents:   30760; bsz:  881/ 943/31; 8764/9379 tok/s;   7154 sec;\n",
            "[2024-03-19 10:57:42,004 INFO] valid stats calculation\n",
            "                           took: 10.111718893051147 s.\n",
            "[2024-03-19 10:57:42,005 INFO] Train perplexity: 20.1464\n",
            "[2024-03-19 10:57:42,005 INFO] Train accuracy: 62.229\n",
            "[2024-03-19 10:57:42,006 INFO] Sentences processed: 2.15475e+06\n",
            "[2024-03-19 10:57:42,006 INFO] Average bsz:  881/ 943/31\n",
            "[2024-03-19 10:57:42,006 INFO] Validation perplexity: 11.5192\n",
            "[2024-03-19 10:57:42,006 INFO] Validation accuracy: 71.6853\n",
            "[2024-03-19 10:57:42,006 INFO] Model is improving ppl: 11.6786 --> 11.5192.\n",
            "[2024-03-19 10:57:42,006 INFO] Model is improving acc: 71.2849 --> 71.6853.\n",
            "[2024-03-19 10:57:42,010 INFO] Saving checkpoint /content/drive/MyDrive/Colab_Notebooks/Diplomovka/Dáta/europarl/complete_model_step_35000.pt\n",
            "[2024-03-19 10:59:24,397 INFO] Step 35500/100000; acc: 74.1; ppl:   9.8; xent: 2.3; lr: 0.00047; sents:   30795; bsz:  873/ 948/31; 7755/8429 tok/s;   7266 sec;\n",
            "[2024-03-19 11:01:04,769 INFO] Step 36000/100000; acc: 74.2; ppl:   9.8; xent: 2.3; lr: 0.00047; sents:   29828; bsz:  883/ 945/30; 8800/9411 tok/s;   7367 sec;\n",
            "[2024-03-19 11:02:45,211 INFO] Step 36500/100000; acc: 74.1; ppl:   9.9; xent: 2.3; lr: 0.00046; sents:   29396; bsz:  886/ 939/29; 8824/9349 tok/s;   7467 sec;\n",
            "[2024-03-19 11:04:26,062 INFO] Step 37000/100000; acc: 74.1; ppl:   9.8; xent: 2.3; lr: 0.00046; sents:   29976; bsz:  884/ 947/30; 8768/9388 tok/s;   7568 sec;\n",
            "[2024-03-19 11:06:06,843 INFO] Step 37500/100000; acc: 74.3; ppl:   9.7; xent: 2.3; lr: 0.00046; sents:   31554; bsz:  881/ 945/32; 8744/9378 tok/s;   7669 sec;\n",
            "[2024-03-19 11:07:47,070 INFO] Step 38000/100000; acc: 74.2; ppl:   9.8; xent: 2.3; lr: 0.00045; sents:   31756; bsz:  871/ 940/32; 8691/9381 tok/s;   7769 sec;\n",
            "[2024-03-19 11:09:27,642 INFO] Step 38500/100000; acc: 74.2; ppl:   9.8; xent: 2.3; lr: 0.00045; sents:   31767; bsz:  882/ 941/32; 8773/9357 tok/s;   7870 sec;\n",
            "[2024-03-19 11:11:08,251 INFO] Step 39000/100000; acc: 74.3; ppl:   9.7; xent: 2.3; lr: 0.00045; sents:   31988; bsz:  882/ 942/32; 8770/9364 tok/s;   7970 sec;\n",
            "[2024-03-19 11:12:48,717 INFO] Step 39500/100000; acc: 74.2; ppl:   9.7; xent: 2.3; lr: 0.00044; sents:   32020; bsz:  877/ 941/32; 8731/9370 tok/s;   8071 sec;\n",
            "[2024-03-19 11:14:29,176 INFO] Step 40000/100000; acc: 74.3; ppl:   9.7; xent: 2.3; lr: 0.00044; sents:   29504; bsz:  877/ 947/30; 8727/9422 tok/s;   8171 sec;\n",
            "[2024-03-19 11:14:39,230 INFO] valid stats calculation\n",
            "                           took: 10.0525803565979 s.\n",
            "[2024-03-19 11:14:39,231 INFO] Train perplexity: 18.4061\n",
            "[2024-03-19 11:14:39,231 INFO] Train accuracy: 63.7263\n",
            "[2024-03-19 11:14:39,231 INFO] Sentences processed: 2.46333e+06\n",
            "[2024-03-19 11:14:39,232 INFO] Average bsz:  881/ 943/31\n",
            "[2024-03-19 11:14:39,232 INFO] Validation perplexity: 11.1657\n",
            "[2024-03-19 11:14:39,232 INFO] Validation accuracy: 72.0601\n",
            "[2024-03-19 11:14:39,232 INFO] Model is improving ppl: 11.5192 --> 11.1657.\n",
            "[2024-03-19 11:14:39,232 INFO] Model is improving acc: 71.6853 --> 72.0601.\n",
            "[2024-03-19 11:14:39,236 INFO] Saving checkpoint /content/drive/MyDrive/Colab_Notebooks/Diplomovka/Dáta/europarl/complete_model_step_40000.pt\n",
            "[2024-03-19 11:16:21,663 INFO] Step 40500/100000; acc: 74.4; ppl:   9.7; xent: 2.3; lr: 0.00044; sents:   30248; bsz:  886/ 943/30; 7873/8386 tok/s;   8284 sec;\n",
            "[2024-03-19 11:18:02,055 INFO] Step 41000/100000; acc: 74.3; ppl:   9.7; xent: 2.3; lr: 0.00044; sents:   31542; bsz:  883/ 945/32; 8794/9413 tok/s;   8384 sec;\n",
            "[2024-03-19 11:18:51,941 INFO] * Transform statistics for corpus(50.00%):\n",
            "\t\t\t* FilterTooLongStats(filtered=17)\n",
            "\n",
            "[2024-03-19 11:18:51,941 INFO] Weighted corpora loaded so far:\n",
            "\t\t\t* corpus: 10\n",
            "[2024-03-19 11:19:01,768 INFO] Weighted corpora loaded so far:\n",
            "\t\t\t* corpus: 11\n",
            "[2024-03-19 11:19:17,390 INFO] * Transform statistics for corpus(50.00%):\n",
            "\t\t\t* FilterTooLongStats(filtered=14)\n",
            "\n",
            "[2024-03-19 11:19:17,390 INFO] Weighted corpora loaded so far:\n",
            "\t\t\t* corpus: 10\n",
            "[2024-03-19 11:19:27,412 INFO] Weighted corpora loaded so far:\n",
            "\t\t\t* corpus: 11\n",
            "[2024-03-19 11:19:42,729 INFO] Step 41500/100000; acc: 74.5; ppl:   9.6; xent: 2.3; lr: 0.00043; sents:   31047; bsz:  880/ 945/31; 8743/9386 tok/s;   8485 sec;\n",
            "[2024-03-19 11:21:23,410 INFO] Step 42000/100000; acc: 75.9; ppl:   9.0; xent: 2.2; lr: 0.00043; sents:   30982; bsz:  885/ 944/31; 8789/9372 tok/s;   8585 sec;\n",
            "[2024-03-19 11:23:03,990 INFO] Step 42500/100000; acc: 75.7; ppl:   9.1; xent: 2.2; lr: 0.00043; sents:   29837; bsz:  888/ 944/30; 8824/9387 tok/s;   8686 sec;\n",
            "[2024-03-19 11:24:44,459 INFO] Step 43000/100000; acc: 75.7; ppl:   9.1; xent: 2.2; lr: 0.00043; sents:   31021; bsz:  889/ 942/31; 8844/9380 tok/s;   8786 sec;\n",
            "[2024-03-19 11:26:24,720 INFO] Step 43500/100000; acc: 75.6; ppl:   9.1; xent: 2.2; lr: 0.00042; sents:   31615; bsz:  878/ 946/32; 8762/9433 tok/s;   8887 sec;\n",
            "[2024-03-19 11:28:04,943 INFO] Step 44000/100000; acc: 75.6; ppl:   9.1; xent: 2.2; lr: 0.00042; sents:   31616; bsz:  879/ 941/32; 8771/9394 tok/s;   8987 sec;\n",
            "[2024-03-19 11:29:45,185 INFO] Step 44500/100000; acc: 75.5; ppl:   9.2; xent: 2.2; lr: 0.00042; sents:   29100; bsz:  876/ 947/29; 8743/9442 tok/s;   9087 sec;\n",
            "[2024-03-19 11:31:25,639 INFO] Step 45000/100000; acc: 75.4; ppl:   9.2; xent: 2.2; lr: 0.00042; sents:   29861; bsz:  884/ 943/30; 8796/9383 tok/s;   9188 sec;\n",
            "[2024-03-19 11:31:35,716 INFO] valid stats calculation\n",
            "                           took: 10.075932741165161 s.\n",
            "[2024-03-19 11:31:35,718 INFO] Train perplexity: 17.055\n",
            "[2024-03-19 11:31:35,718 INFO] Train accuracy: 65.0103\n",
            "[2024-03-19 11:31:35,718 INFO] Sentences processed: 2.7702e+06\n",
            "[2024-03-19 11:31:35,718 INFO] Average bsz:  881/ 944/31\n",
            "[2024-03-19 11:31:35,718 INFO] Validation perplexity: 11.1796\n",
            "[2024-03-19 11:31:35,718 INFO] Validation accuracy: 72.2459\n",
            "[2024-03-19 11:31:35,718 INFO] Stalled patience: 3/4\n",
            "[2024-03-19 11:31:35,722 INFO] Saving checkpoint /content/drive/MyDrive/Colab_Notebooks/Diplomovka/Dáta/europarl/complete_model_step_45000.pt\n",
            "[2024-03-19 11:33:18,123 INFO] Step 45500/100000; acc: 75.6; ppl:   9.1; xent: 2.2; lr: 0.00041; sents:   31261; bsz:  886/ 944/31; 7876/8389 tok/s;   9300 sec;\n",
            "[2024-03-19 11:34:58,433 INFO] Step 46000/100000; acc: 75.4; ppl:   9.2; xent: 2.2; lr: 0.00041; sents:   30489; bsz:  883/ 937/30; 8805/9343 tok/s;   9400 sec;\n",
            "[2024-03-19 11:36:38,788 INFO] Step 46500/100000; acc: 75.4; ppl:   9.2; xent: 2.2; lr: 0.00041; sents:   30551; bsz:  876/ 942/31; 8732/9388 tok/s;   9501 sec;\n",
            "[2024-03-19 11:38:18,944 INFO] Step 47000/100000; acc: 75.8; ppl:   9.1; xent: 2.2; lr: 0.00041; sents:   30814; bsz:  878/ 946/31; 8771/9447 tok/s;   9601 sec;\n",
            "[2024-03-19 11:39:59,040 INFO] Step 47500/100000; acc: 75.5; ppl:   9.1; xent: 2.2; lr: 0.00041; sents:   31432; bsz:  870/ 946/31; 8697/9451 tok/s;   9701 sec;\n",
            "[2024-03-19 11:41:39,380 INFO] Step 48000/100000; acc: 75.6; ppl:   9.1; xent: 2.2; lr: 0.00040; sents:   31766; bsz:  880/ 945/32; 8775/9415 tok/s;   9801 sec;\n",
            "[2024-03-19 11:43:19,752 INFO] Step 48500/100000; acc: 75.6; ppl:   9.1; xent: 2.2; lr: 0.00040; sents:   31003; bsz:  880/ 942/31; 8770/9381 tok/s;   9902 sec;\n",
            "[2024-03-19 11:44:59,857 INFO] Step 49000/100000; acc: 75.7; ppl:   9.1; xent: 2.2; lr: 0.00040; sents:   31006; bsz:  876/ 944/31; 8756/9434 tok/s;  10002 sec;\n",
            "[2024-03-19 11:46:40,297 INFO] Step 49500/100000; acc: 75.5; ppl:   9.2; xent: 2.2; lr: 0.00040; sents:   29708; bsz:  878/ 943/30; 8745/9389 tok/s;  10102 sec;\n",
            "[2024-03-19 11:46:52,108 INFO] * Transform statistics for corpus(50.00%):\n",
            "\t\t\t* FilterTooLongStats(filtered=15)\n",
            "\n",
            "[2024-03-19 11:46:52,109 INFO] Weighted corpora loaded so far:\n",
            "\t\t\t* corpus: 12\n",
            "[2024-03-19 11:47:02,248 INFO] Weighted corpora loaded so far:\n",
            "\t\t\t* corpus: 13\n",
            "[2024-03-19 11:47:23,565 INFO] * Transform statistics for corpus(50.00%):\n",
            "\t\t\t* FilterTooLongStats(filtered=11)\n",
            "\n",
            "[2024-03-19 11:47:23,565 INFO] Weighted corpora loaded so far:\n",
            "\t\t\t* corpus: 12\n",
            "[2024-03-19 11:47:33,820 INFO] Weighted corpora loaded so far:\n",
            "\t\t\t* corpus: 13\n",
            "[2024-03-19 11:48:20,997 INFO] Step 50000/100000; acc: 76.2; ppl:   8.9; xent: 2.2; lr: 0.00040; sents:   31570; bsz:  876/ 941/32; 8702/9345 tok/s;  10203 sec;\n",
            "[2024-03-19 11:48:31,155 INFO] valid stats calculation\n",
            "                           took: 10.157217741012573 s.\n",
            "[2024-03-19 11:48:31,157 INFO] Train perplexity: 16.0183\n",
            "[2024-03-19 11:48:31,158 INFO] Train accuracy: 66.0716\n",
            "[2024-03-19 11:48:31,158 INFO] Sentences processed: 3.0798e+06\n",
            "[2024-03-19 11:48:31,158 INFO] Average bsz:  881/ 943/31\n",
            "[2024-03-19 11:48:31,158 INFO] Validation perplexity: 10.9561\n",
            "[2024-03-19 11:48:31,158 INFO] Validation accuracy: 72.7328\n",
            "[2024-03-19 11:48:31,158 INFO] Model is improving ppl: 11.1657 --> 10.9561.\n",
            "[2024-03-19 11:48:31,158 INFO] Model is improving acc: 72.0601 --> 72.7328.\n",
            "[2024-03-19 11:48:31,162 INFO] Saving checkpoint /content/drive/MyDrive/Colab_Notebooks/Diplomovka/Dáta/europarl/complete_model_step_50000.pt\n",
            "[2024-03-19 11:50:13,340 INFO] Step 50500/100000; acc: 77.2; ppl:   8.5; xent: 2.1; lr: 0.00039; sents:   31121; bsz:  875/ 942/31; 7790/8386 tok/s;  10315 sec;\n",
            "[2024-03-19 11:51:53,606 INFO] Step 51000/100000; acc: 77.0; ppl:   8.5; xent: 2.1; lr: 0.00039; sents:   29816; bsz:  881/ 944/30; 8791/9411 tok/s;  10416 sec;\n",
            "[2024-03-19 11:53:34,333 INFO] Step 51500/100000; acc: 77.0; ppl:   8.5; xent: 2.1; lr: 0.00039; sents:   31885; bsz:  885/ 944/32; 8791/9374 tok/s;  10516 sec;\n",
            "[2024-03-19 11:55:14,645 INFO] Step 52000/100000; acc: 76.9; ppl:   8.6; xent: 2.1; lr: 0.00039; sents:   31153; bsz:  878/ 949/31; 8749/9458 tok/s;  10617 sec;\n",
            "[2024-03-19 11:56:55,033 INFO] Step 52500/100000; acc: 76.6; ppl:   8.7; xent: 2.2; lr: 0.00039; sents:   30997; bsz:  879/ 941/31; 8753/9377 tok/s;  10717 sec;\n",
            "[2024-03-19 11:58:35,450 INFO] Step 53000/100000; acc: 76.7; ppl:   8.7; xent: 2.2; lr: 0.00038; sents:   29717; bsz:  881/ 943/30; 8774/9389 tok/s;  10817 sec;\n",
            "[2024-03-19 12:00:16,101 INFO] Step 53500/100000; acc: 76.7; ppl:   8.7; xent: 2.2; lr: 0.00038; sents:   29898; bsz:  888/ 939/30; 8822/9332 tok/s;  10918 sec;\n",
            "[2024-03-19 12:01:56,544 INFO] Step 54000/100000; acc: 76.8; ppl:   8.6; xent: 2.2; lr: 0.00038; sents:   30392; bsz:  881/ 943/30; 8774/9392 tok/s;  11018 sec;\n",
            "[2024-03-19 12:03:36,745 INFO] Step 54500/100000; acc: 76.6; ppl:   8.7; xent: 2.2; lr: 0.00038; sents:   31459; bsz:  875/ 940/31; 8732/9384 tok/s;  11119 sec;\n",
            "[2024-03-19 12:05:17,625 INFO] Step 55000/100000; acc: 76.8; ppl:   8.6; xent: 2.2; lr: 0.00038; sents:   31104; bsz:  891/ 946/31; 8837/9377 tok/s;  11220 sec;\n",
            "[2024-03-19 12:05:27,690 INFO] valid stats calculation\n",
            "                           took: 10.063668489456177 s.\n",
            "[2024-03-19 12:05:27,692 INFO] Train perplexity: 15.1391\n",
            "[2024-03-19 12:05:27,692 INFO] Train accuracy: 67.0495\n",
            "[2024-03-19 12:05:27,692 INFO] Sentences processed: 3.38734e+06\n",
            "[2024-03-19 12:05:27,692 INFO] Average bsz:  881/ 943/31\n",
            "[2024-03-19 12:05:27,692 INFO] Validation perplexity: 10.908\n",
            "[2024-03-19 12:05:27,692 INFO] Validation accuracy: 72.712\n",
            "[2024-03-19 12:05:27,692 INFO] Stalled patience: 3/4\n",
            "[2024-03-19 12:05:27,696 INFO] Saving checkpoint /content/drive/MyDrive/Colab_Notebooks/Diplomovka/Dáta/europarl/complete_model_step_55000.pt\n",
            "[2024-03-19 12:07:10,078 INFO] Step 55500/100000; acc: 76.5; ppl:   8.7; xent: 2.2; lr: 0.00038; sents:   30528; bsz:  878/ 945/31; 7809/8408 tok/s;  11332 sec;\n",
            "[2024-03-19 12:08:50,507 INFO] Step 56000/100000; acc: 76.4; ppl:   8.8; xent: 2.2; lr: 0.00037; sents:   31184; bsz:  879/ 943/31; 8753/9391 tok/s;  11432 sec;\n",
            "[2024-03-19 12:10:30,789 INFO] Step 56500/100000; acc: 76.6; ppl:   8.7; xent: 2.2; lr: 0.00037; sents:   31779; bsz:  876/ 942/32; 8735/9398 tok/s;  11533 sec;\n",
            "[2024-03-19 12:12:11,569 INFO] Step 57000/100000; acc: 76.6; ppl:   8.7; xent: 2.2; lr: 0.00037; sents:   30911; bsz:  881/ 946/31; 8739/9386 tok/s;  11633 sec;\n",
            "[2024-03-19 12:13:52,043 INFO] Step 57500/100000; acc: 76.6; ppl:   8.7; xent: 2.2; lr: 0.00037; sents:   30309; bsz:  881/ 944/30; 8772/9393 tok/s;  11734 sec;\n",
            "[2024-03-19 12:15:04,220 INFO] * Transform statistics for corpus(50.00%):\n",
            "\t\t\t* FilterTooLongStats(filtered=19)\n",
            "\n",
            "[2024-03-19 12:15:04,221 INFO] Weighted corpora loaded so far:\n",
            "\t\t\t* corpus: 14\n",
            "[2024-03-19 12:15:32,730 INFO] Step 58000/100000; acc: 76.7; ppl:   8.7; xent: 2.2; lr: 0.00037; sents:   29625; bsz:  884/ 944/30; 8780/9380 tok/s;  11835 sec;\n",
            "[2024-03-19 12:15:39,536 INFO] * Transform statistics for corpus(50.00%):\n",
            "\t\t\t* FilterTooLongStats(filtered=14)\n",
            "\n",
            "[2024-03-19 12:15:39,537 INFO] Weighted corpora loaded so far:\n",
            "\t\t\t* corpus: 14\n",
            "[2024-03-19 12:17:13,417 INFO] Step 58500/100000; acc: 78.0; ppl:   8.2; xent: 2.1; lr: 0.00037; sents:   32442; bsz:  875/ 946/32; 8691/9394 tok/s;  11935 sec;\n",
            "[2024-03-19 12:18:53,881 INFO] Step 59000/100000; acc: 77.9; ppl:   8.2; xent: 2.1; lr: 0.00036; sents:   31530; bsz:  877/ 946/32; 8725/9413 tok/s;  12036 sec;\n",
            "[2024-03-19 12:20:34,648 INFO] Step 59500/100000; acc: 77.8; ppl:   8.2; xent: 2.1; lr: 0.00036; sents:   30884; bsz:  882/ 941/31; 8757/9343 tok/s;  12137 sec;\n",
            "[2024-03-19 12:22:15,443 INFO] Step 60000/100000; acc: 77.9; ppl:   8.2; xent: 2.1; lr: 0.00036; sents:   30811; bsz:  884/ 940/31; 8772/9327 tok/s;  12237 sec;\n",
            "[2024-03-19 12:22:25,604 INFO] valid stats calculation\n",
            "                           took: 10.15974760055542 s.\n",
            "[2024-03-19 12:22:25,606 INFO] Train perplexity: 14.427\n",
            "[2024-03-19 12:22:25,606 INFO] Train accuracy: 67.887\n",
            "[2024-03-19 12:22:25,606 INFO] Sentences processed: 3.69735e+06\n",
            "[2024-03-19 12:22:25,606 INFO] Average bsz:  881/ 943/31\n",
            "[2024-03-19 12:22:25,606 INFO] Validation perplexity: 10.9282\n",
            "[2024-03-19 12:22:25,606 INFO] Validation accuracy: 72.8689\n",
            "[2024-03-19 12:22:25,606 INFO] Model is improving ppl: 10.9561 --> 10.9282.\n",
            "[2024-03-19 12:22:25,607 INFO] Model is improving acc: 72.7328 --> 72.8689.\n",
            "[2024-03-19 12:22:25,611 INFO] Saving checkpoint /content/drive/MyDrive/Colab_Notebooks/Diplomovka/Dáta/europarl/complete_model_step_60000.pt\n",
            "[2024-03-19 12:24:08,505 INFO] Step 60500/100000; acc: 77.7; ppl:   8.3; xent: 2.1; lr: 0.00036; sents:   30280; bsz:  889/ 943/30; 7863/8343 tok/s;  12350 sec;\n",
            "[2024-03-19 12:25:49,288 INFO] Step 61000/100000; acc: 77.7; ppl:   8.3; xent: 2.1; lr: 0.00036; sents:   30818; bsz:  876/ 945/31; 8694/9377 tok/s;  12451 sec;\n",
            "[2024-03-19 12:27:30,195 INFO] Step 61500/100000; acc: 77.8; ppl:   8.2; xent: 2.1; lr: 0.00036; sents:   31169; bsz:  882/ 944/31; 8742/9359 tok/s;  12552 sec;\n",
            "[2024-03-19 12:29:10,956 INFO] Step 62000/100000; acc: 77.9; ppl:   8.2; xent: 2.1; lr: 0.00035; sents:   30357; bsz:  882/ 945/30; 8753/9381 tok/s;  12653 sec;\n",
            "[2024-03-19 12:30:51,556 INFO] Step 62500/100000; acc: 77.6; ppl:   8.3; xent: 2.1; lr: 0.00035; sents:   30620; bsz:  878/ 943/31; 8729/9374 tok/s;  12753 sec;\n",
            "[2024-03-19 12:32:32,272 INFO] Step 63000/100000; acc: 77.7; ppl:   8.3; xent: 2.1; lr: 0.00035; sents:   30983; bsz:  880/ 944/31; 8739/9372 tok/s;  12854 sec;\n",
            "[2024-03-19 12:34:13,132 INFO] Step 63500/100000; acc: 77.5; ppl:   8.3; xent: 2.1; lr: 0.00035; sents:   30947; bsz:  887/ 943/31; 8794/9352 tok/s;  12955 sec;\n",
            "[2024-03-19 12:35:53,837 INFO] Step 64000/100000; acc: 77.6; ppl:   8.3; xent: 2.1; lr: 0.00035; sents:   30477; bsz:  875/ 945/30; 8688/9385 tok/s;  13056 sec;\n",
            "[2024-03-19 12:37:34,239 INFO] Step 64500/100000; acc: 77.4; ppl:   8.4; xent: 2.1; lr: 0.00035; sents:   29285; bsz:  876/ 939/29; 8724/9354 tok/s;  13156 sec;\n",
            "[2024-03-19 12:39:15,078 INFO] Step 65000/100000; acc: 77.7; ppl:   8.3; xent: 2.1; lr: 0.00035; sents:   31600; bsz:  881/ 945/32; 8736/9367 tok/s;  13257 sec;\n",
            "[2024-03-19 12:39:25,471 INFO] valid stats calculation\n",
            "                           took: 10.391909122467041 s.\n",
            "[2024-03-19 12:39:25,472 INFO] Train perplexity: 13.8235\n",
            "[2024-03-19 12:39:25,472 INFO] Train accuracy: 68.6387\n",
            "[2024-03-19 12:39:25,472 INFO] Sentences processed: 4.00388e+06\n",
            "[2024-03-19 12:39:25,472 INFO] Average bsz:  881/ 943/31\n",
            "[2024-03-19 12:39:25,472 INFO] Validation perplexity: 10.822\n",
            "[2024-03-19 12:39:25,473 INFO] Validation accuracy: 72.9763\n",
            "[2024-03-19 12:39:25,473 INFO] Model is improving ppl: 10.9282 --> 10.822.\n",
            "[2024-03-19 12:39:25,473 INFO] Model is improving acc: 72.8689 --> 72.9763.\n",
            "[2024-03-19 12:39:25,477 INFO] Saving checkpoint /content/drive/MyDrive/Colab_Notebooks/Diplomovka/Dáta/europarl/complete_model_step_65000.pt\n",
            "[2024-03-19 12:41:08,015 INFO] Step 65500/100000; acc: 77.3; ppl:   8.4; xent: 2.1; lr: 0.00035; sents:   29907; bsz:  882/ 941/30; 7809/8330 tok/s;  13370 sec;\n",
            "[2024-03-19 12:42:48,683 INFO] Step 66000/100000; acc: 77.5; ppl:   8.3; xent: 2.1; lr: 0.00034; sents:   31038; bsz:  880/ 942/31; 8737/9361 tok/s;  13471 sec;\n",
            "[2024-03-19 12:43:10,207 INFO] * Transform statistics for corpus(50.00%):\n",
            "\t\t\t* FilterTooLongStats(filtered=18)\n",
            "\n",
            "[2024-03-19 12:43:10,207 INFO] Weighted corpora loaded so far:\n",
            "\t\t\t* corpus: 15\n",
            "[2024-03-19 12:43:20,194 INFO] Weighted corpora loaded so far:\n",
            "\t\t\t* corpus: 16\n",
            "[2024-03-19 12:43:50,119 INFO] * Transform statistics for corpus(50.00%):\n",
            "\t\t\t* FilterTooLongStats(filtered=10)\n",
            "\n",
            "[2024-03-19 12:43:50,119 INFO] Weighted corpora loaded so far:\n",
            "\t\t\t* corpus: 15\n",
            "[2024-03-19 12:44:00,294 INFO] Weighted corpora loaded so far:\n",
            "\t\t\t* corpus: 16\n",
            "[2024-03-19 12:44:30,912 INFO] Step 66500/100000; acc: 78.0; ppl:   8.2; xent: 2.1; lr: 0.00034; sents:   30808; bsz:  879/ 943/31; 8600/9224 tok/s;  13573 sec;\n",
            "[2024-03-19 12:46:12,114 INFO] Step 67000/100000; acc: 78.8; ppl:   7.9; xent: 2.1; lr: 0.00034; sents:   30709; bsz:  884/ 944/31; 8732/9327 tok/s;  13674 sec;\n",
            "[2024-03-19 12:47:53,085 INFO] Step 67500/100000; acc: 78.9; ppl:   7.8; xent: 2.1; lr: 0.00034; sents:   31224; bsz:  888/ 945/31; 8795/9358 tok/s;  13775 sec;\n",
            "[2024-03-19 12:49:33,826 INFO] Step 68000/100000; acc: 78.8; ppl:   7.9; xent: 2.1; lr: 0.00034; sents:   31413; bsz:  886/ 940/31; 8795/9329 tok/s;  13876 sec;\n",
            "[2024-03-19 12:51:14,807 INFO] Step 68500/100000; acc: 78.7; ppl:   7.9; xent: 2.1; lr: 0.00034; sents:   30230; bsz:  886/ 945/30; 8774/9360 tok/s;  13977 sec;\n",
            "[2024-03-19 12:52:55,227 INFO] Step 69000/100000; acc: 78.5; ppl:   8.0; xent: 2.1; lr: 0.00034; sents:   29901; bsz:  876/ 946/30; 8728/9416 tok/s;  14077 sec;\n",
            "[2024-03-19 12:54:35,953 INFO] Step 69500/100000; acc: 78.5; ppl:   8.0; xent: 2.1; lr: 0.00034; sents:   30830; bsz:  871/ 945/31; 8652/9385 tok/s;  14178 sec;\n",
            "[2024-03-19 12:56:16,902 INFO] Step 70000/100000; acc: 78.5; ppl:   8.0; xent: 2.1; lr: 0.00033; sents:   31716; bsz:  888/ 944/32; 8800/9348 tok/s;  14279 sec;\n",
            "[2024-03-19 12:56:27,121 INFO] valid stats calculation\n",
            "                           took: 10.218283414840698 s.\n",
            "[2024-03-19 12:56:27,123 INFO] Train perplexity: 13.2964\n",
            "[2024-03-19 12:56:27,123 INFO] Train accuracy: 69.3331\n",
            "[2024-03-19 12:56:27,123 INFO] Sentences processed: 4.31166e+06\n",
            "[2024-03-19 12:56:27,123 INFO] Average bsz:  881/ 943/31\n",
            "[2024-03-19 12:56:27,123 INFO] Validation perplexity: 10.8432\n",
            "[2024-03-19 12:56:27,123 INFO] Validation accuracy: 73.2021\n",
            "[2024-03-19 12:56:27,123 INFO] Stalled patience: 3/4\n",
            "[2024-03-19 12:56:27,127 INFO] Saving checkpoint /content/drive/MyDrive/Colab_Notebooks/Diplomovka/Dáta/europarl/complete_model_step_70000.pt\n",
            "[2024-03-19 12:58:09,464 INFO] Step 70500/100000; acc: 78.4; ppl:   8.0; xent: 2.1; lr: 0.00033; sents:   30516; bsz:  879/ 943/31; 7813/8379 tok/s;  14391 sec;\n",
            "[2024-03-19 12:59:49,779 INFO] Step 71000/100000; acc: 78.3; ppl:   8.0; xent: 2.1; lr: 0.00033; sents:   29670; bsz:  879/ 944/30; 8759/9413 tok/s;  14492 sec;\n",
            "[2024-03-19 13:01:29,866 INFO] Step 71500/100000; acc: 78.3; ppl:   8.0; xent: 2.1; lr: 0.00033; sents:   30472; bsz:  874/ 945/30; 8729/9443 tok/s;  14592 sec;\n",
            "[2024-03-19 13:03:10,450 INFO] Step 72000/100000; acc: 78.5; ppl:   8.0; xent: 2.1; lr: 0.00033; sents:   30840; bsz:  888/ 944/31; 8830/9389 tok/s;  14692 sec;\n",
            "[2024-03-19 13:04:50,992 INFO] Step 72500/100000; acc: 78.4; ppl:   8.0; xent: 2.1; lr: 0.00033; sents:   31406; bsz:  883/ 946/31; 8780/9405 tok/s;  14793 sec;\n",
            "[2024-03-19 13:06:31,122 INFO] Step 73000/100000; acc: 78.4; ppl:   8.0; xent: 2.1; lr: 0.00033; sents:   31482; bsz:  876/ 941/31; 8750/9398 tok/s;  14893 sec;\n",
            "[2024-03-19 13:08:11,729 INFO] Step 73500/100000; acc: 78.3; ppl:   8.0; xent: 2.1; lr: 0.00033; sents:   31206; bsz:  880/ 944/31; 8745/9388 tok/s;  14994 sec;\n",
            "[2024-03-19 13:09:52,259 INFO] Step 74000/100000; acc: 78.4; ppl:   8.0; xent: 2.1; lr: 0.00032; sents:   31003; bsz:  879/ 946/31; 8744/9408 tok/s;  15094 sec;\n",
            "[2024-03-19 13:11:13,420 INFO] * Transform statistics for corpus(50.00%):\n",
            "\t\t\t* FilterTooLongStats(filtered=17)\n",
            "\n",
            "[2024-03-19 13:11:13,420 INFO] Weighted corpora loaded so far:\n",
            "\t\t\t* corpus: 17\n",
            "[2024-03-19 13:11:23,574 INFO] Weighted corpora loaded so far:\n",
            "\t\t\t* corpus: 18\n",
            "[2024-03-19 13:11:32,905 INFO] Step 74500/100000; acc: 78.2; ppl:   8.0; xent: 2.1; lr: 0.00032; sents:   29998; bsz:  883/ 941/30; 8770/9352 tok/s;  15195 sec;\n",
            "[2024-03-19 13:11:56,081 INFO] * Transform statistics for corpus(50.00%):\n",
            "\t\t\t* FilterTooLongStats(filtered=13)\n",
            "\n",
            "[2024-03-19 13:11:56,081 INFO] Weighted corpora loaded so far:\n",
            "\t\t\t* corpus: 17\n",
            "[2024-03-19 13:12:06,080 INFO] Weighted corpora loaded so far:\n",
            "\t\t\t* corpus: 18\n",
            "[2024-03-19 13:13:13,203 INFO] Step 75000/100000; acc: 79.3; ppl:   7.7; xent: 2.0; lr: 0.00032; sents:   31156; bsz:  879/ 940/31; 8763/9370 tok/s;  15295 sec;\n",
            "[2024-03-19 13:13:23,215 INFO] valid stats calculation\n",
            "                           took: 10.011137247085571 s.\n",
            "[2024-03-19 13:13:23,217 INFO] Train perplexity: 12.8512\n",
            "[2024-03-19 13:13:23,217 INFO] Train accuracy: 69.9408\n",
            "[2024-03-19 13:13:23,217 INFO] Sentences processed: 4.61941e+06\n",
            "[2024-03-19 13:13:23,217 INFO] Average bsz:  881/ 943/31\n",
            "[2024-03-19 13:13:23,217 INFO] Validation perplexity: 10.923\n",
            "[2024-03-19 13:13:23,217 INFO] Validation accuracy: 73.0243\n",
            "[2024-03-19 13:13:23,217 INFO] Stalled patience: 2/4\n",
            "[2024-03-19 13:13:23,221 INFO] Saving checkpoint /content/drive/MyDrive/Colab_Notebooks/Diplomovka/Dáta/europarl/complete_model_step_75000.pt\n",
            "[2024-03-19 13:15:05,743 INFO] Step 75500/100000; acc: 79.8; ppl:   7.5; xent: 2.0; lr: 0.00032; sents:   30908; bsz:  878/ 946/31; 7804/8404 tok/s;  15408 sec;\n",
            "[2024-03-19 13:16:46,088 INFO] Step 76000/100000; acc: 79.4; ppl:   7.7; xent: 2.0; lr: 0.00032; sents:   30101; bsz:  879/ 946/30; 8756/9429 tok/s;  15508 sec;\n",
            "[2024-03-19 13:18:26,400 INFO] Step 76500/100000; acc: 79.4; ppl:   7.7; xent: 2.0; lr: 0.00032; sents:   29807; bsz:  877/ 943/30; 8745/9400 tok/s;  15608 sec;\n",
            "[2024-03-19 13:20:06,544 INFO] Step 77000/100000; acc: 79.4; ppl:   7.7; xent: 2.0; lr: 0.00032; sents:   30501; bsz:  873/ 943/31; 8716/9413 tok/s;  15708 sec;\n",
            "[2024-03-19 13:21:47,492 INFO] Step 77500/100000; acc: 79.5; ppl:   7.6; xent: 2.0; lr: 0.00032; sents:   32002; bsz:  888/ 945/32; 8794/9360 tok/s;  15809 sec;\n",
            "[2024-03-19 13:23:27,979 INFO] Step 78000/100000; acc: 79.0; ppl:   7.8; xent: 2.1; lr: 0.00032; sents:   30546; bsz:  876/ 942/31; 8716/9374 tok/s;  15910 sec;\n",
            "[2024-03-19 13:25:08,418 INFO] Step 78500/100000; acc: 79.3; ppl:   7.7; xent: 2.0; lr: 0.00032; sents:   30627; bsz:  882/ 943/31; 8782/9387 tok/s;  16010 sec;\n",
            "[2024-03-19 13:26:48,564 INFO] Step 79000/100000; acc: 79.1; ppl:   7.7; xent: 2.0; lr: 0.00031; sents:   30596; bsz:  872/ 943/31; 8710/9421 tok/s;  16110 sec;\n",
            "[2024-03-19 13:28:29,126 INFO] Step 79500/100000; acc: 79.2; ppl:   7.7; xent: 2.0; lr: 0.00031; sents:   29775; bsz:  883/ 948/30; 8779/9428 tok/s;  16211 sec;\n",
            "[2024-03-19 13:30:09,584 INFO] Step 80000/100000; acc: 79.2; ppl:   7.7; xent: 2.0; lr: 0.00031; sents:   31234; bsz:  883/ 943/31; 8794/9389 tok/s;  16311 sec;\n",
            "[2024-03-19 13:30:19,616 INFO] valid stats calculation\n",
            "                           took: 10.031444787979126 s.\n",
            "[2024-03-19 13:30:19,618 INFO] Train perplexity: 12.4451\n",
            "[2024-03-19 13:30:19,618 INFO] Train accuracy: 70.5271\n",
            "[2024-03-19 13:30:19,618 INFO] Sentences processed: 4.92551e+06\n",
            "[2024-03-19 13:30:19,618 INFO] Average bsz:  881/ 944/31\n",
            "[2024-03-19 13:30:19,618 INFO] Validation perplexity: 10.8826\n",
            "[2024-03-19 13:30:19,618 INFO] Validation accuracy: 73.2405\n",
            "[2024-03-19 13:30:19,618 INFO] Stalled patience: 1/4\n",
            "[2024-03-19 13:30:19,622 INFO] Saving checkpoint /content/drive/MyDrive/Colab_Notebooks/Diplomovka/Dáta/europarl/complete_model_step_80000.pt\n",
            "[2024-03-19 13:32:01,983 INFO] Step 80500/100000; acc: 79.1; ppl:   7.7; xent: 2.0; lr: 0.00031; sents:   30419; bsz:  884/ 942/30; 7863/8382 tok/s;  16424 sec;\n",
            "[2024-03-19 13:33:42,660 INFO] Step 81000/100000; acc: 79.1; ppl:   7.8; xent: 2.0; lr: 0.00031; sents:   31866; bsz:  880/ 940/32; 8743/9341 tok/s;  16525 sec;\n",
            "[2024-03-19 13:35:23,482 INFO] Step 81500/100000; acc: 79.0; ppl:   7.8; xent: 2.1; lr: 0.00031; sents:   31127; bsz:  883/ 941/31; 8759/9334 tok/s;  16625 sec;\n",
            "[2024-03-19 13:37:03,728 INFO] Step 82000/100000; acc: 78.9; ppl:   7.8; xent: 2.1; lr: 0.00031; sents:   31323; bsz:  876/ 943/31; 8734/9409 tok/s;  16726 sec;\n",
            "[2024-03-19 13:38:44,248 INFO] Step 82500/100000; acc: 79.0; ppl:   7.8; xent: 2.1; lr: 0.00031; sents:   30934; bsz:  883/ 945/31; 8780/9402 tok/s;  16826 sec;\n",
            "[2024-03-19 13:39:23,903 INFO] * Transform statistics for corpus(50.00%):\n",
            "\t\t\t* FilterTooLongStats(filtered=16)\n",
            "\n",
            "[2024-03-19 13:39:23,904 INFO] Weighted corpora loaded so far:\n",
            "\t\t\t* corpus: 19\n",
            "[2024-03-19 13:39:34,054 INFO] Weighted corpora loaded so far:\n",
            "\t\t\t* corpus: 20\n",
            "[2024-03-19 13:40:12,383 INFO] * Transform statistics for corpus(50.00%):\n",
            "\t\t\t* FilterTooLongStats(filtered=12)\n",
            "\n",
            "[2024-03-19 13:40:12,383 INFO] Weighted corpora loaded so far:\n",
            "\t\t\t* corpus: 19\n",
            "[2024-03-19 13:40:24,930 INFO] Step 83000/100000; acc: 79.2; ppl:   7.7; xent: 2.0; lr: 0.00031; sents:   30912; bsz:  889/ 940/31; 8828/9341 tok/s;  16927 sec;\n",
            "[2024-03-19 13:40:27,302 INFO] Weighted corpora loaded so far:\n",
            "\t\t\t* corpus: 20\n",
            "[2024-03-19 13:42:05,606 INFO] Step 83500/100000; acc: 80.4; ppl:   7.3; xent: 2.0; lr: 0.00031; sents:   31588; bsz:  882/ 946/32; 8764/9400 tok/s;  17028 sec;\n",
            "[2024-03-19 13:43:46,099 INFO] Step 84000/100000; acc: 80.3; ppl:   7.4; xent: 2.0; lr: 0.00030; sents:   30363; bsz:  880/ 947/30; 8757/9424 tok/s;  17128 sec;\n",
            "[2024-03-19 13:45:26,724 INFO] Step 84500/100000; acc: 80.1; ppl:   7.5; xent: 2.0; lr: 0.00030; sents:   29304; bsz:  886/ 942/29; 8803/9365 tok/s;  17229 sec;\n",
            "[2024-03-19 13:47:07,353 INFO] Step 85000/100000; acc: 80.1; ppl:   7.4; xent: 2.0; lr: 0.00030; sents:   30839; bsz:  883/ 942/31; 8773/9362 tok/s;  17329 sec;\n",
            "[2024-03-19 13:47:17,796 INFO] valid stats calculation\n",
            "                           took: 10.441471576690674 s.\n",
            "[2024-03-19 13:47:17,798 INFO] Train perplexity: 12.0908\n",
            "[2024-03-19 13:47:17,798 INFO] Train accuracy: 71.0561\n",
            "[2024-03-19 13:47:17,798 INFO] Sentences processed: 5.23418e+06\n",
            "[2024-03-19 13:47:17,798 INFO] Average bsz:  881/ 944/31\n",
            "[2024-03-19 13:47:17,798 INFO] Validation perplexity: 10.9374\n",
            "[2024-03-19 13:47:17,798 INFO] Validation accuracy: 73.1316\n",
            "[2024-03-19 13:47:17,798 INFO] Stalled patience: 0/4\n",
            "[2024-03-19 13:47:17,798 INFO] Training finished after stalled validations. Early Stop!\n",
            "[2024-03-19 13:47:17,798 INFO] Best model found at step 65000\n",
            "[2024-03-19 13:47:17,798 INFO] earlystopper has_stopped!\n",
            "[2024-03-19 13:47:21,198 INFO] Saving checkpoint /content/drive/MyDrive/Colab_Notebooks/Diplomovka/Dáta/europarl/complete_model_step_85000.pt\n"
          ]
        }
      ],
      "source": [
        "# Trénovanie the NMT model\n",
        "!onmt_train -config config.yaml -gpu_ranks 0"
      ]
    },
    {
      "cell_type": "markdown",
      "metadata": {
        "id": "9R8EYgvfvDMy"
      },
      "source": [
        "# Preklad"
      ]
    },
    {
      "cell_type": "code",
      "execution_count": 54,
      "metadata": {
        "id": "b4FKodPwvIWx"
      },
      "outputs": [],
      "source": [
        "config_translate = '''\n",
        "\n",
        "model: /content/drive/MyDrive/Colab_Notebooks/Diplomovka/Dáta/europarl/complete_model_step_85000.pt     # sem vložiť najlepší model trénovania\n",
        "src: /content/drive/MyDrive/Colab_Notebooks/Diplomovka/Dáta/europarl/source_subworded.test\n",
        "output: /content/drive/MyDrive/Colab_Notebooks/Diplomovka/Dáta/europarl/translated\n",
        "\n",
        "#model: /content/drive/MyDrive/Colab_Notebooks/Diplomovka/Dáta/ParaCrawl/complete_model_step_100000.pt     # sem vložiť najlepší model trénovania\n",
        "#src: /content/drive/MyDrive/Colab_Notebooks/Diplomovka/Dáta/ParaCrawl/source_subworded.test\n",
        "#output: /content/drive/MyDrive/Colab_Notebooks/Diplomovka/Dáta/ParaCrawl/translated\n",
        "\n",
        "log_file: translate.log\n",
        "\n",
        "seed: 42\n",
        "\n",
        "beam_size: 4\n",
        "min_length: 1\n",
        "length_penalty: avg\n",
        "\n",
        "batch_size: 32\n",
        "gpu: 0\n",
        "\n",
        "coverage_penalty: summary\n",
        "beta: 0.5\n",
        "\n",
        "'''\n",
        "\n",
        "with open(\"config_translated.yaml\", \"w+\", encoding=\"utf-8\") as config_yaml:\n",
        "  config_yaml.write(config_translate)"
      ]
    },
    {
      "cell_type": "code",
      "execution_count": 55,
      "metadata": {
        "id": "hQ0AMr65aU2x",
        "colab": {
          "base_uri": "https://localhost:8080/"
        },
        "outputId": "f133b6f3-0a33-4572-80ab-a5646c608afc"
      },
      "outputs": [
        {
          "output_type": "stream",
          "name": "stdout",
          "text": [
            "[2024-03-19 14:47:24,826 INFO] Loading checkpoint from /content/drive/MyDrive/Colab_Notebooks/Diplomovka/Dáta/europarl/complete_model_step_85000.pt\n",
            "[2024-03-19 14:47:25,911 INFO] Loading data into the model\n",
            "[2024-03-19 14:47:49,185 INFO] PRED SCORE: -6.1851, PRED PPL: 485.45 NB SENTENCES: 2000\n",
            "Time w/o python interpreter load/terminate:  24.38166379928589\n"
          ]
        }
      ],
      "source": [
        "# Preklad\n",
        "!onmt_translate -config config_translated.yaml"
      ]
    },
    {
      "cell_type": "code",
      "execution_count": 56,
      "metadata": {
        "id": "ZgmIvlbOaXv7",
        "colab": {
          "base_uri": "https://localhost:8080/"
        },
        "outputId": "a59629c9-1f29-4b9a-9404-b4037d8c8a9a"
      },
      "outputs": [
        {
          "output_type": "stream",
          "name": "stdout",
          "text": [
            "▁spôsob il ▁mi ▁niekoľko ▁otázok , ▁ktoré ▁je ▁potrebné ▁urobiť , ▁a ▁moj im ▁prvým ▁bodom ▁je , ▁že ▁sa ▁zaoberáme ▁hod inou ▁otázok ▁Komisii , ▁nie ▁konkrét nym ▁komisár om\n",
            "▁pracov al ▁ako ▁predseda ▁Európskej ▁komisie ▁v ▁rokoch ▁ 1 9 8 1 ▁až ▁ 1 9 8 5 .\n",
            "▁vážená ▁pani ▁predsedajúca , ▁dámy ▁a ▁páni , ▁hlasoval ▁som ▁za ▁správu ▁pani ▁To ia ovej ▁o ▁sociál nom ▁hospodárstve\n",
            "▁chceme ▁súd nu ▁vý hra du , ▁rozhodnutie ▁o ▁základných ▁právach\n",
            "▁napríklad ▁rozšir ovanie ▁p ú šte ▁môže ▁zintenzív niť ▁existujú cu ▁všeobec nú ▁ten den ciu ▁k ▁väčšie mu ▁su ch ému , ▁alebo ▁môže ▁po chádzať ▁z ▁zmeny ▁v ▁miestnej ▁kl íme\n",
            "▁rád ▁by ▁som ▁pani ▁komisárke ▁a ▁predsedovi ▁pripomenul , ▁že ▁Európsky ▁parlament ▁už ▁v ▁tejto ▁otázke ▁vyjadril ▁svoju ▁podporu ▁veľkej ▁väčšine\n",
            "\n"
          ]
        }
      ],
      "source": [
        "translated = r\"/content/drive/MyDrive/Colab_Notebooks/Diplomovka/Dáta/europarl/translated\"\n",
        "#translated = r\"/content/drive/MyDrive/Colab_Notebooks/Diplomovka/Dáta/ParaCrawl/translated\"\n",
        "with open(translated, \"r\", encoding=\"utf-8\") as file:\n",
        "    for i, line in enumerate(file):\n",
        "        print(line.strip())\n",
        "        if i >= 5:\n",
        "            break\n",
        "\n",
        "print()"
      ]
    },
    {
      "cell_type": "code",
      "execution_count": 57,
      "metadata": {
        "id": "6flpTjHkaY-g",
        "colab": {
          "base_uri": "https://localhost:8080/"
        },
        "outputId": "a5ec4184-8c65-4a8f-814b-75c7a9bdba3f"
      },
      "outputs": [
        {
          "output_type": "stream",
          "name": "stdout",
          "text": [
            "Dekódovanie bolo dokončené! Výstupný súbor: /content/drive/MyDrive/Colab_Notebooks/Diplomovka/Dáta/europarl/translated.desubword\n",
            "Dekódovanie bolo dokončené! Výstupný súbor: /content/drive/MyDrive/Colab_Notebooks/Diplomovka/Dáta/europarl/target_subworded.test.desubword\n"
          ]
        }
      ],
      "source": [
        "target_model = r\"/content/target.model\"\n",
        "translation = r\"/content/drive/MyDrive/Colab_Notebooks/Diplomovka/Dáta/europarl/translated\"\n",
        "#translation = r\"/content/drive/MyDrive/Colab_Notebooks/Diplomovka/Dáta/ParaCrawl/translated\"\n",
        "translation_desubword = translation + \".desubword\"\n",
        "\n",
        "sp = spm.SentencePieceProcessor()\n",
        "sp.load(target_model)\n",
        "\n",
        "# Desubword prekladový súbor\n",
        "with open(translation, encoding='utf-8') as vstup, open(translation_desubword, \"w\", encoding='utf-8') as vystup:\n",
        "    for rad in vstup:\n",
        "        desub = sp.decode_pieces(rad.strip().split(\" \"))\n",
        "        vystup.write(desub + \"\\n\")\n",
        "\n",
        "print(f\"Dekódovanie bolo dokončené! Výstupný súbor: {translation_desubword}\")\n",
        "\n",
        "target_test = r\"/content/drive/MyDrive/Colab_Notebooks/Diplomovka/Dáta/europarl/target_subworded.test\"\n",
        "#target_test = r\"/content/drive/MyDrive/Colab_Notebooks/Diplomovka/Dáta/ParaCrawl/target_subworded.test\"\n",
        "target_test_desubword = target_test + \".desubword\"\n",
        "\n",
        "with open(target_test, encoding='utf-8') as vstup, open(target_test_desubword, \"w\", encoding='utf-8') as vystup:\n",
        "    for rad in vstup:\n",
        "        desub = sp.decode_pieces(rad.strip().split(\" \"))\n",
        "        vystup.write(desub + \"\\n\")\n",
        "\n",
        "print(f\"Dekódovanie bolo dokončené! Výstupný súbor: {target_test_desubword}\")"
      ]
    },
    {
      "cell_type": "code",
      "execution_count": 58,
      "metadata": {
        "id": "ibTSQf5HbPfw"
      },
      "outputs": [],
      "source": [
        "reference = r\"/content/drive/MyDrive/Colab_Notebooks/Diplomovka/Dáta/europarl/target_subworded.test.desubword\"\n",
        "preklad = r\"/content/drive/MyDrive/Colab_Notebooks/Diplomovka/Dáta/europarl/translated.desubword\"\n",
        "\n",
        "#reference = r\"/content/drive/MyDrive/Colab_Notebooks/Diplomovka/Dáta/ParaCrawl/target_subworded.test.desubword\"\n",
        "#preklad = r\"/content/drive/MyDrive/Colab_Notebooks/Diplomovka/Dáta/ParaCrawl/translated.desubword\""
      ]
    },
    {
      "cell_type": "code",
      "source": [
        "with open(reference, \"r\", encoding=\"utf-8\") as file:\n",
        "    for i, line in enumerate(file):\n",
        "        print(line.strip())\n",
        "        if i >= 5:\n",
        "            break\n",
        "\n",
        "print()"
      ],
      "metadata": {
        "colab": {
          "base_uri": "https://localhost:8080/"
        },
        "id": "4EVAw1ioMaur",
        "outputId": "5a8c0a7f-9a87-46b6-9bdc-2dad84e3f890"
      },
      "execution_count": 59,
      "outputs": [
        {
          "output_type": "stream",
          "name": "stdout",
          "text": [
            "dala som zistiť niekoľko informácií a moja prvá pripomienka je, že v otázky vo vyhradenom čase sú pre Komisiu a nie pre konkrétneho komisára\n",
            "od roku 1981 až do roku 1985 vykonával funkciu predsedu Európskej komisie\n",
            "vážená pani predsedajúca, dámy a páni, hlasoval som za správu pani Toiaovej o sociálnom hospodárstve\n",
            "chceme súdnu výhradu, súdne rozhodnutie o základných právach\n",
            "napríklad rozširovanie púšte môže zintenzívniť existujúci klimatický trend k väčšiemu suchu alebo sa tento proces môže spustiť z dôvodu zmeny miestnej klímy\n",
            "chcel by som pripomenúť pani komisárke a úradujúcemu predsedovi, že Európsky parlament už vyjadril svoju podporu tejto otázke veľkou väčšinou\n",
            "\n"
          ]
        }
      ]
    },
    {
      "cell_type": "code",
      "execution_count": 60,
      "metadata": {
        "id": "_3MFttHDbWmr",
        "colab": {
          "base_uri": "https://localhost:8080/"
        },
        "outputId": "3c53883a-47c0-4f30-a336-23f7335a10dc"
      },
      "outputs": [
        {
          "output_type": "stream",
          "name": "stdout",
          "text": [
            "spôsobil mi niekoľko otázok, ktoré je potrebné urobiť, a mojim prvým bodom je, že sa zaoberáme hodinou otázok Komisii, nie konkrétnym komisárom\n",
            "pracoval ako predseda Európskej komisie v rokoch 1981 až 1985.\n",
            "vážená pani predsedajúca, dámy a páni, hlasoval som za správu pani Toiaovej o sociálnom hospodárstve\n",
            "chceme súdnu výhradu, rozhodnutie o základných právach\n",
            "napríklad rozširovanie púšte môže zintenzívniť existujúcu všeobecnú tendenciu k väčšiemu suchému, alebo môže pochádzať z zmeny v miestnej klíme\n",
            "rád by som pani komisárke a predsedovi pripomenul, že Európsky parlament už v tejto otázke vyjadril svoju podporu veľkej väčšine\n",
            "\n"
          ]
        }
      ],
      "source": [
        "with open(preklad, \"r\", encoding=\"utf-8\") as file:\n",
        "    for i, line in enumerate(file):\n",
        "        print(line.strip())\n",
        "        if i >= 5:\n",
        "            break\n",
        "\n",
        "print()"
      ]
    },
    {
      "cell_type": "code",
      "source": [
        "#!pip install spacy"
      ],
      "metadata": {
        "id": "WODrM4Wo3H6L"
      },
      "execution_count": null,
      "outputs": []
    },
    {
      "cell_type": "markdown",
      "source": [
        "# Evalvácia"
      ],
      "metadata": {
        "id": "KhB_vCb1yGnk"
      }
    },
    {
      "cell_type": "code",
      "source": [
        "#!python -m spacy download en_core_web_sm\n",
        "!python -m spacy download xx_ent_wiki_sm"
      ],
      "metadata": {
        "id": "4cXohf183C1P",
        "colab": {
          "base_uri": "https://localhost:8080/"
        },
        "outputId": "997b5875-6b93-4916-d5e6-fb1cad2dd5e0"
      },
      "execution_count": 61,
      "outputs": [
        {
          "output_type": "stream",
          "name": "stdout",
          "text": [
            "Collecting xx-ent-wiki-sm==3.7.0\n",
            "  Downloading https://github.com/explosion/spacy-models/releases/download/xx_ent_wiki_sm-3.7.0/xx_ent_wiki_sm-3.7.0-py3-none-any.whl (11.1 MB)\n",
            "\u001b[2K     \u001b[90m━━━━━━━━━━━━━━━━━━━━━━━━━━━━━━━━━━━━━━━━\u001b[0m \u001b[32m11.1/11.1 MB\u001b[0m \u001b[31m45.9 MB/s\u001b[0m eta \u001b[36m0:00:00\u001b[0m\n",
            "\u001b[?25hRequirement already satisfied: spacy<3.8.0,>=3.7.0 in /usr/local/lib/python3.10/dist-packages (from xx-ent-wiki-sm==3.7.0) (3.7.4)\n",
            "Requirement already satisfied: spacy-legacy<3.1.0,>=3.0.11 in /usr/local/lib/python3.10/dist-packages (from spacy<3.8.0,>=3.7.0->xx-ent-wiki-sm==3.7.0) (3.0.12)\n",
            "Requirement already satisfied: spacy-loggers<2.0.0,>=1.0.0 in /usr/local/lib/python3.10/dist-packages (from spacy<3.8.0,>=3.7.0->xx-ent-wiki-sm==3.7.0) (1.0.5)\n",
            "Requirement already satisfied: murmurhash<1.1.0,>=0.28.0 in /usr/local/lib/python3.10/dist-packages (from spacy<3.8.0,>=3.7.0->xx-ent-wiki-sm==3.7.0) (1.0.10)\n",
            "Requirement already satisfied: cymem<2.1.0,>=2.0.2 in /usr/local/lib/python3.10/dist-packages (from spacy<3.8.0,>=3.7.0->xx-ent-wiki-sm==3.7.0) (2.0.8)\n",
            "Requirement already satisfied: preshed<3.1.0,>=3.0.2 in /usr/local/lib/python3.10/dist-packages (from spacy<3.8.0,>=3.7.0->xx-ent-wiki-sm==3.7.0) (3.0.9)\n",
            "Requirement already satisfied: thinc<8.3.0,>=8.2.2 in /usr/local/lib/python3.10/dist-packages (from spacy<3.8.0,>=3.7.0->xx-ent-wiki-sm==3.7.0) (8.2.3)\n",
            "Requirement already satisfied: wasabi<1.2.0,>=0.9.1 in /usr/local/lib/python3.10/dist-packages (from spacy<3.8.0,>=3.7.0->xx-ent-wiki-sm==3.7.0) (1.1.2)\n",
            "Requirement already satisfied: srsly<3.0.0,>=2.4.3 in /usr/local/lib/python3.10/dist-packages (from spacy<3.8.0,>=3.7.0->xx-ent-wiki-sm==3.7.0) (2.4.8)\n",
            "Requirement already satisfied: catalogue<2.1.0,>=2.0.6 in /usr/local/lib/python3.10/dist-packages (from spacy<3.8.0,>=3.7.0->xx-ent-wiki-sm==3.7.0) (2.0.10)\n",
            "Requirement already satisfied: weasel<0.4.0,>=0.1.0 in /usr/local/lib/python3.10/dist-packages (from spacy<3.8.0,>=3.7.0->xx-ent-wiki-sm==3.7.0) (0.3.4)\n",
            "Requirement already satisfied: typer<0.10.0,>=0.3.0 in /usr/local/lib/python3.10/dist-packages (from spacy<3.8.0,>=3.7.0->xx-ent-wiki-sm==3.7.0) (0.9.0)\n",
            "Requirement already satisfied: smart-open<7.0.0,>=5.2.1 in /usr/local/lib/python3.10/dist-packages (from spacy<3.8.0,>=3.7.0->xx-ent-wiki-sm==3.7.0) (6.4.0)\n",
            "Requirement already satisfied: tqdm<5.0.0,>=4.38.0 in /usr/local/lib/python3.10/dist-packages (from spacy<3.8.0,>=3.7.0->xx-ent-wiki-sm==3.7.0) (4.66.2)\n",
            "Requirement already satisfied: requests<3.0.0,>=2.13.0 in /usr/local/lib/python3.10/dist-packages (from spacy<3.8.0,>=3.7.0->xx-ent-wiki-sm==3.7.0) (2.31.0)\n",
            "Requirement already satisfied: pydantic!=1.8,!=1.8.1,<3.0.0,>=1.7.4 in /usr/local/lib/python3.10/dist-packages (from spacy<3.8.0,>=3.7.0->xx-ent-wiki-sm==3.7.0) (2.6.4)\n",
            "Requirement already satisfied: jinja2 in /usr/local/lib/python3.10/dist-packages (from spacy<3.8.0,>=3.7.0->xx-ent-wiki-sm==3.7.0) (3.1.3)\n",
            "Requirement already satisfied: setuptools in /usr/local/lib/python3.10/dist-packages (from spacy<3.8.0,>=3.7.0->xx-ent-wiki-sm==3.7.0) (67.7.2)\n",
            "Requirement already satisfied: packaging>=20.0 in /usr/local/lib/python3.10/dist-packages (from spacy<3.8.0,>=3.7.0->xx-ent-wiki-sm==3.7.0) (24.0)\n",
            "Requirement already satisfied: langcodes<4.0.0,>=3.2.0 in /usr/local/lib/python3.10/dist-packages (from spacy<3.8.0,>=3.7.0->xx-ent-wiki-sm==3.7.0) (3.3.0)\n",
            "Requirement already satisfied: numpy>=1.19.0 in /usr/local/lib/python3.10/dist-packages (from spacy<3.8.0,>=3.7.0->xx-ent-wiki-sm==3.7.0) (1.25.2)\n",
            "Requirement already satisfied: annotated-types>=0.4.0 in /usr/local/lib/python3.10/dist-packages (from pydantic!=1.8,!=1.8.1,<3.0.0,>=1.7.4->spacy<3.8.0,>=3.7.0->xx-ent-wiki-sm==3.7.0) (0.6.0)\n",
            "Requirement already satisfied: pydantic-core==2.16.3 in /usr/local/lib/python3.10/dist-packages (from pydantic!=1.8,!=1.8.1,<3.0.0,>=1.7.4->spacy<3.8.0,>=3.7.0->xx-ent-wiki-sm==3.7.0) (2.16.3)\n",
            "Requirement already satisfied: typing-extensions>=4.6.1 in /usr/local/lib/python3.10/dist-packages (from pydantic!=1.8,!=1.8.1,<3.0.0,>=1.7.4->spacy<3.8.0,>=3.7.0->xx-ent-wiki-sm==3.7.0) (4.10.0)\n",
            "Requirement already satisfied: charset-normalizer<4,>=2 in /usr/local/lib/python3.10/dist-packages (from requests<3.0.0,>=2.13.0->spacy<3.8.0,>=3.7.0->xx-ent-wiki-sm==3.7.0) (3.3.2)\n",
            "Requirement already satisfied: idna<4,>=2.5 in /usr/local/lib/python3.10/dist-packages (from requests<3.0.0,>=2.13.0->spacy<3.8.0,>=3.7.0->xx-ent-wiki-sm==3.7.0) (3.6)\n",
            "Requirement already satisfied: urllib3<3,>=1.21.1 in /usr/local/lib/python3.10/dist-packages (from requests<3.0.0,>=2.13.0->spacy<3.8.0,>=3.7.0->xx-ent-wiki-sm==3.7.0) (2.0.7)\n",
            "Requirement already satisfied: certifi>=2017.4.17 in /usr/local/lib/python3.10/dist-packages (from requests<3.0.0,>=2.13.0->spacy<3.8.0,>=3.7.0->xx-ent-wiki-sm==3.7.0) (2024.2.2)\n",
            "Requirement already satisfied: blis<0.8.0,>=0.7.8 in /usr/local/lib/python3.10/dist-packages (from thinc<8.3.0,>=8.2.2->spacy<3.8.0,>=3.7.0->xx-ent-wiki-sm==3.7.0) (0.7.11)\n",
            "Requirement already satisfied: confection<1.0.0,>=0.0.1 in /usr/local/lib/python3.10/dist-packages (from thinc<8.3.0,>=8.2.2->spacy<3.8.0,>=3.7.0->xx-ent-wiki-sm==3.7.0) (0.1.4)\n",
            "Requirement already satisfied: click<9.0.0,>=7.1.1 in /usr/local/lib/python3.10/dist-packages (from typer<0.10.0,>=0.3.0->spacy<3.8.0,>=3.7.0->xx-ent-wiki-sm==3.7.0) (8.1.7)\n",
            "Requirement already satisfied: cloudpathlib<0.17.0,>=0.7.0 in /usr/local/lib/python3.10/dist-packages (from weasel<0.4.0,>=0.1.0->spacy<3.8.0,>=3.7.0->xx-ent-wiki-sm==3.7.0) (0.16.0)\n",
            "Requirement already satisfied: MarkupSafe>=2.0 in /usr/local/lib/python3.10/dist-packages (from jinja2->spacy<3.8.0,>=3.7.0->xx-ent-wiki-sm==3.7.0) (2.1.5)\n",
            "\u001b[38;5;2m✔ Download and installation successful\u001b[0m\n",
            "You can now load the package via spacy.load('xx_ent_wiki_sm')\n",
            "\u001b[38;5;3m⚠ Restart to reload dependencies\u001b[0m\n",
            "If you are in a Jupyter or Colab notebook, you may need to restart Python in\n",
            "order to load all the package's dependencies. You can do this by selecting the\n",
            "'Restart kernel' or 'Restart runtime' option.\n"
          ]
        }
      ]
    },
    {
      "cell_type": "code",
      "source": [
        "import spacy\n",
        "import sacrebleu\n",
        "from nltk.translate import meteor_score as ms\n",
        "import nltk\n",
        "nltk.download('wordnet')\n",
        "\n",
        "nlp = spacy.load(\"xx_ent_wiki_sm\") #https://github.com/explosion/spacy-models/releases/tag/xx_ent_wiki_sm-3.7.0"
      ],
      "metadata": {
        "colab": {
          "base_uri": "https://localhost:8080/"
        },
        "id": "0TXq81Lq2sjn",
        "outputId": "00ab5719-df1f-4dde-bc0e-fc503e6cbc20"
      },
      "execution_count": 62,
      "outputs": [
        {
          "output_type": "stream",
          "name": "stderr",
          "text": [
            "[nltk_data] Downloading package wordnet to /root/nltk_data...\n",
            "[nltk_data]   Package wordnet is already up-to-date!\n",
            "/usr/local/lib/python3.10/dist-packages/spacy/util.py:1740: UserWarning: [W111] Jupyter notebook detected: if using `prefer_gpu()` or `require_gpu()`, include it in the same cell right before `spacy.load()` to ensure that the model is loaded on the correct device. More information: http://spacy.io/usage/v3#jupyter-notebook-gpu\n",
            "  warnings.warn(Warnings.W111)\n"
          ]
        }
      ]
    },
    {
      "cell_type": "code",
      "source": [
        "reference = r\"/content/drive/MyDrive/Colab_Notebooks/Diplomovka/Dáta/europarl/target_subworded.test.desubword\"\n",
        "preklad = r\"/content/drive/MyDrive/Colab_Notebooks/Diplomovka/Dáta/europarl/translated.desubword\""
      ],
      "metadata": {
        "id": "diNDH7rPzl_9"
      },
      "execution_count": 63,
      "outputs": []
    },
    {
      "cell_type": "code",
      "execution_count": 64,
      "metadata": {
        "id": "Y_Mm6k99ba9I",
        "colab": {
          "base_uri": "https://localhost:8080/"
        },
        "outputId": "d0581e3c-15fa-4c89-d32b-e2b23d3c04da"
      },
      "outputs": [
        {
          "output_type": "stream",
          "name": "stdout",
          "text": [
            "Referenčná veta v SK jazyku: dala som zistiť niekoľko informácií a moja prvá pripomienka je, že v otázky vo vyhradenom čase sú pre Komisiu a nie pre konkrétneho komisára\n",
            "Preložená veta:\t\t     spôsobil mi niekoľko otázok, ktoré je potrebné urobiť, a mojim prvým bodom je, že sa zaoberáme hodinou otázok Komisii, nie konkrétnym komisárom\n",
            "BLEU:   33.37136278585515\n",
            "METEOR:  0.11952191235059761\n"
          ]
        }
      ],
      "source": [
        "# referenčné hodnoty\n",
        "refer = []\n",
        "\n",
        "with open(reference, encoding='utf-8') as reference:\n",
        "    for rad in reference:\n",
        "        rad = rad.strip()\n",
        "        refer.append(rad)\n",
        "\n",
        "print(\"Referenčná veta v SK jazyku:\", refer[0]) # výpis prvej referenčenj vety, pomocou ktorej budeme porovnávať vety\n",
        "\n",
        "refer = [refer]  # list listov, teda forma, ktorú si vyžaduje SacreBLEU\n",
        "\n",
        "# hodnoty, ktoré sme preložili\n",
        "prek = []\n",
        "\n",
        "with open(preklad, encoding='utf-8') as preklad:\n",
        "    for rad in preklad:\n",
        "        rad = rad.strip()\n",
        "        prek.append(rad)\n",
        "\n",
        "print(\"Preložená veta:\\t\\t    \", prek[0]) # výpis prvého preloženého riadka\n",
        "\n",
        "# BLEU skóre - výpočet BLEU na základe porovnania referenčných viet s preloženými vetami\n",
        "bleu = sacrebleu.corpus_bleu(prek, refer)\n",
        "print(\"BLEU:  \", bleu.score)\n",
        "\n",
        "# tokenizácia je potrebná pre rozdelenie viet do menších častí (tokenov), aby Meteor dokázal porovnávať slová a ich význam\n",
        "def tokenizacia(text):\n",
        "    doc = nlp(text)\n",
        "    return [token.text for token in doc]\n",
        "\n",
        "meteor_scores = []\n",
        "for refer_segment, prek in zip(refer, prek):\n",
        "    ref = refer_segment[0]\n",
        "    token_ref = tokenizacia(ref) # tokenizácia referenčných viet\n",
        "    token_prek = tokenizacia(prek) # tokenizáci preložených viet\n",
        "\n",
        "    # Výpočet METEOR skóre - meteor skóre narozdiel od bleu zohľadnuje sémantiku do istej miery\n",
        "    score = ms.meteor_score([token_ref], token_prek) # výpočet meteor skóre pre jednu vetu\n",
        "    meteor_scores.append(score)\n",
        "\n",
        "average_meteor_score = sum(meteor_scores) / len(meteor_scores) # výpočet priemeru Meteor skóre, pre celú množinu preložených viet\n",
        "print(\"METEOR: \", average_meteor_score)"
      ]
    },
    {
      "cell_type": "code",
      "source": [
        "token_ref"
      ],
      "metadata": {
        "colab": {
          "base_uri": "https://localhost:8080/"
        },
        "id": "0zqE2czPyCSH",
        "outputId": "89a25ff0-5f6c-49b2-802d-bd14a2c170f5"
      },
      "execution_count": 65,
      "outputs": [
        {
          "output_type": "execute_result",
          "data": {
            "text/plain": [
              "['dala',\n",
              " 'som',\n",
              " 'zistiť',\n",
              " 'niekoľko',\n",
              " 'informácií',\n",
              " 'a',\n",
              " 'moja',\n",
              " 'prvá',\n",
              " 'pripomienka',\n",
              " 'je',\n",
              " ',',\n",
              " 'že',\n",
              " 'v',\n",
              " 'otázky',\n",
              " 'vo',\n",
              " 'vyhradenom',\n",
              " 'čase',\n",
              " 'sú',\n",
              " 'pre',\n",
              " 'Komisiu',\n",
              " 'a',\n",
              " 'nie',\n",
              " 'pre',\n",
              " 'konkrétneho',\n",
              " 'komisára']"
            ]
          },
          "metadata": {},
          "execution_count": 65
        }
      ]
    },
    {
      "cell_type": "code",
      "source": [
        "token_prek"
      ],
      "metadata": {
        "colab": {
          "base_uri": "https://localhost:8080/"
        },
        "id": "gTJvW8pz1q4I",
        "outputId": "ff99e756-38e3-4b3f-cea2-e19af65ab381"
      },
      "execution_count": 67,
      "outputs": [
        {
          "output_type": "execute_result",
          "data": {
            "text/plain": [
              "['spôsobil',\n",
              " 'mi',\n",
              " 'niekoľko',\n",
              " 'otázok',\n",
              " ',',\n",
              " 'ktoré',\n",
              " 'je',\n",
              " 'potrebné',\n",
              " 'urobiť',\n",
              " ',',\n",
              " 'a',\n",
              " 'mojim',\n",
              " 'prvým',\n",
              " 'bodom',\n",
              " 'je',\n",
              " ',',\n",
              " 'že',\n",
              " 'sa',\n",
              " 'zaoberáme',\n",
              " 'hodinou',\n",
              " 'otázok',\n",
              " 'Komisii',\n",
              " ',',\n",
              " 'nie',\n",
              " 'konkrétnym',\n",
              " 'komisárom']"
            ]
          },
          "metadata": {},
          "execution_count": 67
        }
      ]
    },
    {
      "cell_type": "code",
      "source": [
        "from google.colab import runtime\n",
        "runtime.unassign()"
      ],
      "metadata": {
        "id": "s91Kg0emqsx8"
      },
      "execution_count": null,
      "outputs": []
    }
  ],
  "metadata": {
    "colab": {
      "machine_shape": "hm",
      "provenance": [],
      "gpuType": "T4",
      "mount_file_id": "1cAbr53bSx53865fbKZe58vxyASVtO7ub",
      "authorship_tag": "ABX9TyOqtiqJ24fO1TWeHi7pj7Dt",
      "include_colab_link": true
    },
    "kernelspec": {
      "display_name": "Python 3",
      "name": "python3"
    },
    "language_info": {
      "name": "python"
    },
    "accelerator": "GPU"
  },
  "nbformat": 4,
  "nbformat_minor": 0
}