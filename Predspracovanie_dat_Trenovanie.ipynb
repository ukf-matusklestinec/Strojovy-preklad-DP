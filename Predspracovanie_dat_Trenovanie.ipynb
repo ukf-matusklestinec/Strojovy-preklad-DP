{
  "cells": [
    {
      "cell_type": "markdown",
      "metadata": {
        "id": "view-in-github",
        "colab_type": "text"
      },
      "source": [
        "<a href=\"https://colab.research.google.com/github/ukf-matusklestinec/Strojovy-preklad-DP/blob/main/Predspracovanie_dat_Trenovanie.ipynb\" target=\"_parent\"><img src=\"https://colab.research.google.com/assets/colab-badge.svg\" alt=\"Open In Colab\"/></a>"
      ]
    },
    {
      "cell_type": "code",
      "execution_count": null,
      "metadata": {
        "id": "9Jqtow9eJb-O"
      },
      "outputs": [],
      "source": [
        "# KORPUSY\n",
        "# https://opus.nlpl.eu/Europarl/en&sk/v7/Europarl\n",
        "# https://opus.nlpl.eu/ParaCrawl/en&sk/v9/ParaCrawl\n",
        "\n",
        "\n",
        "# https://github.com/google/sentencepiece - SentencePiece\n",
        "# https://opennmt.net/OpenNMT-tf/configuration.html - dokumentácia pre config"
      ]
    },
    {
      "cell_type": "code",
      "execution_count": 3,
      "metadata": {
        "colab": {
          "base_uri": "https://localhost:8080/"
        },
        "id": "6fLWVqsZQs9R",
        "outputId": "729a6080-a253-47c1-a6f9-281a1d985c6e"
      },
      "outputs": [
        {
          "output_type": "stream",
          "name": "stdout",
          "text": [
            "Requirement already satisfied: sentencepiece in /usr/local/lib/python3.10/dist-packages (0.1.99)\n",
            "Collecting OpenNMT-py\n",
            "  Downloading OpenNMT_py-3.5.1-py3-none-any.whl (262 kB)\n",
            "\u001b[2K     \u001b[90m━━━━━━━━━━━━━━━━━━━━━━━━━━━━━━━━━━━━━━━━\u001b[0m \u001b[32m262.8/262.8 kB\u001b[0m \u001b[31m6.0 MB/s\u001b[0m eta \u001b[36m0:00:00\u001b[0m\n",
            "\u001b[?25hRequirement already satisfied: torch<2.3,>=2.1 in /usr/local/lib/python3.10/dist-packages (from OpenNMT-py) (2.2.1+cu121)\n",
            "Collecting configargparse (from OpenNMT-py)\n",
            "  Downloading ConfigArgParse-1.7-py3-none-any.whl (25 kB)\n",
            "Collecting ctranslate2<5,>=4 (from OpenNMT-py)\n",
            "  Downloading ctranslate2-4.1.0-cp310-cp310-manylinux_2_17_x86_64.manylinux2014_x86_64.whl (36.7 MB)\n",
            "\u001b[2K     \u001b[90m━━━━━━━━━━━━━━━━━━━━━━━━━━━━━━━━━━━━━━━━\u001b[0m \u001b[32m36.7/36.7 MB\u001b[0m \u001b[31m47.0 MB/s\u001b[0m eta \u001b[36m0:00:00\u001b[0m\n",
            "\u001b[?25hRequirement already satisfied: tensorboard>=2.3 in /usr/local/lib/python3.10/dist-packages (from OpenNMT-py) (2.15.2)\n",
            "Requirement already satisfied: flask in /usr/local/lib/python3.10/dist-packages (from OpenNMT-py) (2.2.5)\n",
            "Collecting waitress (from OpenNMT-py)\n",
            "  Downloading waitress-3.0.0-py3-none-any.whl (56 kB)\n",
            "\u001b[2K     \u001b[90m━━━━━━━━━━━━━━━━━━━━━━━━━━━━━━━━━━━━━━━━\u001b[0m \u001b[32m56.7/56.7 kB\u001b[0m \u001b[31m7.0 MB/s\u001b[0m eta \u001b[36m0:00:00\u001b[0m\n",
            "\u001b[?25hCollecting pyonmttok<2,>=1.37 (from OpenNMT-py)\n",
            "  Downloading pyonmttok-1.37.1-cp310-cp310-manylinux_2_17_x86_64.manylinux2014_x86_64.whl (17.0 MB)\n",
            "\u001b[2K     \u001b[90m━━━━━━━━━━━━━━━━━━━━━━━━━━━━━━━━━━━━━━━━\u001b[0m \u001b[32m17.0/17.0 MB\u001b[0m \u001b[31m44.3 MB/s\u001b[0m eta \u001b[36m0:00:00\u001b[0m\n",
            "\u001b[?25hRequirement already satisfied: pyyaml in /usr/local/lib/python3.10/dist-packages (from OpenNMT-py) (6.0.1)\n",
            "Requirement already satisfied: sacrebleu in /usr/local/lib/python3.10/dist-packages (from OpenNMT-py) (2.4.1)\n",
            "Collecting rapidfuzz (from OpenNMT-py)\n",
            "  Downloading rapidfuzz-3.7.0-cp310-cp310-manylinux_2_17_x86_64.manylinux2014_x86_64.whl (3.4 MB)\n",
            "\u001b[2K     \u001b[90m━━━━━━━━━━━━━━━━━━━━━━━━━━━━━━━━━━━━━━━━\u001b[0m \u001b[32m3.4/3.4 MB\u001b[0m \u001b[31m97.5 MB/s\u001b[0m eta \u001b[36m0:00:00\u001b[0m\n",
            "\u001b[?25hCollecting pyahocorasick (from OpenNMT-py)\n",
            "  Downloading pyahocorasick-2.1.0-cp310-cp310-manylinux_2_5_x86_64.manylinux1_x86_64.manylinux_2_12_x86_64.manylinux2010_x86_64.whl (110 kB)\n",
            "\u001b[2K     \u001b[90m━━━━━━━━━━━━━━━━━━━━━━━━━━━━━━━━━━━━━━━━\u001b[0m \u001b[32m110.7/110.7 kB\u001b[0m \u001b[31m18.4 MB/s\u001b[0m eta \u001b[36m0:00:00\u001b[0m\n",
            "\u001b[?25hCollecting fasttext-wheel (from OpenNMT-py)\n",
            "  Downloading fasttext_wheel-0.9.2-cp310-cp310-manylinux_2_17_x86_64.manylinux2014_x86_64.whl (4.4 MB)\n",
            "\u001b[2K     \u001b[90m━━━━━━━━━━━━━━━━━━━━━━━━━━━━━━━━━━━━━━━━\u001b[0m \u001b[32m4.4/4.4 MB\u001b[0m \u001b[31m119.2 MB/s\u001b[0m eta \u001b[36m0:00:00\u001b[0m\n",
            "\u001b[?25hRequirement already satisfied: spacy in /usr/local/lib/python3.10/dist-packages (from OpenNMT-py) (3.7.4)\n",
            "Requirement already satisfied: six in /usr/local/lib/python3.10/dist-packages (from OpenNMT-py) (1.16.0)\n",
            "Requirement already satisfied: setuptools in /usr/local/lib/python3.10/dist-packages (from ctranslate2<5,>=4->OpenNMT-py) (67.7.2)\n",
            "Requirement already satisfied: numpy in /usr/local/lib/python3.10/dist-packages (from ctranslate2<5,>=4->OpenNMT-py) (1.25.2)\n",
            "Requirement already satisfied: absl-py>=0.4 in /usr/local/lib/python3.10/dist-packages (from tensorboard>=2.3->OpenNMT-py) (1.4.0)\n",
            "Requirement already satisfied: grpcio>=1.48.2 in /usr/local/lib/python3.10/dist-packages (from tensorboard>=2.3->OpenNMT-py) (1.62.1)\n",
            "Requirement already satisfied: google-auth<3,>=1.6.3 in /usr/local/lib/python3.10/dist-packages (from tensorboard>=2.3->OpenNMT-py) (2.27.0)\n",
            "Requirement already satisfied: google-auth-oauthlib<2,>=0.5 in /usr/local/lib/python3.10/dist-packages (from tensorboard>=2.3->OpenNMT-py) (1.2.0)\n",
            "Requirement already satisfied: markdown>=2.6.8 in /usr/local/lib/python3.10/dist-packages (from tensorboard>=2.3->OpenNMT-py) (3.6)\n",
            "Requirement already satisfied: protobuf!=4.24.0,>=3.19.6 in /usr/local/lib/python3.10/dist-packages (from tensorboard>=2.3->OpenNMT-py) (4.25.3)\n",
            "Requirement already satisfied: requests<3,>=2.21.0 in /usr/local/lib/python3.10/dist-packages (from tensorboard>=2.3->OpenNMT-py) (2.31.0)\n",
            "Requirement already satisfied: tensorboard-data-server<0.8.0,>=0.7.0 in /usr/local/lib/python3.10/dist-packages (from tensorboard>=2.3->OpenNMT-py) (0.7.2)\n",
            "Requirement already satisfied: werkzeug>=1.0.1 in /usr/local/lib/python3.10/dist-packages (from tensorboard>=2.3->OpenNMT-py) (3.0.1)\n",
            "Requirement already satisfied: filelock in /usr/local/lib/python3.10/dist-packages (from torch<2.3,>=2.1->OpenNMT-py) (3.13.1)\n",
            "Requirement already satisfied: typing-extensions>=4.8.0 in /usr/local/lib/python3.10/dist-packages (from torch<2.3,>=2.1->OpenNMT-py) (4.10.0)\n",
            "Requirement already satisfied: sympy in /usr/local/lib/python3.10/dist-packages (from torch<2.3,>=2.1->OpenNMT-py) (1.12)\n",
            "Requirement already satisfied: networkx in /usr/local/lib/python3.10/dist-packages (from torch<2.3,>=2.1->OpenNMT-py) (3.2.1)\n",
            "Requirement already satisfied: jinja2 in /usr/local/lib/python3.10/dist-packages (from torch<2.3,>=2.1->OpenNMT-py) (3.1.3)\n",
            "Requirement already satisfied: fsspec in /usr/local/lib/python3.10/dist-packages (from torch<2.3,>=2.1->OpenNMT-py) (2023.6.0)\n",
            "Requirement already satisfied: nvidia-cuda-nvrtc-cu12==12.1.105 in /usr/local/lib/python3.10/dist-packages (from torch<2.3,>=2.1->OpenNMT-py) (12.1.105)\n",
            "Requirement already satisfied: nvidia-cuda-runtime-cu12==12.1.105 in /usr/local/lib/python3.10/dist-packages (from torch<2.3,>=2.1->OpenNMT-py) (12.1.105)\n",
            "Requirement already satisfied: nvidia-cuda-cupti-cu12==12.1.105 in /usr/local/lib/python3.10/dist-packages (from torch<2.3,>=2.1->OpenNMT-py) (12.1.105)\n",
            "Requirement already satisfied: nvidia-cudnn-cu12==8.9.2.26 in /usr/local/lib/python3.10/dist-packages (from torch<2.3,>=2.1->OpenNMT-py) (8.9.2.26)\n",
            "Requirement already satisfied: nvidia-cublas-cu12==12.1.3.1 in /usr/local/lib/python3.10/dist-packages (from torch<2.3,>=2.1->OpenNMT-py) (12.1.3.1)\n",
            "Requirement already satisfied: nvidia-cufft-cu12==11.0.2.54 in /usr/local/lib/python3.10/dist-packages (from torch<2.3,>=2.1->OpenNMT-py) (11.0.2.54)\n",
            "Requirement already satisfied: nvidia-curand-cu12==10.3.2.106 in /usr/local/lib/python3.10/dist-packages (from torch<2.3,>=2.1->OpenNMT-py) (10.3.2.106)\n",
            "Requirement already satisfied: nvidia-cusolver-cu12==11.4.5.107 in /usr/local/lib/python3.10/dist-packages (from torch<2.3,>=2.1->OpenNMT-py) (11.4.5.107)\n",
            "Requirement already satisfied: nvidia-cusparse-cu12==12.1.0.106 in /usr/local/lib/python3.10/dist-packages (from torch<2.3,>=2.1->OpenNMT-py) (12.1.0.106)\n",
            "Requirement already satisfied: nvidia-nccl-cu12==2.19.3 in /usr/local/lib/python3.10/dist-packages (from torch<2.3,>=2.1->OpenNMT-py) (2.19.3)\n",
            "Requirement already satisfied: nvidia-nvtx-cu12==12.1.105 in /usr/local/lib/python3.10/dist-packages (from torch<2.3,>=2.1->OpenNMT-py) (12.1.105)\n",
            "Requirement already satisfied: triton==2.2.0 in /usr/local/lib/python3.10/dist-packages (from torch<2.3,>=2.1->OpenNMT-py) (2.2.0)\n",
            "Requirement already satisfied: nvidia-nvjitlink-cu12 in /usr/local/lib/python3.10/dist-packages (from nvidia-cusolver-cu12==11.4.5.107->torch<2.3,>=2.1->OpenNMT-py) (12.4.99)\n",
            "Collecting pybind11>=2.2 (from fasttext-wheel->OpenNMT-py)\n",
            "  Downloading pybind11-2.11.1-py3-none-any.whl (227 kB)\n",
            "\u001b[2K     \u001b[90m━━━━━━━━━━━━━━━━━━━━━━━━━━━━━━━━━━━━━━━━\u001b[0m \u001b[32m227.7/227.7 kB\u001b[0m \u001b[31m19.2 MB/s\u001b[0m eta \u001b[36m0:00:00\u001b[0m\n",
            "\u001b[?25hRequirement already satisfied: itsdangerous>=2.0 in /usr/local/lib/python3.10/dist-packages (from flask->OpenNMT-py) (2.1.2)\n",
            "Requirement already satisfied: click>=8.0 in /usr/local/lib/python3.10/dist-packages (from flask->OpenNMT-py) (8.1.7)\n",
            "Requirement already satisfied: portalocker in /usr/local/lib/python3.10/dist-packages (from sacrebleu->OpenNMT-py) (2.8.2)\n",
            "Requirement already satisfied: regex in /usr/local/lib/python3.10/dist-packages (from sacrebleu->OpenNMT-py) (2023.12.25)\n",
            "Requirement already satisfied: tabulate>=0.8.9 in /usr/local/lib/python3.10/dist-packages (from sacrebleu->OpenNMT-py) (0.9.0)\n",
            "Requirement already satisfied: colorama in /usr/local/lib/python3.10/dist-packages (from sacrebleu->OpenNMT-py) (0.4.6)\n",
            "Requirement already satisfied: lxml in /usr/local/lib/python3.10/dist-packages (from sacrebleu->OpenNMT-py) (4.9.4)\n",
            "Requirement already satisfied: spacy-legacy<3.1.0,>=3.0.11 in /usr/local/lib/python3.10/dist-packages (from spacy->OpenNMT-py) (3.0.12)\n",
            "Requirement already satisfied: spacy-loggers<2.0.0,>=1.0.0 in /usr/local/lib/python3.10/dist-packages (from spacy->OpenNMT-py) (1.0.5)\n",
            "Requirement already satisfied: murmurhash<1.1.0,>=0.28.0 in /usr/local/lib/python3.10/dist-packages (from spacy->OpenNMT-py) (1.0.10)\n",
            "Requirement already satisfied: cymem<2.1.0,>=2.0.2 in /usr/local/lib/python3.10/dist-packages (from spacy->OpenNMT-py) (2.0.8)\n",
            "Requirement already satisfied: preshed<3.1.0,>=3.0.2 in /usr/local/lib/python3.10/dist-packages (from spacy->OpenNMT-py) (3.0.9)\n",
            "Requirement already satisfied: thinc<8.3.0,>=8.2.2 in /usr/local/lib/python3.10/dist-packages (from spacy->OpenNMT-py) (8.2.3)\n",
            "Requirement already satisfied: wasabi<1.2.0,>=0.9.1 in /usr/local/lib/python3.10/dist-packages (from spacy->OpenNMT-py) (1.1.2)\n",
            "Requirement already satisfied: srsly<3.0.0,>=2.4.3 in /usr/local/lib/python3.10/dist-packages (from spacy->OpenNMT-py) (2.4.8)\n",
            "Requirement already satisfied: catalogue<2.1.0,>=2.0.6 in /usr/local/lib/python3.10/dist-packages (from spacy->OpenNMT-py) (2.0.10)\n",
            "Requirement already satisfied: weasel<0.4.0,>=0.1.0 in /usr/local/lib/python3.10/dist-packages (from spacy->OpenNMT-py) (0.3.4)\n",
            "Requirement already satisfied: typer<0.10.0,>=0.3.0 in /usr/local/lib/python3.10/dist-packages (from spacy->OpenNMT-py) (0.9.0)\n",
            "Requirement already satisfied: smart-open<7.0.0,>=5.2.1 in /usr/local/lib/python3.10/dist-packages (from spacy->OpenNMT-py) (6.4.0)\n",
            "Requirement already satisfied: tqdm<5.0.0,>=4.38.0 in /usr/local/lib/python3.10/dist-packages (from spacy->OpenNMT-py) (4.66.2)\n",
            "Requirement already satisfied: pydantic!=1.8,!=1.8.1,<3.0.0,>=1.7.4 in /usr/local/lib/python3.10/dist-packages (from spacy->OpenNMT-py) (2.6.4)\n",
            "Requirement already satisfied: packaging>=20.0 in /usr/local/lib/python3.10/dist-packages (from spacy->OpenNMT-py) (24.0)\n",
            "Requirement already satisfied: langcodes<4.0.0,>=3.2.0 in /usr/local/lib/python3.10/dist-packages (from spacy->OpenNMT-py) (3.3.0)\n",
            "Requirement already satisfied: cachetools<6.0,>=2.0.0 in /usr/local/lib/python3.10/dist-packages (from google-auth<3,>=1.6.3->tensorboard>=2.3->OpenNMT-py) (5.3.3)\n",
            "Requirement already satisfied: pyasn1-modules>=0.2.1 in /usr/local/lib/python3.10/dist-packages (from google-auth<3,>=1.6.3->tensorboard>=2.3->OpenNMT-py) (0.3.0)\n",
            "Requirement already satisfied: rsa<5,>=3.1.4 in /usr/local/lib/python3.10/dist-packages (from google-auth<3,>=1.6.3->tensorboard>=2.3->OpenNMT-py) (4.9)\n",
            "Requirement already satisfied: requests-oauthlib>=0.7.0 in /usr/local/lib/python3.10/dist-packages (from google-auth-oauthlib<2,>=0.5->tensorboard>=2.3->OpenNMT-py) (1.4.0)\n",
            "Requirement already satisfied: MarkupSafe>=2.0 in /usr/local/lib/python3.10/dist-packages (from jinja2->torch<2.3,>=2.1->OpenNMT-py) (2.1.5)\n",
            "Requirement already satisfied: annotated-types>=0.4.0 in /usr/local/lib/python3.10/dist-packages (from pydantic!=1.8,!=1.8.1,<3.0.0,>=1.7.4->spacy->OpenNMT-py) (0.6.0)\n",
            "Requirement already satisfied: pydantic-core==2.16.3 in /usr/local/lib/python3.10/dist-packages (from pydantic!=1.8,!=1.8.1,<3.0.0,>=1.7.4->spacy->OpenNMT-py) (2.16.3)\n",
            "Requirement already satisfied: charset-normalizer<4,>=2 in /usr/local/lib/python3.10/dist-packages (from requests<3,>=2.21.0->tensorboard>=2.3->OpenNMT-py) (3.3.2)\n",
            "Requirement already satisfied: idna<4,>=2.5 in /usr/local/lib/python3.10/dist-packages (from requests<3,>=2.21.0->tensorboard>=2.3->OpenNMT-py) (3.6)\n",
            "Requirement already satisfied: urllib3<3,>=1.21.1 in /usr/local/lib/python3.10/dist-packages (from requests<3,>=2.21.0->tensorboard>=2.3->OpenNMT-py) (2.0.7)\n",
            "Requirement already satisfied: certifi>=2017.4.17 in /usr/local/lib/python3.10/dist-packages (from requests<3,>=2.21.0->tensorboard>=2.3->OpenNMT-py) (2024.2.2)\n",
            "Requirement already satisfied: blis<0.8.0,>=0.7.8 in /usr/local/lib/python3.10/dist-packages (from thinc<8.3.0,>=8.2.2->spacy->OpenNMT-py) (0.7.11)\n",
            "Requirement already satisfied: confection<1.0.0,>=0.0.1 in /usr/local/lib/python3.10/dist-packages (from thinc<8.3.0,>=8.2.2->spacy->OpenNMT-py) (0.1.4)\n",
            "Requirement already satisfied: cloudpathlib<0.17.0,>=0.7.0 in /usr/local/lib/python3.10/dist-packages (from weasel<0.4.0,>=0.1.0->spacy->OpenNMT-py) (0.16.0)\n",
            "Requirement already satisfied: mpmath>=0.19 in /usr/local/lib/python3.10/dist-packages (from sympy->torch<2.3,>=2.1->OpenNMT-py) (1.3.0)\n",
            "Requirement already satisfied: pyasn1<0.6.0,>=0.4.6 in /usr/local/lib/python3.10/dist-packages (from pyasn1-modules>=0.2.1->google-auth<3,>=1.6.3->tensorboard>=2.3->OpenNMT-py) (0.5.1)\n",
            "Requirement already satisfied: oauthlib>=3.0.0 in /usr/local/lib/python3.10/dist-packages (from requests-oauthlib>=0.7.0->google-auth-oauthlib<2,>=0.5->tensorboard>=2.3->OpenNMT-py) (3.2.2)\n",
            "Installing collected packages: waitress, rapidfuzz, pyonmttok, pybind11, pyahocorasick, ctranslate2, configargparse, fasttext-wheel, OpenNMT-py\n",
            "Successfully installed OpenNMT-py-3.5.1 configargparse-1.7 ctranslate2-4.1.0 fasttext-wheel-0.9.2 pyahocorasick-2.1.0 pybind11-2.11.1 pyonmttok-1.37.1 rapidfuzz-3.7.0 waitress-3.0.0\n",
            "Collecting langdetect\n",
            "  Downloading langdetect-1.0.9.tar.gz (981 kB)\n",
            "\u001b[2K     \u001b[90m━━━━━━━━━━━━━━━━━━━━━━━━━━━━━━━━━━━━━━━━\u001b[0m \u001b[32m981.5/981.5 kB\u001b[0m \u001b[31m13.1 MB/s\u001b[0m eta \u001b[36m0:00:00\u001b[0m\n",
            "\u001b[?25h  Preparing metadata (setup.py) ... \u001b[?25l\u001b[?25hdone\n",
            "Requirement already satisfied: six in /usr/local/lib/python3.10/dist-packages (from langdetect) (1.16.0)\n",
            "Building wheels for collected packages: langdetect\n",
            "  Building wheel for langdetect (setup.py) ... \u001b[?25l\u001b[?25hdone\n",
            "  Created wheel for langdetect: filename=langdetect-1.0.9-py3-none-any.whl size=993227 sha256=71c87ae8f920958cecc9ed7ea904b57b7bb87f642ff8da2e683e59aaad8f1d4b\n",
            "  Stored in directory: /root/.cache/pip/wheels/95/03/7d/59ea870c70ce4e5a370638b5462a7711ab78fba2f655d05106\n",
            "Successfully built langdetect\n",
            "Installing collected packages: langdetect\n",
            "Successfully installed langdetect-1.0.9\n"
          ]
        }
      ],
      "source": [
        "!pip install sentencepiece\n",
        "!pip3 install OpenNMT-py\n",
        "!pip install langdetect"
      ]
    },
    {
      "cell_type": "code",
      "execution_count": 4,
      "metadata": {
        "id": "HMvnB4x9L4ji"
      },
      "outputs": [],
      "source": [
        "import pandas as pd\n",
        "import numpy as np\n",
        "import csv\n",
        "import sentencepiece as spm\n",
        "import time\n",
        "from langdetect import detect, LangDetectException, DetectorFactory  # pre identifikáciu jazykov\n",
        "import unicodedata  # pre normalizáciu unicode\n",
        "\n",
        "import seaborn as sns\n",
        "import matplotlib.pyplot as plt\n",
        "\n",
        "import torch\n",
        "import sacrebleu"
      ]
    },
    {
      "cell_type": "code",
      "execution_count": null,
      "metadata": {
        "id": "Kvc1X3N6Qy-I"
      },
      "outputs": [],
      "source": [
        "#en_parl = \"/content/drive/MyDrive/Colab_Notebooks/Diplomovka/Dáta/europarl/europarl.sk-en.en\"\n",
        "#sk_parl = \"/content/drive/MyDrive/Colab_Notebooks/Diplomovka/Dáta/europarl/europarl.sk-en.sk\"\n",
        "\n",
        "en_parl = \"/content/drive/MyDrive/Colab_Notebooks/Diplomovka/Dáta/ParaCrawl/ParaCrawl.en\"\n",
        "sk_parl = \"/content/drive/MyDrive/Colab_Notebooks/Diplomovka/Dáta/ParaCrawl/ParaCrawl.sk\"\n",
        "\n",
        "#en_parl = \"/content/drive/MyDrive/Colab_Notebooks/Diplomovka/Dáta/ParaCrawl_10/ParaCrawl.en\"\n",
        "#sk_parl = \"/content/drive/MyDrive/Colab_Notebooks/Diplomovka/Dáta/ParaCrawl_10/ParaCrawl.sk\""
      ]
    },
    {
      "cell_type": "markdown",
      "metadata": {
        "id": "Ua4lYSqcRE0A"
      },
      "source": [
        "# Filtrovanie/Čistenie korpusu"
      ]
    },
    {
      "cell_type": "code",
      "execution_count": null,
      "metadata": {
        "id": "nZ21lGfLvbTs"
      },
      "outputs": [],
      "source": [
        "# funkcia na výpis hodnôt ako čas, počet zmenených riadkov atď.\n",
        "def print_status(operacia, pocet_riadkov, pocet_odst_riadkov, prejdeny_cas):\n",
        "    print(f\"{operacia} Riadky: {pocet_riadkov} | Odstránené riadky: {pocet_odst_riadkov} | Čas: {prejdeny_cas:.2f} sekúnd\")"
      ]
    },
    {
      "cell_type": "markdown",
      "metadata": {
        "id": "Oahi_FdYv9BY"
      },
      "source": [
        "## Unicode normalizáca pre zistenie, aké znaky sa nachádzajú v našom korpuse"
      ]
    },
    {
      "cell_type": "markdown",
      "metadata": {
        "id": "s6DQxXN_wETp"
      },
      "source": [
        "V prvotných pokusoch sa nachádzal v hlavnej časti predspracovania, ale v dôsledku neskorších zistení slúži skôr ako nástroj na zistenie špecifických znakov. Podľa zistení následne vieme vytvoriť pravidlá, ktoré upravia tieto znaky."
      ]
    },
    {
      "cell_type": "code",
      "execution_count": null,
      "metadata": {
        "colab": {
          "base_uri": "https://localhost:8080/"
        },
        "id": "FggIuqGfve6j",
        "outputId": "0cdd3375-4ae6-42fe-c5b0-fdb2cad74935"
      },
      "outputs": [
        {
          "name": "stdout",
          "output_type": "stream",
          "text": [
            "Rozmery datasetu (riadky, stĺpce): (640715, 2)\n",
            "Príklady zmenených riadkov pre 'Source':\n",
            "Pred: (The order of business was adopted¹) | Po: (The order of business was adopted1)\n",
            "Pred: Dr Sean Barrett, a senior lecturer in economics at Trinity College Dublin, has today described the reduction of the corporation tax rate in Ireland from 50% in the 1980s to 12½% a decade later as 'the most important policy measure that achieved the transformation of Ireland'. | Po: Dr Sean Barrett, a senior lecturer in economics at Trinity College Dublin, has today described the reduction of the corporation tax rate in Ireland from 50% in the 1980s to 121⁄2% a decade later as 'the most important policy measure that achieved the transformation of Ireland'.\n",
            "Pred: I agree that it is absolutely essential to avoid an increase of more than 2ºC in the global temperature, so as to avoid the most catastrophic scenarios, suggesting that the ambitious EU targets for the reduction of greenhouse gas emissions should be maintained. | Po: I agree that it is absolutely essential to avoid an increase of more than 2oC in the global temperature, so as to avoid the most catastrophic scenarios, suggesting that the ambitious EU targets for the reduction of greenhouse gas emissions should be maintained.\n",
            "Pred: The report considers the 2˚C ceiling on global warming to be a 'strategic objective' of the EU, while accepting that 'such a level of warming would already heavily impact on our society and individual lifestyles'. | Po: The report considers the 2 ̊C ceiling on global warming to be a 'strategic objective' of the EU, while accepting that 'such a level of warming would already heavily impact on our society and individual lifestyles'.\n",
            "Pred: Let me point out the following: according to the formal data, every 4½ seconds an employee has an accident and every 3½ minutes an employee loses his life. | Po: Let me point out the following: according to the formal data, every 41⁄2 seconds an employee has an accident and every 31⁄2 minutes an employee loses his life.\n",
            "Pred: This commitment is not in itself sufficient to stop the warming at the magic limit of 2ºC, as research tells us is required. | Po: This commitment is not in itself sufficient to stop the warming at the magic limit of 2oC, as research tells us is required.\n",
            "Pred: But I am pleased to learn that the 30% target will remain a priority objective in order to avoid the average temperature rising by more than 2 ºC, as was specified at the European Council meeting held in March 2007. | Po: But I am pleased to learn that the 30% target will remain a priority objective in order to avoid the average temperature rising by more than 2 oC, as was specified at the European Council meeting held in March 2007.\n",
            "Pred: According to calculations, Europe uses 500 billion m³ of gas per year, and this demand may grow, according to certain analyses, by as much as 30% in the next 20 years. | Po: According to calculations, Europe uses 500 billion m3 of gas per year, and this demand may grow, according to certain analyses, by as much as 30% in the next 20 years.\n",
            "Pred: This report calls on the Commission to monitor closely and analyse the very latest scientific research findings in order to assess in particular whether the EU's 2ºC target would really achieve the aim of preventing dangerous climate change effects. | Po: This report calls on the Commission to monitor closely and analyse the very latest scientific research findings in order to assess in particular whether the EU's 2oC target would really achieve the aim of preventing dangerous climate change effects.\n",
            "Pred: At the same time, it emphasises the importance of the EU and other industrialised nations setting, as a group, a medium-term target for cutting greenhouse gas emissions by 25-40% by 2020, as well as a long-term target for cutting emissions by at least 80% by 2050, compared to 1990, while continuing to focus on the target of limiting the rise in the average global temperature to 2ºC above pre-industrial levels, thereby giving a 50% probability of achieving this objective. | Po: At the same time, it emphasises the importance of the EU and other industrialised nations setting, as a group, a medium-term target for cutting greenhouse gas emissions by 25-40% by 2020, as well as a long-term target for cutting emissions by at least 80% by 2050, compared to 1990, while continuing to focus on the target of limiting the rise in the average global temperature to 2oC above pre-industrial levels, thereby giving a 50% probability of achieving this objective.\n",
            "Pred: The more than 150 recommendations included in this report cover most of the areas where improvements can be made to achieve the European objective of reducing the rise in temperature to 2ºC. | Po: The more than 150 recommendations included in this report cover most of the areas where improvements can be made to achieve the European objective of reducing the rise in temperature to 2oC.\n",
            "Pred: I believe that the reduction in pollution originating from various industrial sources will help the European Union achieve its aim of maintaining the rise in global temperature below 2 ºC. | Po: I believe that the reduction in pollution originating from various industrial sources will help the European Union achieve its aim of maintaining the rise in global temperature below 2 oC.\n",
            "Pred: This directive also covers small buildings with a useable area of less than 1 000 m² as well as minor energy-relevant renovation work, and also the replacement of boilers and windows. | Po: This directive also covers small buildings with a useable area of less than 1 000 m2 as well as minor energy-relevant renovation work, and also the replacement of boilers and windows.\n",
            "Pred: The 2ºC objective, or even the 1.5ºC objective, is mentioned in the Copenhagen Accord and, if we wish to achieve it, we must now really get down to business with reducing our own emissions - by more than 20% - and also with providing the funds for the first three years. | Po: The 2oC objective, or even the 1.5oC objective, is mentioned in the Copenhagen Accord and, if we wish to achieve it, we must now really get down to business with reducing our own emissions - by more than 20% - and also with providing the funds for the first three years.\n",
            "Pred: I voted for the European Parliament resolution of 25 November 2010 on the UN climate change conference in Cancún with a view to meeting the overall objective of limiting the annual mean surface temperature increase to 2 ºC ('the 2 ºC objective'). | Po: I voted for the European Parliament resolution of 25 November 2010 on the UN climate change conference in Cancún with a view to meeting the overall objective of limiting the annual mean surface temperature increase to 2 oC ('the 2 oC objective').\n",
            "Pred: It emphasises that substantive steps need to be agreed in Cancún to pave the way for the conclusion of a comprehensive international post-2012 agreement in South Africa in 2011, which should be in line with the latest developments in science and consistent with at least achieving the 2 ºC objective, without prejudice to moving to a 1.5 ºC temperature increase limit in order to safeguard the survival of all nations, peoples and ecosystems. | Po: It emphasises that substantive steps need to be agreed in Cancún to pave the way for the conclusion of a comprehensive international post-2012 agreement in South Africa in 2011, which should be in line with the latest developments in science and consistent with at least achieving the 2 oC objective, without prejudice to moving to a 1.5 oC temperature increase limit in order to safeguard the survival of all nations, peoples and ecosystems.\n",
            "Pred: in writing. - The ENVI resolution was fairly narrowly adopted (final vote 292/274/38) with the following changes/remarks: the reference to 'without prejudice to moving to a 1.5 ºC limit' was deleted with a narrow majority (RCV Amendment 14 and Amendment 18: 307/304/xx); the explicit mention that LULUCF and AAU loopholes could nullify all Annex I targets was deleted (Amendment 16: 316/301/xx), but other paragraphs requiring robust rules that are designed to deliver emissions reductions from Annex I remained. | Po: in writing. - The ENVI resolution was fairly narrowly adopted (final vote 292/274/38) with the following changes/remarks: the reference to 'without prejudice to moving to a 1.5 oC limit' was deleted with a narrow majority (RCV Amendment 14 and Amendment 18: 307/304/xx); the explicit mention that LULUCF and AAU loopholes could nullify all Annex I targets was deleted (Amendment 16: 316/301/xx), but other paragraphs requiring robust rules that are designed to deliver emissions reductions from Annex I remained.\n",
            "Pred: Our common goal is to limit global warming to the celebrated 2 ºC. | Po: Our common goal is to limit global warming to the celebrated 2 oC.\n",
            "Pred: This is why it is important to remember, for example, that the proposed regulation, through the amendment of Article 7.º-A, does not require a State to recognise as a marriage - even if only to ensure its dissolution - an act that is not considered as such by its national legislation, or which would be contrary to the principle of subsidiarity. | Po: This is why it is important to remember, for example, that the proposed regulation, through the amendment of Article 7.o-A, does not require a State to recognise as a marriage - even if only to ensure its dissolution - an act that is not considered as such by its national legislation, or which would be contrary to the principle of subsidiarity.\n",
            "Pred: Satellite pictures show that around 25 000 km² of African forests and other vegetation have been lost in the last 30 years. | Po: Satellite pictures show that around 25 000 km2 of African forests and other vegetation have been lost in the last 30 years.\n",
            "\n",
            "Príklady zmenených riadkov pre 'Target':\n",
            "Pred: (Program práce bol prijatý¹) | Po: (Program práce bol prijatý1)\n",
            "Pred: Súhlasím, že je bezpodmienečne nevyhnutné zabrániť zvýšeniu globálnej teploty o viac ako 2 ºC, a vyhnúť sa tak najkatastrofickejšiemu scenáru tým, že budeme poukazovať na to, aby sa podporovali odvážne ciele EÚ týkajúce sa zníženia emisií skleníkových plynov. | Po: Súhlasím, že je bezpodmienečne nevyhnutné zabrániť zvýšeniu globálnej teploty o viac ako 2 oC, a vyhnúť sa tak najkatastrofickejšiemu scenáru tým, že budeme poukazovať na to, aby sa podporovali odvážne ciele EÚ týkajúce sa zníženia emisií skleníkových plynov.\n",
            "Pred: Správa usudzuje, že strop globálneho otepľovania 2 ˚C je \"strategickým cieľom\" EÚ, a zároveň pripúšťa, že \"takáto úroveň otepľovania by mala zásadný vplyv na našu spoločnosť a životný štýl jednotlivcov\". | Po: Správa usudzuje, že strop globálneho otepľovania 2  ̊C je \"strategickým cieľom\" EÚ, a zároveň pripúšťa, že \"takáto úroveň otepľovania by mala zásadný vplyv na našu spoločnosť a životný štýl jednotlivcov\".\n",
            "Pred: Tento záväzok sám osebe nestačí na zastavenie otepľovania na magickej hranici 2 ºC, ktorú je podľa výskumníkov potrebné dosiahnuť. | Po: Tento záväzok sám osebe nestačí na zastavenie otepľovania na magickej hranici 2 oC, ktorú je podľa výskumníkov potrebné dosiahnuť.\n",
            "Pred: Podľa výpočtov Európa ročne spotrebuje 500 miliárd m³ plynu a dopyt po ňom môže podľa istých analýz v priebehu budúcich 20 rokov vzrásť až o 30 %. | Po: Podľa výpočtov Európa ročne spotrebuje 500 miliárd m3 plynu a dopyt po ňom môže podľa istých analýz v priebehu budúcich 20 rokov vzrásť až o 30 %.\n",
            "Pred: Táto správa vyzýva Komisiu, aby podrobne monitorovala a analyzovala najnovšie vedecké zistenia s cieľom vyhodnotiť najmä to, či sa pomocou plánu EÚ udržať limity 2 ºC skutočne podarí zabrániť nebezpečným vplyvom zmeny klímy. | Po: Táto správa vyzýva Komisiu, aby podrobne monitorovala a analyzovala najnovšie vedecké zistenia s cieľom vyhodnotiť najmä to, či sa pomocou plánu EÚ udržať limity 2 oC skutočne podarí zabrániť nebezpečným vplyvom zmeny klímy.\n",
            "Pred: Zároveň zdôrazňuje význam určenia EÚ a ostatných priemyselne rozvinutých krajín ako skupiny strednodobého cieľa zníženia emisií skleníkových plynov o 25 - 40 % do roku 2020, ako aj dlhodobého cieľa na zníženie emisií aspoň o 80 % do roku 2050 v porovnaní s rokom 1990, zatiaľ čo sa ďalej zameriava na cieľ obmedziť zvýšenie priemernej globálnej teploty o najviac 2 ºC v porovnaní s úrovňou predindustriálneho obdobia, čo bude znamenať 50 % pravdepodobnosť dosiahnutia tohto cieľa. | Po: Zároveň zdôrazňuje význam určenia EÚ a ostatných priemyselne rozvinutých krajín ako skupiny strednodobého cieľa zníženia emisií skleníkových plynov o 25 - 40 % do roku 2020, ako aj dlhodobého cieľa na zníženie emisií aspoň o 80 % do roku 2050 v porovnaní s rokom 1990, zatiaľ čo sa ďalej zameriava na cieľ obmedziť zvýšenie priemernej globálnej teploty o najviac 2 oC v porovnaní s úrovňou predindustriálneho obdobia, čo bude znamenať 50 % pravdepodobnosť dosiahnutia tohto cieľa.\n",
            "Pred: Viac ako 150 odporúčaní obsiahnutých v tejto správe pokrýva väčšinu oblastí, v ktorých je možné urobiť zlepšenia na dosiahnutie európskeho cieľa, ktorým je zníženie nárastu teploty na najviac 2 ºC. | Po: Viac ako 150 odporúčaní obsiahnutých v tejto správe pokrýva väčšinu oblastí, v ktorých je možné urobiť zlepšenia na dosiahnutie európskeho cieľa, ktorým je zníženie nárastu teploty na najviac 2 oC.\n",
            "Pred: Myslím si, že zníženie znečisťovania životného prostredia, ktoré spôsobujú viaceré priemyselné zdroje, pomôže dosiahnuť cieľ Európskej únie, udržať zvyšovanie globálnej teploty do 2 ºC. | Po: Myslím si, že zníženie znečisťovania životného prostredia, ktoré spôsobujú viaceré priemyselné zdroje, pomôže dosiahnuť cieľ Európskej únie, udržať zvyšovanie globálnej teploty do 2 oC.\n",
            "Pred: (RO) Názov Roºia Montanã musí čoraz známejšie znieť európskym inštitúciám i občanom. | Po: (RO) Názov Rooia Montanã musí čoraz známejšie znieť európskym inštitúciám i občanom.\n",
            "Pred: Táto smernica pokrýva aj malé budovy s využiteľnou plochou do 1 000 m², ako aj malé energetické obnovy a výmenu bojlerov a okien. | Po: Táto smernica pokrýva aj malé budovy s využiteľnou plochou do 1 000 m2, ako aj malé energetické obnovy a výmenu bojlerov a okien.\n",
            "Pred: V kodanskej dohode sa spomína cieľ 2 ºC, alebo dokonca cieľ 1,5 ºC. Ak ho chceme dosiahnuť, musíme sa teraz naozaj pustiť do práce a znížiť vlastné emisie - o vyše 20 % - a zároveň poskytnúť finančné prostriedky na prvé tri roky. | Po: V kodanskej dohode sa spomína cieľ 2 oC, alebo dokonca cieľ 1,5 oC. Ak ho chceme dosiahnuť, musíme sa teraz naozaj pustiť do práce a znížiť vlastné emisie - o vyše 20 % - a zároveň poskytnúť finančné prostriedky na prvé tri roky.\n",
            "Pred: Hlasovala som za uznesenie Európskeho parlamentu z 25. novembra 2010 o konferencii OSN o zmene klímy v Cancúne v záujme dosiahnutia celkového cieľa, ktorým je obmedzenie nárastu priemernej globálnej ročnej teploty zemského povrchu na 2 ºC (tzv. cieľ 2 ºC). | Po: Hlasovala som za uznesenie Európskeho parlamentu z 25. novembra 2010 o konferencii OSN o zmene klímy v Cancúne v záujme dosiahnutia celkového cieľa, ktorým je obmedzenie nárastu priemernej globálnej ročnej teploty zemského povrchu na 2 oC (tzv. cieľ 2 oC).\n",
            "Pred: Zdôrazňuje, že v Cancúne sa treba dohodnúť na zásadných krokoch, ktoré pripravia pôdu na uzatvorenie komplexnej medzinárodnej dohody po roku 2012 v Južnej Afrike v roku 2011, ktorá by mala byť v súlade s najnovším vedeckým vývojom a s dosahovaním minimálne cieľa 2 ºC s možnosťou prijať limit 1,5 ºC zvýšenia teploty s cieľom zaručiť prežitie všetkých národov, ľudí a ekosystémov. | Po: Zdôrazňuje, že v Cancúne sa treba dohodnúť na zásadných krokoch, ktoré pripravia pôdu na uzatvorenie komplexnej medzinárodnej dohody po roku 2012 v Južnej Afrike v roku 2011, ktorá by mala byť v súlade s najnovším vedeckým vývojom a s dosahovaním minimálne cieľa 2 oC s možnosťou prijať limit 1,5 oC zvýšenia teploty s cieľom zaručiť prežitie všetkých národov, ľudí a ekosystémov.\n",
            "Pred: Naším spoločným cieľom je obmedziť globálne otepľovanie na známe 2 ºC. | Po: Naším spoločným cieľom je obmedziť globálne otepľovanie na známe 2 oC.\n",
            "Pred: Satelitné snímky dokazujú, že za posledných 30 rokov bolo zničených približne 25 000 km² afrických lesov a inej vegetácie. | Po: Satelitné snímky dokazujú, že za posledných 30 rokov bolo zničených približne 25 000 km2 afrických lesov a inej vegetácie.\n",
            "Pred: Lichtenštajnsko je mikroštát nachádzajúci sa medzi Švajčiarskom a Rakúskom, ktorý má rozlohu 160 km² a 35 000 obyvateľov. | Po: Lichtenštajnsko je mikroštát nachádzajúci sa medzi Švajčiarskom a Rakúskom, ktorý má rozlohu 160 km2 a 35 000 obyvateľov.\n",
            "Pred: písomne. - Európska únia produkuje každý rok viac ako 40 000 m³ rádioaktívneho odpadu, z ktorého približne 80 % tvorí nízko rádioaktívny odpad s krátkym polčasom rozpadu a asi 5 % nízko rádioaktívny odpad s dlhým polčasom rozpadu. | Po: písomne. - Európska únia produkuje každý rok viac ako 40 000 m3 rádioaktívneho odpadu, z ktorého približne 80 % tvorí nízko rádioaktívny odpad s krátkym polčasom rozpadu a asi 5 % nízko rádioaktívny odpad s dlhým polčasom rozpadu.\n",
            "Pred: Na Seychelách bola vytvorená výhradná hospodárska zóna s rozlohou 1 374 000 km², patriaca k pevnine s rozlohou 453 km². | Po: Na Seychelách bola vytvorená výhradná hospodárska zóna s rozlohou 1 374 000 km2, patriaca k pevnine s rozlohou 453 km2.\n",
            "\n",
            "Normalizácia na základe UNICODE znakov\t\t\t         Riadky: 640715 | Počet zmenených riadkov v source (ANG): 22 | Počet zmenených riadkov v target (SK): 19 | Čas: 5.65 sekúnd\n"
          ]
        }
      ],
      "source": [
        "start_time = time.time()\n",
        "\n",
        "df_source = pd.read_csv(en_parl, names=['Source'], sep=\"\\0\", quoting=csv.QUOTE_NONE, skip_blank_lines=False) # dataset pre anglický text (source)\n",
        "df_target = pd.read_csv(sk_parl, names=['Target'], sep=\"\\0\", quoting=csv.QUOTE_NONE, skip_blank_lines=False) # dataset pre slovenský text (target)\n",
        "df = pd.concat([df_source, df_target], axis=1)\n",
        "print(\"Rozmery datasetu (riadky, stĺpce):\", df.shape)\n",
        "\n",
        "# Konverzia na string a uloženie pôvodných hodnôt pred normalizáciou\n",
        "original_source = df['Source'].astype(str)\n",
        "original_target = df['Target'].astype(str)\n",
        "\n",
        "# Unicode normalizácia\n",
        "df['Source'] = df['Source'].astype(str).apply(lambda x: unicodedata.normalize('NFKC', x))\n",
        "df['Target'] = df['Target'].astype(str).apply(lambda x: unicodedata.normalize('NFKC', x))\n",
        "\n",
        "# Porovnanie pôvodných a normalizovaných hodnôt ako reťazcov a spočítanie zmenených riadkov\n",
        "source_sum = (original_source != df['Source']).sum()\n",
        "target_sum = (original_target != df['Target']).sum()\n",
        "\n",
        "# Identifikácia riadkov, ktoré sa zmenili\n",
        "source_zmena = original_source != df['Source']\n",
        "target_zmena = original_target != df['Target']\n",
        "\n",
        "\n",
        "riadky = 20 # aby nevypísalo veľmi veľké množsto textu\n",
        "\n",
        "# Výpis zmenených viet pre Source (Anglické texty)\n",
        "print(\"Príklady zmenených riadkov pre 'Source':\")\n",
        "for pred, po in zip(original_source[source_zmena][:riadky], df['Source'][source_zmena][:riadky]):\n",
        "    print(f\"Pred: {pred} | Po: {po}\")\n",
        "\n",
        "# Výpis zmenených viet pre Target (Slovenské texty)\n",
        "print(\"\\nPríklady zmenených riadkov pre 'Target':\")\n",
        "for pred, po in zip(original_target[target_zmena][:riadky], df['Target'][target_zmena][:riadky]):\n",
        "    print(f\"Pred: {pred} | Po: {po}\")\n",
        "\n",
        "prejdeny_cas = time.time() - start_time\n",
        "print(f\"\\nNormalizácia na základe UNICODE znakov\\t\\t\\t         Riadky: {df.shape[0]} | Počet zmenených riadkov v source (ANG): {source_sum} | Počet zmenených riadkov v target (SK): {target_sum} | Čas: {prejdeny_cas:.2f} sekúnd\")"
      ]
    },
    {
      "cell_type": "code",
      "execution_count": null,
      "metadata": {
        "colab": {
          "base_uri": "https://localhost:8080/"
        },
        "id": "4f9r5XwnrfeJ",
        "outputId": "f749c797-3bbc-480b-881a-ed23114c3410"
      },
      "outputs": [
        {
          "name": "stdout",
          "output_type": "stream",
          "text": [
            "Rozmery datasetu (riadky, stĺpce): (640715, 2)\n",
            "Priemerný počet slov vo vete (anglický text): 24.12922803826525\n",
            "Priemerný počet slov vo vete (slovenský text): 20.212435581307407\n",
            "Maximálny počet slov vo vete (anglický text): 254\n",
            "Maximálny počet slov vo vete (slovenský text): 219\n",
            "Priemerná dĺžka slova vo vete (anglický text): 5.041560076423107\n",
            "Priemerná dĺžka slova vo vete (slovenský text): 5.907997331197968\n",
            "Maximálna dĺžka slova vo vete (anglický text): 21.0\n",
            "Maximálnay dĺžka slova vo vete (slovenský text): 21.0\n"
          ]
        }
      ],
      "source": [
        "## Výpočet priemernej dĺžky vety a priemerného počtu slov\n",
        "\n",
        "df_source = pd.read_csv(en_parl, names=['Source'], sep=\"\\0\", quoting=csv.QUOTE_NONE, skip_blank_lines=False) # dataset pre anglický text (source)\n",
        "df_target = pd.read_csv(sk_parl, names=['Target'], sep=\"\\0\", quoting=csv.QUOTE_NONE, skip_blank_lines=False) # dataset pre slovenský text (target)\n",
        "df = pd.concat([df_source, df_target], axis=1)\n",
        "print(\"Rozmery datasetu (riadky, stĺpce):\", df.shape)\n",
        "\n",
        "df = df.dropna() # nutné odstránenie NaN hodnôt, aby fungoval zvyšný kód\n",
        "\n",
        "df['Source_pocet_slov'] = df['Source'].apply(lambda x: len(x.split()))\n",
        "df['Target_pocet_slov'] = df['Target'].apply(lambda x: len(x.split()))\n",
        "\n",
        "# Vypočítanie priemerného množstva slov vo vetách\n",
        "priem_pocet_slov_source = df['Source_pocet_slov'].mean()\n",
        "priem_pocet_slov_target = df['Target_pocet_slov'].mean()\n",
        "\n",
        "# Vypočítanie maximálneho množstva slov vo vetách\n",
        "max_pocet_slov_source = df['Source_pocet_slov'].max()\n",
        "max_pocet_slov_target = df['Target_pocet_slov'].max()\n",
        "\n",
        "\n",
        "print(\"Priemerný počet slov vo vete (anglický text):\", priem_pocet_slov_source)\n",
        "print(\"Priemerný počet slov vo vete (slovenský text):\", priem_pocet_slov_target)\n",
        "\n",
        "print(\"Maximálny počet slov vo vete (anglický text):\", max_pocet_slov_source)\n",
        "print(\"Maximálny počet slov vo vete (slovenský text):\", max_pocet_slov_target)\n",
        "\n",
        "df['Source_dlzka_slova'] = df['Source'].apply(lambda x: sum(len(word) for word in x.split()) / len(x.split()))\n",
        "df['Target_dlzka_slova'] = df['Target'].apply(lambda x: sum(len(word) for word in x.split()) / len(x.split()))\n",
        "\n",
        "# Vypočínie priemernej dĺžky slov vo vetách\n",
        "priem_dlzka_slov_source = df['Source_dlzka_slova'].mean()\n",
        "priem_dlzka_slov_target = df['Target_dlzka_slova'].mean()\n",
        "\n",
        "# Vypočítanie maximálnej dĺžky slova vo vetách\n",
        "max_dlzka_slov_source = df['Source_dlzka_slova'].max()\n",
        "max_dlzka_slov_target = df['Target_dlzka_slova'].max()\n",
        "\n",
        "print(\"Priemerná dĺžka slova vo vete (anglický text):\", priem_dlzka_slov_source)\n",
        "print(\"Priemerná dĺžka slova vo vete (slovenský text):\", priem_dlzka_slov_target)\n",
        "\n",
        "print(\"Maximálna dĺžka slova vo vete (anglický text):\", max_dlzka_slov_source)\n",
        "print(\"Maximálnay dĺžka slova vo vete (slovenský text):\", max_dlzka_slov_target)"
      ]
    },
    {
      "cell_type": "markdown",
      "metadata": {
        "id": "oNe8ipDVtgMT"
      },
      "source": [
        "### Vytvorenie grafov"
      ]
    },
    {
      "cell_type": "code",
      "execution_count": null,
      "metadata": {
        "colab": {
          "base_uri": "https://localhost:8080/",
          "height": 582
        },
        "id": "4HIFvg3ytQAx",
        "outputId": "6c4a7cf0-2c92-4d86-d916-ec1837b23e96"
      },
      "outputs": [
        {
          "data": {
            "text/plain": [
              "<matplotlib.legend.Legend at 0x7a1509f61030>"
            ]
          },
          "execution_count": 452,
          "metadata": {},
          "output_type": "execute_result"
        },
        {
          "data": {
            "image/png": "[encoded data removed]",
            "text/plain": [
              "<Figure size 1200x600 with 1 Axes>"
            ]
          },
          "metadata": {},
          "output_type": "display_data"
        }
      ],
      "source": [
        "# Graf normálneho rozdelenia počtu slov viet anglického a slovenského textu\n",
        "fig, ax = plt.subplots(figsize=(12, 6))\n",
        "\n",
        "sns.kdeplot(df['Source_pocet_slov'], ax=ax, label=\"Anglické vety\")\n",
        "sns.kdeplot(df['Target_pocet_slov'], ax=ax, label=\"Slovenské vety\")\n",
        "\n",
        "ax.set_xlim(0, 250)\n",
        "ax.set_xticks(range(0, 261, 10))\n",
        "\n",
        "ax.set_title(\"Normálne rozdelenie počtu slov vo vetách\")\n",
        "ax.set_xlabel(\"Počet slov\")\n",
        "ax.set_ylabel(\"Hustota\")\n",
        "ax.legend()"
      ]
    },
    {
      "cell_type": "code",
      "execution_count": null,
      "metadata": {
        "colab": {
          "base_uri": "https://localhost:8080/",
          "height": 584
        },
        "id": "eEjXtODfIOFi",
        "outputId": "2f4fbee6-f08b-4562-b8a4-000cc89ac254"
      },
      "outputs": [
        {
          "data": {
            "text/plain": [
              "<matplotlib.legend.Legend at 0x7a1509ff0850>"
            ]
          },
          "execution_count": 453,
          "metadata": {},
          "output_type": "execute_result"
        },
        {
          "data": {
            "image/png": "[encoded data removed]",
            "text/plain": [
              "<Figure size 1200x600 with 1 Axes>"
            ]
          },
          "metadata": {},
          "output_type": "display_data"
        }
      ],
      "source": [
        "# Graf normálneho rozdelenia dĺžky viet slov  anglického a slovenského textu\n",
        "fig, ax = plt.subplots(figsize=(12, 6))\n",
        "\n",
        "sns.kdeplot(df['Source_dlzka_slova'], ax=ax, label=\"Anglické slová\")\n",
        "sns.kdeplot(df['Target_dlzka_slova'], ax=ax, label=\"Slovenské slová\")\n",
        "\n",
        "ax.set_title(\"Normálne rozdelenie dĺžky slov vo vetách\")\n",
        "ax.set_xlabel(\"Dĺžka slova\")\n",
        "ax.set_ylabel(\"Hustota\")\n",
        "ax.legend()"
      ]
    },
    {
      "cell_type": "markdown",
      "metadata": {
        "id": "X59ue6Zjxw_j"
      },
      "source": [
        "## Hlavné čistenie a úprava korpusu"
      ]
    },
    {
      "cell_type": "code",
      "execution_count": null,
      "metadata": {
        "colab": {
          "base_uri": "https://localhost:8080/"
        },
        "id": "UxhHTU8SRJA4",
        "outputId": "53a24cae-053d-4c8d-ee13-6106bf74d09f"
      },
      "outputs": [
        {
          "output_type": "stream",
          "name": "stdout",
          "text": [
            "Rozmery datasetu (riadky, stĺpce): (640715, 2)\n",
            "Riadky bez NaN hodnôt\t\t\t\t\t         Riadky: 640703 | Odstránené riadky: 12 | Čas: 2.78 sekúnd\n",
            "Normalizácia na základe UNICODE znakov\t\t\t         Riadky: 640703 | Počet zmenených riadkov v source (ANG): 109 | Počet zmenených riadkov v target (SK): 116 | Čas: 12.87 sekúnd\n",
            "Odstránenie riadkov, kde sa riadok source rovná riadku target\t Riadky: 640703 | Odstránené riadky: 0 | Čas: 13.10 sekúnd\n",
            "Odstránenie duplicitných/rovnakých riadkov\t\t\t Riadky: 640703 | Odstránené riadky: 0 | Čas: 13.86 sekúnd\n",
            "Odstránenie príliš dlhých viet source/target\t\t         Riadky: 640703 | Odstránené riadky: 0 | Čas: 15.78 sekúnd\n",
            "Konverzia HTML znakov\t\t\t\t        \t Riadky: 640703 | Odstránené riadky: 0 | Čas: 19.70 sekúnd\n",
            "Odstránenie znakov, ktoré nie sú písmená/čísla\t\t\t Riadky: 640703 | Odstránené riadky: 0 | Čas: 23.00 sekúnd\n",
            "Riadky sú konvertované na malé písmená (lowercase)\t\t Riadky: 640703 | Odstránené riadky: 0 | Čas: 23.74 sekúnd\n",
            "Riadky bez NaN hodnôt\t\t\t\t\t         Riadky: 640703 | Odstránené riadky: 0 | Čas: 26.25 sekúnd\n"
          ]
        },
        {
          "output_type": "stream",
          "name": "stderr",
          "text": [
            "<ipython-input-7-57ea072be3e4>:135: SettingWithCopyWarning: \n",
            "A value is trying to be set on a copy of a slice from a DataFrame\n",
            "\n",
            "See the caveats in the documentation: https://pandas.pydata.org/pandas-docs/stable/user_guide/indexing.html#returning-a-view-versus-a-copy\n",
            "  df.drop(columns=['source_jazyk', 'target_jazyk'], inplace=True)\n"
          ]
        },
        {
          "output_type": "stream",
          "name": "stdout",
          "text": [
            "Kontrola jazykov\t\t\t\t\t         Riadky: 512176 | Odstránené riadky: 128527 | Čas: 8442.16 sekúnd\n",
            "Prehodenie poradia riadkov\t\t\t\t\t Riadky: 512176\n",
            "Celkový prejdený čas: 8442.36 sekúnd\n",
            "Source súbor uložený: /content/drive/MyDrive/Colab_Notebooks/Diplomovka/Dáta/ParaCrawl/ParaCrawl.en-filtered.en\n",
            "Target súbor uložený: /content/drive/MyDrive/Colab_Notebooks/Diplomovka/Dáta/ParaCrawl/ParaCrawl.sk-filtered.sk\n"
          ]
        }
      ],
      "source": [
        "start_time = time.time()\n",
        "\n",
        "df_source = pd.read_csv(en_parl, names=['Source'], sep=\"\\0\", quoting=csv.QUOTE_NONE, skip_blank_lines=False) # dataset pre anglický text (source)\n",
        "df_target = pd.read_csv(sk_parl, names=['Target'], sep=\"\\0\", quoting=csv.QUOTE_NONE, skip_blank_lines=False) # dataset pre slovenský text (target)\n",
        "df = pd.concat([df_source, df_target], axis=1)\n",
        "\n",
        "#df = df.iloc[:int(df.shape[0]/2),:] # rozdelenie na polku\n",
        "\n",
        "print(\"Rozmery datasetu (riadky, stĺpce):\", df.shape)\n",
        "\n",
        "\n",
        "# Odstránenie NaN hodnôt\n",
        "pocet_riadkov = df.shape[0]\n",
        "df = df.dropna()\n",
        "odstranene_riadky = pocet_riadkov - df.shape[0]\n",
        "print_status(\"Riadky bez NaN hodnôt\\t\\t\\t\\t\\t        \", df.shape[0], odstranene_riadky, time.time() - start_time)\n",
        "\n",
        "\n",
        "# Zmeny niektorých znakov, na základe zistení pomocou unicode normalizácie NFKC\n",
        "pocet_riadkov = df.shape[0]\n",
        "\n",
        "original_source = df['Source'] # budúca referencia ako počet zmenených znakov\n",
        "original_target = df[\"Target\"] # budúca referencia ako počet zmenených znakov\n",
        "\n",
        "# Odstránenie exponentov, ktoré nie sú veďla čísel (väčšinou sa jedná o exponenty, ktoré referujú na zdroj, čo nie je žiadúce v našom modely) a zároveň sú dané slová dlhšie ako 3, aby sme omylom nevymazali znak pre miery ako napríklad km, m atď.\n",
        "df['Source'] = df['Source'].str.replace(r'(\\b\\w{4,})\\s*([¹²³⁴⁵⁶⁷⁸⁹⁰]+)', r'\\1', regex=True)\n",
        "df['Target'] = df['Target'].str.replace(r'(\\b\\w{4,})\\s*([¹²³⁴⁵⁶⁷⁸⁹⁰]+)', r'\\1', regex=True)\n",
        "\n",
        "# Transformácia º (U+00BA) a ˚ (U+02DA) na  ̊ (U+030A) pre zjednotenie znaku stupňa\n",
        "df['Source'] = df['Source'].str.replace('\\u00BA', '\\u030A')\n",
        "df['Target'] = df['Target'].str.replace('\\u00BA', '\\u030A')\n",
        "df['Source'] = df['Source'].str.replace('\\u02DA', '\\u030A')\n",
        "df['Target'] = df['Target'].str.replace('\\u02DA', '\\u030A')\n",
        "\n",
        "# Transformácia ½ (U+00BD) na ,5\n",
        "df['Source'] = df['Source'].str.replace('\\u00BD', ',5')\n",
        "df['Target'] = df['Target'].str.replace('\\u00BD', ',5')\n",
        "\n",
        "# Porovnanie pôvodných a normalizovaných hodnôt ako reťazcov a spočítanie zmenených riadkov\n",
        "source_sum = (original_source != df['Source']).sum()\n",
        "target_sum = (original_target != df['Target']).sum()\n",
        "\n",
        "prejdeny_cas = time.time() - start_time\n",
        "print(f\"Normalizácia na základe UNICODE znakov\\t\\t\\t         Riadky: {df.shape[0]} | Počet zmenených riadkov v source (ANG): {source_sum} | Počet zmenených riadkov v target (SK): {target_sum} | Čas: {prejdeny_cas:.2f} sekúnd\")\n",
        "\n",
        "\n",
        "# Odstránenie riadkov kde sa riadok source rovná riadku target\n",
        "pocet_riadkov = df.shape[0]\n",
        "df = df[df['Source'] != df['Target']]\n",
        "odstranene_riadky = pocet_riadkov - df.shape[0]\n",
        "print_status(\"Odstránenie riadkov, kde sa riadok source rovná riadku target\\t\", df.shape[0], odstranene_riadky, time.time() - start_time)\n",
        "\n",
        "\n",
        "# Odstránenie duplikátov\n",
        "pocet_riadkov = df.shape[0]\n",
        "df = df.drop_duplicates()\n",
        "odstranene_riadky = pocet_riadkov - df.shape[0]\n",
        "print_status(\"Odstránenie duplicitných/rovnakých riadkov\\t\\t\\t\", df.shape[0], odstranene_riadky, time.time() - start_time)\n",
        "\n",
        "\n",
        "# Odstránenie v dôsledku príliš dlhých viet source/target\n",
        "# Dĺžka, ktorá sa považuje za \"príliš dlhú\" záleží od jazyka\n",
        "pocet_riadkov = df.shape[0]\n",
        "max_sentence_length = 175\n",
        "df = df[~((df['Source'].str.count(' ') > max_sentence_length) | (df['Target'].str.count(' ') > max_sentence_length))]\n",
        "odstranene_riadky = pocet_riadkov - df.shape[0]\n",
        "print_status(\"Odstránenie príliš dlhých viet source/target\\t\\t        \", df.shape[0], odstranene_riadky, time.time() - start_time)\n",
        "\n",
        "\n",
        "# konverzia špeciálnych (HTML) znakov\n",
        "pocet_riadkov = df.shape[0]\n",
        "\n",
        "df['Source'] = df['Source'].str.replace(r'&amp;', '&', regex=True)\n",
        "df['Source'] = df['Source'].str.replace(r'&quot;', '\"', regex=True)\n",
        "df['Source'] = df['Source'].str.replace(r'&apos;', '\\'', regex=True)\n",
        "df['Source'] = df['Source'].str.replace(r'&lt;', '<', regex=True)\n",
        "df['Source'] = df['Source'].str.replace(r'&gt;', '>', regex=True)\n",
        "\n",
        "df['Target'] = df['Target'].str.replace(r'&amp;', '&', regex=True)\n",
        "df['Target'] = df['Target'].str.replace(r'&quot;', '\"', regex=True)\n",
        "df['Target'] = df['Target'].str.replace(r'&apos;', '\\'', regex=True)\n",
        "df['Target'] = df['Target'].str.replace(r'&lt;', '<', regex=True)\n",
        "df['Target'] = df['Target'].str.replace(r'&gt;', '>', regex=True)\n",
        "\n",
        "odstranene_riadky = pocet_riadkov - df.shape[0]\n",
        "print_status(\"Konverzia HTML znakov\\t\\t\\t\\t        \t\", df.shape[0], odstranene_riadky, time.time() - start_time)\n",
        "\n",
        "# Odstránenie znakov, ktoré nie sú písmená/čísla\n",
        "#df['Source'] = df['Source'].str.replace(r'(?<![,\\d])[^,\\w\\s¹²³⁴⁵⁶⁷⁸⁹⁰\\u030A-]+', '', regex=True) # kód ponecháva čiarky pred číslami, exponenty čísel, znak stupňa a pomlčky a samozrejme písmená a čísla.\n",
        "#df['Target'] = df['Target'].str.replace(r'(?<![,\\d])[^,\\w\\s¹²³⁴⁵⁶⁷⁸⁹⁰\\u030A-]+', '', regex=True)\n",
        "\n",
        "df['Source'] = df['Source'].str.replace('[^\\w\\s]', '', regex=True)\n",
        "df['Target'] = df['Target'].str.replace('[^\\w\\s]', '', regex=True)\n",
        "\n",
        "odstranene_riadky = pocet_riadkov - df.shape[0]\n",
        "print_status(\"Odstránenie znakov, ktoré nie sú písmená/čísla\\t\\t\\t\", df.shape[0], odstranene_riadky, time.time() - start_time)\n",
        "\n",
        "# konverzia na malé písmená\n",
        "pocet_riadkov = df.shape[0]\n",
        "#df['Source'] = df['Source'].apply(lambda x: x[:1].lower() + x[1:])\n",
        "#df['Target'] = df['Target'].apply(lambda x: x[:1].lower() + x[1:])\n",
        "\n",
        "df['Source'] = df['Source'].str.lower()\n",
        "df['Target'] = df['Target'].str.lower()\n",
        "\n",
        "\n",
        "prejdeny_cas = time.time() - start_time\n",
        "odstranene_riadky = pocet_riadkov - df.shape[0] # tu je to len, aby to pasovalo pre funkciu print_status\n",
        "print_status(\"Riadky sú konvertované na malé písmená (lowercase)\\t\\t\", df.shape[0], odstranene_riadky, time.time() - start_time)\n",
        "\n",
        "\n",
        "# Nahradenie prázdnych riadkov NaN\n",
        "df = df.replace(r'^\\s*$', np.nan, regex=True)\n",
        "\n",
        "# Dodatočné odstránenie riadkov, kde je NaN, ktoré mohli vzniknúť v dôsledku minulých krokov\n",
        "pocet_riadkov = df.shape[0]\n",
        "df = df.dropna()\n",
        "odstranene_riadky = pocet_riadkov - df.shape[0]\n",
        "print_status(\"Riadky bez NaN hodnôt\\t\\t\\t\\t\\t        \", df.shape[0], odstranene_riadky, time.time() - start_time)\n",
        "\n",
        "# kontrola jazyka - tento proces trvá najdlhšie\n",
        "def kontrola(text):\n",
        "    try:\n",
        "        return detect(text)\n",
        "    except LangDetectException:\n",
        "        return None\n",
        "\n",
        "pocet_riadkov = df.shape[0]\n",
        "DetectorFactory.seed = 0 # pridanie seed, aby sme vždy dostali rovnaký výsledok, keďže langdetect algoritmus je nedeterministický, čiže v niektorých prípadoch môže rozhodnúť odlišne\n",
        "\n",
        "df['source_jazyk'] = df['Source'].apply(lambda x: kontrola(x) if x and len(x.split()) > 1 else None) # ak obsahuje veta len jedno slovo, nevykoná sa nič\n",
        "df['target_jazyk'] = df['Target'].apply(lambda x: kontrola(x) if x and len(x.split()) > 1 else None)\n",
        "\n",
        "df = df[(df['source_jazyk'] == \"en\") & (df['target_jazyk'] == \"sk\")]\n",
        "df.drop(columns=['source_jazyk', 'target_jazyk'], inplace=True)\n",
        "odstranene_riadky = pocet_riadkov - df.shape[0]\n",
        "print_status(\"Kontrola jazykov\\t\\t\\t\\t\\t        \", df.shape[0], odstranene_riadky, time.time() - start_time)\n",
        "\n",
        "\n",
        "# Zmenenie poradia riadkov\n",
        "df = df.sample(frac=1, random_state=42).reset_index(drop=True) # pridanie random_state, aby sme dostali vždy rovnako zamiešaný dataset\n",
        "print(\"Prehodenie poradia riadkov\\t\\t\\t\\t\\t Riadky:\", df.shape[0])\n",
        "\n",
        "prejdeny_cas = time.time() - start_time\n",
        "print(f\"Celkový prejdený čas: {prejdeny_cas:.2f} sekúnd\")\n",
        "\n",
        "source_subor = en_parl+'-filtered.'+ \"en\"\n",
        "target_subor = sk_parl+'-filtered.'+ \"sk\"\n",
        "\n",
        "df_source_en = df[\"Source\"]\n",
        "df_target_sk = df[\"Target\"]\n",
        "\n",
        "df_source_en.to_csv(source_subor, header=False, index=False, quoting=csv.QUOTE_NONE, sep=\"\\n\")\n",
        "print(\"Source súbor uložený:\", source_subor)\n",
        "df_target_sk.to_csv(target_subor, header=False, index=False, quoting=csv.QUOTE_NONE, sep=\"\\n\")\n",
        "print(\"Target súbor uložený:\", target_subor)"
      ]
    },
    {
      "cell_type": "code",
      "execution_count": null,
      "metadata": {
        "id": "pD3Dh9_3IFLP"
      },
      "outputs": [],
      "source": []
    },
    {
      "cell_type": "markdown",
      "metadata": {
        "id": "N4PQ8Sr03KY9"
      },
      "source": [
        "# Tokenizácia na subwordy"
      ]
    },
    {
      "cell_type": "code",
      "execution_count": 5,
      "metadata": {
        "id": "O15cQXs34F58"
      },
      "outputs": [],
      "source": [
        "en_filt = r\"/content/drive/MyDrive/Colab_Notebooks/Diplomovka/Dáta/europarl/europarl.sk-en.en-filtered.en\"\n",
        "sk_filt = r\"/content/drive/MyDrive/Colab_Notebooks/Diplomovka/Dáta/europarl/europarl.sk-en.sk-filtered.sk\"\n",
        "\n",
        "#en_filt = \"/content/drive/MyDrive/Colab_Notebooks/Diplomovka/Dáta/ParaCrawl/ParaCrawl.en-filtered.en\"\n",
        "#sk_filt = \"/content/drive/MyDrive/Colab_Notebooks/Diplomovka/Dáta/ParaCrawl/ParaCrawl.sk-filtered.sk\""
      ]
    },
    {
      "cell_type": "code",
      "execution_count": 6,
      "metadata": {
        "colab": {
          "base_uri": "https://localhost:8080/"
        },
        "id": "c_Lvxmw13O6G",
        "outputId": "72ac5961-ae59-4dce-9a33-83d2f1e1a5eb"
      },
      "outputs": [
        {
          "output_type": "stream",
          "name": "stdout",
          "text": [
            "Trénovanie SentencePiece modelu bolo pre source súbor dokončené\n",
            "Trénovanie SentencePiece modelu bolo pre target súbor dokončené\n"
          ]
        }
      ],
      "source": [
        "#https://github.com/google/sentencepiece\n",
        "\n",
        "\n",
        "#Parametre\n",
        "vocab_size = 8000\n",
        "character_coverage = 0.9995\n",
        "\n",
        "# pre prípad veľkých korpusov -> --train_extremely_large_corpus=false\n",
        "\n",
        "# Model pre tokenizáciu anglického textu (source) na subword\n",
        "source = f'--input={en_filt} --model_prefix=source --vocab_size={vocab_size} --hard_vocab_limit=false --character_coverage={character_coverage} --split_digits=true --model_type=bpe'\n",
        "spm.SentencePieceTrainer.train(source)\n",
        "print(\"Trénovanie SentencePiece modelu bolo pre source súbor dokončené\")\n",
        "\n",
        "\n",
        "# Model pre tokenizáciu slovenského textu (target) na subword\n",
        "target = f'--input={sk_filt} --model_prefix=target --vocab_size={vocab_size} --hard_vocab_limit=false --character_coverage={character_coverage} --split_digits=true --model_type=bpe'\n",
        "spm.SentencePieceTrainer.train(target)\n",
        "print(\"Trénovanie SentencePiece modelu bolo pre target súbor dokončené\")"
      ]
    },
    {
      "cell_type": "code",
      "execution_count": 7,
      "metadata": {
        "id": "XPIyMvNVGxTm"
      },
      "outputs": [],
      "source": [
        "source_model = r\"/content/source.model\"\n",
        "target_model = r\"/content/target.model\"\n",
        "source_subworded = \"/content/drive/MyDrive/Colab_Notebooks/Diplomovka/Dáta/europarl/source_subworded\"\n",
        "target_subworded = \"/content/drive/MyDrive/Colab_Notebooks/Diplomovka/Dáta/europarl/target_subworded\"\n",
        "\n",
        "#source_subworded = \"/content/drive/MyDrive/Colab_Notebooks/Diplomovka/Dáta/ParaCrawl/source_subworded\"\n",
        "#target_subworded = \"/content/drive/MyDrive/Colab_Notebooks/Diplomovka/Dáta/ParaCrawl/target_subworded\""
      ]
    },
    {
      "cell_type": "code",
      "execution_count": 8,
      "metadata": {
        "colab": {
          "base_uri": "https://localhost:8080/"
        },
        "id": "oyAlHd07Hc0v",
        "outputId": "24507e52-1626-47ca-b17f-43d22353bec1"
      },
      "outputs": [
        {
          "output_type": "stream",
          "name": "stdout",
          "text": [
            "Spracovaných 100000 riadkov v <_io.TextIOWrapper name='/content/drive/MyDrive/Colab_Notebooks/Diplomovka/Dáta/europarl/europarl.sk-en.en-filtered.en' mode='r' encoding='utf-8'>\n",
            "Spracovaných 200000 riadkov v <_io.TextIOWrapper name='/content/drive/MyDrive/Colab_Notebooks/Diplomovka/Dáta/europarl/europarl.sk-en.en-filtered.en' mode='r' encoding='utf-8'>\n",
            "Spracovaných 300000 riadkov v <_io.TextIOWrapper name='/content/drive/MyDrive/Colab_Notebooks/Diplomovka/Dáta/europarl/europarl.sk-en.en-filtered.en' mode='r' encoding='utf-8'>\n",
            "Subwordovanie Source súboru bolo dokončené: /content/drive/MyDrive/Colab_Notebooks/Diplomovka/Dáta/europarl/source_subworded\n",
            "Spracovaných 100000 riadkov v <_io.TextIOWrapper name='/content/drive/MyDrive/Colab_Notebooks/Diplomovka/Dáta/europarl/europarl.sk-en.sk-filtered.sk' mode='r' encoding='utf-8'>\n",
            "Spracovaných 200000 riadkov v <_io.TextIOWrapper name='/content/drive/MyDrive/Colab_Notebooks/Diplomovka/Dáta/europarl/europarl.sk-en.sk-filtered.sk' mode='r' encoding='utf-8'>\n",
            "Spracovaných 300000 riadkov v <_io.TextIOWrapper name='/content/drive/MyDrive/Colab_Notebooks/Diplomovka/Dáta/europarl/europarl.sk-en.sk-filtered.sk' mode='r' encoding='utf-8'>\n",
            "Subwordovanie Target súboru bolo dokončené: /content/drive/MyDrive/Colab_Notebooks/Diplomovka/Dáta/europarl/target_subworded\n"
          ]
        }
      ],
      "source": [
        "def subwordovanie(sp, vstup, vystup, interval=100000):\n",
        "    try:\n",
        "        with open(vstup, encoding=\"utf-8\") as vstup, open(vystup, \"w+\", encoding=\"utf-8\") as vystup:\n",
        "            for i, rad in enumerate(vstup):\n",
        "                rad = rad.strip()\n",
        "                token = sp.encode_as_pieces(rad)\n",
        "                vystup.write(\" \".join(token) + \"\\n\")\n",
        "\n",
        "                if (i + 1) % interval == 0:\n",
        "                    print(f\"Spracovaných {i + 1} riadkov v {vstup}\")\n",
        "    except Exception as e:\n",
        "        print(f\"Nastala chyba v procese {vstup}: {e}\")\n",
        "\n",
        "sp = spm.SentencePieceProcessor()\n",
        "\n",
        "sp.load(source_model)\n",
        "subwordovanie(sp, en_filt, source_subworded)\n",
        "print(f\"Subwordovanie Source súboru bolo dokončené: {source_subworded}\")\n",
        "\n",
        "sp.load(target_model)\n",
        "subwordovanie(sp, sk_filt, target_subworded)\n",
        "print(f\"Subwordovanie Target súboru bolo dokončené: {target_subworded}\")"
      ]
    },
    {
      "cell_type": "markdown",
      "metadata": {
        "id": "WNRR4aZWmkGW"
      },
      "source": [
        "# Tokenizácia na slová"
      ]
    },
    {
      "cell_type": "code",
      "execution_count": null,
      "metadata": {
        "id": "P76QunoxrBN9"
      },
      "outputs": [],
      "source": [
        "import pyonmttok\n",
        "import pickle"
      ]
    },
    {
      "cell_type": "code",
      "execution_count": null,
      "metadata": {
        "id": "NSv5LQDPF9kC"
      },
      "outputs": [],
      "source": [
        "en_filt = r\"/content/drive/MyDrive/Colab_Notebooks/Diplomovka/Dáta/europarl/europarl.sk-en.en-filtered.en\"\n",
        "sk_filt = r\"/content/drive/MyDrive/Colab_Notebooks/Diplomovka/Dáta/europarl/europarl.sk-en.sk-filtered.sk\""
      ]
    },
    {
      "cell_type": "code",
      "execution_count": null,
      "metadata": {
        "colab": {
          "base_uri": "https://localhost:8080/"
        },
        "id": "15hu2UMuHYBd",
        "outputId": "e5ec3c79-32b3-4971-d17b-ad452d50437f"
      },
      "outputs": [
        {
          "name": "stdout",
          "output_type": "stream",
          "text": [
            "Tokenizácia na slová bola dokončená pre oba jazyky.\n"
          ]
        }
      ],
      "source": [
        "en_tokenizer = pyonmttok.Tokenizer(\"conservative\")\n",
        "sk_tokenizer = pyonmttok.Tokenizer(\"conservative\")\n",
        "\n",
        "# tokenizácia anglického textu\n",
        "with open(en_filt, \"r\", encoding=\"utf-8\") as en_file:\n",
        "    en_content = en_file.read()\n",
        "    en_tokens, _ = en_tokenizer.tokenize(en_content)\n",
        "\n",
        "# tokenizácia slovenského textu\n",
        "with open(sk_filt, \"r\", encoding=\"utf-8\") as sk_file:\n",
        "    sk_content = sk_file.read()\n",
        "    sk_tokens, _ = sk_tokenizer.tokenize(sk_content)\n",
        "\n",
        "# uloženie súborov\n",
        "en_token_slov = \"/content/en_token_slova.csv\"\n",
        "sk_token_slov = \"/content/sk_token_slova.csv\"\n",
        "\n",
        "with open(en_token_slov, \"w\", newline=\"\", encoding=\"utf-8\") as en_csv:\n",
        "    writer = csv.writer(en_csv)\n",
        "    writer.writerow(en_tokens)\n",
        "\n",
        "with open(sk_token_slov, \"w\", newline=\"\", encoding=\"utf-8\") as sk_csv:\n",
        "    writer = csv.writer(sk_csv)\n",
        "    writer.writerow(sk_tokens)\n",
        "\n",
        "print(\"Tokenizácia na slová bola dokončená pre oba jazyky.\")"
      ]
    },
    {
      "cell_type": "code",
      "execution_count": null,
      "metadata": {
        "id": "eAnervqXI7VS"
      },
      "outputs": [],
      "source": [
        "source_subor = r\"/content/en_token_slova.csv\"\n",
        "target_subor = r\"/content/sk_token_slova.csv\""
      ]
    },
    {
      "cell_type": "code",
      "execution_count": null,
      "metadata": {
        "colab": {
          "base_uri": "https://localhost:8080/"
        },
        "id": "EZAan-OsRCvM",
        "outputId": "82b40d93-0808-41c3-c98e-02f75d22b51e"
      },
      "outputs": [
        {
          "name": "stderr",
          "output_type": "stream",
          "text": [
            "IOPub data rate exceeded.\n",
            "The notebook server will temporarily stop sending output\n",
            "to the client in order to avoid crashing it.\n",
            "To change this limit, set the config variable\n",
            "`--NotebookApp.iopub_data_rate_limit`.\n",
            "\n",
            "Current values:\n",
            "NotebookApp.iopub_data_rate_limit=1000000.0 (bytes/sec)\n",
            "NotebookApp.rate_limit_window=3.0 (secs)\n",
            "\n"
          ]
        }
      ],
      "source": [
        "with open(source_subor, \"r\", encoding=\"utf-8\") as file:\n",
        "    for i, line in enumerate(file):\n",
        "        print(line.strip())\n",
        "        if i >= 5:\n",
        "            break\n",
        "\n",
        "print()\n",
        "\n",
        "with open(target_subor, \"r\", encoding=\"utf-8\") as file:\n",
        "    for i, line in enumerate(file):\n",
        "        print(line.strip())\n",
        "        if i >= 5:\n",
        "            break"
      ]
    },
    {
      "cell_type": "markdown",
      "metadata": {
        "id": "z2unc3y_OBsW"
      },
      "source": [
        "# Výpis riadkov súboru"
      ]
    },
    {
      "cell_type": "code",
      "execution_count": 9,
      "metadata": {
        "colab": {
          "base_uri": "https://localhost:8080/"
        },
        "id": "HJE75HqLOJK3",
        "outputId": "5aeb628d-f786-409c-9be8-4f13617409d0"
      },
      "outputs": [
        {
          "output_type": "stream",
          "name": "stdout",
          "text": [
            "▁we ▁share ▁your ▁view ▁on ▁that ▁point\n",
            "▁this ▁is ▁a ▁reference ▁to ▁the ▁ Y am al - Europe ▁natural ▁gas ▁pipeline ▁and ▁the ▁F ri ends hip ▁oil ▁pipeline\n",
            "▁we ▁in ▁Europe ▁realise ▁that ▁rest oring ▁the ▁financial ▁markets ▁to ▁normal ▁conditions ▁of ▁operation ▁depends ▁largely ▁on ▁the ▁American ▁financial ▁market ▁returning ▁to ▁normal\n",
            "▁i ▁am ▁really ▁more ▁than ▁glad ▁to ▁see ▁that ▁Mr ▁M lad en ov s ▁report ▁is ▁doing ▁this ▁through ▁the ▁good ▁set - up ▁of ▁the ▁pie ces ▁of ▁his ▁work ▁and ▁also ▁has ▁such ▁n ice ▁and ▁meaning ful ▁support ▁from ▁his ▁colleagues\n",
            "▁author ▁- ▁ES ▁Mr ▁President , ▁the ▁human ▁rights ▁situation ▁in ▁Iran ▁has ▁deterior ated ▁dram atically ▁since ▁ 2 0 0 5 .\n",
            "▁the ▁Council ▁will ▁consider ▁the ▁EUs ▁negotiating ▁stance ▁for ▁the ▁Copenhagen ▁climate ▁conference\n",
            "\n",
            "▁na ▁tento ▁bod ▁máme ▁rovnaký ▁názor ▁ako ▁vy\n",
            "▁toto ▁je ▁odkaz ▁na ▁plynovod ▁J am al ▁- ▁Európa ▁a ▁ro pov od u ▁D ru ž ba\n",
            "▁v ▁Európe ▁si ▁uvedomujeme , ▁že ▁obnov a ▁finančných ▁trhov ▁späť ▁k ▁norm álnym ▁podmien kam ▁fungovania ▁závisí ▁do ▁zna čnej ▁miery ▁od ▁amerických ▁finančných ▁trhov ▁vra c ajúcich ▁sa ▁do ▁norm álu\n",
            "▁som ▁viac ▁než ▁rada , ▁že ▁správa ▁pána ▁M lad en ova ▁to ▁dosah uje ▁prostredníctvom ▁dobrej ▁prípravy ▁jednot livo stí ▁jeho ▁d iela ▁a ▁teší ▁sa ▁aj ▁pek nej ▁a ▁z myslu pl nej ▁podpore ▁jeho ▁kolegov\n",
            "▁autor ▁- ▁ES ▁Vážený ▁pán ▁predsedajúci , ▁situácia ▁v ▁oblasti ▁ľudských ▁práv ▁sa ▁od ▁roku ▁ 2 0 0 5 ▁v ▁I rá ne ▁dra maticky ▁zhorš ila\n",
            "▁európska ▁rada ▁o c ení ▁postoj ▁EÚ ▁počas ▁rokovaní ▁na ▁konferencii ▁o ▁zmene ▁klímy ▁v ▁Kodani\n"
          ]
        }
      ],
      "source": [
        "with open(source_subworded, \"r\", encoding=\"utf-8\") as file:\n",
        "    for i, line in enumerate(file):\n",
        "        print(line.strip())\n",
        "        if i >= 5:\n",
        "            break\n",
        "\n",
        "print()\n",
        "\n",
        "with open(target_subworded, \"r\", encoding=\"utf-8\") as file:\n",
        "    for i, line in enumerate(file):\n",
        "        print(line.strip())\n",
        "        if i >= 5:\n",
        "            break"
      ]
    },
    {
      "cell_type": "markdown",
      "metadata": {
        "id": "KaZHsKCBONyA"
      },
      "source": [
        "# Rozdelenie dát na množiny"
      ]
    },
    {
      "cell_type": "markdown",
      "metadata": {
        "id": "3quZI0QiOR02"
      },
      "source": [
        "Dáta rozdelujeme do 3 častí:\n",
        "\n",
        "    trénovací dataset - používa sa na trénovanie modelu;\n",
        "    development (validačný) dataset - používa sa na validáciu modelu počas trénovania, aby sa mohli vylepšiť parametre modelu\n",
        "    testovací dataset - používa sa na konečné vyhodotenie (evaluáciu) modelu na modelom nevidených dátach"
      ]
    },
    {
      "cell_type": "code",
      "execution_count": 10,
      "metadata": {
        "id": "nu2oO6BoPGp3"
      },
      "outputs": [],
      "source": [
        "source_subor = r\"/content/drive/MyDrive/Colab_Notebooks/Diplomovka/Dáta/europarl/source_subworded\"\n",
        "target_subor = r\"/content/drive/MyDrive/Colab_Notebooks/Diplomovka/Dáta/europarl/target_subworded\"\n",
        "\n",
        "\n",
        "#source_subor = r\"/content/drive/MyDrive/Colab_Notebooks/Diplomovka/Dáta/ParaCrawl/source_subworded\"\n",
        "#target_subor = r\"/content/drive/MyDrive/Colab_Notebooks/Diplomovka/Dáta/ParaCrawl/target_subworded\""
      ]
    },
    {
      "cell_type": "code",
      "execution_count": 11,
      "metadata": {
        "id": "9-kr-n2_OVdo"
      },
      "outputs": [],
      "source": [
        "# Veľkosť súborov pre dev a test text\n",
        "dataset_velkost = 2000\n",
        "\n",
        "development = dataset_velkost\n",
        "test = dataset_velkost\n",
        "\n",
        "\n",
        "def train_test_dev(development, test, source_subor, target_subor):\n",
        "    df_source = pd.read_csv(source_subor, names=['Source'], sep=\"\\0\", quoting=csv.QUOTE_NONE, skip_blank_lines=False, encoding=\"utf-8\")\n",
        "    df_target = pd.read_csv(target_subor, names=['Target'], sep=\"\\0\", quoting=csv.QUOTE_NONE, skip_blank_lines=False, encoding=\"utf-8\")\n",
        "    df = pd.concat([df_source, df_target], axis=1)\n",
        "\n",
        "    # Odstránenie prázdnych riadkov\n",
        "    df.dropna(inplace=True)\n",
        "\n",
        "    # Zamiešanie datasetu\n",
        "    df = df.sample(frac=1, random_state=42).reset_index(drop=True) # pridanie random_state, aby sme dostali vždy rovnako zamiešaný dataset\n",
        "\n",
        "    # Rozdelenie datasetu\n",
        "    df_dev = df[:development]\n",
        "    df_test = df[development:development + test]\n",
        "    df_train = df[development + test:]\n",
        "\n",
        "    def vytvorenie_suboru(df, source_subor, target_subor):\n",
        "        df['Source'].to_csv(source_subor, index=False, header=False, quoting=csv.QUOTE_NONE, sep='\\n')\n",
        "        df['Target'].to_csv(target_subor, index=False, header=False, quoting=csv.QUOTE_NONE, sep='\\n')\n",
        "\n",
        "\n",
        "    vytvorenie_suboru(df_train, source_subor + '.train', target_subor + '.train')\n",
        "    vytvorenie_suboru(df_dev, source_subor + '.dev', target_subor + '.dev')\n",
        "    vytvorenie_suboru(df_test, source_subor + '.test', target_subor + '.test')\n",
        "\n",
        "\n",
        "train_test_dev(development, test, source_subor, target_subor)"
      ]
    },
    {
      "cell_type": "code",
      "execution_count": 12,
      "metadata": {
        "id": "bKTRESdMD1NB"
      },
      "outputs": [],
      "source": [
        "source_test = r\"/content/drive/MyDrive/Colab_Notebooks/Diplomovka/Dáta/europarl/source_subworded.test\"\n",
        "target_test = r\"/content/drive/MyDrive/Colab_Notebooks/Diplomovka/Dáta/europarl/target_subworded.test\"\n",
        "\n",
        "#source_test = r\"/content/en_token_slova.csv.test\"\n",
        "#target_test = r\"/content/sk_token_slova.csv.test\"\n",
        "\n",
        "#source_test = r\"/content/drive/MyDrive/Colab_Notebooks/Diplomovka/Dáta/ParaCrawl/source_subworded.test\"\n",
        "#target_test = r\"/content/drive/MyDrive/Colab_Notebooks/Diplomovka/Dáta/ParaCrawl/target_subworded.test\""
      ]
    },
    {
      "cell_type": "code",
      "execution_count": 13,
      "metadata": {
        "colab": {
          "base_uri": "https://localhost:8080/"
        },
        "id": "Ex43E6oqDmiM",
        "outputId": "a9304c92-fbe1-4ee0-fb29-33dc857fef0a"
      },
      "outputs": [
        {
          "output_type": "stream",
          "name": "stdout",
          "text": [
            "▁i ▁have ▁caused ▁some ▁en quir ies ▁to ▁be ▁made ▁and ▁my ▁first ▁point ▁would ▁be ▁that ▁we ▁are ▁dealing ▁with ▁ Q uestion ▁Time ▁to ▁the ▁Commission , ▁not ▁to ▁a ▁particular ▁Commissioner\n",
            "▁he ▁served ▁as ▁President ▁of ▁the ▁European ▁Commission ▁from ▁ 1 9 8 1 ▁until ▁ 1 9 8 5 .\n",
            "▁in ▁writing ▁- ▁IT ▁Madam ▁President , ▁ladies ▁and ▁gentlemen , ▁I ▁voted ▁in ▁favour ▁of ▁Mrs ▁T o ias ▁report ▁on ▁the ▁social ▁economy\n",
            "▁we ▁want ▁a ▁judicial ▁res ervation , ▁a ▁judicial ▁decision ▁on ▁fundamental ▁rights\n",
            "▁for ▁example , ▁desertification ▁may ▁inten sify ▁an ▁existing ▁general ▁cl im atic ▁tend ency ▁towards ▁greater ▁d ry ness , ▁or ▁it ▁may ▁initially ▁arise ▁from ▁a ▁change ▁in ▁the ▁local ▁climate\n",
            "▁i ▁would ▁like ▁to ▁remind ▁the ▁Commissioner ▁and ▁the ▁President ▁that ▁the ▁European ▁Parliament ▁has ▁already ▁expressed ▁its ▁support , ▁by ▁a ▁large ▁majority , ▁on ▁this ▁issue\n",
            "\n",
            "▁dala ▁som ▁zistiť ▁niekoľko ▁informácií ▁a ▁moja ▁prvá ▁pripomien ka ▁je , ▁že ▁v ▁otázky ▁vo ▁vyh rad enom ▁čase ▁sú ▁pre ▁Komisiu ▁a ▁nie ▁pre ▁konkrétne ho ▁komisára\n",
            "▁od ▁roku ▁ 1 9 8 1 ▁až ▁do ▁roku ▁ 1 9 8 5 ▁vykonáv al ▁funk ciu ▁predsedu ▁Európskej ▁komisie\n",
            "▁vážená ▁pani ▁predsedajúca , ▁dámy ▁a ▁páni , ▁hlasoval ▁som ▁za ▁správu ▁pani ▁To ia ovej ▁o ▁sociál nom ▁hospodárstve\n",
            "▁chceme ▁súd nu ▁vý hra du , ▁súd ne ▁rozhodnutie ▁o ▁základných ▁právach\n",
            "▁napríklad ▁rozšir ovanie ▁p ú šte ▁môže ▁zintenzív niť ▁exist ujúci ▁klimatick ý ▁trend ▁k ▁väčšie mu ▁su chu ▁alebo ▁sa ▁tento ▁proces ▁môže ▁spu stiť ▁z ▁dôvodu ▁zmeny ▁miestnej ▁klímy\n",
            "▁chcel ▁by ▁som ▁pripomenúť ▁pani ▁komisárke ▁a ▁úrad ujúce mu ▁predsedovi , ▁že ▁Európsky ▁parlament ▁už ▁vyjadril ▁svoju ▁podporu ▁tejto ▁otázke ▁veľkou ▁väčšinou\n"
          ]
        }
      ],
      "source": [
        "with open(source_test, \"r\", encoding=\"utf-8\") as file:\n",
        "    for i, line in enumerate(file):\n",
        "        print(line.strip())\n",
        "        if i >= 5:\n",
        "            break\n",
        "\n",
        "print()\n",
        "\n",
        "with open(target_test, \"r\", encoding=\"utf-8\") as file:\n",
        "    for i, line in enumerate(file):\n",
        "        print(line.strip())\n",
        "        if i >= 5:\n",
        "            break"
      ]
    },
    {
      "cell_type": "markdown",
      "metadata": {
        "id": "I2_hUU9Yx8nj"
      },
      "source": [
        "# Vytvorenie konfigurácie a trénovanie modelu"
      ]
    },
    {
      "cell_type": "code",
      "execution_count": null,
      "metadata": {
        "id": "Hnqodi2iQ2CX"
      },
      "outputs": [],
      "source": [
        "config = '''\n",
        "\n",
        "seed: 42 # aby sme dosiahli rovnakých výsledkov a pre lepšie porovnávanie medzi modelmi\n",
        "\n",
        "save_data: vocab  # zložka, kde sa uloží slovná zásoba vygenerovaná pomocou onmt_build_vocab\n",
        "\n",
        "data:\n",
        "    corpus:\n",
        "        # súbory určené na trénovanie\n",
        "        path_src: /content/drive/MyDrive/Colab_Notebooks/Diplomovka/Dáta/europarl/source_subworded.train\n",
        "        path_tgt: /content/drive/MyDrive/Colab_Notebooks/Diplomovka/Dáta/europarl/target_subworded.train\n",
        "\n",
        "        #path_src: /content/drive/MyDrive/Colab_Notebooks/Diplomovka/Dáta/ParaCrawl/source_subworded.train\n",
        "        #path_tgt: /content/drive/MyDrive/Colab_Notebooks/Diplomovka/Dáta/ParaCrawl/target_subworded.train\n",
        "        transforms: [filtertoolong]\n",
        "        weight: 1\n",
        "    valid:\n",
        "        # súbory určené na validáciu\n",
        "        path_src: /content/drive/MyDrive/Colab_Notebooks/Diplomovka/Dáta/europarl/source_subworded.dev\n",
        "        path_tgt: /content/drive/MyDrive/Colab_Notebooks/Diplomovka/Dáta/europarl/target_subworded.dev\n",
        "\n",
        "        #path_src: /content/drive/MyDrive/Colab_Notebooks/Diplomovka/Dáta/ParaCrawl/source_subworded.dev\n",
        "        #path_tgt: /content/drive/MyDrive/Colab_Notebooks/Diplomovka/Dáta/ParaCrawl/target_subworded.dev\n",
        "        transforms: [filtertoolong]\n",
        "\n",
        "# súbory, v ktorých je uložená slovná zásoba pre source (anglický jazyk) a target (slovenský jazyk) onmt_build_vocab\n",
        "src_vocab: vocab/source.vocab\n",
        "tgt_vocab: vocab/target.vocab\n",
        "\n",
        "# veľkosť slovnej zásoby - hodnoty by mali byť rovnaké ako v sentencepiece\n",
        "src_vocab_size: 8000\n",
        "tgt_vocab_size: 8000\n",
        "\n",
        "src_subword_model: /content/source.model\n",
        "tgt_subword_model: /content/target.model\n",
        "\n",
        "# Miesto uloženia súborov\n",
        "#log_file:   /content/drive/MyDrive/Colab_Notebooks/Diplomovka/Dáta/europarl/train.log\n",
        "save_model: /content/drive/MyDrive/Colab_Notebooks/Diplomovka/Dáta/europarl/complete_model\n",
        "\n",
        "#save_model: /content/drive/MyDrive/Colab_Notebooks/Diplomovka/Dáta/ParaCrawl/complete_model\n",
        "\n",
        "train_steps: 100000 # počet krokov trénovania\n",
        "valid_steps: 2500  # po n krokoch vykonať validáciu pomocou dev setu\n",
        "warmup_steps: 8000 # počet by mal byť priamoúmerný počtu krokov trénovania\n",
        "early_stopping: 4 # ak sa model nezlepší po n validáciach, trénovanie zastaví\n",
        "save_checkpoint_steps: 2500   # uloženie modelu po n krokoch\n",
        "keep_checkpoint: 15  # počet posledných n uložených modelov\n",
        "report_every: 500 # výpis informácií o trénovaní po n-krokoch\n",
        "\n",
        "decoder_type: transformer\n",
        "encoder_type: transformer\n",
        "word_vec_size: 512   # dimenzionálnosť word embeddingu\n",
        "hidden_size: 512     # dimenzionálnosť skrytých stavov v enkódery a dekódery\n",
        "layers: 6         # počet vrstiev v enkódery a dekódery   - alternatíva je enc_layers a dec_layers\n",
        "transformer_ff: 2048  # dimenzionálnosť doprednej vrstvy v transformery\n",
        "heads: 8              # počet attention head v multi-head-attention\n",
        "\n",
        "accum_count: 2 # počet n krokov, po ktorých sa aktualizujú parametre\n",
        "optim: adam\n",
        "adam_beta1: 0.9\n",
        "adam_beta2: 0.998\n",
        "decay_method: noam\n",
        "learning_rate: 2.0  # miera učenia\n",
        "max_grad_norm: 1.0    # gradient clipping, pomáha, aby v modely nenastal explodujúci gradient (nemožnosť modelu sa učiť v dôsledku vysokej miery učenia), emôže pomôcť pre lepšiu stabilitu modelu\n",
        "\n",
        "param_init: 0.0\n",
        "param_init_glorot: 'true'\n",
        "position_encoding: 'true'\n",
        "\n",
        "batch_size: 1024\n",
        "valid_batch_size: 1024\n",
        "batch_type: tokens\n",
        "normalization: tokens\n",
        "max_generator_batches: 2\n",
        "\n",
        "dropout: 0.1         # regularizácia, ktorá vytvára šancu (0.1 = 10%) na \"vypnutie\" nodu vo vrstve behom trénovania, pomáha proti overfittingu\n",
        "label_smoothing: 0.1\n",
        "\n",
        "world_size: 1\n",
        "gpu_ranks: 0\n",
        "\n",
        "# INFO\n",
        "log_file: train.log\n",
        "log_level: INFO\n",
        "\n",
        "'''\n",
        "\n",
        "with open(\"config.yaml\", \"w+\", encoding=\"utf-8\") as config_yaml:\n",
        "  config_yaml.write(config)"
      ]
    },
    {
      "cell_type": "code",
      "execution_count": null,
      "metadata": {
        "colab": {
          "base_uri": "https://localhost:8080/"
        },
        "id": "sQvEi-oUaTp5",
        "outputId": "c7ca0bff-4b84-4c59-9a70-3cbe632103fb"
      },
      "outputs": [
        {
          "name": "stdout",
          "output_type": "stream",
          "text": [
            "GPU 0: Tesla T4 (UUID: GPU-e28c12a8-d468-9c0d-db81-f55bb7da1397)\n"
          ]
        }
      ],
      "source": [
        "!nvidia-smi -L"
      ]
    },
    {
      "cell_type": "markdown",
      "metadata": {
        "id": "UATW2mh1SYHe"
      },
      "source": [
        "Použíjeme Framework OpenNMT"
      ]
    },
    {
      "cell_type": "code",
      "execution_count": null,
      "metadata": {
        "colab": {
          "base_uri": "https://localhost:8080/"
        },
        "id": "noLMeIygRw8W",
        "outputId": "cb2ca9e0-5b88-4d81-e66f-5c920a903a83"
      },
      "outputs": [
        {
          "name": "stdout",
          "output_type": "stream",
          "text": [
            "[2024-03-20 18:21:38,595 INFO] Counter vocab from -1 samples.\n",
            "[2024-03-20 18:21:38,595 INFO] n_sample=-1: Build vocab on full datasets.\n",
            "[2024-03-20 18:22:10,695 INFO] * Transform statistics for corpus(100.00%):\n",
            "\t\t\t* FilterTooLongStats(filtered=46)\n",
            "\n",
            "[2024-03-20 18:22:10,718 INFO] Counters src: 8135\n",
            "[2024-03-20 18:22:10,718 INFO] Counters tgt: 8117\n"
          ]
        }
      ],
      "source": [
        "# Vytvorenie vocabulary\n",
        "!onmt_build_vocab -config config.yaml -n_sample -1"
      ]
    },
    {
      "cell_type": "code",
      "execution_count": null,
      "metadata": {
        "colab": {
          "base_uri": "https://localhost:8080/"
        },
        "id": "XCIZCKtkUH83",
        "outputId": "65a2521e-571c-4852-c318-dfb93df8ad1f"
      },
      "outputs": [
        {
          "name": "stdout",
          "output_type": "stream",
          "text": [
            "[2024-03-20 18:22:15,044 INFO] Parsed 2 corpora from -data.\n",
            "[2024-03-20 18:22:15,044 INFO] Get special vocabs from Transforms: {'src': [], 'tgt': []}.\n",
            "[2024-03-20 18:22:15,076 INFO] The first 10 tokens of the vocabs are:['<unk>', '<blank>', '<s>', '</s>', '▁the', ',', '▁of', '▁to', '▁and', '▁in']\n",
            "[2024-03-20 18:22:15,076 INFO] The decoder start token is: <s>\n",
            "[2024-03-20 18:22:15,076 INFO] Building model...\n",
            "[2024-03-20 18:22:16,766 INFO] Switching model to float32 for amp/apex_amp\n",
            "[2024-03-20 18:22:16,766 INFO] Non quantized layer compute is fp32\n",
            "[2024-03-20 18:22:17,197 INFO] NMTModel(\n",
            "  (encoder): TransformerEncoder(\n",
            "    (embeddings): Embeddings(\n",
            "      (make_embedding): Sequential(\n",
            "        (emb_luts): Elementwise(\n",
            "          (0): Embedding(8000, 768, padding_idx=1)\n",
            "        )\n",
            "        (pe): PositionalEncoding()\n",
            "      )\n",
            "      (dropout): Dropout(p=0.2, inplace=False)\n",
            "    )\n",
            "    (transformer): ModuleList(\n",
            "      (0-7): 8 x TransformerEncoderLayer(\n",
            "        (self_attn): MultiHeadedAttention(\n",
            "          (linear_keys): Linear(in_features=768, out_features=768, bias=False)\n",
            "          (linear_values): Linear(in_features=768, out_features=768, bias=False)\n",
            "          (linear_query): Linear(in_features=768, out_features=768, bias=False)\n",
            "          (softmax): Softmax(dim=-1)\n",
            "          (dropout): Dropout(p=0.1, inplace=False)\n",
            "          (final_linear): Linear(in_features=768, out_features=768, bias=False)\n",
            "        )\n",
            "        (feed_forward): PositionwiseFeedForward(\n",
            "          (w_1): Linear(in_features=768, out_features=4096, bias=False)\n",
            "          (w_2): Linear(in_features=4096, out_features=768, bias=False)\n",
            "          (layer_norm): LayerNorm((768,), eps=1e-06, elementwise_affine=True)\n",
            "          (dropout_1): Dropout(p=0.2, inplace=False)\n",
            "          (dropout_2): Dropout(p=0.2, inplace=False)\n",
            "        )\n",
            "        (layer_norm): LayerNorm((768,), eps=1e-06, elementwise_affine=True)\n",
            "        (dropout): Dropout(p=0.2, inplace=False)\n",
            "      )\n",
            "    )\n",
            "    (layer_norm): LayerNorm((768,), eps=1e-06, elementwise_affine=True)\n",
            "  )\n",
            "  (decoder): TransformerDecoder(\n",
            "    (embeddings): Embeddings(\n",
            "      (make_embedding): Sequential(\n",
            "        (emb_luts): Elementwise(\n",
            "          (0): Embedding(8000, 768, padding_idx=1)\n",
            "        )\n",
            "        (pe): PositionalEncoding()\n",
            "      )\n",
            "      (dropout): Dropout(p=0.2, inplace=False)\n",
            "    )\n",
            "    (layer_norm): LayerNorm((768,), eps=1e-06, elementwise_affine=True)\n",
            "    (transformer_layers): ModuleList(\n",
            "      (0-7): 8 x TransformerDecoderLayer(\n",
            "        (self_attn): MultiHeadedAttention(\n",
            "          (linear_keys): Linear(in_features=768, out_features=768, bias=False)\n",
            "          (linear_values): Linear(in_features=768, out_features=768, bias=False)\n",
            "          (linear_query): Linear(in_features=768, out_features=768, bias=False)\n",
            "          (softmax): Softmax(dim=-1)\n",
            "          (dropout): Dropout(p=0.1, inplace=False)\n",
            "          (final_linear): Linear(in_features=768, out_features=768, bias=False)\n",
            "        )\n",
            "        (feed_forward): PositionwiseFeedForward(\n",
            "          (w_1): Linear(in_features=768, out_features=4096, bias=False)\n",
            "          (w_2): Linear(in_features=4096, out_features=768, bias=False)\n",
            "          (layer_norm): LayerNorm((768,), eps=1e-06, elementwise_affine=True)\n",
            "          (dropout_1): Dropout(p=0.2, inplace=False)\n",
            "          (dropout_2): Dropout(p=0.2, inplace=False)\n",
            "        )\n",
            "        (layer_norm_1): LayerNorm((768,), eps=1e-06, elementwise_affine=True)\n",
            "        (dropout): Dropout(p=0.2, inplace=False)\n",
            "        (context_attn): MultiHeadedAttention(\n",
            "          (linear_keys): Linear(in_features=768, out_features=768, bias=False)\n",
            "          (linear_values): Linear(in_features=768, out_features=768, bias=False)\n",
            "          (linear_query): Linear(in_features=768, out_features=768, bias=False)\n",
            "          (softmax): Softmax(dim=-1)\n",
            "          (dropout): Dropout(p=0.1, inplace=False)\n",
            "          (final_linear): Linear(in_features=768, out_features=768, bias=False)\n",
            "        )\n",
            "        (layer_norm_2): LayerNorm((768,), eps=1e-06, elementwise_affine=True)\n",
            "      )\n",
            "    )\n",
            "  )\n",
            "  (generator): Linear(in_features=768, out_features=8000, bias=True)\n",
            ")\n",
            "[2024-03-20 18:22:17,201 INFO] encoder: 75376128\n",
            "[2024-03-20 18:22:17,201 INFO] decoder: 100414784\n",
            "[2024-03-20 18:22:17,201 INFO] * number of parameters: 175790912\n",
            "[2024-03-20 18:22:17,202 INFO] Trainable parameters = {'torch.float32': 175790912, 'torch.float16': 0, 'torch.uint8': 0, 'torch.int8': 0}\n",
            "[2024-03-20 18:22:17,202 INFO] Non trainable parameters = {'torch.float32': 0, 'torch.float16': 0, 'torch.uint8': 0, 'torch.int8': 0}\n",
            "[2024-03-20 18:22:17,202 INFO]  * src vocab size = 8000\n",
            "[2024-03-20 18:22:17,202 INFO]  * tgt vocab size = 8000\n",
            "[2024-03-20 18:22:17,610 INFO] Starting training on GPU: [0]\n",
            "[2024-03-20 18:22:17,610 INFO] Start training loop and validate every 2500 steps...\n",
            "[2024-03-20 18:22:17,610 INFO] Scoring with: ['filtertoolong']\n",
            "[2024-03-20 18:22:21,046 INFO] Weighted corpora loaded so far:\n",
            "\t\t\t* corpus: 1\n",
            "[2024-03-20 18:22:24,508 INFO] Weighted corpora loaded so far:\n",
            "\t\t\t* corpus: 1\n",
            "[2024-03-20 19:01:23,279 INFO] Step 500/100000; acc: 7.3; ppl: 2615.8; xent: 7.9; lr: 0.00003; sents:  244160; bsz: 3523/3726/122; 3004/3177 tok/s;   2346 sec;\n",
            "[2024-03-20 19:39:20,825 INFO] * Transform statistics for corpus(50.00%):\n",
            "\t\t\t* FilterTooLongStats(filtered=21)\n",
            "\n",
            "[2024-03-20 19:39:20,825 INFO] Weighted corpora loaded so far:\n",
            "\t\t\t* corpus: 2\n",
            "[2024-03-20 19:39:29,988 INFO] * Transform statistics for corpus(50.00%):\n",
            "\t\t\t* FilterTooLongStats(filtered=20)\n",
            "\n",
            "[2024-03-20 19:39:29,988 INFO] Weighted corpora loaded so far:\n",
            "\t\t\t* corpus: 2\n",
            "[2024-03-20 19:40:04,851 INFO] Step 1000/100000; acc: 13.7; ppl: 848.3; xent: 6.7; lr: 0.00005; sents:  234753; bsz: 3514/3746/117; 3028/3227 tok/s;   4667 sec;\n",
            "[2024-03-20 20:18:53,550 INFO] Step 1500/100000; acc: 21.0; ppl: 323.9; xent: 5.8; lr: 0.00008; sents:  236644; bsz: 3549/3746/118; 3048/3217 tok/s;   6996 sec;\n",
            "[2024-03-20 20:57:22,328 INFO] Step 2000/100000; acc: 30.8; ppl: 137.3; xent: 4.9; lr: 0.00010; sents:  244345; bsz: 3493/3717/122; 3026/3220 tok/s;   9305 sec;\n",
            "[2024-03-20 21:03:47,888 INFO] * Transform statistics for corpus(50.00%):\n",
            "\t\t\t* FilterTooLongStats(filtered=19)\n",
            "\n",
            "[2024-03-20 21:03:47,889 INFO] Weighted corpora loaded so far:\n",
            "\t\t\t* corpus: 3\n",
            "[2024-03-20 21:03:53,147 INFO] * Transform statistics for corpus(50.00%):\n",
            "\t\t\t* FilterTooLongStats(filtered=21)\n",
            "\n",
            "[2024-03-20 21:03:53,148 INFO] Weighted corpora loaded so far:\n",
            "\t\t\t* corpus: 3\n",
            "[2024-03-20 21:36:01,472 INFO] Step 2500/100000; acc: 40.9; ppl:  66.8; xent: 4.2; lr: 0.00013; sents:  239635; bsz: 3542/3734/120; 3055/3220 tok/s;  11624 sec;\n",
            "[2024-03-20 21:36:25,881 INFO] valid stats calculation\n",
            "                           took: 24.40772533416748 s.\n",
            "[2024-03-20 21:36:25,883 INFO] Train perplexity: 366.483\n",
            "[2024-03-20 21:36:25,883 INFO] Train accuracy: 22.7193\n",
            "[2024-03-20 21:36:25,883 INFO] Sentences processed: 1.19954e+06\n",
            "[2024-03-20 21:36:25,883 INFO] Average bsz: 3524/3734/120\n",
            "[2024-03-20 21:36:25,883 INFO] Validation perplexity: 40.6704\n",
            "[2024-03-20 21:36:25,883 INFO] Validation accuracy: 49.4989\n",
            "[2024-03-20 21:36:25,883 INFO] Model is improving ppl: inf --> 40.6704.\n",
            "[2024-03-20 21:36:25,883 INFO] Model is improving acc: -inf --> 49.4989.\n",
            "[2024-03-20 22:14:55,457 INFO] Step 3000/100000; acc: 49.6; ppl:  39.3; xent: 3.7; lr: 0.00015; sents:  237200; bsz: 3510/3729/119; 3007/3196 tok/s;  13958 sec;\n",
            "[2024-03-20 22:28:21,780 INFO] * Transform statistics for corpus(50.00%):\n",
            "\t\t\t* FilterTooLongStats(filtered=19)\n",
            "\n",
            "[2024-03-20 22:28:21,780 INFO] Weighted corpora loaded so far:\n",
            "\t\t\t* corpus: 4\n",
            "[2024-03-20 22:28:32,109 INFO] * Transform statistics for corpus(50.00%):\n",
            "\t\t\t* FilterTooLongStats(filtered=18)\n",
            "\n",
            "[2024-03-20 22:28:32,109 INFO] Weighted corpora loaded so far:\n",
            "\t\t\t* corpus: 4\n",
            "[2024-03-20 22:53:34,006 INFO] Step 3500/100000; acc: 55.8; ppl:  27.4; xent: 3.3; lr: 0.00018; sents:  240617; bsz: 3532/3760/120; 3046/3243 tok/s;  16276 sec;\n",
            "[2024-03-20 23:31:48,943 INFO] Step 4000/100000; acc: 59.7; ppl:  22.1; xent: 3.1; lr: 0.00020; sents:  244336; bsz: 3492/3713/122; 3043/3236 tok/s;  18571 sec;\n",
            "[2024-03-20 23:52:11,293 INFO] * Transform statistics for corpus(50.00%):\n",
            "\t\t\t* FilterTooLongStats(filtered=19)\n",
            "\n",
            "[2024-03-20 23:52:11,293 INFO] Weighted corpora loaded so far:\n",
            "\t\t\t* corpus: 5\n",
            "[2024-03-20 23:52:29,604 INFO] * Transform statistics for corpus(50.00%):\n",
            "\t\t\t* FilterTooLongStats(filtered=21)\n",
            "\n",
            "[2024-03-20 23:52:29,605 INFO] Weighted corpora loaded so far:\n",
            "\t\t\t* corpus: 5\n",
            "[2024-03-21 00:10:20,317 INFO] Step 4500/100000; acc: 62.8; ppl:  18.6; xent: 2.9; lr: 0.00023; sents:  237413; bsz: 3566/3743/119; 3086/3239 tok/s;  20883 sec;\n",
            "[2024-03-21 00:48:36,739 INFO] Step 5000/100000; acc: 65.1; ppl:  16.4; xent: 2.8; lr: 0.00025; sents:  244055; bsz: 3515/3739/122; 3062/3256 tok/s;  23179 sec;\n",
            "[2024-03-21 00:49:02,080 INFO] valid stats calculation\n",
            "                           took: 25.33945393562317 s.\n",
            "[2024-03-21 00:49:02,082 INFO] Train perplexity: 92.886\n",
            "[2024-03-21 00:49:02,082 INFO] Train accuracy: 40.6607\n",
            "[2024-03-21 00:49:02,082 INFO] Sentences processed: 2.40316e+06\n",
            "[2024-03-21 00:49:02,083 INFO] Average bsz: 3524/3735/120\n",
            "[2024-03-21 00:49:02,083 INFO] Validation perplexity: 14.4241\n",
            "[2024-03-21 00:49:02,083 INFO] Validation accuracy: 68.4901\n",
            "[2024-03-21 00:49:02,083 INFO] Model is improving ppl: 40.6704 --> 14.4241.\n",
            "[2024-03-21 00:49:02,083 INFO] Model is improving acc: 49.4989 --> 68.4901.\n",
            "[2024-03-21 00:49:02,088 INFO] Saving checkpoint /content/drive/MyDrive/Colab_Notebooks/Diplomovka/Dáta/europarl/complete_model_step_5000.pt\n",
            "[2024-03-21 01:16:29,514 INFO] * Transform statistics for corpus(50.00%):\n",
            "\t\t\t* FilterTooLongStats(filtered=21)\n",
            "\n",
            "[2024-03-21 01:16:29,514 INFO] Weighted corpora loaded so far:\n",
            "\t\t\t* corpus: 6\n",
            "[2024-03-21 01:16:38,771 INFO] * Transform statistics for corpus(50.00%):\n",
            "\t\t\t* FilterTooLongStats(filtered=21)\n",
            "\n",
            "[2024-03-21 01:16:38,771 INFO] Weighted corpora loaded so far:\n",
            "\t\t\t* corpus: 6\n",
            "[2024-03-21 01:27:19,546 INFO] Step 5500/100000; acc: 66.6; ppl:  15.1; xent: 2.7; lr: 0.00028; sents:  239321; bsz: 3507/3719/120; 3020/3202 tok/s;  25502 sec;\n",
            "[2024-03-21 02:05:35,236 INFO] Step 6000/100000; acc: 68.2; ppl:  13.8; xent: 2.6; lr: 0.00030; sents:  234976; bsz: 3524/3725/117; 3070/3245 tok/s;  27798 sec;\n",
            "[2024-03-21 02:40:03,578 INFO] * Transform statistics for corpus(50.00%):\n",
            "\t\t\t* FilterTooLongStats(filtered=21)\n",
            "\n",
            "[2024-03-21 02:40:03,579 INFO] Weighted corpora loaded so far:\n",
            "\t\t\t* corpus: 7\n",
            "[2024-03-21 02:40:04,217 INFO] * Transform statistics for corpus(50.00%):\n",
            "\t\t\t* FilterTooLongStats(filtered=18)\n",
            "\n",
            "[2024-03-21 02:40:04,218 INFO] Weighted corpora loaded so far:\n",
            "\t\t\t* corpus: 7\n",
            "[2024-03-21 02:43:48,014 INFO] Step 6500/100000; acc: 69.0; ppl:  13.2; xent: 2.6; lr: 0.00033; sents:  244774; bsz: 3524/3744/122; 3074/3266 tok/s;  30090 sec;\n",
            "[2024-03-21 03:21:57,551 INFO] Step 7000/100000; acc: 70.2; ppl:  12.3; xent: 2.5; lr: 0.00035; sents:  246045; bsz: 3525/3728/123; 3079/3257 tok/s;  32380 sec;\n",
            "[2024-03-21 04:00:06,388 INFO] Step 7500/100000; acc: 70.5; ppl:  12.1; xent: 2.5; lr: 0.00038; sents:  235594; bsz: 3516/3738/118; 3072/3266 tok/s;  34669 sec;\n",
            "[2024-03-21 04:00:31,508 INFO] valid stats calculation\n",
            "                           took: 25.11836290359497 s.\n",
            "[2024-03-21 04:00:31,510 INFO] Train perplexity: 48.5525\n",
            "[2024-03-21 04:00:31,510 INFO] Train accuracy: 50.074\n",
            "[2024-03-21 04:00:31,510 INFO] Sentences processed: 3.60387e+06\n",
            "[2024-03-21 04:00:31,510 INFO] Average bsz: 3522/3734/120\n",
            "[2024-03-21 04:00:31,510 INFO] Validation perplexity: 11.1093\n",
            "[2024-03-21 04:00:31,510 INFO] Validation accuracy: 72.8497\n",
            "[2024-03-21 04:00:31,510 INFO] Model is improving ppl: 14.4241 --> 11.1093.\n",
            "[2024-03-21 04:00:31,510 INFO] Model is improving acc: 68.4901 --> 72.8497.\n",
            "[2024-03-21 04:38:40,770 INFO] Step 8000/100000; acc: 71.8; ppl:  11.3; xent: 2.4; lr: 0.00040; sents:  235266; bsz: 3539/3754/118; 3059/3244 tok/s;  36983 sec;\n",
            "[2024-03-21 05:16:43,060 INFO] Step 8500/100000; acc: 72.1; ppl:  11.1; xent: 2.4; lr: 0.00039; sents:  236471; bsz: 3509/3726/118; 3075/3265 tok/s;  39265 sec;\n",
            "[2024-03-21 05:26:38,416 INFO] * Transform statistics for corpus(50.00%):\n",
            "\t\t\t* FilterTooLongStats(filtered=41)\n",
            "\n",
            "[2024-03-21 05:26:38,417 INFO] Weighted corpora loaded so far:\n",
            "\t\t\t* corpus: 8\n",
            "[2024-03-21 05:26:38,948 INFO] * Transform statistics for corpus(50.00%):\n",
            "\t\t\t* FilterTooLongStats(filtered=40)\n",
            "\n",
            "[2024-03-21 05:26:38,948 INFO] Weighted corpora loaded so far:\n",
            "\t\t\t* corpus: 8\n",
            "[2024-03-21 05:54:54,099 INFO] Step 9000/100000; acc: 73.2; ppl:  10.4; xent: 2.3; lr: 0.00038; sents:  245828; bsz: 3540/3731/123; 3091/3257 tok/s;  41556 sec;\n",
            "[2024-03-21 06:32:52,017 INFO] Step 9500/100000; acc: 73.7; ppl:  10.1; xent: 2.3; lr: 0.00037; sents:  242910; bsz: 3507/3722/121; 3079/3268 tok/s;  43834 sec;\n",
            "[2024-03-21 06:49:41,168 INFO] * Transform statistics for corpus(50.00%):\n",
            "\t\t\t* FilterTooLongStats(filtered=20)\n",
            "\n",
            "[2024-03-21 06:49:41,168 INFO] Weighted corpora loaded so far:\n",
            "\t\t\t* corpus: 9\n",
            "[2024-03-21 06:49:49,921 INFO] * Transform statistics for corpus(50.00%):\n",
            "\t\t\t* FilterTooLongStats(filtered=19)\n",
            "\n",
            "[2024-03-21 06:49:49,922 INFO] Weighted corpora loaded so far:\n",
            "\t\t\t* corpus: 9\n",
            "[2024-03-21 07:10:54,316 INFO] Step 10000/100000; acc: 74.3; ppl:   9.8; xent: 2.3; lr: 0.00036; sents:  237432; bsz: 3512/3739/119; 3078/3276 tok/s;  46117 sec;\n",
            "[2024-03-21 07:11:19,362 INFO] valid stats calculation\n",
            "                           took: 25.044062614440918 s.\n",
            "[2024-03-21 07:11:19,363 INFO] Train perplexity: 33.1309\n",
            "[2024-03-21 07:11:19,363 INFO] Train accuracy: 55.812\n",
            "[2024-03-21 07:11:19,363 INFO] Sentences processed: 4.80178e+06\n",
            "[2024-03-21 07:11:19,363 INFO] Average bsz: 3522/3734/120\n",
            "[2024-03-21 07:11:19,364 INFO] Validation perplexity: 9.72583\n",
            "[2024-03-21 07:11:19,364 INFO] Validation accuracy: 75.2405\n",
            "[2024-03-21 07:11:19,364 INFO] Model is improving ppl: 11.1093 --> 9.72583.\n",
            "[2024-03-21 07:11:19,364 INFO] Model is improving acc: 72.8497 --> 75.2405.\n",
            "[2024-03-21 07:11:19,369 INFO] Saving checkpoint /content/drive/MyDrive/Colab_Notebooks/Diplomovka/Dáta/europarl/complete_model_step_10000.pt\n",
            "[2024-03-21 07:49:27,865 INFO] Step 10500/100000; acc: 75.0; ppl:   9.5; xent: 2.2; lr: 0.00035; sents:  243488; bsz: 3525/3736/122; 3047/3230 tok/s;  48430 sec;\n",
            "[2024-03-21 08:13:13,189 INFO] * Transform statistics for corpus(50.00%):\n",
            "\t\t\t* FilterTooLongStats(filtered=21)\n",
            "\n",
            "[2024-03-21 08:13:13,189 INFO] Weighted corpora loaded so far:\n",
            "\t\t\t* corpus: 10\n",
            "[2024-03-21 08:13:27,122 INFO] * Transform statistics for corpus(50.00%):\n",
            "\t\t\t* FilterTooLongStats(filtered=20)\n",
            "\n",
            "[2024-03-21 08:13:27,123 INFO] Weighted corpora loaded so far:\n",
            "\t\t\t* corpus: 10\n",
            "[2024-03-21 08:27:37,549 INFO] Step 11000/100000; acc: 75.2; ppl:   9.4; xent: 2.2; lr: 0.00034; sents:  235409; bsz: 3545/3743/118; 3096/3269 tok/s;  50720 sec;\n",
            "[2024-03-21 09:05:45,827 INFO] Step 11500/100000; acc: 76.0; ppl:   9.0; xent: 2.2; lr: 0.00034; sents:  239326; bsz: 3529/3738/120; 3084/3267 tok/s;  53008 sec;\n",
            "[2024-03-21 09:36:22,500 INFO] * Transform statistics for corpus(50.00%):\n",
            "\t\t\t* FilterTooLongStats(filtered=20)\n",
            "\n",
            "[2024-03-21 09:36:22,500 INFO] Weighted corpora loaded so far:\n",
            "\t\t\t* corpus: 11\n",
            "[2024-03-21 09:36:27,181 INFO] * Transform statistics for corpus(50.00%):\n",
            "\t\t\t* FilterTooLongStats(filtered=20)\n",
            "\n",
            "[2024-03-21 09:36:27,181 INFO] Weighted corpora loaded so far:\n",
            "\t\t\t* corpus: 11\n",
            "[2024-03-21 09:43:42,854 INFO] Step 12000/100000; acc: 75.8; ppl:   9.0; xent: 2.2; lr: 0.00033; sents:  241307; bsz: 3512/3729/121; 3085/3276 tok/s;  55285 sec;\n",
            "[2024-03-21 10:21:43,383 INFO] Step 12500/100000; acc: 77.0; ppl:   8.5; xent: 2.1; lr: 0.00032; sents:  240967; bsz: 3527/3727/120; 3093/3269 tok/s;  57566 sec;\n",
            "[2024-03-21 10:22:08,311 INFO] valid stats calculation\n",
            "                           took: 24.92669939994812 s.\n",
            "[2024-03-21 10:22:08,313 INFO] Train perplexity: 25.5659\n",
            "[2024-03-21 10:22:08,313 INFO] Train accuracy: 59.8052\n",
            "[2024-03-21 10:22:08,314 INFO] Sentences processed: 6.00227e+06\n",
            "[2024-03-21 10:22:08,314 INFO] Average bsz: 3523/3734/120\n",
            "[2024-03-21 10:22:08,314 INFO] Validation perplexity: 9.045\n",
            "[2024-03-21 10:22:08,314 INFO] Validation accuracy: 76.431\n",
            "[2024-03-21 10:22:08,314 INFO] Model is improving ppl: 9.72583 --> 9.045.\n",
            "[2024-03-21 10:22:08,314 INFO] Model is improving acc: 75.2405 --> 76.431.\n"
          ]
        }
      ],
      "source": [
        "# Trénovanie the NMT model\n",
        "!onmt_train -config config.yaml -gpu_ranks 0"
      ]
    },
    {
      "cell_type": "markdown",
      "metadata": {
        "id": "9R8EYgvfvDMy"
      },
      "source": [
        "# Preklad"
      ]
    },
    {
      "cell_type": "code",
      "execution_count": 362,
      "metadata": {
        "id": "b4FKodPwvIWx"
      },
      "outputs": [],
      "source": [
        "config_translate = '''\n",
        "\n",
        "model: /content/drive/MyDrive/Colab_Notebooks/Diplomovka/Dáta/europarl/complete_model_step_85000.pt     # sem vložiť najlepší model trénovania\n",
        "src: /content/drive/MyDrive/Colab_Notebooks/Diplomovka/Dáta/europarl/source_subworded.test\n",
        "output: /content/drive/MyDrive/Colab_Notebooks/Diplomovka/Dáta/europarl/translated\n",
        "\n",
        "#model: /content/drive/MyDrive/Colab_Notebooks/Diplomovka/Dáta/ParaCrawl/complete_model_step_100000.pt     # sem vložiť najlepší model trénovania\n",
        "#src: /content/drive/MyDrive/Colab_Notebooks/Diplomovka/Dáta/ParaCrawl/source_subworded.test\n",
        "#output: /content/drive/MyDrive/Colab_Notebooks/Diplomovka/Dáta/ParaCrawl/translated\n",
        "\n",
        "log_file: translate.log\n",
        "\n",
        "seed: 42\n",
        "\n",
        "beam_size: 10\n",
        "min_length: 1\n",
        "length_penalty: avg\n",
        "\n",
        "batch_size: 32\n",
        "batch_type: sents # default hodnota\n",
        "\n",
        "gpu: 0\n",
        "\n",
        "coverage_penalty: summary\n",
        "beta: 0.0\n",
        "alpha: 1.0 # default hodnota\n",
        "\n",
        "'''\n",
        "\n",
        "with open(\"config_translated.yaml\", \"w+\", encoding=\"utf-8\") as config_yaml:\n",
        "  config_yaml.write(config_translate)"
      ]
    },
    {
      "cell_type": "code",
      "execution_count": 363,
      "metadata": {
        "colab": {
          "base_uri": "https://localhost:8080/"
        },
        "id": "hQ0AMr65aU2x",
        "outputId": "0fddab76-e4f2-4a5e-f618-77e9448529bc"
      },
      "outputs": [
        {
          "output_type": "stream",
          "name": "stdout",
          "text": [
            "[2024-03-25 18:53:07,434 INFO] Loading checkpoint from /content/drive/MyDrive/Colab_Notebooks/Diplomovka/Dáta/europarl/complete_model_step_85000.pt\n",
            "[2024-03-25 18:53:08,565 INFO] Loading data into the model\n",
            "/usr/local/lib/python3.10/dist-packages/onmt/translate/beam_search.py:493: UserWarning: Non-default coverage penalty with beta==0 is equivalent to using coverage penalty none.\n",
            "  warnings.warn(\n",
            "[2024-03-25 18:53:48,942 INFO] PRED SCORE: -0.3172, PRED PPL: 1.37 NB SENTENCES: 2000\n",
            "Time w/o python interpreter load/terminate:  41.528825521469116\n"
          ]
        }
      ],
      "source": [
        "# Preklad\n",
        "!onmt_translate -config config_translated.yaml"
      ]
    },
    {
      "cell_type": "code",
      "execution_count": 364,
      "metadata": {
        "colab": {
          "base_uri": "https://localhost:8080/"
        },
        "id": "ZgmIvlbOaXv7",
        "outputId": "550fdffc-cc56-4dcd-ea76-14ddf2f4ee9a"
      },
      "outputs": [
        {
          "output_type": "stream",
          "name": "stdout",
          "text": [
            "▁spôsob il ▁mi ▁niekoľko ▁otázok , ▁ktoré ▁je ▁potrebné ▁urobiť , ▁a ▁moj im ▁prvým ▁bodom ▁je , ▁že ▁sa ▁zaoberáme ▁hod inou ▁otázok ▁Komisii ▁a ▁nie ▁konkrét nym ▁komisár om\n",
            "▁slú žil ▁ako ▁predseda ▁Európskej ▁komisie ▁od ▁roku ▁ 1 9 8 1 ▁do ▁roku ▁ 1 9 8 5 .\n",
            "▁vážená ▁pani ▁predsedajúca , ▁dámy ▁a ▁páni , ▁hlasoval ▁som ▁za ▁správu ▁pani ▁To ia ovej ▁o ▁sociál nom ▁hospodárstve\n",
            "▁chceme ▁súd nu ▁vý hra du , ▁súd ne ▁rozhodnutie ▁o ▁základných ▁právach\n",
            "▁napríklad ▁rozšir ovanie ▁p ú šte ▁môže ▁zintenzív niť ▁existujúce ▁všeobecné ▁klimatické ▁ten d encie ▁smerom ▁k ▁väčšej ▁su ch e , ▁alebo ▁môže ▁vznik núť ▁spo čia tku ▁z ▁zmeny ▁v ▁miestnej ▁kl íme\n",
            "▁rád ▁by ▁som ▁pripomenul ▁pánovi ▁komisárovi ▁a ▁predsedovi , ▁že ▁Európsky ▁parlament ▁už ▁v ▁tejto ▁otázke ▁veľkou ▁väčšinou ▁vyjadril ▁svoju ▁podporu\n",
            "\n"
          ]
        }
      ],
      "source": [
        "translated = r\"/content/drive/MyDrive/Colab_Notebooks/Diplomovka/Dáta/europarl/translated\"\n",
        "#translated = r\"/content/drive/MyDrive/Colab_Notebooks/Diplomovka/Dáta/ParaCrawl/translated\"\n",
        "with open(translated, \"r\", encoding=\"utf-8\") as file:\n",
        "    for i, line in enumerate(file):\n",
        "        print(line.strip())\n",
        "        if i >= 5:\n",
        "            break\n",
        "\n",
        "print()"
      ]
    },
    {
      "cell_type": "code",
      "execution_count": 365,
      "metadata": {
        "colab": {
          "base_uri": "https://localhost:8080/"
        },
        "id": "6flpTjHkaY-g",
        "outputId": "a87502e0-b701-4ec6-c208-b16dd50c5b81"
      },
      "outputs": [
        {
          "output_type": "stream",
          "name": "stdout",
          "text": [
            "Dekódovanie bolo dokončené! Výstupný súbor: /content/drive/MyDrive/Colab_Notebooks/Diplomovka/Dáta/europarl/translated.desubword\n",
            "Dekódovanie bolo dokončené! Výstupný súbor: /content/drive/MyDrive/Colab_Notebooks/Diplomovka/Dáta/europarl/target_subworded.test.desubword\n",
            "Dekódovanie bolo dokončené! Výstupný súbor: /content/drive/MyDrive/Colab_Notebooks/Diplomovka/Dáta/europarl/source_subworded.test.desubword\n"
          ]
        }
      ],
      "source": [
        "target_model = r\"/content/target.model\"\n",
        "translation = r\"/content/drive/MyDrive/Colab_Notebooks/Diplomovka/Dáta/europarl/translated\"\n",
        "#translation = r\"/content/drive/MyDrive/Colab_Notebooks/Diplomovka/Dáta/ParaCrawl/translated\"\n",
        "translation_desubword = translation + \".desubword\"\n",
        "\n",
        "sp = spm.SentencePieceProcessor()\n",
        "sp.load(target_model)\n",
        "\n",
        "# Desubword prekladový súbor\n",
        "with open(translation, encoding='utf-8') as vstup, open(translation_desubword, \"w\", encoding='utf-8') as vystup:\n",
        "    for rad in vstup:\n",
        "        desub = sp.decode_pieces(rad.strip().split(\" \"))\n",
        "        vystup.write(desub + \"\\n\")\n",
        "\n",
        "print(f\"Dekódovanie bolo dokončené! Výstupný súbor: {translation_desubword}\")\n",
        "\n",
        "target_test = r\"/content/drive/MyDrive/Colab_Notebooks/Diplomovka/Dáta/europarl/target_subworded.test\"\n",
        "#target_test = r\"/content/drive/MyDrive/Colab_Notebooks/Diplomovka/Dáta/ParaCrawl/target_subworded.test\"\n",
        "target_test_desubword = target_test + \".desubword\"\n",
        "\n",
        "with open(target_test, encoding='utf-8') as vstup, open(target_test_desubword, \"w\", encoding='utf-8') as vystup:\n",
        "    for rad in vstup:\n",
        "        desub = sp.decode_pieces(rad.strip().split(\" \"))\n",
        "        vystup.write(desub + \"\\n\")\n",
        "\n",
        "print(f\"Dekódovanie bolo dokončené! Výstupný súbor: {target_test_desubword}\")\n",
        "\n",
        "\n",
        "source_test = r\"/content/drive/MyDrive/Colab_Notebooks/Diplomovka/Dáta/europarl/source_subworded.test\"\n",
        "source_test_desubword = source_test + \".desubword\"\n",
        "\n",
        "with open(source_test, encoding='utf-8') as vstup, open(source_test_desubword, \"w\", encoding='utf-8') as vystup:\n",
        "    for rad in vstup:\n",
        "        desub = sp.decode_pieces(rad.strip().split(\" \"))\n",
        "        vystup.write(desub + \"\\n\")\n",
        "\n",
        "print(f\"Dekódovanie bolo dokončené! Výstupný súbor: {source_test_desubword}\")"
      ]
    },
    {
      "cell_type": "code",
      "execution_count": 366,
      "metadata": {
        "id": "ibTSQf5HbPfw"
      },
      "outputs": [],
      "source": [
        "reference = r\"/content/drive/MyDrive/Colab_Notebooks/Diplomovka/Dáta/europarl/target_subworded.test.desubword\"\n",
        "preklad = r\"/content/drive/MyDrive/Colab_Notebooks/Diplomovka/Dáta/europarl/translated.desubword\"\n",
        "zdroj = r\"/content/drive/MyDrive/Colab_Notebooks/Diplomovka/Dáta/europarl/source_subworded.test.desubword\"\n",
        "\n",
        "#reference = r\"/content/drive/MyDrive/Colab_Notebooks/Diplomovka/Dáta/ParaCrawl/target_subworded.test.desubword\"\n",
        "#preklad = r\"/content/drive/MyDrive/Colab_Notebooks/Diplomovka/Dáta/ParaCrawl/translated.desubword\""
      ]
    },
    {
      "cell_type": "code",
      "execution_count": 367,
      "metadata": {
        "colab": {
          "base_uri": "https://localhost:8080/"
        },
        "id": "4EVAw1ioMaur",
        "outputId": "498c0be4-7c62-483d-cbaa-419898177d2b"
      },
      "outputs": [
        {
          "output_type": "stream",
          "name": "stdout",
          "text": [
            "dala som zistiť niekoľko informácií a moja prvá pripomienka je, že v otázky vo vyhradenom čase sú pre Komisiu a nie pre konkrétneho komisára\n",
            "od roku 1981 až do roku 1985 vykonával funkciu predsedu Európskej komisie\n",
            "vážená pani predsedajúca, dámy a páni, hlasoval som za správu pani Toiaovej o sociálnom hospodárstve\n",
            "chceme súdnu výhradu, súdne rozhodnutie o základných právach\n",
            "napríklad rozširovanie púšte môže zintenzívniť existujúci klimatický trend k väčšiemu suchu alebo sa tento proces môže spustiť z dôvodu zmeny miestnej klímy\n",
            "chcel by som pripomenúť pani komisárke a úradujúcemu predsedovi, že Európsky parlament už vyjadril svoju podporu tejto otázke veľkou väčšinou\n",
            "\n"
          ]
        }
      ],
      "source": [
        "with open(reference, \"r\", encoding=\"utf-8\") as file:\n",
        "    for i, line in enumerate(file):\n",
        "        print(line.strip())\n",
        "        if i >= 5:\n",
        "            break\n",
        "\n",
        "print()"
      ]
    },
    {
      "cell_type": "code",
      "execution_count": 368,
      "metadata": {
        "colab": {
          "base_uri": "https://localhost:8080/"
        },
        "id": "_3MFttHDbWmr",
        "outputId": "ef7278e0-e51b-4c8c-e299-9794cc218bf5"
      },
      "outputs": [
        {
          "output_type": "stream",
          "name": "stdout",
          "text": [
            "spôsobil mi niekoľko otázok, ktoré je potrebné urobiť, a mojim prvým bodom je, že sa zaoberáme hodinou otázok Komisii a nie konkrétnym komisárom\n",
            "slúžil ako predseda Európskej komisie od roku 1981 do roku 1985.\n",
            "vážená pani predsedajúca, dámy a páni, hlasoval som za správu pani Toiaovej o sociálnom hospodárstve\n",
            "chceme súdnu výhradu, súdne rozhodnutie o základných právach\n",
            "napríklad rozširovanie púšte môže zintenzívniť existujúce všeobecné klimatické tendencie smerom k väčšej suche, alebo môže vzniknúť spočiatku z zmeny v miestnej klíme\n",
            "rád by som pripomenul pánovi komisárovi a predsedovi, že Európsky parlament už v tejto otázke veľkou väčšinou vyjadril svoju podporu\n",
            "\n"
          ]
        }
      ],
      "source": [
        "with open(preklad, \"r\", encoding=\"utf-8\") as file:\n",
        "    for i, line in enumerate(file):\n",
        "        print(line.strip())\n",
        "        if i >= 5:\n",
        "            break\n",
        "\n",
        "print()"
      ]
    },
    {
      "cell_type": "code",
      "source": [
        "with open(zdroj, \"r\", encoding=\"utf-8\") as file:\n",
        "    for i, line in enumerate(file):\n",
        "        print(line.strip())\n",
        "        if i >= 5:\n",
        "            break\n",
        "\n",
        "print()"
      ],
      "metadata": {
        "colab": {
          "base_uri": "https://localhost:8080/"
        },
        "id": "uIS78myAhzYc",
        "outputId": "589571be-456b-4788-b811-7d106d5e057f"
      },
      "execution_count": 369,
      "outputs": [
        {
          "output_type": "stream",
          "name": "stdout",
          "text": [
            "i▁have▁caused▁some enquiries to be▁made▁and my▁first▁point▁would be▁that▁we▁are▁dealing▁with Question▁Time to▁the▁Commission,▁not to a▁particular▁Commissioner\n",
            "▁he▁served as▁President▁of▁the▁European▁Commission▁from 1981▁until 1985.\n",
            "in▁writing - IT▁Madam▁President,▁ladies▁and▁gentlemen, I▁voted in▁favour▁of▁Mrs Toias▁report on▁the▁social▁economy\n",
            "▁we▁want a▁judicial▁reservation, a▁judicial▁decision on▁fundamental▁rights\n",
            "for▁example,▁desertification▁may▁intensify an▁existing▁general▁climatic▁tendency▁towards▁greater dryness,▁or▁it▁may▁initially▁arise▁from a▁change in▁the▁local▁climate\n",
            "i▁would▁like to▁remind▁the▁Commissioner▁and▁the▁President▁that▁the▁European▁Parliament▁has▁already▁expressed▁its▁support, by a▁large▁majority, on▁this▁issue\n",
            "\n"
          ]
        }
      ]
    },
    {
      "cell_type": "markdown",
      "metadata": {
        "id": "KhB_vCb1yGnk"
      },
      "source": [
        "# Evalvácia"
      ]
    },
    {
      "cell_type": "code",
      "execution_count": 370,
      "metadata": {
        "id": "4cXohf183C1P"
      },
      "outputs": [],
      "source": [
        "\n",
        "#!python -m spacy download xx_ent_wiki_sm\n",
        "\n",
        "#!pip install --upgrade pip\n",
        "#!pip install unbabel-comet\n",
        "#!pip install spacy"
      ]
    },
    {
      "cell_type": "code",
      "execution_count": 371,
      "metadata": {
        "colab": {
          "base_uri": "https://localhost:8080/"
        },
        "id": "0TXq81Lq2sjn",
        "outputId": "a574de05-5509-4186-a055-b299915d7195"
      },
      "outputs": [
        {
          "output_type": "stream",
          "name": "stderr",
          "text": [
            "[nltk_data] Downloading package wordnet to /root/nltk_data...\n",
            "[nltk_data]   Package wordnet is already up-to-date!\n",
            "/usr/local/lib/python3.10/dist-packages/spacy/util.py:1740: UserWarning: [W111] Jupyter notebook detected: if using `prefer_gpu()` or `require_gpu()`, include it in the same cell right before `spacy.load()` to ensure that the model is loaded on the correct device. More information: http://spacy.io/usage/v3#jupyter-notebook-gpu\n",
            "  warnings.warn(Warnings.W111)\n"
          ]
        }
      ],
      "source": [
        "import spacy\n",
        "import sacrebleu\n",
        "from nltk.translate import meteor_score as ms\n",
        "import nltk\n",
        "import warnings\n",
        "from comet import download_model, load_from_checkpoint\n",
        "nltk.download('wordnet')\n",
        "\n",
        "nlp = spacy.load(\"xx_ent_wiki_sm\") #https://github.com/explosion/spacy-models/releases/tag/xx_ent_wiki_sm-3.7.0"
      ]
    },
    {
      "cell_type": "code",
      "execution_count": 372,
      "metadata": {
        "id": "diNDH7rPzl_9"
      },
      "outputs": [],
      "source": [
        "reference = r\"/content/drive/MyDrive/Colab_Notebooks/Diplomovka/Dáta/europarl/target_subworded.test.desubword\"\n",
        "preklad = r\"/content/drive/MyDrive/Colab_Notebooks/Diplomovka/Dáta/europarl/translated.desubword\"\n",
        "zdroj = r\"/content/drive/MyDrive/Colab_Notebooks/Diplomovka/Dáta/europarl/source_subworded.test.desubword\""
      ]
    },
    {
      "cell_type": "code",
      "execution_count": 373,
      "metadata": {
        "colab": {
          "base_uri": "https://localhost:8080/"
        },
        "id": "Y_Mm6k99ba9I",
        "outputId": "dbe3b7d2-1220-42ee-ad13-af7eaa596cd3"
      },
      "outputs": [
        {
          "output_type": "stream",
          "name": "stdout",
          "text": [
            "Referenčná veta v SK jazyku: dala som zistiť niekoľko informácií a moja prvá pripomienka je, že v otázky vo vyhradenom čase sú pre Komisiu a nie pre konkrétneho komisára\n",
            "Preložená veta:\t\t     spôsobil mi niekoľko otázok, ktoré je potrebné urobiť, a mojim prvým bodom je, že sa zaoberáme hodinou otázok Komisii a nie konkrétnym komisárom\n",
            "BLEU:   34.134509228151266\n",
            "METEOR:  0.2528660866737133\n"
          ]
        }
      ],
      "source": [
        "# referenčné hodnoty\n",
        "refer = []\n",
        "\n",
        "with open(reference, encoding='utf-8') as reference:\n",
        "    for rad in reference:\n",
        "        rad = rad.strip()\n",
        "        refer.append(rad)\n",
        "\n",
        "print(\"Referenčná veta v SK jazyku:\", refer[0]) # výpis prvej referenčenj vety, pomocou ktorej budeme porovnávať vety\n",
        "\n",
        "refer = [refer]  # list listov, teda forma, ktorú si vyžaduje SacreBLEU\n",
        "\n",
        "# hodnoty, ktoré sme preložili\n",
        "prek = []\n",
        "\n",
        "with open(preklad, encoding='utf-8') as preklad:\n",
        "    for rad in preklad:\n",
        "        rad = rad.strip()\n",
        "        prek.append(rad)\n",
        "\n",
        "print(\"Preložená veta:\\t\\t    \", prek[0]) # výpis prvého preloženého riadka\n",
        "\n",
        "# BLEU skóre - výpočet BLEU na základe porovnania referenčných viet s preloženými vetami\n",
        "bleu = sacrebleu.corpus_bleu(prek, refer)\n",
        "print(\"BLEU:  \", bleu.score)\n",
        "\n",
        "# tokenizácia je potrebná pre rozdelenie viet do menších častí (tokenov), aby Meteor dokázal porovnávať slová a ich význam\n",
        "def tokenizacia(text):\n",
        "    doc = nlp(text)\n",
        "    return [token.text for token in doc]\n",
        "\n",
        "meteor_scores = []\n",
        "for refer_segment, prek in zip(refer, prek):\n",
        "    ref = refer_segment[0]\n",
        "    token_ref = tokenizacia(ref) # tokenizácia referenčných viet\n",
        "    token_prek = tokenizacia(prek) # tokenizáci preložených viet\n",
        "\n",
        "    # Výpočet METEOR skóre - meteor skóre narozdiel od bleu zohľadnuje sémantiku do istej miery\n",
        "    score = ms.meteor_score([token_ref], token_prek) # výpočet meteor skóre pre jednu vetu\n",
        "    meteor_scores.append(score)\n",
        "\n",
        "average_meteor_score = sum(meteor_scores) / len(meteor_scores) # výpočet priemeru Meteor skóre, pre celú množinu preložených viet\n",
        "print(\"METEOR: \", average_meteor_score)"
      ]
    },
    {
      "cell_type": "code",
      "source": [
        "# Výpočet COMET\n",
        "\n",
        "model_comet = download_model(\"Unbabel/wmt22-comet-da\")\n",
        "model = load_from_checkpoint(model_comet)\n",
        "\n",
        "\n",
        "def nacitanie(subor):\n",
        "    with open(subor, \"r\", encoding=\"utf-8\") as subor:\n",
        "        text = subor.read()\n",
        "    return text\n",
        "\n",
        "zdroj = r\"/content/drive/MyDrive/Colab_Notebooks/Diplomovka/Dáta/europarl/source_subworded.test.desubword\"\n",
        "preklad = r\"/content/drive/MyDrive/Colab_Notebooks/Diplomovka/Dáta/europarl/translated.desubword\"\n",
        "reference = r\"/content/drive/MyDrive/Colab_Notebooks/Diplomovka/Dáta/europarl/target_subworded.test.desubword\"\n",
        "\n",
        "# Načítanie textov zo súborov\n",
        "zdroj_text = nacitanie(zdroj)\n",
        "preklad_text = nacitanie(preklad)\n",
        "reference_text = nacitanie(reference)\n",
        "\n",
        "# Rozdelenie textov na vety\n",
        "zdroj_vety = zdroj_text.split(\"\\n\")\n",
        "preklad_vety = preklad_text.split(\"\\n\")\n",
        "reference_vety = reference_text.split(\"\\n\")\n",
        "\n",
        "# Predspracovanie dát do vhodnej podoby\n",
        "data = [{\"src\": zdroj, \"mt\": preklad, \"ref\": reference} for zdroj, preklad, reference in zip(zdroj_vety, preklad_vety, reference_vety)]\n",
        "\n",
        "# Výpočet COMET skóre\n",
        "comet_skore = model.predict(data, batch_size=8, gpus=1)\n",
        "print(comet_skore)\n",
        "\n"
      ],
      "metadata": {
        "colab": {
          "base_uri": "https://localhost:8080/",
          "height": 225,
          "referenced_widgets": [
            "b62a943378ae42f785a5dca21ed94fa9",
            "7c4a6bb4e31c4d0a93b7eab4dbd8c889",
            "92aba2c0788b4becaf4ab32ab99731fc",
            "190623125f6f47fda3e8b0633e6d76b1",
            "dd9ec7ec99bd4bfd993cb02bf65c107d",
            "86fa6e9c329140b598550c26a7f10d7d",
            "3c7c6a05dd3e43f2be64435bcb64dd93",
            "dffa24e7dc9c42219ff690d23bd16a75",
            "0219495c1ee34b3fa8499d276ad37d4c",
            "8e8eeecfc787472e8373ca02da30cccb",
            "785b5f809ae3443ba2c541591f7845b9"
          ]
        },
        "id": "qKC1taP9fPoW",
        "outputId": "69a2e2c6-17bc-4e2a-adf4-4f70ed81e50f"
      },
      "execution_count": 374,
      "outputs": [
        {
          "output_type": "display_data",
          "data": {
            "text/plain": [
              "Fetching 5 files:   0%|          | 0/5 [00:00<?, ?it/s]"
            ],
            "application/vnd.jupyter.widget-view+json": {
              "version_major": 2,
              "version_minor": 0,
              "model_id": "b62a943378ae42f785a5dca21ed94fa9"
            }
          },
          "metadata": {}
        },
        {
          "output_type": "stream",
          "name": "stderr",
          "text": [
            "INFO:pytorch_lightning.utilities.migration.utils:Lightning automatically upgraded your loaded checkpoint from v1.8.3.post1 to v2.2.1. To apply the upgrade to your files permanently, run `python -m pytorch_lightning.utilities.upgrade_checkpoint ../root/.cache/huggingface/hub/models--Unbabel--wmt22-comet-da/snapshots/371e9839ca4e213dde891b066cf3080f75ec7e72/checkpoints/model.ckpt`\n",
            "/usr/local/lib/python3.10/dist-packages/pytorch_lightning/core/saving.py:188: Found keys that are not in the model state dict but in the checkpoint: ['encoder.model.embeddings.position_ids']\n",
            "INFO:pytorch_lightning.utilities.rank_zero:GPU available: True (cuda), used: True\n",
            "INFO:pytorch_lightning.utilities.rank_zero:TPU available: False, using: 0 TPU cores\n",
            "INFO:pytorch_lightning.utilities.rank_zero:IPU available: False, using: 0 IPUs\n",
            "INFO:pytorch_lightning.utilities.rank_zero:HPU available: False, using: 0 HPUs\n",
            "INFO:pytorch_lightning.accelerators.cuda:LOCAL_RANK: 0 - CUDA_VISIBLE_DEVICES: [0]\n",
            "Predicting DataLoader 0: 100%|██████████| 251/251 [00:54<00:00,  4.60it/s]\n"
          ]
        },
        {
          "output_type": "stream",
          "name": "stdout",
          "text": [
            "Prediction([('scores', [0.6759707927703857, 0.9641156792640686, 0.9702885746955872, 0.9875921607017517, 0.8713369965553284, 0.9491990804672241, 0.8551550507545471, 0.9059790372848511, 0.8510924577713013, 0.8487632870674133, 0.991706371307373, 0.9726728796958923, 0.957874596118927, 0.7336589694023132, 0.9150930047035217, 0.9549146294593811, 0.9618504047393799, 0.936948835849762, 0.8368066549301147, 0.9525477886199951, 0.8917968273162842, 0.6549937725067139, 0.9624319076538086, 0.9480269551277161, 0.9726758003234863, 0.9624720215797424, 0.9176197648048401, 0.8478931784629822, 0.9661975502967834, 0.9632291793823242, 0.7969343066215515, 0.9240962862968445, 0.8130875825881958, 0.9093841910362244, 0.8743664622306824, 0.856276273727417, 0.9208244681358337, 0.934724748134613, 0.9537027478218079, 0.8799391984939575, 0.9422779083251953, 0.750080406665802, 0.8805622458457947, 0.6177563071250916, 0.9407169222831726, 0.9679594039916992, 0.7086387276649475, 0.9805846214294434, 0.9235572814941406, 0.7672379612922668, 0.964877188205719, 0.9220468401908875, 0.9474748373031616, 0.9603299498558044, 0.9290384650230408, 0.9423848986625671, 0.9638243913650513, 0.9833217263221741, 0.920784056186676, 0.742470383644104, 0.6236606240272522, 0.9256584644317627, 0.9572398066520691, 0.881273090839386, 0.9558469653129578, 0.9169153571128845, 0.9749848246574402, 0.9185346961021423, 0.6513592004776001, 0.9320980906486511, 0.9669383764266968, 0.9525428414344788, 0.6964846253395081, 0.9624418616294861, 0.9281979203224182, 0.9395689368247986, 0.9139187932014465, 0.844620943069458, 0.9659736156463623, 0.9660281538963318, 0.9935207962989807, 0.964678168296814, 0.9537621140480042, 0.9215412735939026, 0.9947908520698547, 0.8842520117759705, 0.8262620568275452, 0.9091575741767883, 0.6455007791519165, 0.9449555277824402, 0.6920742392539978, 0.9458134770393372, 0.9518523812294006, 0.6413366198539734, 0.9581929445266724, 0.9155624508857727, 0.9247727394104004, 0.9668561816215515, 0.8626279234886169, 0.8963559865951538, 0.9124341607093811, 0.9511529207229614, 0.9039880633354187, 0.9157055020332336, 0.9439916014671326, 0.5132688879966736, 0.8619104623794556, 0.9161964654922485, 0.853064239025116, 0.9528334140777588, 0.7873965501785278, 0.9233872294425964, 0.93514084815979, 0.7720351219177246, 0.9199196100234985, 0.9165821671485901, 0.9681965708732605, 0.8514987230300903, 0.9626035094261169, 0.9255586862564087, 0.6411107182502747, 0.8850138783454895, 0.9701171517372131, 0.9753897786140442, 0.8341867327690125, 0.9868382811546326, 0.8927189111709595, 0.9350836873054504, 0.9322817921638489, 0.7823837399482727, 0.9321938157081604, 0.7482388019561768, 0.9663918018341064, 0.9806322455406189, 0.7881352305412292, 0.9245548844337463, 0.9012734293937683, 0.9182958602905273, 0.8409399390220642, 0.8550441265106201, 0.8141632676124573, 0.8379873633384705, 0.495487242937088, 0.9738853573799133, 0.8471118807792664, 0.95414137840271, 0.9356496930122375, 0.8402065634727478, 0.9603216052055359, 0.9248477220535278, 0.4700203537940979, 0.9462327361106873, 0.9762942790985107, 0.8887472748756409, 0.8853089213371277, 0.9085924625396729, 0.9638511538505554, 0.8952913880348206, 0.9502829313278198, 0.9240815043449402, 0.8842478394508362, 0.9221997857093811, 0.916626513004303, 0.9679834246635437, 0.9613916277885437, 0.9241718053817749, 0.9195532202720642, 0.6258789896965027, 0.9852535724639893, 0.9429609179496765, 0.9238491654396057, 0.9680859446525574, 0.7414923310279846, 0.6889773011207581, 0.5441272854804993, 0.9481117129325867, 0.8483778834342957, 0.7883790731430054, 0.9911546111106873, 0.9495424628257751, 0.9594194889068604, 0.8189957737922668, 0.8897184729576111, 0.32035377621650696, 0.9512916207313538, 0.9655080437660217, 0.9748096466064453, 0.7325177788734436, 0.8515840768814087, 0.9456200003623962, 0.9416360259056091, 0.9163743853569031, 0.9267486333847046, 0.9152224659919739, 0.9849531650543213, 0.94911128282547, 0.9389949440956116, 0.945620596408844, 0.7886627316474915, 0.9594069123268127, 0.5449795722961426, 0.9631653428077698, 0.7657638192176819, 0.9273603558540344, 0.9637050628662109, 0.6897256970405579, 0.6528298854827881, 0.9358221888542175, 0.9814751744270325, 0.8615579009056091, 0.9400404691696167, 0.723375141620636, 0.7447474598884583, 0.9747015833854675, 0.9911856651306152, 0.8527085185050964, 0.8987468481063843, 0.9630985856056213, 0.9947023987770081, 0.8100804686546326, 0.9041513800621033, 0.9422767758369446, 0.9194708466529846, 0.9556787610054016, 0.9663082957267761, 0.9323098063468933, 0.9901843667030334, 0.8954519629478455, 0.925288200378418, 0.8631256222724915, 0.9904277324676514, 0.9732337594032288, 0.762456476688385, 0.9278309941291809, 0.88237065076828, 0.7844911217689514, 0.8685486912727356, 0.9259063601493835, 0.9373167157173157, 0.8346906900405884, 0.6777084469795227, 0.7716959118843079, 0.979235827922821, 0.9357092380523682, 0.9369714856147766, 0.7602593302726746, 0.8610002994537354, 0.9222482442855835, 0.9450235962867737, 0.9384141564369202, 0.9795878529548645, 0.9691634774208069, 0.9437625408172607, 0.8730236887931824, 0.8598300218582153, 0.8860589861869812, 0.9664202332496643, 0.9752647876739502, 0.9616397023200989, 0.8914342522621155, 0.5637269020080566, 0.8870345950126648, 0.7206340432167053, 0.9002144932746887, 0.9890351295471191, 0.8354031443595886, 0.9577428698539734, 0.9743961691856384, 0.8705682158470154, 0.8678694367408752, 0.976387083530426, 0.9661335349082947, 0.8224743604660034, 0.9566364884376526, 0.8050596117973328, 0.9117810130119324, 0.9528174996376038, 0.8778523206710815, 0.9216760993003845, 0.9320478439331055, 0.9815542101860046, 0.8646201491355896, 0.9113372564315796, 0.6245172619819641, 0.9041075706481934, 0.9440216422080994, 0.8269018530845642, 0.978672206401825, 0.9519180655479431, 0.9699230194091797, 0.9802080392837524, 0.8590312600135803, 0.9450476765632629, 0.9031649827957153, 0.9249299168586731, 0.8968129754066467, 0.9529227614402771, 0.6876763701438904, 0.8819504380226135, 0.9592840075492859, 0.950388491153717, 0.6315620541572571, 0.9571433663368225, 0.8669297695159912, 0.9592033624649048, 0.9170101284980774, 0.8552432656288147, 0.7048230767250061, 0.9810181260108948, 0.9671646952629089, 0.9643641114234924, 0.9940212368965149, 0.982101321220398, 0.9448642134666443, 0.9136254787445068, 0.9065033793449402, 0.8964421153068542, 0.925931990146637, 0.9711745381355286, 0.9458745718002319, 0.9002483487129211, 0.9701833128929138, 0.9616264700889587, 0.8948370814323425, 0.9411073327064514, 0.9136335253715515, 0.5564559102058411, 0.8134916424751282, 0.7444977164268494, 0.8028033375740051, 0.8816108703613281, 0.8962050080299377, 0.9569197297096252, 0.9183624386787415, 0.9804248809814453, 0.8626444935798645, 0.46713539958000183, 0.8367534279823303, 0.9686275720596313, 0.7340754270553589, 0.7527937293052673, 0.9817832112312317, 0.8931201696395874, 0.908433735370636, 0.8663374781608582, 0.911809504032135, 0.9923824667930603, 0.45435604453086853, 0.7149770855903625, 0.9238565564155579, 0.9615126848220825, 0.9357292056083679, 0.7593832612037659, 0.9850116968154907, 0.8663221001625061, 0.94890958070755, 0.6404381394386292, 0.9684773087501526, 0.9123356938362122, 0.8871621489524841, 0.9331139326095581, 0.8489239811897278, 0.9454156756401062, 0.8836959004402161, 0.9249714016914368, 0.6921791434288025, 0.7523330450057983, 0.9689067006111145, 0.8865703344345093, 0.9872956871986389, 0.89698326587677, 0.9144551157951355, 0.9109097719192505, 0.9443144202232361, 0.9758455753326416, 0.8920075297355652, 0.7558527588844299, 0.8990636467933655, 0.9314976334571838, 0.9278279542922974, 0.8694459795951843, 0.704128086566925, 0.9668495059013367, 0.8940730690956116, 0.9355490803718567, 0.9749448895454407, 0.9154286980628967, 0.9591869115829468, 0.8677629232406616, 0.8655524253845215, 0.9585045576095581, 0.9460182189941406, 0.9315864443778992, 0.9685571789741516, 0.9294904470443726, 0.9502614140510559, 0.9778338074684143, 0.9741321206092834, 0.9964447617530823, 0.84635329246521, 0.9649422764778137, 0.9347564578056335, 0.7701306343078613, 0.8722012639045715, 0.9428002238273621, 0.846667468547821, 0.9264746904373169, 0.9711526036262512, 0.9050388336181641, 0.953602135181427, 0.9707439541816711, 0.969547688961029, 0.9541287422180176, 0.8569114804267883, 0.956530749797821, 0.95217365026474, 0.7343523502349854, 0.8545138239860535, 0.9729813933372498, 0.8339678049087524, 0.9879240393638611, 0.9509583115577698, 0.895763099193573, 0.5491716265678406, 0.938267171382904, 0.9513593316078186, 0.8454375863075256, 0.925571620464325, 0.9363967776298523, 0.9357988834381104, 0.9087858200073242, 0.6877461075782776, 0.9925293922424316, 0.8547383546829224, 0.9237414598464966, 0.4080284833908081, 0.9560346007347107, 0.7822505235671997, 0.9145151376724243, 0.9023692011833191, 0.9220254421234131, 0.8580841422080994, 0.6547624468803406, 0.9839316606521606, 0.8145923018455505, 0.8535012602806091, 0.9035112857818604, 0.5799228549003601, 0.9710889458656311, 0.8909506797790527, 0.9236145615577698, 0.8870898485183716, 0.9633095860481262, 0.9182062745094299, 0.9691317677497864, 0.9534669518470764, 0.934283435344696, 0.9094566106796265, 0.9451725482940674, 0.8456577658653259, 0.9417213201522827, 0.9878430366516113, 0.9779324531555176, 0.920414388179779, 0.9617306590080261, 0.932685911655426, 0.9943882822990417, 0.5509610176086426, 0.9478632807731628, 0.962202250957489, 0.9339824318885803, 0.941054105758667, 0.9481090307235718, 0.8678654432296753, 0.8214775919914246, 0.9601719379425049, 0.9303972125053406, 0.9176312685012817, 0.955323338508606, 0.923099160194397, 0.8858435750007629, 0.8651643395423889, 0.9564571380615234, 0.9561077356338501, 0.9693413376808167, 0.8006530404090881, 0.9441303610801697, 0.9625651836395264, 0.9546905159950256, 0.9421604871749878, 0.6755778193473816, 0.9320520758628845, 0.9779535531997681, 0.9675913453102112, 0.9428635835647583, 0.9264764189720154, 0.8525870442390442, 0.8642128705978394, 0.8479089140892029, 0.8379094004631042, 0.9764143824577332, 0.8217321634292603, 0.948362410068512, 0.9173910021781921, 0.9666873216629028, 0.9238488078117371, 0.9488243460655212, 0.6076058745384216, 0.8771539330482483, 0.9032513499259949, 0.8395060896873474, 0.9360678791999817, 0.7162761688232422, 0.8680382966995239, 0.9655945301055908, 0.8564344048500061, 0.8867987394332886, 0.903197705745697, 0.9913356900215149, 0.9589335918426514, 0.974198043346405, 0.9559007883071899, 0.9822483062744141, 0.8344241976737976, 0.9252615571022034, 0.6468086242675781, 0.8623393774032593, 0.9715577960014343, 0.9498950839042664, 0.9475070238113403, 0.8900574445724487, 0.9773750305175781, 0.9046478867530823, 0.9681516289710999, 0.9129465222358704, 0.9520223140716553, 0.9783437848091125, 0.8937563896179199, 0.9399507641792297, 0.9547140002250671, 0.9802795052528381, 0.9653436541557312, 0.8109115958213806, 0.792248547077179, 0.8343631625175476, 0.8077762722969055, 0.9294458031654358, 0.7884874939918518, 0.96599942445755, 0.5617658495903015, 0.9549291133880615, 0.8022841811180115, 0.9322835803031921, 0.9612638354301453, 0.7280263304710388, 0.9495455622673035, 0.97250896692276, 0.940850555896759, 0.9331915378570557, 0.9733101725578308, 0.97758549451828, 0.7369803786277771, 0.9077456593513489, 0.9156274199485779, 0.9939990639686584, 0.9738737940788269, 0.8768609166145325, 0.929419219493866, 0.8828769326210022, 0.6703899502754211, 0.9051388502120972, 0.8292616009712219, 0.910986065864563, 0.8510429263114929, 0.942261278629303, 0.8687834143638611, 0.8655261993408203, 0.9363934397697449, 0.8319479823112488, 0.9334978461265564, 0.943986177444458, 0.7396449446678162, 0.9592750668525696, 0.9846476316452026, 0.9517322182655334, 0.8570451140403748, 0.9824977517127991, 0.7199533581733704, 0.8591050505638123, 0.9455533027648926, 0.8482113480567932, 0.9170340299606323, 0.8936211466789246, 0.9126714468002319, 0.8876250386238098, 0.965754508972168, 0.9244813323020935, 0.9670889973640442, 0.7838255763053894, 0.8882864117622375, 0.9528122544288635, 0.8893798589706421, 0.9146882891654968, 0.9586828351020813, 0.9133287668228149, 0.9425556659698486, 0.9540928602218628, 0.9663392901420593, 0.9292466044425964, 0.8235613107681274, 0.9054572582244873, 0.829264223575592, 0.914834201335907, 0.9667825102806091, 0.9743220806121826, 0.7017228007316589, 0.9393069744110107, 0.9080432057380676, 0.8984532356262207, 0.5440675020217896, 0.9815753698348999, 0.9024876952171326, 0.9544797539710999, 0.6514045596122742, 0.7770282626152039, 0.9351993203163147, 0.9872462153434753, 0.9159360527992249, 0.9104357957839966, 0.5856510996818542, 0.44450774788856506, 0.8222566246986389, 0.8924165368080139, 0.9676386713981628, 0.679189145565033, 0.8426457047462463, 0.9427238702774048, 0.9287039637565613, 0.8682900071144104, 0.8493379950523376, 0.8908034563064575, 0.8720353245735168, 0.948519229888916, 0.926825225353241, 0.9668604135513306, 0.8272536396980286, 0.7898763418197632, 0.9288793206214905, 0.4209534823894501, 0.9610157012939453, 0.9827850461006165, 0.808800220489502, 0.9936035871505737, 0.9186375737190247, 0.9633392691612244, 0.9965248703956604, 0.9315493702888489, 0.897038459777832, 0.9480276703834534, 0.9645774960517883, 0.8958209156990051, 0.9397327303886414, 0.8560020327568054, 0.9801167845726013, 0.8967543244361877, 0.9400918483734131, 0.8420451879501343, 0.6419324278831482, 0.7609595656394958, 0.945255696773529, 0.8801916837692261, 0.7758249640464783, 0.8350453972816467, 0.9358624815940857, 0.8559556007385254, 0.9607159495353699, 0.8908296227455139, 0.6709712147712708, 0.9283939003944397, 0.9452236890792847, 0.9156618118286133, 0.8794446587562561, 0.9406103491783142, 0.8752411007881165, 0.9544140696525574, 0.8001722693443298, 0.9644710421562195, 0.9807805418968201, 0.971512496471405, 0.9039149880409241, 0.9329990148544312, 0.8712562918663025, 0.844102680683136, 0.6332367062568665, 0.9477007985115051, 0.7726355195045471, 0.8570795059204102, 0.49823030829429626, 0.8694145083427429, 0.9347479343414307, 0.9438976049423218, 0.947742760181427, 0.8762171864509583, 0.9467923641204834, 0.9432271122932434, 0.9513072371482849, 0.963001549243927, 0.9413097500801086, 0.948019802570343, 0.9288111329078674, 0.9275940656661987, 0.8817159533500671, 0.7243425250053406, 0.9687480330467224, 0.9701660871505737, 0.9929372668266296, 0.9456856846809387, 0.9305530190467834, 0.7667664885520935, 0.6492054462432861, 0.9709774255752563, 0.9320803284645081, 0.8339679837226868, 0.9512539505958557, 0.9600709080696106, 0.9171001315116882, 0.8973847031593323, 0.8533255457878113, 0.9645006060600281, 0.9504382014274597, 0.9740195274353027, 0.8494705557823181, 0.5329235196113586, 0.8427107334136963, 0.7899506688117981, 0.9819232821464539, 0.991694450378418, 0.7315241098403931, 0.8335204124450684, 0.9173904657363892, 0.953429639339447, 0.9540244936943054, 0.6866504549980164, 0.5787848830223083, 0.9772401452064514, 0.8450050354003906, 0.9042739272117615, 0.868001401424408, 0.7474249005317688, 0.8640709519386292, 0.966482937335968, 0.8507792353630066, 0.9497867226600647, 0.9365846514701843, 0.9438046216964722, 0.8575870990753174, 0.9793891310691833, 0.85523921251297, 0.9496992230415344, 0.9152452945709229, 0.8051751255989075, 0.858698844909668, 0.9813721179962158, 0.9054383635520935, 0.8880351185798645, 0.8865405917167664, 0.9589518904685974, 0.8990916609764099, 0.9055377840995789, 0.8499885201454163, 0.8395299315452576, 0.9305186867713928, 0.643326461315155, 0.8412566781044006, 0.9437218904495239, 0.9113591909408569, 0.9664026498794556, 0.8810734152793884, 0.9217020869255066, 0.9022435545921326, 0.8891171813011169, 0.830416738986969, 0.9757981300354004, 0.9361208081245422, 0.9397799372673035, 0.8326624035835266, 0.9190040826797485, 0.8491886258125305, 0.8576715588569641, 0.9237918257713318, 0.9174118041992188, 0.9660009145736694, 0.9685015082359314, 0.976042628288269, 0.988726794719696, 0.9038456678390503, 0.95164954662323, 0.7457889914512634, 0.8899533152580261, 0.9244813323020935, 0.8263111114501953, 0.8086771965026855, 0.8154976963996887, 0.9410658478736877, 0.7182934880256653, 0.9583964943885803, 0.932898759841919, 0.9575526118278503, 0.9143438935279846, 0.9698092341423035, 0.6807889938354492, 0.8834006190299988, 0.9405151009559631, 0.8528990149497986, 0.8158919215202332, 0.6202727556228638, 0.8892449736595154, 0.8009981513023376, 0.9499111175537109, 0.9426291584968567, 0.9657326340675354, 0.906897783279419, 0.9783353805541992, 0.9616292715072632, 0.4545557200908661, 0.938709557056427, 0.9357931017875671, 0.9446699023246765, 0.9804292321205139, 0.9771310091018677, 0.9049915671348572, 0.8443576097488403, 0.9021696448326111, 0.8306403756141663, 0.9147376418113708, 0.9429047703742981, 0.9222069382667542, 0.8853729367256165, 0.937663197517395, 0.9142002463340759, 0.9088764190673828, 0.9840068221092224, 0.5889869928359985, 0.9721344709396362, 0.9298436045646667, 0.9415561556816101, 0.6560057997703552, 0.8655471801757812, 0.9838201403617859, 0.5486910939216614, 0.961216390132904, 0.9040555357933044, 0.42258164286613464, 0.9582903981208801, 0.8550933003425598, 0.6548426747322083, 0.9845995306968689, 0.8563662767410278, 0.7680785059928894, 0.9528599381446838, 0.9426973462104797, 0.7669907808303833, 0.924514651298523, 0.8455298542976379, 0.9637647271156311, 0.6628921627998352, 0.9035466313362122, 0.99229896068573, 0.9431146383285522, 0.9440100789070129, 0.48212647438049316, 0.947987973690033, 0.9433143138885498, 0.9716140627861023, 0.8750779628753662, 0.9637414216995239, 0.9017956256866455, 0.9759448766708374, 0.8545995354652405, 0.9499730467796326, 0.9671110510826111, 0.9870250821113586, 0.9258103966712952, 0.7708083391189575, 0.9548398852348328, 0.8921331763267517, 0.8133962750434875, 0.8524952530860901, 0.7901278138160706, 0.8165138959884644, 0.6632006764411926, 0.7722358703613281, 0.9386475682258606, 0.727211594581604, 0.961810290813446, 0.990425169467926, 0.9831275343894958, 0.9295149445533752, 0.9213840365409851, 0.9686000347137451, 0.889091432094574, 0.9323663115501404, 0.9521613717079163, 0.9696406126022339, 0.8829723000526428, 0.9566163420677185, 0.9075092673301697, 0.9747840166091919, 0.5198755860328674, 0.9467355012893677, 0.9485824108123779, 0.9053454995155334, 0.965268075466156, 0.7960841059684753, 0.8480504155158997, 0.9695843458175659, 0.9500680565834045, 0.9168938994407654, 0.8921613693237305, 0.975178062915802, 0.5231382250785828, 0.949220597743988, 0.9574174284934998, 0.9063875079154968, 0.8632529377937317, 0.8917213082313538, 0.882154643535614, 0.9832181930541992, 0.8514360785484314, 0.6283977627754211, 0.9528981447219849, 0.9095028042793274, 0.9889949560165405, 0.918445885181427, 0.9731431603431702, 0.9387474656105042, 0.8295606374740601, 0.9252304434776306, 0.717128574848175, 0.9396489262580872, 0.9757278561592102, 0.8887763023376465, 0.9278703927993774, 0.7792633175849915, 0.9487733244895935, 0.9422537684440613, 0.9147661924362183, 0.9464356303215027, 0.8839480876922607, 0.7252801060676575, 0.9599403142929077, 0.8870114684104919, 0.8733744025230408, 0.513109028339386, 0.9744716286659241, 0.9758549332618713, 0.9714597463607788, 0.9025947451591492, 0.8850416541099548, 0.9163210988044739, 0.9455721974372864, 0.6947091817855835, 0.9487771391868591, 0.9164701104164124, 0.6962888836860657, 0.7396966814994812, 0.9067795276641846, 0.8904378414154053, 0.8697595000267029, 0.9295024275779724, 0.9180282950401306, 0.7743567824363708, 0.9167231917381287, 0.8500036597251892, 0.9365919828414917, 0.9839255213737488, 0.7120184898376465, 0.7439788579940796, 0.777393639087677, 0.919876754283905, 0.8715150356292725, 0.9555860161781311, 0.9610328078269958, 0.972165048122406, 0.9695701599121094, 0.9534743428230286, 0.9607890248298645, 0.9613085389137268, 0.8882908821105957, 0.9162358045578003, 0.9853760600090027, 0.8851808309555054, 0.9839894771575928, 0.9481790661811829, 0.8921337127685547, 0.8135715126991272, 0.9327906370162964, 0.7292400002479553, 0.9766446352005005, 0.944777250289917, 0.9872393012046814, 0.9175239205360413, 0.9458408951759338, 0.8857755661010742, 0.877374529838562, 0.7728793025016785, 0.9416373372077942, 0.8396098017692566, 0.7703709006309509, 0.929958164691925, 0.9639449715614319, 0.8747125267982483, 0.8315114378929138, 0.983164370059967, 0.9072319269180298, 0.8701027035713196, 0.994323194026947, 0.989656388759613, 0.8677951097488403, 0.9525783061981201, 0.9468825459480286, 0.8342186808586121, 0.6805495619773865, 0.9220250248908997, 0.9690946936607361, 0.9666587710380554, 0.9235835671424866, 0.9399194121360779, 0.9616323709487915, 0.845325231552124, 0.9189741611480713, 0.9048383831977844, 0.9786458015441895, 0.7955801486968994, 0.9119675159454346, 0.9947095513343811, 0.9810933470726013, 0.9163492321968079, 0.9112628102302551, 0.944897472858429, 0.8871377110481262, 0.9412054419517517, 0.8381829857826233, 0.9711794257164001, 0.9494004845619202, 0.956946611404419, 0.8589468598365784, 0.996184766292572, 0.9502111077308655, 0.673287570476532, 0.9752362966537476, 0.9629657864570618, 0.8612298369407654, 0.9312495589256287, 0.7405566573143005, 0.946766197681427, 0.9345315098762512, 0.9075981974601746, 0.8735651969909668, 0.8488398790359497, 0.8406063318252563, 0.6656951904296875, 0.9693291783332825, 0.9569069743156433, 0.8934792280197144, 0.9934438467025757, 0.8631975650787354, 0.9371338486671448, 0.9879537224769592, 0.9106231331825256, 0.97203129529953, 0.8936216235160828, 0.9667245745658875, 0.7730280160903931, 0.9698417782783508, 0.902061402797699, 0.6480576992034912, 0.9720607399940491, 0.9293010234832764, 0.938892662525177, 0.9103543162345886, 0.873373806476593, 0.9642966985702515, 0.8840528130531311, 0.8847008943557739, 0.8266810774803162, 0.9320628046989441, 0.8462220430374146, 0.7847465872764587, 0.9300239682197571, 0.504888653755188, 0.9395880103111267, 0.8978613615036011, 0.9715884327888489, 0.8025248050689697, 0.8907606601715088, 0.9299231171607971, 0.9374006986618042, 0.9156290292739868, 0.8599012494087219, 0.9840222001075745, 0.7024621367454529, 0.8883553147315979, 0.9235938787460327, 0.9658350348472595, 0.9098712801933289, 0.9504799246788025, 0.8679590821266174, 0.5806605219841003, 0.7276193499565125, 0.959908664226532, 0.8414945602416992, 0.9104102253913879, 0.9664269089698792, 0.9642408490180969, 0.9645910263061523, 0.867708683013916, 0.9469817876815796, 0.4918443560600281, 0.959476888179779, 0.9690479040145874, 0.8043479919433594, 0.8932544589042664, 0.9615776538848877, 0.9370870590209961, 0.9055443406105042, 0.9701308608055115, 0.8968029618263245, 0.9128692746162415, 0.8397348523139954, 0.9177189469337463, 0.9122419953346252, 0.9488092064857483, 0.9485316872596741, 0.9593684077262878, 0.9481317400932312, 0.9031761288642883, 0.9437841176986694, 0.7343748807907104, 0.9490082859992981, 0.8586744666099548, 0.5551006197929382, 0.7350454926490784, 0.9145962595939636, 0.6159731149673462, 0.9708788990974426, 0.8938806653022766, 0.8779781460762024, 0.9675392508506775, 0.7870557308197021, 0.6951330304145813, 0.5382334589958191, 0.7294771671295166, 0.9449722766876221, 0.7825153470039368, 0.6712530255317688, 0.8764475584030151, 0.7755439281463623, 0.4615034759044647, 0.9778985381126404, 0.8896366357803345, 0.9283146262168884, 0.9361123442649841, 0.8656049370765686, 0.924497663974762, 0.851309597492218, 0.9453902244567871, 0.9683797955513, 0.9153950214385986, 0.9597049355506897, 0.842670738697052, 0.8381965756416321, 0.901524007320404, 0.7366606593132019, 0.8847289681434631, 0.933849573135376, 0.9090729355812073, 0.9829664826393127, 0.9084652066230774, 0.9227169156074524, 0.8693260550498962, 0.9821662306785583, 0.8770184516906738, 0.8289123773574829, 0.8668213486671448, 0.9713883996009827, 0.9337586760520935, 0.971118152141571, 0.9037278294563293, 0.8780837059020996, 0.9334650635719299, 0.6072989106178284, 0.9549444317817688, 0.9610360264778137, 0.8174167275428772, 0.9633808732032776, 0.9497773051261902, 0.9754799604415894, 0.9533355236053467, 0.5443057417869568, 0.804337739944458, 0.9138988852500916, 0.9333292245864868, 0.8933684229850769, 0.9711277484893799, 0.8948985934257507, 0.9071472883224487, 0.9634272456169128, 0.98671954870224, 0.7394654750823975, 0.9829890727996826, 0.9664081931114197, 0.9690412878990173, 0.9729003310203552, 0.8450648188591003, 0.9548165202140808, 0.9790458083152771, 0.9796718955039978, 0.9544937014579773, 0.9585232138633728, 0.9178455471992493, 0.9510863423347473, 0.9270021915435791, 0.9179093837738037, 0.8725780248641968, 0.8156682848930359, 0.9667326211929321, 0.9784957766532898, 0.7500004172325134, 0.938162624835968, 0.8768671154975891, 0.9707862138748169, 0.9532071948051453, 0.9188169836997986, 0.9754607677459717, 0.9690915942192078, 0.9526705741882324, 0.9766924381256104, 0.913372814655304, 0.7823600172996521, 0.9151423573493958, 0.9077374935150146, 0.9699034094810486, 0.9522314667701721, 0.7338723540306091, 0.924936830997467, 0.9114729166030884, 0.6194471716880798, 0.950061559677124, 0.7118734121322632, 0.9021322131156921, 0.5714672803878784, 0.9266087412834167, 0.9675446152687073, 0.914426326751709, 0.899127721786499, 0.8125569224357605, 0.9395818114280701, 0.9701670408248901, 0.970636785030365, 0.9589273929595947, 0.91811603307724, 0.8673478364944458, 0.990714430809021, 0.9751818776130676, 0.9872881770133972, 0.9137168526649475, 0.9621689915657043, 0.9666591286659241, 0.6020393967628479, 0.8651025295257568, 0.5251189470291138, 0.796199381351471, 0.923206090927124, 0.7344651818275452, 0.9422381520271301, 0.9624399542808533, 0.9595142006874084, 0.9065328240394592, 0.9390119910240173, 0.7917920351028442, 0.9925174713134766, 0.9639644026756287, 0.9089317321777344, 0.9112165570259094, 0.8949384093284607, 0.9139068126678467, 0.9276606440544128, 0.9180693030357361, 0.6225091814994812, 0.9497669339179993, 0.8835645914077759, 0.9049369692802429, 0.8328239917755127, 0.8137185573577881, 0.8900277018547058, 0.9219261407852173, 0.8374374508857727, 0.9775261282920837, 0.9186809659004211, 0.7362514138221741, 0.867486834526062, 0.91160649061203, 0.9771514534950256, 0.884427011013031, 0.956570565700531, 0.9404992461204529, 0.9478241801261902, 0.9935929179191589, 0.9217410683631897, 0.9295228719711304, 0.901112973690033, 0.7640025615692139, 0.823202908039093, 0.908650279045105, 0.9764976501464844, 0.7855517268180847, 0.948549211025238, 0.8251984715461731, 0.6753425002098083, 0.9487105011940002, 0.7980087995529175, 0.853861391544342, 0.9622401595115662, 0.9340604543685913, 0.9343245029449463, 0.88008052110672, 0.7977196574211121, 0.9195262789726257, 0.9775962233543396, 0.9568113684654236, 0.6794955134391785, 0.8219296336174011, 0.9252966642379761, 0.9428028464317322, 0.6398898959159851, 0.9178652167320251, 0.879381000995636, 0.9513319134712219, 0.9040351510047913, 0.9166740775108337, 0.9755228757858276, 0.923984944820404, 0.9747018218040466, 0.6211631894111633, 0.9128907918930054, 0.9217655658721924, 0.7902968525886536, 0.9214699864387512, 0.8996819853782654, 0.9855051636695862, 0.7817419767379761, 0.9340251088142395, 0.9590749740600586, 0.9392614364624023, 0.7705243229866028, 0.762672483921051, 0.9024389982223511, 0.6318826079368591, 0.8890647292137146, 0.9619689583778381, 0.5129711031913757, 0.9697767496109009, 0.9524251222610474, 0.9472025036811829, 0.9694172739982605, 0.8296079039573669, 0.960178554058075, 0.9769986867904663, 0.8256441950798035, 0.9254554510116577, 0.9711416363716125, 0.9118712544441223, 0.9578359723091125, 0.8747524619102478, 0.9708976149559021, 0.9669697284698486, 0.804848313331604, 0.9314292669296265, 0.942384660243988, 0.9938162565231323, 0.9608922600746155, 0.9452224373817444, 0.9818246960639954, 0.84621661901474, 0.8479427695274353, 0.8224639892578125, 0.9165002703666687, 0.9436718225479126, 0.8716808557510376, 0.8986043930053711, 0.9558182954788208, 0.9782384634017944, 0.5949944853782654, 0.9625363945960999, 0.9209931492805481, 0.9438614249229431, 0.8812815546989441, 0.9856486320495605, 0.9112061858177185, 0.8272576928138733, 0.9179299473762512, 0.9283701777458191, 0.7837693095207214, 0.9245468974113464, 0.9640053510665894, 0.9157121777534485, 0.9402569532394409, 0.9681201577186584, 0.8953818678855896, 0.9353992938995361, 0.8886414170265198, 0.9565083980560303, 0.9301075339317322, 0.9165515303611755, 0.9565131068229675, 0.9640321135520935, 0.8912715315818787, 0.9303438067436218, 0.4512184262275696, 0.5021131634712219, 0.9577347636222839, 0.9180199503898621, 0.9208325743675232, 0.8761635422706604, 0.8584330677986145, 0.829101026058197, 0.7679333090782166, 0.9456568360328674, 0.9340084195137024, 0.9411633610725403, 0.9626226425170898, 0.9236473441123962, 0.9176222681999207, 0.9364712834358215, 0.9068635106086731, 0.843900740146637, 0.9242393374443054, 0.9579567313194275, 0.8885241150856018, 0.8774988055229187, 0.9772307276725769, 0.8121808171272278, 0.7171770930290222, 0.8342364430427551, 0.9410000443458557, 0.9523051381111145, 0.9696679711341858, 0.8502076268196106, 0.8226929306983948, 0.7471640110015869, 0.5505385994911194, 0.9638248682022095, 0.8834133744239807, 0.8747865557670593, 0.95197993516922, 0.925170361995697, 0.9729926586151123, 0.7376139760017395, 0.9403185844421387, 0.9592121243476868, 0.8226794004440308, 0.9519453048706055, 0.6494222283363342, 0.9326810240745544, 0.905109703540802, 0.9829084277153015, 0.8674353957176208, 0.9695066809654236, 0.7525981664657593, 0.8509600758552551, 0.984955370426178, 0.9219993948936462, 0.7921313643455505, 0.9622551202774048, 0.8920803666114807, 0.9196483492851257, 0.9667434096336365, 0.9259490370750427, 0.937078058719635, 0.9099637269973755, 0.926798403263092, 0.8994970917701721, 0.9168685674667358, 0.9035439491271973, 0.8137693405151367, 0.9160279631614685, 0.9092225432395935, 0.8842799067497253, 0.9537248015403748, 0.6793889999389648, 0.8558157086372375, 0.904445469379425, 0.9462623000144958, 0.6971890926361084, 0.9509068131446838, 0.7969834208488464, 0.9610999226570129, 0.9493830800056458, 0.9219065308570862, 0.8535156846046448, 0.9573175311088562, 0.9101886749267578, 0.9259722828865051, 0.9617363810539246, 0.9673160910606384, 0.9824110865592957, 0.8557524085044861, 0.9106248021125793, 0.9137149453163147, 0.9073426723480225, 0.9761693477630615, 0.9543353915214539, 0.9599815011024475, 0.9591460227966309, 0.7370843291282654, 0.5353837013244629, 0.8755894303321838, 0.9285176396369934, 0.9539140462875366, 0.9279698729515076, 0.9676463007926941, 0.8828945159912109, 0.8726915717124939, 0.9638270735740662, 0.9433842897415161, 0.9440135955810547, 0.9589354395866394, 0.9644429087638855, 0.962821364402771, 0.9141563773155212, 0.7996124029159546, 0.9146670699119568, 0.903235137462616, 0.8260690569877625, 0.9485720992088318, 0.9155819416046143, 0.8963462710380554, 0.812920868396759, 0.8646396994590759, 0.9021826386451721, 0.9499994516372681, 0.9399073719978333, 0.9588173031806946, 0.9101856350898743, 0.906487762928009, 0.9932016730308533, 0.8157632946968079, 0.7908040881156921, 0.920106828212738, 0.96478670835495, 0.7976171374320984, 0.9018769264221191, 0.9669448733329773, 0.961270272731781, 0.5377452373504639, 0.8519815802574158, 0.9567967653274536, 0.7641656994819641, 0.8796067237854004, 0.9168080687522888, 0.9720436930656433, 0.9250909090042114, 0.9249436259269714, 0.9239677786827087, 0.8479246497154236, 0.9421583414077759, 0.9021345973014832, 0.9761614203453064, 0.9662182927131653, 0.9631544947624207, 0.8891975283622742, 0.8467417359352112, 0.8778427839279175, 0.9169095158576965, 0.9615625739097595, 0.9134414792060852, 0.8792079091072083, 0.9553544521331787, 0.8293910026550293, 0.9299287796020508, 0.9471834897994995, 0.7813849449157715, 0.9887661337852478, 0.977623462677002, 0.9176872372627258, 0.9012987613677979, 0.9035387635231018, 0.9499819874763489, 0.9186602830886841, 0.8925634026527405, 0.9533690214157104, 0.9358609318733215, 0.8994569182395935, 0.9290774464607239, 0.9591525793075562, 0.5773472189903259, 0.5576315522193909, 0.9532747864723206, 0.9664080739021301, 0.9547069668769836, 0.898213803768158, 0.9014890789985657, 0.9535531997680664, 0.9691843390464783, 0.8616124391555786, 0.9804972410202026, 0.867010772228241, 0.9926782846450806, 0.9136675000190735, 0.9206188321113586, 0.8977439999580383, 0.8783596158027649, 0.6994425654411316, 0.9692038893699646, 0.953697681427002, 0.9004902243614197, 0.9386932253837585, 0.9535247683525085, 0.9653391242027283, 0.9300201535224915, 0.8608224391937256, 0.9377925992012024, 0.9599004983901978, 0.9309127926826477, 0.9493815302848816, 0.8206847310066223, 0.9736613035202026, 0.9159438610076904, 0.9926583766937256, 0.9566090703010559, 0.8737672567367554, 0.939508855342865, 0.9742669463157654, 0.8756350874900818, 0.9276542067527771, 0.9637903571128845, 0.9254454970359802, 0.9490808844566345, 0.9532222151756287, 0.9330008029937744, 0.9315337538719177, 0.9940263628959656, 0.9252384305000305, 0.9099066853523254, 0.9679903388023376, 0.9574896693229675, 0.7734273672103882, 0.95589679479599, 0.9000067710876465, 0.7802644371986389, 0.9061204791069031, 0.8336434960365295, 0.6329226493835449, 0.9763798713684082, 0.9587290287017822, 0.7881318926811218, 0.9462305307388306, 0.8844721913337708, 0.977952778339386, 0.8939383625984192, 0.9368925094604492, 0.7263431549072266, 0.9485220313072205, 0.9612458348274231, 0.9587222337722778, 0.9681828618049622, 0.6787877082824707, 0.9842387437820435, 0.9446702599525452, 0.9506393074989319, 0.8710320591926575, 0.9470220804214478, 0.9371111989021301, 0.9356351494789124, 0.8088929057121277, 0.9529791474342346, 0.986526370048523, 0.6661356687545776, 0.8881747126579285, 0.907508909702301, 0.8973262906074524, 0.9772681593894958, 0.8908410668373108, 0.8049262762069702, 0.9718863368034363, 0.9685935378074646, 0.8962523341178894, 0.7296525239944458, 0.8229818344116211, 0.8814440369606018, 0.8202332258224487, 0.9006891846656799, 0.9769684672355652, 0.9865819811820984, 0.7293287515640259, 0.9062198996543884, 0.9306012988090515, 0.6301752328872681, 0.9678178429603577, 0.9509156346321106, 0.987699031829834, 0.932736337184906, 0.7572305798530579, 0.9431028366088867, 0.9827581644058228, 0.8597531914710999, 0.9210410714149475, 0.9204509854316711, 0.8674442172050476, 0.7733102440834045, 0.9665905237197876, 0.9697250723838806, 0.7496791481971741, 0.6879929900169373, 0.8033519387245178, 0.9521198868751526, 0.9448241591453552, 0.8282535672187805, 0.9426276087760925, 0.9838835597038269, 0.5565751194953918, 0.796509325504303, 0.9620461463928223, 0.9844605922698975, 0.8210687637329102, 0.9807797074317932, 0.8573483824729919, 0.8116918802261353, 0.9397427439689636, 0.8878018856048584, 0.9376853704452515, 0.5021451115608215, 0.8696665167808533, 0.954355776309967, 0.7129274010658264, 0.9670703411102295, 0.6722254157066345, 0.7931261658668518, 0.8204711079597473, 0.8254947066307068, 0.8927835822105408, 0.904839813709259, 0.9502493739128113, 0.7892116904258728, 0.7953028678894043, 0.9251313805580139, 0.9095610976219177, 0.8885961771011353, 0.9682969450950623, 0.9309179186820984, 0.9753180742263794, 0.9765890836715698, 0.9611273407936096, 0.854202151298523, 0.9710313081741333, 0.8116446733474731, 0.8841800093650818, 0.8517068028450012, 0.95738285779953, 0.8041801452636719, 0.9174430966377258, 0.9641239643096924, 0.8475971817970276, 0.8007209300994873, 0.8882700800895691, 0.6337026953697205, 0.9712018370628357, 0.8926775455474854, 0.9590625762939453, 0.8714751601219177, 0.8569576144218445, 0.9566581845283508, 0.826508104801178, 0.9301239848136902, 0.8601483106613159, 0.9234833121299744, 0.872894287109375, 0.9767066240310669, 0.865915834903717, 0.9745103120803833, 0.861661970615387, 0.968580961227417, 0.991834819316864, 0.9276483058929443, 0.6791748404502869, 0.9556133151054382, 0.8262636065483093, 0.5570598244667053, 0.8798519372940063, 0.9721290469169617, 0.866654634475708, 0.8007766604423523, 0.6927431225776672, 0.956407368183136, 0.9784379601478577, 0.8942894339561462, 0.8762199282646179, 0.8897473812103271, 0.9770878553390503, 0.9445265531539917, 0.9232781529426575, 0.6554072499275208, 0.8547448515892029, 0.9101623296737671, 0.8273892998695374, 0.9688555598258972, 0.953149139881134, 0.9456720352172852, 0.5810828804969788, 0.9457826018333435, 0.7007518410682678, 0.9465659260749817, 0.9900037050247192, 0.7784103155136108, 0.9357094168663025, 0.9078957438468933, 0.9364975690841675, 0.8958051204681396, 0.9583839178085327, 0.9015695452690125, 0.6863706707954407, 0.9507262110710144, 0.9506716728210449, 0.9589553475379944, 0.9691789746284485, 0.8972774147987366, 0.7737967371940613, 0.897364616394043, 0.9193496704101562, 0.9750954508781433, 0.9109162092208862, 0.9402346014976501, 0.9145083427429199, 0.9588483572006226, 0.9720410704612732, 0.8176423907279968, 0.9487832188606262, 0.9003950357437134, 0.9724496006965637, 0.8258596062660217, 0.8285847902297974, 0.9661733508110046, 0.8109967708587646, 0.9419986605644226, 0.7334920763969421, 0.9929047226905823, 0.9836134314537048, 0.9771086573600769, 0.6538719534873962, 0.9460174441337585, 0.9716041684150696, 0.7606032490730286, 0.8676633238792419, 0.8330540657043457, 0.9720141291618347, 0.9655147790908813, 0.947012186050415, 0.9548661708831787, 0.8731173276901245, 0.9798039793968201, 0.7438889145851135, 0.908967912197113, 0.9555178284645081, 0.877020537853241, 0.9168060421943665, 0.9354128837585449, 0.8064931035041809, 0.9489918351173401, 0.6414981484413147, 0.930882453918457, 0.8033536076545715, 0.963093101978302, 0.9360003471374512, 0.7883102297782898, 0.967444896697998, 0.9317633509635925, 0.9824544787406921, 0.9578576683998108, 0.9423266649246216, 0.6114277243614197, 0.9576745629310608, 0.8961469531059265, 0.6576756238937378, 0.9214022755622864, 0.9373639225959778, 0.9457666873931885, 0.8995415568351746, 0.9471738338470459, 0.9672861695289612, 0.9600486159324646, 0.9640174508094788, 0.9713809490203857, 0.8937788009643555, 0.9513358473777771, 0.8461503386497498, 0.7936992645263672, 0.9702703952789307, 0.8981791138648987, 0.6576763987541199, 0.9618379473686218, 0.8897441029548645, 0.6960817575454712, 0.9629359245300293, 0.8698618412017822, 0.9776610732078552, 0.7182800769805908, 0.961362361907959, 0.9461210370063782, 0.9753512740135193, 0.9388402104377747, 0.9562690854072571, 0.7989555597305298, 0.6368798613548279, 0.8651453256607056, 0.742825984954834, 0.9574597477912903, 0.9570594429969788, 0.9642844796180725, 0.7494776844978333, 0.7683736681938171, 0.8769283890724182, 0.9162216186523438, 0.9813618063926697, 0.9825307130813599, 0.8612902164459229, 0.9710893034934998, 0.9133390188217163, 0.8299325704574585, 0.9862492084503174, 0.7554042339324951, 0.9720467925071716, 0.9435755610466003, 0.9412283897399902, 0.9228723645210266, 0.7603142857551575, 0.992925226688385, 0.6154765486717224, 0.8588651418685913, 0.9291240572929382, 0.9590660929679871, 0.766851007938385, 0.96601802110672, 0.8360084891319275, 0.9501290321350098, 0.9384092688560486, 0.943558394908905, 0.9360194206237793, 0.979526937007904, 0.8853732943534851, 0.5738487839698792, 0.5618708729743958, 0.9624218940734863, 0.8677365183830261, 0.9754180908203125, 0.7886699438095093, 0.7705332636833191, 0.865894079208374, 0.8161763548851013, 0.9570119380950928, 0.9034459590911865, 0.9618108868598938, 0.9232011437416077, 0.9575986266136169, 0.9536989331245422, 0.7005543112754822, 0.98508620262146, 0.9816650152206421, 0.858035147190094, 0.8515204787254333, 0.9719735383987427, 0.9532926678657532, 0.9616784453392029, 0.9676148891448975, 0.7636248469352722, 0.9290962815284729, 0.9468815922737122, 0.9113463163375854, 0.8759446740150452, 0.9894511699676514, 0.9303570985794067, 0.9613549113273621, 0.8984290957450867, 0.9205089211463928, 0.8828842043876648, 0.9567782282829285, 0.9418126940727234, 0.9047808647155762, 0.9792266488075256, 0.5532150864601135, 0.9375566840171814, 0.9421156048774719, 0.9405420422554016, 0.8968458771705627, 0.8623058199882507, 0.8963642716407776, 0.5816916227340698, 0.9515886902809143, 0.9470468163490295, 0.5772721171379089, 0.9764830470085144]), ('system_score', 0.8886818507502878)])\n"
          ]
        }
      ]
    },
    {
      "cell_type": "code",
      "execution_count": 375,
      "metadata": {
        "colab": {
          "base_uri": "https://localhost:8080/"
        },
        "id": "0zqE2czPyCSH",
        "outputId": "f6f3aa8b-e824-4454-9245-d8657dde218b"
      },
      "outputs": [
        {
          "output_type": "execute_result",
          "data": {
            "text/plain": [
              "['dala',\n",
              " 'som',\n",
              " 'zistiť',\n",
              " 'niekoľko',\n",
              " 'informácií',\n",
              " 'a',\n",
              " 'moja',\n",
              " 'prvá',\n",
              " 'pripomienka',\n",
              " 'je',\n",
              " ',',\n",
              " 'že',\n",
              " 'v',\n",
              " 'otázky',\n",
              " 'vo',\n",
              " 'vyhradenom',\n",
              " 'čase',\n",
              " 'sú',\n",
              " 'pre',\n",
              " 'Komisiu',\n",
              " 'a',\n",
              " 'nie',\n",
              " 'pre',\n",
              " 'konkrétneho',\n",
              " 'komisára']"
            ]
          },
          "metadata": {},
          "execution_count": 375
        }
      ],
      "source": [
        "token_ref"
      ]
    },
    {
      "cell_type": "code",
      "execution_count": 376,
      "metadata": {
        "colab": {
          "base_uri": "https://localhost:8080/"
        },
        "id": "gTJvW8pz1q4I",
        "outputId": "095b1145-4313-49ec-e957-dee46b301042"
      },
      "outputs": [
        {
          "output_type": "execute_result",
          "data": {
            "text/plain": [
              "['spôsobil',\n",
              " 'mi',\n",
              " 'niekoľko',\n",
              " 'otázok',\n",
              " ',',\n",
              " 'ktoré',\n",
              " 'je',\n",
              " 'potrebné',\n",
              " 'urobiť',\n",
              " ',',\n",
              " 'a',\n",
              " 'mojim',\n",
              " 'prvým',\n",
              " 'bodom',\n",
              " 'je',\n",
              " ',',\n",
              " 'že',\n",
              " 'sa',\n",
              " 'zaoberáme',\n",
              " 'hodinou',\n",
              " 'otázok',\n",
              " 'Komisii',\n",
              " 'a',\n",
              " 'nie',\n",
              " 'konkrétnym',\n",
              " 'komisárom']"
            ]
          },
          "metadata": {},
          "execution_count": 376
        }
      ],
      "source": [
        "token_prek"
      ]
    },
    {
      "cell_type": "code",
      "execution_count": 377,
      "metadata": {
        "id": "s91Kg0emqsx8"
      },
      "outputs": [],
      "source": [
        "#from google.colab import runtime\n",
        "#runtime.unassign()"
      ]
    }
  ],
  "metadata": {
    "accelerator": "GPU",
    "colab": {
      "collapsed_sections": [
        "WNRR4aZWmkGW",
        "I2_hUU9Yx8nj"
      ],
      "gpuType": "T4",
      "machine_shape": "hm",
      "provenance": [],
      "mount_file_id": "1cAbr53bSx53865fbKZe58vxyASVtO7ub",
      "authorship_tag": "ABX9TyOYGggOrY4v+7bXLaJB0WWi",
      "include_colab_link": true
    },
    "kernelspec": {
      "display_name": "Python 3",
      "name": "python3"
    },
    "language_info": {
      "name": "python"
    },
    "widgets": {
      "application/vnd.jupyter.widget-state+json": {
        "b62a943378ae42f785a5dca21ed94fa9": {
          "model_module": "@jupyter-widgets/controls",
          "model_name": "HBoxModel",
          "model_module_version": "1.5.0",
          "state": {
            "_dom_classes": [],
            "_model_module": "@jupyter-widgets/controls",
            "_model_module_version": "1.5.0",
            "_model_name": "HBoxModel",
            "_view_count": null,
            "_view_module": "@jupyter-widgets/controls",
            "_view_module_version": "1.5.0",
            "_view_name": "HBoxView",
            "box_style": "",
            "children": [
              "IPY_MODEL_7c4a6bb4e31c4d0a93b7eab4dbd8c889",
              "IPY_MODEL_92aba2c0788b4becaf4ab32ab99731fc",
              "IPY_MODEL_190623125f6f47fda3e8b0633e6d76b1"
            ],
            "layout": "IPY_MODEL_dd9ec7ec99bd4bfd993cb02bf65c107d"
          }
        },
        "7c4a6bb4e31c4d0a93b7eab4dbd8c889": {
          "model_module": "@jupyter-widgets/controls",
          "model_name": "HTMLModel",
          "model_module_version": "1.5.0",
          "state": {
            "_dom_classes": [],
            "_model_module": "@jupyter-widgets/controls",
            "_model_module_version": "1.5.0",
            "_model_name": "HTMLModel",
            "_view_count": null,
            "_view_module": "@jupyter-widgets/controls",
            "_view_module_version": "1.5.0",
            "_view_name": "HTMLView",
            "description": "",
            "description_tooltip": null,
            "layout": "IPY_MODEL_86fa6e9c329140b598550c26a7f10d7d",
            "placeholder": "​",
            "style": "IPY_MODEL_3c7c6a05dd3e43f2be64435bcb64dd93",
            "value": "Fetching 5 files: 100%"
          }
        },
        "92aba2c0788b4becaf4ab32ab99731fc": {
          "model_module": "@jupyter-widgets/controls",
          "model_name": "FloatProgressModel",
          "model_module_version": "1.5.0",
          "state": {
            "_dom_classes": [],
            "_model_module": "@jupyter-widgets/controls",
            "_model_module_version": "1.5.0",
            "_model_name": "FloatProgressModel",
            "_view_count": null,
            "_view_module": "@jupyter-widgets/controls",
            "_view_module_version": "1.5.0",
            "_view_name": "ProgressView",
            "bar_style": "success",
            "description": "",
            "description_tooltip": null,
            "layout": "IPY_MODEL_dffa24e7dc9c42219ff690d23bd16a75",
            "max": 5,
            "min": 0,
            "orientation": "horizontal",
            "style": "IPY_MODEL_0219495c1ee34b3fa8499d276ad37d4c",
            "value": 5
          }
        },
        "190623125f6f47fda3e8b0633e6d76b1": {
          "model_module": "@jupyter-widgets/controls",
          "model_name": "HTMLModel",
          "model_module_version": "1.5.0",
          "state": {
            "_dom_classes": [],
            "_model_module": "@jupyter-widgets/controls",
            "_model_module_version": "1.5.0",
            "_model_name": "HTMLModel",
            "_view_count": null,
            "_view_module": "@jupyter-widgets/controls",
            "_view_module_version": "1.5.0",
            "_view_name": "HTMLView",
            "description": "",
            "description_tooltip": null,
            "layout": "IPY_MODEL_8e8eeecfc787472e8373ca02da30cccb",
            "placeholder": "​",
            "style": "IPY_MODEL_785b5f809ae3443ba2c541591f7845b9",
            "value": " 5/5 [00:00&lt;00:00, 428.22it/s]"
          }
        },
        "dd9ec7ec99bd4bfd993cb02bf65c107d": {
          "model_module": "@jupyter-widgets/base",
          "model_name": "LayoutModel",
          "model_module_version": "1.2.0",
          "state": {
            "_model_module": "@jupyter-widgets/base",
            "_model_module_version": "1.2.0",
            "_model_name": "LayoutModel",
            "_view_count": null,
            "_view_module": "@jupyter-widgets/base",
            "_view_module_version": "1.2.0",
            "_view_name": "LayoutView",
            "align_content": null,
            "align_items": null,
            "align_self": null,
            "border": null,
            "bottom": null,
            "display": null,
            "flex": null,
            "flex_flow": null,
            "grid_area": null,
            "grid_auto_columns": null,
            "grid_auto_flow": null,
            "grid_auto_rows": null,
            "grid_column": null,
            "grid_gap": null,
            "grid_row": null,
            "grid_template_areas": null,
            "grid_template_columns": null,
            "grid_template_rows": null,
            "height": null,
            "justify_content": null,
            "justify_items": null,
            "left": null,
            "margin": null,
            "max_height": null,
            "max_width": null,
            "min_height": null,
            "min_width": null,
            "object_fit": null,
            "object_position": null,
            "order": null,
            "overflow": null,
            "overflow_x": null,
            "overflow_y": null,
            "padding": null,
            "right": null,
            "top": null,
            "visibility": null,
            "width": null
          }
        },
        "86fa6e9c329140b598550c26a7f10d7d": {
          "model_module": "@jupyter-widgets/base",
          "model_name": "LayoutModel",
          "model_module_version": "1.2.0",
          "state": {
            "_model_module": "@jupyter-widgets/base",
            "_model_module_version": "1.2.0",
            "_model_name": "LayoutModel",
            "_view_count": null,
            "_view_module": "@jupyter-widgets/base",
            "_view_module_version": "1.2.0",
            "_view_name": "LayoutView",
            "align_content": null,
            "align_items": null,
            "align_self": null,
            "border": null,
            "bottom": null,
            "display": null,
            "flex": null,
            "flex_flow": null,
            "grid_area": null,
            "grid_auto_columns": null,
            "grid_auto_flow": null,
            "grid_auto_rows": null,
            "grid_column": null,
            "grid_gap": null,
            "grid_row": null,
            "grid_template_areas": null,
            "grid_template_columns": null,
            "grid_template_rows": null,
            "height": null,
            "justify_content": null,
            "justify_items": null,
            "left": null,
            "margin": null,
            "max_height": null,
            "max_width": null,
            "min_height": null,
            "min_width": null,
            "object_fit": null,
            "object_position": null,
            "order": null,
            "overflow": null,
            "overflow_x": null,
            "overflow_y": null,
            "padding": null,
            "right": null,
            "top": null,
            "visibility": null,
            "width": null
          }
        },
        "3c7c6a05dd3e43f2be64435bcb64dd93": {
          "model_module": "@jupyter-widgets/controls",
          "model_name": "DescriptionStyleModel",
          "model_module_version": "1.5.0",
          "state": {
            "_model_module": "@jupyter-widgets/controls",
            "_model_module_version": "1.5.0",
            "_model_name": "DescriptionStyleModel",
            "_view_count": null,
            "_view_module": "@jupyter-widgets/base",
            "_view_module_version": "1.2.0",
            "_view_name": "StyleView",
            "description_width": ""
          }
        },
        "dffa24e7dc9c42219ff690d23bd16a75": {
          "model_module": "@jupyter-widgets/base",
          "model_name": "LayoutModel",
          "model_module_version": "1.2.0",
          "state": {
            "_model_module": "@jupyter-widgets/base",
            "_model_module_version": "1.2.0",
            "_model_name": "LayoutModel",
            "_view_count": null,
            "_view_module": "@jupyter-widgets/base",
            "_view_module_version": "1.2.0",
            "_view_name": "LayoutView",
            "align_content": null,
            "align_items": null,
            "align_self": null,
            "border": null,
            "bottom": null,
            "display": null,
            "flex": null,
            "flex_flow": null,
            "grid_area": null,
            "grid_auto_columns": null,
            "grid_auto_flow": null,
            "grid_auto_rows": null,
            "grid_column": null,
            "grid_gap": null,
            "grid_row": null,
            "grid_template_areas": null,
            "grid_template_columns": null,
            "grid_template_rows": null,
            "height": null,
            "justify_content": null,
            "justify_items": null,
            "left": null,
            "margin": null,
            "max_height": null,
            "max_width": null,
            "min_height": null,
            "min_width": null,
            "object_fit": null,
            "object_position": null,
            "order": null,
            "overflow": null,
            "overflow_x": null,
            "overflow_y": null,
            "padding": null,
            "right": null,
            "top": null,
            "visibility": null,
            "width": null
          }
        },
        "0219495c1ee34b3fa8499d276ad37d4c": {
          "model_module": "@jupyter-widgets/controls",
          "model_name": "ProgressStyleModel",
          "model_module_version": "1.5.0",
          "state": {
            "_model_module": "@jupyter-widgets/controls",
            "_model_module_version": "1.5.0",
            "_model_name": "ProgressStyleModel",
            "_view_count": null,
            "_view_module": "@jupyter-widgets/base",
            "_view_module_version": "1.2.0",
            "_view_name": "StyleView",
            "bar_color": null,
            "description_width": ""
          }
        },
        "8e8eeecfc787472e8373ca02da30cccb": {
          "model_module": "@jupyter-widgets/base",
          "model_name": "LayoutModel",
          "model_module_version": "1.2.0",
          "state": {
            "_model_module": "@jupyter-widgets/base",
            "_model_module_version": "1.2.0",
            "_model_name": "LayoutModel",
            "_view_count": null,
            "_view_module": "@jupyter-widgets/base",
            "_view_module_version": "1.2.0",
            "_view_name": "LayoutView",
            "align_content": null,
            "align_items": null,
            "align_self": null,
            "border": null,
            "bottom": null,
            "display": null,
            "flex": null,
            "flex_flow": null,
            "grid_area": null,
            "grid_auto_columns": null,
            "grid_auto_flow": null,
            "grid_auto_rows": null,
            "grid_column": null,
            "grid_gap": null,
            "grid_row": null,
            "grid_template_areas": null,
            "grid_template_columns": null,
            "grid_template_rows": null,
            "height": null,
            "justify_content": null,
            "justify_items": null,
            "left": null,
            "margin": null,
            "max_height": null,
            "max_width": null,
            "min_height": null,
            "min_width": null,
            "object_fit": null,
            "object_position": null,
            "order": null,
            "overflow": null,
            "overflow_x": null,
            "overflow_y": null,
            "padding": null,
            "right": null,
            "top": null,
            "visibility": null,
            "width": null
          }
        },
        "785b5f809ae3443ba2c541591f7845b9": {
          "model_module": "@jupyter-widgets/controls",
          "model_name": "DescriptionStyleModel",
          "model_module_version": "1.5.0",
          "state": {
            "_model_module": "@jupyter-widgets/controls",
            "_model_module_version": "1.5.0",
            "_model_name": "DescriptionStyleModel",
            "_view_count": null,
            "_view_module": "@jupyter-widgets/base",
            "_view_module_version": "1.2.0",
            "_view_name": "StyleView",
            "description_width": ""
          }
        }
      }
    }
  },
  "nbformat": 4,
  "nbformat_minor": 0
}